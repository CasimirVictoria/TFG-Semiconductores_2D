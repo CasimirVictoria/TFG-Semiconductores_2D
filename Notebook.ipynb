{
 "cells": [
  {
   "cell_type": "markdown",
   "id": "elegant-quick",
   "metadata": {},
   "source": [
    "# Puebas\n",
    "Me paso del org-mode a jupyter-notebook, porque es más cómodo, y esta más extendido su uso, para probar el código. Para realizar el TFG seguramente sí use org -mode para generar el documento en $\\LaTeX$.\n",
    "\n",
    "Por ahora no he hecho nada, sólo estoy probando el código que ya había escrito (y que tengo que reacer). Una ventaja es que se pueden visualizar más o menos correctamente los churros de matrices que salen."
   ]
  },
  {
   "cell_type": "code",
   "execution_count": 1,
   "id": "prostate-prisoner",
   "metadata": {},
   "outputs": [],
   "source": [
    "from sympy import *\n",
    "import pandas as pd\n",
    "a=Symbol('a', real=True, positive=True)\n",
    "q_x=Symbol('q_x', real=True);  q_y=Symbol('q_y', real=True)\n",
    "q=Matrix([q_x,q_y])\n",
    "a_1=Matrix([a,0]); a_2=Rational(1,2)*Matrix([-a,sqrt(3)*a])\n",
    "R_B=Rational(1,3)*a_1+Rational(2,3)*a_2; R_N=Rational(2,3)*a_1+Rational(1,3)*a_2\n",
    "\n",
    "alpha_1=Symbol('alpha_1') #constante de fuerza entre 1eros vecinos\n",
    "alpha_2=Symbol('alpha_2') #constante de fuerza entre 2ndos vecinos\n",
    "alpha_3=Symbol('alpha_3') #constante de fuerza entre 3eros vecinos\n",
    "alpha_4=Symbol('alpha_4') #constante de fuerza entre 4tos  vecinos\n",
    "\n",
    "m_1, m_2, omega=symbols(\"m_1, m_2, omega\") #masa de los átomos de Boro y N.\n",
    "A_1_x, A_1_y, A_1_z, A_2_x, A_2_y, A_2_z = symbols(\"A_1_x, A_1_y, A_1_z, A_2_x, A_2_y, A_2_z\")\n",
    "A=Matrix([A_1_x,A_1_y,A_1_z,A_2_x,A_2_y,A_2_z])\n",
    "\n",
    "def A_plano(nu):\n",
    "    if nu == 1:\n",
    "        return Matrix([A_1_x,A_1_y])\n",
    "\n",
    "    elif nu == 2:\n",
    "        return Matrix([A_2_x,A_2_y])\n",
    "\n",
    "    else:\n",
    "        print(\"Error, nu sólo puede se 1 o 2\")\n",
    "\n",
    "def A_perp_plano(nu):\n",
    "    if nu == 1:\n",
    "        return A_1_z\n",
    "\n",
    "    elif nu == 2:\n",
    "        return A_2_z\n",
    "\n",
    "    else:\n",
    "        print(\"Error, nu sólo puede se 1 o 2\")\n",
    "\n",
    "\n",
    "def R_l(l_1,l_2):\n",
    "    return l_1*a_1+l_2*a_2\n",
    "\n",
    "def R_nu_l(nu,l_1,l_2):\n",
    "    if nu == 1:\n",
    "        return l_1*a_1+l_2*a_2+R_B\n",
    "\n",
    "    elif nu == 2:\n",
    "        return l_1*a_1+l_2*a_2+R_N\n",
    "\n",
    "    else:\n",
    "        print(\"Error, nu solo puede ser 1 o 2 \")\n",
    "\n",
    "def R_hat(nuprima,nu,l_1,l_2):\n",
    "    if (R_nu_l(nu,l_1,l_2)-R_nu_l(nuprima,0,0)).norm()>0:\n",
    "        return (R_nu_l(nu,l_1,l_2)-R_nu_l(nuprima,0,0))/(R_nu_l(nu,l_1,l_2)-R_nu_l(nuprima,0,0)).norm()\n",
    "\n",
    "    else:\n",
    "        return (R_nu_l(nu,l_1,l_2)-R_nu_l(nuprima,0,0))\n",
    "\n",
    "def propiedades_atomos(l_1, l_2):\n",
    "    return [ (k, m, i, j, R_hat(k,m,i,j)*R_hat(k,m,i,j).T*\n",
    "              (A_plano(m)*exp(I*q.dot(R_l(i,j)))-A_plano(k)),\n",
    "              Matrix([A_perp_plano(m)*exp(I*q.dot(R_l(i,j))) \n",
    "              -A_perp_plano(k)]), (R_nu_l(m,i,j)-R_nu_l(k,0,0)).norm()/a)\n",
    "              for k in [1,2] for m in [1,2] for i in range(-l_1,l_1+1) for j in range(-l_2,l_2+1)]\n",
    "\n",
    "columnas = [r\"$\\nu\\prime$\",r\"$\\nu\",r\"$l_1$\", r\"$l_2$\",'Ecuación','Ecuación perp.','Distancia']\n",
    "\n",
    "def Atomos(l_1, l_2):\n",
    "    return pd.DataFrame(propiedades_atomos(l_1, l_2),columns=columnas).sort_values(['Distancia',r\"$\\nu\\prime$\"], ascending=[True, True])\n",
    "\n",
    "PrimerosVecinosBoro= Atomos(1,1)[(Atomos(1,1)['Distancia']<0.9) & (Atomos(1,1)['Distancia']>0) & (Atomos(1,1)[r\"$\\nu\\prime$\"]==1)]\n",
    "\n",
    "PrimerosVecinosNitrogeno= Atomos(1,1)[(Atomos(1,1)['Distancia']<0.9) & (Atomos(1,1)['Distancia']>0) & (Atomos(1,1)[r\"$\\nu\\prime$\"]==2)]\n",
    "\n",
    "SegundosVecinosBoro= Atomos(1,1)[(Atomos(1,1)['Distancia']>0.9) & (Atomos(1,1)['Distancia']<1.1) & (Atomos(1,1)[r\"$\\nu\\prime$\"]==1)]\n",
    "\n",
    "SegundosVecinosNitrogeno= Atomos(1,1)[(Atomos(1,1)['Distancia']>0.9) & (Atomos(1,1)['Distancia']<1.1) & (Atomos(1,1)[r\"$\\nu\\prime$\"]==2)]\n",
    "\n",
    "TercerosVecinosBoro= Atomos(1,1)[(Atomos(1,1)['Distancia']>1.1) & (Atomos(1,1)['Distancia']<1.5) & (Atomos(1,1)[r\"$\\nu\\prime$\"]==1)]\n",
    "\n",
    "TercerosVecinosNitrogeno= Atomos(1,1)[(Atomos(1,1)['Distancia']> 1.1) &  (Atomos(1,1)['Distancia']<1.5) & (Atomos(1,1)[r\"$\\nu\\prime$\"]==2)]\n",
    "\n",
    "CuartosVecinosBoro= Atomos(2,2)[(Atomos(2,2)['Distancia']>1.5) & (Atomos(2,2)['Distancia']<1.7) & (Atomos(2,2)[r\"$\\nu\\prime$\"]==1)]\n",
    "\n",
    "CuartosVecinosNitrogeno= Atomos(2,2)[(Atomos(2,2)['Distancia']> 1.5) & (Atomos(2,2)['Distancia']<1.7) & (Atomos(2,2)[r\"$\\nu\\prime$\"]==2)]"
   ]
  },
  {
   "cell_type": "code",
   "execution_count": 2,
   "id": "computational-patent",
   "metadata": {
    "scrolled": true
   },
   "outputs": [],
   "source": [
    "M1=PrimerosVecinosBoro['Ecuación'].sum().row_insert(2, \n",
    "                      PrimerosVecinosBoro['Ecuación perp.'].sum()).row_insert(3, \n",
    "                      PrimerosVecinosNitrogeno['Ecuación'].sum()).row_insert(5, \n",
    "                      PrimerosVecinosNitrogeno['Ecuación perp.'].sum())\n",
    "Mat1=Matrix([M1[i].coeff(j) for i in range(0,6) for j in \n",
    "             [A_1_x, A_1_y, A_1_z, A_2_x, A_2_y,A_2_z]]).reshape(6,6)\n",
    "\n",
    "M2=SegundosVecinosBoro['Ecuación'].sum().row_insert(2, \n",
    "                      SegundosVecinosBoro['Ecuación perp.'].sum()).row_insert(3, \n",
    "                      SegundosVecinosNitrogeno['Ecuación'].sum()).row_insert(5, \n",
    "                      SegundosVecinosNitrogeno['Ecuación perp.'].sum())\n",
    "\n",
    "Mat2=Matrix([M2[i].coeff(j) for i in range(0,6) for j in \n",
    "             [A_1_x, A_1_y, A_1_z, A_2_x, A_2_y,A_2_z]]).reshape(6,6)\n",
    "\n",
    "M3=TercerosVecinosBoro['Ecuación'].sum().row_insert(2, \n",
    "                      TercerosVecinosBoro['Ecuación perp.'].sum()).row_insert(3, \n",
    "                      TercerosVecinosNitrogeno['Ecuación'].sum()).row_insert(5, \n",
    "                      TercerosVecinosNitrogeno['Ecuación perp.'].sum())\n",
    "\n",
    "Mat3=Matrix([M3[i].coeff(j) for i in range(0,6) for j in \n",
    "        [A_1_x, A_1_y, A_1_z, A_2_x, A_2_y,A_2_z]]).reshape(6,6)\n",
    "\n",
    "M4=CuartosVecinosBoro['Ecuación'].sum().row_insert(2, \n",
    "                      CuartosVecinosBoro['Ecuación perp.'].sum()).row_insert(3, \n",
    "                      CuartosVecinosNitrogeno['Ecuación'].sum()).row_insert(5, \n",
    "                      CuartosVecinosNitrogeno['Ecuación perp.'].sum())\n",
    "Mat4=Matrix([M4[i].coeff(j) for i in range(0,6) for j in \n",
    "        [A_1_x, A_1_y, A_1_z, A_2_x, A_2_y,A_2_z]]).reshape(6,6)"
   ]
  },
  {
   "cell_type": "code",
   "execution_count": 3,
   "id": "molecular-kennedy",
   "metadata": {},
   "outputs": [
    {
     "data": {
      "text/latex": [
       "$\\displaystyle \\left[\\begin{matrix}- \\frac{3}{2} & 0 & 0 & \\frac{3}{4} + \\frac{3 e^{- i a q_{x}}}{4} & 0 & 0\\\\0 & - \\frac{3}{2} & 0 & 0 & e^{i \\left(- \\frac{a q_{x}}{2} + \\frac{\\sqrt{3} a q_{y}}{2}\\right)} + \\frac{1}{4} + \\frac{e^{- i a q_{x}}}{4} & 0\\\\0 & 0 & -3 & 0 & 0 & e^{i \\left(- \\frac{a q_{x}}{2} + \\frac{\\sqrt{3} a q_{y}}{2}\\right)} + 1 + e^{- i a q_{x}}\\\\\\frac{3 e^{i a q_{x}}}{4} + \\frac{3}{4} & 0 & 0 & - \\frac{3}{2} & 0 & 0\\\\0 & e^{i \\left(\\frac{a q_{x}}{2} - \\frac{\\sqrt{3} a q_{y}}{2}\\right)} + \\frac{e^{i a q_{x}}}{4} + \\frac{1}{4} & 0 & 0 & - \\frac{3}{2} & 0\\\\0 & 0 & e^{i \\left(\\frac{a q_{x}}{2} - \\frac{\\sqrt{3} a q_{y}}{2}\\right)} + e^{i a q_{x}} + 1 & 0 & 0 & -3\\end{matrix}\\right]$"
      ],
      "text/plain": [
       "Matrix([\n",
       "[                  -3/2,                                                         0,                                                     0, 3/4 + 3*exp(-I*a*q_x)/4,                                                           0,                                                       0],\n",
       "[                     0,                                                      -3/2,                                                     0,                       0, exp(I*(-a*q_x/2 + sqrt(3)*a*q_y/2)) + 1/4 + exp(-I*a*q_x)/4,                                                       0],\n",
       "[                     0,                                                         0,                                                    -3,                       0,                                                           0, exp(I*(-a*q_x/2 + sqrt(3)*a*q_y/2)) + 1 + exp(-I*a*q_x)],\n",
       "[3*exp(I*a*q_x)/4 + 3/4,                                                         0,                                                     0,                    -3/2,                                                           0,                                                       0],\n",
       "[                     0, exp(I*(a*q_x/2 - sqrt(3)*a*q_y/2)) + exp(I*a*q_x)/4 + 1/4,                                                     0,                       0,                                                        -3/2,                                                       0],\n",
       "[                     0,                                                         0, exp(I*(a*q_x/2 - sqrt(3)*a*q_y/2)) + exp(I*a*q_x) + 1,                       0,                                                           0,                                                      -3]])"
      ]
     },
     "execution_count": 3,
     "metadata": {},
     "output_type": "execute_result"
    }
   ],
   "source": [
    "Mat1"
   ]
  },
  {
   "cell_type": "code",
   "execution_count": 4,
   "id": "effective-employment",
   "metadata": {},
   "outputs": [
    {
     "data": {
      "text/latex": [
       "$\\displaystyle \\left[\\begin{matrix}\\frac{e^{i \\left(- \\frac{a q_{x}}{2} - \\frac{\\sqrt{3} a q_{y}}{2}\\right)}}{4} + \\frac{e^{i \\left(- \\frac{a q_{x}}{2} + \\frac{\\sqrt{3} a q_{y}}{2}\\right)}}{4} + \\frac{e^{i \\left(\\frac{a q_{x}}{2} - \\frac{\\sqrt{3} a q_{y}}{2}\\right)}}{4} + \\frac{e^{i \\left(\\frac{a q_{x}}{2} + \\frac{\\sqrt{3} a q_{y}}{2}\\right)}}{4} + e^{i a q_{x}} - 3 + e^{- i a q_{x}} & 0 & 0 & 0 & 0 & 0\\\\0 & \\frac{3 e^{i \\left(- \\frac{a q_{x}}{2} - \\frac{\\sqrt{3} a q_{y}}{2}\\right)}}{4} + \\frac{3 e^{i \\left(- \\frac{a q_{x}}{2} + \\frac{\\sqrt{3} a q_{y}}{2}\\right)}}{4} + \\frac{3 e^{i \\left(\\frac{a q_{x}}{2} - \\frac{\\sqrt{3} a q_{y}}{2}\\right)}}{4} + \\frac{3 e^{i \\left(\\frac{a q_{x}}{2} + \\frac{\\sqrt{3} a q_{y}}{2}\\right)}}{4} - 3 & 0 & 0 & 0 & 0\\\\0 & 0 & e^{i \\left(- \\frac{a q_{x}}{2} - \\frac{\\sqrt{3} a q_{y}}{2}\\right)} + e^{i \\left(- \\frac{a q_{x}}{2} + \\frac{\\sqrt{3} a q_{y}}{2}\\right)} + e^{i \\left(\\frac{a q_{x}}{2} - \\frac{\\sqrt{3} a q_{y}}{2}\\right)} + e^{i \\left(\\frac{a q_{x}}{2} + \\frac{\\sqrt{3} a q_{y}}{2}\\right)} + e^{i a q_{x}} - 6 + e^{- i a q_{x}} & 0 & 0 & 0\\\\0 & 0 & 0 & \\frac{e^{i \\left(- \\frac{a q_{x}}{2} - \\frac{\\sqrt{3} a q_{y}}{2}\\right)}}{4} + \\frac{e^{i \\left(- \\frac{a q_{x}}{2} + \\frac{\\sqrt{3} a q_{y}}{2}\\right)}}{4} + \\frac{e^{i \\left(\\frac{a q_{x}}{2} - \\frac{\\sqrt{3} a q_{y}}{2}\\right)}}{4} + \\frac{e^{i \\left(\\frac{a q_{x}}{2} + \\frac{\\sqrt{3} a q_{y}}{2}\\right)}}{4} + e^{i a q_{x}} - 3 + e^{- i a q_{x}} & 0 & 0\\\\0 & 0 & 0 & 0 & \\frac{3 e^{i \\left(- \\frac{a q_{x}}{2} - \\frac{\\sqrt{3} a q_{y}}{2}\\right)}}{4} + \\frac{3 e^{i \\left(- \\frac{a q_{x}}{2} + \\frac{\\sqrt{3} a q_{y}}{2}\\right)}}{4} + \\frac{3 e^{i \\left(\\frac{a q_{x}}{2} - \\frac{\\sqrt{3} a q_{y}}{2}\\right)}}{4} + \\frac{3 e^{i \\left(\\frac{a q_{x}}{2} + \\frac{\\sqrt{3} a q_{y}}{2}\\right)}}{4} - 3 & 0\\\\0 & 0 & 0 & 0 & 0 & e^{i \\left(- \\frac{a q_{x}}{2} - \\frac{\\sqrt{3} a q_{y}}{2}\\right)} + e^{i \\left(- \\frac{a q_{x}}{2} + \\frac{\\sqrt{3} a q_{y}}{2}\\right)} + e^{i \\left(\\frac{a q_{x}}{2} - \\frac{\\sqrt{3} a q_{y}}{2}\\right)} + e^{i \\left(\\frac{a q_{x}}{2} + \\frac{\\sqrt{3} a q_{y}}{2}\\right)} + e^{i a q_{x}} - 6 + e^{- i a q_{x}}\\end{matrix}\\right]$"
      ],
      "text/plain": [
       "Matrix([\n",
       "[exp(I*(-a*q_x/2 - sqrt(3)*a*q_y/2))/4 + exp(I*(-a*q_x/2 + sqrt(3)*a*q_y/2))/4 + exp(I*(a*q_x/2 - sqrt(3)*a*q_y/2))/4 + exp(I*(a*q_x/2 + sqrt(3)*a*q_y/2))/4 + exp(I*a*q_x) - 3 + exp(-I*a*q_x),                                                                                                                                                                       0,                                                                                                                                                                                      0,                                                                                                                                                                                              0,                                                                                                                                                                       0,                                                                                                                                                                                      0],\n",
       "[                                                                                                                                                                                             0, 3*exp(I*(-a*q_x/2 - sqrt(3)*a*q_y/2))/4 + 3*exp(I*(-a*q_x/2 + sqrt(3)*a*q_y/2))/4 + 3*exp(I*(a*q_x/2 - sqrt(3)*a*q_y/2))/4 + 3*exp(I*(a*q_x/2 + sqrt(3)*a*q_y/2))/4 - 3,                                                                                                                                                                                      0,                                                                                                                                                                                              0,                                                                                                                                                                       0,                                                                                                                                                                                      0],\n",
       "[                                                                                                                                                                                             0,                                                                                                                                                                       0, exp(I*(-a*q_x/2 - sqrt(3)*a*q_y/2)) + exp(I*(-a*q_x/2 + sqrt(3)*a*q_y/2)) + exp(I*(a*q_x/2 - sqrt(3)*a*q_y/2)) + exp(I*(a*q_x/2 + sqrt(3)*a*q_y/2)) + exp(I*a*q_x) - 6 + exp(-I*a*q_x),                                                                                                                                                                                              0,                                                                                                                                                                       0,                                                                                                                                                                                      0],\n",
       "[                                                                                                                                                                                             0,                                                                                                                                                                       0,                                                                                                                                                                                      0, exp(I*(-a*q_x/2 - sqrt(3)*a*q_y/2))/4 + exp(I*(-a*q_x/2 + sqrt(3)*a*q_y/2))/4 + exp(I*(a*q_x/2 - sqrt(3)*a*q_y/2))/4 + exp(I*(a*q_x/2 + sqrt(3)*a*q_y/2))/4 + exp(I*a*q_x) - 3 + exp(-I*a*q_x),                                                                                                                                                                       0,                                                                                                                                                                                      0],\n",
       "[                                                                                                                                                                                             0,                                                                                                                                                                       0,                                                                                                                                                                                      0,                                                                                                                                                                                              0, 3*exp(I*(-a*q_x/2 - sqrt(3)*a*q_y/2))/4 + 3*exp(I*(-a*q_x/2 + sqrt(3)*a*q_y/2))/4 + 3*exp(I*(a*q_x/2 - sqrt(3)*a*q_y/2))/4 + 3*exp(I*(a*q_x/2 + sqrt(3)*a*q_y/2))/4 - 3,                                                                                                                                                                                      0],\n",
       "[                                                                                                                                                                                             0,                                                                                                                                                                       0,                                                                                                                                                                                      0,                                                                                                                                                                                              0,                                                                                                                                                                       0, exp(I*(-a*q_x/2 - sqrt(3)*a*q_y/2)) + exp(I*(-a*q_x/2 + sqrt(3)*a*q_y/2)) + exp(I*(a*q_x/2 - sqrt(3)*a*q_y/2)) + exp(I*(a*q_x/2 + sqrt(3)*a*q_y/2)) + exp(I*a*q_x) - 6 + exp(-I*a*q_x)]])"
      ]
     },
     "execution_count": 4,
     "metadata": {},
     "output_type": "execute_result"
    }
   ],
   "source": [
    "Mat2"
   ]
  },
  {
   "cell_type": "code",
   "execution_count": 5,
   "id": "brazilian-raleigh",
   "metadata": {},
   "outputs": [
    {
     "data": {
      "text/latex": [
       "$\\displaystyle \\left[\\begin{matrix}- \\frac{3}{2} & 0 & 0 & \\frac{3 e^{i \\left(- \\frac{3 a q_{x}}{2} + \\frac{\\sqrt{3} a q_{y}}{2}\\right)}}{4} + \\frac{3 e^{i \\left(\\frac{a q_{x}}{2} + \\frac{\\sqrt{3} a q_{y}}{2}\\right)}}{4} & 0 & 0\\\\0 & - \\frac{3}{2} & 0 & 0 & \\frac{e^{i \\left(- \\frac{3 a q_{x}}{2} + \\frac{\\sqrt{3} a q_{y}}{2}\\right)}}{4} + e^{i \\left(- \\frac{a q_{x}}{2} - \\frac{\\sqrt{3} a q_{y}}{2}\\right)} + \\frac{e^{i \\left(\\frac{a q_{x}}{2} + \\frac{\\sqrt{3} a q_{y}}{2}\\right)}}{4} & 0\\\\0 & 0 & -3 & 0 & 0 & e^{i \\left(- \\frac{3 a q_{x}}{2} + \\frac{\\sqrt{3} a q_{y}}{2}\\right)} + e^{i \\left(- \\frac{a q_{x}}{2} - \\frac{\\sqrt{3} a q_{y}}{2}\\right)} + e^{i \\left(\\frac{a q_{x}}{2} + \\frac{\\sqrt{3} a q_{y}}{2}\\right)}\\\\\\frac{3 e^{i \\left(- \\frac{a q_{x}}{2} - \\frac{\\sqrt{3} a q_{y}}{2}\\right)}}{4} + \\frac{3 e^{i \\left(\\frac{3 a q_{x}}{2} - \\frac{\\sqrt{3} a q_{y}}{2}\\right)}}{4} & 0 & 0 & - \\frac{3}{2} & 0 & 0\\\\0 & \\frac{e^{i \\left(- \\frac{a q_{x}}{2} - \\frac{\\sqrt{3} a q_{y}}{2}\\right)}}{4} + e^{i \\left(\\frac{a q_{x}}{2} + \\frac{\\sqrt{3} a q_{y}}{2}\\right)} + \\frac{e^{i \\left(\\frac{3 a q_{x}}{2} - \\frac{\\sqrt{3} a q_{y}}{2}\\right)}}{4} & 0 & 0 & - \\frac{3}{2} & 0\\\\0 & 0 & e^{i \\left(- \\frac{a q_{x}}{2} - \\frac{\\sqrt{3} a q_{y}}{2}\\right)} + e^{i \\left(\\frac{a q_{x}}{2} + \\frac{\\sqrt{3} a q_{y}}{2}\\right)} + e^{i \\left(\\frac{3 a q_{x}}{2} - \\frac{\\sqrt{3} a q_{y}}{2}\\right)} & 0 & 0 & -3\\end{matrix}\\right]$"
      ],
      "text/plain": [
       "Matrix([\n",
       "[                                                                              -3/2,                                                                                                                   0,                                                                                                               0, 3*exp(I*(-3*a*q_x/2 + sqrt(3)*a*q_y/2))/4 + 3*exp(I*(a*q_x/2 + sqrt(3)*a*q_y/2))/4,                                                                                                                    0,                                                                                                                0],\n",
       "[                                                                                 0,                                                                                                                -3/2,                                                                                                               0,                                                                                  0, exp(I*(-3*a*q_x/2 + sqrt(3)*a*q_y/2))/4 + exp(I*(-a*q_x/2 - sqrt(3)*a*q_y/2)) + exp(I*(a*q_x/2 + sqrt(3)*a*q_y/2))/4,                                                                                                                0],\n",
       "[                                                                                 0,                                                                                                                   0,                                                                                                              -3,                                                                                  0,                                                                                                                    0, exp(I*(-3*a*q_x/2 + sqrt(3)*a*q_y/2)) + exp(I*(-a*q_x/2 - sqrt(3)*a*q_y/2)) + exp(I*(a*q_x/2 + sqrt(3)*a*q_y/2))],\n",
       "[3*exp(I*(-a*q_x/2 - sqrt(3)*a*q_y/2))/4 + 3*exp(I*(3*a*q_x/2 - sqrt(3)*a*q_y/2))/4,                                                                                                                   0,                                                                                                               0,                                                                               -3/2,                                                                                                                    0,                                                                                                                0],\n",
       "[                                                                                 0, exp(I*(-a*q_x/2 - sqrt(3)*a*q_y/2))/4 + exp(I*(a*q_x/2 + sqrt(3)*a*q_y/2)) + exp(I*(3*a*q_x/2 - sqrt(3)*a*q_y/2))/4,                                                                                                               0,                                                                                  0,                                                                                                                 -3/2,                                                                                                                0],\n",
       "[                                                                                 0,                                                                                                                   0, exp(I*(-a*q_x/2 - sqrt(3)*a*q_y/2)) + exp(I*(a*q_x/2 + sqrt(3)*a*q_y/2)) + exp(I*(3*a*q_x/2 - sqrt(3)*a*q_y/2)),                                                                                  0,                                                                                                                    0,                                                                                                               -3]])"
      ]
     },
     "execution_count": 5,
     "metadata": {},
     "output_type": "execute_result"
    }
   ],
   "source": [
    "Mat3"
   ]
  },
  {
   "cell_type": "code",
   "execution_count": 6,
   "id": "integrated-shelter",
   "metadata": {},
   "outputs": [
    {
     "data": {
      "text/latex": [
       "$\\displaystyle \\left[\\begin{matrix}-3 & 0 & 0 & \\frac{3 e^{i \\left(- \\frac{3 a q_{x}}{2} - \\frac{\\sqrt{3} a q_{y}}{2}\\right)}}{7} + \\frac{3 e^{i \\left(- a q_{x} + \\sqrt{3} a q_{y}\\right)}}{28} + \\frac{3 e^{i \\left(\\frac{a q_{x}}{2} - \\frac{\\sqrt{3} a q_{y}}{2}\\right)}}{7} + \\frac{27 e^{i a q_{x}}}{28} + \\frac{3 e^{\\sqrt{3} i a q_{y}}}{28} + \\frac{27 e^{- 2 i a q_{x}}}{28} & 0 & 0\\\\0 & -3 & 0 & 0 & \\frac{4 e^{i \\left(- \\frac{3 a q_{x}}{2} - \\frac{\\sqrt{3} a q_{y}}{2}\\right)}}{7} + \\frac{25 e^{i \\left(- a q_{x} + \\sqrt{3} a q_{y}\\right)}}{28} + \\frac{4 e^{i \\left(\\frac{a q_{x}}{2} - \\frac{\\sqrt{3} a q_{y}}{2}\\right)}}{7} + \\frac{e^{i a q_{x}}}{28} + \\frac{25 e^{\\sqrt{3} i a q_{y}}}{28} + \\frac{e^{- 2 i a q_{x}}}{28} & 0\\\\0 & 0 & -6 & 0 & 0 & e^{i \\left(- \\frac{3 a q_{x}}{2} - \\frac{\\sqrt{3} a q_{y}}{2}\\right)} + e^{i \\left(- a q_{x} + \\sqrt{3} a q_{y}\\right)} + e^{i \\left(\\frac{a q_{x}}{2} - \\frac{\\sqrt{3} a q_{y}}{2}\\right)} + e^{i a q_{x}} + e^{\\sqrt{3} i a q_{y}} + e^{- 2 i a q_{x}}\\\\\\frac{3 e^{i \\left(- \\frac{a q_{x}}{2} + \\frac{\\sqrt{3} a q_{y}}{2}\\right)}}{7} + \\frac{3 e^{i \\left(a q_{x} - \\sqrt{3} a q_{y}\\right)}}{28} + \\frac{3 e^{i \\left(\\frac{3 a q_{x}}{2} + \\frac{\\sqrt{3} a q_{y}}{2}\\right)}}{7} + \\frac{27 e^{2 i a q_{x}}}{28} + \\frac{3 e^{- \\sqrt{3} i a q_{y}}}{28} + \\frac{27 e^{- i a q_{x}}}{28} & 0 & 0 & -3 & 0 & 0\\\\0 & \\frac{4 e^{i \\left(- \\frac{a q_{x}}{2} + \\frac{\\sqrt{3} a q_{y}}{2}\\right)}}{7} + \\frac{25 e^{i \\left(a q_{x} - \\sqrt{3} a q_{y}\\right)}}{28} + \\frac{4 e^{i \\left(\\frac{3 a q_{x}}{2} + \\frac{\\sqrt{3} a q_{y}}{2}\\right)}}{7} + \\frac{e^{2 i a q_{x}}}{28} + \\frac{25 e^{- \\sqrt{3} i a q_{y}}}{28} + \\frac{e^{- i a q_{x}}}{28} & 0 & 0 & -3 & 0\\\\0 & 0 & e^{i \\left(- \\frac{a q_{x}}{2} + \\frac{\\sqrt{3} a q_{y}}{2}\\right)} + e^{i \\left(a q_{x} - \\sqrt{3} a q_{y}\\right)} + e^{i \\left(\\frac{3 a q_{x}}{2} + \\frac{\\sqrt{3} a q_{y}}{2}\\right)} + e^{2 i a q_{x}} + e^{- \\sqrt{3} i a q_{y}} + e^{- i a q_{x}} & 0 & 0 & -6\\end{matrix}\\right]$"
      ],
      "text/plain": [
       "Matrix([\n",
       "[                                                                                                                                                                                                -3,                                                                                                                                                                                              0,                                                                                                                                                                    0, 3*exp(I*(-3*a*q_x/2 - sqrt(3)*a*q_y/2))/7 + 3*exp(I*(-a*q_x + sqrt(3)*a*q_y))/28 + 3*exp(I*(a*q_x/2 - sqrt(3)*a*q_y/2))/7 + 27*exp(I*a*q_x)/28 + 3*exp(sqrt(3)*I*a*q_y)/28 + 27*exp(-2*I*a*q_x)/28,                                                                                                                                                                                              0,                                                                                                                                                                    0],\n",
       "[                                                                                                                                                                                                 0,                                                                                                                                                                                             -3,                                                                                                                                                                    0,                                                                                                                                                                                                  0, 4*exp(I*(-3*a*q_x/2 - sqrt(3)*a*q_y/2))/7 + 25*exp(I*(-a*q_x + sqrt(3)*a*q_y))/28 + 4*exp(I*(a*q_x/2 - sqrt(3)*a*q_y/2))/7 + exp(I*a*q_x)/28 + 25*exp(sqrt(3)*I*a*q_y)/28 + exp(-2*I*a*q_x)/28,                                                                                                                                                                    0],\n",
       "[                                                                                                                                                                                                 0,                                                                                                                                                                                              0,                                                                                                                                                                   -6,                                                                                                                                                                                                  0,                                                                                                                                                                                              0, exp(I*(-3*a*q_x/2 - sqrt(3)*a*q_y/2)) + exp(I*(-a*q_x + sqrt(3)*a*q_y)) + exp(I*(a*q_x/2 - sqrt(3)*a*q_y/2)) + exp(I*a*q_x) + exp(sqrt(3)*I*a*q_y) + exp(-2*I*a*q_x)],\n",
       "[3*exp(I*(-a*q_x/2 + sqrt(3)*a*q_y/2))/7 + 3*exp(I*(a*q_x - sqrt(3)*a*q_y))/28 + 3*exp(I*(3*a*q_x/2 + sqrt(3)*a*q_y/2))/7 + 27*exp(2*I*a*q_x)/28 + 3*exp(-sqrt(3)*I*a*q_y)/28 + 27*exp(-I*a*q_x)/28,                                                                                                                                                                                              0,                                                                                                                                                                    0,                                                                                                                                                                                                 -3,                                                                                                                                                                                              0,                                                                                                                                                                    0],\n",
       "[                                                                                                                                                                                                 0, 4*exp(I*(-a*q_x/2 + sqrt(3)*a*q_y/2))/7 + 25*exp(I*(a*q_x - sqrt(3)*a*q_y))/28 + 4*exp(I*(3*a*q_x/2 + sqrt(3)*a*q_y/2))/7 + exp(2*I*a*q_x)/28 + 25*exp(-sqrt(3)*I*a*q_y)/28 + exp(-I*a*q_x)/28,                                                                                                                                                                    0,                                                                                                                                                                                                  0,                                                                                                                                                                                             -3,                                                                                                                                                                    0],\n",
       "[                                                                                                                                                                                                 0,                                                                                                                                                                                              0, exp(I*(-a*q_x/2 + sqrt(3)*a*q_y/2)) + exp(I*(a*q_x - sqrt(3)*a*q_y)) + exp(I*(3*a*q_x/2 + sqrt(3)*a*q_y/2)) + exp(2*I*a*q_x) + exp(-sqrt(3)*I*a*q_y) + exp(-I*a*q_x),                                                                                                                                                                                                  0,                                                                                                                                                                                              0,                                                                                                                                                                   -6]])"
      ]
     },
     "execution_count": 6,
     "metadata": {},
     "output_type": "execute_result"
    }
   ],
   "source": [
    "Mat4"
   ]
  },
  {
   "cell_type": "code",
   "execution_count": 7,
   "id": "fabulous-chicago",
   "metadata": {},
   "outputs": [
    {
     "data": {
      "text/latex": [
       "$\\displaystyle \\left[\\begin{matrix}\\frac{e^{i \\left(- \\frac{a q_{x}}{2} - \\frac{\\sqrt{3} a q_{y}}{2}\\right)}}{4} + \\frac{e^{i \\left(- \\frac{a q_{x}}{2} + \\frac{\\sqrt{3} a q_{y}}{2}\\right)}}{4} + \\frac{e^{i \\left(\\frac{a q_{x}}{2} - \\frac{\\sqrt{3} a q_{y}}{2}\\right)}}{4} + \\frac{e^{i \\left(\\frac{a q_{x}}{2} + \\frac{\\sqrt{3} a q_{y}}{2}\\right)}}{4} + e^{i a q_{x}} - 9 + e^{- i a q_{x}} & 0 & 0 & \\frac{3 e^{i \\left(- \\frac{3 a q_{x}}{2} - \\frac{\\sqrt{3} a q_{y}}{2}\\right)}}{7} + \\frac{3 e^{i \\left(- \\frac{3 a q_{x}}{2} + \\frac{\\sqrt{3} a q_{y}}{2}\\right)}}{4} + \\frac{3 e^{i \\left(- a q_{x} + \\sqrt{3} a q_{y}\\right)}}{28} + \\frac{3 e^{i \\left(\\frac{a q_{x}}{2} - \\frac{\\sqrt{3} a q_{y}}{2}\\right)}}{7} + \\frac{3 e^{i \\left(\\frac{a q_{x}}{2} + \\frac{\\sqrt{3} a q_{y}}{2}\\right)}}{4} + \\frac{27 e^{i a q_{x}}}{28} + \\frac{3 e^{\\sqrt{3} i a q_{y}}}{28} + \\frac{3}{4} + \\frac{3 e^{- i a q_{x}}}{4} + \\frac{27 e^{- 2 i a q_{x}}}{28} & 0 & 0\\\\0 & \\frac{3 e^{i \\left(- \\frac{a q_{x}}{2} - \\frac{\\sqrt{3} a q_{y}}{2}\\right)}}{4} + \\frac{3 e^{i \\left(- \\frac{a q_{x}}{2} + \\frac{\\sqrt{3} a q_{y}}{2}\\right)}}{4} + \\frac{3 e^{i \\left(\\frac{a q_{x}}{2} - \\frac{\\sqrt{3} a q_{y}}{2}\\right)}}{4} + \\frac{3 e^{i \\left(\\frac{a q_{x}}{2} + \\frac{\\sqrt{3} a q_{y}}{2}\\right)}}{4} - 9 & 0 & 0 & \\frac{4 e^{i \\left(- \\frac{3 a q_{x}}{2} - \\frac{\\sqrt{3} a q_{y}}{2}\\right)}}{7} + \\frac{e^{i \\left(- \\frac{3 a q_{x}}{2} + \\frac{\\sqrt{3} a q_{y}}{2}\\right)}}{4} + \\frac{25 e^{i \\left(- a q_{x} + \\sqrt{3} a q_{y}\\right)}}{28} + e^{i \\left(- \\frac{a q_{x}}{2} - \\frac{\\sqrt{3} a q_{y}}{2}\\right)} + e^{i \\left(- \\frac{a q_{x}}{2} + \\frac{\\sqrt{3} a q_{y}}{2}\\right)} + \\frac{4 e^{i \\left(\\frac{a q_{x}}{2} - \\frac{\\sqrt{3} a q_{y}}{2}\\right)}}{7} + \\frac{e^{i \\left(\\frac{a q_{x}}{2} + \\frac{\\sqrt{3} a q_{y}}{2}\\right)}}{4} + \\frac{e^{i a q_{x}}}{28} + \\frac{25 e^{\\sqrt{3} i a q_{y}}}{28} + \\frac{1}{4} + \\frac{e^{- i a q_{x}}}{4} + \\frac{e^{- 2 i a q_{x}}}{28} & 0\\\\0 & 0 & e^{i \\left(- \\frac{a q_{x}}{2} - \\frac{\\sqrt{3} a q_{y}}{2}\\right)} + e^{i \\left(- \\frac{a q_{x}}{2} + \\frac{\\sqrt{3} a q_{y}}{2}\\right)} + e^{i \\left(\\frac{a q_{x}}{2} - \\frac{\\sqrt{3} a q_{y}}{2}\\right)} + e^{i \\left(\\frac{a q_{x}}{2} + \\frac{\\sqrt{3} a q_{y}}{2}\\right)} + e^{i a q_{x}} - 18 + e^{- i a q_{x}} & 0 & 0 & e^{i \\left(- \\frac{3 a q_{x}}{2} - \\frac{\\sqrt{3} a q_{y}}{2}\\right)} + e^{i \\left(- \\frac{3 a q_{x}}{2} + \\frac{\\sqrt{3} a q_{y}}{2}\\right)} + e^{i \\left(- a q_{x} + \\sqrt{3} a q_{y}\\right)} + e^{i \\left(- \\frac{a q_{x}}{2} - \\frac{\\sqrt{3} a q_{y}}{2}\\right)} + e^{i \\left(- \\frac{a q_{x}}{2} + \\frac{\\sqrt{3} a q_{y}}{2}\\right)} + e^{i \\left(\\frac{a q_{x}}{2} - \\frac{\\sqrt{3} a q_{y}}{2}\\right)} + e^{i \\left(\\frac{a q_{x}}{2} + \\frac{\\sqrt{3} a q_{y}}{2}\\right)} + e^{i a q_{x}} + e^{\\sqrt{3} i a q_{y}} + 1 + e^{- i a q_{x}} + e^{- 2 i a q_{x}}\\\\\\frac{3 e^{i \\left(- \\frac{a q_{x}}{2} - \\frac{\\sqrt{3} a q_{y}}{2}\\right)}}{4} + \\frac{3 e^{i \\left(- \\frac{a q_{x}}{2} + \\frac{\\sqrt{3} a q_{y}}{2}\\right)}}{7} + \\frac{3 e^{i \\left(a q_{x} - \\sqrt{3} a q_{y}\\right)}}{28} + \\frac{3 e^{i \\left(\\frac{3 a q_{x}}{2} - \\frac{\\sqrt{3} a q_{y}}{2}\\right)}}{4} + \\frac{3 e^{i \\left(\\frac{3 a q_{x}}{2} + \\frac{\\sqrt{3} a q_{y}}{2}\\right)}}{7} + \\frac{27 e^{2 i a q_{x}}}{28} + \\frac{3 e^{i a q_{x}}}{4} + \\frac{3}{4} + \\frac{3 e^{- \\sqrt{3} i a q_{y}}}{28} + \\frac{27 e^{- i a q_{x}}}{28} & 0 & 0 & \\frac{e^{i \\left(- \\frac{a q_{x}}{2} - \\frac{\\sqrt{3} a q_{y}}{2}\\right)}}{4} + \\frac{e^{i \\left(- \\frac{a q_{x}}{2} + \\frac{\\sqrt{3} a q_{y}}{2}\\right)}}{4} + \\frac{e^{i \\left(\\frac{a q_{x}}{2} - \\frac{\\sqrt{3} a q_{y}}{2}\\right)}}{4} + \\frac{e^{i \\left(\\frac{a q_{x}}{2} + \\frac{\\sqrt{3} a q_{y}}{2}\\right)}}{4} + e^{i a q_{x}} - 9 + e^{- i a q_{x}} & 0 & 0\\\\0 & \\frac{e^{i \\left(- \\frac{a q_{x}}{2} - \\frac{\\sqrt{3} a q_{y}}{2}\\right)}}{4} + \\frac{4 e^{i \\left(- \\frac{a q_{x}}{2} + \\frac{\\sqrt{3} a q_{y}}{2}\\right)}}{7} + e^{i \\left(\\frac{a q_{x}}{2} - \\frac{\\sqrt{3} a q_{y}}{2}\\right)} + e^{i \\left(\\frac{a q_{x}}{2} + \\frac{\\sqrt{3} a q_{y}}{2}\\right)} + \\frac{25 e^{i \\left(a q_{x} - \\sqrt{3} a q_{y}\\right)}}{28} + \\frac{e^{i \\left(\\frac{3 a q_{x}}{2} - \\frac{\\sqrt{3} a q_{y}}{2}\\right)}}{4} + \\frac{4 e^{i \\left(\\frac{3 a q_{x}}{2} + \\frac{\\sqrt{3} a q_{y}}{2}\\right)}}{7} + \\frac{e^{2 i a q_{x}}}{28} + \\frac{e^{i a q_{x}}}{4} + \\frac{1}{4} + \\frac{25 e^{- \\sqrt{3} i a q_{y}}}{28} + \\frac{e^{- i a q_{x}}}{28} & 0 & 0 & \\frac{3 e^{i \\left(- \\frac{a q_{x}}{2} - \\frac{\\sqrt{3} a q_{y}}{2}\\right)}}{4} + \\frac{3 e^{i \\left(- \\frac{a q_{x}}{2} + \\frac{\\sqrt{3} a q_{y}}{2}\\right)}}{4} + \\frac{3 e^{i \\left(\\frac{a q_{x}}{2} - \\frac{\\sqrt{3} a q_{y}}{2}\\right)}}{4} + \\frac{3 e^{i \\left(\\frac{a q_{x}}{2} + \\frac{\\sqrt{3} a q_{y}}{2}\\right)}}{4} - 9 & 0\\\\0 & 0 & e^{i \\left(- \\frac{a q_{x}}{2} - \\frac{\\sqrt{3} a q_{y}}{2}\\right)} + e^{i \\left(- \\frac{a q_{x}}{2} + \\frac{\\sqrt{3} a q_{y}}{2}\\right)} + e^{i \\left(\\frac{a q_{x}}{2} - \\frac{\\sqrt{3} a q_{y}}{2}\\right)} + e^{i \\left(\\frac{a q_{x}}{2} + \\frac{\\sqrt{3} a q_{y}}{2}\\right)} + e^{i \\left(a q_{x} - \\sqrt{3} a q_{y}\\right)} + e^{i \\left(\\frac{3 a q_{x}}{2} - \\frac{\\sqrt{3} a q_{y}}{2}\\right)} + e^{i \\left(\\frac{3 a q_{x}}{2} + \\frac{\\sqrt{3} a q_{y}}{2}\\right)} + e^{2 i a q_{x}} + e^{i a q_{x}} + 1 + e^{- \\sqrt{3} i a q_{y}} + e^{- i a q_{x}} & 0 & 0 & e^{i \\left(- \\frac{a q_{x}}{2} - \\frac{\\sqrt{3} a q_{y}}{2}\\right)} + e^{i \\left(- \\frac{a q_{x}}{2} + \\frac{\\sqrt{3} a q_{y}}{2}\\right)} + e^{i \\left(\\frac{a q_{x}}{2} - \\frac{\\sqrt{3} a q_{y}}{2}\\right)} + e^{i \\left(\\frac{a q_{x}}{2} + \\frac{\\sqrt{3} a q_{y}}{2}\\right)} + e^{i a q_{x}} - 18 + e^{- i a q_{x}}\\end{matrix}\\right]$"
      ],
      "text/plain": [
       "Matrix([\n",
       "[                                                                                                                  exp(I*(-a*q_x/2 - sqrt(3)*a*q_y/2))/4 + exp(I*(-a*q_x/2 + sqrt(3)*a*q_y/2))/4 + exp(I*(a*q_x/2 - sqrt(3)*a*q_y/2))/4 + exp(I*(a*q_x/2 + sqrt(3)*a*q_y/2))/4 + exp(I*a*q_x) - 9 + exp(-I*a*q_x),                                                                                                                                                                                                                                                                                                                                                                                0,                                                                                                                                                                                                                                                                                                                                              0, 3*exp(I*(-3*a*q_x/2 - sqrt(3)*a*q_y/2))/7 + 3*exp(I*(-3*a*q_x/2 + sqrt(3)*a*q_y/2))/4 + 3*exp(I*(-a*q_x + sqrt(3)*a*q_y))/28 + 3*exp(I*(a*q_x/2 - sqrt(3)*a*q_y/2))/7 + 3*exp(I*(a*q_x/2 + sqrt(3)*a*q_y/2))/4 + 27*exp(I*a*q_x)/28 + 3*exp(sqrt(3)*I*a*q_y)/28 + 3/4 + 3*exp(-I*a*q_x)/4 + 27*exp(-2*I*a*q_x)/28,                                                                                                                                                                                                                                                                                                                                                                                   0,                                                                                                                                                                                                                                                                                                                                                 0],\n",
       "[                                                                                                                                                                                                                                                                                                               0,                                                                                                                                                                                                          3*exp(I*(-a*q_x/2 - sqrt(3)*a*q_y/2))/4 + 3*exp(I*(-a*q_x/2 + sqrt(3)*a*q_y/2))/4 + 3*exp(I*(a*q_x/2 - sqrt(3)*a*q_y/2))/4 + 3*exp(I*(a*q_x/2 + sqrt(3)*a*q_y/2))/4 - 9,                                                                                                                                                                                                                                                                                                                                              0,                                                                                                                                                                                                                                                                                                                 0, 4*exp(I*(-3*a*q_x/2 - sqrt(3)*a*q_y/2))/7 + exp(I*(-3*a*q_x/2 + sqrt(3)*a*q_y/2))/4 + 25*exp(I*(-a*q_x + sqrt(3)*a*q_y))/28 + exp(I*(-a*q_x/2 - sqrt(3)*a*q_y/2)) + exp(I*(-a*q_x/2 + sqrt(3)*a*q_y/2)) + 4*exp(I*(a*q_x/2 - sqrt(3)*a*q_y/2))/7 + exp(I*(a*q_x/2 + sqrt(3)*a*q_y/2))/4 + exp(I*a*q_x)/28 + 25*exp(sqrt(3)*I*a*q_y)/28 + 1/4 + exp(-I*a*q_x)/4 + exp(-2*I*a*q_x)/28,                                                                                                                                                                                                                                                                                                                                                 0],\n",
       "[                                                                                                                                                                                                                                                                                                               0,                                                                                                                                                                                                                                                                                                                                                                                0,                                                                                                                                                        exp(I*(-a*q_x/2 - sqrt(3)*a*q_y/2)) + exp(I*(-a*q_x/2 + sqrt(3)*a*q_y/2)) + exp(I*(a*q_x/2 - sqrt(3)*a*q_y/2)) + exp(I*(a*q_x/2 + sqrt(3)*a*q_y/2)) + exp(I*a*q_x) - 18 + exp(-I*a*q_x),                                                                                                                                                                                                                                                                                                                 0,                                                                                                                                                                                                                                                                                                                                                                                   0, exp(I*(-3*a*q_x/2 - sqrt(3)*a*q_y/2)) + exp(I*(-3*a*q_x/2 + sqrt(3)*a*q_y/2)) + exp(I*(-a*q_x + sqrt(3)*a*q_y)) + exp(I*(-a*q_x/2 - sqrt(3)*a*q_y/2)) + exp(I*(-a*q_x/2 + sqrt(3)*a*q_y/2)) + exp(I*(a*q_x/2 - sqrt(3)*a*q_y/2)) + exp(I*(a*q_x/2 + sqrt(3)*a*q_y/2)) + exp(I*a*q_x) + exp(sqrt(3)*I*a*q_y) + 1 + exp(-I*a*q_x) + exp(-2*I*a*q_x)],\n",
       "[3*exp(I*(-a*q_x/2 - sqrt(3)*a*q_y/2))/4 + 3*exp(I*(-a*q_x/2 + sqrt(3)*a*q_y/2))/7 + 3*exp(I*(a*q_x - sqrt(3)*a*q_y))/28 + 3*exp(I*(3*a*q_x/2 - sqrt(3)*a*q_y/2))/4 + 3*exp(I*(3*a*q_x/2 + sqrt(3)*a*q_y/2))/7 + 27*exp(2*I*a*q_x)/28 + 3*exp(I*a*q_x)/4 + 3/4 + 3*exp(-sqrt(3)*I*a*q_y)/28 + 27*exp(-I*a*q_x)/28,                                                                                                                                                                                                                                                                                                                                                                                0,                                                                                                                                                                                                                                                                                                                                              0,                                                                                                                    exp(I*(-a*q_x/2 - sqrt(3)*a*q_y/2))/4 + exp(I*(-a*q_x/2 + sqrt(3)*a*q_y/2))/4 + exp(I*(a*q_x/2 - sqrt(3)*a*q_y/2))/4 + exp(I*(a*q_x/2 + sqrt(3)*a*q_y/2))/4 + exp(I*a*q_x) - 9 + exp(-I*a*q_x),                                                                                                                                                                                                                                                                                                                                                                                   0,                                                                                                                                                                                                                                                                                                                                                 0],\n",
       "[                                                                                                                                                                                                                                                                                                               0, exp(I*(-a*q_x/2 - sqrt(3)*a*q_y/2))/4 + 4*exp(I*(-a*q_x/2 + sqrt(3)*a*q_y/2))/7 + exp(I*(a*q_x/2 - sqrt(3)*a*q_y/2)) + exp(I*(a*q_x/2 + sqrt(3)*a*q_y/2)) + 25*exp(I*(a*q_x - sqrt(3)*a*q_y))/28 + exp(I*(3*a*q_x/2 - sqrt(3)*a*q_y/2))/4 + 4*exp(I*(3*a*q_x/2 + sqrt(3)*a*q_y/2))/7 + exp(2*I*a*q_x)/28 + exp(I*a*q_x)/4 + 1/4 + 25*exp(-sqrt(3)*I*a*q_y)/28 + exp(-I*a*q_x)/28,                                                                                                                                                                                                                                                                                                                                              0,                                                                                                                                                                                                                                                                                                                 0,                                                                                                                                                                                                             3*exp(I*(-a*q_x/2 - sqrt(3)*a*q_y/2))/4 + 3*exp(I*(-a*q_x/2 + sqrt(3)*a*q_y/2))/4 + 3*exp(I*(a*q_x/2 - sqrt(3)*a*q_y/2))/4 + 3*exp(I*(a*q_x/2 + sqrt(3)*a*q_y/2))/4 - 9,                                                                                                                                                                                                                                                                                                                                                 0],\n",
       "[                                                                                                                                                                                                                                                                                                               0,                                                                                                                                                                                                                                                                                                                                                                                0, exp(I*(-a*q_x/2 - sqrt(3)*a*q_y/2)) + exp(I*(-a*q_x/2 + sqrt(3)*a*q_y/2)) + exp(I*(a*q_x/2 - sqrt(3)*a*q_y/2)) + exp(I*(a*q_x/2 + sqrt(3)*a*q_y/2)) + exp(I*(a*q_x - sqrt(3)*a*q_y)) + exp(I*(3*a*q_x/2 - sqrt(3)*a*q_y/2)) + exp(I*(3*a*q_x/2 + sqrt(3)*a*q_y/2)) + exp(2*I*a*q_x) + exp(I*a*q_x) + 1 + exp(-sqrt(3)*I*a*q_y) + exp(-I*a*q_x),                                                                                                                                                                                                                                                                                                                 0,                                                                                                                                                                                                                                                                                                                                                                                   0,                                                                                                                                                           exp(I*(-a*q_x/2 - sqrt(3)*a*q_y/2)) + exp(I*(-a*q_x/2 + sqrt(3)*a*q_y/2)) + exp(I*(a*q_x/2 - sqrt(3)*a*q_y/2)) + exp(I*(a*q_x/2 + sqrt(3)*a*q_y/2)) + exp(I*a*q_x) - 18 + exp(-I*a*q_x)]])"
      ]
     },
     "execution_count": 7,
     "metadata": {},
     "output_type": "execute_result"
    }
   ],
   "source": [
    "Mat1+Mat2+Mat3+Mat4"
   ]
  },
  {
   "cell_type": "markdown",
   "id": "roman-dragon",
   "metadata": {},
   "source": []
  }
 ],
 "metadata": {
  "kernelspec": {
   "display_name": "Python 3",
   "language": "python",
   "name": "python3"
  },
  "language_info": {
   "codemirror_mode": {
    "name": "ipython",
    "version": 3
   },
   "file_extension": ".py",
   "mimetype": "text/x-python",
   "name": "python",
   "nbconvert_exporter": "python",
   "pygments_lexer": "ipython3",
   "version": "3.9.2"
  }
 },
 "nbformat": 4,
 "nbformat_minor": 5
}
