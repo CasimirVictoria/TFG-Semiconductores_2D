{
 "cells": [
  {
   "cell_type": "markdown",
   "id": "periodic-stations",
   "metadata": {},
   "source": [
    "# Descripción del BN monolayer\n",
    "\n",
    "En el caso del BN monolayer estamos tratando con un cristal bidimensional del base diatomica, cuya celda unidad viene dada por:\n",
    "\n",
    "$$\n",
    "\\vec a_1=a(1,0);\\qquad\\vec a_2=a\\left(-\\frac{1}{2},\\frac{\\sqrt{3}}{2}\\right);\n",
    "$$"
   ]
  },
  {
   "cell_type": "markdown",
   "id": "referenced-rehabilitation",
   "metadata": {},
   "source": [
    "# Construyo la matriz dinámica"
   ]
  },
  {
   "cell_type": "markdown",
   "id": "classical-advisory",
   "metadata": {},
   "source": [
    "## Primero  clasifico los vecinos segun su distancia"
   ]
  },
  {
   "cell_type": "code",
   "execution_count": 1,
   "id": "brazilian-radical",
   "metadata": {
    "scrolled": true
   },
   "outputs": [
    {
     "data": {
      "text/html": [
       "<table border=\"1\" class=\"dataframe\">\n",
       "  <thead>\n",
       "    <tr style=\"text-align: right;\">\n",
       "      <th>$\\alpha\\prime$</th>\n",
       "      <th>$\\alpha$</th>\n",
       "      <th>$l_1$</th>\n",
       "      <th>$l_2$</th>\n",
       "      <th>$\\hat R$</th>\n",
       "      <th>Distancia</th>\n",
       "    </tr>\n",
       "  </thead>\n",
       "  <tbody>\n",
       "    <tr>\n",
       "      <td>1</td>\n",
       "      <td>1</td>\n",
       "      <td>0</td>\n",
       "      <td>0</td>\n",
       "      <td>[0, 0]</td>\n",
       "      <td>0</td>\n",
       "    </tr>\n",
       "    <tr>\n",
       "      <td>2</td>\n",
       "      <td>2</td>\n",
       "      <td>0</td>\n",
       "      <td>0</td>\n",
       "      <td>[0, 0]</td>\n",
       "      <td>0</td>\n",
       "    </tr>\n",
       "    <tr>\n",
       "      <td>1</td>\n",
       "      <td>2</td>\n",
       "      <td>-1</td>\n",
       "      <td>0</td>\n",
       "      <td>[-sqrt(3)/2, -1/2]</td>\n",
       "      <td>sqrt(3)/3</td>\n",
       "    </tr>\n",
       "    <tr>\n",
       "      <td>1</td>\n",
       "      <td>2</td>\n",
       "      <td>0</td>\n",
       "      <td>0</td>\n",
       "      <td>[sqrt(3)/2, -1/2]</td>\n",
       "      <td>sqrt(3)/3</td>\n",
       "    </tr>\n",
       "    <tr>\n",
       "      <td>1</td>\n",
       "      <td>2</td>\n",
       "      <td>0</td>\n",
       "      <td>1</td>\n",
       "      <td>[0, 1]</td>\n",
       "      <td>sqrt(3)/3</td>\n",
       "    </tr>\n",
       "    <tr>\n",
       "      <td>2</td>\n",
       "      <td>1</td>\n",
       "      <td>0</td>\n",
       "      <td>-1</td>\n",
       "      <td>[0, -1]</td>\n",
       "      <td>sqrt(3)/3</td>\n",
       "    </tr>\n",
       "    <tr>\n",
       "      <td>2</td>\n",
       "      <td>1</td>\n",
       "      <td>0</td>\n",
       "      <td>0</td>\n",
       "      <td>[-sqrt(3)/2, 1/2]</td>\n",
       "      <td>sqrt(3)/3</td>\n",
       "    </tr>\n",
       "    <tr>\n",
       "      <td>2</td>\n",
       "      <td>1</td>\n",
       "      <td>1</td>\n",
       "      <td>0</td>\n",
       "      <td>[sqrt(3)/2, 1/2]</td>\n",
       "      <td>sqrt(3)/3</td>\n",
       "    </tr>\n",
       "    <tr>\n",
       "      <td>1</td>\n",
       "      <td>1</td>\n",
       "      <td>-1</td>\n",
       "      <td>-1</td>\n",
       "      <td>[-1/2, -sqrt(3)/2]</td>\n",
       "      <td>1</td>\n",
       "    </tr>\n",
       "    <tr>\n",
       "      <td>1</td>\n",
       "      <td>1</td>\n",
       "      <td>-1</td>\n",
       "      <td>0</td>\n",
       "      <td>[-1, 0]</td>\n",
       "      <td>1</td>\n",
       "    </tr>\n",
       "    <tr>\n",
       "      <td>1</td>\n",
       "      <td>1</td>\n",
       "      <td>0</td>\n",
       "      <td>-1</td>\n",
       "      <td>[1/2, -sqrt(3)/2]</td>\n",
       "      <td>1</td>\n",
       "    </tr>\n",
       "    <tr>\n",
       "      <td>1</td>\n",
       "      <td>1</td>\n",
       "      <td>0</td>\n",
       "      <td>1</td>\n",
       "      <td>[-1/2, sqrt(3)/2]</td>\n",
       "      <td>1</td>\n",
       "    </tr>\n",
       "    <tr>\n",
       "      <td>1</td>\n",
       "      <td>1</td>\n",
       "      <td>1</td>\n",
       "      <td>0</td>\n",
       "      <td>[1, 0]</td>\n",
       "      <td>1</td>\n",
       "    </tr>\n",
       "    <tr>\n",
       "      <td>1</td>\n",
       "      <td>1</td>\n",
       "      <td>1</td>\n",
       "      <td>1</td>\n",
       "      <td>[1/2, sqrt(3)/2]</td>\n",
       "      <td>1</td>\n",
       "    </tr>\n",
       "    <tr>\n",
       "      <td>2</td>\n",
       "      <td>2</td>\n",
       "      <td>-1</td>\n",
       "      <td>-1</td>\n",
       "      <td>[-1/2, -sqrt(3)/2]</td>\n",
       "      <td>1</td>\n",
       "    </tr>\n",
       "    <tr>\n",
       "      <td>2</td>\n",
       "      <td>2</td>\n",
       "      <td>-1</td>\n",
       "      <td>0</td>\n",
       "      <td>[-1, 0]</td>\n",
       "      <td>1</td>\n",
       "    </tr>\n",
       "    <tr>\n",
       "      <td>2</td>\n",
       "      <td>2</td>\n",
       "      <td>0</td>\n",
       "      <td>-1</td>\n",
       "      <td>[1/2, -sqrt(3)/2]</td>\n",
       "      <td>1</td>\n",
       "    </tr>\n",
       "    <tr>\n",
       "      <td>2</td>\n",
       "      <td>2</td>\n",
       "      <td>0</td>\n",
       "      <td>1</td>\n",
       "      <td>[-1/2, sqrt(3)/2]</td>\n",
       "      <td>1</td>\n",
       "    </tr>\n",
       "    <tr>\n",
       "      <td>2</td>\n",
       "      <td>2</td>\n",
       "      <td>1</td>\n",
       "      <td>0</td>\n",
       "      <td>[1, 0]</td>\n",
       "      <td>1</td>\n",
       "    </tr>\n",
       "    <tr>\n",
       "      <td>2</td>\n",
       "      <td>2</td>\n",
       "      <td>1</td>\n",
       "      <td>1</td>\n",
       "      <td>[1/2, sqrt(3)/2]</td>\n",
       "      <td>1</td>\n",
       "    </tr>\n",
       "    <tr>\n",
       "      <td>1</td>\n",
       "      <td>2</td>\n",
       "      <td>-1</td>\n",
       "      <td>-1</td>\n",
       "      <td>[0, -1]</td>\n",
       "      <td>2*sqrt(3)/3</td>\n",
       "    </tr>\n",
       "    <tr>\n",
       "      <td>1</td>\n",
       "      <td>2</td>\n",
       "      <td>-1</td>\n",
       "      <td>1</td>\n",
       "      <td>[-sqrt(3)/2, 1/2]</td>\n",
       "      <td>2*sqrt(3)/3</td>\n",
       "    </tr>\n",
       "    <tr>\n",
       "      <td>1</td>\n",
       "      <td>2</td>\n",
       "      <td>1</td>\n",
       "      <td>1</td>\n",
       "      <td>[sqrt(3)/2, 1/2]</td>\n",
       "      <td>2*sqrt(3)/3</td>\n",
       "    </tr>\n",
       "    <tr>\n",
       "      <td>2</td>\n",
       "      <td>1</td>\n",
       "      <td>-1</td>\n",
       "      <td>-1</td>\n",
       "      <td>[-sqrt(3)/2, -1/2]</td>\n",
       "      <td>2*sqrt(3)/3</td>\n",
       "    </tr>\n",
       "    <tr>\n",
       "      <td>2</td>\n",
       "      <td>1</td>\n",
       "      <td>1</td>\n",
       "      <td>-1</td>\n",
       "      <td>[sqrt(3)/2, -1/2]</td>\n",
       "      <td>2*sqrt(3)/3</td>\n",
       "    </tr>\n",
       "    <tr>\n",
       "      <td>2</td>\n",
       "      <td>1</td>\n",
       "      <td>1</td>\n",
       "      <td>1</td>\n",
       "      <td>[0, 1]</td>\n",
       "      <td>2*sqrt(3)/3</td>\n",
       "    </tr>\n",
       "    <tr>\n",
       "      <td>1</td>\n",
       "      <td>2</td>\n",
       "      <td>-2</td>\n",
       "      <td>-1</td>\n",
       "      <td>[-sqrt(21)/7, -2*sqrt(7)/7]</td>\n",
       "      <td>sqrt(21)/3</td>\n",
       "    </tr>\n",
       "    <tr>\n",
       "      <td>1</td>\n",
       "      <td>2</td>\n",
       "      <td>-2</td>\n",
       "      <td>0</td>\n",
       "      <td>[-3*sqrt(21)/14, -sqrt(7)/14]</td>\n",
       "      <td>sqrt(21)/3</td>\n",
       "    </tr>\n",
       "    <tr>\n",
       "      <td>1</td>\n",
       "      <td>2</td>\n",
       "      <td>0</td>\n",
       "      <td>-1</td>\n",
       "      <td>[sqrt(21)/7, -2*sqrt(7)/7]</td>\n",
       "      <td>sqrt(21)/3</td>\n",
       "    </tr>\n",
       "    <tr>\n",
       "      <td>1</td>\n",
       "      <td>2</td>\n",
       "      <td>0</td>\n",
       "      <td>2</td>\n",
       "      <td>[-sqrt(21)/14, 5*sqrt(7)/14]</td>\n",
       "      <td>sqrt(21)/3</td>\n",
       "    </tr>\n",
       "    <tr>\n",
       "      <td>1</td>\n",
       "      <td>2</td>\n",
       "      <td>1</td>\n",
       "      <td>0</td>\n",
       "      <td>[3*sqrt(21)/14, -sqrt(7)/14]</td>\n",
       "      <td>sqrt(21)/3</td>\n",
       "    </tr>\n",
       "    <tr>\n",
       "      <td>1</td>\n",
       "      <td>2</td>\n",
       "      <td>1</td>\n",
       "      <td>2</td>\n",
       "      <td>[sqrt(21)/14, 5*sqrt(7)/14]</td>\n",
       "      <td>sqrt(21)/3</td>\n",
       "    </tr>\n",
       "    <tr>\n",
       "      <td>2</td>\n",
       "      <td>1</td>\n",
       "      <td>-1</td>\n",
       "      <td>-2</td>\n",
       "      <td>[-sqrt(21)/14, -5*sqrt(7)/14]</td>\n",
       "      <td>sqrt(21)/3</td>\n",
       "    </tr>\n",
       "    <tr>\n",
       "      <td>2</td>\n",
       "      <td>1</td>\n",
       "      <td>-1</td>\n",
       "      <td>0</td>\n",
       "      <td>[-3*sqrt(21)/14, sqrt(7)/14]</td>\n",
       "      <td>sqrt(21)/3</td>\n",
       "    </tr>\n",
       "    <tr>\n",
       "      <td>2</td>\n",
       "      <td>1</td>\n",
       "      <td>0</td>\n",
       "      <td>-2</td>\n",
       "      <td>[sqrt(21)/14, -5*sqrt(7)/14]</td>\n",
       "      <td>sqrt(21)/3</td>\n",
       "    </tr>\n",
       "    <tr>\n",
       "      <td>2</td>\n",
       "      <td>1</td>\n",
       "      <td>0</td>\n",
       "      <td>1</td>\n",
       "      <td>[-sqrt(21)/7, 2*sqrt(7)/7]</td>\n",
       "      <td>sqrt(21)/3</td>\n",
       "    </tr>\n",
       "    <tr>\n",
       "      <td>2</td>\n",
       "      <td>1</td>\n",
       "      <td>2</td>\n",
       "      <td>0</td>\n",
       "      <td>[3*sqrt(21)/14, sqrt(7)/14]</td>\n",
       "      <td>sqrt(21)/3</td>\n",
       "    </tr>\n",
       "    <tr>\n",
       "      <td>2</td>\n",
       "      <td>1</td>\n",
       "      <td>2</td>\n",
       "      <td>1</td>\n",
       "      <td>[sqrt(21)/7, 2*sqrt(7)/7]</td>\n",
       "      <td>sqrt(21)/3</td>\n",
       "    </tr>\n",
       "    <tr>\n",
       "      <td>1</td>\n",
       "      <td>1</td>\n",
       "      <td>-2</td>\n",
       "      <td>-1</td>\n",
       "      <td>[-sqrt(3)/2, -1/2]</td>\n",
       "      <td>sqrt(3)</td>\n",
       "    </tr>\n",
       "    <tr>\n",
       "      <td>1</td>\n",
       "      <td>1</td>\n",
       "      <td>-1</td>\n",
       "      <td>-2</td>\n",
       "      <td>[0, -1]</td>\n",
       "      <td>sqrt(3)</td>\n",
       "    </tr>\n",
       "  </tbody>\n",
       "</table>"
      ],
      "text/plain": [
       "<IPython.core.display.HTML object>"
      ]
     },
     "metadata": {},
     "output_type": "display_data"
    }
   ],
   "source": [
    "from sympy import *\n",
    "import pandas as pd\n",
    "\n",
    "## Parametros de la red, de la celdilla y del cristal\n",
    "a=Symbol('a', real=True, positive=True)\n",
    "q_x=Symbol('q_x', real=True);  q_y=Symbol('q_y', real=True)\n",
    "q=Matrix([q_x,q_y])\n",
    "a_1=Matrix([a,0]); a_2=Rational(1,2)*Matrix([-a,sqrt(3)*a])\n",
    "R_B=Rational(1,3)*a_1+Rational(2,3)*a_2; R_N=Rational(2,3)*a_1+Rational(1,3)*a_2\n",
    "\n",
    "## Masas de los átomos, frecuencia, ...\n",
    "M_B = Symbol('M_B', real=True, positive=True) #masa de los átomos de Boro y N.\n",
    "M_N = Symbol('M_N', real=True, positive=True)\n",
    "omega = Symbol('omega', real=True)\n",
    "\n",
    "## Vector R_l (vector de traslación primitivo)\n",
    "def R_l(l_1,l_2):\n",
    "    return l_1*a_1+l_2*a_2\n",
    "\n",
    "## Vector de posición de los átomos del cristal (en equilibrio)\n",
    "def R_alpha_l(alpha,l_1,l_2):\n",
    "    if alpha == 1:\n",
    "        return l_1*a_1+l_2*a_2+R_B\n",
    "\n",
    "    elif alpha == 2:\n",
    "        return l_1*a_1+l_2*a_2+R_N\n",
    "\n",
    "    else:\n",
    "        print(\"Error, alpha solo puede ser 1 o 2 \")\n",
    "\n",
    "## Vector unitario que une uno de los átomo alphaprima con el átomo considerado alpha, l_1,l_2\n",
    "def R_hat(alphaprima,alpha,l_1,l_2):\n",
    "    if (R_alpha_l(alpha,l_1,l_2)-R_alpha_l(alphaprima,0,0)).norm()>0:\n",
    "        return (R_alpha_l(alpha,l_1,l_2)-R_alpha_l(alphaprima,0,0))/(R_alpha_l(alpha,l_1,l_2)\\\n",
    "                                                                 -R_alpha_l(alphaprima,0,0)).norm()\n",
    "    else:\n",
    "        return (R_alpha_l(alpha,l_1,l_2)-R_alpha_l(alphaprima,0,0))\n",
    "\n",
    "# Distancia entre el átomo alphaprime y su vecino alpha situado en la celdilla l_1,l_2\n",
    "def distancia(alphaprime,alpha,l_1,l_2):\n",
    "    return (R_alpha_l(alpha,l_1,l_2)-R_alpha_l(alphaprime,0,0)).norm()/a    \n",
    "    \n",
    "def fase(l_1,l_2):\n",
    "    return exp(I*q.dot(R_l(l_1,l_2)))\n",
    "\n",
    "#Genero una lista con la distancia de cada átomo a los átomos de la celdilla unidad \n",
    "def valores_atomos(l_1, l_2):\n",
    "    return [(k, m, i, j, R_hat(k, m, i, j), distancia(k,m,i,j)) for k in [1,2] for m in [1,2]  \\\n",
    "            for i in range(-l_1,l_1+1) for j in range(-l_2,l_2+1)]\n",
    "\n",
    "## Construyo un DataFrame de pandas con la información necesaria para identificar a los primeros, segundos, ... vecinos, según su distancia a cada uno de los átomos de la celdilla unidad\n",
    "columnas = [r\"$\\alpha\\prime$\",r\"$\\alpha$\",r\"$l_1$\", r\"$l_2$\", r\"$\\hat R$\",'Distancia']\n",
    "\n",
    "def lista_atomos(l_1, l_2):\n",
    "    return pd.DataFrame(valores_atomos(l_1,l_2),columns=columnas).sort_values(['Distancia',r\"$\\alpha\\prime$\"], ascending=[True, True])\n",
    "\n",
    "## Mostramos el dataframe como una tabla en formato \\LaTeX.\n",
    "#Atomos(4,4).head(38).to_latex(escape=False,float_format=\"{:0.4f}\".format,index=False)\n",
    "from IPython.display import display\n",
    "from IPython.core.display import HTML\n",
    "display(HTML(lista_atomos(2,2).head(40).to_html(index=False)))"
   ]
  },
  {
   "cell_type": "markdown",
   "id": "tamil-legislation",
   "metadata": {},
   "source": [
    "Podem comprobar que `print(a)`"
   ]
  },
  {
   "cell_type": "markdown",
   "id": "hundred-visitor",
   "metadata": {},
   "source": [
    "Si nos fijamos en los valores de la tabla, el átomo de B de la celdilla $\\vec 0$ tiene 3 primeros vecinos situados en las direcciones $1\\hat y$, $-\\frac{\\sqrt{3}}{2}\\hat x- \\frac{1}{2}\\hat y$ y $\\frac{\\sqrt{3}}{2}\\hat x- \\frac{1}{2} \\hat y$ respecto a el (y a una distancia de $\\frac{\\sqrt{3}}{3} a$) "
   ]
  },
  {
   "cell_type": "markdown",
   "id": "fantastic-classification",
   "metadata": {},
   "source": [
    "## Paso a contruir la matriz dinámica, partiendo de la matriz de fuerzas \n",
    "\n",
    "Debemos construir la matriz dinámica, ya que sus valores propios son $\\omega^2$, siendo $\\omega$ la frecuencia de propagación de cada uno de los modos.\n",
    "\n",
    "Para ello necesitamos calcular las posiciones de equilibrio de los átomos de la red e identificar los primeros, segundos, terceros, ... vecinos. Una vez obtenidas las posiciones de los átomos y clasificados segun la distancia al respectivo átomo de la celdilla $\\vec 0$, procedemos a calcular la contribución a la matriz dinámica de cada uno de los átomos, para lo cual, necesitamos conocer la matriz de constantes de fuerza que corresponde a la interacción de cada átomo con su n-esimo vecino.\n",
    "\n",
    "La forma general del tensor de constantes de fuerza para la interacción de un átomo con su n-esimo vecino es de la forma cite:wirtz04_phonon_disper_graph_revis:\n",
    "\n",
    "\n",
    "\\begin{equation}\n",
    "C_n=\\begin{pmatrix}\n",
    "\\phi_n^r&\\xi_n &0\\\\\n",
    "-\\xi_n & \\phi_n^{ti} & 0 \\\\\n",
    "0 & 0 & \\phi_n^{to}\n",
    "\\end{pmatrix}\n",
    "\\end{equation}\n",
    "\n",
    "donde el sistema de coordenadas se elige de manera que $x$ es la coordenada longitudinal (en la linea que conecta los dos átomos), $y$ la coordenada transversal en el plano y $z$ la coordenada perperndicular al plano. La estructura diagonal a bloques de la matriz refleja el echo que las vibraciones interplanares y fuera de plano estan completamnte desacopladas.\n",
    "\n",
    "Vamos a suponer (por simplificar) que un desplazamiento longitudinal (radial, que estará contenido en el plano del cristal) o transversal (tangencial, sea en el plano o perpendicular al plano) solo genera una fuerza radial o transversal, es decir, $\\xi_n=0$ tal y cómo se realiza en la referencia cite:Balkanski_2000. Esta aproximación se conoce como la aproximación 4NNFC, y se necesita considerar hasta los cuartos vecinos para dar cuenta de los resultados experimentales.\n",
    "\n",
    "Otra aproximación al problema encontrada en la literatura sobre los fonones del grafeno es la conocida como el modelo /VFF/ (valence-force field), la cual determina los parámetros de la matriz en la ref{eq:7} intrudciendo 'constantes de muelle' que determinan el cambio en la energía potencial segun diferentes deformaciones; una introducción a esta aproximación se encuentra en el apendice de la referencia cite:aizawa90_bond_soften_monol_graph_formed. Con esta aproximación se necesitan menos parametros  (constantes de fuerza) para  obtener una calidad similar al la parametrización 4NNFC (cite:wirtz04_phonon_disper_graph_revis).\n",
    "\n",
    "Por tanto, cómo primera aproximación vamos a considerar que el tensor de constantes de fuerza  de un átomo situado en la dirección $1\\hat x + 0\\hat y$ tiene la forma diagonal:\n",
    "\n",
    "\\begin{equation}\n",
    "C_n=\\begin{pmatrix}\n",
    "\\phi_n^r& 0 &0\\\\\n",
    "0 & \\phi_n^{ti} & 0 \\\\\n",
    "0 & 0 & \\phi_n^{to}\n",
    "\\end{pmatrix}\n",
    "\\end{equation}\n",
    "\n",
    "\n",
    "... y por lo tanto la matriz de constantes de fuerza para los átomos reales la obtenemos rotando esta matriz.\n",
    "\n",
    "Un punto importante es que cuando consideramos la interacción entre átomos del mismo tipo (en el caso del BN que estamos considerando es fácil discriminarlos, ya que són átomos de distintos elementos los que conforman la base), debemos tener en cuenta la contribución a la matriz dinámica del átomo que estamos considerando de la celdilla $\\vec 0$. Esta contribución podemos derivarla de la condición de estabilidad, ref:falkowsky 2008"
   ]
  },
  {
   "cell_type": "code",
   "execution_count": 2,
   "id": "following-indonesian",
   "metadata": {},
   "outputs": [
    {
     "data": {
      "text/latex": [
       "$\\displaystyle \\frac{\\pi}{6}$"
      ],
      "text/plain": [
       "pi/6"
      ]
     },
     "execution_count": 2,
     "metadata": {},
     "output_type": "execute_result"
    }
   ],
   "source": [
    "acos(R_hat(1,2,0,0).dot([1,0]))"
   ]
  },
  {
   "cell_type": "code",
   "execution_count": 3,
   "id": "advisory-municipality",
   "metadata": {},
   "outputs": [],
   "source": [
    "#Angulo que forma el átomo considerado respecto al eje x\n",
    "def angulo(alphaprima,alpha,l_1,l_2):\n",
    "    if R_hat(alphaprima,alpha,l_1,l_2)[1] <0:\n",
    "        return -acos(R_hat(alphaprima,alpha,l_1,l_2).dot([1,0]))\n",
    "    \n",
    "    else:\n",
    "        return acos(R_hat(alphaprima,alpha,l_1,l_2).dot([1,0]))\n",
    "\n",
    "#Matriz unitaria de rotación para cambio de ejes coordenados (entorno al eje z)\n",
    "def U(theta):\n",
    "    return Matrix([[cos(theta),sin(theta),0], [-sin(theta), cos(theta),0],[0,0,1]])\n",
    "\n",
    "#Matriz de fuerza para los primeros vecinos\n",
    "phi_1r__BN,phi_1ti__BN,phi_1to__BN=symbols('phi_1r__BN,phi_1ti__BN,phi_1to__BN',real=True)\n",
    "phi_1r__NB,phi_1ti__NB,phi_1to__NB=phi_1r__BN,phi_1ti__BN,phi_1to__BN\n",
    "Phi_10__BN=1/sqrt(M_N*M_B)*Matrix([[phi_1r__BN,0,0],[0,phi_1ti__BN,0],[0,0,phi_1to__BN]])\n",
    "Phi_10__NB=1/sqrt(M_N*M_B)*Matrix([[phi_1r__NB,0,0],[0,phi_1ti__NB,0],[0,0,phi_1to__NB]])\n",
    "\n",
    "\n",
    "def Phi_1l__BN(alphaprima,alpha,l_1,l_2):\n",
    "    return U(-angulo(alphaprima,alpha,l_1,l_2))*Phi_10__BN*U(angulo(alphaprima,alpha,l_1,l_2))\n",
    "\n",
    "def Phi_1l__NB(alphaprima,alpha,l_1,l_2):\n",
    "    return U(-angulo(alphaprima,alpha,l_1,l_2))*Phi_10__NB*U(angulo(alphaprima,alpha,l_1,l_2))\n",
    "\n",
    "def D_1l_BN(alphaprima,alpha,l_1,l_2):\n",
    "    return Phi_1l__BN(alphaprima,alpha,l_1,l_2)*fase(l_1,l_2)\n",
    "\n",
    "def D_1l_NB(alphaprima,alpha,l_1,l_2):\n",
    "    return Phi_1l__NB(alphaprima,alpha,l_1,l_2)*fase(l_1,l_2)\n",
    "\n",
    "# Matriz de fuerza para los segundos vecinos\n",
    "phi_2r__BB,phi_2ti__BB,phi_2to__BB=symbols('phi_2r__BB,phi_2ti__BB,phi_2to__BB',real=True)\n",
    "Phi_20__BB=1/M_B*Matrix([[phi_2r__BB,0,0],[0,phi_2ti__BB,0],[0,0,phi_2to__BB]])\n",
    "#Phi_20__BB=Matrix([[alpha_2+3/(4*d**2)*gamma_1,3*sqrt(3)/(4*d**2)*gamma_1,0],[-3*sqrt(3)/(4*d**2)*gamma_1,-9/(4*d**2)*gamma_1,0],[0,0,-3/a**2*gamma_2+1/d**2*delta]])\n",
    "phi_2r__NN,phi_2ti__NN,phi_2to__NN=symbols('phi_2r__NN,phi_2ti__NN,phi_2to__NN',real=True)\n",
    "Phi_20__NN=1/M_N*Matrix([[phi_2r__NN,0,0],[0,phi_2ti__NN,0],[0,0,phi_2to__NN]])\n",
    "\n",
    "                   \n",
    "def Phi_2l__BB(alphaprima,alpha,l_1,l_2):\n",
    "    return U(-angulo(alphaprima,alpha,l_1,l_2))*Phi_20__BB*U(angulo(alphaprima,alpha,l_1,l_2))\n",
    "\n",
    "def Phi_2l__NN(alphaprima,alpha,l_1,l_2):\n",
    "    return U(-angulo(alphaprima,alpha,l_1,l_2))*Phi_20__NN*U(angulo(alphaprima,alpha,l_1,l_2))\n",
    "\n",
    "def D_2l_BB(alphaprima,alpha,l_1,l_2):\n",
    "    return Phi_2l__BB(alphaprima,alpha,l_1,l_2)*fase(l_1,l_2)\n",
    "\n",
    "def D_2l_NN(alphaprima,alpha,l_1,l_2):\n",
    "    return Phi_2l__NN(alphaprima,alpha,l_1,l_2)*fase(l_1,l_2)\n",
    "\n",
    "\n",
    "#Matriz de fuerza para los terceros vecinos\n",
    "phi_3r__BN,phi_3ti__BN,phi_3to__BN=symbols('phi_3r__BN,phi_3ti__BN,phi_3to__BN',real=True)\n",
    "phi_3r__NB,phi_3ti__NB,phi_3to__NB=phi_3r__BN,phi_3ti__BN,phi_3to__BN\n",
    "Phi_30__BN=1/sqrt(M_N*M_B)*Matrix([[phi_3r__BN,0,0],[0,phi_3ti__BN,0],[0,0,phi_3to__BN]])\n",
    "Phi_30__NB=1/sqrt(M_N*M_B)*Matrix([[phi_3r__NB,0,0],[0,phi_3ti__NB,0],[0,0,phi_3to__NB]])\n",
    "#Phi_30__BN=Matrix([[0,0,0],[0,0,0],[0,0,2/d**2*delta]])\n",
    "#Phi_30__NB=Phi_30__BN\n",
    "                   \n",
    "def Phi_3l__BN(alphaprima,alpha,l_1,l_2):\n",
    "    return U(-angulo(alphaprima,alpha,l_1,l_2))*Phi_30__BN*U(angulo(alphaprima,alpha,l_1,l_2))\n",
    "\n",
    "def Phi_3l__NB(alphaprima,alpha,l_1,l_2):\n",
    "    return U(-angulo(alphaprima,alpha,l_1,l_2))*Phi_30__NB*U(angulo(alphaprima,alpha,l_1,l_2))\n",
    "\n",
    "def D_3l_BN(alphaprima,alpha,l_1,l_2):\n",
    "    return Phi_3l__BN(alphaprima,alpha,l_1,l_2)*fase(l_1,l_2)\n",
    "\n",
    "def D_3l_NB(alphaprima,alpha,l_1,l_2):\n",
    "    return Phi_3l__NB(alphaprima,alpha,l_1,l_2)*fase(l_1,l_2)\n",
    "\n",
    "#Matriz de fuerza para los cuartos vecinos\n",
    "phi_4r__BN,phi_4ti__BN,phi_4to__BN=symbols('phi_4r__BN,phi_4ti__BN,phi_4to__BN',real=True)\n",
    "phi_4r__NB,phi_4ti__NB,phi_4to__NB=phi_4r__BN,phi_4ti__BN,phi_4to__BN\n",
    "Phi_40__BN=1/sqrt(M_B*M_N)*Matrix([[phi_4r__BN,0,0],[0,phi_4ti__BN,0],[0,0,phi_4to__BN]])\n",
    "Phi_40__NB=1/sqrt(M_B*M_N)*Matrix([[phi_4r__NB,0,0],[0,phi_4ti__NB,0],[0,0,phi_4to__NB]])\n",
    "#Phi_40__BN=Matrix([[0,0,0],[0,0,0],[0,0,-1/d**2*delta]])\n",
    "#Phi_40__NB=Phi_40__BN\n",
    "#phi_4to__BN, phi_4to__NB= 0, 0\n",
    "\n",
    "def Phi_4l__BN(alphaprima,alpha,l_1,l_2):\n",
    "    return U(-angulo(alphaprima,alpha,l_1,l_2))*Phi_40__BN*U(angulo(alphaprima,alpha,l_1,l_2))\n",
    "\n",
    "def Phi_4l__NB(alphaprima,alpha,l_1,l_2):\n",
    "    return U(-angulo(alphaprima,alpha,l_1,l_2))*Phi_40__NB*U(angulo(alphaprima,alpha,l_1,l_2))\n",
    "\n",
    "def D_4l_BN(alphaprima,alpha,l_1,l_2):\n",
    "    return Phi_4l__BN(alphaprima,alpha,l_1,l_2)*fase(l_1,l_2)\n",
    "\n",
    "def D_4l_NB(alphaprima,alpha,l_1,l_2):\n",
    "    return Phi_4l__NB(alphaprima,alpha,l_1,l_2)*fase(l_1,l_2)\n",
    "\n",
    "# Finalmente construimos la matriz dinámica \"a capas\"\n",
    "# Hemos visto que para considerar hasta los cuartos vecinos es suficiente con l_1,l_2=2\n",
    "                   \n",
    "D1BN, D1NB, D2BB, D2NN, D3BN, D3NB, D4BN, D4NB = (zeros(3) for i in range(8))\n",
    "D01BN, D01NB, D02BB, D02NN, D03BN, D03NB, D04BN, D04NB= (zeros(3) for i in range(8))\n",
    "for k in [1,2]:\n",
    "    for m in [1,2]:\n",
    "         for i in range(-2,3):\n",
    "            for j in range(-2,3):\n",
    "                if (k==1) & (distancia(k,m,i,j) == sqrt(3)/3 ):\n",
    "                    D1BN += D_1l_BN(k,m,i,j)\n",
    "                    D01BN += Phi_1l__BN(k,m,i,j)\n",
    "\n",
    "                elif (k==2) & (distancia(k,m,i,j) == sqrt(3)/3 ):\n",
    "                    D1NB += D_1l_NB(k,m,i,j)\n",
    "                    D01NB += Phi_1l__NB(k,m,i,j)\n",
    "                 \n",
    "                elif (k==1) & (distancia(k,m,i,j) ==1):\n",
    "                    D2BB += D_2l_BB(k,m,i,j)\n",
    "                    D02BB += Phi_2l__BB(k,m,i,j)\n",
    "\n",
    "                elif (k==2) & (distancia(k,m,i,j) ==1):\n",
    "                    D2NN += D_2l_NN(k,m,i,j)\n",
    "                    D02NN += Phi_2l__NN(k,m,i,j)\n",
    "\n",
    "                elif (k==1) & (distancia(k,m,i,j) ==2*sqrt(3)/3):\n",
    "                    D3BN += D_3l_BN(k,m,i,j)\n",
    "                    D03BN += Phi_3l__BN(k,m,i,j)\n",
    "\n",
    "                elif (k==2) & (distancia(k,m,i,j) ==2*sqrt(3)/3):\n",
    "                    D3NB += D_3l_NB(k,m,i,j)\n",
    "                    D03NB += Phi_3l__NB(k,m,i,j)\n",
    "                    \n",
    "                elif (k==1) & (distancia(k,m,i,j) ==sqrt(21)/3):\n",
    "                    D4BN += D_4l_BN(k,m,i,j)\n",
    "                    D04BN += Phi_4l__NB(k,m,i,j)\n",
    "\n",
    "                elif (k==2) & (distancia(k,m,i,j) ==sqrt(21)/3):\n",
    "                    D4NB += D_4l_NB(k,m,i,j)\n",
    "                    D04NB += Phi_4l__NB(k,m,i,j)\n",
    "                                        \n",
    "# Tenemos en cuenta la contribución a la matriz dinámica de los átomos situados en \n",
    "# la celdilla 0\n",
    "D2BB=D2BB-D01BN-D02BB-D03BN\n",
    "D2NN=D2NN-D01NB-D02NN-D03NB                                            "
   ]
  },
  {
   "cell_type": "markdown",
   "id": "balanced-audio",
   "metadata": {},
   "source": [
    "### Unas simples comprobaciones para comprobar que he definido bien los tensores de fuerza y las matrices dinámicas:\n",
    "(Comparando la matriz dinámica para los primeros vecinos del boro con las obtenidas \"manualmente)\n",
    "\n",
    "Así, por ejemplo, que la matriz de fuerzas del átomo de N situado en la celdilla $\\vec l = (0,0)$ tiene la expresión:"
   ]
  },
  {
   "cell_type": "code",
   "execution_count": 4,
   "id": "hungarian-pacific",
   "metadata": {},
   "outputs": [
    {
     "data": {
      "text/latex": [
       "$\\displaystyle \\left[\\begin{matrix}\\frac{3 \\phi^{BN}_{1r}}{4 \\sqrt{M_{B}} \\sqrt{M_{N}}} + \\frac{\\phi^{BN}_{1ti}}{4 \\sqrt{M_{B}} \\sqrt{M_{N}}} & - \\frac{\\sqrt{3} \\phi^{BN}_{1r}}{4 \\sqrt{M_{B}} \\sqrt{M_{N}}} + \\frac{\\sqrt{3} \\phi^{BN}_{1ti}}{4 \\sqrt{M_{B}} \\sqrt{M_{N}}} & 0\\\\- \\frac{\\sqrt{3} \\phi^{BN}_{1r}}{4 \\sqrt{M_{B}} \\sqrt{M_{N}}} + \\frac{\\sqrt{3} \\phi^{BN}_{1ti}}{4 \\sqrt{M_{B}} \\sqrt{M_{N}}} & \\frac{\\phi^{BN}_{1r}}{4 \\sqrt{M_{B}} \\sqrt{M_{N}}} + \\frac{3 \\phi^{BN}_{1ti}}{4 \\sqrt{M_{B}} \\sqrt{M_{N}}} & 0\\\\0 & 0 & \\frac{\\phi^{BN}_{1to}}{\\sqrt{M_{B}} \\sqrt{M_{N}}}\\end{matrix}\\right]$"
      ],
      "text/plain": [
       "Matrix([\n",
       "[               3*phi_1r__BN/(4*sqrt(M_B)*sqrt(M_N)) + phi_1ti__BN/(4*sqrt(M_B)*sqrt(M_N)), -sqrt(3)*phi_1r__BN/(4*sqrt(M_B)*sqrt(M_N)) + sqrt(3)*phi_1ti__BN/(4*sqrt(M_B)*sqrt(M_N)),                                 0],\n",
       "[-sqrt(3)*phi_1r__BN/(4*sqrt(M_B)*sqrt(M_N)) + sqrt(3)*phi_1ti__BN/(4*sqrt(M_B)*sqrt(M_N)),                phi_1r__BN/(4*sqrt(M_B)*sqrt(M_N)) + 3*phi_1ti__BN/(4*sqrt(M_B)*sqrt(M_N)),                                 0],\n",
       "[                                                                                        0,                                                                                         0, phi_1to__BN/(sqrt(M_B)*sqrt(M_N))]])"
      ]
     },
     "execution_count": 4,
     "metadata": {},
     "output_type": "execute_result"
    }
   ],
   "source": [
    "factor(Phi_1l__BN(1,2,0,0))"
   ]
  },
  {
   "cell_type": "markdown",
   "id": "successful-racing",
   "metadata": {},
   "source": [
    "Y su fase (para calcular su contribución a la matriz dinámica) es:"
   ]
  },
  {
   "cell_type": "code",
   "execution_count": 5,
   "id": "possible-quebec",
   "metadata": {},
   "outputs": [
    {
     "data": {
      "text/latex": [
       "$\\displaystyle 1$"
      ],
      "text/plain": [
       "1"
      ]
     },
     "execution_count": 5,
     "metadata": {},
     "output_type": "execute_result"
    }
   ],
   "source": [
    "fase(0,0)"
   ]
  },
  {
   "cell_type": "markdown",
   "id": "split-scotland",
   "metadata": {},
   "source": [
    "Mientras que para el átomo situado en la celdilla $\\vec l=(0,1), la fase es:"
   ]
  },
  {
   "cell_type": "code",
   "execution_count": 6,
   "id": "atmospheric-replica",
   "metadata": {},
   "outputs": [
    {
     "data": {
      "text/latex": [
       "$\\displaystyle e^{i \\left(- \\frac{a q_{x}}{2} + \\frac{\\sqrt{3} a q_{y}}{2}\\right)}$"
      ],
      "text/plain": [
       "exp(I*(-a*q_x/2 + sqrt(3)*a*q_y/2))"
      ]
     },
     "execution_count": 6,
     "metadata": {},
     "output_type": "execute_result"
    }
   ],
   "source": [
    "fase(0,1)"
   ]
  },
  {
   "cell_type": "markdown",
   "id": "gorgeous-transition",
   "metadata": {},
   "source": [
    "Y su contribución a la matriz dinámica:"
   ]
  },
  {
   "cell_type": "code",
   "execution_count": 7,
   "id": "equivalent-graphics",
   "metadata": {},
   "outputs": [
    {
     "data": {
      "text/latex": [
       "$\\displaystyle \\left[\\begin{matrix}\\frac{\\phi^{BN}_{1ti} e^{i \\left(- \\frac{a q_{x}}{2} + \\frac{\\sqrt{3} a q_{y}}{2}\\right)}}{\\sqrt{M_{B}} \\sqrt{M_{N}}} & 0 & 0\\\\0 & \\frac{\\phi^{BN}_{1r} e^{i \\left(- \\frac{a q_{x}}{2} + \\frac{\\sqrt{3} a q_{y}}{2}\\right)}}{\\sqrt{M_{B}} \\sqrt{M_{N}}} & 0\\\\0 & 0 & \\frac{\\phi^{BN}_{1to} e^{i \\left(- \\frac{a q_{x}}{2} + \\frac{\\sqrt{3} a q_{y}}{2}\\right)}}{\\sqrt{M_{B}} \\sqrt{M_{N}}}\\end{matrix}\\right]$"
      ],
      "text/plain": [
       "Matrix([\n",
       "[phi_1ti__BN*exp(I*(-a*q_x/2 + sqrt(3)*a*q_y/2))/(sqrt(M_B)*sqrt(M_N)),                                                                    0,                                                                     0],\n",
       "[                                                                    0, phi_1r__BN*exp(I*(-a*q_x/2 + sqrt(3)*a*q_y/2))/(sqrt(M_B)*sqrt(M_N)),                                                                     0],\n",
       "[                                                                    0,                                                                    0, phi_1to__BN*exp(I*(-a*q_x/2 + sqrt(3)*a*q_y/2))/(sqrt(M_B)*sqrt(M_N))]])"
      ]
     },
     "execution_count": 7,
     "metadata": {},
     "output_type": "execute_result"
    }
   ],
   "source": [
    "D_1l_BN(1,2,0,1)"
   ]
  },
  {
   "cell_type": "markdown",
   "id": "terminal-halloween",
   "metadata": {},
   "source": [
    "Comprobamos la matriz dinámica para los primeros vecinos del boro con la obtenidas \"manualmente\""
   ]
  },
  {
   "cell_type": "code",
   "execution_count": 8,
   "id": "exciting-following",
   "metadata": {
    "scrolled": true
   },
   "outputs": [
    {
     "data": {
      "text/latex": [
       "$\\displaystyle \\left[\\begin{matrix}0 & 0 & 0\\\\0 & 0 & 0\\\\0 & 0 & 0\\end{matrix}\\right]$"
      ],
      "text/plain": [
       "Matrix([\n",
       "[0, 0, 0],\n",
       "[0, 0, 0],\n",
       "[0, 0, 0]])"
      ]
     },
     "execution_count": 8,
     "metadata": {},
     "output_type": "execute_result"
    }
   ],
   "source": [
    "D_1l_BN(1,2,-1,0)+D_1l_BN(1,2,0,0)+D_1l_BN(1,2,0,1)-D1BN"
   ]
  },
  {
   "cell_type": "markdown",
   "id": "incorporated-freeze",
   "metadata": {},
   "source": [
    "## Tratamos el movimiento fuera de plano independientemente de la vibraciones dentro de plano.\n",
    "Puesto que las vibraciones en el eje z estan completamente desacopladas, es más comodo trabajar con 2 matrices independientes que con una matrix $6\\times 6$"
   ]
  },
  {
   "cell_type": "code",
   "execution_count": 9,
   "id": "thrown-application",
   "metadata": {},
   "outputs": [],
   "source": [
    "D1BN_xy=Matrix([D1BN[i,j] for i in range(2) for j in range(2)]).reshape(2,2)\n",
    "D1BN_zz=D1BN[2,2]\n",
    "D1NB_xy=(Matrix([D1NB[i,j] for i in range(2) for j in range(2)]).reshape(2,2))\n",
    "D1NB_zz=D1NB[2,2]\n",
    "\n",
    "D2BB_xy=Matrix([D2BB[i,j] for i in range(2) for j in range(2)]).reshape(2,2)\n",
    "D2BB_zz=D2BB[2,2]\n",
    "\n",
    "D2NN_xy=(Matrix([D2NN[i,j] for i in range(2) for j in range(2)]).reshape(2,2))\n",
    "D2NN_zz=D2NN[2,2]\n",
    "\n",
    "D3BN_xy=Matrix([D3BN[i,j]for i in range(2) for j in range(2)]).reshape(2,2)\n",
    "D3BN_zz=D3BN[2,2]\n",
    "D3NB_xy=(Matrix([D3NB[i,j] for i in range(2) for j in range(2)]).reshape(2,2))\n",
    "D3NB_zz=D3NB[2,2]\n",
    "D4BN_xy=Matrix([D4BN[i,j] for i in range(2) for j in range(2)]).reshape(2,2)\n",
    "D4BN_zz=D4BN[2,2]\n",
    "D4NB_xy=(Matrix([D4NB[i,j] for i in range(2) for j in range(2)]).reshape(2,2))\n",
    "D4NB_zz=D4NB[2,2]\n",
    "\n",
    "Dsup_xy=D2BB_xy.col_insert(2,D1BN_xy+D3BN_xy+D4BN_xy)\n",
    "Dinf_xy=(D1NB_xy+D3NB_xy+D4NB_xy).col_insert(2,D2NN_xy)\n",
    "D_xy=Dsup_xy.row_insert(2,Dinf_xy)\n",
    "#D_zz=Matrix([[D2BB_zz,D1BN_zz+D3BN_zz+D4BN_zz], [D1NB_zz+D3NB_zz+D4BN_zz,D2NN_zz]])\n",
    "D_zz=Matrix([[D2BB_zz,D1BN_zz+D3BN_zz], [D1NB_zz+D3NB_zz,D2NN_zz]])"
   ]
  },
  {
   "cell_type": "code",
   "execution_count": 10,
   "id": "reflected-anchor",
   "metadata": {},
   "outputs": [
    {
     "data": {
      "text/latex": [
       "$\\displaystyle \\frac{\\phi^{BN}_{1to} e^{i \\left(- \\frac{a q_{x}}{2} + \\frac{\\sqrt{3} a q_{y}}{2}\\right)}}{\\sqrt{M_{B}} \\sqrt{M_{N}}} + \\frac{\\phi^{BN}_{1to}}{\\sqrt{M_{B}} \\sqrt{M_{N}}} + \\frac{\\phi^{BN}_{1to} e^{- i a q_{x}}}{\\sqrt{M_{B}} \\sqrt{M_{N}}} + \\frac{\\phi^{BN}_{3to} e^{i \\left(- \\frac{3 a q_{x}}{2} + \\frac{\\sqrt{3} a q_{y}}{2}\\right)}}{\\sqrt{M_{B}} \\sqrt{M_{N}}} + \\frac{\\phi^{BN}_{3to} e^{i \\left(- \\frac{a q_{x}}{2} - \\frac{\\sqrt{3} a q_{y}}{2}\\right)}}{\\sqrt{M_{B}} \\sqrt{M_{N}}} + \\frac{\\phi^{BN}_{3to} e^{i \\left(\\frac{a q_{x}}{2} + \\frac{\\sqrt{3} a q_{y}}{2}\\right)}}{\\sqrt{M_{B}} \\sqrt{M_{N}}}$"
      ],
      "text/plain": [
       "phi_1to__BN*exp(I*(-a*q_x/2 + sqrt(3)*a*q_y/2))/(sqrt(M_B)*sqrt(M_N)) + phi_1to__BN/(sqrt(M_B)*sqrt(M_N)) + phi_1to__BN*exp(-I*a*q_x)/(sqrt(M_B)*sqrt(M_N)) + phi_3to__BN*exp(I*(-3*a*q_x/2 + sqrt(3)*a*q_y/2))/(sqrt(M_B)*sqrt(M_N)) + phi_3to__BN*exp(I*(-a*q_x/2 - sqrt(3)*a*q_y/2))/(sqrt(M_B)*sqrt(M_N)) + phi_3to__BN*exp(I*(a*q_x/2 + sqrt(3)*a*q_y/2))/(sqrt(M_B)*sqrt(M_N))"
      ]
     },
     "execution_count": 10,
     "metadata": {},
     "output_type": "execute_result"
    }
   ],
   "source": [
    "D_zz[0,1]"
   ]
  },
  {
   "cell_type": "code",
   "execution_count": 11,
   "id": "relative-character",
   "metadata": {},
   "outputs": [
    {
     "data": {
      "text/latex": [
       "$\\displaystyle \\frac{\\phi^{BN}_{1to} e^{i \\left(\\frac{a q_{x}}{2} - \\frac{\\sqrt{3} a q_{y}}{2}\\right)}}{\\sqrt{M_{B}} \\sqrt{M_{N}}} + \\frac{\\phi^{BN}_{1to} e^{i a q_{x}}}{\\sqrt{M_{B}} \\sqrt{M_{N}}} + \\frac{\\phi^{BN}_{1to}}{\\sqrt{M_{B}} \\sqrt{M_{N}}} + \\frac{\\phi^{BN}_{3to} e^{i \\left(- \\frac{a q_{x}}{2} - \\frac{\\sqrt{3} a q_{y}}{2}\\right)}}{\\sqrt{M_{B}} \\sqrt{M_{N}}} + \\frac{\\phi^{BN}_{3to} e^{i \\left(\\frac{a q_{x}}{2} + \\frac{\\sqrt{3} a q_{y}}{2}\\right)}}{\\sqrt{M_{B}} \\sqrt{M_{N}}} + \\frac{\\phi^{BN}_{3to} e^{i \\left(\\frac{3 a q_{x}}{2} - \\frac{\\sqrt{3} a q_{y}}{2}\\right)}}{\\sqrt{M_{B}} \\sqrt{M_{N}}}$"
      ],
      "text/plain": [
       "phi_1to__BN*exp(I*(a*q_x/2 - sqrt(3)*a*q_y/2))/(sqrt(M_B)*sqrt(M_N)) + phi_1to__BN*exp(I*a*q_x)/(sqrt(M_B)*sqrt(M_N)) + phi_1to__BN/(sqrt(M_B)*sqrt(M_N)) + phi_3to__BN*exp(I*(-a*q_x/2 - sqrt(3)*a*q_y/2))/(sqrt(M_B)*sqrt(M_N)) + phi_3to__BN*exp(I*(a*q_x/2 + sqrt(3)*a*q_y/2))/(sqrt(M_B)*sqrt(M_N)) + phi_3to__BN*exp(I*(3*a*q_x/2 - sqrt(3)*a*q_y/2))/(sqrt(M_B)*sqrt(M_N))"
      ]
     },
     "execution_count": 11,
     "metadata": {},
     "output_type": "execute_result"
    }
   ],
   "source": [
    "D_zz[1,0]"
   ]
  },
  {
   "cell_type": "markdown",
   "id": "fleet-weather",
   "metadata": {},
   "source": [
    "Un simple calculo para comprobar con el resultado calculado a mano (notemos que la componente z no cambia con las rotaciones)"
   ]
  },
  {
   "cell_type": "code",
   "execution_count": 12,
   "id": "animal-gossip",
   "metadata": {},
   "outputs": [
    {
     "data": {
      "text/latex": [
       "$\\displaystyle \\frac{\\phi^{BN}_{3to} e^{i \\left(- \\frac{a q_{x}}{2} - \\frac{\\sqrt{3} a q_{y}}{2}\\right)}}{\\sqrt{M_{B}} \\sqrt{M_{N}}} + \\frac{\\phi^{BN}_{3to} e^{i \\left(\\frac{a q_{x}}{2} + \\frac{\\sqrt{3} a q_{y}}{2}\\right)}}{\\sqrt{M_{B}} \\sqrt{M_{N}}} + \\frac{\\phi^{BN}_{3to} e^{i \\left(\\frac{3 a q_{x}}{2} - \\frac{\\sqrt{3} a q_{y}}{2}\\right)}}{\\sqrt{M_{B}} \\sqrt{M_{N}}}$"
      ],
      "text/plain": [
       "phi_3to__BN*exp(I*(-a*q_x/2 - sqrt(3)*a*q_y/2))/(sqrt(M_B)*sqrt(M_N)) + phi_3to__BN*exp(I*(a*q_x/2 + sqrt(3)*a*q_y/2))/(sqrt(M_B)*sqrt(M_N)) + phi_3to__BN*exp(I*(3*a*q_x/2 - sqrt(3)*a*q_y/2))/(sqrt(M_B)*sqrt(M_N))"
      ]
     },
     "execution_count": 12,
     "metadata": {},
     "output_type": "execute_result"
    }
   ],
   "source": [
    "D3NB_zz"
   ]
  },
  {
   "cell_type": "markdown",
   "id": "neither-cradle",
   "metadata": {},
   "source": [
    "## Diagonalizamos y ajustamos"
   ]
  },
  {
   "cell_type": "markdown",
   "id": "chinese-arena",
   "metadata": {},
   "source": [
    "### Para el punto $\\Gamma (k_x=0, k_y=0)$"
   ]
  },
  {
   "cell_type": "code",
   "execution_count": 13,
   "id": "aggressive-attraction",
   "metadata": {},
   "outputs": [
    {
     "data": {
      "text/latex": [
       "$\\displaystyle 0$"
      ],
      "text/plain": [
       "0"
      ]
     },
     "metadata": {},
     "output_type": "display_data"
    },
    {
     "data": {
      "text/latex": [
       "$\\displaystyle - \\frac{6 \\left(\\phi^{BN}_{1to} + \\phi^{BN}_{3to}\\right)}{\\sqrt{M_{B}} \\sqrt{M_{N}}}$"
      ],
      "text/plain": [
       "-6*(phi_1to__BN + phi_3to__BN)/(sqrt(M_B)*sqrt(M_N))"
      ]
     },
     "metadata": {},
     "output_type": "display_data"
    }
   ],
   "source": [
    "from periodictable import C, B, N, constants\n",
    "u=constants.atomic_mass_constant*10**3 #para que este en CGS (y las const. de fuerza en dyn)\n",
    "\n",
    "omega_Gamma_ZO=830 #cm-1\n",
    "omega_Gamma_ZA=0\n",
    "\n",
    "D_Gamma_zz=D_zz.subs([(q_x,0),(q_y,0)])#,(M_B,B.mass*u),(M_N,N.mass*u)])\n",
    "display(D_Gamma_zz.eigenvals(multiple=True)[0])\n",
    "display(D_Gamma_zz.eigenvals(multiple=True)[1])"
   ]
  },
  {
   "cell_type": "markdown",
   "id": "proved-copyright",
   "metadata": {},
   "source": [
    "Podemos observar que obtenemos los mismos valores que en Falkoswsky."
   ]
  },
  {
   "cell_type": "code",
   "execution_count": 14,
   "id": "desirable-queue",
   "metadata": {},
   "outputs": [
    {
     "data": {
      "text/latex": [
       "$\\displaystyle - \\frac{6 \\left(\\phi^{BN}_{1to} + \\phi^{BN}_{3to}\\right)}{\\sqrt{M_{B}} \\sqrt{M_{N}}} = 688900$"
      ],
      "text/plain": [
       "Eq(-6*(phi_1to__BN + phi_3to__BN)/(sqrt(M_B)*sqrt(M_N)), 688900)"
      ]
     },
     "execution_count": 14,
     "metadata": {},
     "output_type": "execute_result"
    }
   ],
   "source": [
    "Eq1=Eq(D_Gamma_zz.eigenvals(multiple=True)[1],omega_Gamma_ZO**2)\n",
    "Eq1"
   ]
  },
  {
   "cell_type": "markdown",
   "id": "adjacent-factory",
   "metadata": {},
   "source": [
    "## En el punto $K \\left(q_x=4\\pi/(3a), q_y=0\\right)$"
   ]
  },
  {
   "cell_type": "code",
   "execution_count": 17,
   "id": "interior-plastic",
   "metadata": {},
   "outputs": [],
   "source": [
    "omega_K_ZO=605 #cm-1\n",
    "omega_K_ZA=322\n",
    "D_K_zz=D_zz.subs([(q_x,4*pi/3),(a,1),(q_y,0)])\n",
    "#D_K_zz=D_zz.subs([(q_x,Rational(4,3)*pi),(a,1),(q_y,0)])\n",
    "#display(solve(Eq(det(D_K_zz)-omega**2,0), omega**2)[0])\n",
    "#,(M_B,B.mass*u),(M_N,N.mass*u)])\n",
    "#P_K_zz,D_K_zz_diagonalitzada=D_K_zz.diagonalize()\n",
    "#Eq5=Eq(D_K_zz.eigenvals(multiple=True)[1]+D_K_zz.eigenvals(multiple=True)[0],omega_K_ZO**2+omega_K_ZA**2) \n",
    "#Eq6=Eq(D_K_zz.eigenvals(multiple=True)[1]-D_K_zz.eigenvals(multiple=True)[0],omega_K_ZO**2-omega_K_ZA**2)\n",
    "#display(D_K_zz.eigenvals(multiple=True,simplify=True,rational=True)[0])\n",
    "#display(solve(Eq(det(D_K_zz-omega**2*eye(2)).subs((-1)**Rational(2,3),-1).simplify(),0),omega**2)[0].simplify())\n",
    "#display(D_K_zz.eigenvals()[0])"
   ]
  },
  {
   "cell_type": "code",
   "execution_count": 18,
   "id": "dimensional-economics",
   "metadata": {},
   "outputs": [
    {
     "data": {
      "text/latex": [
       "$\\displaystyle - \\frac{3 \\phi^{NN}_{2to}}{M_{N}} - \\frac{3 \\sqrt[3]{-1} \\phi^{NN}_{2to}}{2 M_{N}} + \\frac{3 \\left(-1\\right)^{\\frac{2}{3}} \\phi^{NN}_{2to}}{2 M_{N}} - \\frac{3 \\phi^{BB}_{2to}}{M_{B}} - \\frac{3 \\sqrt[3]{-1} \\phi^{BB}_{2to}}{2 M_{B}} + \\frac{3 \\left(-1\\right)^{\\frac{2}{3}} \\phi^{BB}_{2to}}{2 M_{B}} - \\frac{\\sqrt{3} \\sqrt{18 M_{B}^{2} \\left(\\phi^{NN}_{2to}\\right)^{2} - 9 \\left(-1\\right)^{\\frac{2}{3}} M_{B}^{2} \\left(\\phi^{NN}_{2to}\\right)^{2} + 9 \\sqrt[3]{-1} M_{B}^{2} \\left(\\phi^{NN}_{2to}\\right)^{2} + 4 M_{B} M_{N} \\left(\\phi^{BN}_{1to}\\right)^{2} - 4 \\sqrt[3]{-1} M_{B} M_{N} \\left(\\phi^{BN}_{1to}\\right)^{2} + 4 \\left(-1\\right)^{\\frac{2}{3}} M_{B} M_{N} \\left(\\phi^{BN}_{1to}\\right)^{2} + 8 M_{B} M_{N} \\phi^{BN}_{1to} \\phi^{BN}_{3to} - 8 \\sqrt[3]{-1} M_{B} M_{N} \\phi^{BN}_{1to} \\phi^{BN}_{3to} + 8 \\left(-1\\right)^{\\frac{2}{3}} M_{B} M_{N} \\phi^{BN}_{1to} \\phi^{BN}_{3to} - 36 M_{B} M_{N} \\phi^{BB}_{2to} \\phi^{NN}_{2to} - 18 \\sqrt[3]{-1} M_{B} M_{N} \\phi^{BB}_{2to} \\phi^{NN}_{2to} + 18 \\left(-1\\right)^{\\frac{2}{3}} M_{B} M_{N} \\phi^{BB}_{2to} \\phi^{NN}_{2to} + 4 M_{B} M_{N} \\left(\\phi^{BN}_{3to}\\right)^{2} - 4 \\sqrt[3]{-1} M_{B} M_{N} \\left(\\phi^{BN}_{3to}\\right)^{2} + 4 \\left(-1\\right)^{\\frac{2}{3}} M_{B} M_{N} \\left(\\phi^{BN}_{3to}\\right)^{2} + 18 M_{N}^{2} \\left(\\phi^{BB}_{2to}\\right)^{2} - 9 \\left(-1\\right)^{\\frac{2}{3}} M_{N}^{2} \\left(\\phi^{BB}_{2to}\\right)^{2} + 9 \\sqrt[3]{-1} M_{N}^{2} \\left(\\phi^{BB}_{2to}\\right)^{2}}}{2 M_{B} M_{N}} - \\frac{3 \\phi^{BN}_{1to}}{\\sqrt{M_{B}} \\sqrt{M_{N}}} - \\frac{3 \\phi^{BN}_{3to}}{\\sqrt{M_{B}} \\sqrt{M_{N}}}$"
      ],
      "text/plain": [
       "-3*phi_2to__NN/M_N - 3*(-1)**(1/3)*phi_2to__NN/(2*M_N) + 3*(-1)**(2/3)*phi_2to__NN/(2*M_N) - 3*phi_2to__BB/M_B - 3*(-1)**(1/3)*phi_2to__BB/(2*M_B) + 3*(-1)**(2/3)*phi_2to__BB/(2*M_B) - sqrt(3)*sqrt(18*M_B**2*phi_2to__NN**2 - 9*(-1)**(2/3)*M_B**2*phi_2to__NN**2 + 9*(-1)**(1/3)*M_B**2*phi_2to__NN**2 + 4*M_B*M_N*phi_1to__BN**2 - 4*(-1)**(1/3)*M_B*M_N*phi_1to__BN**2 + 4*(-1)**(2/3)*M_B*M_N*phi_1to__BN**2 + 8*M_B*M_N*phi_1to__BN*phi_3to__BN - 8*(-1)**(1/3)*M_B*M_N*phi_1to__BN*phi_3to__BN + 8*(-1)**(2/3)*M_B*M_N*phi_1to__BN*phi_3to__BN - 36*M_B*M_N*phi_2to__BB*phi_2to__NN - 18*(-1)**(1/3)*M_B*M_N*phi_2to__BB*phi_2to__NN + 18*(-1)**(2/3)*M_B*M_N*phi_2to__BB*phi_2to__NN + 4*M_B*M_N*phi_3to__BN**2 - 4*(-1)**(1/3)*M_B*M_N*phi_3to__BN**2 + 4*(-1)**(2/3)*M_B*M_N*phi_3to__BN**2 + 18*M_N**2*phi_2to__BB**2 - 9*(-1)**(2/3)*M_N**2*phi_2to__BB**2 + 9*(-1)**(1/3)*M_N**2*phi_2to__BB**2)/(2*M_B*M_N) - 3*phi_1to__BN/(sqrt(M_B)*sqrt(M_N)) - 3*phi_3to__BN/(sqrt(M_B)*sqrt(M_N))"
      ]
     },
     "metadata": {},
     "output_type": "display_data"
    }
   ],
   "source": [
    "display(D_K_zz.eigenvals(multiple=True)[0])"
   ]
  },
  {
   "cell_type": "code",
   "execution_count": 17,
   "id": "norwegian-buyer",
   "metadata": {},
   "outputs": [],
   "source": [
    "ecuacio=Eq(det(D_zz.expand().subs([(q_x,4*pi/3),(a,1),(q_y,0)])-omega**2*eye(2)),0)"
   ]
  },
  {
   "cell_type": "code",
   "execution_count": 18,
   "id": "proud-citation",
   "metadata": {},
   "outputs": [
    {
     "data": {
      "text/plain": [
       "[-3*phi_2to__NN/M_N - 3*(-1)**(1/3)*phi_2to__NN/(2*M_N) + 3*(-1)**(2/3)*phi_2to__NN/(2*M_N) - 3*phi_2to__BB/M_B - 3*(-1)**(1/3)*phi_2to__BB/(2*M_B) + 3*(-1)**(2/3)*phi_2to__BB/(2*M_B) - (-1)**(2/3)*sqrt(3)*sqrt(-9*M_B**2*phi_2to__NN**2 + 9*(-1)**(1/3)*M_B**2*phi_2to__NN**2 + 18*(-1)**(2/3)*M_B**2*phi_2to__NN**2 + 4*M_B*M_N*phi_1to__BN**2 - 4*(-1)**(1/3)*M_B*M_N*phi_1to__BN**2 + 4*(-1)**(2/3)*M_B*M_N*phi_1to__BN**2 + 8*M_B*M_N*phi_1to__BN*phi_3to__BN - 8*(-1)**(1/3)*M_B*M_N*phi_1to__BN*phi_3to__BN + 8*(-1)**(2/3)*M_B*M_N*phi_1to__BN*phi_3to__BN + 18*M_B*M_N*phi_2to__BB*phi_2to__NN - 36*(-1)**(2/3)*M_B*M_N*phi_2to__BB*phi_2to__NN - 18*(-1)**(1/3)*M_B*M_N*phi_2to__BB*phi_2to__NN + 4*M_B*M_N*phi_3to__BN**2 - 4*(-1)**(1/3)*M_B*M_N*phi_3to__BN**2 + 4*(-1)**(2/3)*M_B*M_N*phi_3to__BN**2 - 9*M_N**2*phi_2to__BB**2 + 9*(-1)**(1/3)*M_N**2*phi_2to__BB**2 + 18*(-1)**(2/3)*M_N**2*phi_2to__BB**2)/(2*M_B*M_N) - 3*phi_1to__BN/(sqrt(M_B)*sqrt(M_N)) - 3*phi_3to__BN/(sqrt(M_B)*sqrt(M_N)),\n",
       " -3*phi_2to__NN/M_N - 3*(-1)**(1/3)*phi_2to__NN/(2*M_N) + 3*(-1)**(2/3)*phi_2to__NN/(2*M_N) - 3*phi_2to__BB/M_B - 3*(-1)**(1/3)*phi_2to__BB/(2*M_B) + 3*(-1)**(2/3)*phi_2to__BB/(2*M_B) + (-1)**(2/3)*sqrt(3)*sqrt(-9*M_B**2*phi_2to__NN**2 + 9*(-1)**(1/3)*M_B**2*phi_2to__NN**2 + 18*(-1)**(2/3)*M_B**2*phi_2to__NN**2 + 4*M_B*M_N*phi_1to__BN**2 - 4*(-1)**(1/3)*M_B*M_N*phi_1to__BN**2 + 4*(-1)**(2/3)*M_B*M_N*phi_1to__BN**2 + 8*M_B*M_N*phi_1to__BN*phi_3to__BN - 8*(-1)**(1/3)*M_B*M_N*phi_1to__BN*phi_3to__BN + 8*(-1)**(2/3)*M_B*M_N*phi_1to__BN*phi_3to__BN + 18*M_B*M_N*phi_2to__BB*phi_2to__NN - 36*(-1)**(2/3)*M_B*M_N*phi_2to__BB*phi_2to__NN - 18*(-1)**(1/3)*M_B*M_N*phi_2to__BB*phi_2to__NN + 4*M_B*M_N*phi_3to__BN**2 - 4*(-1)**(1/3)*M_B*M_N*phi_3to__BN**2 + 4*(-1)**(2/3)*M_B*M_N*phi_3to__BN**2 - 9*M_N**2*phi_2to__BB**2 + 9*(-1)**(1/3)*M_N**2*phi_2to__BB**2 + 18*(-1)**(2/3)*M_N**2*phi_2to__BB**2)/(2*M_B*M_N) - 3*phi_1to__BN/(sqrt(M_B)*sqrt(M_N)) - 3*phi_3to__BN/(sqrt(M_B)*sqrt(M_N))]"
      ]
     },
     "execution_count": 18,
     "metadata": {},
     "output_type": "execute_result"
    }
   ],
   "source": [
    "solve(ecuacio, omega**2)"
   ]
  },
  {
   "cell_type": "code",
   "execution_count": 19,
   "id": "played-thailand",
   "metadata": {},
   "outputs": [
    {
     "data": {
      "text/latex": [
       "$\\displaystyle - \\frac{4 \\phi^{NN}_{2to}}{M_{N}} - \\frac{4 \\phi^{BB}_{2to}}{M_{B}} - \\frac{\\sqrt{16 M_{B}^{2} \\left(\\phi^{NN}_{2to}\\right)^{2} + M_{B} M_{N} \\left(\\phi^{BN}_{1to}\\right)^{2} - 6 M_{B} M_{N} \\phi^{BN}_{1to} \\phi^{BN}_{3to} - 32 M_{B} M_{N} \\phi^{BB}_{2to} \\phi^{NN}_{2to} + 9 M_{B} M_{N} \\left(\\phi^{BN}_{3to}\\right)^{2} + 16 M_{N}^{2} \\left(\\phi^{BB}_{2to}\\right)^{2}}}{M_{B} M_{N}} - \\frac{3 \\phi^{BN}_{1to}}{\\sqrt{M_{B}} \\sqrt{M_{N}}} - \\frac{3 \\phi^{BN}_{3to}}{\\sqrt{M_{B}} \\sqrt{M_{N}}}$"
      ],
      "text/plain": [
       "-4*phi_2to__NN/M_N - 4*phi_2to__BB/M_B - sqrt(16*M_B**2*phi_2to__NN**2 + M_B*M_N*phi_1to__BN**2 - 6*M_B*M_N*phi_1to__BN*phi_3to__BN - 32*M_B*M_N*phi_2to__BB*phi_2to__NN + 9*M_B*M_N*phi_3to__BN**2 + 16*M_N**2*phi_2to__BB**2)/(M_B*M_N) - 3*phi_1to__BN/(sqrt(M_B)*sqrt(M_N)) - 3*phi_3to__BN/(sqrt(M_B)*sqrt(M_N))"
      ]
     },
     "execution_count": 19,
     "metadata": {},
     "output_type": "execute_result"
    }
   ],
   "source": [
    "omega_M_ZO=635 #cm-1\n",
    "omega_M_ZA=314\n",
    "\n",
    "D_M_zz=D_zz.subs([(q_x,pi/a),(q_y,pi/(sqrt(3)*a))])#,(M_B,B.mass*u),(M_N,N.mass*u)])\n",
    "P_M_zz,D_M_zz_diagonalitzada=D_M_zz.diagonalize()\n",
    "#Eq3= Eq(D_M_zz_diagonalitzada[1,1]+D_M_zz_diagonalitzada[0,0],omega_M_ZO**2+omega_M_ZA**2)\n",
    "#Eq4= Eq(D_M_zz_diagonalitzada[1,1]-D_M_zz_diagonalitzada[0,0],omega_M_ZO**2-omega_M_ZA**2)\n",
    "#Eq3=Eq(D_M_zz.eigenvals(multiple=True)[0]+D_M_zz.eigenvals(multiple=True)[1],omega_M_ZO**2+omega_M_ZA**2)\n",
    "#Eq4=Eq(D_M_zz.eigenvals(multiple=True)[0]-D_M_zz.eigenvals(multiple=True)[1],omega_M_ZO**2-omega_M_ZA**2)\n",
    "D_M_zz_diagonalitzada[0,0].simplify()"
   ]
  },
  {
   "cell_type": "code",
   "execution_count": 20,
   "id": "confused-population",
   "metadata": {},
   "outputs": [
    {
     "data": {
      "text/latex": [
       "$\\displaystyle \\frac{64 \\left(\\phi^{NN}_{2to}\\right)^{2}}{M_{N}^{2}} + \\frac{4 \\left(\\phi^{BN}_{1to}\\right)^{2}}{M_{B} M_{N}} - \\frac{24 \\phi^{BN}_{1to} \\phi^{BN}_{3to}}{M_{B} M_{N}} - \\frac{128 \\phi^{BB}_{2to} \\phi^{NN}_{2to}}{M_{B} M_{N}} + \\frac{36 \\left(\\phi^{BN}_{3to}\\right)^{2}}{M_{B} M_{N}} + \\frac{64 \\left(\\phi^{BB}_{2to}\\right)^{2}}{M_{B}^{2}}$"
      ],
      "text/plain": [
       "64*phi_2to__NN**2/M_N**2 + 4*phi_1to__BN**2/(M_B*M_N) - 24*phi_1to__BN*phi_3to__BN/(M_B*M_N) - 128*phi_2to__BB*phi_2to__NN/(M_B*M_N) + 36*phi_3to__BN**2/(M_B*M_N) + 64*phi_2to__BB**2/M_B**2"
      ]
     },
     "execution_count": 20,
     "metadata": {},
     "output_type": "execute_result"
    }
   ],
   "source": [
    "((D_M_zz_diagonalitzada[0,0].simplify()-D_M_zz_diagonalitzada[1,1].simplify())**2).simplify()"
   ]
  },
  {
   "cell_type": "code",
   "execution_count": 21,
   "id": "requested-scroll",
   "metadata": {},
   "outputs": [
    {
     "data": {
      "text/latex": [
       "$\\displaystyle - \\frac{8 \\phi^{NN}_{2to}}{M_{N}} - \\frac{8 \\phi^{BB}_{2to}}{M_{B}} - \\frac{6 \\phi^{BN}_{1to}}{\\sqrt{M_{B}} \\sqrt{M_{N}}} - \\frac{6 \\phi^{BN}_{3to}}{\\sqrt{M_{B}} \\sqrt{M_{N}}} = 501821$"
      ],
      "text/plain": [
       "Eq(-8*phi_2to__NN/M_N - 8*phi_2to__BB/M_B - 6*phi_1to__BN/(sqrt(M_B)*sqrt(M_N)) - 6*phi_3to__BN/(sqrt(M_B)*sqrt(M_N)), 501821)"
      ]
     },
     "execution_count": 21,
     "metadata": {},
     "output_type": "execute_result"
    }
   ],
   "source": [
    "Eq6=Eq((D_M_zz.eigenvals(multiple=True)[1]+D_M_zz.eigenvals(multiple=True)[0]).simplify(), omega_M_ZO**2 + omega_M_ZA**2)\n",
    "Eq6"
   ]
  },
  {
   "cell_type": "code",
   "execution_count": 22,
   "id": "opening-composite",
   "metadata": {},
   "outputs": [
    {
     "data": {
      "text/latex": [
       "$\\displaystyle \\frac{64 \\left(\\phi^{NN}_{2to}\\right)^{2}}{M_{N}^{2}} + \\frac{4 \\left(\\phi^{BN}_{1to}\\right)^{2}}{M_{B} M_{N}} - \\frac{24 \\phi^{BN}_{1to} \\phi^{BN}_{3to}}{M_{B} M_{N}} - \\frac{128 \\phi^{BB}_{2to} \\phi^{NN}_{2to}}{M_{B} M_{N}} + \\frac{36 \\left(\\phi^{BN}_{3to}\\right)^{2}}{M_{B} M_{N}} + \\frac{64 \\left(\\phi^{BB}_{2to}\\right)^{2}}{M_{B}^{2}} = 251824316041$"
      ],
      "text/plain": [
       "Eq(64*phi_2to__NN**2/M_N**2 + 4*phi_1to__BN**2/(M_B*M_N) - 24*phi_1to__BN*phi_3to__BN/(M_B*M_N) - 128*phi_2to__BB*phi_2to__NN/(M_B*M_N) + 36*phi_3to__BN**2/(M_B*M_N) + 64*phi_2to__BB**2/M_B**2, 251824316041)"
      ]
     },
     "execution_count": 22,
     "metadata": {},
     "output_type": "execute_result"
    }
   ],
   "source": [
    "Eq7=Eq(((D_M_zz.eigenvals(multiple=True)[1]-D_M_zz.eigenvals(multiple=True)[0])**2).simplify(), (omega_M_ZO**2 + omega_M_ZA**2)**2)\n",
    "Eq7"
   ]
  },
  {
   "cell_type": "code",
   "execution_count": 23,
   "id": "second-bench",
   "metadata": {},
   "outputs": [
    {
     "data": {
      "text/latex": [
       "$\\displaystyle - \\frac{4 \\phi^{NN}_{2to}}{M_{N}} - \\frac{4 \\phi^{BB}_{2to}}{M_{B}} + \\frac{\\sqrt{16 M_{B}^{2} \\left(\\phi^{NN}_{2to}\\right)^{2} + M_{B} M_{N} \\left(\\phi^{BN}_{1to}\\right)^{2} - 6 M_{B} M_{N} \\phi^{BN}_{1to} \\phi^{BN}_{3to} - 32 M_{B} M_{N} \\phi^{BB}_{2to} \\phi^{NN}_{2to} + 9 M_{B} M_{N} \\left(\\phi^{BN}_{3to}\\right)^{2} + 16 M_{N}^{2} \\left(\\phi^{BB}_{2to}\\right)^{2}}}{M_{B} M_{N}} - \\frac{3 \\phi^{BN}_{1to}}{\\sqrt{M_{B}} \\sqrt{M_{N}}} - \\frac{3 \\phi^{BN}_{3to}}{\\sqrt{M_{B}} \\sqrt{M_{N}}}$"
      ],
      "text/plain": [
       "-4*phi_2to__NN/M_N - 4*phi_2to__BB/M_B + sqrt(16*M_B**2*phi_2to__NN**2 + M_B*M_N*phi_1to__BN**2 - 6*M_B*M_N*phi_1to__BN*phi_3to__BN - 32*M_B*M_N*phi_2to__BB*phi_2to__NN + 9*M_B*M_N*phi_3to__BN**2 + 16*M_N**2*phi_2to__BB**2)/(M_B*M_N) - 3*phi_1to__BN/(sqrt(M_B)*sqrt(M_N)) - 3*phi_3to__BN/(sqrt(M_B)*sqrt(M_N))"
      ]
     },
     "execution_count": 23,
     "metadata": {},
     "output_type": "execute_result"
    }
   ],
   "source": [
    "D_M_zz.eigenvals(multiple=True)[0]"
   ]
  },
  {
   "cell_type": "code",
   "execution_count": 24,
   "id": "encouraging-pixel",
   "metadata": {},
   "outputs": [
    {
     "ename": "NameError",
     "evalue": "name 'Eq2' is not defined",
     "output_type": "error",
     "traceback": [
      "\u001b[0;31m---------------------------------------------------------------------------\u001b[0m",
      "\u001b[0;31mNameError\u001b[0m                                 Traceback (most recent call last)",
      "\u001b[0;32m<ipython-input-24-87505b6fb5a6>\u001b[0m in \u001b[0;36m<module>\u001b[0;34m\u001b[0m\n\u001b[0;32m----> 1\u001b[0;31m \u001b[0msimplify\u001b[0m\u001b[0;34m(\u001b[0m\u001b[0;34m(\u001b[0m\u001b[0mEq1\u001b[0m\u001b[0;34m,\u001b[0m\u001b[0mEq2\u001b[0m\u001b[0;34m,\u001b[0m\u001b[0mEq6\u001b[0m\u001b[0;34m)\u001b[0m\u001b[0;34m)\u001b[0m\u001b[0;34m\u001b[0m\u001b[0;34m\u001b[0m\u001b[0m\n\u001b[0m",
      "\u001b[0;31mNameError\u001b[0m: name 'Eq2' is not defined"
     ]
    }
   ],
   "source": [
    "simplify((Eq1,Eq2,Eq6))"
   ]
  },
  {
   "cell_type": "code",
   "execution_count": null,
   "id": "accessible-camcorder",
   "metadata": {},
   "outputs": [],
   "source": []
  }
 ],
 "metadata": {
  "kernelspec": {
   "display_name": "Python 3",
   "language": "python",
   "name": "python3"
  },
  "language_info": {
   "codemirror_mode": {
    "name": "ipython",
    "version": 3
   },
   "file_extension": ".py",
   "mimetype": "text/x-python",
   "name": "python",
   "nbconvert_exporter": "python",
   "pygments_lexer": "ipython3",
   "version": "3.9.2"
  }
 },
 "nbformat": 4,
 "nbformat_minor": 5
}
