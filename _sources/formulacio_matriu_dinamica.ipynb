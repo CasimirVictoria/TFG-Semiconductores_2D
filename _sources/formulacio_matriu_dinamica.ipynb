{
 "cells": [
  {
   "cell_type": "markdown",
   "id": "surprising-tomorrow",
   "metadata": {
    "tags": []
   },
   "source": [
    "# Descripció del cristall de BN"
   ]
  },
  {
   "cell_type": "markdown",
   "id": "wrapped-heating",
   "metadata": {},
   "source": [
    "```{note}\n",
    "En este notebook va la major part del codi. De fet és on estan tots els càlculs.\n",
    "```"
   ]
  },
  {
   "cell_type": "code",
   "execution_count": 1,
   "id": "numeric-amazon",
   "metadata": {
    "tags": [
     "hide-input"
    ]
   },
   "outputs": [],
   "source": [
    "# Netejem totes les variables \n",
    "reset()"
   ]
  },
  {
   "cell_type": "markdown",
   "id": "departmental-monkey",
   "metadata": {},
   "source": [
    "```{note}\n",
    "En firefox cambiar \"Math Renderer a Mathml\" per visualitzar millor tant la web com el notebook.\n",
    "```"
   ]
  },
  {
   "cell_type": "code",
   "execution_count": 2,
   "id": "palestinian-supervisor",
   "metadata": {
    "tags": [
     "hide-input"
    ]
   },
   "outputs": [],
   "source": [
    "# Eixida per defecte en LaTeX. \n",
    "%display latex\n",
    "\n",
    "# Importe les biblioteques i mètodes que empre al llarg de l'script\n",
    "from pylab import loadtxt\n",
    "import pandas as pd\n",
    "\n",
    "import numpy as np\n",
    "from numpy import arange\n",
    "#from myst_nb import glue\n",
    "\n",
    "# Defineisc algunes funcions que empraré més endavant\n",
    "def matriu_simplificada(matriu,m,n):\n",
    "    matsimp=matriu\n",
    "    for i in range(m):\n",
    "        for j in range(n):\n",
    "             matsimp[i,j]=matriu[i,j].full_simplify()\n",
    "    \n",
    "    return matsimp"
   ]
  },
  {
   "cell_type": "markdown",
   "id": "cosmetic-prairie",
   "metadata": {},
   "source": [
    "Donat que el càlcul dels modes de vibració comença per establir la geomeria del cristall en equilibri, comprobem que el $BN$ monocapa es tracta d'un cristall bidimensional hexagonal de base diatómica la cel·la unitat del qual ve donada per (dades proporcionades):\n",
    "\n",
    "$$\n",
    "\\vec a_1=a(1,0);\\qquad\\vec a_2=a\\left(-\\frac{1}{2},\\frac{\\sqrt{3}}{2}\\right);\n",
    "$$"
   ]
  },
  {
   "cell_type": "code",
   "execution_count": 3,
   "id": "architectural-cheat",
   "metadata": {
    "tags": [
     "hide-input"
    ]
   },
   "outputs": [],
   "source": [
    "var('a', domain='positive')\n",
    "a_1=a*vector([1,0])\n",
    "a_2=a*vector([-1/2,sqrt(3)/2])"
   ]
  },
  {
   "cell_type": "markdown",
   "id": "comparable-district",
   "metadata": {},
   "source": [
    "Comprobem que efectivament els dos vectors base formen un angle de"
   ]
  },
  {
   "cell_type": "code",
   "execution_count": 4,
   "id": "electoral-personality",
   "metadata": {
    "tags": [
     "hide-input"
    ]
   },
   "outputs": [
    {
     "data": {
      "text/html": [
       "<html><script type=\"math/tex; mode=display\">\\newcommand{\\Bold}[1]{\\mathbf{#1}}\\frac{2}{3} \\, \\pi \\phantom{\\verb!x!}\\verb|radians|</script></html>"
      ],
      "text/latex": [
       "\\begin{math}\n",
       "\\newcommand{\\Bold}[1]{\\mathbf{#1}}\\frac{2}{3} \\, \\pi \\phantom{\\verb!x!}\\verb|radians|\n",
       "\\end{math}"
      ],
      "text/plain": [
       "2/3*pi ' radians'"
      ]
     },
     "metadata": {},
     "output_type": "display_data"
    }
   ],
   "source": [
    "angle=arccos(a_1*a_2/(norm(a_1)*norm(a_2)))\n",
    "#glue(\"angle_cela\", angle, display=False)\n",
    "show(angle, \" radians\")\n",
    "#In-line text; {glue:}`angle`"
   ]
  },
  {
   "cell_type": "markdown",
   "id": "opposed-attention",
   "metadata": {},
   "source": [
    "Numerem les cel·les unitat amb un índex vectorial $\\vec l=\\left( l_1, l_2\\right)$.\n",
    "\n",
    "\n",
    "Les posicions dels nucs són $\\vec R_{\\vec l}=l_1\\vec{a}_1+l_2\\vec{a}_2$<p>\n",
    "Visualitzem una regió de la xarxa hexagonal, amb els corresponents nucs (que no àtoms), així com la corresponent cel·la unitat,"
   ]
  },
  {
   "cell_type": "code",
   "execution_count": 5,
   "id": "experimental-pizza",
   "metadata": {
    "tags": [
     "hide-input"
    ]
   },
   "outputs": [
    {
     "data": {
      "image/png": "[encoded data removed]",
      "text/plain": [
       "Graphics object consisting of 9 graphics primitives"
      ]
     },
     "metadata": {
      "filenames": {
       "image/png": "/home/casimir/Documents/Fisica/TFG/TFG-Semiconductores_2D/Jupyter-Book/_build/jupyter_execute/formulacio_matriu_dinamica_10_0.png"
      }
     },
     "output_type": "display_data"
    }
   ],
   "source": [
    "nucs=points([l_1*a_1/a+l_2*a_2/a for l_1 in range(-3, 4) for l_2 in range(-3,4)], \n",
    "             size=40, color=\"blue\", frame=False)\n",
    "\n",
    "show(nucs+\n",
    "    line([(0,0),(a_1/a)],color=\"red\")+\n",
    "     line([(0,0),(a_2/a)],color=\"red\")+\n",
    "     line([(a_1/a),(a_1/a+a_2/a)],color=\"red\")+\n",
    "     line([(a_2/a),(a_2/a+a_1/a)],color=\"red\")+\n",
    "     line([(a_2/a),(a_1/a+2*a_2/a)],linestyle=\"--\")+\n",
    "     line([(a_1/a+2*a_2/a),(2*a_1/a+2*a_2/a)],linestyle=\"--\")+\n",
    "     line([(2*a_1/a+2*a_2/a),(2*a_1/a+a_2/a)],linestyle=\"--\")+\n",
    "     line([(2*a_1/a+a_2/a),(a_1/a)],linestyle=\"--\"), figsize=4)"
   ]
  },
  {
   "cell_type": "markdown",
   "id": "sustained-mixture",
   "metadata": {},
   "source": [
    "Les posicions atòmiques d'equilibri en la cel·la unitat són (també proporcionades com a dades):\n",
    "\n",
    "$$\n",
    "\\vec R_B=\\frac{1}{3}\\vec{a_1}+2\\vec{a_2}\\qquad\n",
    "\\vec R_N=\\frac{2}{3}\\vec{a_1}+\\frac{1}{3}\\vec{a_2}\n",
    "$$"
   ]
  },
  {
   "cell_type": "code",
   "execution_count": 6,
   "id": "convertible-analysis",
   "metadata": {
    "tags": [
     "hide-input"
    ]
   },
   "outputs": [
    {
     "data": {
      "image/png": "[encoded data removed]",
      "text/plain": [
       "Graphics object consisting of 6 graphics primitives"
      ]
     },
     "metadata": {
      "filenames": {
       "image/png": "/home/casimir/Documents/Fisica/TFG/TFG-Semiconductores_2D/Jupyter-Book/_build/jupyter_execute/formulacio_matriu_dinamica_12_0.png"
      }
     },
     "output_type": "display_data"
    }
   ],
   "source": [
    "r_B=1/3*a_1+2/3*a_2; r_N=2/3*a_1+1/3*a_2\n",
    "show(arrow((0,0),(a_1/a),color=\"blue\")+\n",
    "      arrow((0,0),(a_2/a),color=\"red\")+\n",
    "      line([(a_1/a),(a_1/a+a_2/a)],linestyle=\"--\",color=\"red\")+\n",
    "      line([(a_2/a),(a_2/a+a_1/a)],linestyle=\"--\",color=\"red\")+\n",
    "      point(r_B/a, size=120,color=\"blue\")+\n",
    "      point(r_N/a, size=100,color=\"red\"), frame=False, figsize=4)"
   ]
  },
  {
   "cell_type": "markdown",
   "id": "changed-midwest",
   "metadata": {
    "tags": []
   },
   "source": [
    "## Identificació dels veins segons la seua distància"
   ]
  },
  {
   "cell_type": "markdown",
   "id": "refined-dragon",
   "metadata": {},
   "source": [
    "Per construir la matriu dinàmica necessitem com a pas previ classificar el átoms del cristall segons la seua distància als àtoms de la cel·la unitat, ja que els classificarem com primers, segons, tercers ... veïns segons aquesta distància i els assignarem un tensor de constants de forces que dependrá de a quina familia de veïns pertanyen."
   ]
  },
  {
   "cell_type": "code",
   "execution_count": 7,
   "id": "considerable-municipality",
   "metadata": {
    "tags": [
     "hide-input"
    ]
   },
   "outputs": [
    {
     "data": {
      "image/png": "[encoded data removed]",
      "text/plain": [
       "Graphics object consisting of 2 graphics primitives"
      ]
     },
     "metadata": {
      "filenames": {
       "image/png": "/home/casimir/Documents/Fisica/TFG/TFG-Semiconductores_2D/Jupyter-Book/_build/jupyter_execute/formulacio_matriu_dinamica_15_0.png"
      }
     },
     "output_type": "display_data"
    }
   ],
   "source": [
    "#Posicins d'equilibri dels àtoms\n",
    "def RB(l_1,l_2):\n",
    "    return (l_1*a_1+l_2*a_2+r_B)\n",
    "\n",
    "def RN(l_1,l_2):\n",
    "    return (l_1*a_1+l_2*a_2+r_N)\n",
    "\n",
    "AtomosB=points([RB(l_1,l_2)/a for l_1 in range(-3, 4) for l_2 in range(-3,4)],size=20,color='blue')\n",
    "AtomosN=points([RN(l_1,l_2)/a for l_1 in range(-3, 4) for l_2 in range(-3,4)],size=20,color='red')\n",
    "\n",
    "show(AtomosB+AtomosN, figsize=4)"
   ]
  },
  {
   "cell_type": "code",
   "execution_count": 8,
   "id": "retained-institution",
   "metadata": {
    "tags": [
     "hide-input",
     "output_scroll",
     "hide-output"
    ]
   },
   "outputs": [
    {
     "data": {
      "text/html": [
       "<div class=\"notruncate\">\n",
       "<table  class=\"table_form\">\n",
       "<tbody>\n",
       "<tr class =\"row-a\">\n",
       "<td><table border=\"1\" class=\"dataframe\">\n",
       "  <thead>\n",
       "    <tr style=\"text-align: right;\">\n",
       "      <th><script type=\"math/tex\">\\alpha\\prime</script></th>\n",
       "      <th><script type=\"math/tex\">\\alpha</script></th>\n",
       "      <th><script type=\"math/tex\">l_1</script></th>\n",
       "      <th><script type=\"math/tex\">l_2</script></th>\n",
       "      <th><script type=\"math/tex\">\\hat R</script></th>\n",
       "      <th>Distància</th>\n",
       "    </tr>\n",
       "  </thead>\n",
       "  <tbody>\n",
       "    <tr>\n",
       "      <td>1</td>\n",
       "      <td>1</td>\n",
       "      <td>0</td>\n",
       "      <td>0</td>\n",
       "      <td>[0, 0]</td>\n",
       "      <td>0</td>\n",
       "    </tr>\n",
       "    <tr>\n",
       "      <td>2</td>\n",
       "      <td>2</td>\n",
       "      <td>0</td>\n",
       "      <td>0</td>\n",
       "      <td>[0, 0]</td>\n",
       "      <td>0</td>\n",
       "    </tr>\n",
       "    <tr>\n",
       "      <td>1</td>\n",
       "      <td>2</td>\n",
       "      <td>-1</td>\n",
       "      <td>0</td>\n",
       "      <td>[-3/2*sqrt(1/3), -1/2*sqrt(3)*sqrt(1/3)]</td>\n",
       "      <td>sqrt(1/3)</td>\n",
       "    </tr>\n",
       "    <tr>\n",
       "      <td>1</td>\n",
       "      <td>2</td>\n",
       "      <td>0</td>\n",
       "      <td>0</td>\n",
       "      <td>[3/2*sqrt(1/3), -1/2*sqrt(3)*sqrt(1/3)]</td>\n",
       "      <td>sqrt(1/3)</td>\n",
       "    </tr>\n",
       "    <tr>\n",
       "      <td>1</td>\n",
       "      <td>2</td>\n",
       "      <td>0</td>\n",
       "      <td>1</td>\n",
       "      <td>[0, sqrt(3)*sqrt(1/3)]</td>\n",
       "      <td>sqrt(1/3)</td>\n",
       "    </tr>\n",
       "    <tr>\n",
       "      <td>2</td>\n",
       "      <td>1</td>\n",
       "      <td>0</td>\n",
       "      <td>-1</td>\n",
       "      <td>[0, -sqrt(3)*sqrt(1/3)]</td>\n",
       "      <td>sqrt(1/3)</td>\n",
       "    </tr>\n",
       "    <tr>\n",
       "      <td>2</td>\n",
       "      <td>1</td>\n",
       "      <td>0</td>\n",
       "      <td>0</td>\n",
       "      <td>[-3/2*sqrt(1/3), 1/2*sqrt(3)*sqrt(1/3)]</td>\n",
       "      <td>sqrt(1/3)</td>\n",
       "    </tr>\n",
       "    <tr>\n",
       "      <td>2</td>\n",
       "      <td>1</td>\n",
       "      <td>1</td>\n",
       "      <td>0</td>\n",
       "      <td>[3/2*sqrt(1/3), 1/2*sqrt(3)*sqrt(1/3)]</td>\n",
       "      <td>sqrt(1/3)</td>\n",
       "    </tr>\n",
       "    <tr>\n",
       "      <td>1</td>\n",
       "      <td>1</td>\n",
       "      <td>-1</td>\n",
       "      <td>-1</td>\n",
       "      <td>[-1/2, -1/2*sqrt(3)]</td>\n",
       "      <td>1</td>\n",
       "    </tr>\n",
       "    <tr>\n",
       "      <td>1</td>\n",
       "      <td>1</td>\n",
       "      <td>-1</td>\n",
       "      <td>0</td>\n",
       "      <td>[-1, 0]</td>\n",
       "      <td>1</td>\n",
       "    </tr>\n",
       "    <tr>\n",
       "      <td>1</td>\n",
       "      <td>1</td>\n",
       "      <td>0</td>\n",
       "      <td>-1</td>\n",
       "      <td>[1/2, -1/2*sqrt(3)]</td>\n",
       "      <td>1</td>\n",
       "    </tr>\n",
       "    <tr>\n",
       "      <td>1</td>\n",
       "      <td>1</td>\n",
       "      <td>0</td>\n",
       "      <td>1</td>\n",
       "      <td>[-1/2, 1/2*sqrt(3)]</td>\n",
       "      <td>1</td>\n",
       "    </tr>\n",
       "    <tr>\n",
       "      <td>1</td>\n",
       "      <td>1</td>\n",
       "      <td>1</td>\n",
       "      <td>0</td>\n",
       "      <td>[1, 0]</td>\n",
       "      <td>1</td>\n",
       "    </tr>\n",
       "    <tr>\n",
       "      <td>1</td>\n",
       "      <td>1</td>\n",
       "      <td>1</td>\n",
       "      <td>1</td>\n",
       "      <td>[1/2, 1/2*sqrt(3)]</td>\n",
       "      <td>1</td>\n",
       "    </tr>\n",
       "    <tr>\n",
       "      <td>2</td>\n",
       "      <td>2</td>\n",
       "      <td>-1</td>\n",
       "      <td>-1</td>\n",
       "      <td>[-1/2, -1/2*sqrt(3)]</td>\n",
       "      <td>1</td>\n",
       "    </tr>\n",
       "    <tr>\n",
       "      <td>2</td>\n",
       "      <td>2</td>\n",
       "      <td>-1</td>\n",
       "      <td>0</td>\n",
       "      <td>[-1, 0]</td>\n",
       "      <td>1</td>\n",
       "    </tr>\n",
       "    <tr>\n",
       "      <td>2</td>\n",
       "      <td>2</td>\n",
       "      <td>0</td>\n",
       "      <td>-1</td>\n",
       "      <td>[1/2, -1/2*sqrt(3)]</td>\n",
       "      <td>1</td>\n",
       "    </tr>\n",
       "    <tr>\n",
       "      <td>2</td>\n",
       "      <td>2</td>\n",
       "      <td>0</td>\n",
       "      <td>1</td>\n",
       "      <td>[-1/2, 1/2*sqrt(3)]</td>\n",
       "      <td>1</td>\n",
       "    </tr>\n",
       "    <tr>\n",
       "      <td>2</td>\n",
       "      <td>2</td>\n",
       "      <td>1</td>\n",
       "      <td>0</td>\n",
       "      <td>[1, 0]</td>\n",
       "      <td>1</td>\n",
       "    </tr>\n",
       "    <tr>\n",
       "      <td>2</td>\n",
       "      <td>2</td>\n",
       "      <td>1</td>\n",
       "      <td>1</td>\n",
       "      <td>[1/2, 1/2*sqrt(3)]</td>\n",
       "      <td>1</td>\n",
       "    </tr>\n",
       "    <tr>\n",
       "      <td>1</td>\n",
       "      <td>2</td>\n",
       "      <td>-1</td>\n",
       "      <td>-1</td>\n",
       "      <td>[0, -sqrt(3)*sqrt(1/3)]</td>\n",
       "      <td>2*sqrt(1/3)</td>\n",
       "    </tr>\n",
       "    <tr>\n",
       "      <td>1</td>\n",
       "      <td>2</td>\n",
       "      <td>-1</td>\n",
       "      <td>1</td>\n",
       "      <td>[-3/2*sqrt(1/3), 1/2*sqrt(3)*sqrt(1/3)]</td>\n",
       "      <td>2*sqrt(1/3)</td>\n",
       "    </tr>\n",
       "    <tr>\n",
       "      <td>1</td>\n",
       "      <td>2</td>\n",
       "      <td>1</td>\n",
       "      <td>1</td>\n",
       "      <td>[3/2*sqrt(1/3), 1/2*sqrt(3)*sqrt(1/3)]</td>\n",
       "      <td>2*sqrt(1/3)</td>\n",
       "    </tr>\n",
       "    <tr>\n",
       "      <td>2</td>\n",
       "      <td>1</td>\n",
       "      <td>-1</td>\n",
       "      <td>-1</td>\n",
       "      <td>[-3/2*sqrt(1/3), -1/2*sqrt(3)*sqrt(1/3)]</td>\n",
       "      <td>2*sqrt(1/3)</td>\n",
       "    </tr>\n",
       "    <tr>\n",
       "      <td>2</td>\n",
       "      <td>1</td>\n",
       "      <td>1</td>\n",
       "      <td>-1</td>\n",
       "      <td>[3/2*sqrt(1/3), -1/2*sqrt(3)*sqrt(1/3)]</td>\n",
       "      <td>2*sqrt(1/3)</td>\n",
       "    </tr>\n",
       "    <tr>\n",
       "      <td>2</td>\n",
       "      <td>1</td>\n",
       "      <td>1</td>\n",
       "      <td>1</td>\n",
       "      <td>[0, sqrt(3)*sqrt(1/3)]</td>\n",
       "      <td>2*sqrt(1/3)</td>\n",
       "    </tr>\n",
       "    <tr>\n",
       "      <td>1</td>\n",
       "      <td>2</td>\n",
       "      <td>-2</td>\n",
       "      <td>-1</td>\n",
       "      <td>[-3/7*sqrt(7/3), -2/7*sqrt(3)*sqrt(7/3)]</td>\n",
       "      <td>sqrt(7/3)</td>\n",
       "    </tr>\n",
       "    <tr>\n",
       "      <td>1</td>\n",
       "      <td>2</td>\n",
       "      <td>-2</td>\n",
       "      <td>0</td>\n",
       "      <td>[-9/14*sqrt(7/3), -1/14*sqrt(3)*sqrt(7/3)]</td>\n",
       "      <td>sqrt(7/3)</td>\n",
       "    </tr>\n",
       "    <tr>\n",
       "      <td>1</td>\n",
       "      <td>2</td>\n",
       "      <td>0</td>\n",
       "      <td>-1</td>\n",
       "      <td>[3/7*sqrt(7/3), -2/7*sqrt(3)*sqrt(7/3)]</td>\n",
       "      <td>sqrt(7/3)</td>\n",
       "    </tr>\n",
       "    <tr>\n",
       "      <td>1</td>\n",
       "      <td>2</td>\n",
       "      <td>0</td>\n",
       "      <td>2</td>\n",
       "      <td>[-3/14*sqrt(7/3), 5/14*sqrt(3)*sqrt(7/3)]</td>\n",
       "      <td>sqrt(7/3)</td>\n",
       "    </tr>\n",
       "    <tr>\n",
       "      <td>1</td>\n",
       "      <td>2</td>\n",
       "      <td>1</td>\n",
       "      <td>0</td>\n",
       "      <td>[9/14*sqrt(7/3), -1/14*sqrt(3)*sqrt(7/3)]</td>\n",
       "      <td>sqrt(7/3)</td>\n",
       "    </tr>\n",
       "    <tr>\n",
       "      <td>1</td>\n",
       "      <td>2</td>\n",
       "      <td>1</td>\n",
       "      <td>2</td>\n",
       "      <td>[3/14*sqrt(7/3), 5/14*sqrt(3)*sqrt(7/3)]</td>\n",
       "      <td>sqrt(7/3)</td>\n",
       "    </tr>\n",
       "    <tr>\n",
       "      <td>2</td>\n",
       "      <td>1</td>\n",
       "      <td>-1</td>\n",
       "      <td>-2</td>\n",
       "      <td>[-3/14*sqrt(7/3), -5/14*sqrt(3)*sqrt(7/3)]</td>\n",
       "      <td>sqrt(7/3)</td>\n",
       "    </tr>\n",
       "    <tr>\n",
       "      <td>2</td>\n",
       "      <td>1</td>\n",
       "      <td>-1</td>\n",
       "      <td>0</td>\n",
       "      <td>[-9/14*sqrt(7/3), 1/14*sqrt(3)*sqrt(7/3)]</td>\n",
       "      <td>sqrt(7/3)</td>\n",
       "    </tr>\n",
       "    <tr>\n",
       "      <td>2</td>\n",
       "      <td>1</td>\n",
       "      <td>0</td>\n",
       "      <td>-2</td>\n",
       "      <td>[3/14*sqrt(7/3), -5/14*sqrt(3)*sqrt(7/3)]</td>\n",
       "      <td>sqrt(7/3)</td>\n",
       "    </tr>\n",
       "    <tr>\n",
       "      <td>2</td>\n",
       "      <td>1</td>\n",
       "      <td>0</td>\n",
       "      <td>1</td>\n",
       "      <td>[-3/7*sqrt(7/3), 2/7*sqrt(3)*sqrt(7/3)]</td>\n",
       "      <td>sqrt(7/3)</td>\n",
       "    </tr>\n",
       "    <tr>\n",
       "      <td>2</td>\n",
       "      <td>1</td>\n",
       "      <td>2</td>\n",
       "      <td>0</td>\n",
       "      <td>[9/14*sqrt(7/3), 1/14*sqrt(3)*sqrt(7/3)]</td>\n",
       "      <td>sqrt(7/3)</td>\n",
       "    </tr>\n",
       "    <tr>\n",
       "      <td>2</td>\n",
       "      <td>1</td>\n",
       "      <td>2</td>\n",
       "      <td>1</td>\n",
       "      <td>[3/7*sqrt(7/3), 2/7*sqrt(3)*sqrt(7/3)]</td>\n",
       "      <td>sqrt(7/3)</td>\n",
       "    </tr>\n",
       "    <tr>\n",
       "      <td>1</td>\n",
       "      <td>1</td>\n",
       "      <td>-2</td>\n",
       "      <td>-1</td>\n",
       "      <td>[-1/2*sqrt(3), -1/2]</td>\n",
       "      <td>sqrt(3)</td>\n",
       "    </tr>\n",
       "    <tr>\n",
       "      <td>1</td>\n",
       "      <td>1</td>\n",
       "      <td>-1</td>\n",
       "      <td>-2</td>\n",
       "      <td>[0, -1]</td>\n",
       "      <td>sqrt(3)</td>\n",
       "    </tr>\n",
       "    <tr>\n",
       "      <td>1</td>\n",
       "      <td>1</td>\n",
       "      <td>-1</td>\n",
       "      <td>1</td>\n",
       "      <td>[-1/2*sqrt(3), 1/2]</td>\n",
       "      <td>sqrt(3)</td>\n",
       "    </tr>\n",
       "    <tr>\n",
       "      <td>1</td>\n",
       "      <td>1</td>\n",
       "      <td>1</td>\n",
       "      <td>-1</td>\n",
       "      <td>[1/2*sqrt(3), -1/2]</td>\n",
       "      <td>sqrt(3)</td>\n",
       "    </tr>\n",
       "    <tr>\n",
       "      <td>1</td>\n",
       "      <td>1</td>\n",
       "      <td>1</td>\n",
       "      <td>2</td>\n",
       "      <td>[0, 1]</td>\n",
       "      <td>sqrt(3)</td>\n",
       "    </tr>\n",
       "    <tr>\n",
       "      <td>1</td>\n",
       "      <td>1</td>\n",
       "      <td>2</td>\n",
       "      <td>1</td>\n",
       "      <td>[1/2*sqrt(3), 1/2]</td>\n",
       "      <td>sqrt(3)</td>\n",
       "    </tr>\n",
       "    <tr>\n",
       "      <td>2</td>\n",
       "      <td>2</td>\n",
       "      <td>-2</td>\n",
       "      <td>-1</td>\n",
       "      <td>[-1/2*sqrt(3), -1/2]</td>\n",
       "      <td>sqrt(3)</td>\n",
       "    </tr>\n",
       "    <tr>\n",
       "      <td>2</td>\n",
       "      <td>2</td>\n",
       "      <td>-1</td>\n",
       "      <td>-2</td>\n",
       "      <td>[0, -1]</td>\n",
       "      <td>sqrt(3)</td>\n",
       "    </tr>\n",
       "    <tr>\n",
       "      <td>2</td>\n",
       "      <td>2</td>\n",
       "      <td>-1</td>\n",
       "      <td>1</td>\n",
       "      <td>[-1/2*sqrt(3), 1/2]</td>\n",
       "      <td>sqrt(3)</td>\n",
       "    </tr>\n",
       "    <tr>\n",
       "      <td>2</td>\n",
       "      <td>2</td>\n",
       "      <td>1</td>\n",
       "      <td>-1</td>\n",
       "      <td>[1/2*sqrt(3), -1/2]</td>\n",
       "      <td>sqrt(3)</td>\n",
       "    </tr>\n",
       "    <tr>\n",
       "      <td>2</td>\n",
       "      <td>2</td>\n",
       "      <td>1</td>\n",
       "      <td>2</td>\n",
       "      <td>[0, 1]</td>\n",
       "      <td>sqrt(3)</td>\n",
       "    </tr>\n",
       "    <tr>\n",
       "      <td>2</td>\n",
       "      <td>2</td>\n",
       "      <td>2</td>\n",
       "      <td>1</td>\n",
       "      <td>[1/2*sqrt(3), 1/2]</td>\n",
       "      <td>sqrt(3)</td>\n",
       "    </tr>\n",
       "    <tr>\n",
       "      <td>1</td>\n",
       "      <td>1</td>\n",
       "      <td>-2</td>\n",
       "      <td>-2</td>\n",
       "      <td>[-1/2, -1/2*sqrt(3)]</td>\n",
       "      <td>2</td>\n",
       "    </tr>\n",
       "    <tr>\n",
       "      <td>1</td>\n",
       "      <td>1</td>\n",
       "      <td>-2</td>\n",
       "      <td>0</td>\n",
       "      <td>[-1, 0]</td>\n",
       "      <td>2</td>\n",
       "    </tr>\n",
       "    <tr>\n",
       "      <td>1</td>\n",
       "      <td>1</td>\n",
       "      <td>0</td>\n",
       "      <td>-2</td>\n",
       "      <td>[1/2, -1/2*sqrt(3)]</td>\n",
       "      <td>2</td>\n",
       "    </tr>\n",
       "    <tr>\n",
       "      <td>1</td>\n",
       "      <td>1</td>\n",
       "      <td>0</td>\n",
       "      <td>2</td>\n",
       "      <td>[-1/2, 1/2*sqrt(3)]</td>\n",
       "      <td>2</td>\n",
       "    </tr>\n",
       "    <tr>\n",
       "      <td>1</td>\n",
       "      <td>1</td>\n",
       "      <td>2</td>\n",
       "      <td>0</td>\n",
       "      <td>[1, 0]</td>\n",
       "      <td>2</td>\n",
       "    </tr>\n",
       "    <tr>\n",
       "      <td>1</td>\n",
       "      <td>1</td>\n",
       "      <td>2</td>\n",
       "      <td>2</td>\n",
       "      <td>[1/2, 1/2*sqrt(3)]</td>\n",
       "      <td>2</td>\n",
       "    </tr>\n",
       "    <tr>\n",
       "      <td>2</td>\n",
       "      <td>2</td>\n",
       "      <td>-2</td>\n",
       "      <td>-2</td>\n",
       "      <td>[-1/2, -1/2*sqrt(3)]</td>\n",
       "      <td>2</td>\n",
       "    </tr>\n",
       "    <tr>\n",
       "      <td>2</td>\n",
       "      <td>2</td>\n",
       "      <td>-2</td>\n",
       "      <td>0</td>\n",
       "      <td>[-1, 0]</td>\n",
       "      <td>2</td>\n",
       "    </tr>\n",
       "    <tr>\n",
       "      <td>2</td>\n",
       "      <td>2</td>\n",
       "      <td>0</td>\n",
       "      <td>-2</td>\n",
       "      <td>[1/2, -1/2*sqrt(3)]</td>\n",
       "      <td>2</td>\n",
       "    </tr>\n",
       "    <tr>\n",
       "      <td>2</td>\n",
       "      <td>2</td>\n",
       "      <td>0</td>\n",
       "      <td>2</td>\n",
       "      <td>[-1/2, 1/2*sqrt(3)]</td>\n",
       "      <td>2</td>\n",
       "    </tr>\n",
       "    <tr>\n",
       "      <td>2</td>\n",
       "      <td>2</td>\n",
       "      <td>2</td>\n",
       "      <td>0</td>\n",
       "      <td>[1, 0]</td>\n",
       "      <td>2</td>\n",
       "    </tr>\n",
       "    <tr>\n",
       "      <td>2</td>\n",
       "      <td>2</td>\n",
       "      <td>2</td>\n",
       "      <td>2</td>\n",
       "      <td>[1/2, 1/2*sqrt(3)]</td>\n",
       "      <td>2</td>\n",
       "    </tr>\n",
       "    <tr>\n",
       "      <td>1</td>\n",
       "      <td>2</td>\n",
       "      <td>-2</td>\n",
       "      <td>-2</td>\n",
       "      <td>[-3/26*sqrt(13/3), -7/26*sqrt(13/3)*sqrt(3)]</td>\n",
       "      <td>sqrt(13/3)</td>\n",
       "    </tr>\n",
       "    <tr>\n",
       "      <td>1</td>\n",
       "      <td>2</td>\n",
       "      <td>-2</td>\n",
       "      <td>1</td>\n",
       "      <td>[-6/13*sqrt(13/3), 1/13*sqrt(13/3)*sqrt(3)]</td>\n",
       "      <td>sqrt(13/3)</td>\n",
       "    </tr>\n",
       "    <tr>\n",
       "      <td>1</td>\n",
       "      <td>2</td>\n",
       "      <td>-1</td>\n",
       "      <td>-2</td>\n",
       "      <td>[3/26*sqrt(13/3), -7/26*sqrt(13/3)*sqrt(3)]</td>\n",
       "      <td>sqrt(13/3)</td>\n",
       "    </tr>\n",
       "    <tr>\n",
       "      <td>1</td>\n",
       "      <td>2</td>\n",
       "      <td>-1</td>\n",
       "      <td>2</td>\n",
       "      <td>[-9/26*sqrt(13/3), 5/26*sqrt(13/3)*sqrt(3)]</td>\n",
       "      <td>sqrt(13/3)</td>\n",
       "    </tr>\n",
       "    <tr>\n",
       "      <td>1</td>\n",
       "      <td>2</td>\n",
       "      <td>2</td>\n",
       "      <td>1</td>\n",
       "      <td>[6/13*sqrt(13/3), 1/13*sqrt(13/3)*sqrt(3)]</td>\n",
       "      <td>sqrt(13/3)</td>\n",
       "    </tr>\n",
       "    <tr>\n",
       "      <td>1</td>\n",
       "      <td>2</td>\n",
       "      <td>2</td>\n",
       "      <td>2</td>\n",
       "      <td>[9/26*sqrt(13/3), 5/26*sqrt(13/3)*sqrt(3)]</td>\n",
       "      <td>sqrt(13/3)</td>\n",
       "    </tr>\n",
       "    <tr>\n",
       "      <td>2</td>\n",
       "      <td>1</td>\n",
       "      <td>-2</td>\n",
       "      <td>-2</td>\n",
       "      <td>[-9/26*sqrt(13/3), -5/26*sqrt(13/3)*sqrt(3)]</td>\n",
       "      <td>sqrt(13/3)</td>\n",
       "    </tr>\n",
       "    <tr>\n",
       "      <td>2</td>\n",
       "      <td>1</td>\n",
       "      <td>-2</td>\n",
       "      <td>-1</td>\n",
       "      <td>[-6/13*sqrt(13/3), -1/13*sqrt(13/3)*sqrt(3)]</td>\n",
       "      <td>sqrt(13/3)</td>\n",
       "    </tr>\n",
       "    <tr>\n",
       "      <td>2</td>\n",
       "      <td>1</td>\n",
       "      <td>1</td>\n",
       "      <td>-2</td>\n",
       "      <td>[9/26*sqrt(13/3), -5/26*sqrt(13/3)*sqrt(3)]</td>\n",
       "      <td>sqrt(13/3)</td>\n",
       "    </tr>\n",
       "    <tr>\n",
       "      <td>2</td>\n",
       "      <td>1</td>\n",
       "      <td>1</td>\n",
       "      <td>2</td>\n",
       "      <td>[-3/26*sqrt(13/3), 7/26*sqrt(13/3)*sqrt(3)]</td>\n",
       "      <td>sqrt(13/3)</td>\n",
       "    </tr>\n",
       "    <tr>\n",
       "      <td>2</td>\n",
       "      <td>1</td>\n",
       "      <td>2</td>\n",
       "      <td>-1</td>\n",
       "      <td>[6/13*sqrt(13/3), -1/13*sqrt(13/3)*sqrt(3)]</td>\n",
       "      <td>sqrt(13/3)</td>\n",
       "    </tr>\n",
       "    <tr>\n",
       "      <td>2</td>\n",
       "      <td>1</td>\n",
       "      <td>2</td>\n",
       "      <td>2</td>\n",
       "      <td>[3/26*sqrt(13/3), 7/26*sqrt(13/3)*sqrt(3)]</td>\n",
       "      <td>sqrt(13/3)</td>\n",
       "    </tr>\n",
       "    <tr>\n",
       "      <td>1</td>\n",
       "      <td>2</td>\n",
       "      <td>1</td>\n",
       "      <td>-1</td>\n",
       "      <td>[3/2*sqrt(1/3), -1/2*sqrt(3)*sqrt(1/3)]</td>\n",
       "      <td>4*sqrt(1/3)</td>\n",
       "    </tr>\n",
       "    <tr>\n",
       "      <td>2</td>\n",
       "      <td>1</td>\n",
       "      <td>-1</td>\n",
       "      <td>1</td>\n",
       "      <td>[-3/2*sqrt(1/3), 1/2*sqrt(3)*sqrt(1/3)]</td>\n",
       "      <td>4*sqrt(1/3)</td>\n",
       "    </tr>\n",
       "    <tr>\n",
       "      <td>1</td>\n",
       "      <td>2</td>\n",
       "      <td>0</td>\n",
       "      <td>-2</td>\n",
       "      <td>[9/38*sqrt(19/3), -7/38*sqrt(19/3)*sqrt(3)]</td>\n",
       "      <td>sqrt(19/3)</td>\n",
       "    </tr>\n",
       "    <tr>\n",
       "      <td>1</td>\n",
       "      <td>2</td>\n",
       "      <td>2</td>\n",
       "      <td>0</td>\n",
       "      <td>[15/38*sqrt(19/3), -1/38*sqrt(19/3)*sqrt(3)]</td>\n",
       "      <td>sqrt(19/3)</td>\n",
       "    </tr>\n",
       "    <tr>\n",
       "      <td>2</td>\n",
       "      <td>1</td>\n",
       "      <td>-2</td>\n",
       "      <td>0</td>\n",
       "      <td>[-15/38*sqrt(19/3), 1/38*sqrt(19/3)*sqrt(3)]</td>\n",
       "      <td>sqrt(19/3)</td>\n",
       "    </tr>\n",
       "    <tr>\n",
       "      <td>2</td>\n",
       "      <td>1</td>\n",
       "      <td>0</td>\n",
       "      <td>2</td>\n",
       "      <td>[-9/38*sqrt(19/3), 7/38*sqrt(19/3)*sqrt(3)]</td>\n",
       "      <td>sqrt(19/3)</td>\n",
       "    </tr>\n",
       "    <tr>\n",
       "      <td>1</td>\n",
       "      <td>1</td>\n",
       "      <td>-2</td>\n",
       "      <td>1</td>\n",
       "      <td>[-5/14*sqrt(7), 1/14*sqrt(7)*sqrt(3)]</td>\n",
       "      <td>sqrt(7)</td>\n",
       "    </tr>\n",
       "    <tr>\n",
       "      <td>1</td>\n",
       "      <td>1</td>\n",
       "      <td>-1</td>\n",
       "      <td>2</td>\n",
       "      <td>[-2/7*sqrt(7), 1/7*sqrt(7)*sqrt(3)]</td>\n",
       "      <td>sqrt(7)</td>\n",
       "    </tr>\n",
       "    <tr>\n",
       "      <td>1</td>\n",
       "      <td>1</td>\n",
       "      <td>1</td>\n",
       "      <td>-2</td>\n",
       "      <td>[2/7*sqrt(7), -1/7*sqrt(7)*sqrt(3)]</td>\n",
       "      <td>sqrt(7)</td>\n",
       "    </tr>\n",
       "    <tr>\n",
       "      <td>1</td>\n",
       "      <td>1</td>\n",
       "      <td>2</td>\n",
       "      <td>-1</td>\n",
       "      <td>[5/14*sqrt(7), -1/14*sqrt(7)*sqrt(3)]</td>\n",
       "      <td>sqrt(7)</td>\n",
       "    </tr>\n",
       "    <tr>\n",
       "      <td>2</td>\n",
       "      <td>2</td>\n",
       "      <td>-2</td>\n",
       "      <td>1</td>\n",
       "      <td>[-5/14*sqrt(7), 1/14*sqrt(7)*sqrt(3)]</td>\n",
       "      <td>sqrt(7)</td>\n",
       "    </tr>\n",
       "    <tr>\n",
       "      <td>2</td>\n",
       "      <td>2</td>\n",
       "      <td>-1</td>\n",
       "      <td>2</td>\n",
       "      <td>[-2/7*sqrt(7), 1/7*sqrt(7)*sqrt(3)]</td>\n",
       "      <td>sqrt(7)</td>\n",
       "    </tr>\n",
       "    <tr>\n",
       "      <td>2</td>\n",
       "      <td>2</td>\n",
       "      <td>1</td>\n",
       "      <td>-2</td>\n",
       "      <td>[2/7*sqrt(7), -1/7*sqrt(7)*sqrt(3)]</td>\n",
       "      <td>sqrt(7)</td>\n",
       "    </tr>\n",
       "    <tr>\n",
       "      <td>2</td>\n",
       "      <td>2</td>\n",
       "      <td>2</td>\n",
       "      <td>-1</td>\n",
       "      <td>[5/14*sqrt(7), -1/14*sqrt(7)*sqrt(3)]</td>\n",
       "      <td>sqrt(7)</td>\n",
       "    </tr>\n",
       "    <tr>\n",
       "      <td>1</td>\n",
       "      <td>2</td>\n",
       "      <td>-2</td>\n",
       "      <td>2</td>\n",
       "      <td>[-3/2*sqrt(1/3), 1/2*sqrt(3)*sqrt(1/3)]</td>\n",
       "      <td>5*sqrt(1/3)</td>\n",
       "    </tr>\n",
       "    <tr>\n",
       "      <td>2</td>\n",
       "      <td>1</td>\n",
       "      <td>2</td>\n",
       "      <td>-2</td>\n",
       "      <td>[3/2*sqrt(1/3), -1/2*sqrt(3)*sqrt(1/3)]</td>\n",
       "      <td>5*sqrt(1/3)</td>\n",
       "    </tr>\n",
       "    <tr>\n",
       "      <td>1</td>\n",
       "      <td>2</td>\n",
       "      <td>1</td>\n",
       "      <td>-2</td>\n",
       "      <td>[15/62*sqrt(31/3), -7/62*sqrt(31/3)*sqrt(3)]</td>\n",
       "      <td>sqrt(31/3)</td>\n",
       "    </tr>\n",
       "    <tr>\n",
       "      <td>1</td>\n",
       "      <td>2</td>\n",
       "      <td>2</td>\n",
       "      <td>-1</td>\n",
       "      <td>[9/31*sqrt(31/3), -2/31*sqrt(31/3)*sqrt(3)]</td>\n",
       "      <td>sqrt(31/3)</td>\n",
       "    </tr>\n",
       "    <tr>\n",
       "      <td>2</td>\n",
       "      <td>1</td>\n",
       "      <td>-2</td>\n",
       "      <td>1</td>\n",
       "      <td>[-9/31*sqrt(31/3), 2/31*sqrt(31/3)*sqrt(3)]</td>\n",
       "      <td>sqrt(31/3)</td>\n",
       "    </tr>\n",
       "    <tr>\n",
       "      <td>2</td>\n",
       "      <td>1</td>\n",
       "      <td>-1</td>\n",
       "      <td>2</td>\n",
       "      <td>[-15/62*sqrt(31/3), 7/62*sqrt(31/3)*sqrt(3)]</td>\n",
       "      <td>sqrt(31/3)</td>\n",
       "    </tr>\n",
       "    <tr>\n",
       "      <td>1</td>\n",
       "      <td>1</td>\n",
       "      <td>-2</td>\n",
       "      <td>2</td>\n",
       "      <td>[-1/2*sqrt(3), 1/2]</td>\n",
       "      <td>2*sqrt(3)</td>\n",
       "    </tr>\n",
       "    <tr>\n",
       "      <td>1</td>\n",
       "      <td>1</td>\n",
       "      <td>2</td>\n",
       "      <td>-2</td>\n",
       "      <td>[1/2*sqrt(3), -1/2]</td>\n",
       "      <td>2*sqrt(3)</td>\n",
       "    </tr>\n",
       "    <tr>\n",
       "      <td>2</td>\n",
       "      <td>2</td>\n",
       "      <td>-2</td>\n",
       "      <td>2</td>\n",
       "      <td>[-1/2*sqrt(3), 1/2]</td>\n",
       "      <td>2*sqrt(3)</td>\n",
       "    </tr>\n",
       "    <tr>\n",
       "      <td>2</td>\n",
       "      <td>2</td>\n",
       "      <td>2</td>\n",
       "      <td>-2</td>\n",
       "      <td>[1/2*sqrt(3), -1/2]</td>\n",
       "      <td>2*sqrt(3)</td>\n",
       "    </tr>\n",
       "    <tr>\n",
       "      <td>1</td>\n",
       "      <td>2</td>\n",
       "      <td>2</td>\n",
       "      <td>-2</td>\n",
       "      <td>[3/2*sqrt(1/3), -1/2*sqrt(3)*sqrt(1/3)]</td>\n",
       "      <td>7*sqrt(1/3)</td>\n",
       "    </tr>\n",
       "    <tr>\n",
       "      <td>2</td>\n",
       "      <td>1</td>\n",
       "      <td>-2</td>\n",
       "      <td>2</td>\n",
       "      <td>[-3/2*sqrt(1/3), 1/2*sqrt(3)*sqrt(1/3)]</td>\n",
       "      <td>7*sqrt(1/3)</td>\n",
       "    </tr>\n",
       "  </tbody>\n",
       "</table></td>\n",
       "</tr>\n",
       "</tbody>\n",
       "</table>\n",
       "</div>"
      ],
      "text/plain": [
       "  <   t   a   b   l   e       b   o   r   d   e   r   =   \"   1   \"       c   l   a   s   s   =   \"   d   a   t   a   f   r   a   m   e   \"   >   \n",
       "           <   t   h   e   a   d   >   \n",
       "                   <   t   r       s   t   y   l   e   =   \"   t   e   x   t   -   a   l   i   g   n   :       r   i   g   h   t   ;   \"   >   \n",
       "                           <   t   h   >   $   \\   a   l   p   h   a   \\   p   r   i   m   e   $   <   /   t   h   >   \n",
       "                           <   t   h   >   $   \\   a   l   p   h   a   $   <   /   t   h   >   \n",
       "                           <   t   h   >   $   l   _   1   $   <   /   t   h   >   \n",
       "                           <   t   h   >   $   l   _   2   $   <   /   t   h   >   \n",
       "                           <   t   h   >   $   \\   h   a   t       R   $   <   /   t   h   >   \n",
       "                           <   t   h   >   D   i   s   t   à   n   c   i   a   <   /   t   h   >   \n",
       "                   <   /   t   r   >   \n",
       "           <   /   t   h   e   a   d   >   \n",
       "           <   t   b   o   d   y   >   \n",
       "                   <   t   r   >   \n",
       "                           <   t   d   >   1   <   /   t   d   >   \n",
       "                           <   t   d   >   1   <   /   t   d   >   \n",
       "                           <   t   d   >   0   <   /   t   d   >   \n",
       "                           <   t   d   >   0   <   /   t   d   >   \n",
       "                           <   t   d   >   [   0   ,       0   ]   <   /   t   d   >   \n",
       "                           <   t   d   >   0   <   /   t   d   >   \n",
       "                   <   /   t   r   >   \n",
       "                   <   t   r   >   \n",
       "                           <   t   d   >   2   <   /   t   d   >   \n",
       "                           <   t   d   >   2   <   /   t   d   >   \n",
       "                           <   t   d   >   0   <   /   t   d   >   \n",
       "                           <   t   d   >   0   <   /   t   d   >   \n",
       "                           <   t   d   >   [   0   ,       0   ]   <   /   t   d   >   \n",
       "                           <   t   d   >   0   <   /   t   d   >   \n",
       "                   <   /   t   r   >   \n",
       "                   <   t   r   >   \n",
       "                           <   t   d   >   1   <   /   t   d   >   \n",
       "                           <   t   d   >   2   <   /   t   d   >   \n",
       "                           <   t   d   >   -   1   <   /   t   d   >   \n",
       "                           <   t   d   >   0   <   /   t   d   >   \n",
       "                           <   t   d   >   [   -   3   /   2   *   s   q   r   t   (   1   /   3   )   ,       -   1   /   2   *   s   q   r   t   (   3   )   *   s   q   r   t   (   1   /   3   )   ]   <   /   t   d   >   \n",
       "                           <   t   d   >   s   q   r   t   (   1   /   3   )   <   /   t   d   >   \n",
       "                   <   /   t   r   >   \n",
       "                   <   t   r   >   \n",
       "                           <   t   d   >   1   <   /   t   d   >   \n",
       "                           <   t   d   >   2   <   /   t   d   >   \n",
       "                           <   t   d   >   0   <   /   t   d   >   \n",
       "                           <   t   d   >   0   <   /   t   d   >   \n",
       "                           <   t   d   >   [   3   /   2   *   s   q   r   t   (   1   /   3   )   ,       -   1   /   2   *   s   q   r   t   (   3   )   *   s   q   r   t   (   1   /   3   )   ]   <   /   t   d   >   \n",
       "                           <   t   d   >   s   q   r   t   (   1   /   3   )   <   /   t   d   >   \n",
       "                   <   /   t   r   >   \n",
       "                   <   t   r   >   \n",
       "                           <   t   d   >   1   <   /   t   d   >   \n",
       "                           <   t   d   >   2   <   /   t   d   >   \n",
       "                           <   t   d   >   0   <   /   t   d   >   \n",
       "                           <   t   d   >   1   <   /   t   d   >   \n",
       "                           <   t   d   >   [   0   ,       s   q   r   t   (   3   )   *   s   q   r   t   (   1   /   3   )   ]   <   /   t   d   >   \n",
       "                           <   t   d   >   s   q   r   t   (   1   /   3   )   <   /   t   d   >   \n",
       "                   <   /   t   r   >   \n",
       "                   <   t   r   >   \n",
       "                           <   t   d   >   2   <   /   t   d   >   \n",
       "                           <   t   d   >   1   <   /   t   d   >   \n",
       "                           <   t   d   >   0   <   /   t   d   >   \n",
       "                           <   t   d   >   -   1   <   /   t   d   >   \n",
       "                           <   t   d   >   [   0   ,       -   s   q   r   t   (   3   )   *   s   q   r   t   (   1   /   3   )   ]   <   /   t   d   >   \n",
       "                           <   t   d   >   s   q   r   t   (   1   /   3   )   <   /   t   d   >   \n",
       "                   <   /   t   r   >   \n",
       "                   <   t   r   >   \n",
       "                           <   t   d   >   2   <   /   t   d   >   \n",
       "                           <   t   d   >   1   <   /   t   d   >   \n",
       "                           <   t   d   >   0   <   /   t   d   >   \n",
       "                           <   t   d   >   0   <   /   t   d   >   \n",
       "                           <   t   d   >   [   -   3   /   2   *   s   q   r   t   (   1   /   3   )   ,       1   /   2   *   s   q   r   t   (   3   )   *   s   q   r   t   (   1   /   3   )   ]   <   /   t   d   >   \n",
       "                           <   t   d   >   s   q   r   t   (   1   /   3   )   <   /   t   d   >   \n",
       "                   <   /   t   r   >   \n",
       "                   <   t   r   >   \n",
       "                           <   t   d   >   2   <   /   t   d   >   \n",
       "                           <   t   d   >   1   <   /   t   d   >   \n",
       "                           <   t   d   >   1   <   /   t   d   >   \n",
       "                           <   t   d   >   0   <   /   t   d   >   \n",
       "                           <   t   d   >   [   3   /   2   *   s   q   r   t   (   1   /   3   )   ,       1   /   2   *   s   q   r   t   (   3   )   *   s   q   r   t   (   1   /   3   )   ]   <   /   t   d   >   \n",
       "                           <   t   d   >   s   q   r   t   (   1   /   3   )   <   /   t   d   >   \n",
       "                   <   /   t   r   >   \n",
       "                   <   t   r   >   \n",
       "                           <   t   d   >   1   <   /   t   d   >   \n",
       "                           <   t   d   >   1   <   /   t   d   >   \n",
       "                           <   t   d   >   -   1   <   /   t   d   >   \n",
       "                           <   t   d   >   -   1   <   /   t   d   >   \n",
       "                           <   t   d   >   [   -   1   /   2   ,       -   1   /   2   *   s   q   r   t   (   3   )   ]   <   /   t   d   >   \n",
       "                           <   t   d   >   1   <   /   t   d   >   \n",
       "                   <   /   t   r   >   \n",
       "                   <   t   r   >   \n",
       "                           <   t   d   >   1   <   /   t   d   >   \n",
       "                           <   t   d   >   1   <   /   t   d   >   \n",
       "                           <   t   d   >   -   1   <   /   t   d   >   \n",
       "                           <   t   d   >   0   <   /   t   d   >   \n",
       "                           <   t   d   >   [   -   1   ,       0   ]   <   /   t   d   >   \n",
       "                           <   t   d   >   1   <   /   t   d   >   \n",
       "                   <   /   t   r   >   \n",
       "                   <   t   r   >   \n",
       "                           <   t   d   >   1   <   /   t   d   >   \n",
       "                           <   t   d   >   1   <   /   t   d   >   \n",
       "                           <   t   d   >   0   <   /   t   d   >   \n",
       "                           <   t   d   >   -   1   <   /   t   d   >   \n",
       "                           <   t   d   >   [   1   /   2   ,       -   1   /   2   *   s   q   r   t   (   3   )   ]   <   /   t   d   >   \n",
       "                           <   t   d   >   1   <   /   t   d   >   \n",
       "                   <   /   t   r   >   \n",
       "                   <   t   r   >   \n",
       "                           <   t   d   >   1   <   /   t   d   >   \n",
       "                           <   t   d   >   1   <   /   t   d   >   \n",
       "                           <   t   d   >   0   <   /   t   d   >   \n",
       "                           <   t   d   >   1   <   /   t   d   >   \n",
       "                           <   t   d   >   [   -   1   /   2   ,       1   /   2   *   s   q   r   t   (   3   )   ]   <   /   t   d   >   \n",
       "                           <   t   d   >   1   <   /   t   d   >   \n",
       "                   <   /   t   r   >   \n",
       "                   <   t   r   >   \n",
       "                           <   t   d   >   1   <   /   t   d   >   \n",
       "                           <   t   d   >   1   <   /   t   d   >   \n",
       "                           <   t   d   >   1   <   /   t   d   >   \n",
       "                           <   t   d   >   0   <   /   t   d   >   \n",
       "                           <   t   d   >   [   1   ,       0   ]   <   /   t   d   >   \n",
       "                           <   t   d   >   1   <   /   t   d   >   \n",
       "                   <   /   t   r   >   \n",
       "                   <   t   r   >   \n",
       "                           <   t   d   >   1   <   /   t   d   >   \n",
       "                           <   t   d   >   1   <   /   t   d   >   \n",
       "                           <   t   d   >   1   <   /   t   d   >   \n",
       "                           <   t   d   >   1   <   /   t   d   >   \n",
       "                           <   t   d   >   [   1   /   2   ,       1   /   2   *   s   q   r   t   (   3   )   ]   <   /   t   d   >   \n",
       "                           <   t   d   >   1   <   /   t   d   >   \n",
       "                   <   /   t   r   >   \n",
       "                   <   t   r   >   \n",
       "                           <   t   d   >   2   <   /   t   d   >   \n",
       "                           <   t   d   >   2   <   /   t   d   >   \n",
       "                           <   t   d   >   -   1   <   /   t   d   >   \n",
       "                           <   t   d   >   -   1   <   /   t   d   >   \n",
       "                           <   t   d   >   [   -   1   /   2   ,       -   1   /   2   *   s   q   r   t   (   3   )   ]   <   /   t   d   >   \n",
       "                           <   t   d   >   1   <   /   t   d   >   \n",
       "                   <   /   t   r   >   \n",
       "                   <   t   r   >   \n",
       "                           <   t   d   >   2   <   /   t   d   >   \n",
       "                           <   t   d   >   2   <   /   t   d   >   \n",
       "                           <   t   d   >   -   1   <   /   t   d   >   \n",
       "                           <   t   d   >   0   <   /   t   d   >   \n",
       "                           <   t   d   >   [   -   1   ,       0   ]   <   /   t   d   >   \n",
       "                           <   t   d   >   1   <   /   t   d   >   \n",
       "                   <   /   t   r   >   \n",
       "                   <   t   r   >   \n",
       "                           <   t   d   >   2   <   /   t   d   >   \n",
       "                           <   t   d   >   2   <   /   t   d   >   \n",
       "                           <   t   d   >   0   <   /   t   d   >   \n",
       "                           <   t   d   >   -   1   <   /   t   d   >   \n",
       "                           <   t   d   >   [   1   /   2   ,       -   1   /   2   *   s   q   r   t   (   3   )   ]   <   /   t   d   >   \n",
       "                           <   t   d   >   1   <   /   t   d   >   \n",
       "                   <   /   t   r   >   \n",
       "                   <   t   r   >   \n",
       "                           <   t   d   >   2   <   /   t   d   >   \n",
       "                           <   t   d   >   2   <   /   t   d   >   \n",
       "                           <   t   d   >   0   <   /   t   d   >   \n",
       "                           <   t   d   >   1   <   /   t   d   >   \n",
       "                           <   t   d   >   [   -   1   /   2   ,       1   /   2   *   s   q   r   t   (   3   )   ]   <   /   t   d   >   \n",
       "                           <   t   d   >   1   <   /   t   d   >   \n",
       "                   <   /   t   r   >   \n",
       "                   <   t   r   >   \n",
       "                           <   t   d   >   2   <   /   t   d   >   \n",
       "                           <   t   d   >   2   <   /   t   d   >   \n",
       "                           <   t   d   >   1   <   /   t   d   >   \n",
       "                           <   t   d   >   0   <   /   t   d   >   \n",
       "                           <   t   d   >   [   1   ,       0   ]   <   /   t   d   >   \n",
       "                           <   t   d   >   1   <   /   t   d   >   \n",
       "                   <   /   t   r   >   \n",
       "                   <   t   r   >   \n",
       "                           <   t   d   >   2   <   /   t   d   >   \n",
       "                           <   t   d   >   2   <   /   t   d   >   \n",
       "                           <   t   d   >   1   <   /   t   d   >   \n",
       "                           <   t   d   >   1   <   /   t   d   >   \n",
       "                           <   t   d   >   [   1   /   2   ,       1   /   2   *   s   q   r   t   (   3   )   ]   <   /   t   d   >   \n",
       "                           <   t   d   >   1   <   /   t   d   >   \n",
       "                   <   /   t   r   >   \n",
       "                   <   t   r   >   \n",
       "                           <   t   d   >   1   <   /   t   d   >   \n",
       "                           <   t   d   >   2   <   /   t   d   >   \n",
       "                           <   t   d   >   -   1   <   /   t   d   >   \n",
       "                           <   t   d   >   -   1   <   /   t   d   >   \n",
       "                           <   t   d   >   [   0   ,       -   s   q   r   t   (   3   )   *   s   q   r   t   (   1   /   3   )   ]   <   /   t   d   >   \n",
       "                           <   t   d   >   2   *   s   q   r   t   (   1   /   3   )   <   /   t   d   >   \n",
       "                   <   /   t   r   >   \n",
       "                   <   t   r   >   \n",
       "                           <   t   d   >   1   <   /   t   d   >   \n",
       "                           <   t   d   >   2   <   /   t   d   >   \n",
       "                           <   t   d   >   -   1   <   /   t   d   >   \n",
       "                           <   t   d   >   1   <   /   t   d   >   \n",
       "                           <   t   d   >   [   -   3   /   2   *   s   q   r   t   (   1   /   3   )   ,       1   /   2   *   s   q   r   t   (   3   )   *   s   q   r   t   (   1   /   3   )   ]   <   /   t   d   >   \n",
       "                           <   t   d   >   2   *   s   q   r   t   (   1   /   3   )   <   /   t   d   >   \n",
       "                   <   /   t   r   >   \n",
       "                   <   t   r   >   \n",
       "                           <   t   d   >   1   <   /   t   d   >   \n",
       "                           <   t   d   >   2   <   /   t   d   >   \n",
       "                           <   t   d   >   1   <   /   t   d   >   \n",
       "                           <   t   d   >   1   <   /   t   d   >   \n",
       "                           <   t   d   >   [   3   /   2   *   s   q   r   t   (   1   /   3   )   ,       1   /   2   *   s   q   r   t   (   3   )   *   s   q   r   t   (   1   /   3   )   ]   <   /   t   d   >   \n",
       "                           <   t   d   >   2   *   s   q   r   t   (   1   /   3   )   <   /   t   d   >   \n",
       "                   <   /   t   r   >   \n",
       "                   <   t   r   >   \n",
       "                           <   t   d   >   2   <   /   t   d   >   \n",
       "                           <   t   d   >   1   <   /   t   d   >   \n",
       "                           <   t   d   >   -   1   <   /   t   d   >   \n",
       "                           <   t   d   >   -   1   <   /   t   d   >   \n",
       "                           <   t   d   >   [   -   3   /   2   *   s   q   r   t   (   1   /   3   )   ,       -   1   /   2   *   s   q   r   t   (   3   )   *   s   q   r   t   (   1   /   3   )   ]   <   /   t   d   >   \n",
       "                           <   t   d   >   2   *   s   q   r   t   (   1   /   3   )   <   /   t   d   >   \n",
       "                   <   /   t   r   >   \n",
       "                   <   t   r   >   \n",
       "                           <   t   d   >   2   <   /   t   d   >   \n",
       "                           <   t   d   >   1   <   /   t   d   >   \n",
       "                           <   t   d   >   1   <   /   t   d   >   \n",
       "                           <   t   d   >   -   1   <   /   t   d   >   \n",
       "                           <   t   d   >   [   3   /   2   *   s   q   r   t   (   1   /   3   )   ,       -   1   /   2   *   s   q   r   t   (   3   )   *   s   q   r   t   (   1   /   3   )   ]   <   /   t   d   >   \n",
       "                           <   t   d   >   2   *   s   q   r   t   (   1   /   3   )   <   /   t   d   >   \n",
       "                   <   /   t   r   >   \n",
       "                   <   t   r   >   \n",
       "                           <   t   d   >   2   <   /   t   d   >   \n",
       "                           <   t   d   >   1   <   /   t   d   >   \n",
       "                           <   t   d   >   1   <   /   t   d   >   \n",
       "                           <   t   d   >   1   <   /   t   d   >   \n",
       "                           <   t   d   >   [   0   ,       s   q   r   t   (   3   )   *   s   q   r   t   (   1   /   3   )   ]   <   /   t   d   >   \n",
       "                           <   t   d   >   2   *   s   q   r   t   (   1   /   3   )   <   /   t   d   >   \n",
       "                   <   /   t   r   >   \n",
       "                   <   t   r   >   \n",
       "                           <   t   d   >   1   <   /   t   d   >   \n",
       "                           <   t   d   >   2   <   /   t   d   >   \n",
       "                           <   t   d   >   -   2   <   /   t   d   >   \n",
       "                           <   t   d   >   -   1   <   /   t   d   >   \n",
       "                           <   t   d   >   [   -   3   /   7   *   s   q   r   t   (   7   /   3   )   ,       -   2   /   7   *   s   q   r   t   (   3   )   *   s   q   r   t   (   7   /   3   )   ]   <   /   t   d   >   \n",
       "                           <   t   d   >   s   q   r   t   (   7   /   3   )   <   /   t   d   >   \n",
       "                   <   /   t   r   >   \n",
       "                   <   t   r   >   \n",
       "                           <   t   d   >   1   <   /   t   d   >   \n",
       "                           <   t   d   >   2   <   /   t   d   >   \n",
       "                           <   t   d   >   -   2   <   /   t   d   >   \n",
       "                           <   t   d   >   0   <   /   t   d   >   \n",
       "                           <   t   d   >   [   -   9   /   1   4   *   s   q   r   t   (   7   /   3   )   ,       -   1   /   1   4   *   s   q   r   t   (   3   )   *   s   q   r   t   (   7   /   3   )   ]   <   /   t   d   >   \n",
       "                           <   t   d   >   s   q   r   t   (   7   /   3   )   <   /   t   d   >   \n",
       "                   <   /   t   r   >   \n",
       "                   <   t   r   >   \n",
       "                           <   t   d   >   1   <   /   t   d   >   \n",
       "                           <   t   d   >   2   <   /   t   d   >   \n",
       "                           <   t   d   >   0   <   /   t   d   >   \n",
       "                           <   t   d   >   -   1   <   /   t   d   >   \n",
       "                           <   t   d   >   [   3   /   7   *   s   q   r   t   (   7   /   3   )   ,       -   2   /   7   *   s   q   r   t   (   3   )   *   s   q   r   t   (   7   /   3   )   ]   <   /   t   d   >   \n",
       "                           <   t   d   >   s   q   r   t   (   7   /   3   )   <   /   t   d   >   \n",
       "                   <   /   t   r   >   \n",
       "                   <   t   r   >   \n",
       "                           <   t   d   >   1   <   /   t   d   >   \n",
       "                           <   t   d   >   2   <   /   t   d   >   \n",
       "                           <   t   d   >   0   <   /   t   d   >   \n",
       "                           <   t   d   >   2   <   /   t   d   >   \n",
       "                           <   t   d   >   [   -   3   /   1   4   *   s   q   r   t   (   7   /   3   )   ,       5   /   1   4   *   s   q   r   t   (   3   )   *   s   q   r   t   (   7   /   3   )   ]   <   /   t   d   >   \n",
       "                           <   t   d   >   s   q   r   t   (   7   /   3   )   <   /   t   d   >   \n",
       "                   <   /   t   r   >   \n",
       "                   <   t   r   >   \n",
       "                           <   t   d   >   1   <   /   t   d   >   \n",
       "                           <   t   d   >   2   <   /   t   d   >   \n",
       "                           <   t   d   >   1   <   /   t   d   >   \n",
       "                           <   t   d   >   0   <   /   t   d   >   \n",
       "                           <   t   d   >   [   9   /   1   4   *   s   q   r   t   (   7   /   3   )   ,       -   1   /   1   4   *   s   q   r   t   (   3   )   *   s   q   r   t   (   7   /   3   )   ]   <   /   t   d   >   \n",
       "                           <   t   d   >   s   q   r   t   (   7   /   3   )   <   /   t   d   >   \n",
       "                   <   /   t   r   >   \n",
       "                   <   t   r   >   \n",
       "                           <   t   d   >   1   <   /   t   d   >   \n",
       "                           <   t   d   >   2   <   /   t   d   >   \n",
       "                           <   t   d   >   1   <   /   t   d   >   \n",
       "                           <   t   d   >   2   <   /   t   d   >   \n",
       "                           <   t   d   >   [   3   /   1   4   *   s   q   r   t   (   7   /   3   )   ,       5   /   1   4   *   s   q   r   t   (   3   )   *   s   q   r   t   (   7   /   3   )   ]   <   /   t   d   >   \n",
       "                           <   t   d   >   s   q   r   t   (   7   /   3   )   <   /   t   d   >   \n",
       "                   <   /   t   r   >   \n",
       "                   <   t   r   >   \n",
       "                           <   t   d   >   2   <   /   t   d   >   \n",
       "                           <   t   d   >   1   <   /   t   d   >   \n",
       "                           <   t   d   >   -   1   <   /   t   d   >   \n",
       "                           <   t   d   >   -   2   <   /   t   d   >   \n",
       "                           <   t   d   >   [   -   3   /   1   4   *   s   q   r   t   (   7   /   3   )   ,       -   5   /   1   4   *   s   q   r   t   (   3   )   *   s   q   r   t   (   7   /   3   )   ]   <   /   t   d   >   \n",
       "                           <   t   d   >   s   q   r   t   (   7   /   3   )   <   /   t   d   >   \n",
       "                   <   /   t   r   >   \n",
       "                   <   t   r   >   \n",
       "                           <   t   d   >   2   <   /   t   d   >   \n",
       "                           <   t   d   >   1   <   /   t   d   >   \n",
       "                           <   t   d   >   -   1   <   /   t   d   >   \n",
       "                           <   t   d   >   0   <   /   t   d   >   \n",
       "                           <   t   d   >   [   -   9   /   1   4   *   s   q   r   t   (   7   /   3   )   ,       1   /   1   4   *   s   q   r   t   (   3   )   *   s   q   r   t   (   7   /   3   )   ]   <   /   t   d   >   \n",
       "                           <   t   d   >   s   q   r   t   (   7   /   3   )   <   /   t   d   >   \n",
       "                   <   /   t   r   >   \n",
       "                   <   t   r   >   \n",
       "                           <   t   d   >   2   <   /   t   d   >   \n",
       "                           <   t   d   >   1   <   /   t   d   >   \n",
       "                           <   t   d   >   0   <   /   t   d   >   \n",
       "                           <   t   d   >   -   2   <   /   t   d   >   \n",
       "                           <   t   d   >   [   3   /   1   4   *   s   q   r   t   (   7   /   3   )   ,       -   5   /   1   4   *   s   q   r   t   (   3   )   *   s   q   r   t   (   7   /   3   )   ]   <   /   t   d   >   \n",
       "                           <   t   d   >   s   q   r   t   (   7   /   3   )   <   /   t   d   >   \n",
       "                   <   /   t   r   >   \n",
       "                   <   t   r   >   \n",
       "                           <   t   d   >   2   <   /   t   d   >   \n",
       "                           <   t   d   >   1   <   /   t   d   >   \n",
       "                           <   t   d   >   0   <   /   t   d   >   \n",
       "                           <   t   d   >   1   <   /   t   d   >   \n",
       "                           <   t   d   >   [   -   3   /   7   *   s   q   r   t   (   7   /   3   )   ,       2   /   7   *   s   q   r   t   (   3   )   *   s   q   r   t   (   7   /   3   )   ]   <   /   t   d   >   \n",
       "                           <   t   d   >   s   q   r   t   (   7   /   3   )   <   /   t   d   >   \n",
       "                   <   /   t   r   >   \n",
       "                   <   t   r   >   \n",
       "                           <   t   d   >   2   <   /   t   d   >   \n",
       "                           <   t   d   >   1   <   /   t   d   >   \n",
       "                           <   t   d   >   2   <   /   t   d   >   \n",
       "                           <   t   d   >   0   <   /   t   d   >   \n",
       "                           <   t   d   >   [   9   /   1   4   *   s   q   r   t   (   7   /   3   )   ,       1   /   1   4   *   s   q   r   t   (   3   )   *   s   q   r   t   (   7   /   3   )   ]   <   /   t   d   >   \n",
       "                           <   t   d   >   s   q   r   t   (   7   /   3   )   <   /   t   d   >   \n",
       "                   <   /   t   r   >   \n",
       "                   <   t   r   >   \n",
       "                           <   t   d   >   2   <   /   t   d   >   \n",
       "                           <   t   d   >   1   <   /   t   d   >   \n",
       "                           <   t   d   >   2   <   /   t   d   >   \n",
       "                           <   t   d   >   1   <   /   t   d   >   \n",
       "                           <   t   d   >   [   3   /   7   *   s   q   r   t   (   7   /   3   )   ,       2   /   7   *   s   q   r   t   (   3   )   *   s   q   r   t   (   7   /   3   )   ]   <   /   t   d   >   \n",
       "                           <   t   d   >   s   q   r   t   (   7   /   3   )   <   /   t   d   >   \n",
       "                   <   /   t   r   >   \n",
       "                   <   t   r   >   \n",
       "                           <   t   d   >   1   <   /   t   d   >   \n",
       "                           <   t   d   >   1   <   /   t   d   >   \n",
       "                           <   t   d   >   -   2   <   /   t   d   >   \n",
       "                           <   t   d   >   -   1   <   /   t   d   >   \n",
       "                           <   t   d   >   [   -   1   /   2   *   s   q   r   t   (   3   )   ,       -   1   /   2   ]   <   /   t   d   >   \n",
       "                           <   t   d   >   s   q   r   t   (   3   )   <   /   t   d   >   \n",
       "                   <   /   t   r   >   \n",
       "                   <   t   r   >   \n",
       "                           <   t   d   >   1   <   /   t   d   >   \n",
       "                           <   t   d   >   1   <   /   t   d   >   \n",
       "                           <   t   d   >   -   1   <   /   t   d   >   \n",
       "                           <   t   d   >   -   2   <   /   t   d   >   \n",
       "                           <   t   d   >   [   0   ,       -   1   ]   <   /   t   d   >   \n",
       "                           <   t   d   >   s   q   r   t   (   3   )   <   /   t   d   >   \n",
       "                   <   /   t   r   >   \n",
       "                   <   t   r   >   \n",
       "                           <   t   d   >   1   <   /   t   d   >   \n",
       "                           <   t   d   >   1   <   /   t   d   >   \n",
       "                           <   t   d   >   -   1   <   /   t   d   >   \n",
       "                           <   t   d   >   1   <   /   t   d   >   \n",
       "                           <   t   d   >   [   -   1   /   2   *   s   q   r   t   (   3   )   ,       1   /   2   ]   <   /   t   d   >   \n",
       "                           <   t   d   >   s   q   r   t   (   3   )   <   /   t   d   >   \n",
       "                   <   /   t   r   >   \n",
       "                   <   t   r   >   \n",
       "                           <   t   d   >   1   <   /   t   d   >   \n",
       "                           <   t   d   >   1   <   /   t   d   >   \n",
       "                           <   t   d   >   1   <   /   t   d   >   \n",
       "                           <   t   d   >   -   1   <   /   t   d   >   \n",
       "                           <   t   d   >   [   1   /   2   *   s   q   r   t   (   3   )   ,       -   1   /   2   ]   <   /   t   d   >   \n",
       "                           <   t   d   >   s   q   r   t   (   3   )   <   /   t   d   >   \n",
       "                   <   /   t   r   >   \n",
       "                   <   t   r   >   \n",
       "                           <   t   d   >   1   <   /   t   d   >   \n",
       "                           <   t   d   >   1   <   /   t   d   >   \n",
       "                           <   t   d   >   1   <   /   t   d   >   \n",
       "                           <   t   d   >   2   <   /   t   d   >   \n",
       "                           <   t   d   >   [   0   ,       1   ]   <   /   t   d   >   \n",
       "                           <   t   d   >   s   q   r   t   (   3   )   <   /   t   d   >   \n",
       "                   <   /   t   r   >   \n",
       "                   <   t   r   >   \n",
       "                           <   t   d   >   1   <   /   t   d   >   \n",
       "                           <   t   d   >   1   <   /   t   d   >   \n",
       "                           <   t   d   >   2   <   /   t   d   >   \n",
       "                           <   t   d   >   1   <   /   t   d   >   \n",
       "                           <   t   d   >   [   1   /   2   *   s   q   r   t   (   3   )   ,       1   /   2   ]   <   /   t   d   >   \n",
       "                           <   t   d   >   s   q   r   t   (   3   )   <   /   t   d   >   \n",
       "                   <   /   t   r   >   \n",
       "                   <   t   r   >   \n",
       "                           <   t   d   >   2   <   /   t   d   >   \n",
       "                           <   t   d   >   2   <   /   t   d   >   \n",
       "                           <   t   d   >   -   2   <   /   t   d   >   \n",
       "                           <   t   d   >   -   1   <   /   t   d   >   \n",
       "                           <   t   d   >   [   -   1   /   2   *   s   q   r   t   (   3   )   ,       -   1   /   2   ]   <   /   t   d   >   \n",
       "                           <   t   d   >   s   q   r   t   (   3   )   <   /   t   d   >   \n",
       "                   <   /   t   r   >   \n",
       "                   <   t   r   >   \n",
       "                           <   t   d   >   2   <   /   t   d   >   \n",
       "                           <   t   d   >   2   <   /   t   d   >   \n",
       "                           <   t   d   >   -   1   <   /   t   d   >   \n",
       "                           <   t   d   >   -   2   <   /   t   d   >   \n",
       "                           <   t   d   >   [   0   ,       -   1   ]   <   /   t   d   >   \n",
       "                           <   t   d   >   s   q   r   t   (   3   )   <   /   t   d   >   \n",
       "                   <   /   t   r   >   \n",
       "                   <   t   r   >   \n",
       "                           <   t   d   >   2   <   /   t   d   >   \n",
       "                           <   t   d   >   2   <   /   t   d   >   \n",
       "                           <   t   d   >   -   1   <   /   t   d   >   \n",
       "                           <   t   d   >   1   <   /   t   d   >   \n",
       "                           <   t   d   >   [   -   1   /   2   *   s   q   r   t   (   3   )   ,       1   /   2   ]   <   /   t   d   >   \n",
       "                           <   t   d   >   s   q   r   t   (   3   )   <   /   t   d   >   \n",
       "                   <   /   t   r   >   \n",
       "                   <   t   r   >   \n",
       "                           <   t   d   >   2   <   /   t   d   >   \n",
       "                           <   t   d   >   2   <   /   t   d   >   \n",
       "                           <   t   d   >   1   <   /   t   d   >   \n",
       "                           <   t   d   >   -   1   <   /   t   d   >   \n",
       "                           <   t   d   >   [   1   /   2   *   s   q   r   t   (   3   )   ,       -   1   /   2   ]   <   /   t   d   >   \n",
       "                           <   t   d   >   s   q   r   t   (   3   )   <   /   t   d   >   \n",
       "                   <   /   t   r   >   \n",
       "                   <   t   r   >   \n",
       "                           <   t   d   >   2   <   /   t   d   >   \n",
       "                           <   t   d   >   2   <   /   t   d   >   \n",
       "                           <   t   d   >   1   <   /   t   d   >   \n",
       "                           <   t   d   >   2   <   /   t   d   >   \n",
       "                           <   t   d   >   [   0   ,       1   ]   <   /   t   d   >   \n",
       "                           <   t   d   >   s   q   r   t   (   3   )   <   /   t   d   >   \n",
       "                   <   /   t   r   >   \n",
       "                   <   t   r   >   \n",
       "                           <   t   d   >   2   <   /   t   d   >   \n",
       "                           <   t   d   >   2   <   /   t   d   >   \n",
       "                           <   t   d   >   2   <   /   t   d   >   \n",
       "                           <   t   d   >   1   <   /   t   d   >   \n",
       "                           <   t   d   >   [   1   /   2   *   s   q   r   t   (   3   )   ,       1   /   2   ]   <   /   t   d   >   \n",
       "                           <   t   d   >   s   q   r   t   (   3   )   <   /   t   d   >   \n",
       "                   <   /   t   r   >   \n",
       "                   <   t   r   >   \n",
       "                           <   t   d   >   1   <   /   t   d   >   \n",
       "                           <   t   d   >   1   <   /   t   d   >   \n",
       "                           <   t   d   >   -   2   <   /   t   d   >   \n",
       "                           <   t   d   >   -   2   <   /   t   d   >   \n",
       "                           <   t   d   >   [   -   1   /   2   ,       -   1   /   2   *   s   q   r   t   (   3   )   ]   <   /   t   d   >   \n",
       "                           <   t   d   >   2   <   /   t   d   >   \n",
       "                   <   /   t   r   >   \n",
       "                   <   t   r   >   \n",
       "                           <   t   d   >   1   <   /   t   d   >   \n",
       "                           <   t   d   >   1   <   /   t   d   >   \n",
       "                           <   t   d   >   -   2   <   /   t   d   >   \n",
       "                           <   t   d   >   0   <   /   t   d   >   \n",
       "                           <   t   d   >   [   -   1   ,       0   ]   <   /   t   d   >   \n",
       "                           <   t   d   >   2   <   /   t   d   >   \n",
       "                   <   /   t   r   >   \n",
       "                   <   t   r   >   \n",
       "                           <   t   d   >   1   <   /   t   d   >   \n",
       "                           <   t   d   >   1   <   /   t   d   >   \n",
       "                           <   t   d   >   0   <   /   t   d   >   \n",
       "                           <   t   d   >   -   2   <   /   t   d   >   \n",
       "                           <   t   d   >   [   1   /   2   ,       -   1   /   2   *   s   q   r   t   (   3   )   ]   <   /   t   d   >   \n",
       "                           <   t   d   >   2   <   /   t   d   >   \n",
       "                   <   /   t   r   >   \n",
       "                   <   t   r   >   \n",
       "                           <   t   d   >   1   <   /   t   d   >   \n",
       "                           <   t   d   >   1   <   /   t   d   >   \n",
       "                           <   t   d   >   0   <   /   t   d   >   \n",
       "                           <   t   d   >   2   <   /   t   d   >   \n",
       "                           <   t   d   >   [   -   1   /   2   ,       1   /   2   *   s   q   r   t   (   3   )   ]   <   /   t   d   >   \n",
       "                           <   t   d   >   2   <   /   t   d   >   \n",
       "                   <   /   t   r   >   \n",
       "                   <   t   r   >   \n",
       "                           <   t   d   >   1   <   /   t   d   >   \n",
       "                           <   t   d   >   1   <   /   t   d   >   \n",
       "                           <   t   d   >   2   <   /   t   d   >   \n",
       "                           <   t   d   >   0   <   /   t   d   >   \n",
       "                           <   t   d   >   [   1   ,       0   ]   <   /   t   d   >   \n",
       "                           <   t   d   >   2   <   /   t   d   >   \n",
       "                   <   /   t   r   >   \n",
       "                   <   t   r   >   \n",
       "                           <   t   d   >   1   <   /   t   d   >   \n",
       "                           <   t   d   >   1   <   /   t   d   >   \n",
       "                           <   t   d   >   2   <   /   t   d   >   \n",
       "                           <   t   d   >   2   <   /   t   d   >   \n",
       "                           <   t   d   >   [   1   /   2   ,       1   /   2   *   s   q   r   t   (   3   )   ]   <   /   t   d   >   \n",
       "                           <   t   d   >   2   <   /   t   d   >   \n",
       "                   <   /   t   r   >   \n",
       "                   <   t   r   >   \n",
       "                           <   t   d   >   2   <   /   t   d   >   \n",
       "                           <   t   d   >   2   <   /   t   d   >   \n",
       "                           <   t   d   >   -   2   <   /   t   d   >   \n",
       "                           <   t   d   >   -   2   <   /   t   d   >   \n",
       "                           <   t   d   >   [   -   1   /   2   ,       -   1   /   2   *   s   q   r   t   (   3   )   ]   <   /   t   d   >   \n",
       "                           <   t   d   >   2   <   /   t   d   >   \n",
       "                   <   /   t   r   >   \n",
       "                   <   t   r   >   \n",
       "                           <   t   d   >   2   <   /   t   d   >   \n",
       "                           <   t   d   >   2   <   /   t   d   >   \n",
       "                           <   t   d   >   -   2   <   /   t   d   >   \n",
       "                           <   t   d   >   0   <   /   t   d   >   \n",
       "                           <   t   d   >   [   -   1   ,       0   ]   <   /   t   d   >   \n",
       "                           <   t   d   >   2   <   /   t   d   >   \n",
       "                   <   /   t   r   >   \n",
       "                   <   t   r   >   \n",
       "                           <   t   d   >   2   <   /   t   d   >   \n",
       "                           <   t   d   >   2   <   /   t   d   >   \n",
       "                           <   t   d   >   0   <   /   t   d   >   \n",
       "                           <   t   d   >   -   2   <   /   t   d   >   \n",
       "                           <   t   d   >   [   1   /   2   ,       -   1   /   2   *   s   q   r   t   (   3   )   ]   <   /   t   d   >   \n",
       "                           <   t   d   >   2   <   /   t   d   >   \n",
       "                   <   /   t   r   >   \n",
       "                   <   t   r   >   \n",
       "                           <   t   d   >   2   <   /   t   d   >   \n",
       "                           <   t   d   >   2   <   /   t   d   >   \n",
       "                           <   t   d   >   0   <   /   t   d   >   \n",
       "                           <   t   d   >   2   <   /   t   d   >   \n",
       "                           <   t   d   >   [   -   1   /   2   ,       1   /   2   *   s   q   r   t   (   3   )   ]   <   /   t   d   >   \n",
       "                           <   t   d   >   2   <   /   t   d   >   \n",
       "                   <   /   t   r   >   \n",
       "                   <   t   r   >   \n",
       "                           <   t   d   >   2   <   /   t   d   >   \n",
       "                           <   t   d   >   2   <   /   t   d   >   \n",
       "                           <   t   d   >   2   <   /   t   d   >   \n",
       "                           <   t   d   >   0   <   /   t   d   >   \n",
       "                           <   t   d   >   [   1   ,       0   ]   <   /   t   d   >   \n",
       "                           <   t   d   >   2   <   /   t   d   >   \n",
       "                   <   /   t   r   >   \n",
       "                   <   t   r   >   \n",
       "                           <   t   d   >   2   <   /   t   d   >   \n",
       "                           <   t   d   >   2   <   /   t   d   >   \n",
       "                           <   t   d   >   2   <   /   t   d   >   \n",
       "                           <   t   d   >   2   <   /   t   d   >   \n",
       "                           <   t   d   >   [   1   /   2   ,       1   /   2   *   s   q   r   t   (   3   )   ]   <   /   t   d   >   \n",
       "                           <   t   d   >   2   <   /   t   d   >   \n",
       "                   <   /   t   r   >   \n",
       "                   <   t   r   >   \n",
       "                           <   t   d   >   1   <   /   t   d   >   \n",
       "                           <   t   d   >   2   <   /   t   d   >   \n",
       "                           <   t   d   >   -   2   <   /   t   d   >   \n",
       "                           <   t   d   >   -   2   <   /   t   d   >   \n",
       "                           <   t   d   >   [   -   3   /   2   6   *   s   q   r   t   (   1   3   /   3   )   ,       -   7   /   2   6   *   s   q   r   t   (   1   3   /   3   )   *   s   q   r   t   (   3   )   ]   <   /   t   d   >   \n",
       "                           <   t   d   >   s   q   r   t   (   1   3   /   3   )   <   /   t   d   >   \n",
       "                   <   /   t   r   >   \n",
       "                   <   t   r   >   \n",
       "                           <   t   d   >   1   <   /   t   d   >   \n",
       "                           <   t   d   >   2   <   /   t   d   >   \n",
       "                           <   t   d   >   -   2   <   /   t   d   >   \n",
       "                           <   t   d   >   1   <   /   t   d   >   \n",
       "                           <   t   d   >   [   -   6   /   1   3   *   s   q   r   t   (   1   3   /   3   )   ,       1   /   1   3   *   s   q   r   t   (   1   3   /   3   )   *   s   q   r   t   (   3   )   ]   <   /   t   d   >   \n",
       "                           <   t   d   >   s   q   r   t   (   1   3   /   3   )   <   /   t   d   >   \n",
       "                   <   /   t   r   >   \n",
       "                   <   t   r   >   \n",
       "                           <   t   d   >   1   <   /   t   d   >   \n",
       "                           <   t   d   >   2   <   /   t   d   >   \n",
       "                           <   t   d   >   -   1   <   /   t   d   >   \n",
       "                           <   t   d   >   -   2   <   /   t   d   >   \n",
       "                           <   t   d   >   [   3   /   2   6   *   s   q   r   t   (   1   3   /   3   )   ,       -   7   /   2   6   *   s   q   r   t   (   1   3   /   3   )   *   s   q   r   t   (   3   )   ]   <   /   t   d   >   \n",
       "                           <   t   d   >   s   q   r   t   (   1   3   /   3   )   <   /   t   d   >   \n",
       "                   <   /   t   r   >   \n",
       "                   <   t   r   >   \n",
       "                           <   t   d   >   1   <   /   t   d   >   \n",
       "                           <   t   d   >   2   <   /   t   d   >   \n",
       "                           <   t   d   >   -   1   <   /   t   d   >   \n",
       "                           <   t   d   >   2   <   /   t   d   >   \n",
       "                           <   t   d   >   [   -   9   /   2   6   *   s   q   r   t   (   1   3   /   3   )   ,       5   /   2   6   *   s   q   r   t   (   1   3   /   3   )   *   s   q   r   t   (   3   )   ]   <   /   t   d   >   \n",
       "                           <   t   d   >   s   q   r   t   (   1   3   /   3   )   <   /   t   d   >   \n",
       "                   <   /   t   r   >   \n",
       "                   <   t   r   >   \n",
       "                           <   t   d   >   1   <   /   t   d   >   \n",
       "                           <   t   d   >   2   <   /   t   d   >   \n",
       "                           <   t   d   >   2   <   /   t   d   >   \n",
       "                           <   t   d   >   1   <   /   t   d   >   \n",
       "                           <   t   d   >   [   6   /   1   3   *   s   q   r   t   (   1   3   /   3   )   ,       1   /   1   3   *   s   q   r   t   (   1   3   /   3   )   *   s   q   r   t   (   3   )   ]   <   /   t   d   >   \n",
       "                           <   t   d   >   s   q   r   t   (   1   3   /   3   )   <   /   t   d   >   \n",
       "                   <   /   t   r   >   \n",
       "                   <   t   r   >   \n",
       "                           <   t   d   >   1   <   /   t   d   >   \n",
       "                           <   t   d   >   2   <   /   t   d   >   \n",
       "                           <   t   d   >   2   <   /   t   d   >   \n",
       "                           <   t   d   >   2   <   /   t   d   >   \n",
       "                           <   t   d   >   [   9   /   2   6   *   s   q   r   t   (   1   3   /   3   )   ,       5   /   2   6   *   s   q   r   t   (   1   3   /   3   )   *   s   q   r   t   (   3   )   ]   <   /   t   d   >   \n",
       "                           <   t   d   >   s   q   r   t   (   1   3   /   3   )   <   /   t   d   >   \n",
       "                   <   /   t   r   >   \n",
       "                   <   t   r   >   \n",
       "                           <   t   d   >   2   <   /   t   d   >   \n",
       "                           <   t   d   >   1   <   /   t   d   >   \n",
       "                           <   t   d   >   -   2   <   /   t   d   >   \n",
       "                           <   t   d   >   -   2   <   /   t   d   >   \n",
       "                           <   t   d   >   [   -   9   /   2   6   *   s   q   r   t   (   1   3   /   3   )   ,       -   5   /   2   6   *   s   q   r   t   (   1   3   /   3   )   *   s   q   r   t   (   3   )   ]   <   /   t   d   >   \n",
       "                           <   t   d   >   s   q   r   t   (   1   3   /   3   )   <   /   t   d   >   \n",
       "                   <   /   t   r   >   \n",
       "                   <   t   r   >   \n",
       "                           <   t   d   >   2   <   /   t   d   >   \n",
       "                           <   t   d   >   1   <   /   t   d   >   \n",
       "                           <   t   d   >   -   2   <   /   t   d   >   \n",
       "                           <   t   d   >   -   1   <   /   t   d   >   \n",
       "                           <   t   d   >   [   -   6   /   1   3   *   s   q   r   t   (   1   3   /   3   )   ,       -   1   /   1   3   *   s   q   r   t   (   1   3   /   3   )   *   s   q   r   t   (   3   )   ]   <   /   t   d   >   \n",
       "                           <   t   d   >   s   q   r   t   (   1   3   /   3   )   <   /   t   d   >   \n",
       "                   <   /   t   r   >   \n",
       "                   <   t   r   >   \n",
       "                           <   t   d   >   2   <   /   t   d   >   \n",
       "                           <   t   d   >   1   <   /   t   d   >   \n",
       "                           <   t   d   >   1   <   /   t   d   >   \n",
       "                           <   t   d   >   -   2   <   /   t   d   >   \n",
       "                           <   t   d   >   [   9   /   2   6   *   s   q   r   t   (   1   3   /   3   )   ,       -   5   /   2   6   *   s   q   r   t   (   1   3   /   3   )   *   s   q   r   t   (   3   )   ]   <   /   t   d   >   \n",
       "                           <   t   d   >   s   q   r   t   (   1   3   /   3   )   <   /   t   d   >   \n",
       "                   <   /   t   r   >   \n",
       "                   <   t   r   >   \n",
       "                           <   t   d   >   2   <   /   t   d   >   \n",
       "                           <   t   d   >   1   <   /   t   d   >   \n",
       "                           <   t   d   >   1   <   /   t   d   >   \n",
       "                           <   t   d   >   2   <   /   t   d   >   \n",
       "                           <   t   d   >   [   -   3   /   2   6   *   s   q   r   t   (   1   3   /   3   )   ,       7   /   2   6   *   s   q   r   t   (   1   3   /   3   )   *   s   q   r   t   (   3   )   ]   <   /   t   d   >   \n",
       "                           <   t   d   >   s   q   r   t   (   1   3   /   3   )   <   /   t   d   >   \n",
       "                   <   /   t   r   >   \n",
       "                   <   t   r   >   \n",
       "                           <   t   d   >   2   <   /   t   d   >   \n",
       "                           <   t   d   >   1   <   /   t   d   >   \n",
       "                           <   t   d   >   2   <   /   t   d   >   \n",
       "                           <   t   d   >   -   1   <   /   t   d   >   \n",
       "                           <   t   d   >   [   6   /   1   3   *   s   q   r   t   (   1   3   /   3   )   ,       -   1   /   1   3   *   s   q   r   t   (   1   3   /   3   )   *   s   q   r   t   (   3   )   ]   <   /   t   d   >   \n",
       "                           <   t   d   >   s   q   r   t   (   1   3   /   3   )   <   /   t   d   >   \n",
       "                   <   /   t   r   >   \n",
       "                   <   t   r   >   \n",
       "                           <   t   d   >   2   <   /   t   d   >   \n",
       "                           <   t   d   >   1   <   /   t   d   >   \n",
       "                           <   t   d   >   2   <   /   t   d   >   \n",
       "                           <   t   d   >   2   <   /   t   d   >   \n",
       "                           <   t   d   >   [   3   /   2   6   *   s   q   r   t   (   1   3   /   3   )   ,       7   /   2   6   *   s   q   r   t   (   1   3   /   3   )   *   s   q   r   t   (   3   )   ]   <   /   t   d   >   \n",
       "                           <   t   d   >   s   q   r   t   (   1   3   /   3   )   <   /   t   d   >   \n",
       "                   <   /   t   r   >   \n",
       "                   <   t   r   >   \n",
       "                           <   t   d   >   1   <   /   t   d   >   \n",
       "                           <   t   d   >   2   <   /   t   d   >   \n",
       "                           <   t   d   >   1   <   /   t   d   >   \n",
       "                           <   t   d   >   -   1   <   /   t   d   >   \n",
       "                           <   t   d   >   [   3   /   2   *   s   q   r   t   (   1   /   3   )   ,       -   1   /   2   *   s   q   r   t   (   3   )   *   s   q   r   t   (   1   /   3   )   ]   <   /   t   d   >   \n",
       "                           <   t   d   >   4   *   s   q   r   t   (   1   /   3   )   <   /   t   d   >   \n",
       "                   <   /   t   r   >   \n",
       "                   <   t   r   >   \n",
       "                           <   t   d   >   2   <   /   t   d   >   \n",
       "                           <   t   d   >   1   <   /   t   d   >   \n",
       "                           <   t   d   >   -   1   <   /   t   d   >   \n",
       "                           <   t   d   >   1   <   /   t   d   >   \n",
       "                           <   t   d   >   [   -   3   /   2   *   s   q   r   t   (   1   /   3   )   ,       1   /   2   *   s   q   r   t   (   3   )   *   s   q   r   t   (   1   /   3   )   ]   <   /   t   d   >   \n",
       "                           <   t   d   >   4   *   s   q   r   t   (   1   /   3   )   <   /   t   d   >   \n",
       "                   <   /   t   r   >   \n",
       "                   <   t   r   >   \n",
       "                           <   t   d   >   1   <   /   t   d   >   \n",
       "                           <   t   d   >   2   <   /   t   d   >   \n",
       "                           <   t   d   >   0   <   /   t   d   >   \n",
       "                           <   t   d   >   -   2   <   /   t   d   >   \n",
       "                           <   t   d   >   [   9   /   3   8   *   s   q   r   t   (   1   9   /   3   )   ,       -   7   /   3   8   *   s   q   r   t   (   1   9   /   3   )   *   s   q   r   t   (   3   )   ]   <   /   t   d   >   \n",
       "                           <   t   d   >   s   q   r   t   (   1   9   /   3   )   <   /   t   d   >   \n",
       "                   <   /   t   r   >   \n",
       "                   <   t   r   >   \n",
       "                           <   t   d   >   1   <   /   t   d   >   \n",
       "                           <   t   d   >   2   <   /   t   d   >   \n",
       "                           <   t   d   >   2   <   /   t   d   >   \n",
       "                           <   t   d   >   0   <   /   t   d   >   \n",
       "                           <   t   d   >   [   1   5   /   3   8   *   s   q   r   t   (   1   9   /   3   )   ,       -   1   /   3   8   *   s   q   r   t   (   1   9   /   3   )   *   s   q   r   t   (   3   )   ]   <   /   t   d   >   \n",
       "                           <   t   d   >   s   q   r   t   (   1   9   /   3   )   <   /   t   d   >   \n",
       "                   <   /   t   r   >   \n",
       "                   <   t   r   >   \n",
       "                           <   t   d   >   2   <   /   t   d   >   \n",
       "                           <   t   d   >   1   <   /   t   d   >   \n",
       "                           <   t   d   >   -   2   <   /   t   d   >   \n",
       "                           <   t   d   >   0   <   /   t   d   >   \n",
       "                           <   t   d   >   [   -   1   5   /   3   8   *   s   q   r   t   (   1   9   /   3   )   ,       1   /   3   8   *   s   q   r   t   (   1   9   /   3   )   *   s   q   r   t   (   3   )   ]   <   /   t   d   >   \n",
       "                           <   t   d   >   s   q   r   t   (   1   9   /   3   )   <   /   t   d   >   \n",
       "                   <   /   t   r   >   \n",
       "                   <   t   r   >   \n",
       "                           <   t   d   >   2   <   /   t   d   >   \n",
       "                           <   t   d   >   1   <   /   t   d   >   \n",
       "                           <   t   d   >   0   <   /   t   d   >   \n",
       "                           <   t   d   >   2   <   /   t   d   >   \n",
       "                           <   t   d   >   [   -   9   /   3   8   *   s   q   r   t   (   1   9   /   3   )   ,       7   /   3   8   *   s   q   r   t   (   1   9   /   3   )   *   s   q   r   t   (   3   )   ]   <   /   t   d   >   \n",
       "                           <   t   d   >   s   q   r   t   (   1   9   /   3   )   <   /   t   d   >   \n",
       "                   <   /   t   r   >   \n",
       "                   <   t   r   >   \n",
       "                           <   t   d   >   1   <   /   t   d   >   \n",
       "                           <   t   d   >   1   <   /   t   d   >   \n",
       "                           <   t   d   >   -   2   <   /   t   d   >   \n",
       "                           <   t   d   >   1   <   /   t   d   >   \n",
       "                           <   t   d   >   [   -   5   /   1   4   *   s   q   r   t   (   7   )   ,       1   /   1   4   *   s   q   r   t   (   7   )   *   s   q   r   t   (   3   )   ]   <   /   t   d   >   \n",
       "                           <   t   d   >   s   q   r   t   (   7   )   <   /   t   d   >   \n",
       "                   <   /   t   r   >   \n",
       "                   <   t   r   >   \n",
       "                           <   t   d   >   1   <   /   t   d   >   \n",
       "                           <   t   d   >   1   <   /   t   d   >   \n",
       "                           <   t   d   >   -   1   <   /   t   d   >   \n",
       "                           <   t   d   >   2   <   /   t   d   >   \n",
       "                           <   t   d   >   [   -   2   /   7   *   s   q   r   t   (   7   )   ,       1   /   7   *   s   q   r   t   (   7   )   *   s   q   r   t   (   3   )   ]   <   /   t   d   >   \n",
       "                           <   t   d   >   s   q   r   t   (   7   )   <   /   t   d   >   \n",
       "                   <   /   t   r   >   \n",
       "                   <   t   r   >   \n",
       "                           <   t   d   >   1   <   /   t   d   >   \n",
       "                           <   t   d   >   1   <   /   t   d   >   \n",
       "                           <   t   d   >   1   <   /   t   d   >   \n",
       "                           <   t   d   >   -   2   <   /   t   d   >   \n",
       "                           <   t   d   >   [   2   /   7   *   s   q   r   t   (   7   )   ,       -   1   /   7   *   s   q   r   t   (   7   )   *   s   q   r   t   (   3   )   ]   <   /   t   d   >   \n",
       "                           <   t   d   >   s   q   r   t   (   7   )   <   /   t   d   >   \n",
       "                   <   /   t   r   >   \n",
       "                   <   t   r   >   \n",
       "                           <   t   d   >   1   <   /   t   d   >   \n",
       "                           <   t   d   >   1   <   /   t   d   >   \n",
       "                           <   t   d   >   2   <   /   t   d   >   \n",
       "                           <   t   d   >   -   1   <   /   t   d   >   \n",
       "                           <   t   d   >   [   5   /   1   4   *   s   q   r   t   (   7   )   ,       -   1   /   1   4   *   s   q   r   t   (   7   )   *   s   q   r   t   (   3   )   ]   <   /   t   d   >   \n",
       "                           <   t   d   >   s   q   r   t   (   7   )   <   /   t   d   >   \n",
       "                   <   /   t   r   >   \n",
       "                   <   t   r   >   \n",
       "                           <   t   d   >   2   <   /   t   d   >   \n",
       "                           <   t   d   >   2   <   /   t   d   >   \n",
       "                           <   t   d   >   -   2   <   /   t   d   >   \n",
       "                           <   t   d   >   1   <   /   t   d   >   \n",
       "                           <   t   d   >   [   -   5   /   1   4   *   s   q   r   t   (   7   )   ,       1   /   1   4   *   s   q   r   t   (   7   )   *   s   q   r   t   (   3   )   ]   <   /   t   d   >   \n",
       "                           <   t   d   >   s   q   r   t   (   7   )   <   /   t   d   >   \n",
       "                   <   /   t   r   >   \n",
       "                   <   t   r   >   \n",
       "                           <   t   d   >   2   <   /   t   d   >   \n",
       "                           <   t   d   >   2   <   /   t   d   >   \n",
       "                           <   t   d   >   -   1   <   /   t   d   >   \n",
       "                           <   t   d   >   2   <   /   t   d   >   \n",
       "                           <   t   d   >   [   -   2   /   7   *   s   q   r   t   (   7   )   ,       1   /   7   *   s   q   r   t   (   7   )   *   s   q   r   t   (   3   )   ]   <   /   t   d   >   \n",
       "                           <   t   d   >   s   q   r   t   (   7   )   <   /   t   d   >   \n",
       "                   <   /   t   r   >   \n",
       "                   <   t   r   >   \n",
       "                           <   t   d   >   2   <   /   t   d   >   \n",
       "                           <   t   d   >   2   <   /   t   d   >   \n",
       "                           <   t   d   >   1   <   /   t   d   >   \n",
       "                           <   t   d   >   -   2   <   /   t   d   >   \n",
       "                           <   t   d   >   [   2   /   7   *   s   q   r   t   (   7   )   ,       -   1   /   7   *   s   q   r   t   (   7   )   *   s   q   r   t   (   3   )   ]   <   /   t   d   >   \n",
       "                           <   t   d   >   s   q   r   t   (   7   )   <   /   t   d   >   \n",
       "                   <   /   t   r   >   \n",
       "                   <   t   r   >   \n",
       "                           <   t   d   >   2   <   /   t   d   >   \n",
       "                           <   t   d   >   2   <   /   t   d   >   \n",
       "                           <   t   d   >   2   <   /   t   d   >   \n",
       "                           <   t   d   >   -   1   <   /   t   d   >   \n",
       "                           <   t   d   >   [   5   /   1   4   *   s   q   r   t   (   7   )   ,       -   1   /   1   4   *   s   q   r   t   (   7   )   *   s   q   r   t   (   3   )   ]   <   /   t   d   >   \n",
       "                           <   t   d   >   s   q   r   t   (   7   )   <   /   t   d   >   \n",
       "                   <   /   t   r   >   \n",
       "                   <   t   r   >   \n",
       "                           <   t   d   >   1   <   /   t   d   >   \n",
       "                           <   t   d   >   2   <   /   t   d   >   \n",
       "                           <   t   d   >   -   2   <   /   t   d   >   \n",
       "                           <   t   d   >   2   <   /   t   d   >   \n",
       "                           <   t   d   >   [   -   3   /   2   *   s   q   r   t   (   1   /   3   )   ,       1   /   2   *   s   q   r   t   (   3   )   *   s   q   r   t   (   1   /   3   )   ]   <   /   t   d   >   \n",
       "                           <   t   d   >   5   *   s   q   r   t   (   1   /   3   )   <   /   t   d   >   \n",
       "                   <   /   t   r   >   \n",
       "                   <   t   r   >   \n",
       "                           <   t   d   >   2   <   /   t   d   >   \n",
       "                           <   t   d   >   1   <   /   t   d   >   \n",
       "                           <   t   d   >   2   <   /   t   d   >   \n",
       "                           <   t   d   >   -   2   <   /   t   d   >   \n",
       "                           <   t   d   >   [   3   /   2   *   s   q   r   t   (   1   /   3   )   ,       -   1   /   2   *   s   q   r   t   (   3   )   *   s   q   r   t   (   1   /   3   )   ]   <   /   t   d   >   \n",
       "                           <   t   d   >   5   *   s   q   r   t   (   1   /   3   )   <   /   t   d   >   \n",
       "                   <   /   t   r   >   \n",
       "                   <   t   r   >   \n",
       "                           <   t   d   >   1   <   /   t   d   >   \n",
       "                           <   t   d   >   2   <   /   t   d   >   \n",
       "                           <   t   d   >   1   <   /   t   d   >   \n",
       "                           <   t   d   >   -   2   <   /   t   d   >   \n",
       "                           <   t   d   >   [   1   5   /   6   2   *   s   q   r   t   (   3   1   /   3   )   ,       -   7   /   6   2   *   s   q   r   t   (   3   1   /   3   )   *   s   q   r   t   (   3   )   ]   <   /   t   d   >   \n",
       "                           <   t   d   >   s   q   r   t   (   3   1   /   3   )   <   /   t   d   >   \n",
       "                   <   /   t   r   >   \n",
       "                   <   t   r   >   \n",
       "                           <   t   d   >   1   <   /   t   d   >   \n",
       "                           <   t   d   >   2   <   /   t   d   >   \n",
       "                           <   t   d   >   2   <   /   t   d   >   \n",
       "                           <   t   d   >   -   1   <   /   t   d   >   \n",
       "                           <   t   d   >   [   9   /   3   1   *   s   q   r   t   (   3   1   /   3   )   ,       -   2   /   3   1   *   s   q   r   t   (   3   1   /   3   )   *   s   q   r   t   (   3   )   ]   <   /   t   d   >   \n",
       "                           <   t   d   >   s   q   r   t   (   3   1   /   3   )   <   /   t   d   >   \n",
       "                   <   /   t   r   >   \n",
       "                   <   t   r   >   \n",
       "                           <   t   d   >   2   <   /   t   d   >   \n",
       "                           <   t   d   >   1   <   /   t   d   >   \n",
       "                           <   t   d   >   -   2   <   /   t   d   >   \n",
       "                           <   t   d   >   1   <   /   t   d   >   \n",
       "                           <   t   d   >   [   -   9   /   3   1   *   s   q   r   t   (   3   1   /   3   )   ,       2   /   3   1   *   s   q   r   t   (   3   1   /   3   )   *   s   q   r   t   (   3   )   ]   <   /   t   d   >   \n",
       "                           <   t   d   >   s   q   r   t   (   3   1   /   3   )   <   /   t   d   >   \n",
       "                   <   /   t   r   >   \n",
       "                   <   t   r   >   \n",
       "                           <   t   d   >   2   <   /   t   d   >   \n",
       "                           <   t   d   >   1   <   /   t   d   >   \n",
       "                           <   t   d   >   -   1   <   /   t   d   >   \n",
       "                           <   t   d   >   2   <   /   t   d   >   \n",
       "                           <   t   d   >   [   -   1   5   /   6   2   *   s   q   r   t   (   3   1   /   3   )   ,       7   /   6   2   *   s   q   r   t   (   3   1   /   3   )   *   s   q   r   t   (   3   )   ]   <   /   t   d   >   \n",
       "                           <   t   d   >   s   q   r   t   (   3   1   /   3   )   <   /   t   d   >   \n",
       "                   <   /   t   r   >   \n",
       "                   <   t   r   >   \n",
       "                           <   t   d   >   1   <   /   t   d   >   \n",
       "                           <   t   d   >   1   <   /   t   d   >   \n",
       "                           <   t   d   >   -   2   <   /   t   d   >   \n",
       "                           <   t   d   >   2   <   /   t   d   >   \n",
       "                           <   t   d   >   [   -   1   /   2   *   s   q   r   t   (   3   )   ,       1   /   2   ]   <   /   t   d   >   \n",
       "                           <   t   d   >   2   *   s   q   r   t   (   3   )   <   /   t   d   >   \n",
       "                   <   /   t   r   >   \n",
       "                   <   t   r   >   \n",
       "                           <   t   d   >   1   <   /   t   d   >   \n",
       "                           <   t   d   >   1   <   /   t   d   >   \n",
       "                           <   t   d   >   2   <   /   t   d   >   \n",
       "                           <   t   d   >   -   2   <   /   t   d   >   \n",
       "                           <   t   d   >   [   1   /   2   *   s   q   r   t   (   3   )   ,       -   1   /   2   ]   <   /   t   d   >   \n",
       "                           <   t   d   >   2   *   s   q   r   t   (   3   )   <   /   t   d   >   \n",
       "                   <   /   t   r   >   \n",
       "                   <   t   r   >   \n",
       "                           <   t   d   >   2   <   /   t   d   >   \n",
       "                           <   t   d   >   2   <   /   t   d   >   \n",
       "                           <   t   d   >   -   2   <   /   t   d   >   \n",
       "                           <   t   d   >   2   <   /   t   d   >   \n",
       "                           <   t   d   >   [   -   1   /   2   *   s   q   r   t   (   3   )   ,       1   /   2   ]   <   /   t   d   >   \n",
       "                           <   t   d   >   2   *   s   q   r   t   (   3   )   <   /   t   d   >   \n",
       "                   <   /   t   r   >   \n",
       "                   <   t   r   >   \n",
       "                           <   t   d   >   2   <   /   t   d   >   \n",
       "                           <   t   d   >   2   <   /   t   d   >   \n",
       "                           <   t   d   >   2   <   /   t   d   >   \n",
       "                           <   t   d   >   -   2   <   /   t   d   >   \n",
       "                           <   t   d   >   [   1   /   2   *   s   q   r   t   (   3   )   ,       -   1   /   2   ]   <   /   t   d   >   \n",
       "                           <   t   d   >   2   *   s   q   r   t   (   3   )   <   /   t   d   >   \n",
       "                   <   /   t   r   >   \n",
       "                   <   t   r   >   \n",
       "                           <   t   d   >   1   <   /   t   d   >   \n",
       "                           <   t   d   >   2   <   /   t   d   >   \n",
       "                           <   t   d   >   2   <   /   t   d   >   \n",
       "                           <   t   d   >   -   2   <   /   t   d   >   \n",
       "                           <   t   d   >   [   3   /   2   *   s   q   r   t   (   1   /   3   )   ,       -   1   /   2   *   s   q   r   t   (   3   )   *   s   q   r   t   (   1   /   3   )   ]   <   /   t   d   >   \n",
       "                           <   t   d   >   7   *   s   q   r   t   (   1   /   3   )   <   /   t   d   >   \n",
       "                   <   /   t   r   >   \n",
       "                   <   t   r   >   \n",
       "                           <   t   d   >   2   <   /   t   d   >   \n",
       "                           <   t   d   >   1   <   /   t   d   >   \n",
       "                           <   t   d   >   -   2   <   /   t   d   >   \n",
       "                           <   t   d   >   2   <   /   t   d   >   \n",
       "                           <   t   d   >   [   -   3   /   2   *   s   q   r   t   (   1   /   3   )   ,       1   /   2   *   s   q   r   t   (   3   )   *   s   q   r   t   (   1   /   3   )   ]   <   /   t   d   >   \n",
       "                           <   t   d   >   7   *   s   q   r   t   (   1   /   3   )   <   /   t   d   >   \n",
       "                   <   /   t   r   >   \n",
       "           <   /   t   b   o   d   y   >   \n",
       "   <   /   t   a   b   l   e   >"
      ]
     },
     "execution_count": 8,
     "metadata": {},
     "output_type": "execute_result"
    }
   ],
   "source": [
    "var('q_x, q_y',domain='positive'); q=vector([q_x,q_y])\n",
    "\n",
    "\n",
    "## Paràmetres de la xarxa, de la cel·la i del cristall\n",
    "\n",
    "## Vector R_l (vector de translació primitiu)\n",
    "def R_l(l_1,l_2):\n",
    "    return l_1*a_1+l_2*a_2\n",
    "\n",
    "## Vector de posició dels àtomos del cristall (en equilibri)\n",
    "def R_alpha_l(alpha,l_1,l_2):\n",
    "    if alpha == 1:\n",
    "        return l_1*a_1+l_2*a_2+r_B\n",
    "\n",
    "    elif alpha == 2:\n",
    "        return l_1*a_1+l_2*a_2+r_N\n",
    "\n",
    "    else:\n",
    "        print(\"Error, alpha sols pot ser 1 o 2 \")\n",
    "\n",
    "## Vector unitari que uneix un dels àtoms alphaprima amb l'àtom considerat (alpha, l_1,l_2)\n",
    "def R_hat(alphaprima,alpha,l_1,l_2):\n",
    "    if (R_alpha_l(alpha,l_1,l_2)-R_alpha_l(alphaprima,0,0)).norm()>0:\n",
    "        return (R_alpha_l(alpha,l_1,l_2)-R_alpha_l(alphaprima,0,0))/(R_alpha_l(alpha,l_1,l_2)\\\n",
    "                                                                 -R_alpha_l(alphaprima,0,0)).norm()\n",
    "    else:\n",
    "        return (R_alpha_l(alpha,l_1,l_2)-R_alpha_l(alphaprima,0,0))\n",
    "\n",
    "# Distància entre l'àtom alphaprima i el seu veï (alpha, l_1,l_2)\n",
    "def distancia(alphaprima,alpha,l_1,l_2):\n",
    "    return (R_alpha_l(alpha,l_1,l_2)-R_alpha_l(alphaprima,0,0)).norm()/a    \n",
    "\n",
    "def fase(l_1,l_2):\n",
    "    return exp(I*q*R_l(l_1,l_2))\n",
    "\n",
    "#Genere una llista amb la distància de cada àtom als àtoms de la cel·la unitat \n",
    "def valors_atoms(l_1, l_2):\n",
    "    return [(k, m, i, j, R_hat(k, m, i, j), distancia(k,m,i,j)) for k in [1,2] for m in [1,2]  \\\n",
    "      for i in range(-l_1,l_1+1) for j in range(-l_2,l_2+1)]\n",
    "\n",
    "## Construisc un DataFrame de pandas amb la informació necessaria per identificar els 1ers, 2ons, ... veïns\n",
    "## segons la seua distància a cadascun del àtoms de la cel·la unitat\n",
    "columnes = [r\"$\\alpha\\prime$\",r\"$\\alpha$\",r\"$l_1$\", r\"$l_2$\", r\"$\\hat R$\",'Distància']\n",
    "\n",
    "def llista_atoms(l_1, l_2):\n",
    "    return pd.DataFrame(valors_atoms(l_1,l_2),columns=columnes).sort_values(['Distància',r\"$\\alpha\\prime$\"],\\\n",
    "                                                                            ascending=[True,True])\n",
    "\n",
    "## Mostre el dataframe como una taula per comprobar els càlculs\n",
    "table(llista_atoms(2,2).to_html(index=False))"
   ]
  },
  {
   "cell_type": "markdown",
   "id": "muslim-country",
   "metadata": {
    "tags": []
   },
   "source": [
    "## Tensor de constants de forca i matriu dinàmica"
   ]
  },
  {
   "cell_type": "markdown",
   "id": "marine-hundred",
   "metadata": {
    "tags": []
   },
   "source": [
    "Una vegada descrit el nostre sistema físic anem a obtindre la matriu dinàmica d'aquest, ja que com hem vist els seus valors propis, $\\omega^2$, ens donen la freqüència de propagació de cadascun dels modes.\n",
    "\n",
    "Obtesses les possicions dels àtoms y classificats estos com primers, segons, etc. veïns, segons la distància al respectiu àtom de la cel·la $\\vec 0$, procedim a calcular la contribució a la matriu dinàmica de cadascun dels àtoms, per la qual cosa necessitem conèixer el tensor de constants de força que correspon a la interacció de cada àtom amb el seu n-èssim veí.\n",
    "\n",
    "La forma general del tensor de forces d'un $n$-èssim veí és de la forma  {% cite wirtz04_phonon_disper_graph_revis %} : \n",
    "\n",
    "\n",
    "\\begin{equation}\n",
    "C_n=\\begin{pmatrix}\n",
    "\\phi_n^1&\\xi_n &0\\\\\n",
    "-\\xi_n & \\phi_n^{ti} & 0 \\\\\n",
    "0 & 0 & \\phi_n^{to}\n",
    "\\end{pmatrix}\n",
    "\\label{eq:tensordeforces}\n",
    "\\end{equation}\n",
    "\n",
    "on el sistema de coordenadas s'elegeix de manera que $x$ és la coordenada longitudinal (en la línia que conecta els dos àtomos), $y$ la coordenada transversal en el planol i $z$ la coordenada perperndicular al planol. L'estructura diagonal a blocs de la matriu reflexa el fet que las vibracions interplanars y les de fora de plà (en la direcció $z$) estan completament desacoblades.\n",
    "\n",
    "\n",
    "\n",
    "Anem a supossar (per simplificar) que un desplaçament longitudinal (radial, que estarà contés en el planol del cristall) o transversal (tangencial, siga en el planol o perpendicular al planol) sols genera una força radial o transversal, es a dir, $\\xi_n=0$ tal y com es realitza en la referència cite Balkanski 2000. Esta aproximació es coneix com l'aproximació *4NNFC*, i es necessita considerar fins els cuarts veïns per donar compte dels resultats experimentals.\n",
    "\n",
    "Por tant, com primera aproximació anem a considerar que el tensor de constants de força d'un àtom classificat com $n$-èssim, situat en la direcció $\\hat x$ respecte del átom de la cel·la $\\vec 0$, té la forma diagonal:\n",
    "\n",
    "\\begin{equation}\n",
    "C_n=\\begin{pmatrix}\n",
    "\\phi_n^r& 0 &0\\\\\n",
    "0 & \\phi_n^{ti} & 0 \\\\\n",
    "0 & 0 & \\phi_n^{to}\n",
    "\\end{pmatrix}\n",
    "\\end{equation}\n",
    "\n",
    "i per tant el tensor de constants de força de cadascun dels $n$-èssims veïns reals l'obtenim rotant esta matriu:\n",
    "\\vspace{4cm}\n",
    "\n",
    "\n",
    "Un punt important és que quan considerem la interacció entre àtoms del mateix tipus (en el cas del BN és fácil discriminarlos, ja que són àtoms de distints elements els que conformen la base), tenim que considerar la contribució a la matriu dinámica de l'àtom que estem considerant de la cel·la $\\vec 0$. Esta contribució podem derivar-la de la condició d'estabilitat, \\cite{falkovsky08_symmet_const_phonon_disper_graph}\n",
    "\\cite{wirtz04_phonon_disper_graph_revis}\n",
    "\n",
    "Si es desplaca el cristall com un tot no canvia l'energía potencial, cosa que implica s'ha de complir:\n",
    " \n",
    "......\n",
    "\n",
    "\n",
    "Podem tindre en compte altres simetries del cristall per determinar certes propietats del tensor de forces o de la seua transformada de Fourier, la matriu dinàmica (certes relacions entre les components ...) però per ara sols tindrem en compte que la matriu dinàmica es una matri hermítica, i per tant els seus valors propis, $\\omega^2$ tenen que ser reals."
   ]
  },
  {
   "cell_type": "code",
   "execution_count": 9,
   "id": "sporting-modification",
   "metadata": {
    "tags": [
     "hide-input"
    ]
   },
   "outputs": [],
   "source": [
    "#Angle que forma l'àtom considerat respecte a l'eix x\n",
    "\n",
    "def angle(alphaprima,alpha,l_1,l_2):\n",
    "    if R_hat(alphaprima,alpha,l_1,l_2)[1] <0:\n",
    "        return -acos(R_hat(alphaprima,alpha,l_1,l_2)*vector([1,0]))\n",
    "    \n",
    "    else:\n",
    "        return acos(R_hat(alphaprima,alpha,l_1,l_2)*vector([1,0]))\n",
    "\n",
    "#Matriu unitària de rotació per al canvi d'eixos coordenats (entorn al'eix z)\n",
    "\n",
    "def U(theta):\n",
    "    return matrix([[cos(theta),sin(theta),0], [-sin(theta), cos(theta),0],[0,0,1]])\n",
    "\n",
    "#Matriu de força per als primers veins\n",
    "\n",
    "var('M_B,M_N', domain='positive')\n",
    "var('omega')\n",
    "\n",
    "phi1rBN=var('phi1rBN',latex_name='\\\\phi_{1,r}^{BN}',domain='real')\n",
    "phi1tiBN=var('phi1tiBN',latex_name='\\\\phi_{1,ti}^{BN}',domain='real')\n",
    "phi1toBN=var('phi1toBN',latex_name='\\\\phi_{1,to}^{BN}',domain='real')\n",
    "\n",
    "phi1rNB=phi1rBN; phi1tiNB=phi1tiBN; phi1toNB=phi1toBN\n",
    "\n",
    "\n",
    "Phi_10__BN=1/sqrt(M_B*M_N)*Matrix([[phi1rBN,0,0],[0,phi1tiBN,0],[0,0,phi1toBN]])\n",
    "Phi_10__NB=1/sqrt(M_N*M_B)*Matrix([[phi1rNB,0,0],[0,phi1tiNB,0],[0,0,phi1toNB]])\n",
    "\n",
    "\n",
    "def Phi_1l__BN(alphaprima,alpha,l_1,l_2):\n",
    "    return U(-angle(alphaprima,alpha,l_1,l_2))*Phi_10__BN*\\\n",
    "           U(angle(alphaprima,alpha,l_1,l_2))\n",
    "\n",
    "def Phi_1l__NB(alphaprima,alpha,l_1,l_2):\n",
    "    return U(-angle(alphaprima,alpha,l_1,l_2))*Phi_10__NB*\\\n",
    "           U(angle(alphaprima,alpha,l_1,l_2))\n",
    "\n",
    "def D_1l_BN(alphaprima,alpha,l_1,l_2):\n",
    "    return Phi_1l__BN(alphaprima,alpha,l_1,l_2)*fase(l_1,l_2)\n",
    "\n",
    "def D_1l_NB(alphaprima,alpha,l_1,l_2):\n",
    "    return Phi_1l__NB(alphaprima,alpha,l_1,l_2)*fase(l_1,l_2)\n",
    "\n",
    "# Matri de força per als segons veïns\n",
    "\n",
    "phi2rBB=var('phi2rBB',latex_name='\\\\phi_{2,r}^{BB}',domain='real')\n",
    "phi2tiBB=var('phi2tiBB',latex_name='\\\\phi_{2,ti}^{BB}',domain='real')\n",
    "phi2toBB=var('phi2toBB',latex_name='\\\\phi_{2,to}^{BB}',domain='real')\n",
    "\n",
    "phi2rNN=var('phi2rNN',latex_name='\\\\phi_{2,r}^{NN}',domain='real')\n",
    "phi2tiNN=var('phi2tiNN',latex_name='\\\\phi_{2,ti}^{NN}',domain='real')\n",
    "phi2toNN=var('phi2toNN',latex_name='\\\\phi_{2,to}^{NN}',domain='real')\n",
    "\n",
    "Phi_20__BB=1/M_B*Matrix([[phi2rBB,0,0],[0,phi2tiBB,0],[0,0,phi2toBB]])\n",
    "Phi_20__NN=1/M_N*Matrix([[phi2rNN,0,0],[0,phi2tiNN,0],[0,0,phi2toNN]])\n",
    "\n",
    "def Phi_2l__BB(alphaprima,alpha,l_1,l_2):\n",
    "    return U(-angle(alphaprima,alpha,l_1,l_2))*Phi_20__BB*\\\n",
    "           U(angle(alphaprima,alpha,l_1,l_2))\n",
    "\n",
    "def Phi_2l__NN(alphaprima,alpha,l_1,l_2):\n",
    "    return U(-angle(alphaprima,alpha,l_1,l_2))*Phi_20__NN*\\\n",
    "           U(angle(alphaprima,alpha,l_1,l_2))\n",
    "\n",
    "def D_2l_BB(alphaprima,alpha,l_1,l_2):\n",
    "    return Phi_2l__BB(alphaprima,alpha,l_1,l_2)*fase(l_1,l_2)\n",
    "\n",
    "def D_2l_NN(alphaprima,alpha,l_1,l_2):\n",
    "    return Phi_2l__NN(alphaprima,alpha,l_1,l_2)*fase(l_1,l_2)\n",
    "\n",
    "\n",
    "#Matriu de força per als tercers veïns\n",
    "\n",
    "phi3rBN=var('phi3rBN',latex_name='\\\\phi_{3,r}^{BN}',domain='real')\n",
    "phi3tiBN=var('phi3tiBN',latex_name='\\\\phi_{3,ti}^{BN}',domain='real')\n",
    "phi3toBN=var('phi3toBN',latex_name='\\\\phi_{3,to}^{BN}',domain='real')\n",
    "phi3rNB,phi3tiNB,phi3toNB=phi3rBN,phi3tiBN,phi3toBN\n",
    "Phi_30__BN=1/sqrt(M_B*M_N)*Matrix([[phi3rBN,0,0],[0,phi3tiBN,0],[0,0,phi3toBN]])\n",
    "Phi_30__NB=1/sqrt(M_N*M_B)*Matrix([[phi3rNB,0,0],[0,phi3tiNB,0],[0,0,phi3toNB]])\n",
    "                   \n",
    "def Phi_3l__BN(alphaprima,alpha,l_1,l_2):\n",
    "    return U(-angle(alphaprima,alpha,l_1,l_2))*Phi_30__BN*\\\n",
    "           U(angle(alphaprima,alpha,l_1,l_2))\n",
    "\n",
    "def Phi_3l__NB(alphaprima,alpha,l_1,l_2):\n",
    "    return U(-angle(alphaprima,alpha,l_1,l_2))*Phi_30__NB*\\\n",
    "           U(angle(alphaprima,alpha,l_1,l_2))\n",
    "\n",
    "def D_3l_BN(alphaprima,alpha,l_1,l_2):\n",
    "    return Phi_3l__BN(alphaprima,alpha,l_1,l_2)*fase(l_1,l_2)\n",
    "\n",
    "def D_3l_NB(alphaprima,alpha,l_1,l_2):\n",
    "    return Phi_3l__NB(alphaprima,alpha,l_1,l_2)*fase(l_1,l_2)\n",
    "\n",
    "#Matriz de força per als quarts veïns\n",
    "phi4rBN=var('phi4rBN',latex_name='\\\\phi_{4,r}^{BN}',domain='real')\n",
    "phi4tiBN=var('phi4tiBN',latex_name='\\\\phi_{4,ti}^{BN}',domain='real')\n",
    "phi4toBN=var('phi4toBN',latex_name='\\\\phi_{4,to}^{BN}',domain='real')\n",
    "phi4rNB,phi4tiNB,phi4toNB=phi4rBN,phi4tiBN,phi4toBN\n",
    "\n",
    "Phi_40__BN=1/sqrt(M_B*M_N)*Matrix([[phi4rBN,0,0],[0,phi4tiBN,0],[0,0,phi4toBN]])\n",
    "Phi_40__NB=1/sqrt(M_N*M_B)*Matrix([[phi4rNB,0,0],[0,phi4tiNB,0],[0,0,phi4toNB]])\n",
    "\n",
    "def Phi_4l__BN(alphaprima,alpha,l_1,l_2):\n",
    "    return U(-angle(alphaprima,alpha,l_1,l_2))*Phi_40__BN*\\\n",
    "           U(angle(alphaprima,alpha,l_1,l_2))\n",
    "\n",
    "def Phi_4l__NB(alphaprima,alpha,l_1,l_2):\n",
    "    return U(-angle(alphaprima,alpha,l_1,l_2))*Phi_40__NB*\\\n",
    "           U(angle(alphaprima,alpha,l_1,l_2))\n",
    "\n",
    "def D_4l_BN(alphaprima,alpha,l_1,l_2):\n",
    "    return Phi_4l__BN(alphaprima,alpha,l_1,l_2)*fase(l_1,l_2)\n",
    "\n",
    "def D_4l_NB(alphaprima,alpha,l_1,l_2):\n",
    "    return Phi_4l__NB(alphaprima,alpha,l_1,l_2)*fase(l_1,l_2)\n",
    "\n",
    "# Finalmente construimos la matriz dinámica \"a capas\"\n",
    "# Con la tabla de la celda de codigo anterior comprobamos que para considerar \n",
    "# hasta los cuartos vecinos es suficiente con l_1,l_2=2\n",
    "                   \n",
    "D1BN, D1NB, D2BB, D2NN, D3BN, D3NB, D4BN, D4NB = (matrix(3) for i in range(8))\n",
    "D01BN, D01NB, D02BB, D02NN, D03BN, D03NB, D04BN, D04NB= (matrix(3) for i in range(8))\n",
    "for k in [1,2]:\n",
    "    for m in [1,2]:\n",
    "         for i in range(-2,3):\n",
    "            for j in range(-2,4):\n",
    "                if (k==1) & bool( distancia(k,m,i,j) == sqrt(3)/3 ):\n",
    "                    D1BN += D_1l_BN(k,m,i,j)\n",
    "                    D01BN += Phi_1l__BN(k,m,i,j)\n",
    "\n",
    "                elif (k==2) & bool( distancia(k,m,i,j) == sqrt(3)/3 ):\n",
    "                    D1NB += D_1l_NB(k,m,i,j)\n",
    "                    D01NB += Phi_1l__NB(k,m,i,j)\n",
    "                 \n",
    "                elif (k==1) & bool( distancia(k,m,i,j) == 1):\n",
    "                    D2BB += D_2l_BB(k,m,i,j)\n",
    "                    D02BB += Phi_2l__BB(k,m,i,j)\n",
    "\n",
    "                elif (k==2) & bool( distancia(k,m,i,j) == 1):\n",
    "                    D2NN += D_2l_NN(k,m,i,j)\n",
    "                    D02NN += Phi_2l__NN(k,m,i,j)\n",
    "\n",
    "                elif (k==1) & bool( distancia(k,m,i,j) == 2*sqrt(3)/3 ):\n",
    "                    D3BN += D_3l_BN(k,m,i,j)\n",
    "                    D03BN += Phi_3l__BN(k,m,i,j)\n",
    "\n",
    "                elif (k==2) & bool( distancia(k,m,i,j) == 2*sqrt(3)/3 ):\n",
    "                    D3NB += D_3l_NB(k,m,i,j)\n",
    "                    D03NB += Phi_3l__NB(k,m,i,j)\n",
    "                    \n",
    "                elif (k==1) & bool( distancia(k,m,i,j) == sqrt(7/3)):\n",
    "                    D4BN += D_4l_BN(k,m,i,j)\n",
    "                    D04BN += Phi_4l__NB(k,m,i,j)\n",
    "\n",
    "                elif (k==2) & bool( distancia(k,m,i,j) == sqrt(7/3)):\n",
    "                    D4NB += D_4l_NB(k,m,i,j)\n",
    "                    D04NB += Phi_4l__NB(k,m,i,j)\n",
    "\n",
    "#A tener en cuenta: cuando consideramos el mismo tipo de átomos \n",
    "# (de la misma subred, no porque sean el mismmo elemento)\n",
    "\n",
    "# Tenemos en cuenta la contribución a la matriz dinámica de los átomos situados en \n",
    "# la celdilla 0\n",
    "D2BB3ers=D2BB-D01BN-D02BB-D03BN\n",
    "D2NN3ers=D2NN-D01NB-D02NN-D03NB\n",
    "\n",
    "D2BB4ts=D2BB-D01BN-D02BB-D03BN-D04BN\n",
    "D2NN4ts=D2NN-D01NB-D02NN-D03NB-D04NB\n",
    "\n",
    "# Definim les variables que fan referencia a les freqüencies \n",
    "omegaGammaZA=var('omegaGammaZA',latex_name='\\\\omega(\\\\Gamma)_{ZA}',domain='positive')\n",
    "omegaGammaTA=var('omegaGammaTA',latex_name='\\\\omega(\\\\Gamma)_{TA}',domain='positive')\n",
    "omegaGammaLA=var('omegaGammaLA',latex_name='\\\\omega(\\\\Gamma)_{LA}',domain='positive')\n",
    "omegaGammaZO=var('omegaGammaZO',latex_name='\\\\omega(\\\\Gamma)_{ZO}',domain='positive')\n",
    "omegaGammaTO=var('omegaGammaTO',latex_name='\\\\omega(\\\\Gamma)_{TO}',domain='positive')\n",
    "omegaGammaLO=var('omegaGammaLO',latex_name='\\\\omega(\\\\Gamma)_{LO}',domain='positive')\n",
    "\n",
    "omegaMZA=var('omegaMZA',latex_name='\\\\omega(M)_{ZA}',domain='positive')\n",
    "omegaMTA=var('omegaMTA',latex_name='\\\\omega(M)_{TA}',domain='positive')\n",
    "omegaMLA=var('omegaMLA',latex_name='\\\\omega(M)_{LA}',domain='positive')\n",
    "omegaMZO=var('omegaMZO',latex_name='\\\\omega(M)_{ZO}',domain='positive')\n",
    "omegaMTO=var('omegaMTO',latex_name='\\\\omega(M)_{TO}',domain='positive')\n",
    "omegaMLO=var('omegaMLO',latex_name='\\\\omega(M)_{LO}',domain='positive')\n",
    "\n",
    "omegaKZA=var('omegaKZA',latex_name='\\\\omega(K)_{ZA}',domain='positive')\n",
    "omegaKTA=var('omegaKTA',latex_name='\\\\omega(K)_{TA}',domain='positive')\n",
    "omegaKLA=var('omegaKLA',latex_name='\\\\omega(K)_{LA}',domain='positive')\n",
    "omegaKZO=var('omegaKZO',latex_name='\\\\omega(K)_{ZO}',domain='positive')\n",
    "omegaKTO=var('omegaKTO',latex_name='\\\\omega(K)_{TO}',domain='positive')\n",
    "omegaKLO=var('omegaKLO',latex_name='\\\\omega(K)_{LO}',domain='positive')"
   ]
  },
  {
   "cell_type": "markdown",
   "id": "critical-address",
   "metadata": {},
   "source": [
    "Tenim per tant que la matriu dinàmica serà una matriu $6x6$ hermítica. Però donat que les components en $z$ d'esta matriu es troben desacoblades podem tractar aquestes vibracions de manera independent.\n",
    "\n",
    "\n",
    "## Vibracions fora de pla \n",
    "Donat que les vibracions fora de pla són, per com hem construït la matriu dinàmica, independients de les interplanars, procedim a estudiar-les, de manera que treballarem primer amb una matriu $2\\times 2$, en compte de directament amb una matriu $6\\times 6$ (i quan estudiem les vibracions dins del pla treballarem amb una matriu $4\\times 4$"
   ]
  },
  {
   "cell_type": "code",
   "execution_count": 10,
   "id": "legendary-visit",
   "metadata": {
    "tags": [
     "hide-input"
    ]
   },
   "outputs": [],
   "source": [
    "D1BN_zz=D1BN[2,2]\n",
    "D1NB_zz=D1NB[2,2]\n",
    "\n",
    "D2BB3ers_zz=D2BB3ers[2,2]\n",
    "D2NN3ers_zz=D2NN3ers[2,2]\n",
    "\n",
    "D2BB4ts_zz=D2BB4ts[2,2]\n",
    "D2NN4ts_zz=D2NN4ts[2,2]\n",
    "\n",
    "D3BN_zz=D3BN[2,2]\n",
    "D3NB_zz=D3NB[2,2]\n",
    "D4BN_zz=D4BN[2,2]\n",
    "D4NB_zz=D4NB[2,2]\n",
    "\n",
    "D_zz3ers=Matrix([[D2BB3ers_zz,D1BN_zz+D3BN_zz],        [D1NB_zz+D3NB_zz,D2NN3ers_zz]])\n",
    "\n",
    "D_zz4ts=Matrix([[D2BB4ts_zz,D1BN_zz+D3BN_zz+D4BN_zz], [D1NB_zz+D3NB_zz+D4BN_zz,D2NN4ts_zz]])"
   ]
  },
  {
   "cell_type": "markdown",
   "id": "cordless-panel",
   "metadata": {},
   "source": [
    "### Primer considerem fins 3ers veïns"
   ]
  },
  {
   "cell_type": "markdown",
   "id": "whole-dinner",
   "metadata": {},
   "source": [
    "#### Punt $\\Gamma$"
   ]
  },
  {
   "cell_type": "markdown",
   "id": "young-stamp",
   "metadata": {},
   "source": [
    "Per al punt $(k_x=0, k_y=0)$, la matriu que tenim és:"
   ]
  },
  {
   "cell_type": "code",
   "execution_count": 11,
   "id": "spread-frost",
   "metadata": {
    "tags": [
     "hide-input"
    ]
   },
   "outputs": [
    {
     "data": {
      "text/html": [
       "<html><script type=\"math/tex; mode=display\">\\newcommand{\\Bold}[1]{\\mathbf{#1}}\\left(\\begin{array}{rr}\n",
       "-\\frac{3 \\, {\\phi_{1,to}^{BN}}}{\\sqrt{M_{B} M_{N}}} - \\frac{3 \\, {\\phi_{3,to}^{BN}}}{\\sqrt{M_{B} M_{N}}} & \\frac{3 \\, {\\phi_{1,to}^{BN}}}{\\sqrt{M_{B} M_{N}}} + \\frac{3 \\, {\\phi_{3,to}^{BN}}}{\\sqrt{M_{B} M_{N}}} \\\\\n",
       "\\frac{3 \\, {\\phi_{1,to}^{BN}}}{\\sqrt{M_{B} M_{N}}} + \\frac{3 \\, {\\phi_{3,to}^{BN}}}{\\sqrt{M_{B} M_{N}}} & -\\frac{3 \\, {\\phi_{1,to}^{BN}}}{\\sqrt{M_{B} M_{N}}} - \\frac{3 \\, {\\phi_{3,to}^{BN}}}{\\sqrt{M_{B} M_{N}}}\n",
       "\\end{array}\\right)</script></html>"
      ],
      "text/latex": [
       "\\begin{math}\n",
       "\\newcommand{\\Bold}[1]{\\mathbf{#1}}\\left(\\begin{array}{rr}\n",
       "-\\frac{3 \\, {\\phi_{1,to}^{BN}}}{\\sqrt{M_{B} M_{N}}} - \\frac{3 \\, {\\phi_{3,to}^{BN}}}{\\sqrt{M_{B} M_{N}}} & \\frac{3 \\, {\\phi_{1,to}^{BN}}}{\\sqrt{M_{B} M_{N}}} + \\frac{3 \\, {\\phi_{3,to}^{BN}}}{\\sqrt{M_{B} M_{N}}} \\\\\n",
       "\\frac{3 \\, {\\phi_{1,to}^{BN}}}{\\sqrt{M_{B} M_{N}}} + \\frac{3 \\, {\\phi_{3,to}^{BN}}}{\\sqrt{M_{B} M_{N}}} & -\\frac{3 \\, {\\phi_{1,to}^{BN}}}{\\sqrt{M_{B} M_{N}}} - \\frac{3 \\, {\\phi_{3,to}^{BN}}}{\\sqrt{M_{B} M_{N}}}\n",
       "\\end{array}\\right)\n",
       "\\end{math}"
      ],
      "text/plain": [
       "[-3*phi1toBN/sqrt(M_B*M_N) - 3*phi3toBN/sqrt(M_B*M_N)  3*phi1toBN/sqrt(M_B*M_N) + 3*phi3toBN/sqrt(M_B*M_N)]\n",
       "[ 3*phi1toBN/sqrt(M_B*M_N) + 3*phi3toBN/sqrt(M_B*M_N) -3*phi1toBN/sqrt(M_B*M_N) - 3*phi3toBN/sqrt(M_B*M_N)]"
      ]
     },
     "metadata": {},
     "output_type": "display_data"
    }
   ],
   "source": [
    "from periodictable import C, B, N, constants\n",
    "u=constants.atomic_mass_constant*10**3 #para que este en CGS (y las const. de fuerza en dyn)\n",
    "\n",
    "omega_Gamma_ZO=830 #cm-1\n",
    "omega_Gamma_ZA=0\n",
    "D_Gamma3ers_zz=D_zz3ers.subs(q_x=0,q_y=0) #,(M_B,B.mass*u),(M_N,N.mass*u)])\n",
    "show(D_Gamma3ers_zz)"
   ]
  },
  {
   "cell_type": "markdown",
   "id": "tired-revolution",
   "metadata": {},
   "source": [
    "amb autovalors:"
   ]
  },
  {
   "cell_type": "code",
   "execution_count": 12,
   "id": "liberal-feelings",
   "metadata": {
    "tags": [
     "hide-input"
    ]
   },
   "outputs": [
    {
     "data": {
      "text/html": [
       "<html><script type=\"math/tex; mode=display\">\\newcommand{\\Bold}[1]{\\mathbf{#1}}\\left[-\\frac{6 \\, {\\left({\\phi_{1,to}^{BN}} + {\\phi_{3,to}^{BN}}\\right)}}{\\sqrt{M_{B} M_{N}}}, 0\\right]</script></html>"
      ],
      "text/latex": [
       "\\begin{math}\n",
       "\\newcommand{\\Bold}[1]{\\mathbf{#1}}\\left[-\\frac{6 \\, {\\left({\\phi_{1,to}^{BN}} + {\\phi_{3,to}^{BN}}\\right)}}{\\sqrt{M_{B} M_{N}}}, 0\\right]\n",
       "\\end{math}"
      ],
      "text/plain": [
       "[-6*(phi1toBN + phi3toBN)/sqrt(M_B*M_N), 0]"
      ]
     },
     "execution_count": 12,
     "metadata": {},
     "output_type": "execute_result"
    }
   ],
   "source": [
    "D_Gamma3ers_zz.eigenvalues()"
   ]
  },
  {
   "cell_type": "markdown",
   "id": "compatible-tunisia",
   "metadata": {},
   "source": [
    "De manera que al punt $\\Gamma$ trobem que s'ha de complir l'equació:"
   ]
  },
  {
   "cell_type": "code",
   "execution_count": 13,
   "id": "chemical-trunk",
   "metadata": {},
   "outputs": [
    {
     "data": {
      "text/html": [
       "<html><script type=\"math/tex; mode=display\">\\newcommand{\\Bold}[1]{\\mathbf{#1}}-\\frac{6 \\, {\\left({\\phi_{1,to}^{BN}} + {\\phi_{3,to}^{BN}}\\right)}}{\\sqrt{M_{B} M_{N}}} = {\\omega(\\Gamma)_{ZO}}^{2}</script></html>"
      ],
      "text/latex": [
       "\\begin{math}\n",
       "\\newcommand{\\Bold}[1]{\\mathbf{#1}}-\\frac{6 \\, {\\left({\\phi_{1,to}^{BN}} + {\\phi_{3,to}^{BN}}\\right)}}{\\sqrt{M_{B} M_{N}}} = {\\omega(\\Gamma)_{ZO}}^{2}\n",
       "\\end{math}"
      ],
      "text/plain": [
       "-6*(phi1toBN + phi3toBN)/sqrt(M_B*M_N) == omegaGammaZO^2"
      ]
     },
     "metadata": {},
     "output_type": "display_data"
    }
   ],
   "source": [
    "Eq_Gamma_ZO3ers=(D_Gamma3ers_zz.eigenvalues()[0]==omegaGammaZO**2)\n",
    "show(Eq_Gamma_ZO3ers)"
   ]
  },
  {
   "cell_type": "markdown",
   "id": "breeding-adult",
   "metadata": {},
   "source": [
    "#### Punt $M$"
   ]
  },
  {
   "cell_type": "markdown",
   "id": "super-mounting",
   "metadata": {},
   "source": [
    "Al punt $M$ $\\left(q_x=\\pi/a,q_y=\\pi/(\\sqrt 3 a\\right)$ els valors propis de la matriu dinàmica són:"
   ]
  },
  {
   "cell_type": "code",
   "execution_count": 14,
   "id": "mineral-certification",
   "metadata": {
    "tags": [
     "hide-input"
    ]
   },
   "outputs": [
    {
     "data": {
      "text/html": [
       "<html><script type=\"math/tex; mode=display\">\\newcommand{\\Bold}[1]{\\mathbf{#1}}-\\frac{3 \\, {\\left({\\phi_{1,to}^{BN}} + {\\phi_{3,to}^{BN}}\\right)}}{\\sqrt{M_{B} M_{N}}} - \\frac{4 \\, {\\phi_{2,to}^{BB}}}{M_{B}} - \\frac{4 \\, {\\phi_{2,to}^{NN}}}{M_{N}} - \\frac{\\sqrt{M_{B} M_{N} {\\left({\\phi_{1,to}^{BN}} - 3 \\, {\\phi_{3,to}^{BN}}\\right)}^{2} + 16 \\, {\\left(M_{N} {\\phi_{2,to}^{BB}} - M_{B} {\\phi_{2,to}^{NN}}\\right)}^{2}}}{M_{B} M_{N}} = {\\omega(M)_{ZA}}^{2}</script></html>"
      ],
      "text/latex": [
       "\\begin{math}\n",
       "\\newcommand{\\Bold}[1]{\\mathbf{#1}}-\\frac{3 \\, {\\left({\\phi_{1,to}^{BN}} + {\\phi_{3,to}^{BN}}\\right)}}{\\sqrt{M_{B} M_{N}}} - \\frac{4 \\, {\\phi_{2,to}^{BB}}}{M_{B}} - \\frac{4 \\, {\\phi_{2,to}^{NN}}}{M_{N}} - \\frac{\\sqrt{M_{B} M_{N} {\\left({\\phi_{1,to}^{BN}} - 3 \\, {\\phi_{3,to}^{BN}}\\right)}^{2} + 16 \\, {\\left(M_{N} {\\phi_{2,to}^{BB}} - M_{B} {\\phi_{2,to}^{NN}}\\right)}^{2}}}{M_{B} M_{N}} = {\\omega(M)_{ZA}}^{2}\n",
       "\\end{math}"
      ],
      "text/plain": [
       "-3*(phi1toBN + phi3toBN)/sqrt(M_B*M_N) - 4*phi2toBB/M_B - 4*phi2toNN/M_N - sqrt(M_B*M_N*(phi1toBN - 3*phi3toBN)^2 + 16*(M_N*phi2toBB - M_B*phi2toNN)^2)/(M_B*M_N) == omegaMZA^2"
      ]
     },
     "metadata": {},
     "output_type": "display_data"
    },
    {
     "data": {
      "text/html": [
       "<html><script type=\"math/tex; mode=display\">\\newcommand{\\Bold}[1]{\\mathbf{#1}}-\\frac{3 \\, {\\left({\\phi_{1,to}^{BN}} + {\\phi_{3,to}^{BN}}\\right)}}{\\sqrt{M_{B} M_{N}}} - \\frac{4 \\, {\\phi_{2,to}^{BB}}}{M_{B}} - \\frac{4 \\, {\\phi_{2,to}^{NN}}}{M_{N}} + \\frac{\\sqrt{M_{B} M_{N} {\\left({\\phi_{1,to}^{BN}} - 3 \\, {\\phi_{3,to}^{BN}}\\right)}^{2} + 16 \\, {\\left(M_{N} {\\phi_{2,to}^{BB}} - M_{B} {\\phi_{2,to}^{NN}}\\right)}^{2}}}{M_{B} M_{N}} = {\\omega(M)_{ZO}}^{2}</script></html>"
      ],
      "text/latex": [
       "\\begin{math}\n",
       "\\newcommand{\\Bold}[1]{\\mathbf{#1}}-\\frac{3 \\, {\\left({\\phi_{1,to}^{BN}} + {\\phi_{3,to}^{BN}}\\right)}}{\\sqrt{M_{B} M_{N}}} - \\frac{4 \\, {\\phi_{2,to}^{BB}}}{M_{B}} - \\frac{4 \\, {\\phi_{2,to}^{NN}}}{M_{N}} + \\frac{\\sqrt{M_{B} M_{N} {\\left({\\phi_{1,to}^{BN}} - 3 \\, {\\phi_{3,to}^{BN}}\\right)}^{2} + 16 \\, {\\left(M_{N} {\\phi_{2,to}^{BB}} - M_{B} {\\phi_{2,to}^{NN}}\\right)}^{2}}}{M_{B} M_{N}} = {\\omega(M)_{ZO}}^{2}\n",
       "\\end{math}"
      ],
      "text/plain": [
       "-3*(phi1toBN + phi3toBN)/sqrt(M_B*M_N) - 4*phi2toBB/M_B - 4*phi2toNN/M_N + sqrt(M_B*M_N*(phi1toBN - 3*phi3toBN)^2 + 16*(M_N*phi2toBB - M_B*phi2toNN)^2)/(M_B*M_N) == omegaMZO^2"
      ]
     },
     "metadata": {},
     "output_type": "display_data"
    }
   ],
   "source": [
    "omega_M_ZO=635 #cm-1\n",
    "omega_M_ZA=314\n",
    "\n",
    "D_M3ers_zz=D_zz3ers.subs(q_x=pi/a,q_y=pi/(sqrt(3)*a))\n",
    "\n",
    "# Podem simplificar un poc l'expressió obtessa per als valores propios al punto $M$ \n",
    "#(simplement reescribint l'argument de l'arrel quadrada)\n",
    "\n",
    "omegaM1quadrat3ers=-4*phi2toBB/M_B-4*phi2toNN/M_N-3/sqrt(M_B*M_N)*(phi1toBN+phi3toBN)\\\n",
    "   -sqrt(M_B*M_N*(phi1toBN-3*phi3toBN)^2+(4*(M_N*phi2toBB-M_B*phi2toNN))^2)/(M_B*M_N)\n",
    "\n",
    "if bool(D_M3ers_zz.eigenvalues()[0]==omegaM1quadrat3ers):\n",
    "    Eq_M_ZA3ers=(omegaM1quadrat3ers==omegaMZA**2)\n",
    "\n",
    "\n",
    "\n",
    "omegaM2quadrat3ers=-4*phi2toBB/M_B-4*phi2toNN/M_N-3/sqrt(M_B*M_N)*(phi1toBN+phi3toBN)\\\n",
    "   +sqrt(M_B*M_N*(phi1toBN-3*phi3toBN)^2+(4*(M_N*phi2toBB-M_B*phi2toNN))^2)/(M_B*M_N)\n",
    "\n",
    "if bool(D_M3ers_zz.eigenvalues()[1]==omegaM2quadrat3ers):\n",
    "    Eq_M_ZO3ers=(omegaM2quadrat3ers==omegaMZO**2)\n",
    "\n",
    "Eq_M_ZOmesZA3ers=(Eq_M_ZO3ers+Eq_M_ZA3ers).subs(Eq_Gamma_ZO3ers.solve(phi3toBN)[0]).expand()\n",
    "Eq_M_ZOmenysZA3ers_quadrat=((Eq_M_ZO3ers-Eq_M_ZA3ers)**2).subs(Eq_Gamma_ZO3ers.solve(phi3toBN)[0])\n",
    "\n",
    "show(Eq_M_ZA3ers)\n",
    "show(Eq_M_ZO3ers)"
   ]
  },
  {
   "cell_type": "markdown",
   "id": "italic-perry",
   "metadata": {},
   "source": [
    "Notem que el segon valor propi és major que el primer (l'arrel quadrada és possitiva) i per tant correspon a la rama $ZO$, i el primer a $ZA$."
   ]
  },
  {
   "cell_type": "markdown",
   "id": "nuclear-obligation",
   "metadata": {
    "tags": []
   },
   "source": [
    "#### Punt $K$"
   ]
  },
  {
   "cell_type": "markdown",
   "id": "mobile-conclusion",
   "metadata": {},
   "source": [
    "Per al punt ($k_x=4\\pi/(3 a)$, $k_y=0$) obtenim els autovalors:"
   ]
  },
  {
   "cell_type": "code",
   "execution_count": 15,
   "id": "cultural-mauritius",
   "metadata": {
    "tags": [
     "hide-input"
    ]
   },
   "outputs": [
    {
     "data": {
      "text/html": [
       "<html><script type=\"math/tex; mode=display\">\\newcommand{\\Bold}[1]{\\mathbf{#1}}\\frac{1}{2} \\, {\\omega(\\Gamma)_{ZO}}^{2} - \\frac{9 \\, {\\phi_{2,to}^{NN}}}{M_{N}} = {\\omega(K)_{ZA}}^{2}</script></html>"
      ],
      "text/latex": [
       "\\begin{math}\n",
       "\\newcommand{\\Bold}[1]{\\mathbf{#1}}\\frac{1}{2} \\, {\\omega(\\Gamma)_{ZO}}^{2} - \\frac{9 \\, {\\phi_{2,to}^{NN}}}{M_{N}} = {\\omega(K)_{ZA}}^{2}\n",
       "\\end{math}"
      ],
      "text/plain": [
       "1/2*omegaGammaZO^2 - 9*phi2toNN/M_N == omegaKZA^2"
      ]
     },
     "metadata": {},
     "output_type": "display_data"
    },
    {
     "data": {
      "text/html": [
       "<html><script type=\"math/tex; mode=display\">\\newcommand{\\Bold}[1]{\\mathbf{#1}}\\frac{1}{2} \\, {\\omega(\\Gamma)_{ZO}}^{2} - \\frac{9 \\, {\\phi_{2,to}^{BB}}}{M_{B}} = {\\omega(K)_{ZO}}^{2}</script></html>"
      ],
      "text/latex": [
       "\\begin{math}\n",
       "\\newcommand{\\Bold}[1]{\\mathbf{#1}}\\frac{1}{2} \\, {\\omega(\\Gamma)_{ZO}}^{2} - \\frac{9 \\, {\\phi_{2,to}^{BB}}}{M_{B}} = {\\omega(K)_{ZO}}^{2}\n",
       "\\end{math}"
      ],
      "text/plain": [
       "1/2*omegaGammaZO^2 - 9*phi2toBB/M_B == omegaKZO^2"
      ]
     },
     "metadata": {},
     "output_type": "display_data"
    }
   ],
   "source": [
    "omega_K_ZO=605 #cm-1\n",
    "omega_K_ZA=322\n",
    "D_K_zz3ers=D_zz3ers.subs(q_x=4*pi/(3*a),q_y=0)\n",
    "\n",
    "Eq_K_ZA3ers=(D_K_zz3ers.eigenvalues()[0]==omegaKZA**2).subs(Eq_Gamma_ZO3ers.solve(phi3toBN)[0]).expand()\n",
    "\n",
    "Eq_K_ZO3ers=(D_K_zz3ers.eigenvalues()[1]==omegaKZO**2).subs(Eq_Gamma_ZO3ers.solve(phi3toBN)[0]).expand()\n",
    "\n",
    "show(Eq_K_ZA3ers)\n",
    "show(Eq_K_ZO3ers)"
   ]
  },
  {
   "cell_type": "markdown",
   "id": "spectacular-amazon",
   "metadata": {},
   "source": [
    "Notem que en el cas del BN, a diferència del cas del grafè, obtenim 2 freqüenciès distintes al punt $K$ ja que la base està constituïda per dos àtoms d'elements distints (el segon terme d'ambdues equacions es diferent en este cas).\n",
    "Tenim que tindre en compte que en aquest cas no sabem a priori a quina rama correspon cada valor propi, segons l'elecció que realitzem obtindrem els valors de les constants $\\phi_{2,to}^{NN}$ i $\\phi_{2,to}^{BB}$ intercambiades."
   ]
  },
  {
   "cell_type": "markdown",
   "id": "extraordinary-queens",
   "metadata": {},
   "source": [
    "#### Constants de força\n",
    "<b>Passem a resoldre el sistema d'equacions que hem obtés per obtindre les constants de força</b>:</p>\n",
    "Tenim més equacions que incògnites, i segons les ecuacions escollides obtenim valors diferents, ja que per una banda emprem equacions teòriques i per altra valos experimentals. El sistema d'equacions que obtenim el podem resoldre, en este cas, tant analítica com numèricament.</p>\n",
    "Segons les equacions que escollim per construir el sistema d'equacions amb el qual resoldre les constants de força obtenim diferents valors per estes constants."
   ]
  },
  {
   "cell_type": "code",
   "execution_count": 16,
   "id": "crucial-wagon",
   "metadata": {
    "tags": [
     "hide-input"
    ]
   },
   "outputs": [],
   "source": [
    "valors_numerics_emprats=[omegaGammaZO==omega_Gamma_ZO,omegaMZO==omega_M_ZO,omegaMZA==omega_M_ZA,\\\n",
    "                         omegaKZO==omega_K_ZO, omegaKZA==omega_K_ZA, M_B==B.mass, M_N==N.mass]"
   ]
  },
  {
   "cell_type": "markdown",
   "id": "infinite-replication",
   "metadata": {},
   "source": [
    "Per exemple, una solució analítica que trobem és:"
   ]
  },
  {
   "cell_type": "code",
   "execution_count": 17,
   "id": "periodic-fisher",
   "metadata": {},
   "outputs": [
    {
     "data": {
      "text/html": [
       "<html><script type=\"math/tex; mode=display\">\\newcommand{\\Bold}[1]{\\mathbf{#1}}\\left[\\left({\\phi_{1,to}^{BN}}, \\verb|=|, -1361164\\right), \\left({\\phi_{2,to}^{BB}}, \\verb|=|, -25916\\right), \\left({\\phi_{2,to}^{NN}}, \\verb|=|, 374704\\right), \\left({\\phi_{3,to}^{BN}}, \\verb|=|, -51718\\right)\\right]</script></html>"
      ],
      "text/latex": [
       "\\begin{math}\n",
       "\\newcommand{\\Bold}[1]{\\mathbf{#1}}\\left[\\left({\\phi_{1,to}^{BN}}, \\verb|=|, -1361164\\right), \\left({\\phi_{2,to}^{BB}}, \\verb|=|, -25916\\right), \\left({\\phi_{2,to}^{NN}}, \\verb|=|, 374704\\right), \\left({\\phi_{3,to}^{BN}}, \\verb|=|, -51718\\right)\\right]\n",
       "\\end{math}"
      ],
      "text/plain": [
       "[(phi1toBN, '=', -1361164),\n",
       " (phi2toBB, '=', -25916),\n",
       " (phi2toNN, '=', 374704),\n",
       " (phi3toBN, '=', -51718)]"
      ]
     },
     "metadata": {},
     "output_type": "display_data"
    }
   ],
   "source": [
    "solucions_perp3ers= solve([Eq_Gamma_ZO3ers,Eq_M_ZOmenysZA3ers_quadrat,Eq_K_ZO3ers,Eq_K_ZA3ers],\\\n",
    "                          phi1toBN,phi2toBB,phi2toNN,phi3toBN,algorithm=\"sympy\")\n",
    "\n",
    "show([(key, '=', round(value.subs(valors_numerics_emprats))) for key,value in solucions_perp3ers[0].items()])"
   ]
  },
  {
   "cell_type": "markdown",
   "id": "oriented-flash",
   "metadata": {},
   "source": [
    "Notem que en este cas hem emprat obtenim dues solucions diferent perque hem emprat una equació amb variables al quadrat, i la solució mostrada es la que millor s'ajusta a les dades proporcionades.<p>\n",
    "Si escollim un altre conjunt d'equacions (sols canviem una):"
   ]
  },
  {
   "cell_type": "code",
   "execution_count": 18,
   "id": "mighty-sleep",
   "metadata": {},
   "outputs": [
    {
     "data": {
      "text/html": [
       "<html><script type=\"math/tex; mode=display\">\\newcommand{\\Bold}[1]{\\mathbf{#1}}\\left[\\left({\\phi_{1,to}^{BN}}, \\verb|=|, -777059\\right), \\left({\\phi_{2,to}^{BB}}, \\verb|=|, -25916\\right), \\left({\\phi_{2,to}^{NN}}, \\verb|=|, 374704\\right), \\left({\\phi_{3,to}^{BN}}, \\verb|=|, -635822\\right)\\right]</script></html>"
      ],
      "text/latex": [
       "\\begin{math}\n",
       "\\newcommand{\\Bold}[1]{\\mathbf{#1}}\\left[\\left({\\phi_{1,to}^{BN}}, \\verb|=|, -777059\\right), \\left({\\phi_{2,to}^{BB}}, \\verb|=|, -25916\\right), \\left({\\phi_{2,to}^{NN}}, \\verb|=|, 374704\\right), \\left({\\phi_{3,to}^{BN}}, \\verb|=|, -635822\\right)\\right]\n",
       "\\end{math}"
      ],
      "text/plain": [
       "[(phi1toBN, '=', -777059),\n",
       " (phi2toBB, '=', -25916),\n",
       " (phi2toNN, '=', 374704),\n",
       " (phi3toBN, '=', -635822)]"
      ]
     },
     "metadata": {},
     "output_type": "display_data"
    }
   ],
   "source": [
    "solucions_perp3ers= solve([Eq_Gamma_ZO3ers,Eq_M_ZA3ers,Eq_K_ZO3ers,Eq_K_ZA3ers],\\\n",
    "                          phi1toBN,phi2toBB,phi2toNN,phi3toBN,algorithm=\"sympy\")\n",
    "\n",
    "show([(key, '=', round(value.subs(valors_numerics_emprats))) for key,value in solucions_perp3ers[0].items()])"
   ]
  },
  {
   "cell_type": "markdown",
   "id": "processed-clearance",
   "metadata": {},
   "source": [
    "Les solucions anteriors les hem obtés resolguent algebraicament el sistema d'equacions. Ara el resoldrem numèricament (podríem fer ús de les funcions disponibles en *scipy.optimize*, per exemple, però sagemath ens proporciona la funció minimize directament).\n",
    "El que faig es construir un vector les components del qual són les equacions que volem resoldre y minimitzar el seu mòdul:"
   ]
  },
  {
   "cell_type": "code",
   "execution_count": 19,
   "id": "bacterial-reality",
   "metadata": {
    "tags": []
   },
   "outputs": [
    {
     "data": {
      "text/html": [
       "<html><script type=\"math/tex; mode=display\">\\newcommand{\\Bold}[1]{\\mathbf{#1}}\\left[{\\phi_{1,to}^{BN}} = \\left(-777059\\right), {\\phi_{2,to}^{BB}} = \\left(-25916\\right), {\\phi_{2,to}^{NN}} = 374704, {\\phi_{3,to}^{BN}} = \\left(-635822\\right)\\right]</script></html>"
      ],
      "text/latex": [
       "\\begin{math}\n",
       "\\newcommand{\\Bold}[1]{\\mathbf{#1}}\\left[{\\phi_{1,to}^{BN}} = \\left(-777059\\right), {\\phi_{2,to}^{BB}} = \\left(-25916\\right), {\\phi_{2,to}^{NN}} = 374704, {\\phi_{3,to}^{BN}} = \\left(-635822\\right)\\right]\n",
       "\\end{math}"
      ],
      "text/plain": [
       "[phi1toBN == -777059,\n",
       " phi2toBB == -25916,\n",
       " phi2toNN == 374704,\n",
       " phi3toBN == -635822]"
      ]
     },
     "execution_count": 19,
     "metadata": {},
     "output_type": "execute_result"
    }
   ],
   "source": [
    "Equacions3ers=[Eq_Gamma_ZO3ers.subs(valors_numerics_emprats),\\\n",
    "               Eq_M_ZA3ers.subs(valors_numerics_emprats),\\\n",
    "               Eq_K_ZO3ers.subs(valors_numerics_emprats),\\\n",
    "               Eq_K_ZA3ers.subs(valors_numerics_emprats)]\n",
    "\n",
    "solucions3ers=minimize(norm(vector((Equacions3ers))),[1.,1.,1.,1.])\n",
    "\n",
    "Solucions3ers=[phi1toBN==round(solucions3ers[0]), phi2toBB==round(solucions3ers[1]),\\\n",
    "               phi2toNN==round(solucions3ers[2]), phi3toBN==round(solucions3ers[3])]\n",
    "Solucions3ers"
   ]
  },
  {
   "cell_type": "markdown",
   "id": "endless-raleigh",
   "metadata": {},
   "source": [
    "Podem comprobar que obtenim la mateixa solució que si resolguem analíticament.\n",
    "Així mateix, si emprem un altre sistema d'equacions les solucions són diferents:"
   ]
  },
  {
   "cell_type": "code",
   "execution_count": 20,
   "id": "computational-influence",
   "metadata": {},
   "outputs": [
    {
     "data": {
      "text/html": [
       "<html><script type=\"math/tex; mode=display\">\\newcommand{\\Bold}[1]{\\mathbf{#1}}\\left[{\\phi_{1,to}^{BN}} = \\left(-739929\\right), {\\phi_{2,to}^{BB}} = \\left(-25916\\right), {\\phi_{2,to}^{NN}} = 374704, {\\phi_{3,to}^{BN}} = \\left(-672953\\right)\\right]</script></html>"
      ],
      "text/latex": [
       "\\begin{math}\n",
       "\\newcommand{\\Bold}[1]{\\mathbf{#1}}\\left[{\\phi_{1,to}^{BN}} = \\left(-739929\\right), {\\phi_{2,to}^{BB}} = \\left(-25916\\right), {\\phi_{2,to}^{NN}} = 374704, {\\phi_{3,to}^{BN}} = \\left(-672953\\right)\\right]\n",
       "\\end{math}"
      ],
      "text/plain": [
       "[phi1toBN == -739929,\n",
       " phi2toBB == -25916,\n",
       " phi2toNN == 374704,\n",
       " phi3toBN == -672953]"
      ]
     },
     "execution_count": 20,
     "metadata": {},
     "output_type": "execute_result"
    }
   ],
   "source": [
    "Equacions3ers=[Eq_Gamma_ZO3ers.subs(valors_numerics_emprats),\\\n",
    "               Eq_M_ZO3ers.subs(valors_numerics_emprats),\\\n",
    "               Eq_K_ZO3ers.subs(valors_numerics_emprats),\\\n",
    "               Eq_K_ZA3ers.subs(valors_numerics_emprats)]\n",
    "\n",
    "solucions3ers2=minimize(norm(vector((Equacions3ers))),[1.,1.,1.,1.])\n",
    "\n",
    "Solucions3ers2=[phi1toBN==round(solucions3ers2[0]), phi2toBB==round(solucions3ers2[1]),\\\n",
    "                phi2toNN==round(solucions3ers2[2]), phi3toBN==round(solucions3ers2[3])]\n",
    "Solucions3ers2"
   ]
  },
  {
   "cell_type": "markdown",
   "id": "incredible-warehouse",
   "metadata": {},
   "source": [
    "Realitzant diferents gràfiques podem comprobar que realment ajusta millor al conjunt de dades experimentals la primera solució que hem trobat, de manera que escollim com a conjunt de constants de força:"
   ]
  },
  {
   "cell_type": "code",
   "execution_count": 21,
   "id": "turkish-undergraduate",
   "metadata": {},
   "outputs": [
    {
     "data": {
      "text/html": [
       "<html><script type=\"math/tex; mode=display\">\\newcommand{\\Bold}[1]{\\mathbf{#1}}\\left[{\\phi_{1,to}^{BN}} = \\left(-1363769\\right), {\\phi_{2,to}^{BB}} = \\left(-27725\\right), {\\phi_{2,to}^{NN}} = 372361, {\\phi_{3,to}^{BN}} = \\left(-52586\\right)\\right]</script></html>"
      ],
      "text/latex": [
       "\\begin{math}\n",
       "\\newcommand{\\Bold}[1]{\\mathbf{#1}}\\left[{\\phi_{1,to}^{BN}} = \\left(-1363769\\right), {\\phi_{2,to}^{BB}} = \\left(-27725\\right), {\\phi_{2,to}^{NN}} = 372361, {\\phi_{3,to}^{BN}} = \\left(-52586\\right)\\right]\n",
       "\\end{math}"
      ],
      "text/plain": [
       "[phi1toBN == -1363769,\n",
       " phi2toBB == -27725,\n",
       " phi2toNN == 372361,\n",
       " phi3toBN == -52586]"
      ]
     },
     "execution_count": 21,
     "metadata": {},
     "output_type": "execute_result"
    }
   ],
   "source": [
    "Equacions3ers=[Eq_Gamma_ZO3ers.subs(valors_numerics_emprats),\\\n",
    "               Eq_M_ZO3ers.subs(valors_numerics_emprats),\\\n",
    "               Eq_M_ZA3ers.subs(valors_numerics_emprats),\\\n",
    "               Eq_K_ZO3ers.subs(valors_numerics_emprats),\\\n",
    "               Eq_K_ZA3ers.subs(valors_numerics_emprats)]\n",
    "\n",
    "solucions3ers=minimize(norm(vector((Equacions3ers))),[-1490000.,1.,1.,1.])\n",
    "\n",
    "Solucions3ers=[phi1toBN==round(solucions3ers[0]), phi2toBB==round(solucions3ers[1]),\\\n",
    "                phi2toNN==round(solucions3ers[2]), phi3toBN==round(solucions3ers[3])]\n",
    "Solucions3ers"
   ]
  },
  {
   "cell_type": "code",
   "execution_count": 22,
   "id": "asian-stretch",
   "metadata": {
    "tags": [
     "hide-input"
    ]
   },
   "outputs": [],
   "source": [
    "dades=loadtxt(\"../Dades/freq.dat\")\n",
    "#data = pd.read_csv('../../Dades/freq.dat', header = None)\n",
    "#show(pd.DataFrame(dades))"
   ]
  },
  {
   "cell_type": "markdown",
   "id": "persistent-costume",
   "metadata": {},
   "source": [
    "```{note}\n",
    "En compte calcular els valors i vectors propis analíticament, ara que tenim tots els valors numérics  per construir la matriu de dispersió en cada punt, és molt més eficient convertir les matrius de sagemath en arrays de numpy, executant el mètode numpy sobre l'array en qüestió\n",
    "```"
   ]
  },
  {
   "cell_type": "code",
   "execution_count": 23,
   "id": "prompt-delaware",
   "metadata": {
    "tags": [
     "hide-input"
    ]
   },
   "outputs": [],
   "source": [
    "#Freqüències de Gamma a M (i les guardem com un dataframe). Calculem 200 punts en este interval\n",
    "freq_perp_planol_Gamma_a_M=real_part(sqrt(np.linalg.eigvals(\\\n",
    "     np.array([D_zz3ers.subs(Solucions3ers, a=1, q_x=x*pi, q_y=x*pi/sqrt(3),\\\n",
    "                    M_B=B.mass, M_N=N.mass).numpy(dtype='complex64') for x in arange(0,1,1./200)]))))\n",
    "\n",
    "DF_freq_perp_planol_Gamma_a_M=pd.DataFrame(freq_perp_planol_Gamma_a_M)"
   ]
  },
  {
   "cell_type": "code",
   "execution_count": 24,
   "id": "aquatic-regression",
   "metadata": {
    "tags": [
     "hide-input"
    ]
   },
   "outputs": [],
   "source": [
    "#Freqüències de M a K (i les guardem com un dataframe). Calculem 100 punts en este interval\n",
    "freq_perp_planol_M_a_K=real_part(sqrt(np.linalg.eigvals(\\\n",
    "     np.array([D_zz3ers.subs(Solucions3ers, a=1, q_x=pi*(1+x/3), q_y=pi/sqrt(3)*(1-x),\\\n",
    "                    M_B=B.mass, M_N=N.mass).numpy(dtype='complex64') for x in arange(0,1,1./100)]))))\n",
    "\n",
    "DF_freq_perp_planol_M_a_K=pd.DataFrame(freq_perp_planol_M_a_K)"
   ]
  },
  {
   "cell_type": "code",
   "execution_count": 25,
   "id": "clinical-blanket",
   "metadata": {
    "tags": [
     "hide-input"
    ]
   },
   "outputs": [],
   "source": [
    "#Freqüències de K a Gamma (i les guardem com un dataframe). Calculem 124 punts en este interval\n",
    "freq_perp_planol_K_a_Gamma=real_part(sqrt(np.linalg.eigvals(\\\n",
    "     np.array([D_zz3ers.subs(Solucions3ers, a=1, q_x=n(4*pi/3*(1-x)), q_y=0,\\\n",
    "                    M_B=B.mass, M_N=N.mass).numpy(dtype='complex64') for x in arange(0,1,1./224)]))))\n",
    "\n",
    "DF_freq_perp_planol_K_a_Gamma=pd.DataFrame(freq_perp_planol_K_a_Gamma)"
   ]
  },
  {
   "cell_type": "code",
   "execution_count": 26,
   "id": "passing-motor",
   "metadata": {
    "tags": [
     "hide-input"
    ]
   },
   "outputs": [],
   "source": [
    "DF_freq_calculades_perp_planol=pd.concat([DF_freq_perp_planol_Gamma_a_M,DF_freq_perp_planol_M_a_K,\\\n",
    "                                    DF_freq_perp_planol_K_a_Gamma],ignore_index=True)\n",
    "DF_freq_calculades_perp_planol\n",
    "DF_freq_calculades_perp_planol.to_csv(\"freq_calculades_perp_planol.dat\", sep='\\t', encoding='utf-8', header=False)"
   ]
  },
  {
   "cell_type": "code",
   "execution_count": 27,
   "id": "changed-formula",
   "metadata": {
    "tags": [
     "hide-input"
    ]
   },
   "outputs": [
    {
     "data": {
      "image/png": "[encoded data removed]",
      "text/plain": [
       "Graphics object consisting of 12 graphics primitives"
      ]
     },
     "metadata": {
      "filenames": {
       "image/png": "/home/casimir/Documents/Fisica/TFG/TFG-Semiconductores_2D/Jupyter-Book/_build/jupyter_execute/formulacio_matriu_dinamica_56_0.png"
      }
     },
     "output_type": "display_data"
    }
   ],
   "source": [
    "dades_calculades_perp_planol=loadtxt(\"freq_calculades_perp_planol.dat\")\n",
    "show(\\\n",
    "points(zip(dades_calculades_perp_planol[:200,0], dades_calculades_perp_planol[:200,1]), color=\"red\")+\\\n",
    "points(zip(dades_calculades_perp_planol[:200,0], dades_calculades_perp_planol[:200,2]), color=\"red\")+\\\n",
    "points(zip(dades_calculades_perp_planol[200:300,0], dades_calculades_perp_planol[200:300,1]), color=\"red\")+\\\n",
    "points(zip(dades_calculades_perp_planol[200:300,0], dades_calculades_perp_planol[200:300,2]), color=\"red\")+\\\n",
    "points(zip(dades_calculades_perp_planol[300:524,0], dades_calculades_perp_planol[300:524,1]), color=\"red\")+\\\n",
    "points(zip(dades_calculades_perp_planol[300:524,0], dades_calculades_perp_planol[300:524,2]), color=\"red\")+\\\n",
    "points(zip(dades[:524,0], dades[:524,1]), color=\"black\") +\\\n",
    "points(zip(dades[524:1048,0], dades[524:1048,1]), color=\"black\") +\\\n",
    "points(zip(dades[1048:1572,0], dades[1048:1572,1]), color=\"black\") +\\\n",
    "points(zip(dades[1572:2096,0], dades[1572:2096,1]), color=\"black\") +\\\n",
    "points(zip(dades[2096:2620,0], dades[2096:2620,1]), color=\"black\") +\\\n",
    "points(zip(dades[2620:3144,0], dades[2620:3144,1]), color=\"black\")     \n",
    "     ,figsize=9) "
   ]
  },
  {
   "cell_type": "markdown",
   "id": "judicial-parcel",
   "metadata": {
    "tags": []
   },
   "source": [
    "### Fins 4ts veïns"
   ]
  },
  {
   "cell_type": "markdown",
   "id": "subject-yesterday",
   "metadata": {},
   "source": [
    "Si considerem fins als quarts veïns, també obtenim expresions analítiques per als valors propis de la matriu dinàmica als punts (de màxima simetria) considerats. Però en este cas no obtenim una solució analítica per al sistema d'equacions (sí trobem fàcilment solucions numéricament)"
   ]
  },
  {
   "cell_type": "markdown",
   "id": "drawn-automation",
   "metadata": {
    "tags": []
   },
   "source": [
    "#### Punt $\\Gamma$"
   ]
  },
  {
   "cell_type": "code",
   "execution_count": 28,
   "id": "brave-registrar",
   "metadata": {
    "tags": [
     "hide-input"
    ]
   },
   "outputs": [
    {
     "data": {
      "text/html": [
       "<html><script type=\"math/tex; mode=display\">\\newcommand{\\Bold}[1]{\\mathbf{#1}}-\\frac{6 \\, {\\left({\\phi_{1,to}^{BN}} + {\\phi_{3,to}^{BN}} + 2 \\, {\\phi_{4,to}^{BN}}\\right)}}{\\sqrt{M_{B} M_{N}}} = {\\omega(\\Gamma)_{ZO}}^{2}</script></html>"
      ],
      "text/latex": [
       "\\begin{math}\n",
       "\\newcommand{\\Bold}[1]{\\mathbf{#1}}-\\frac{6 \\, {\\left({\\phi_{1,to}^{BN}} + {\\phi_{3,to}^{BN}} + 2 \\, {\\phi_{4,to}^{BN}}\\right)}}{\\sqrt{M_{B} M_{N}}} = {\\omega(\\Gamma)_{ZO}}^{2}\n",
       "\\end{math}"
      ],
      "text/plain": [
       "-6*(phi1toBN + phi3toBN + 2*phi4toBN)/sqrt(M_B*M_N) == omegaGammaZO^2"
      ]
     },
     "metadata": {},
     "output_type": "display_data"
    }
   ],
   "source": [
    "D_Gamma4ts_zz=D_zz4ts.subs(q_x=0,q_y=0) #,(M_B,B.mass*u),(M_N,N.mass*u)])\n",
    "D_Gamma4ts_zz.eigenvalues()\n",
    "Eq_Gamma_ZO4ts=(D_Gamma4ts_zz.eigenvalues()[0]==omegaGammaZO**2)\n",
    "show(Eq_Gamma_ZO4ts)"
   ]
  },
  {
   "cell_type": "markdown",
   "id": "ethical-surrey",
   "metadata": {},
   "source": [
    "#### Punt $M$"
   ]
  },
  {
   "cell_type": "code",
   "execution_count": 29,
   "id": "ideal-invalid",
   "metadata": {
    "tags": [
     "hide-input"
    ]
   },
   "outputs": [
    {
     "data": {
      "text/html": [
       "<html><script type=\"math/tex; mode=display\">\\newcommand{\\Bold}[1]{\\mathbf{#1}}-\\frac{3 \\, {\\left({\\phi_{1,to}^{BN}} + {\\phi_{3,to}^{BN}} + 2 \\, {\\phi_{4,to}^{BN}}\\right)}}{\\sqrt{M_{B} M_{N}}} - \\frac{4 \\, {\\phi_{2,to}^{BB}}}{M_{B}} - \\frac{4 \\, {\\phi_{2,to}^{NN}}}{M_{N}} - \\frac{\\sqrt{M_{B} M_{N} {\\left({\\phi_{1,to}^{BN}} - 3 \\, {\\phi_{3,to}^{BN}}\\right)}^{2} + 4 \\, M_{B} M_{N} {\\left({\\phi_{1,to}^{BN}} - 3 \\, {\\phi_{3,to}^{BN}} + {\\phi_{4,to}^{BN}}\\right)} {\\phi_{4,to}^{BN}} + 16 \\, {\\left(M_{N} {\\phi_{2,to}^{BB}} - M_{B} {\\phi_{2,to}^{NN}}\\right)}^{2}}}{M_{B} M_{N}} = {\\omega(M)_{ZA}}^{2}</script></html>"
      ],
      "text/latex": [
       "\\begin{math}\n",
       "\\newcommand{\\Bold}[1]{\\mathbf{#1}}-\\frac{3 \\, {\\left({\\phi_{1,to}^{BN}} + {\\phi_{3,to}^{BN}} + 2 \\, {\\phi_{4,to}^{BN}}\\right)}}{\\sqrt{M_{B} M_{N}}} - \\frac{4 \\, {\\phi_{2,to}^{BB}}}{M_{B}} - \\frac{4 \\, {\\phi_{2,to}^{NN}}}{M_{N}} - \\frac{\\sqrt{M_{B} M_{N} {\\left({\\phi_{1,to}^{BN}} - 3 \\, {\\phi_{3,to}^{BN}}\\right)}^{2} + 4 \\, M_{B} M_{N} {\\left({\\phi_{1,to}^{BN}} - 3 \\, {\\phi_{3,to}^{BN}} + {\\phi_{4,to}^{BN}}\\right)} {\\phi_{4,to}^{BN}} + 16 \\, {\\left(M_{N} {\\phi_{2,to}^{BB}} - M_{B} {\\phi_{2,to}^{NN}}\\right)}^{2}}}{M_{B} M_{N}} = {\\omega(M)_{ZA}}^{2}\n",
       "\\end{math}"
      ],
      "text/plain": [
       "-3*(phi1toBN + phi3toBN + 2*phi4toBN)/sqrt(M_B*M_N) - 4*phi2toBB/M_B - 4*phi2toNN/M_N - sqrt(M_B*M_N*(phi1toBN - 3*phi3toBN)^2 + 4*M_B*M_N*(phi1toBN - 3*phi3toBN + phi4toBN)*phi4toBN + 16*(M_N*phi2toBB - M_B*phi2toNN)^2)/(M_B*M_N) == omegaMZA^2"
      ]
     },
     "metadata": {},
     "output_type": "display_data"
    },
    {
     "data": {
      "text/html": [
       "<html><script type=\"math/tex; mode=display\">\\newcommand{\\Bold}[1]{\\mathbf{#1}}-\\frac{3 \\, {\\left({\\phi_{1,to}^{BN}} + {\\phi_{3,to}^{BN}} + 2 \\, {\\phi_{4,to}^{BN}}\\right)}}{\\sqrt{M_{B} M_{N}}} - \\frac{4 \\, {\\phi_{2,to}^{BB}}}{M_{B}} - \\frac{4 \\, {\\phi_{2,to}^{NN}}}{M_{N}} + \\frac{\\sqrt{M_{B} M_{N} {\\left({\\phi_{1,to}^{BN}} - 3 \\, {\\phi_{3,to}^{BN}}\\right)}^{2} + 4 \\, M_{B} M_{N} {\\left({\\phi_{1,to}^{BN}} - 3 \\, {\\phi_{3,to}^{BN}} + {\\phi_{4,to}^{BN}}\\right)} {\\phi_{4,to}^{BN}} + 16 \\, {\\left(M_{N} {\\phi_{2,to}^{BB}} - M_{B} {\\phi_{2,to}^{NN}}\\right)}^{2}}}{M_{B} M_{N}} = {\\omega(M)_{ZO}}^{2}</script></html>"
      ],
      "text/latex": [
       "\\begin{math}\n",
       "\\newcommand{\\Bold}[1]{\\mathbf{#1}}-\\frac{3 \\, {\\left({\\phi_{1,to}^{BN}} + {\\phi_{3,to}^{BN}} + 2 \\, {\\phi_{4,to}^{BN}}\\right)}}{\\sqrt{M_{B} M_{N}}} - \\frac{4 \\, {\\phi_{2,to}^{BB}}}{M_{B}} - \\frac{4 \\, {\\phi_{2,to}^{NN}}}{M_{N}} + \\frac{\\sqrt{M_{B} M_{N} {\\left({\\phi_{1,to}^{BN}} - 3 \\, {\\phi_{3,to}^{BN}}\\right)}^{2} + 4 \\, M_{B} M_{N} {\\left({\\phi_{1,to}^{BN}} - 3 \\, {\\phi_{3,to}^{BN}} + {\\phi_{4,to}^{BN}}\\right)} {\\phi_{4,to}^{BN}} + 16 \\, {\\left(M_{N} {\\phi_{2,to}^{BB}} - M_{B} {\\phi_{2,to}^{NN}}\\right)}^{2}}}{M_{B} M_{N}} = {\\omega(M)_{ZO}}^{2}\n",
       "\\end{math}"
      ],
      "text/plain": [
       "-3*(phi1toBN + phi3toBN + 2*phi4toBN)/sqrt(M_B*M_N) - 4*phi2toBB/M_B - 4*phi2toNN/M_N + sqrt(M_B*M_N*(phi1toBN - 3*phi3toBN)^2 + 4*M_B*M_N*(phi1toBN - 3*phi3toBN + phi4toBN)*phi4toBN + 16*(M_N*phi2toBB - M_B*phi2toNN)^2)/(M_B*M_N) == omegaMZO^2"
      ]
     },
     "metadata": {},
     "output_type": "display_data"
    }
   ],
   "source": [
    "D_M4ts_zz=D_zz4ts.subs(q_x=pi/a,q_y=pi/(sqrt(3)*a))\n",
    "\n",
    "# Podem simplificar un poc l'expressió obtessa per als valores propios al punto $M$ \n",
    "#(simplement reescribint l'argument de l'arrel quadrada)\n",
    "\n",
    "assume(sqrt(M_B*M_N*(phi1toBN-3*phi3toBN)^2+(4*(M_N*phi2toBB-M_B*phi2toNN))^2+\\\n",
    "         4*M_B*M_N*(phi1toBN-3*phi3toBN+phi4toBN)*phi4toBN)>0)\n",
    "\n",
    "omegaM1quadrat4ts=-4*phi2toBB/M_B-4*phi2toNN/M_N-3/sqrt(M_B*M_N)*(phi1toBN+phi3toBN+2*phi4toBN)\\\n",
    "   -sqrt(M_B*M_N*(phi1toBN-3*phi3toBN)^2+(4*(M_N*phi2toBB-M_B*phi2toNN))^2+\\\n",
    "         4*M_B*M_N*(phi1toBN-3*phi3toBN+phi4toBN)*phi4toBN)/(M_B*M_N)\n",
    "\n",
    "if bool(D_M4ts_zz.eigenvalues()[0]==omegaM1quadrat4ts):\n",
    "    Eq_M_ZA4ts=(omegaM1quadrat4ts==omegaMZA**2)\n",
    "\n",
    "\n",
    "\n",
    "omegaM2quadrat4ts=-4*phi2toBB/M_B-4*phi2toNN/M_N-3/sqrt(M_B*M_N)*(phi1toBN+phi3toBN+2*phi4toBN)\\\n",
    "   +sqrt(M_B*M_N*(phi1toBN-3*phi3toBN)^2+(4*(M_N*phi2toBB-M_B*phi2toNN))^2+\\\n",
    "         4*M_B*M_N*(phi1toBN-3*phi3toBN+phi4toBN)*phi4toBN)/(M_B*M_N)\n",
    "\n",
    "if bool(D_M4ts_zz.eigenvalues()[1]==omegaM2quadrat4ts):\n",
    "    Eq_M_ZO4ts=(omegaM2quadrat4ts==omegaMZO**2)\n",
    "    \n",
    "    \n",
    "show(Eq_M_ZA4ts)\n",
    "show(Eq_M_ZO4ts)\n",
    "\n",
    "#Eq_M_ZOmesZA4ts=(Eq_M_ZO4ts+Eq_M_ZA4ts).subs(Eq_Gamma_ZO4ts.solve(phi4toBN)[0]).expand()\n",
    "#show(Eq_M_ZOmesZA4ts)\n",
    "#Eq_M_ZOmenysZA4ts_quadrat=((Eq_M_ZO4ts-Eq_M_ZA4ts)**2).subs(Eq_Gamma_ZO4ts.solve(phi4toBN)[0]).expand()\n",
    "#show(Eq_M_ZOmenysZA4ts_quadrat)"
   ]
  },
  {
   "cell_type": "markdown",
   "id": "wireless-elimination",
   "metadata": {},
   "source": [
    "#### Punt $K$"
   ]
  },
  {
   "cell_type": "code",
   "execution_count": 30,
   "id": "fatty-closer",
   "metadata": {
    "tags": [
     "hide-input"
    ]
   },
   "outputs": [
    {
     "data": {
      "text/html": [
       "<html><script type=\"math/tex; mode=display\">\\newcommand{\\Bold}[1]{\\mathbf{#1}}-\\frac{3 \\, {\\phi_{1,to}^{BN}}}{\\sqrt{M_{B}} \\sqrt{M_{N}}} - \\frac{9 \\, {\\phi_{2,to}^{NN}}}{M_{N}} - \\frac{3 \\, {\\phi_{3,to}^{BN}}}{\\sqrt{M_{B}} \\sqrt{M_{N}}} - \\frac{6 \\, {\\phi_{4,to}^{BN}}}{\\sqrt{M_{B}} \\sqrt{M_{N}}} = {\\omega(K)_{ZA}}^{2}</script></html>"
      ],
      "text/latex": [
       "\\begin{math}\n",
       "\\newcommand{\\Bold}[1]{\\mathbf{#1}}-\\frac{3 \\, {\\phi_{1,to}^{BN}}}{\\sqrt{M_{B}} \\sqrt{M_{N}}} - \\frac{9 \\, {\\phi_{2,to}^{NN}}}{M_{N}} - \\frac{3 \\, {\\phi_{3,to}^{BN}}}{\\sqrt{M_{B}} \\sqrt{M_{N}}} - \\frac{6 \\, {\\phi_{4,to}^{BN}}}{\\sqrt{M_{B}} \\sqrt{M_{N}}} = {\\omega(K)_{ZA}}^{2}\n",
       "\\end{math}"
      ],
      "text/plain": [
       "-3*phi1toBN/(sqrt(M_B)*sqrt(M_N)) - 9*phi2toNN/M_N - 3*phi3toBN/(sqrt(M_B)*sqrt(M_N)) - 6*phi4toBN/(sqrt(M_B)*sqrt(M_N)) == omegaKZA^2"
      ]
     },
     "metadata": {},
     "output_type": "display_data"
    },
    {
     "data": {
      "text/html": [
       "<html><script type=\"math/tex; mode=display\">\\newcommand{\\Bold}[1]{\\mathbf{#1}}-\\frac{3 \\, {\\phi_{1,to}^{BN}}}{\\sqrt{M_{B}} \\sqrt{M_{N}}} - \\frac{9 \\, {\\phi_{2,to}^{BB}}}{M_{B}} - \\frac{3 \\, {\\phi_{3,to}^{BN}}}{\\sqrt{M_{B}} \\sqrt{M_{N}}} - \\frac{6 \\, {\\phi_{4,to}^{BN}}}{\\sqrt{M_{B}} \\sqrt{M_{N}}} = {\\omega(K)_{ZO}}^{2}</script></html>"
      ],
      "text/latex": [
       "\\begin{math}\n",
       "\\newcommand{\\Bold}[1]{\\mathbf{#1}}-\\frac{3 \\, {\\phi_{1,to}^{BN}}}{\\sqrt{M_{B}} \\sqrt{M_{N}}} - \\frac{9 \\, {\\phi_{2,to}^{BB}}}{M_{B}} - \\frac{3 \\, {\\phi_{3,to}^{BN}}}{\\sqrt{M_{B}} \\sqrt{M_{N}}} - \\frac{6 \\, {\\phi_{4,to}^{BN}}}{\\sqrt{M_{B}} \\sqrt{M_{N}}} = {\\omega(K)_{ZO}}^{2}\n",
       "\\end{math}"
      ],
      "text/plain": [
       "-3*phi1toBN/(sqrt(M_B)*sqrt(M_N)) - 9*phi2toBB/M_B - 3*phi3toBN/(sqrt(M_B)*sqrt(M_N)) - 6*phi4toBN/(sqrt(M_B)*sqrt(M_N)) == omegaKZO^2"
      ]
     },
     "metadata": {},
     "output_type": "display_data"
    }
   ],
   "source": [
    "omega_K_ZO=605 #cm-1\n",
    "omega_K_ZA=322\n",
    "D_K_zz4ts=D_zz4ts.subs(q_x=4*pi/(3*a),q_y=0)\n",
    "\n",
    "Eq_K_ZA4ts=(D_K_zz4ts.eigenvalues()[0]==omegaKZA**2).expand() #.subs(Eq_Gamma_ZO4ts.solve(phi4toBN)[0]).expand()\n",
    "Eq_K_ZO4ts=(D_K_zz4ts.eigenvalues()[1]==omegaKZO**2).expand() #.subs(Eq_Gamma_ZO4ts.solve(phi4toBN)[0]).expand()\n",
    "\n",
    "#Eq_K_ZOmesZA3ers=Eq_K_ZA3ers+Eq_K_ZO3ers\n",
    "\n",
    "#Eq_K_ZOmenysZA3ers=Eq_K_ZA3ers-Eq_K_ZO3ers\n",
    "\n",
    "show(Eq_K_ZA4ts)\n",
    "show(Eq_K_ZO4ts)"
   ]
  },
  {
   "cell_type": "code",
   "execution_count": 31,
   "id": "stable-wildlife",
   "metadata": {
    "tags": [
     "hide-input"
    ]
   },
   "outputs": [
    {
     "data": {
      "text/html": [
       "<html><script type=\"math/tex; mode=display\">\\newcommand{\\Bold}[1]{\\mathbf{#1}}\\left[{\\phi_{1,to}^{BN}} = \\left(-1460307\\right), {\\phi_{2,to}^{BB}} = \\left(-28078\\right), {\\phi_{2,to}^{NN}} = 371904, {\\phi_{3,to}^{BN}} = \\left(-51841\\right), {\\phi_{4,to}^{BN}} = 49387\\right]</script></html>"
      ],
      "text/latex": [
       "\\begin{math}\n",
       "\\newcommand{\\Bold}[1]{\\mathbf{#1}}\\left[{\\phi_{1,to}^{BN}} = \\left(-1460307\\right), {\\phi_{2,to}^{BB}} = \\left(-28078\\right), {\\phi_{2,to}^{NN}} = 371904, {\\phi_{3,to}^{BN}} = \\left(-51841\\right), {\\phi_{4,to}^{BN}} = 49387\\right]\n",
       "\\end{math}"
      ],
      "text/plain": [
       "[phi1toBN == -1460307,\n",
       " phi2toBB == -28078,\n",
       " phi2toNN == 371904,\n",
       " phi3toBN == -51841,\n",
       " phi4toBN == 49387]"
      ]
     },
     "execution_count": 31,
     "metadata": {},
     "output_type": "execute_result"
    }
   ],
   "source": [
    "Equacions4ts=[Eq_Gamma_ZO4ts.subs(valors_numerics_emprats),\\\n",
    "              Eq_M_ZO4ts.subs(valors_numerics_emprats),\\\n",
    "              Eq_M_ZA4ts.subs(valors_numerics_emprats),\\\n",
    "              Eq_K_ZO4ts.subs(valors_numerics_emprats),\\\n",
    "              Eq_K_ZA4ts.subs(valors_numerics_emprats)]\n",
    "solucions4ts=minimize(norm(vector((Equacions4ts))),[-1485000.,1.,1.,1.,1.])\n",
    "Solucions4ts=[phi1toBN==round(solucions4ts[0]), phi2toBB==round(solucions4ts[1]),\\\n",
    "              phi2toNN==round(solucions4ts[2]), phi3toBN==round(solucions4ts[3]),\\\n",
    "              phi4toBN==round(solucions4ts[4])]\n",
    "Solucions4ts"
   ]
  },
  {
   "cell_type": "code",
   "execution_count": 32,
   "id": "breathing-allen",
   "metadata": {
    "tags": [
     "hide-input"
    ]
   },
   "outputs": [],
   "source": [
    "#Freqüències de Gamma a M (i les guardem com un dataframe). Calculem 200 punts en este interval\n",
    "freq_perp_planol_Gamma_a_M=real_part(sqrt(np.linalg.eigvals(\\\n",
    "     np.array([D_zz4ts.subs(Solucions4ts, a=1, q_x=x*pi, q_y=x*pi/sqrt(3),\\\n",
    "                    M_B=B.mass, M_N=N.mass).numpy(dtype='complex64') for x in arange(0,1,1./200)]))))\n",
    "\n",
    "DF_freq_perp_planol_Gamma_a_M=pd.DataFrame(freq_perp_planol_Gamma_a_M)"
   ]
  },
  {
   "cell_type": "code",
   "execution_count": 33,
   "id": "southern-theme",
   "metadata": {
    "tags": [
     "hide-input"
    ]
   },
   "outputs": [],
   "source": [
    "#Freqüències de M a K (i les guardem com un dataframe). Calculem 100 punts en este interval\n",
    "freq_perp_planol_M_a_K=real_part(sqrt(np.linalg.eigvals(\\\n",
    "     np.array([D_zz4ts.subs(Solucions4ts, a=1, q_x=pi*(1+x/3), q_y=pi/sqrt(3)*(1-x),\\\n",
    "                    M_B=B.mass, M_N=N.mass).numpy(dtype='complex64') for x in arange(0,1,1./100)]))))\n",
    "\n",
    "DF_freq_perp_planol_M_a_K=pd.DataFrame(freq_perp_planol_M_a_K)"
   ]
  },
  {
   "cell_type": "code",
   "execution_count": 34,
   "id": "fifteen-montreal",
   "metadata": {
    "tags": [
     "hide-input"
    ]
   },
   "outputs": [],
   "source": [
    "#Freqüències de K a Gamma (i les guardem com un dataframe). Calculem 124 punts en este interval\n",
    "freq_perp_planol_K_a_Gamma=real_part(sqrt(np.linalg.eigvals(\\\n",
    "     np.array([D_zz4ts.subs(Solucions4ts, a=1, q_x=n(4*pi/3*(1-x)), q_y=0,\\\n",
    "                    M_B=B.mass, M_N=N.mass).numpy(dtype='complex64') for x in arange(0,1,1./224)]))))\n",
    "\n",
    "DF_freq_perp_planol_K_a_Gamma=pd.DataFrame(freq_perp_planol_K_a_Gamma)"
   ]
  },
  {
   "cell_type": "code",
   "execution_count": 35,
   "id": "handmade-globe",
   "metadata": {
    "tags": [
     "hide-input"
    ]
   },
   "outputs": [],
   "source": [
    "DF_freq_calculades_perp_planol=pd.concat([DF_freq_perp_planol_Gamma_a_M,DF_freq_perp_planol_M_a_K,\\\n",
    "                                    DF_freq_perp_planol_K_a_Gamma],ignore_index=True)\n",
    "DF_freq_calculades_perp_planol\n",
    "DF_freq_calculades_perp_planol.to_csv(\"freq_calculades_perp_planol4ts.dat\", sep='\\t', encoding='utf-8', header=False)"
   ]
  },
  {
   "cell_type": "code",
   "execution_count": 36,
   "id": "homeless-italic",
   "metadata": {
    "tags": [
     "hide-input"
    ]
   },
   "outputs": [
    {
     "data": {
      "image/png": "[encoded data removed]",
      "text/plain": [
       "Graphics object consisting of 12 graphics primitives"
      ]
     },
     "metadata": {
      "filenames": {
       "image/png": "/home/casimir/Documents/Fisica/TFG/TFG-Semiconductores_2D/Jupyter-Book/_build/jupyter_execute/formulacio_matriu_dinamica_70_0.png"
      }
     },
     "output_type": "display_data"
    }
   ],
   "source": [
    "dades_calculades_perp_planol=loadtxt(\"freq_calculades_perp_planol4ts.dat\")\n",
    "show(\\\n",
    "points(zip(dades_calculades_perp_planol[:200,0], dades_calculades_perp_planol[:200,1]), color=\"red\")+\\\n",
    "points(zip(dades_calculades_perp_planol[:200,0], dades_calculades_perp_planol[:200,2]), color=\"red\")+\\\n",
    "points(zip(dades_calculades_perp_planol[200:300,0], dades_calculades_perp_planol[200:300,1]), color=\"red\")+\\\n",
    "points(zip(dades_calculades_perp_planol[200:300,0], dades_calculades_perp_planol[200:300,2]), color=\"red\")+\\\n",
    "points(zip(dades_calculades_perp_planol[300:524,0], dades_calculades_perp_planol[300:524,1]), color=\"red\")+\\\n",
    "points(zip(dades_calculades_perp_planol[300:524,0], dades_calculades_perp_planol[300:524,2]), color=\"red\")+\\\n",
    "points(zip(dades[:524,0], dades[:524,1]), color=\"black\") +\\\n",
    "points(zip(dades[524:1048,0], dades[524:1048,1]), color=\"black\") +\\\n",
    "points(zip(dades[1048:1572,0], dades[1048:1572,1]), color=\"black\") +\\\n",
    "points(zip(dades[1572:2096,0], dades[1572:2096,1]), color=\"black\") +\\\n",
    "points(zip(dades[2096:2620,0], dades[2096:2620,1]), color=\"black\") +\\\n",
    "points(zip(dades[2620:3144,0], dades[2620:3144,1]), color=\"black\")     \n",
    "     ,figsize=9) "
   ]
  },
  {
   "cell_type": "markdown",
   "id": "lasting-generator",
   "metadata": {},
   "source": [
    "## Vibracions al pla del cristall"
   ]
  },
  {
   "cell_type": "markdown",
   "id": "ready-therapist",
   "metadata": {},
   "source": [
    "Vibracions dins del pla del cristall\n",
    "En este cas tractem amb una matriu $4\\times 4$, i per tant tenim 4 valors propis ($\\omega^2$) en cada punt $q_x$, $q_y$, que corresponen a cuatre rames."
   ]
  },
  {
   "cell_type": "code",
   "execution_count": 37,
   "id": "advanced-pharmacology",
   "metadata": {
    "tags": [
     "hide-input"
    ]
   },
   "outputs": [],
   "source": [
    "D1BN_xy=D1BN.matrix_from_rows_and_columns([0,1],[0,1])\n",
    "D1NB_xy=D1NB.matrix_from_rows_and_columns([0,1],[0,1])\n",
    "\n",
    "D2BB3ers_xy=D2BB3ers.matrix_from_rows_and_columns([0,1],[0,1])\n",
    "D2NN3ers_xy=D2NN3ers.matrix_from_rows_and_columns([0,1],[0,1])\n",
    "\n",
    "D2BB4ts_xy=D2BB4ts.matrix_from_rows_and_columns([0,1],[0,1])\n",
    "D2NN4ts_xy=D2NN4ts.matrix_from_rows_and_columns([0,1],[0,1])\n",
    "\n",
    "\n",
    "D3BN_xy=D3BN.matrix_from_rows_and_columns([0,1],[0,1])\n",
    "D3NB_xy=D3NB.matrix_from_rows_and_columns([0,1],[0,1])\n",
    "D4BN_xy=D4BN.matrix_from_rows_and_columns([0,1],[0,1])\n",
    "D4NB_xy=D4NB.matrix_from_rows_and_columns([0,1],[0,1])\n",
    "\n",
    "#D_xy=block_matrix([[D2BB_xy, D1BN_xy+D3BN_xy+D4BN_xy],[D1NB_xy+D3NB_xy+D4NB_xy, D2NN_xy]])\n",
    "D3ers_xy=block_matrix([[D2BB3ers_xy, D1BN_xy+D3BN_xy],[D1NB_xy+D3NB_xy, D2NN3ers_xy]])\n",
    "\n",
    "D4ts_xy=block_matrix([[D2BB4ts_xy, D1BN_xy+D3BN_xy+D4BN_xy],[D1NB_xy+D3NB_xy+D4NB_xy, D2NN4ts_xy]])"
   ]
  },
  {
   "cell_type": "markdown",
   "id": "editorial-cream",
   "metadata": {},
   "source": [
    "### Considerem sols fins als 3ers veïns"
   ]
  },
  {
   "cell_type": "markdown",
   "id": "increased-salem",
   "metadata": {},
   "source": [
    "#### Al punt $\\Gamma$\n",
    "\n",
    "Fins 3ers veïns\n",
    "\n",
    "Al punt $\\Gamma$ obtinc 2 valors propis, de multiplicitat $2$ cadascun:"
   ]
  },
  {
   "cell_type": "code",
   "execution_count": 38,
   "id": "amino-heaven",
   "metadata": {
    "tags": [
     "hide-input",
     "hide-output"
    ]
   },
   "outputs": [
    {
     "data": {
      "text/html": [
       "<html><script type=\"math/tex; mode=display\">\\newcommand{\\Bold}[1]{\\mathbf{#1}}\\left[-\\frac{3 \\, {\\left({\\phi_{1,r}^{BN}} + {\\phi_{1,ti}^{BN}} + {\\phi_{3,r}^{BN}} + {\\phi_{3,ti}^{BN}}\\right)}}{\\sqrt{M_{B} M_{N}}}, 0\\right]</script></html>"
      ],
      "text/latex": [
       "\\begin{math}\n",
       "\\newcommand{\\Bold}[1]{\\mathbf{#1}}\\left[-\\frac{3 \\, {\\left({\\phi_{1,r}^{BN}} + {\\phi_{1,ti}^{BN}} + {\\phi_{3,r}^{BN}} + {\\phi_{3,ti}^{BN}}\\right)}}{\\sqrt{M_{B} M_{N}}}, 0\\right]\n",
       "\\end{math}"
      ],
      "text/plain": [
       "[-3*(phi1rBN + phi1tiBN + phi3rBN + phi3tiBN)/sqrt(M_B*M_N), 0]"
      ]
     },
     "metadata": {},
     "output_type": "display_data"
    }
   ],
   "source": [
    "omega_Gamma_TO=1394\n",
    "D_Gamma3ers_xy=D3ers_xy.subs(q_x=0,q_y=0)\n",
    "show([D_Gamma3ers_xy.eigenvalues()[0], D_Gamma3ers_xy.eigenvalues()[2]])"
   ]
  },
  {
   "cell_type": "markdown",
   "id": "noted-tower",
   "metadata": {},
   "source": [
    "De manera que obtenim les següents equacions:"
   ]
  },
  {
   "cell_type": "code",
   "execution_count": 39,
   "id": "level-netscape",
   "metadata": {
    "tags": [
     "hide-input"
    ]
   },
   "outputs": [
    {
     "data": {
      "text/html": [
       "<html><script type=\"math/tex; mode=display\">\\newcommand{\\Bold}[1]{\\mathbf{#1}}-\\frac{3 \\, {\\left({\\phi_{1,r}^{BN}} + {\\phi_{1,ti}^{BN}} + {\\phi_{3,r}^{BN}} + {\\phi_{3,ti}^{BN}}\\right)}}{\\sqrt{M_{B} M_{N}}} = {\\omega(\\Gamma)_{TO}}^{2}</script></html>"
      ],
      "text/latex": [
       "\\begin{math}\n",
       "\\newcommand{\\Bold}[1]{\\mathbf{#1}}-\\frac{3 \\, {\\left({\\phi_{1,r}^{BN}} + {\\phi_{1,ti}^{BN}} + {\\phi_{3,r}^{BN}} + {\\phi_{3,ti}^{BN}}\\right)}}{\\sqrt{M_{B} M_{N}}} = {\\omega(\\Gamma)_{TO}}^{2}\n",
       "\\end{math}"
      ],
      "text/plain": [
       "-3*(phi1rBN + phi1tiBN + phi3rBN + phi3tiBN)/sqrt(M_B*M_N) == omegaGammaTO^2"
      ]
     },
     "metadata": {},
     "output_type": "display_data"
    }
   ],
   "source": [
    "omega_Gamma_TO=1394\n",
    "Eq_Gamma_TO3ers=(D_Gamma3ers_xy.eigenvalues()[0]==omegaGammaTO**2)\n",
    "#show(Eq_Gamma_LA)\n",
    "show(Eq_Gamma_TO3ers)"
   ]
  },
  {
   "cell_type": "markdown",
   "id": "intensive-valve",
   "metadata": {},
   "source": [
    "```{note}\n",
    "Per als punts $K$ i $M$, sagemath (mitjançant [maxima](https://maxima.sourceforge.io/)) no obté una expressió analítica però si supossem que els 2 àtoms de la base tenen la mateixa massa  ($M_N=M_B$) podem obtindre fàcilment els valors propis de la matriu original realitzant les substitucions pertinents als resultats obtessos\n",
    "```"
   ]
  },
  {
   "cell_type": "markdown",
   "id": "backed-plant",
   "metadata": {},
   "source": [
    "### Al punt $M$\n",
    "En ($q_x=\\pi/a,q_y=\\pi/(\\sqrt{3} a$)"
   ]
  },
  {
   "cell_type": "code",
   "execution_count": 40,
   "id": "agricultural-sampling",
   "metadata": {
    "tags": [
     "hide-input",
     "hide-output"
    ]
   },
   "outputs": [
    {
     "data": {
      "text/html": [
       "<html><script type=\"math/tex; mode=display\">\\newcommand{\\Bold}[1]{\\mathbf{#1}}-\\frac{1}{2} \\, \\sqrt{\\frac{9 \\, {\\phi_{1,r}^{BN}}^{2}}{M_{B} M_{N}} - \\frac{6 \\, {\\phi_{1,r}^{BN}} {\\phi_{1,ti}^{BN}}}{M_{B} M_{N}} + \\frac{{\\phi_{1,ti}^{BN}}^{2}}{M_{B} M_{N}} + \\frac{4 \\, {\\phi_{2,r}^{BB}}^{2}}{M_{B}^{2}} - \\frac{8 \\, {\\phi_{2,r}^{BB}} {\\phi_{2,r}^{NN}}}{M_{B} M_{N}} + \\frac{4 \\, {\\phi_{2,r}^{NN}}^{2}}{M_{N}^{2}} + \\frac{24 \\, {\\phi_{2,r}^{BB}} {\\phi_{2,ti}^{BB}}}{M_{B}^{2}} - \\frac{24 \\, {\\phi_{2,r}^{NN}} {\\phi_{2,ti}^{BB}}}{M_{B} M_{N}} + \\frac{36 \\, {\\phi_{2,ti}^{BB}}^{2}}{M_{B}^{2}} - \\frac{24 \\, {\\phi_{2,r}^{BB}} {\\phi_{2,ti}^{NN}}}{M_{B} M_{N}} + \\frac{24 \\, {\\phi_{2,r}^{NN}} {\\phi_{2,ti}^{NN}}}{M_{N}^{2}} - \\frac{72 \\, {\\phi_{2,ti}^{BB}} {\\phi_{2,ti}^{NN}}}{M_{B} M_{N}} + \\frac{36 \\, {\\phi_{2,ti}^{NN}}^{2}}{M_{N}^{2}} - \\frac{18 \\, {\\phi_{1,r}^{BN}} {\\phi_{3,r}^{BN}}}{M_{B} M_{N}} + \\frac{6 \\, {\\phi_{1,ti}^{BN}} {\\phi_{3,r}^{BN}}}{M_{B} M_{N}} + \\frac{9 \\, {\\phi_{3,r}^{BN}}^{2}}{M_{B} M_{N}} - \\frac{18 \\, {\\phi_{1,r}^{BN}} {\\phi_{3,ti}^{BN}}}{M_{B} M_{N}} + \\frac{6 \\, {\\phi_{1,ti}^{BN}} {\\phi_{3,ti}^{BN}}}{M_{B} M_{N}} + \\frac{18 \\, {\\phi_{3,r}^{BN}} {\\phi_{3,ti}^{BN}}}{M_{B} M_{N}} + \\frac{9 \\, {\\phi_{3,ti}^{BN}}^{2}}{M_{B} M_{N}}} - \\frac{3 \\, {\\phi_{1,r}^{BN}}}{2 \\, \\sqrt{M_{B}} \\sqrt{M_{N}}} - \\frac{3 \\, {\\phi_{1,ti}^{BN}}}{2 \\, \\sqrt{M_{B}} \\sqrt{M_{N}}} - \\frac{{\\phi_{2,r}^{BB}}}{M_{B}} - \\frac{{\\phi_{2,r}^{NN}}}{M_{N}} - \\frac{3 \\, {\\phi_{2,ti}^{BB}}}{M_{B}} - \\frac{3 \\, {\\phi_{2,ti}^{NN}}}{M_{N}} - \\frac{3 \\, {\\phi_{3,r}^{BN}}}{2 \\, \\sqrt{M_{B}} \\sqrt{M_{N}}} - \\frac{3 \\, {\\phi_{3,ti}^{BN}}}{2 \\, \\sqrt{M_{B}} \\sqrt{M_{N}}}</script></html>"
      ],
      "text/latex": [
       "\\begin{math}\n",
       "\\newcommand{\\Bold}[1]{\\mathbf{#1}}-\\frac{1}{2} \\, \\sqrt{\\frac{9 \\, {\\phi_{1,r}^{BN}}^{2}}{M_{B} M_{N}} - \\frac{6 \\, {\\phi_{1,r}^{BN}} {\\phi_{1,ti}^{BN}}}{M_{B} M_{N}} + \\frac{{\\phi_{1,ti}^{BN}}^{2}}{M_{B} M_{N}} + \\frac{4 \\, {\\phi_{2,r}^{BB}}^{2}}{M_{B}^{2}} - \\frac{8 \\, {\\phi_{2,r}^{BB}} {\\phi_{2,r}^{NN}}}{M_{B} M_{N}} + \\frac{4 \\, {\\phi_{2,r}^{NN}}^{2}}{M_{N}^{2}} + \\frac{24 \\, {\\phi_{2,r}^{BB}} {\\phi_{2,ti}^{BB}}}{M_{B}^{2}} - \\frac{24 \\, {\\phi_{2,r}^{NN}} {\\phi_{2,ti}^{BB}}}{M_{B} M_{N}} + \\frac{36 \\, {\\phi_{2,ti}^{BB}}^{2}}{M_{B}^{2}} - \\frac{24 \\, {\\phi_{2,r}^{BB}} {\\phi_{2,ti}^{NN}}}{M_{B} M_{N}} + \\frac{24 \\, {\\phi_{2,r}^{NN}} {\\phi_{2,ti}^{NN}}}{M_{N}^{2}} - \\frac{72 \\, {\\phi_{2,ti}^{BB}} {\\phi_{2,ti}^{NN}}}{M_{B} M_{N}} + \\frac{36 \\, {\\phi_{2,ti}^{NN}}^{2}}{M_{N}^{2}} - \\frac{18 \\, {\\phi_{1,r}^{BN}} {\\phi_{3,r}^{BN}}}{M_{B} M_{N}} + \\frac{6 \\, {\\phi_{1,ti}^{BN}} {\\phi_{3,r}^{BN}}}{M_{B} M_{N}} + \\frac{9 \\, {\\phi_{3,r}^{BN}}^{2}}{M_{B} M_{N}} - \\frac{18 \\, {\\phi_{1,r}^{BN}} {\\phi_{3,ti}^{BN}}}{M_{B} M_{N}} + \\frac{6 \\, {\\phi_{1,ti}^{BN}} {\\phi_{3,ti}^{BN}}}{M_{B} M_{N}} + \\frac{18 \\, {\\phi_{3,r}^{BN}} {\\phi_{3,ti}^{BN}}}{M_{B} M_{N}} + \\frac{9 \\, {\\phi_{3,ti}^{BN}}^{2}}{M_{B} M_{N}}} - \\frac{3 \\, {\\phi_{1,r}^{BN}}}{2 \\, \\sqrt{M_{B}} \\sqrt{M_{N}}} - \\frac{3 \\, {\\phi_{1,ti}^{BN}}}{2 \\, \\sqrt{M_{B}} \\sqrt{M_{N}}} - \\frac{{\\phi_{2,r}^{BB}}}{M_{B}} - \\frac{{\\phi_{2,r}^{NN}}}{M_{N}} - \\frac{3 \\, {\\phi_{2,ti}^{BB}}}{M_{B}} - \\frac{3 \\, {\\phi_{2,ti}^{NN}}}{M_{N}} - \\frac{3 \\, {\\phi_{3,r}^{BN}}}{2 \\, \\sqrt{M_{B}} \\sqrt{M_{N}}} - \\frac{3 \\, {\\phi_{3,ti}^{BN}}}{2 \\, \\sqrt{M_{B}} \\sqrt{M_{N}}}\n",
       "\\end{math}"
      ],
      "text/plain": [
       "-1/2*sqrt(9*phi1rBN^2/(M_B*M_N) - 6*phi1rBN*phi1tiBN/(M_B*M_N) + phi1tiBN^2/(M_B*M_N) + 4*phi2rBB^2/M_B^2 - 8*phi2rBB*phi2rNN/(M_B*M_N) + 4*phi2rNN^2/M_N^2 + 24*phi2rBB*phi2tiBB/M_B^2 - 24*phi2rNN*phi2tiBB/(M_B*M_N) + 36*phi2tiBB^2/M_B^2 - 24*phi2rBB*phi2tiNN/(M_B*M_N) + 24*phi2rNN*phi2tiNN/M_N^2 - 72*phi2tiBB*phi2tiNN/(M_B*M_N) + 36*phi2tiNN^2/M_N^2 - 18*phi1rBN*phi3rBN/(M_B*M_N) + 6*phi1tiBN*phi3rBN/(M_B*M_N) + 9*phi3rBN^2/(M_B*M_N) - 18*phi1rBN*phi3tiBN/(M_B*M_N) + 6*phi1tiBN*phi3tiBN/(M_B*M_N) + 18*phi3rBN*phi3tiBN/(M_B*M_N) + 9*phi3tiBN^2/(M_B*M_N)) - 3/2*phi1rBN/(sqrt(M_B)*sqrt(M_N)) - 3/2*phi1tiBN/(sqrt(M_B)*sqrt(M_N)) - phi2rBB/M_B - phi2rNN/M_N - 3*phi2tiBB/M_B - 3*phi2tiNN/M_N - 3/2*phi3rBN/(sqrt(M_B)*sqrt(M_N)) - 3/2*phi3tiBN/(sqrt(M_B)*sqrt(M_N))"
      ]
     },
     "metadata": {},
     "output_type": "display_data"
    },
    {
     "data": {
      "text/html": [
       "<html><script type=\"math/tex; mode=display\">\\newcommand{\\Bold}[1]{\\mathbf{#1}}\\frac{1}{2} \\, \\sqrt{\\frac{9 \\, {\\phi_{1,r}^{BN}}^{2}}{M_{B} M_{N}} - \\frac{6 \\, {\\phi_{1,r}^{BN}} {\\phi_{1,ti}^{BN}}}{M_{B} M_{N}} + \\frac{{\\phi_{1,ti}^{BN}}^{2}}{M_{B} M_{N}} + \\frac{4 \\, {\\phi_{2,r}^{BB}}^{2}}{M_{B}^{2}} - \\frac{8 \\, {\\phi_{2,r}^{BB}} {\\phi_{2,r}^{NN}}}{M_{B} M_{N}} + \\frac{4 \\, {\\phi_{2,r}^{NN}}^{2}}{M_{N}^{2}} + \\frac{24 \\, {\\phi_{2,r}^{BB}} {\\phi_{2,ti}^{BB}}}{M_{B}^{2}} - \\frac{24 \\, {\\phi_{2,r}^{NN}} {\\phi_{2,ti}^{BB}}}{M_{B} M_{N}} + \\frac{36 \\, {\\phi_{2,ti}^{BB}}^{2}}{M_{B}^{2}} - \\frac{24 \\, {\\phi_{2,r}^{BB}} {\\phi_{2,ti}^{NN}}}{M_{B} M_{N}} + \\frac{24 \\, {\\phi_{2,r}^{NN}} {\\phi_{2,ti}^{NN}}}{M_{N}^{2}} - \\frac{72 \\, {\\phi_{2,ti}^{BB}} {\\phi_{2,ti}^{NN}}}{M_{B} M_{N}} + \\frac{36 \\, {\\phi_{2,ti}^{NN}}^{2}}{M_{N}^{2}} - \\frac{18 \\, {\\phi_{1,r}^{BN}} {\\phi_{3,r}^{BN}}}{M_{B} M_{N}} + \\frac{6 \\, {\\phi_{1,ti}^{BN}} {\\phi_{3,r}^{BN}}}{M_{B} M_{N}} + \\frac{9 \\, {\\phi_{3,r}^{BN}}^{2}}{M_{B} M_{N}} - \\frac{18 \\, {\\phi_{1,r}^{BN}} {\\phi_{3,ti}^{BN}}}{M_{B} M_{N}} + \\frac{6 \\, {\\phi_{1,ti}^{BN}} {\\phi_{3,ti}^{BN}}}{M_{B} M_{N}} + \\frac{18 \\, {\\phi_{3,r}^{BN}} {\\phi_{3,ti}^{BN}}}{M_{B} M_{N}} + \\frac{9 \\, {\\phi_{3,ti}^{BN}}^{2}}{M_{B} M_{N}}} - \\frac{3 \\, {\\phi_{1,r}^{BN}}}{2 \\, \\sqrt{M_{B}} \\sqrt{M_{N}}} - \\frac{3 \\, {\\phi_{1,ti}^{BN}}}{2 \\, \\sqrt{M_{B}} \\sqrt{M_{N}}} - \\frac{{\\phi_{2,r}^{BB}}}{M_{B}} - \\frac{{\\phi_{2,r}^{NN}}}{M_{N}} - \\frac{3 \\, {\\phi_{2,ti}^{BB}}}{M_{B}} - \\frac{3 \\, {\\phi_{2,ti}^{NN}}}{M_{N}} - \\frac{3 \\, {\\phi_{3,r}^{BN}}}{2 \\, \\sqrt{M_{B}} \\sqrt{M_{N}}} - \\frac{3 \\, {\\phi_{3,ti}^{BN}}}{2 \\, \\sqrt{M_{B}} \\sqrt{M_{N}}}</script></html>"
      ],
      "text/latex": [
       "\\begin{math}\n",
       "\\newcommand{\\Bold}[1]{\\mathbf{#1}}\\frac{1}{2} \\, \\sqrt{\\frac{9 \\, {\\phi_{1,r}^{BN}}^{2}}{M_{B} M_{N}} - \\frac{6 \\, {\\phi_{1,r}^{BN}} {\\phi_{1,ti}^{BN}}}{M_{B} M_{N}} + \\frac{{\\phi_{1,ti}^{BN}}^{2}}{M_{B} M_{N}} + \\frac{4 \\, {\\phi_{2,r}^{BB}}^{2}}{M_{B}^{2}} - \\frac{8 \\, {\\phi_{2,r}^{BB}} {\\phi_{2,r}^{NN}}}{M_{B} M_{N}} + \\frac{4 \\, {\\phi_{2,r}^{NN}}^{2}}{M_{N}^{2}} + \\frac{24 \\, {\\phi_{2,r}^{BB}} {\\phi_{2,ti}^{BB}}}{M_{B}^{2}} - \\frac{24 \\, {\\phi_{2,r}^{NN}} {\\phi_{2,ti}^{BB}}}{M_{B} M_{N}} + \\frac{36 \\, {\\phi_{2,ti}^{BB}}^{2}}{M_{B}^{2}} - \\frac{24 \\, {\\phi_{2,r}^{BB}} {\\phi_{2,ti}^{NN}}}{M_{B} M_{N}} + \\frac{24 \\, {\\phi_{2,r}^{NN}} {\\phi_{2,ti}^{NN}}}{M_{N}^{2}} - \\frac{72 \\, {\\phi_{2,ti}^{BB}} {\\phi_{2,ti}^{NN}}}{M_{B} M_{N}} + \\frac{36 \\, {\\phi_{2,ti}^{NN}}^{2}}{M_{N}^{2}} - \\frac{18 \\, {\\phi_{1,r}^{BN}} {\\phi_{3,r}^{BN}}}{M_{B} M_{N}} + \\frac{6 \\, {\\phi_{1,ti}^{BN}} {\\phi_{3,r}^{BN}}}{M_{B} M_{N}} + \\frac{9 \\, {\\phi_{3,r}^{BN}}^{2}}{M_{B} M_{N}} - \\frac{18 \\, {\\phi_{1,r}^{BN}} {\\phi_{3,ti}^{BN}}}{M_{B} M_{N}} + \\frac{6 \\, {\\phi_{1,ti}^{BN}} {\\phi_{3,ti}^{BN}}}{M_{B} M_{N}} + \\frac{18 \\, {\\phi_{3,r}^{BN}} {\\phi_{3,ti}^{BN}}}{M_{B} M_{N}} + \\frac{9 \\, {\\phi_{3,ti}^{BN}}^{2}}{M_{B} M_{N}}} - \\frac{3 \\, {\\phi_{1,r}^{BN}}}{2 \\, \\sqrt{M_{B}} \\sqrt{M_{N}}} - \\frac{3 \\, {\\phi_{1,ti}^{BN}}}{2 \\, \\sqrt{M_{B}} \\sqrt{M_{N}}} - \\frac{{\\phi_{2,r}^{BB}}}{M_{B}} - \\frac{{\\phi_{2,r}^{NN}}}{M_{N}} - \\frac{3 \\, {\\phi_{2,ti}^{BB}}}{M_{B}} - \\frac{3 \\, {\\phi_{2,ti}^{NN}}}{M_{N}} - \\frac{3 \\, {\\phi_{3,r}^{BN}}}{2 \\, \\sqrt{M_{B}} \\sqrt{M_{N}}} - \\frac{3 \\, {\\phi_{3,ti}^{BN}}}{2 \\, \\sqrt{M_{B}} \\sqrt{M_{N}}}\n",
       "\\end{math}"
      ],
      "text/plain": [
       "1/2*sqrt(9*phi1rBN^2/(M_B*M_N) - 6*phi1rBN*phi1tiBN/(M_B*M_N) + phi1tiBN^2/(M_B*M_N) + 4*phi2rBB^2/M_B^2 - 8*phi2rBB*phi2rNN/(M_B*M_N) + 4*phi2rNN^2/M_N^2 + 24*phi2rBB*phi2tiBB/M_B^2 - 24*phi2rNN*phi2tiBB/(M_B*M_N) + 36*phi2tiBB^2/M_B^2 - 24*phi2rBB*phi2tiNN/(M_B*M_N) + 24*phi2rNN*phi2tiNN/M_N^2 - 72*phi2tiBB*phi2tiNN/(M_B*M_N) + 36*phi2tiNN^2/M_N^2 - 18*phi1rBN*phi3rBN/(M_B*M_N) + 6*phi1tiBN*phi3rBN/(M_B*M_N) + 9*phi3rBN^2/(M_B*M_N) - 18*phi1rBN*phi3tiBN/(M_B*M_N) + 6*phi1tiBN*phi3tiBN/(M_B*M_N) + 18*phi3rBN*phi3tiBN/(M_B*M_N) + 9*phi3tiBN^2/(M_B*M_N)) - 3/2*phi1rBN/(sqrt(M_B)*sqrt(M_N)) - 3/2*phi1tiBN/(sqrt(M_B)*sqrt(M_N)) - phi2rBB/M_B - phi2rNN/M_N - 3*phi2tiBB/M_B - 3*phi2tiNN/M_N - 3/2*phi3rBN/(sqrt(M_B)*sqrt(M_N)) - 3/2*phi3tiBN/(sqrt(M_B)*sqrt(M_N))"
      ]
     },
     "metadata": {},
     "output_type": "display_data"
    },
    {
     "data": {
      "text/html": [
       "<html><script type=\"math/tex; mode=display\">\\newcommand{\\Bold}[1]{\\mathbf{#1}}-\\frac{1}{2} \\, \\sqrt{\\frac{{\\phi_{1,r}^{BN}}^{2}}{M_{B} M_{N}} - \\frac{6 \\, {\\phi_{1,r}^{BN}} {\\phi_{1,ti}^{BN}}}{M_{B} M_{N}} + \\frac{9 \\, {\\phi_{1,ti}^{BN}}^{2}}{M_{B} M_{N}} + \\frac{36 \\, {\\phi_{2,r}^{BB}}^{2}}{M_{B}^{2}} - \\frac{72 \\, {\\phi_{2,r}^{BB}} {\\phi_{2,r}^{NN}}}{M_{B} M_{N}} + \\frac{36 \\, {\\phi_{2,r}^{NN}}^{2}}{M_{N}^{2}} + \\frac{24 \\, {\\phi_{2,r}^{BB}} {\\phi_{2,ti}^{BB}}}{M_{B}^{2}} - \\frac{24 \\, {\\phi_{2,r}^{NN}} {\\phi_{2,ti}^{BB}}}{M_{B} M_{N}} + \\frac{4 \\, {\\phi_{2,ti}^{BB}}^{2}}{M_{B}^{2}} - \\frac{24 \\, {\\phi_{2,r}^{BB}} {\\phi_{2,ti}^{NN}}}{M_{B} M_{N}} + \\frac{24 \\, {\\phi_{2,r}^{NN}} {\\phi_{2,ti}^{NN}}}{M_{N}^{2}} - \\frac{8 \\, {\\phi_{2,ti}^{BB}} {\\phi_{2,ti}^{NN}}}{M_{B} M_{N}} + \\frac{4 \\, {\\phi_{2,ti}^{NN}}^{2}}{M_{N}^{2}} + \\frac{6 \\, {\\phi_{1,r}^{BN}} {\\phi_{3,r}^{BN}}}{M_{B} M_{N}} - \\frac{18 \\, {\\phi_{1,ti}^{BN}} {\\phi_{3,r}^{BN}}}{M_{B} M_{N}} + \\frac{9 \\, {\\phi_{3,r}^{BN}}^{2}}{M_{B} M_{N}} + \\frac{6 \\, {\\phi_{1,r}^{BN}} {\\phi_{3,ti}^{BN}}}{M_{B} M_{N}} - \\frac{18 \\, {\\phi_{1,ti}^{BN}} {\\phi_{3,ti}^{BN}}}{M_{B} M_{N}} + \\frac{18 \\, {\\phi_{3,r}^{BN}} {\\phi_{3,ti}^{BN}}}{M_{B} M_{N}} + \\frac{9 \\, {\\phi_{3,ti}^{BN}}^{2}}{M_{B} M_{N}}} - \\frac{3 \\, {\\phi_{1,r}^{BN}}}{2 \\, \\sqrt{M_{B}} \\sqrt{M_{N}}} - \\frac{3 \\, {\\phi_{1,ti}^{BN}}}{2 \\, \\sqrt{M_{B}} \\sqrt{M_{N}}} - \\frac{3 \\, {\\phi_{2,r}^{BB}}}{M_{B}} - \\frac{3 \\, {\\phi_{2,r}^{NN}}}{M_{N}} - \\frac{{\\phi_{2,ti}^{BB}}}{M_{B}} - \\frac{{\\phi_{2,ti}^{NN}}}{M_{N}} - \\frac{3 \\, {\\phi_{3,r}^{BN}}}{2 \\, \\sqrt{M_{B}} \\sqrt{M_{N}}} - \\frac{3 \\, {\\phi_{3,ti}^{BN}}}{2 \\, \\sqrt{M_{B}} \\sqrt{M_{N}}}</script></html>"
      ],
      "text/latex": [
       "\\begin{math}\n",
       "\\newcommand{\\Bold}[1]{\\mathbf{#1}}-\\frac{1}{2} \\, \\sqrt{\\frac{{\\phi_{1,r}^{BN}}^{2}}{M_{B} M_{N}} - \\frac{6 \\, {\\phi_{1,r}^{BN}} {\\phi_{1,ti}^{BN}}}{M_{B} M_{N}} + \\frac{9 \\, {\\phi_{1,ti}^{BN}}^{2}}{M_{B} M_{N}} + \\frac{36 \\, {\\phi_{2,r}^{BB}}^{2}}{M_{B}^{2}} - \\frac{72 \\, {\\phi_{2,r}^{BB}} {\\phi_{2,r}^{NN}}}{M_{B} M_{N}} + \\frac{36 \\, {\\phi_{2,r}^{NN}}^{2}}{M_{N}^{2}} + \\frac{24 \\, {\\phi_{2,r}^{BB}} {\\phi_{2,ti}^{BB}}}{M_{B}^{2}} - \\frac{24 \\, {\\phi_{2,r}^{NN}} {\\phi_{2,ti}^{BB}}}{M_{B} M_{N}} + \\frac{4 \\, {\\phi_{2,ti}^{BB}}^{2}}{M_{B}^{2}} - \\frac{24 \\, {\\phi_{2,r}^{BB}} {\\phi_{2,ti}^{NN}}}{M_{B} M_{N}} + \\frac{24 \\, {\\phi_{2,r}^{NN}} {\\phi_{2,ti}^{NN}}}{M_{N}^{2}} - \\frac{8 \\, {\\phi_{2,ti}^{BB}} {\\phi_{2,ti}^{NN}}}{M_{B} M_{N}} + \\frac{4 \\, {\\phi_{2,ti}^{NN}}^{2}}{M_{N}^{2}} + \\frac{6 \\, {\\phi_{1,r}^{BN}} {\\phi_{3,r}^{BN}}}{M_{B} M_{N}} - \\frac{18 \\, {\\phi_{1,ti}^{BN}} {\\phi_{3,r}^{BN}}}{M_{B} M_{N}} + \\frac{9 \\, {\\phi_{3,r}^{BN}}^{2}}{M_{B} M_{N}} + \\frac{6 \\, {\\phi_{1,r}^{BN}} {\\phi_{3,ti}^{BN}}}{M_{B} M_{N}} - \\frac{18 \\, {\\phi_{1,ti}^{BN}} {\\phi_{3,ti}^{BN}}}{M_{B} M_{N}} + \\frac{18 \\, {\\phi_{3,r}^{BN}} {\\phi_{3,ti}^{BN}}}{M_{B} M_{N}} + \\frac{9 \\, {\\phi_{3,ti}^{BN}}^{2}}{M_{B} M_{N}}} - \\frac{3 \\, {\\phi_{1,r}^{BN}}}{2 \\, \\sqrt{M_{B}} \\sqrt{M_{N}}} - \\frac{3 \\, {\\phi_{1,ti}^{BN}}}{2 \\, \\sqrt{M_{B}} \\sqrt{M_{N}}} - \\frac{3 \\, {\\phi_{2,r}^{BB}}}{M_{B}} - \\frac{3 \\, {\\phi_{2,r}^{NN}}}{M_{N}} - \\frac{{\\phi_{2,ti}^{BB}}}{M_{B}} - \\frac{{\\phi_{2,ti}^{NN}}}{M_{N}} - \\frac{3 \\, {\\phi_{3,r}^{BN}}}{2 \\, \\sqrt{M_{B}} \\sqrt{M_{N}}} - \\frac{3 \\, {\\phi_{3,ti}^{BN}}}{2 \\, \\sqrt{M_{B}} \\sqrt{M_{N}}}\n",
       "\\end{math}"
      ],
      "text/plain": [
       "-1/2*sqrt(phi1rBN^2/(M_B*M_N) - 6*phi1rBN*phi1tiBN/(M_B*M_N) + 9*phi1tiBN^2/(M_B*M_N) + 36*phi2rBB^2/M_B^2 - 72*phi2rBB*phi2rNN/(M_B*M_N) + 36*phi2rNN^2/M_N^2 + 24*phi2rBB*phi2tiBB/M_B^2 - 24*phi2rNN*phi2tiBB/(M_B*M_N) + 4*phi2tiBB^2/M_B^2 - 24*phi2rBB*phi2tiNN/(M_B*M_N) + 24*phi2rNN*phi2tiNN/M_N^2 - 8*phi2tiBB*phi2tiNN/(M_B*M_N) + 4*phi2tiNN^2/M_N^2 + 6*phi1rBN*phi3rBN/(M_B*M_N) - 18*phi1tiBN*phi3rBN/(M_B*M_N) + 9*phi3rBN^2/(M_B*M_N) + 6*phi1rBN*phi3tiBN/(M_B*M_N) - 18*phi1tiBN*phi3tiBN/(M_B*M_N) + 18*phi3rBN*phi3tiBN/(M_B*M_N) + 9*phi3tiBN^2/(M_B*M_N)) - 3/2*phi1rBN/(sqrt(M_B)*sqrt(M_N)) - 3/2*phi1tiBN/(sqrt(M_B)*sqrt(M_N)) - 3*phi2rBB/M_B - 3*phi2rNN/M_N - phi2tiBB/M_B - phi2tiNN/M_N - 3/2*phi3rBN/(sqrt(M_B)*sqrt(M_N)) - 3/2*phi3tiBN/(sqrt(M_B)*sqrt(M_N))"
      ]
     },
     "metadata": {},
     "output_type": "display_data"
    },
    {
     "data": {
      "text/html": [
       "<html><script type=\"math/tex; mode=display\">\\newcommand{\\Bold}[1]{\\mathbf{#1}}\\frac{1}{2} \\, \\sqrt{\\frac{{\\phi_{1,r}^{BN}}^{2}}{M_{B} M_{N}} - \\frac{6 \\, {\\phi_{1,r}^{BN}} {\\phi_{1,ti}^{BN}}}{M_{B} M_{N}} + \\frac{9 \\, {\\phi_{1,ti}^{BN}}^{2}}{M_{B} M_{N}} + \\frac{36 \\, {\\phi_{2,r}^{BB}}^{2}}{M_{B}^{2}} - \\frac{72 \\, {\\phi_{2,r}^{BB}} {\\phi_{2,r}^{NN}}}{M_{B} M_{N}} + \\frac{36 \\, {\\phi_{2,r}^{NN}}^{2}}{M_{N}^{2}} + \\frac{24 \\, {\\phi_{2,r}^{BB}} {\\phi_{2,ti}^{BB}}}{M_{B}^{2}} - \\frac{24 \\, {\\phi_{2,r}^{NN}} {\\phi_{2,ti}^{BB}}}{M_{B} M_{N}} + \\frac{4 \\, {\\phi_{2,ti}^{BB}}^{2}}{M_{B}^{2}} - \\frac{24 \\, {\\phi_{2,r}^{BB}} {\\phi_{2,ti}^{NN}}}{M_{B} M_{N}} + \\frac{24 \\, {\\phi_{2,r}^{NN}} {\\phi_{2,ti}^{NN}}}{M_{N}^{2}} - \\frac{8 \\, {\\phi_{2,ti}^{BB}} {\\phi_{2,ti}^{NN}}}{M_{B} M_{N}} + \\frac{4 \\, {\\phi_{2,ti}^{NN}}^{2}}{M_{N}^{2}} + \\frac{6 \\, {\\phi_{1,r}^{BN}} {\\phi_{3,r}^{BN}}}{M_{B} M_{N}} - \\frac{18 \\, {\\phi_{1,ti}^{BN}} {\\phi_{3,r}^{BN}}}{M_{B} M_{N}} + \\frac{9 \\, {\\phi_{3,r}^{BN}}^{2}}{M_{B} M_{N}} + \\frac{6 \\, {\\phi_{1,r}^{BN}} {\\phi_{3,ti}^{BN}}}{M_{B} M_{N}} - \\frac{18 \\, {\\phi_{1,ti}^{BN}} {\\phi_{3,ti}^{BN}}}{M_{B} M_{N}} + \\frac{18 \\, {\\phi_{3,r}^{BN}} {\\phi_{3,ti}^{BN}}}{M_{B} M_{N}} + \\frac{9 \\, {\\phi_{3,ti}^{BN}}^{2}}{M_{B} M_{N}}} - \\frac{3 \\, {\\phi_{1,r}^{BN}}}{2 \\, \\sqrt{M_{B}} \\sqrt{M_{N}}} - \\frac{3 \\, {\\phi_{1,ti}^{BN}}}{2 \\, \\sqrt{M_{B}} \\sqrt{M_{N}}} - \\frac{3 \\, {\\phi_{2,r}^{BB}}}{M_{B}} - \\frac{3 \\, {\\phi_{2,r}^{NN}}}{M_{N}} - \\frac{{\\phi_{2,ti}^{BB}}}{M_{B}} - \\frac{{\\phi_{2,ti}^{NN}}}{M_{N}} - \\frac{3 \\, {\\phi_{3,r}^{BN}}}{2 \\, \\sqrt{M_{B}} \\sqrt{M_{N}}} - \\frac{3 \\, {\\phi_{3,ti}^{BN}}}{2 \\, \\sqrt{M_{B}} \\sqrt{M_{N}}}</script></html>"
      ],
      "text/latex": [
       "\\begin{math}\n",
       "\\newcommand{\\Bold}[1]{\\mathbf{#1}}\\frac{1}{2} \\, \\sqrt{\\frac{{\\phi_{1,r}^{BN}}^{2}}{M_{B} M_{N}} - \\frac{6 \\, {\\phi_{1,r}^{BN}} {\\phi_{1,ti}^{BN}}}{M_{B} M_{N}} + \\frac{9 \\, {\\phi_{1,ti}^{BN}}^{2}}{M_{B} M_{N}} + \\frac{36 \\, {\\phi_{2,r}^{BB}}^{2}}{M_{B}^{2}} - \\frac{72 \\, {\\phi_{2,r}^{BB}} {\\phi_{2,r}^{NN}}}{M_{B} M_{N}} + \\frac{36 \\, {\\phi_{2,r}^{NN}}^{2}}{M_{N}^{2}} + \\frac{24 \\, {\\phi_{2,r}^{BB}} {\\phi_{2,ti}^{BB}}}{M_{B}^{2}} - \\frac{24 \\, {\\phi_{2,r}^{NN}} {\\phi_{2,ti}^{BB}}}{M_{B} M_{N}} + \\frac{4 \\, {\\phi_{2,ti}^{BB}}^{2}}{M_{B}^{2}} - \\frac{24 \\, {\\phi_{2,r}^{BB}} {\\phi_{2,ti}^{NN}}}{M_{B} M_{N}} + \\frac{24 \\, {\\phi_{2,r}^{NN}} {\\phi_{2,ti}^{NN}}}{M_{N}^{2}} - \\frac{8 \\, {\\phi_{2,ti}^{BB}} {\\phi_{2,ti}^{NN}}}{M_{B} M_{N}} + \\frac{4 \\, {\\phi_{2,ti}^{NN}}^{2}}{M_{N}^{2}} + \\frac{6 \\, {\\phi_{1,r}^{BN}} {\\phi_{3,r}^{BN}}}{M_{B} M_{N}} - \\frac{18 \\, {\\phi_{1,ti}^{BN}} {\\phi_{3,r}^{BN}}}{M_{B} M_{N}} + \\frac{9 \\, {\\phi_{3,r}^{BN}}^{2}}{M_{B} M_{N}} + \\frac{6 \\, {\\phi_{1,r}^{BN}} {\\phi_{3,ti}^{BN}}}{M_{B} M_{N}} - \\frac{18 \\, {\\phi_{1,ti}^{BN}} {\\phi_{3,ti}^{BN}}}{M_{B} M_{N}} + \\frac{18 \\, {\\phi_{3,r}^{BN}} {\\phi_{3,ti}^{BN}}}{M_{B} M_{N}} + \\frac{9 \\, {\\phi_{3,ti}^{BN}}^{2}}{M_{B} M_{N}}} - \\frac{3 \\, {\\phi_{1,r}^{BN}}}{2 \\, \\sqrt{M_{B}} \\sqrt{M_{N}}} - \\frac{3 \\, {\\phi_{1,ti}^{BN}}}{2 \\, \\sqrt{M_{B}} \\sqrt{M_{N}}} - \\frac{3 \\, {\\phi_{2,r}^{BB}}}{M_{B}} - \\frac{3 \\, {\\phi_{2,r}^{NN}}}{M_{N}} - \\frac{{\\phi_{2,ti}^{BB}}}{M_{B}} - \\frac{{\\phi_{2,ti}^{NN}}}{M_{N}} - \\frac{3 \\, {\\phi_{3,r}^{BN}}}{2 \\, \\sqrt{M_{B}} \\sqrt{M_{N}}} - \\frac{3 \\, {\\phi_{3,ti}^{BN}}}{2 \\, \\sqrt{M_{B}} \\sqrt{M_{N}}}\n",
       "\\end{math}"
      ],
      "text/plain": [
       "1/2*sqrt(phi1rBN^2/(M_B*M_N) - 6*phi1rBN*phi1tiBN/(M_B*M_N) + 9*phi1tiBN^2/(M_B*M_N) + 36*phi2rBB^2/M_B^2 - 72*phi2rBB*phi2rNN/(M_B*M_N) + 36*phi2rNN^2/M_N^2 + 24*phi2rBB*phi2tiBB/M_B^2 - 24*phi2rNN*phi2tiBB/(M_B*M_N) + 4*phi2tiBB^2/M_B^2 - 24*phi2rBB*phi2tiNN/(M_B*M_N) + 24*phi2rNN*phi2tiNN/M_N^2 - 8*phi2tiBB*phi2tiNN/(M_B*M_N) + 4*phi2tiNN^2/M_N^2 + 6*phi1rBN*phi3rBN/(M_B*M_N) - 18*phi1tiBN*phi3rBN/(M_B*M_N) + 9*phi3rBN^2/(M_B*M_N) + 6*phi1rBN*phi3tiBN/(M_B*M_N) - 18*phi1tiBN*phi3tiBN/(M_B*M_N) + 18*phi3rBN*phi3tiBN/(M_B*M_N) + 9*phi3tiBN^2/(M_B*M_N)) - 3/2*phi1rBN/(sqrt(M_B)*sqrt(M_N)) - 3/2*phi1tiBN/(sqrt(M_B)*sqrt(M_N)) - 3*phi2rBB/M_B - 3*phi2rNN/M_N - phi2tiBB/M_B - phi2tiNN/M_N - 3/2*phi3rBN/(sqrt(M_B)*sqrt(M_N)) - 3/2*phi3tiBN/(sqrt(M_B)*sqrt(M_N))"
      ]
     },
     "metadata": {},
     "output_type": "display_data"
    }
   ],
   "source": [
    "D_M3ers_xy=D3ers_xy.subs(q_x=pi/a,q_y=pi/(sqrt(3)*a))\n",
    "\n",
    "D_M3ers_xy_simplificada=D_M3ers_xy.subs(M_N=M_B)\n",
    "\n",
    "Valors_propis_M3ers=D_M3ers_xy_simplificada.eigenvalues()\n",
    "\n",
    "Valors_propis_en_M3ers=[M_B*Valors_propis_M3ers[i].subs(\n",
    "    phi1rBN=phi1rBN/sqrt(M_N*M_B), phi1tiBN=phi1tiBN/sqrt(M_N*M_B), \n",
    "    phi2rBB=phi2rBB/M_B, phi2tiBB=phi2tiBB/M_B,\n",
    "    phi2rNN=phi2rNN/M_N, phi2tiNN=phi2tiNN/M_N,\n",
    "    phi3rBN=phi3rBN/sqrt(M_N*M_B), phi3tiBN=phi3tiBN/sqrt(M_N*M_B),) for i in range(4)]\n",
    "    #phi4rBN=phi4rBN/sqrt(M_N*M_B), phi4tiBN=phi4tiBN/sqrt(M_N*M_B)\n",
    "\n",
    "\n",
    "omega_M_LO=1320\n",
    "omega_M_TO=1292\n",
    "omega_M_LA=1173\n",
    "omega_M_TA=553\n",
    "#Comprobem que sí són els valors propis:\n",
    "[det(D_M3ers_xy-Valors_propis_en_M3ers[i]) for i in range(4)]\n",
    "\n",
    "\n",
    "for i in range(4):\n",
    "    show(Valors_propis_en_M3ers[i].expand())"
   ]
  },
  {
   "cell_type": "markdown",
   "id": "exact-telescope",
   "metadata": {},
   "source": [
    "Podem observar que els valors propis en M 0 i 1 (així com 2 i 3) difereixen en una arrel quadrada (negativa i per tant amb valor propi corresponent menor per a 0 i 2).\n",
    "Per una altra banda els termes de fora de l'arrel sols difereixen en 2 i 3 respecte els de 1 i 2 que els termes $\\phi_{2,r}$ ($BB$ i $NN$) van multiplicats pel factor 3 en el cas de $2$ i $3$ mentre que en $0$ i $1$ son els termes $\\phi_{2,ti}$ els que van multiplicats per 3.\n",
    "\n",
    "Supossant que les constants de força radials són més grans que les transversals per assignar cada valor propi a cada rama, puc concloure que els dos primers valors propis corresponen al menor i al major respectivament. Els 3 i 4ts don intermijos, essent el 4t major que el tercer, per tant"
   ]
  },
  {
   "cell_type": "code",
   "execution_count": 41,
   "id": "sunrise-accessory",
   "metadata": {
    "tags": [
     "hide-input"
    ]
   },
   "outputs": [
    {
     "data": {
      "text/html": [
       "<html><script type=\"math/tex; mode=display\">\\newcommand{\\Bold}[1]{\\mathbf{#1}}\\frac{1}{2} \\, \\sqrt{\\frac{9 \\, {\\phi_{1,r}^{BN}}^{2}}{M_{B} M_{N}} - \\frac{6 \\, {\\phi_{1,r}^{BN}} {\\phi_{1,ti}^{BN}}}{M_{B} M_{N}} + \\frac{{\\phi_{1,ti}^{BN}}^{2}}{M_{B} M_{N}} + \\frac{4 \\, {\\phi_{2,r}^{BB}}^{2}}{M_{B}^{2}} - \\frac{8 \\, {\\phi_{2,r}^{BB}} {\\phi_{2,r}^{NN}}}{M_{B} M_{N}} + \\frac{4 \\, {\\phi_{2,r}^{NN}}^{2}}{M_{N}^{2}} + \\frac{24 \\, {\\phi_{2,r}^{BB}} {\\phi_{2,ti}^{BB}}}{M_{B}^{2}} - \\frac{24 \\, {\\phi_{2,r}^{NN}} {\\phi_{2,ti}^{BB}}}{M_{B} M_{N}} + \\frac{36 \\, {\\phi_{2,ti}^{BB}}^{2}}{M_{B}^{2}} - \\frac{24 \\, {\\phi_{2,r}^{BB}} {\\phi_{2,ti}^{NN}}}{M_{B} M_{N}} + \\frac{24 \\, {\\phi_{2,r}^{NN}} {\\phi_{2,ti}^{NN}}}{M_{N}^{2}} - \\frac{72 \\, {\\phi_{2,ti}^{BB}} {\\phi_{2,ti}^{NN}}}{M_{B} M_{N}} + \\frac{36 \\, {\\phi_{2,ti}^{NN}}^{2}}{M_{N}^{2}} - \\frac{18 \\, {\\phi_{1,r}^{BN}} {\\phi_{3,r}^{BN}}}{M_{B} M_{N}} + \\frac{6 \\, {\\phi_{1,ti}^{BN}} {\\phi_{3,r}^{BN}}}{M_{B} M_{N}} + \\frac{9 \\, {\\phi_{3,r}^{BN}}^{2}}{M_{B} M_{N}} - \\frac{18 \\, {\\phi_{1,r}^{BN}} {\\phi_{3,ti}^{BN}}}{M_{B} M_{N}} + \\frac{6 \\, {\\phi_{1,ti}^{BN}} {\\phi_{3,ti}^{BN}}}{M_{B} M_{N}} + \\frac{18 \\, {\\phi_{3,r}^{BN}} {\\phi_{3,ti}^{BN}}}{M_{B} M_{N}} + \\frac{9 \\, {\\phi_{3,ti}^{BN}}^{2}}{M_{B} M_{N}}} - \\frac{3 \\, {\\phi_{1,r}^{BN}}}{2 \\, \\sqrt{M_{B}} \\sqrt{M_{N}}} - \\frac{3 \\, {\\phi_{1,ti}^{BN}}}{2 \\, \\sqrt{M_{B}} \\sqrt{M_{N}}} - \\frac{{\\phi_{2,r}^{BB}}}{M_{B}} - \\frac{{\\phi_{2,r}^{NN}}}{M_{N}} - \\frac{3 \\, {\\phi_{2,ti}^{BB}}}{M_{B}} - \\frac{3 \\, {\\phi_{2,ti}^{NN}}}{M_{N}} - \\frac{3 \\, {\\phi_{3,r}^{BN}}}{2 \\, \\sqrt{M_{B}} \\sqrt{M_{N}}} - \\frac{3 \\, {\\phi_{3,ti}^{BN}}}{2 \\, \\sqrt{M_{B}} \\sqrt{M_{N}}} = {\\omega(M)_{LO}}^{2}</script></html>"
      ],
      "text/latex": [
       "\\begin{math}\n",
       "\\newcommand{\\Bold}[1]{\\mathbf{#1}}\\frac{1}{2} \\, \\sqrt{\\frac{9 \\, {\\phi_{1,r}^{BN}}^{2}}{M_{B} M_{N}} - \\frac{6 \\, {\\phi_{1,r}^{BN}} {\\phi_{1,ti}^{BN}}}{M_{B} M_{N}} + \\frac{{\\phi_{1,ti}^{BN}}^{2}}{M_{B} M_{N}} + \\frac{4 \\, {\\phi_{2,r}^{BB}}^{2}}{M_{B}^{2}} - \\frac{8 \\, {\\phi_{2,r}^{BB}} {\\phi_{2,r}^{NN}}}{M_{B} M_{N}} + \\frac{4 \\, {\\phi_{2,r}^{NN}}^{2}}{M_{N}^{2}} + \\frac{24 \\, {\\phi_{2,r}^{BB}} {\\phi_{2,ti}^{BB}}}{M_{B}^{2}} - \\frac{24 \\, {\\phi_{2,r}^{NN}} {\\phi_{2,ti}^{BB}}}{M_{B} M_{N}} + \\frac{36 \\, {\\phi_{2,ti}^{BB}}^{2}}{M_{B}^{2}} - \\frac{24 \\, {\\phi_{2,r}^{BB}} {\\phi_{2,ti}^{NN}}}{M_{B} M_{N}} + \\frac{24 \\, {\\phi_{2,r}^{NN}} {\\phi_{2,ti}^{NN}}}{M_{N}^{2}} - \\frac{72 \\, {\\phi_{2,ti}^{BB}} {\\phi_{2,ti}^{NN}}}{M_{B} M_{N}} + \\frac{36 \\, {\\phi_{2,ti}^{NN}}^{2}}{M_{N}^{2}} - \\frac{18 \\, {\\phi_{1,r}^{BN}} {\\phi_{3,r}^{BN}}}{M_{B} M_{N}} + \\frac{6 \\, {\\phi_{1,ti}^{BN}} {\\phi_{3,r}^{BN}}}{M_{B} M_{N}} + \\frac{9 \\, {\\phi_{3,r}^{BN}}^{2}}{M_{B} M_{N}} - \\frac{18 \\, {\\phi_{1,r}^{BN}} {\\phi_{3,ti}^{BN}}}{M_{B} M_{N}} + \\frac{6 \\, {\\phi_{1,ti}^{BN}} {\\phi_{3,ti}^{BN}}}{M_{B} M_{N}} + \\frac{18 \\, {\\phi_{3,r}^{BN}} {\\phi_{3,ti}^{BN}}}{M_{B} M_{N}} + \\frac{9 \\, {\\phi_{3,ti}^{BN}}^{2}}{M_{B} M_{N}}} - \\frac{3 \\, {\\phi_{1,r}^{BN}}}{2 \\, \\sqrt{M_{B}} \\sqrt{M_{N}}} - \\frac{3 \\, {\\phi_{1,ti}^{BN}}}{2 \\, \\sqrt{M_{B}} \\sqrt{M_{N}}} - \\frac{{\\phi_{2,r}^{BB}}}{M_{B}} - \\frac{{\\phi_{2,r}^{NN}}}{M_{N}} - \\frac{3 \\, {\\phi_{2,ti}^{BB}}}{M_{B}} - \\frac{3 \\, {\\phi_{2,ti}^{NN}}}{M_{N}} - \\frac{3 \\, {\\phi_{3,r}^{BN}}}{2 \\, \\sqrt{M_{B}} \\sqrt{M_{N}}} - \\frac{3 \\, {\\phi_{3,ti}^{BN}}}{2 \\, \\sqrt{M_{B}} \\sqrt{M_{N}}} = {\\omega(M)_{LO}}^{2}\n",
       "\\end{math}"
      ],
      "text/plain": [
       "1/2*sqrt(9*phi1rBN^2/(M_B*M_N) - 6*phi1rBN*phi1tiBN/(M_B*M_N) + phi1tiBN^2/(M_B*M_N) + 4*phi2rBB^2/M_B^2 - 8*phi2rBB*phi2rNN/(M_B*M_N) + 4*phi2rNN^2/M_N^2 + 24*phi2rBB*phi2tiBB/M_B^2 - 24*phi2rNN*phi2tiBB/(M_B*M_N) + 36*phi2tiBB^2/M_B^2 - 24*phi2rBB*phi2tiNN/(M_B*M_N) + 24*phi2rNN*phi2tiNN/M_N^2 - 72*phi2tiBB*phi2tiNN/(M_B*M_N) + 36*phi2tiNN^2/M_N^2 - 18*phi1rBN*phi3rBN/(M_B*M_N) + 6*phi1tiBN*phi3rBN/(M_B*M_N) + 9*phi3rBN^2/(M_B*M_N) - 18*phi1rBN*phi3tiBN/(M_B*M_N) + 6*phi1tiBN*phi3tiBN/(M_B*M_N) + 18*phi3rBN*phi3tiBN/(M_B*M_N) + 9*phi3tiBN^2/(M_B*M_N)) - 3/2*phi1rBN/(sqrt(M_B)*sqrt(M_N)) - 3/2*phi1tiBN/(sqrt(M_B)*sqrt(M_N)) - phi2rBB/M_B - phi2rNN/M_N - 3*phi2tiBB/M_B - 3*phi2tiNN/M_N - 3/2*phi3rBN/(sqrt(M_B)*sqrt(M_N)) - 3/2*phi3tiBN/(sqrt(M_B)*sqrt(M_N)) == omegaMLO^2"
      ]
     },
     "metadata": {},
     "output_type": "display_data"
    },
    {
     "data": {
      "text/html": [
       "<html><script type=\"math/tex; mode=display\">\\newcommand{\\Bold}[1]{\\mathbf{#1}}\\frac{1}{2} \\, \\sqrt{\\frac{{\\phi_{1,r}^{BN}}^{2}}{M_{B} M_{N}} - \\frac{6 \\, {\\phi_{1,r}^{BN}} {\\phi_{1,ti}^{BN}}}{M_{B} M_{N}} + \\frac{9 \\, {\\phi_{1,ti}^{BN}}^{2}}{M_{B} M_{N}} + \\frac{36 \\, {\\phi_{2,r}^{BB}}^{2}}{M_{B}^{2}} - \\frac{72 \\, {\\phi_{2,r}^{BB}} {\\phi_{2,r}^{NN}}}{M_{B} M_{N}} + \\frac{36 \\, {\\phi_{2,r}^{NN}}^{2}}{M_{N}^{2}} + \\frac{24 \\, {\\phi_{2,r}^{BB}} {\\phi_{2,ti}^{BB}}}{M_{B}^{2}} - \\frac{24 \\, {\\phi_{2,r}^{NN}} {\\phi_{2,ti}^{BB}}}{M_{B} M_{N}} + \\frac{4 \\, {\\phi_{2,ti}^{BB}}^{2}}{M_{B}^{2}} - \\frac{24 \\, {\\phi_{2,r}^{BB}} {\\phi_{2,ti}^{NN}}}{M_{B} M_{N}} + \\frac{24 \\, {\\phi_{2,r}^{NN}} {\\phi_{2,ti}^{NN}}}{M_{N}^{2}} - \\frac{8 \\, {\\phi_{2,ti}^{BB}} {\\phi_{2,ti}^{NN}}}{M_{B} M_{N}} + \\frac{4 \\, {\\phi_{2,ti}^{NN}}^{2}}{M_{N}^{2}} + \\frac{6 \\, {\\phi_{1,r}^{BN}} {\\phi_{3,r}^{BN}}}{M_{B} M_{N}} - \\frac{18 \\, {\\phi_{1,ti}^{BN}} {\\phi_{3,r}^{BN}}}{M_{B} M_{N}} + \\frac{9 \\, {\\phi_{3,r}^{BN}}^{2}}{M_{B} M_{N}} + \\frac{6 \\, {\\phi_{1,r}^{BN}} {\\phi_{3,ti}^{BN}}}{M_{B} M_{N}} - \\frac{18 \\, {\\phi_{1,ti}^{BN}} {\\phi_{3,ti}^{BN}}}{M_{B} M_{N}} + \\frac{18 \\, {\\phi_{3,r}^{BN}} {\\phi_{3,ti}^{BN}}}{M_{B} M_{N}} + \\frac{9 \\, {\\phi_{3,ti}^{BN}}^{2}}{M_{B} M_{N}}} - \\frac{3 \\, {\\phi_{1,r}^{BN}}}{2 \\, \\sqrt{M_{B}} \\sqrt{M_{N}}} - \\frac{3 \\, {\\phi_{1,ti}^{BN}}}{2 \\, \\sqrt{M_{B}} \\sqrt{M_{N}}} - \\frac{3 \\, {\\phi_{2,r}^{BB}}}{M_{B}} - \\frac{3 \\, {\\phi_{2,r}^{NN}}}{M_{N}} - \\frac{{\\phi_{2,ti}^{BB}}}{M_{B}} - \\frac{{\\phi_{2,ti}^{NN}}}{M_{N}} - \\frac{3 \\, {\\phi_{3,r}^{BN}}}{2 \\, \\sqrt{M_{B}} \\sqrt{M_{N}}} - \\frac{3 \\, {\\phi_{3,ti}^{BN}}}{2 \\, \\sqrt{M_{B}} \\sqrt{M_{N}}} = {\\omega(M)_{TO}}^{2}</script></html>"
      ],
      "text/latex": [
       "\\begin{math}\n",
       "\\newcommand{\\Bold}[1]{\\mathbf{#1}}\\frac{1}{2} \\, \\sqrt{\\frac{{\\phi_{1,r}^{BN}}^{2}}{M_{B} M_{N}} - \\frac{6 \\, {\\phi_{1,r}^{BN}} {\\phi_{1,ti}^{BN}}}{M_{B} M_{N}} + \\frac{9 \\, {\\phi_{1,ti}^{BN}}^{2}}{M_{B} M_{N}} + \\frac{36 \\, {\\phi_{2,r}^{BB}}^{2}}{M_{B}^{2}} - \\frac{72 \\, {\\phi_{2,r}^{BB}} {\\phi_{2,r}^{NN}}}{M_{B} M_{N}} + \\frac{36 \\, {\\phi_{2,r}^{NN}}^{2}}{M_{N}^{2}} + \\frac{24 \\, {\\phi_{2,r}^{BB}} {\\phi_{2,ti}^{BB}}}{M_{B}^{2}} - \\frac{24 \\, {\\phi_{2,r}^{NN}} {\\phi_{2,ti}^{BB}}}{M_{B} M_{N}} + \\frac{4 \\, {\\phi_{2,ti}^{BB}}^{2}}{M_{B}^{2}} - \\frac{24 \\, {\\phi_{2,r}^{BB}} {\\phi_{2,ti}^{NN}}}{M_{B} M_{N}} + \\frac{24 \\, {\\phi_{2,r}^{NN}} {\\phi_{2,ti}^{NN}}}{M_{N}^{2}} - \\frac{8 \\, {\\phi_{2,ti}^{BB}} {\\phi_{2,ti}^{NN}}}{M_{B} M_{N}} + \\frac{4 \\, {\\phi_{2,ti}^{NN}}^{2}}{M_{N}^{2}} + \\frac{6 \\, {\\phi_{1,r}^{BN}} {\\phi_{3,r}^{BN}}}{M_{B} M_{N}} - \\frac{18 \\, {\\phi_{1,ti}^{BN}} {\\phi_{3,r}^{BN}}}{M_{B} M_{N}} + \\frac{9 \\, {\\phi_{3,r}^{BN}}^{2}}{M_{B} M_{N}} + \\frac{6 \\, {\\phi_{1,r}^{BN}} {\\phi_{3,ti}^{BN}}}{M_{B} M_{N}} - \\frac{18 \\, {\\phi_{1,ti}^{BN}} {\\phi_{3,ti}^{BN}}}{M_{B} M_{N}} + \\frac{18 \\, {\\phi_{3,r}^{BN}} {\\phi_{3,ti}^{BN}}}{M_{B} M_{N}} + \\frac{9 \\, {\\phi_{3,ti}^{BN}}^{2}}{M_{B} M_{N}}} - \\frac{3 \\, {\\phi_{1,r}^{BN}}}{2 \\, \\sqrt{M_{B}} \\sqrt{M_{N}}} - \\frac{3 \\, {\\phi_{1,ti}^{BN}}}{2 \\, \\sqrt{M_{B}} \\sqrt{M_{N}}} - \\frac{3 \\, {\\phi_{2,r}^{BB}}}{M_{B}} - \\frac{3 \\, {\\phi_{2,r}^{NN}}}{M_{N}} - \\frac{{\\phi_{2,ti}^{BB}}}{M_{B}} - \\frac{{\\phi_{2,ti}^{NN}}}{M_{N}} - \\frac{3 \\, {\\phi_{3,r}^{BN}}}{2 \\, \\sqrt{M_{B}} \\sqrt{M_{N}}} - \\frac{3 \\, {\\phi_{3,ti}^{BN}}}{2 \\, \\sqrt{M_{B}} \\sqrt{M_{N}}} = {\\omega(M)_{TO}}^{2}\n",
       "\\end{math}"
      ],
      "text/plain": [
       "1/2*sqrt(phi1rBN^2/(M_B*M_N) - 6*phi1rBN*phi1tiBN/(M_B*M_N) + 9*phi1tiBN^2/(M_B*M_N) + 36*phi2rBB^2/M_B^2 - 72*phi2rBB*phi2rNN/(M_B*M_N) + 36*phi2rNN^2/M_N^2 + 24*phi2rBB*phi2tiBB/M_B^2 - 24*phi2rNN*phi2tiBB/(M_B*M_N) + 4*phi2tiBB^2/M_B^2 - 24*phi2rBB*phi2tiNN/(M_B*M_N) + 24*phi2rNN*phi2tiNN/M_N^2 - 8*phi2tiBB*phi2tiNN/(M_B*M_N) + 4*phi2tiNN^2/M_N^2 + 6*phi1rBN*phi3rBN/(M_B*M_N) - 18*phi1tiBN*phi3rBN/(M_B*M_N) + 9*phi3rBN^2/(M_B*M_N) + 6*phi1rBN*phi3tiBN/(M_B*M_N) - 18*phi1tiBN*phi3tiBN/(M_B*M_N) + 18*phi3rBN*phi3tiBN/(M_B*M_N) + 9*phi3tiBN^2/(M_B*M_N)) - 3/2*phi1rBN/(sqrt(M_B)*sqrt(M_N)) - 3/2*phi1tiBN/(sqrt(M_B)*sqrt(M_N)) - 3*phi2rBB/M_B - 3*phi2rNN/M_N - phi2tiBB/M_B - phi2tiNN/M_N - 3/2*phi3rBN/(sqrt(M_B)*sqrt(M_N)) - 3/2*phi3tiBN/(sqrt(M_B)*sqrt(M_N)) == omegaMTO^2"
      ]
     },
     "metadata": {},
     "output_type": "display_data"
    },
    {
     "data": {
      "text/html": [
       "<html><script type=\"math/tex; mode=display\">\\newcommand{\\Bold}[1]{\\mathbf{#1}}-\\frac{1}{2} \\, \\sqrt{\\frac{{\\phi_{1,r}^{BN}}^{2}}{M_{B} M_{N}} - \\frac{6 \\, {\\phi_{1,r}^{BN}} {\\phi_{1,ti}^{BN}}}{M_{B} M_{N}} + \\frac{9 \\, {\\phi_{1,ti}^{BN}}^{2}}{M_{B} M_{N}} + \\frac{36 \\, {\\phi_{2,r}^{BB}}^{2}}{M_{B}^{2}} - \\frac{72 \\, {\\phi_{2,r}^{BB}} {\\phi_{2,r}^{NN}}}{M_{B} M_{N}} + \\frac{36 \\, {\\phi_{2,r}^{NN}}^{2}}{M_{N}^{2}} + \\frac{24 \\, {\\phi_{2,r}^{BB}} {\\phi_{2,ti}^{BB}}}{M_{B}^{2}} - \\frac{24 \\, {\\phi_{2,r}^{NN}} {\\phi_{2,ti}^{BB}}}{M_{B} M_{N}} + \\frac{4 \\, {\\phi_{2,ti}^{BB}}^{2}}{M_{B}^{2}} - \\frac{24 \\, {\\phi_{2,r}^{BB}} {\\phi_{2,ti}^{NN}}}{M_{B} M_{N}} + \\frac{24 \\, {\\phi_{2,r}^{NN}} {\\phi_{2,ti}^{NN}}}{M_{N}^{2}} - \\frac{8 \\, {\\phi_{2,ti}^{BB}} {\\phi_{2,ti}^{NN}}}{M_{B} M_{N}} + \\frac{4 \\, {\\phi_{2,ti}^{NN}}^{2}}{M_{N}^{2}} + \\frac{6 \\, {\\phi_{1,r}^{BN}} {\\phi_{3,r}^{BN}}}{M_{B} M_{N}} - \\frac{18 \\, {\\phi_{1,ti}^{BN}} {\\phi_{3,r}^{BN}}}{M_{B} M_{N}} + \\frac{9 \\, {\\phi_{3,r}^{BN}}^{2}}{M_{B} M_{N}} + \\frac{6 \\, {\\phi_{1,r}^{BN}} {\\phi_{3,ti}^{BN}}}{M_{B} M_{N}} - \\frac{18 \\, {\\phi_{1,ti}^{BN}} {\\phi_{3,ti}^{BN}}}{M_{B} M_{N}} + \\frac{18 \\, {\\phi_{3,r}^{BN}} {\\phi_{3,ti}^{BN}}}{M_{B} M_{N}} + \\frac{9 \\, {\\phi_{3,ti}^{BN}}^{2}}{M_{B} M_{N}}} - \\frac{3 \\, {\\phi_{1,r}^{BN}}}{2 \\, \\sqrt{M_{B}} \\sqrt{M_{N}}} - \\frac{3 \\, {\\phi_{1,ti}^{BN}}}{2 \\, \\sqrt{M_{B}} \\sqrt{M_{N}}} - \\frac{3 \\, {\\phi_{2,r}^{BB}}}{M_{B}} - \\frac{3 \\, {\\phi_{2,r}^{NN}}}{M_{N}} - \\frac{{\\phi_{2,ti}^{BB}}}{M_{B}} - \\frac{{\\phi_{2,ti}^{NN}}}{M_{N}} - \\frac{3 \\, {\\phi_{3,r}^{BN}}}{2 \\, \\sqrt{M_{B}} \\sqrt{M_{N}}} - \\frac{3 \\, {\\phi_{3,ti}^{BN}}}{2 \\, \\sqrt{M_{B}} \\sqrt{M_{N}}} = {\\omega(M)_{LA}}^{2}</script></html>"
      ],
      "text/latex": [
       "\\begin{math}\n",
       "\\newcommand{\\Bold}[1]{\\mathbf{#1}}-\\frac{1}{2} \\, \\sqrt{\\frac{{\\phi_{1,r}^{BN}}^{2}}{M_{B} M_{N}} - \\frac{6 \\, {\\phi_{1,r}^{BN}} {\\phi_{1,ti}^{BN}}}{M_{B} M_{N}} + \\frac{9 \\, {\\phi_{1,ti}^{BN}}^{2}}{M_{B} M_{N}} + \\frac{36 \\, {\\phi_{2,r}^{BB}}^{2}}{M_{B}^{2}} - \\frac{72 \\, {\\phi_{2,r}^{BB}} {\\phi_{2,r}^{NN}}}{M_{B} M_{N}} + \\frac{36 \\, {\\phi_{2,r}^{NN}}^{2}}{M_{N}^{2}} + \\frac{24 \\, {\\phi_{2,r}^{BB}} {\\phi_{2,ti}^{BB}}}{M_{B}^{2}} - \\frac{24 \\, {\\phi_{2,r}^{NN}} {\\phi_{2,ti}^{BB}}}{M_{B} M_{N}} + \\frac{4 \\, {\\phi_{2,ti}^{BB}}^{2}}{M_{B}^{2}} - \\frac{24 \\, {\\phi_{2,r}^{BB}} {\\phi_{2,ti}^{NN}}}{M_{B} M_{N}} + \\frac{24 \\, {\\phi_{2,r}^{NN}} {\\phi_{2,ti}^{NN}}}{M_{N}^{2}} - \\frac{8 \\, {\\phi_{2,ti}^{BB}} {\\phi_{2,ti}^{NN}}}{M_{B} M_{N}} + \\frac{4 \\, {\\phi_{2,ti}^{NN}}^{2}}{M_{N}^{2}} + \\frac{6 \\, {\\phi_{1,r}^{BN}} {\\phi_{3,r}^{BN}}}{M_{B} M_{N}} - \\frac{18 \\, {\\phi_{1,ti}^{BN}} {\\phi_{3,r}^{BN}}}{M_{B} M_{N}} + \\frac{9 \\, {\\phi_{3,r}^{BN}}^{2}}{M_{B} M_{N}} + \\frac{6 \\, {\\phi_{1,r}^{BN}} {\\phi_{3,ti}^{BN}}}{M_{B} M_{N}} - \\frac{18 \\, {\\phi_{1,ti}^{BN}} {\\phi_{3,ti}^{BN}}}{M_{B} M_{N}} + \\frac{18 \\, {\\phi_{3,r}^{BN}} {\\phi_{3,ti}^{BN}}}{M_{B} M_{N}} + \\frac{9 \\, {\\phi_{3,ti}^{BN}}^{2}}{M_{B} M_{N}}} - \\frac{3 \\, {\\phi_{1,r}^{BN}}}{2 \\, \\sqrt{M_{B}} \\sqrt{M_{N}}} - \\frac{3 \\, {\\phi_{1,ti}^{BN}}}{2 \\, \\sqrt{M_{B}} \\sqrt{M_{N}}} - \\frac{3 \\, {\\phi_{2,r}^{BB}}}{M_{B}} - \\frac{3 \\, {\\phi_{2,r}^{NN}}}{M_{N}} - \\frac{{\\phi_{2,ti}^{BB}}}{M_{B}} - \\frac{{\\phi_{2,ti}^{NN}}}{M_{N}} - \\frac{3 \\, {\\phi_{3,r}^{BN}}}{2 \\, \\sqrt{M_{B}} \\sqrt{M_{N}}} - \\frac{3 \\, {\\phi_{3,ti}^{BN}}}{2 \\, \\sqrt{M_{B}} \\sqrt{M_{N}}} = {\\omega(M)_{LA}}^{2}\n",
       "\\end{math}"
      ],
      "text/plain": [
       "-1/2*sqrt(phi1rBN^2/(M_B*M_N) - 6*phi1rBN*phi1tiBN/(M_B*M_N) + 9*phi1tiBN^2/(M_B*M_N) + 36*phi2rBB^2/M_B^2 - 72*phi2rBB*phi2rNN/(M_B*M_N) + 36*phi2rNN^2/M_N^2 + 24*phi2rBB*phi2tiBB/M_B^2 - 24*phi2rNN*phi2tiBB/(M_B*M_N) + 4*phi2tiBB^2/M_B^2 - 24*phi2rBB*phi2tiNN/(M_B*M_N) + 24*phi2rNN*phi2tiNN/M_N^2 - 8*phi2tiBB*phi2tiNN/(M_B*M_N) + 4*phi2tiNN^2/M_N^2 + 6*phi1rBN*phi3rBN/(M_B*M_N) - 18*phi1tiBN*phi3rBN/(M_B*M_N) + 9*phi3rBN^2/(M_B*M_N) + 6*phi1rBN*phi3tiBN/(M_B*M_N) - 18*phi1tiBN*phi3tiBN/(M_B*M_N) + 18*phi3rBN*phi3tiBN/(M_B*M_N) + 9*phi3tiBN^2/(M_B*M_N)) - 3/2*phi1rBN/(sqrt(M_B)*sqrt(M_N)) - 3/2*phi1tiBN/(sqrt(M_B)*sqrt(M_N)) - 3*phi2rBB/M_B - 3*phi2rNN/M_N - phi2tiBB/M_B - phi2tiNN/M_N - 3/2*phi3rBN/(sqrt(M_B)*sqrt(M_N)) - 3/2*phi3tiBN/(sqrt(M_B)*sqrt(M_N)) == omegaMLA^2"
      ]
     },
     "metadata": {},
     "output_type": "display_data"
    },
    {
     "data": {
      "text/html": [
       "<html><script type=\"math/tex; mode=display\">\\newcommand{\\Bold}[1]{\\mathbf{#1}}-\\frac{1}{2} \\, \\sqrt{\\frac{9 \\, {\\phi_{1,r}^{BN}}^{2}}{M_{B} M_{N}} - \\frac{6 \\, {\\phi_{1,r}^{BN}} {\\phi_{1,ti}^{BN}}}{M_{B} M_{N}} + \\frac{{\\phi_{1,ti}^{BN}}^{2}}{M_{B} M_{N}} + \\frac{4 \\, {\\phi_{2,r}^{BB}}^{2}}{M_{B}^{2}} - \\frac{8 \\, {\\phi_{2,r}^{BB}} {\\phi_{2,r}^{NN}}}{M_{B} M_{N}} + \\frac{4 \\, {\\phi_{2,r}^{NN}}^{2}}{M_{N}^{2}} + \\frac{24 \\, {\\phi_{2,r}^{BB}} {\\phi_{2,ti}^{BB}}}{M_{B}^{2}} - \\frac{24 \\, {\\phi_{2,r}^{NN}} {\\phi_{2,ti}^{BB}}}{M_{B} M_{N}} + \\frac{36 \\, {\\phi_{2,ti}^{BB}}^{2}}{M_{B}^{2}} - \\frac{24 \\, {\\phi_{2,r}^{BB}} {\\phi_{2,ti}^{NN}}}{M_{B} M_{N}} + \\frac{24 \\, {\\phi_{2,r}^{NN}} {\\phi_{2,ti}^{NN}}}{M_{N}^{2}} - \\frac{72 \\, {\\phi_{2,ti}^{BB}} {\\phi_{2,ti}^{NN}}}{M_{B} M_{N}} + \\frac{36 \\, {\\phi_{2,ti}^{NN}}^{2}}{M_{N}^{2}} - \\frac{18 \\, {\\phi_{1,r}^{BN}} {\\phi_{3,r}^{BN}}}{M_{B} M_{N}} + \\frac{6 \\, {\\phi_{1,ti}^{BN}} {\\phi_{3,r}^{BN}}}{M_{B} M_{N}} + \\frac{9 \\, {\\phi_{3,r}^{BN}}^{2}}{M_{B} M_{N}} - \\frac{18 \\, {\\phi_{1,r}^{BN}} {\\phi_{3,ti}^{BN}}}{M_{B} M_{N}} + \\frac{6 \\, {\\phi_{1,ti}^{BN}} {\\phi_{3,ti}^{BN}}}{M_{B} M_{N}} + \\frac{18 \\, {\\phi_{3,r}^{BN}} {\\phi_{3,ti}^{BN}}}{M_{B} M_{N}} + \\frac{9 \\, {\\phi_{3,ti}^{BN}}^{2}}{M_{B} M_{N}}} - \\frac{3 \\, {\\phi_{1,r}^{BN}}}{2 \\, \\sqrt{M_{B}} \\sqrt{M_{N}}} - \\frac{3 \\, {\\phi_{1,ti}^{BN}}}{2 \\, \\sqrt{M_{B}} \\sqrt{M_{N}}} - \\frac{{\\phi_{2,r}^{BB}}}{M_{B}} - \\frac{{\\phi_{2,r}^{NN}}}{M_{N}} - \\frac{3 \\, {\\phi_{2,ti}^{BB}}}{M_{B}} - \\frac{3 \\, {\\phi_{2,ti}^{NN}}}{M_{N}} - \\frac{3 \\, {\\phi_{3,r}^{BN}}}{2 \\, \\sqrt{M_{B}} \\sqrt{M_{N}}} - \\frac{3 \\, {\\phi_{3,ti}^{BN}}}{2 \\, \\sqrt{M_{B}} \\sqrt{M_{N}}} = {\\omega(M)_{TA}}^{2}</script></html>"
      ],
      "text/latex": [
       "\\begin{math}\n",
       "\\newcommand{\\Bold}[1]{\\mathbf{#1}}-\\frac{1}{2} \\, \\sqrt{\\frac{9 \\, {\\phi_{1,r}^{BN}}^{2}}{M_{B} M_{N}} - \\frac{6 \\, {\\phi_{1,r}^{BN}} {\\phi_{1,ti}^{BN}}}{M_{B} M_{N}} + \\frac{{\\phi_{1,ti}^{BN}}^{2}}{M_{B} M_{N}} + \\frac{4 \\, {\\phi_{2,r}^{BB}}^{2}}{M_{B}^{2}} - \\frac{8 \\, {\\phi_{2,r}^{BB}} {\\phi_{2,r}^{NN}}}{M_{B} M_{N}} + \\frac{4 \\, {\\phi_{2,r}^{NN}}^{2}}{M_{N}^{2}} + \\frac{24 \\, {\\phi_{2,r}^{BB}} {\\phi_{2,ti}^{BB}}}{M_{B}^{2}} - \\frac{24 \\, {\\phi_{2,r}^{NN}} {\\phi_{2,ti}^{BB}}}{M_{B} M_{N}} + \\frac{36 \\, {\\phi_{2,ti}^{BB}}^{2}}{M_{B}^{2}} - \\frac{24 \\, {\\phi_{2,r}^{BB}} {\\phi_{2,ti}^{NN}}}{M_{B} M_{N}} + \\frac{24 \\, {\\phi_{2,r}^{NN}} {\\phi_{2,ti}^{NN}}}{M_{N}^{2}} - \\frac{72 \\, {\\phi_{2,ti}^{BB}} {\\phi_{2,ti}^{NN}}}{M_{B} M_{N}} + \\frac{36 \\, {\\phi_{2,ti}^{NN}}^{2}}{M_{N}^{2}} - \\frac{18 \\, {\\phi_{1,r}^{BN}} {\\phi_{3,r}^{BN}}}{M_{B} M_{N}} + \\frac{6 \\, {\\phi_{1,ti}^{BN}} {\\phi_{3,r}^{BN}}}{M_{B} M_{N}} + \\frac{9 \\, {\\phi_{3,r}^{BN}}^{2}}{M_{B} M_{N}} - \\frac{18 \\, {\\phi_{1,r}^{BN}} {\\phi_{3,ti}^{BN}}}{M_{B} M_{N}} + \\frac{6 \\, {\\phi_{1,ti}^{BN}} {\\phi_{3,ti}^{BN}}}{M_{B} M_{N}} + \\frac{18 \\, {\\phi_{3,r}^{BN}} {\\phi_{3,ti}^{BN}}}{M_{B} M_{N}} + \\frac{9 \\, {\\phi_{3,ti}^{BN}}^{2}}{M_{B} M_{N}}} - \\frac{3 \\, {\\phi_{1,r}^{BN}}}{2 \\, \\sqrt{M_{B}} \\sqrt{M_{N}}} - \\frac{3 \\, {\\phi_{1,ti}^{BN}}}{2 \\, \\sqrt{M_{B}} \\sqrt{M_{N}}} - \\frac{{\\phi_{2,r}^{BB}}}{M_{B}} - \\frac{{\\phi_{2,r}^{NN}}}{M_{N}} - \\frac{3 \\, {\\phi_{2,ti}^{BB}}}{M_{B}} - \\frac{3 \\, {\\phi_{2,ti}^{NN}}}{M_{N}} - \\frac{3 \\, {\\phi_{3,r}^{BN}}}{2 \\, \\sqrt{M_{B}} \\sqrt{M_{N}}} - \\frac{3 \\, {\\phi_{3,ti}^{BN}}}{2 \\, \\sqrt{M_{B}} \\sqrt{M_{N}}} = {\\omega(M)_{TA}}^{2}\n",
       "\\end{math}"
      ],
      "text/plain": [
       "-1/2*sqrt(9*phi1rBN^2/(M_B*M_N) - 6*phi1rBN*phi1tiBN/(M_B*M_N) + phi1tiBN^2/(M_B*M_N) + 4*phi2rBB^2/M_B^2 - 8*phi2rBB*phi2rNN/(M_B*M_N) + 4*phi2rNN^2/M_N^2 + 24*phi2rBB*phi2tiBB/M_B^2 - 24*phi2rNN*phi2tiBB/(M_B*M_N) + 36*phi2tiBB^2/M_B^2 - 24*phi2rBB*phi2tiNN/(M_B*M_N) + 24*phi2rNN*phi2tiNN/M_N^2 - 72*phi2tiBB*phi2tiNN/(M_B*M_N) + 36*phi2tiNN^2/M_N^2 - 18*phi1rBN*phi3rBN/(M_B*M_N) + 6*phi1tiBN*phi3rBN/(M_B*M_N) + 9*phi3rBN^2/(M_B*M_N) - 18*phi1rBN*phi3tiBN/(M_B*M_N) + 6*phi1tiBN*phi3tiBN/(M_B*M_N) + 18*phi3rBN*phi3tiBN/(M_B*M_N) + 9*phi3tiBN^2/(M_B*M_N)) - 3/2*phi1rBN/(sqrt(M_B)*sqrt(M_N)) - 3/2*phi1tiBN/(sqrt(M_B)*sqrt(M_N)) - phi2rBB/M_B - phi2rNN/M_N - 3*phi2tiBB/M_B - 3*phi2tiNN/M_N - 3/2*phi3rBN/(sqrt(M_B)*sqrt(M_N)) - 3/2*phi3tiBN/(sqrt(M_B)*sqrt(M_N)) == omegaMTA^2"
      ]
     },
     "metadata": {},
     "output_type": "display_data"
    }
   ],
   "source": [
    "Eq_M_TA3ers = (Valors_propis_en_M3ers[0].expand() == omegaMTA^2)\n",
    "Eq_M_LO3ers = (Valors_propis_en_M3ers[1].expand() == omegaMLO^2)\n",
    "Eq_M_LA3ers = (Valors_propis_en_M3ers[2].expand() == omegaMLA^2)\n",
    "Eq_M_TO3ers = (Valors_propis_en_M3ers[3].expand() == omegaMTO^2)\n",
    "\n",
    "show(Eq_M_LO3ers)\n",
    "show(Eq_M_TO3ers)\n",
    "show(Eq_M_LA3ers)\n",
    "show(Eq_M_TA3ers)\n",
    "\n",
    "#Eq_M_TA_mes_M_LO3ers=(Eq_M_TA3ers + Eq_M_LO3ers)\n",
    "#show(Eq_M_TA_mes_M_LO3ers)\n",
    "#Eq_M_LA_mes_M_TO3ers=(Eq_M_LA3ers + Eq_M_TO3ers)\n",
    "#show(Eq_M_LA_mes_M_TO3ers)\n",
    "#Eq_M_LO_menys_TA3ers_quadrat=((Eq_M_LO3ers-Eq_M_TA3ers)**2).expand()\n",
    "#show(Eq_M_LO_menys_TA3ers_quadrat)\n",
    "#Eq_M_TO_menys_LA3ers_quadrat=((Eq_M_TO3ers-Eq_M_LA3ers)**2).expand()\n",
    "#show(Eq_M_TO_menys_LA3ers_quadrat)\n",
    "#Fem notar que la suma de tots els valors propis en $M$ compleix l'equació:\n",
    "#(3*Eq_M_LA_mes_M_TO3ers-Eq_M_TA_mes_M_LO3ers).subs(solve(Eq_Gamma_TO3ers,phi3rBN)).expand()\n",
    "#(Eq_M_LA_mes_M_TO-3*Eq_M_TA_mes_M_LO).subs(solve(Eq_Gamma_TO,phi3rBN)).expand()"
   ]
  },
  {
   "cell_type": "markdown",
   "id": "partial-position",
   "metadata": {},
   "source": [
    "### Al punt $K$ \n",
    "En $\\left(k_x=\\frac{4\\pi}{3a}, k_y=0\\right)$"
   ]
  },
  {
   "cell_type": "code",
   "execution_count": 42,
   "id": "experienced-corner",
   "metadata": {
    "tags": [
     "hide-input"
    ]
   },
   "outputs": [
    {
     "data": {
      "text/html": [
       "<html><script type=\"math/tex; mode=display\">\\newcommand{\\Bold}[1]{\\mathbf{#1}}-\\frac{3 \\, {\\phi_{1,r}^{BN}}}{2 \\, \\sqrt{M_{B}} \\sqrt{M_{N}}} - \\frac{3 \\, {\\phi_{1,ti}^{BN}}}{2 \\, \\sqrt{M_{B}} \\sqrt{M_{N}}} - \\frac{9 \\, {\\phi_{2,r}^{NN}}}{2 \\, M_{N}} - \\frac{9 \\, {\\phi_{2,ti}^{NN}}}{2 \\, M_{N}} - \\frac{3 \\, {\\phi_{3,r}^{BN}}}{2 \\, \\sqrt{M_{B}} \\sqrt{M_{N}}} - \\frac{3 \\, {\\phi_{3,ti}^{BN}}}{2 \\, \\sqrt{M_{B}} \\sqrt{M_{N}}}</script></html>"
      ],
      "text/latex": [
       "\\begin{math}\n",
       "\\newcommand{\\Bold}[1]{\\mathbf{#1}}-\\frac{3 \\, {\\phi_{1,r}^{BN}}}{2 \\, \\sqrt{M_{B}} \\sqrt{M_{N}}} - \\frac{3 \\, {\\phi_{1,ti}^{BN}}}{2 \\, \\sqrt{M_{B}} \\sqrt{M_{N}}} - \\frac{9 \\, {\\phi_{2,r}^{NN}}}{2 \\, M_{N}} - \\frac{9 \\, {\\phi_{2,ti}^{NN}}}{2 \\, M_{N}} - \\frac{3 \\, {\\phi_{3,r}^{BN}}}{2 \\, \\sqrt{M_{B}} \\sqrt{M_{N}}} - \\frac{3 \\, {\\phi_{3,ti}^{BN}}}{2 \\, \\sqrt{M_{B}} \\sqrt{M_{N}}}\n",
       "\\end{math}"
      ],
      "text/plain": [
       "-3/2*phi1rBN/(sqrt(M_B)*sqrt(M_N)) - 3/2*phi1tiBN/(sqrt(M_B)*sqrt(M_N)) - 9/2*phi2rNN/M_N - 9/2*phi2tiNN/M_N - 3/2*phi3rBN/(sqrt(M_B)*sqrt(M_N)) - 3/2*phi3tiBN/(sqrt(M_B)*sqrt(M_N))"
      ]
     },
     "metadata": {},
     "output_type": "display_data"
    },
    {
     "data": {
      "text/html": [
       "<html><script type=\"math/tex; mode=display\">\\newcommand{\\Bold}[1]{\\mathbf{#1}}-\\frac{3 \\, {\\phi_{1,r}^{BN}}}{2 \\, \\sqrt{M_{B}} \\sqrt{M_{N}}} - \\frac{3 \\, {\\phi_{1,ti}^{BN}}}{2 \\, \\sqrt{M_{B}} \\sqrt{M_{N}}} - \\frac{9 \\, {\\phi_{2,r}^{BB}}}{2 \\, M_{B}} - \\frac{9 \\, {\\phi_{2,ti}^{BB}}}{2 \\, M_{B}} - \\frac{3 \\, {\\phi_{3,r}^{BN}}}{2 \\, \\sqrt{M_{B}} \\sqrt{M_{N}}} - \\frac{3 \\, {\\phi_{3,ti}^{BN}}}{2 \\, \\sqrt{M_{B}} \\sqrt{M_{N}}}</script></html>"
      ],
      "text/latex": [
       "\\begin{math}\n",
       "\\newcommand{\\Bold}[1]{\\mathbf{#1}}-\\frac{3 \\, {\\phi_{1,r}^{BN}}}{2 \\, \\sqrt{M_{B}} \\sqrt{M_{N}}} - \\frac{3 \\, {\\phi_{1,ti}^{BN}}}{2 \\, \\sqrt{M_{B}} \\sqrt{M_{N}}} - \\frac{9 \\, {\\phi_{2,r}^{BB}}}{2 \\, M_{B}} - \\frac{9 \\, {\\phi_{2,ti}^{BB}}}{2 \\, M_{B}} - \\frac{3 \\, {\\phi_{3,r}^{BN}}}{2 \\, \\sqrt{M_{B}} \\sqrt{M_{N}}} - \\frac{3 \\, {\\phi_{3,ti}^{BN}}}{2 \\, \\sqrt{M_{B}} \\sqrt{M_{N}}}\n",
       "\\end{math}"
      ],
      "text/plain": [
       "-3/2*phi1rBN/(sqrt(M_B)*sqrt(M_N)) - 3/2*phi1tiBN/(sqrt(M_B)*sqrt(M_N)) - 9/2*phi2rBB/M_B - 9/2*phi2tiBB/M_B - 3/2*phi3rBN/(sqrt(M_B)*sqrt(M_N)) - 3/2*phi3tiBN/(sqrt(M_B)*sqrt(M_N))"
      ]
     },
     "metadata": {},
     "output_type": "display_data"
    },
    {
     "data": {
      "text/html": [
       "<html><script type=\"math/tex; mode=display\">\\newcommand{\\Bold}[1]{\\mathbf{#1}}-\\frac{3}{4} \\, \\sqrt{\\frac{4 \\, {\\phi_{1,r}^{BN}}^{2}}{M_{B} M_{N}} - \\frac{8 \\, {\\phi_{1,r}^{BN}} {\\phi_{1,ti}^{BN}}}{M_{B} M_{N}} + \\frac{4 \\, {\\phi_{1,ti}^{BN}}^{2}}{M_{B} M_{N}} + \\frac{9 \\, {\\phi_{2,r}^{BB}}^{2}}{M_{B}^{2}} - \\frac{18 \\, {\\phi_{2,r}^{BB}} {\\phi_{2,r}^{NN}}}{M_{B} M_{N}} + \\frac{9 \\, {\\phi_{2,r}^{NN}}^{2}}{M_{N}^{2}} + \\frac{18 \\, {\\phi_{2,r}^{BB}} {\\phi_{2,ti}^{BB}}}{M_{B}^{2}} - \\frac{18 \\, {\\phi_{2,r}^{NN}} {\\phi_{2,ti}^{BB}}}{M_{B} M_{N}} + \\frac{9 \\, {\\phi_{2,ti}^{BB}}^{2}}{M_{B}^{2}} - \\frac{18 \\, {\\phi_{2,r}^{BB}} {\\phi_{2,ti}^{NN}}}{M_{B} M_{N}} + \\frac{18 \\, {\\phi_{2,r}^{NN}} {\\phi_{2,ti}^{NN}}}{M_{N}^{2}} - \\frac{18 \\, {\\phi_{2,ti}^{BB}} {\\phi_{2,ti}^{NN}}}{M_{B} M_{N}} + \\frac{9 \\, {\\phi_{2,ti}^{NN}}^{2}}{M_{N}^{2}} + \\frac{8 \\, {\\phi_{1,r}^{BN}} {\\phi_{3,r}^{BN}}}{M_{B} M_{N}} - \\frac{8 \\, {\\phi_{1,ti}^{BN}} {\\phi_{3,r}^{BN}}}{M_{B} M_{N}} + \\frac{4 \\, {\\phi_{3,r}^{BN}}^{2}}{M_{B} M_{N}} - \\frac{8 \\, {\\phi_{1,r}^{BN}} {\\phi_{3,ti}^{BN}}}{M_{B} M_{N}} + \\frac{8 \\, {\\phi_{1,ti}^{BN}} {\\phi_{3,ti}^{BN}}}{M_{B} M_{N}} - \\frac{8 \\, {\\phi_{3,r}^{BN}} {\\phi_{3,ti}^{BN}}}{M_{B} M_{N}} + \\frac{4 \\, {\\phi_{3,ti}^{BN}}^{2}}{M_{B} M_{N}}} - \\frac{3 \\, {\\phi_{1,r}^{BN}}}{2 \\, \\sqrt{M_{B}} \\sqrt{M_{N}}} - \\frac{3 \\, {\\phi_{1,ti}^{BN}}}{2 \\, \\sqrt{M_{B}} \\sqrt{M_{N}}} - \\frac{9 \\, {\\phi_{2,r}^{BB}}}{4 \\, M_{B}} - \\frac{9 \\, {\\phi_{2,r}^{NN}}}{4 \\, M_{N}} - \\frac{9 \\, {\\phi_{2,ti}^{BB}}}{4 \\, M_{B}} - \\frac{9 \\, {\\phi_{2,ti}^{NN}}}{4 \\, M_{N}} - \\frac{3 \\, {\\phi_{3,r}^{BN}}}{2 \\, \\sqrt{M_{B}} \\sqrt{M_{N}}} - \\frac{3 \\, {\\phi_{3,ti}^{BN}}}{2 \\, \\sqrt{M_{B}} \\sqrt{M_{N}}}</script></html>"
      ],
      "text/latex": [
       "\\begin{math}\n",
       "\\newcommand{\\Bold}[1]{\\mathbf{#1}}-\\frac{3}{4} \\, \\sqrt{\\frac{4 \\, {\\phi_{1,r}^{BN}}^{2}}{M_{B} M_{N}} - \\frac{8 \\, {\\phi_{1,r}^{BN}} {\\phi_{1,ti}^{BN}}}{M_{B} M_{N}} + \\frac{4 \\, {\\phi_{1,ti}^{BN}}^{2}}{M_{B} M_{N}} + \\frac{9 \\, {\\phi_{2,r}^{BB}}^{2}}{M_{B}^{2}} - \\frac{18 \\, {\\phi_{2,r}^{BB}} {\\phi_{2,r}^{NN}}}{M_{B} M_{N}} + \\frac{9 \\, {\\phi_{2,r}^{NN}}^{2}}{M_{N}^{2}} + \\frac{18 \\, {\\phi_{2,r}^{BB}} {\\phi_{2,ti}^{BB}}}{M_{B}^{2}} - \\frac{18 \\, {\\phi_{2,r}^{NN}} {\\phi_{2,ti}^{BB}}}{M_{B} M_{N}} + \\frac{9 \\, {\\phi_{2,ti}^{BB}}^{2}}{M_{B}^{2}} - \\frac{18 \\, {\\phi_{2,r}^{BB}} {\\phi_{2,ti}^{NN}}}{M_{B} M_{N}} + \\frac{18 \\, {\\phi_{2,r}^{NN}} {\\phi_{2,ti}^{NN}}}{M_{N}^{2}} - \\frac{18 \\, {\\phi_{2,ti}^{BB}} {\\phi_{2,ti}^{NN}}}{M_{B} M_{N}} + \\frac{9 \\, {\\phi_{2,ti}^{NN}}^{2}}{M_{N}^{2}} + \\frac{8 \\, {\\phi_{1,r}^{BN}} {\\phi_{3,r}^{BN}}}{M_{B} M_{N}} - \\frac{8 \\, {\\phi_{1,ti}^{BN}} {\\phi_{3,r}^{BN}}}{M_{B} M_{N}} + \\frac{4 \\, {\\phi_{3,r}^{BN}}^{2}}{M_{B} M_{N}} - \\frac{8 \\, {\\phi_{1,r}^{BN}} {\\phi_{3,ti}^{BN}}}{M_{B} M_{N}} + \\frac{8 \\, {\\phi_{1,ti}^{BN}} {\\phi_{3,ti}^{BN}}}{M_{B} M_{N}} - \\frac{8 \\, {\\phi_{3,r}^{BN}} {\\phi_{3,ti}^{BN}}}{M_{B} M_{N}} + \\frac{4 \\, {\\phi_{3,ti}^{BN}}^{2}}{M_{B} M_{N}}} - \\frac{3 \\, {\\phi_{1,r}^{BN}}}{2 \\, \\sqrt{M_{B}} \\sqrt{M_{N}}} - \\frac{3 \\, {\\phi_{1,ti}^{BN}}}{2 \\, \\sqrt{M_{B}} \\sqrt{M_{N}}} - \\frac{9 \\, {\\phi_{2,r}^{BB}}}{4 \\, M_{B}} - \\frac{9 \\, {\\phi_{2,r}^{NN}}}{4 \\, M_{N}} - \\frac{9 \\, {\\phi_{2,ti}^{BB}}}{4 \\, M_{B}} - \\frac{9 \\, {\\phi_{2,ti}^{NN}}}{4 \\, M_{N}} - \\frac{3 \\, {\\phi_{3,r}^{BN}}}{2 \\, \\sqrt{M_{B}} \\sqrt{M_{N}}} - \\frac{3 \\, {\\phi_{3,ti}^{BN}}}{2 \\, \\sqrt{M_{B}} \\sqrt{M_{N}}}\n",
       "\\end{math}"
      ],
      "text/plain": [
       "-3/4*sqrt(4*phi1rBN^2/(M_B*M_N) - 8*phi1rBN*phi1tiBN/(M_B*M_N) + 4*phi1tiBN^2/(M_B*M_N) + 9*phi2rBB^2/M_B^2 - 18*phi2rBB*phi2rNN/(M_B*M_N) + 9*phi2rNN^2/M_N^2 + 18*phi2rBB*phi2tiBB/M_B^2 - 18*phi2rNN*phi2tiBB/(M_B*M_N) + 9*phi2tiBB^2/M_B^2 - 18*phi2rBB*phi2tiNN/(M_B*M_N) + 18*phi2rNN*phi2tiNN/M_N^2 - 18*phi2tiBB*phi2tiNN/(M_B*M_N) + 9*phi2tiNN^2/M_N^2 + 8*phi1rBN*phi3rBN/(M_B*M_N) - 8*phi1tiBN*phi3rBN/(M_B*M_N) + 4*phi3rBN^2/(M_B*M_N) - 8*phi1rBN*phi3tiBN/(M_B*M_N) + 8*phi1tiBN*phi3tiBN/(M_B*M_N) - 8*phi3rBN*phi3tiBN/(M_B*M_N) + 4*phi3tiBN^2/(M_B*M_N)) - 3/2*phi1rBN/(sqrt(M_B)*sqrt(M_N)) - 3/2*phi1tiBN/(sqrt(M_B)*sqrt(M_N)) - 9/4*phi2rBB/M_B - 9/4*phi2rNN/M_N - 9/4*phi2tiBB/M_B - 9/4*phi2tiNN/M_N - 3/2*phi3rBN/(sqrt(M_B)*sqrt(M_N)) - 3/2*phi3tiBN/(sqrt(M_B)*sqrt(M_N))"
      ]
     },
     "metadata": {},
     "output_type": "display_data"
    },
    {
     "data": {
      "text/html": [
       "<html><script type=\"math/tex; mode=display\">\\newcommand{\\Bold}[1]{\\mathbf{#1}}\\frac{3}{4} \\, \\sqrt{\\frac{4 \\, {\\phi_{1,r}^{BN}}^{2}}{M_{B} M_{N}} - \\frac{8 \\, {\\phi_{1,r}^{BN}} {\\phi_{1,ti}^{BN}}}{M_{B} M_{N}} + \\frac{4 \\, {\\phi_{1,ti}^{BN}}^{2}}{M_{B} M_{N}} + \\frac{9 \\, {\\phi_{2,r}^{BB}}^{2}}{M_{B}^{2}} - \\frac{18 \\, {\\phi_{2,r}^{BB}} {\\phi_{2,r}^{NN}}}{M_{B} M_{N}} + \\frac{9 \\, {\\phi_{2,r}^{NN}}^{2}}{M_{N}^{2}} + \\frac{18 \\, {\\phi_{2,r}^{BB}} {\\phi_{2,ti}^{BB}}}{M_{B}^{2}} - \\frac{18 \\, {\\phi_{2,r}^{NN}} {\\phi_{2,ti}^{BB}}}{M_{B} M_{N}} + \\frac{9 \\, {\\phi_{2,ti}^{BB}}^{2}}{M_{B}^{2}} - \\frac{18 \\, {\\phi_{2,r}^{BB}} {\\phi_{2,ti}^{NN}}}{M_{B} M_{N}} + \\frac{18 \\, {\\phi_{2,r}^{NN}} {\\phi_{2,ti}^{NN}}}{M_{N}^{2}} - \\frac{18 \\, {\\phi_{2,ti}^{BB}} {\\phi_{2,ti}^{NN}}}{M_{B} M_{N}} + \\frac{9 \\, {\\phi_{2,ti}^{NN}}^{2}}{M_{N}^{2}} + \\frac{8 \\, {\\phi_{1,r}^{BN}} {\\phi_{3,r}^{BN}}}{M_{B} M_{N}} - \\frac{8 \\, {\\phi_{1,ti}^{BN}} {\\phi_{3,r}^{BN}}}{M_{B} M_{N}} + \\frac{4 \\, {\\phi_{3,r}^{BN}}^{2}}{M_{B} M_{N}} - \\frac{8 \\, {\\phi_{1,r}^{BN}} {\\phi_{3,ti}^{BN}}}{M_{B} M_{N}} + \\frac{8 \\, {\\phi_{1,ti}^{BN}} {\\phi_{3,ti}^{BN}}}{M_{B} M_{N}} - \\frac{8 \\, {\\phi_{3,r}^{BN}} {\\phi_{3,ti}^{BN}}}{M_{B} M_{N}} + \\frac{4 \\, {\\phi_{3,ti}^{BN}}^{2}}{M_{B} M_{N}}} - \\frac{3 \\, {\\phi_{1,r}^{BN}}}{2 \\, \\sqrt{M_{B}} \\sqrt{M_{N}}} - \\frac{3 \\, {\\phi_{1,ti}^{BN}}}{2 \\, \\sqrt{M_{B}} \\sqrt{M_{N}}} - \\frac{9 \\, {\\phi_{2,r}^{BB}}}{4 \\, M_{B}} - \\frac{9 \\, {\\phi_{2,r}^{NN}}}{4 \\, M_{N}} - \\frac{9 \\, {\\phi_{2,ti}^{BB}}}{4 \\, M_{B}} - \\frac{9 \\, {\\phi_{2,ti}^{NN}}}{4 \\, M_{N}} - \\frac{3 \\, {\\phi_{3,r}^{BN}}}{2 \\, \\sqrt{M_{B}} \\sqrt{M_{N}}} - \\frac{3 \\, {\\phi_{3,ti}^{BN}}}{2 \\, \\sqrt{M_{B}} \\sqrt{M_{N}}}</script></html>"
      ],
      "text/latex": [
       "\\begin{math}\n",
       "\\newcommand{\\Bold}[1]{\\mathbf{#1}}\\frac{3}{4} \\, \\sqrt{\\frac{4 \\, {\\phi_{1,r}^{BN}}^{2}}{M_{B} M_{N}} - \\frac{8 \\, {\\phi_{1,r}^{BN}} {\\phi_{1,ti}^{BN}}}{M_{B} M_{N}} + \\frac{4 \\, {\\phi_{1,ti}^{BN}}^{2}}{M_{B} M_{N}} + \\frac{9 \\, {\\phi_{2,r}^{BB}}^{2}}{M_{B}^{2}} - \\frac{18 \\, {\\phi_{2,r}^{BB}} {\\phi_{2,r}^{NN}}}{M_{B} M_{N}} + \\frac{9 \\, {\\phi_{2,r}^{NN}}^{2}}{M_{N}^{2}} + \\frac{18 \\, {\\phi_{2,r}^{BB}} {\\phi_{2,ti}^{BB}}}{M_{B}^{2}} - \\frac{18 \\, {\\phi_{2,r}^{NN}} {\\phi_{2,ti}^{BB}}}{M_{B} M_{N}} + \\frac{9 \\, {\\phi_{2,ti}^{BB}}^{2}}{M_{B}^{2}} - \\frac{18 \\, {\\phi_{2,r}^{BB}} {\\phi_{2,ti}^{NN}}}{M_{B} M_{N}} + \\frac{18 \\, {\\phi_{2,r}^{NN}} {\\phi_{2,ti}^{NN}}}{M_{N}^{2}} - \\frac{18 \\, {\\phi_{2,ti}^{BB}} {\\phi_{2,ti}^{NN}}}{M_{B} M_{N}} + \\frac{9 \\, {\\phi_{2,ti}^{NN}}^{2}}{M_{N}^{2}} + \\frac{8 \\, {\\phi_{1,r}^{BN}} {\\phi_{3,r}^{BN}}}{M_{B} M_{N}} - \\frac{8 \\, {\\phi_{1,ti}^{BN}} {\\phi_{3,r}^{BN}}}{M_{B} M_{N}} + \\frac{4 \\, {\\phi_{3,r}^{BN}}^{2}}{M_{B} M_{N}} - \\frac{8 \\, {\\phi_{1,r}^{BN}} {\\phi_{3,ti}^{BN}}}{M_{B} M_{N}} + \\frac{8 \\, {\\phi_{1,ti}^{BN}} {\\phi_{3,ti}^{BN}}}{M_{B} M_{N}} - \\frac{8 \\, {\\phi_{3,r}^{BN}} {\\phi_{3,ti}^{BN}}}{M_{B} M_{N}} + \\frac{4 \\, {\\phi_{3,ti}^{BN}}^{2}}{M_{B} M_{N}}} - \\frac{3 \\, {\\phi_{1,r}^{BN}}}{2 \\, \\sqrt{M_{B}} \\sqrt{M_{N}}} - \\frac{3 \\, {\\phi_{1,ti}^{BN}}}{2 \\, \\sqrt{M_{B}} \\sqrt{M_{N}}} - \\frac{9 \\, {\\phi_{2,r}^{BB}}}{4 \\, M_{B}} - \\frac{9 \\, {\\phi_{2,r}^{NN}}}{4 \\, M_{N}} - \\frac{9 \\, {\\phi_{2,ti}^{BB}}}{4 \\, M_{B}} - \\frac{9 \\, {\\phi_{2,ti}^{NN}}}{4 \\, M_{N}} - \\frac{3 \\, {\\phi_{3,r}^{BN}}}{2 \\, \\sqrt{M_{B}} \\sqrt{M_{N}}} - \\frac{3 \\, {\\phi_{3,ti}^{BN}}}{2 \\, \\sqrt{M_{B}} \\sqrt{M_{N}}}\n",
       "\\end{math}"
      ],
      "text/plain": [
       "3/4*sqrt(4*phi1rBN^2/(M_B*M_N) - 8*phi1rBN*phi1tiBN/(M_B*M_N) + 4*phi1tiBN^2/(M_B*M_N) + 9*phi2rBB^2/M_B^2 - 18*phi2rBB*phi2rNN/(M_B*M_N) + 9*phi2rNN^2/M_N^2 + 18*phi2rBB*phi2tiBB/M_B^2 - 18*phi2rNN*phi2tiBB/(M_B*M_N) + 9*phi2tiBB^2/M_B^2 - 18*phi2rBB*phi2tiNN/(M_B*M_N) + 18*phi2rNN*phi2tiNN/M_N^2 - 18*phi2tiBB*phi2tiNN/(M_B*M_N) + 9*phi2tiNN^2/M_N^2 + 8*phi1rBN*phi3rBN/(M_B*M_N) - 8*phi1tiBN*phi3rBN/(M_B*M_N) + 4*phi3rBN^2/(M_B*M_N) - 8*phi1rBN*phi3tiBN/(M_B*M_N) + 8*phi1tiBN*phi3tiBN/(M_B*M_N) - 8*phi3rBN*phi3tiBN/(M_B*M_N) + 4*phi3tiBN^2/(M_B*M_N)) - 3/2*phi1rBN/(sqrt(M_B)*sqrt(M_N)) - 3/2*phi1tiBN/(sqrt(M_B)*sqrt(M_N)) - 9/4*phi2rBB/M_B - 9/4*phi2rNN/M_N - 9/4*phi2tiBB/M_B - 9/4*phi2tiNN/M_N - 3/2*phi3rBN/(sqrt(M_B)*sqrt(M_N)) - 3/2*phi3tiBN/(sqrt(M_B)*sqrt(M_N))"
      ]
     },
     "metadata": {},
     "output_type": "display_data"
    }
   ],
   "source": [
    "omega_K_LO=1304\n",
    "omega_K_LA=1080\n",
    "omega_K_TA=553\n",
    "\n",
    "omega_K_TO=sqrt(omega_K_LO**2+omega_K_TA**2-omega_K_LA)\n",
    "\n",
    "D_K3ers_xy=D3ers_xy.subs(q_x=4*pi/(3*a),q_y=0)# phi4tiBN=-phi4rBN)\n",
    "D_K3ers_xy_simplificada=D_K3ers_xy.subs(M_N=M_B)\n",
    "Valors_propis_K3ers=D_K3ers_xy_simplificada.eigenvalues()\n",
    "\n",
    "Valors_propis_en_K3ers=[M_B*Valors_propis_K3ers[i].expand().subs(\n",
    "    phi1rBN=phi1rBN/sqrt(M_N*M_B), phi1tiBN=phi1tiBN/sqrt(M_N*M_B), \n",
    "    phi2rBB=phi2rBB/M_B, phi2tiBB=phi2tiBB/M_B,\n",
    "    phi2rNN=phi2rNN/M_N, phi2tiNN=phi2tiNN/M_N,\n",
    "    phi3rBN=phi3rBN/sqrt(M_N*M_B), phi3tiBN=phi3tiBN/sqrt(M_N*M_B)) for i in range(4)]\n",
    "    #phi4rBN=phi4rBN/sqrt(M_N*M_B), phi4tiBN=phi4tiBN/sqrt(M_N*M_B)) for i in range(4)]\n",
    "\n",
    "#Comprobem que sí són els valors propis:\n",
    "#[det(D_K_xy-Valors_propis_en_K[i]) for i in range(4)]\n",
    "for i in range(4):\n",
    "    show(Valors_propis_en_K3ers[i].expand())\n",
    "\n",
    "#Comprobem que sí són els valors propis:\n",
    "#[det(D_K_xy-Valors_propis_en_K[i]) for i in range(4)]"
   ]
  },
  {
   "cell_type": "markdown",
   "id": "australian-disease",
   "metadata": {},
   "source": [
    "Emprant un argument anàleg a l'emprat per als valors propis en $M$ assignem cada valor propi a cadascuna de les rames, de manera que:"
   ]
  },
  {
   "cell_type": "code",
   "execution_count": 43,
   "id": "damaged-blast",
   "metadata": {
    "tags": [
     "hide-input"
    ]
   },
   "outputs": [
    {
     "data": {
      "text/html": [
       "<html><script type=\"math/tex; mode=display\">\\newcommand{\\Bold}[1]{\\mathbf{#1}}-\\frac{3 \\, {\\phi_{1,r}^{BN}}}{2 \\, \\sqrt{M_{B}} \\sqrt{M_{N}}} - \\frac{3 \\, {\\phi_{1,ti}^{BN}}}{2 \\, \\sqrt{M_{B}} \\sqrt{M_{N}}} - \\frac{9 \\, {\\phi_{2,r}^{NN}}}{2 \\, M_{N}} - \\frac{9 \\, {\\phi_{2,ti}^{NN}}}{2 \\, M_{N}} - \\frac{3 \\, {\\phi_{3,r}^{BN}}}{2 \\, \\sqrt{M_{B}} \\sqrt{M_{N}}} - \\frac{3 \\, {\\phi_{3,ti}^{BN}}}{2 \\, \\sqrt{M_{B}} \\sqrt{M_{N}}} = {\\omega(K)_{LA}}^{2}</script></html>"
      ],
      "text/latex": [
       "\\begin{math}\n",
       "\\newcommand{\\Bold}[1]{\\mathbf{#1}}-\\frac{3 \\, {\\phi_{1,r}^{BN}}}{2 \\, \\sqrt{M_{B}} \\sqrt{M_{N}}} - \\frac{3 \\, {\\phi_{1,ti}^{BN}}}{2 \\, \\sqrt{M_{B}} \\sqrt{M_{N}}} - \\frac{9 \\, {\\phi_{2,r}^{NN}}}{2 \\, M_{N}} - \\frac{9 \\, {\\phi_{2,ti}^{NN}}}{2 \\, M_{N}} - \\frac{3 \\, {\\phi_{3,r}^{BN}}}{2 \\, \\sqrt{M_{B}} \\sqrt{M_{N}}} - \\frac{3 \\, {\\phi_{3,ti}^{BN}}}{2 \\, \\sqrt{M_{B}} \\sqrt{M_{N}}} = {\\omega(K)_{LA}}^{2}\n",
       "\\end{math}"
      ],
      "text/plain": [
       "-3/2*phi1rBN/(sqrt(M_B)*sqrt(M_N)) - 3/2*phi1tiBN/(sqrt(M_B)*sqrt(M_N)) - 9/2*phi2rNN/M_N - 9/2*phi2tiNN/M_N - 3/2*phi3rBN/(sqrt(M_B)*sqrt(M_N)) - 3/2*phi3tiBN/(sqrt(M_B)*sqrt(M_N)) == omegaKLA^2"
      ]
     },
     "metadata": {},
     "output_type": "display_data"
    },
    {
     "data": {
      "text/html": [
       "<html><script type=\"math/tex; mode=display\">\\newcommand{\\Bold}[1]{\\mathbf{#1}}-\\frac{3 \\, {\\phi_{1,r}^{BN}}}{2 \\, \\sqrt{M_{B}} \\sqrt{M_{N}}} - \\frac{3 \\, {\\phi_{1,ti}^{BN}}}{2 \\, \\sqrt{M_{B}} \\sqrt{M_{N}}} - \\frac{9 \\, {\\phi_{2,r}^{BB}}}{2 \\, M_{B}} - \\frac{9 \\, {\\phi_{2,ti}^{BB}}}{2 \\, M_{B}} - \\frac{3 \\, {\\phi_{3,r}^{BN}}}{2 \\, \\sqrt{M_{B}} \\sqrt{M_{N}}} - \\frac{3 \\, {\\phi_{3,ti}^{BN}}}{2 \\, \\sqrt{M_{B}} \\sqrt{M_{N}}} = {\\omega(K)_{TO}}^{2}</script></html>"
      ],
      "text/latex": [
       "\\begin{math}\n",
       "\\newcommand{\\Bold}[1]{\\mathbf{#1}}-\\frac{3 \\, {\\phi_{1,r}^{BN}}}{2 \\, \\sqrt{M_{B}} \\sqrt{M_{N}}} - \\frac{3 \\, {\\phi_{1,ti}^{BN}}}{2 \\, \\sqrt{M_{B}} \\sqrt{M_{N}}} - \\frac{9 \\, {\\phi_{2,r}^{BB}}}{2 \\, M_{B}} - \\frac{9 \\, {\\phi_{2,ti}^{BB}}}{2 \\, M_{B}} - \\frac{3 \\, {\\phi_{3,r}^{BN}}}{2 \\, \\sqrt{M_{B}} \\sqrt{M_{N}}} - \\frac{3 \\, {\\phi_{3,ti}^{BN}}}{2 \\, \\sqrt{M_{B}} \\sqrt{M_{N}}} = {\\omega(K)_{TO}}^{2}\n",
       "\\end{math}"
      ],
      "text/plain": [
       "-3/2*phi1rBN/(sqrt(M_B)*sqrt(M_N)) - 3/2*phi1tiBN/(sqrt(M_B)*sqrt(M_N)) - 9/2*phi2rBB/M_B - 9/2*phi2tiBB/M_B - 3/2*phi3rBN/(sqrt(M_B)*sqrt(M_N)) - 3/2*phi3tiBN/(sqrt(M_B)*sqrt(M_N)) == omegaKTO^2"
      ]
     },
     "metadata": {},
     "output_type": "display_data"
    },
    {
     "data": {
      "text/html": [
       "<html><script type=\"math/tex; mode=display\">\\newcommand{\\Bold}[1]{\\mathbf{#1}}-\\frac{3}{4} \\, \\sqrt{\\frac{4 \\, {\\phi_{1,r}^{BN}}^{2}}{M_{B} M_{N}} - \\frac{8 \\, {\\phi_{1,r}^{BN}} {\\phi_{1,ti}^{BN}}}{M_{B} M_{N}} + \\frac{4 \\, {\\phi_{1,ti}^{BN}}^{2}}{M_{B} M_{N}} + \\frac{9 \\, {\\phi_{2,r}^{BB}}^{2}}{M_{B}^{2}} - \\frac{18 \\, {\\phi_{2,r}^{BB}} {\\phi_{2,r}^{NN}}}{M_{B} M_{N}} + \\frac{9 \\, {\\phi_{2,r}^{NN}}^{2}}{M_{N}^{2}} + \\frac{18 \\, {\\phi_{2,r}^{BB}} {\\phi_{2,ti}^{BB}}}{M_{B}^{2}} - \\frac{18 \\, {\\phi_{2,r}^{NN}} {\\phi_{2,ti}^{BB}}}{M_{B} M_{N}} + \\frac{9 \\, {\\phi_{2,ti}^{BB}}^{2}}{M_{B}^{2}} - \\frac{18 \\, {\\phi_{2,r}^{BB}} {\\phi_{2,ti}^{NN}}}{M_{B} M_{N}} + \\frac{18 \\, {\\phi_{2,r}^{NN}} {\\phi_{2,ti}^{NN}}}{M_{N}^{2}} - \\frac{18 \\, {\\phi_{2,ti}^{BB}} {\\phi_{2,ti}^{NN}}}{M_{B} M_{N}} + \\frac{9 \\, {\\phi_{2,ti}^{NN}}^{2}}{M_{N}^{2}} + \\frac{8 \\, {\\phi_{1,r}^{BN}} {\\phi_{3,r}^{BN}}}{M_{B} M_{N}} - \\frac{8 \\, {\\phi_{1,ti}^{BN}} {\\phi_{3,r}^{BN}}}{M_{B} M_{N}} + \\frac{4 \\, {\\phi_{3,r}^{BN}}^{2}}{M_{B} M_{N}} - \\frac{8 \\, {\\phi_{1,r}^{BN}} {\\phi_{3,ti}^{BN}}}{M_{B} M_{N}} + \\frac{8 \\, {\\phi_{1,ti}^{BN}} {\\phi_{3,ti}^{BN}}}{M_{B} M_{N}} - \\frac{8 \\, {\\phi_{3,r}^{BN}} {\\phi_{3,ti}^{BN}}}{M_{B} M_{N}} + \\frac{4 \\, {\\phi_{3,ti}^{BN}}^{2}}{M_{B} M_{N}}} - \\frac{3 \\, {\\phi_{1,r}^{BN}}}{2 \\, \\sqrt{M_{B}} \\sqrt{M_{N}}} - \\frac{3 \\, {\\phi_{1,ti}^{BN}}}{2 \\, \\sqrt{M_{B}} \\sqrt{M_{N}}} - \\frac{9 \\, {\\phi_{2,r}^{BB}}}{4 \\, M_{B}} - \\frac{9 \\, {\\phi_{2,r}^{NN}}}{4 \\, M_{N}} - \\frac{9 \\, {\\phi_{2,ti}^{BB}}}{4 \\, M_{B}} - \\frac{9 \\, {\\phi_{2,ti}^{NN}}}{4 \\, M_{N}} - \\frac{3 \\, {\\phi_{3,r}^{BN}}}{2 \\, \\sqrt{M_{B}} \\sqrt{M_{N}}} - \\frac{3 \\, {\\phi_{3,ti}^{BN}}}{2 \\, \\sqrt{M_{B}} \\sqrt{M_{N}}} = {\\omega(K)_{TA}}^{2}</script></html>"
      ],
      "text/latex": [
       "\\begin{math}\n",
       "\\newcommand{\\Bold}[1]{\\mathbf{#1}}-\\frac{3}{4} \\, \\sqrt{\\frac{4 \\, {\\phi_{1,r}^{BN}}^{2}}{M_{B} M_{N}} - \\frac{8 \\, {\\phi_{1,r}^{BN}} {\\phi_{1,ti}^{BN}}}{M_{B} M_{N}} + \\frac{4 \\, {\\phi_{1,ti}^{BN}}^{2}}{M_{B} M_{N}} + \\frac{9 \\, {\\phi_{2,r}^{BB}}^{2}}{M_{B}^{2}} - \\frac{18 \\, {\\phi_{2,r}^{BB}} {\\phi_{2,r}^{NN}}}{M_{B} M_{N}} + \\frac{9 \\, {\\phi_{2,r}^{NN}}^{2}}{M_{N}^{2}} + \\frac{18 \\, {\\phi_{2,r}^{BB}} {\\phi_{2,ti}^{BB}}}{M_{B}^{2}} - \\frac{18 \\, {\\phi_{2,r}^{NN}} {\\phi_{2,ti}^{BB}}}{M_{B} M_{N}} + \\frac{9 \\, {\\phi_{2,ti}^{BB}}^{2}}{M_{B}^{2}} - \\frac{18 \\, {\\phi_{2,r}^{BB}} {\\phi_{2,ti}^{NN}}}{M_{B} M_{N}} + \\frac{18 \\, {\\phi_{2,r}^{NN}} {\\phi_{2,ti}^{NN}}}{M_{N}^{2}} - \\frac{18 \\, {\\phi_{2,ti}^{BB}} {\\phi_{2,ti}^{NN}}}{M_{B} M_{N}} + \\frac{9 \\, {\\phi_{2,ti}^{NN}}^{2}}{M_{N}^{2}} + \\frac{8 \\, {\\phi_{1,r}^{BN}} {\\phi_{3,r}^{BN}}}{M_{B} M_{N}} - \\frac{8 \\, {\\phi_{1,ti}^{BN}} {\\phi_{3,r}^{BN}}}{M_{B} M_{N}} + \\frac{4 \\, {\\phi_{3,r}^{BN}}^{2}}{M_{B} M_{N}} - \\frac{8 \\, {\\phi_{1,r}^{BN}} {\\phi_{3,ti}^{BN}}}{M_{B} M_{N}} + \\frac{8 \\, {\\phi_{1,ti}^{BN}} {\\phi_{3,ti}^{BN}}}{M_{B} M_{N}} - \\frac{8 \\, {\\phi_{3,r}^{BN}} {\\phi_{3,ti}^{BN}}}{M_{B} M_{N}} + \\frac{4 \\, {\\phi_{3,ti}^{BN}}^{2}}{M_{B} M_{N}}} - \\frac{3 \\, {\\phi_{1,r}^{BN}}}{2 \\, \\sqrt{M_{B}} \\sqrt{M_{N}}} - \\frac{3 \\, {\\phi_{1,ti}^{BN}}}{2 \\, \\sqrt{M_{B}} \\sqrt{M_{N}}} - \\frac{9 \\, {\\phi_{2,r}^{BB}}}{4 \\, M_{B}} - \\frac{9 \\, {\\phi_{2,r}^{NN}}}{4 \\, M_{N}} - \\frac{9 \\, {\\phi_{2,ti}^{BB}}}{4 \\, M_{B}} - \\frac{9 \\, {\\phi_{2,ti}^{NN}}}{4 \\, M_{N}} - \\frac{3 \\, {\\phi_{3,r}^{BN}}}{2 \\, \\sqrt{M_{B}} \\sqrt{M_{N}}} - \\frac{3 \\, {\\phi_{3,ti}^{BN}}}{2 \\, \\sqrt{M_{B}} \\sqrt{M_{N}}} = {\\omega(K)_{TA}}^{2}\n",
       "\\end{math}"
      ],
      "text/plain": [
       "-3/4*sqrt(4*phi1rBN^2/(M_B*M_N) - 8*phi1rBN*phi1tiBN/(M_B*M_N) + 4*phi1tiBN^2/(M_B*M_N) + 9*phi2rBB^2/M_B^2 - 18*phi2rBB*phi2rNN/(M_B*M_N) + 9*phi2rNN^2/M_N^2 + 18*phi2rBB*phi2tiBB/M_B^2 - 18*phi2rNN*phi2tiBB/(M_B*M_N) + 9*phi2tiBB^2/M_B^2 - 18*phi2rBB*phi2tiNN/(M_B*M_N) + 18*phi2rNN*phi2tiNN/M_N^2 - 18*phi2tiBB*phi2tiNN/(M_B*M_N) + 9*phi2tiNN^2/M_N^2 + 8*phi1rBN*phi3rBN/(M_B*M_N) - 8*phi1tiBN*phi3rBN/(M_B*M_N) + 4*phi3rBN^2/(M_B*M_N) - 8*phi1rBN*phi3tiBN/(M_B*M_N) + 8*phi1tiBN*phi3tiBN/(M_B*M_N) - 8*phi3rBN*phi3tiBN/(M_B*M_N) + 4*phi3tiBN^2/(M_B*M_N)) - 3/2*phi1rBN/(sqrt(M_B)*sqrt(M_N)) - 3/2*phi1tiBN/(sqrt(M_B)*sqrt(M_N)) - 9/4*phi2rBB/M_B - 9/4*phi2rNN/M_N - 9/4*phi2tiBB/M_B - 9/4*phi2tiNN/M_N - 3/2*phi3rBN/(sqrt(M_B)*sqrt(M_N)) - 3/2*phi3tiBN/(sqrt(M_B)*sqrt(M_N)) == omegaKTA^2"
      ]
     },
     "metadata": {},
     "output_type": "display_data"
    },
    {
     "data": {
      "text/html": [
       "<html><script type=\"math/tex; mode=display\">\\newcommand{\\Bold}[1]{\\mathbf{#1}}\\frac{3}{4} \\, \\sqrt{\\frac{4 \\, {\\phi_{1,r}^{BN}}^{2}}{M_{B} M_{N}} - \\frac{8 \\, {\\phi_{1,r}^{BN}} {\\phi_{1,ti}^{BN}}}{M_{B} M_{N}} + \\frac{4 \\, {\\phi_{1,ti}^{BN}}^{2}}{M_{B} M_{N}} + \\frac{9 \\, {\\phi_{2,r}^{BB}}^{2}}{M_{B}^{2}} - \\frac{18 \\, {\\phi_{2,r}^{BB}} {\\phi_{2,r}^{NN}}}{M_{B} M_{N}} + \\frac{9 \\, {\\phi_{2,r}^{NN}}^{2}}{M_{N}^{2}} + \\frac{18 \\, {\\phi_{2,r}^{BB}} {\\phi_{2,ti}^{BB}}}{M_{B}^{2}} - \\frac{18 \\, {\\phi_{2,r}^{NN}} {\\phi_{2,ti}^{BB}}}{M_{B} M_{N}} + \\frac{9 \\, {\\phi_{2,ti}^{BB}}^{2}}{M_{B}^{2}} - \\frac{18 \\, {\\phi_{2,r}^{BB}} {\\phi_{2,ti}^{NN}}}{M_{B} M_{N}} + \\frac{18 \\, {\\phi_{2,r}^{NN}} {\\phi_{2,ti}^{NN}}}{M_{N}^{2}} - \\frac{18 \\, {\\phi_{2,ti}^{BB}} {\\phi_{2,ti}^{NN}}}{M_{B} M_{N}} + \\frac{9 \\, {\\phi_{2,ti}^{NN}}^{2}}{M_{N}^{2}} + \\frac{8 \\, {\\phi_{1,r}^{BN}} {\\phi_{3,r}^{BN}}}{M_{B} M_{N}} - \\frac{8 \\, {\\phi_{1,ti}^{BN}} {\\phi_{3,r}^{BN}}}{M_{B} M_{N}} + \\frac{4 \\, {\\phi_{3,r}^{BN}}^{2}}{M_{B} M_{N}} - \\frac{8 \\, {\\phi_{1,r}^{BN}} {\\phi_{3,ti}^{BN}}}{M_{B} M_{N}} + \\frac{8 \\, {\\phi_{1,ti}^{BN}} {\\phi_{3,ti}^{BN}}}{M_{B} M_{N}} - \\frac{8 \\, {\\phi_{3,r}^{BN}} {\\phi_{3,ti}^{BN}}}{M_{B} M_{N}} + \\frac{4 \\, {\\phi_{3,ti}^{BN}}^{2}}{M_{B} M_{N}}} - \\frac{3 \\, {\\phi_{1,r}^{BN}}}{2 \\, \\sqrt{M_{B}} \\sqrt{M_{N}}} - \\frac{3 \\, {\\phi_{1,ti}^{BN}}}{2 \\, \\sqrt{M_{B}} \\sqrt{M_{N}}} - \\frac{9 \\, {\\phi_{2,r}^{BB}}}{4 \\, M_{B}} - \\frac{9 \\, {\\phi_{2,r}^{NN}}}{4 \\, M_{N}} - \\frac{9 \\, {\\phi_{2,ti}^{BB}}}{4 \\, M_{B}} - \\frac{9 \\, {\\phi_{2,ti}^{NN}}}{4 \\, M_{N}} - \\frac{3 \\, {\\phi_{3,r}^{BN}}}{2 \\, \\sqrt{M_{B}} \\sqrt{M_{N}}} - \\frac{3 \\, {\\phi_{3,ti}^{BN}}}{2 \\, \\sqrt{M_{B}} \\sqrt{M_{N}}} = {\\omega(K)_{LO}}^{2}</script></html>"
      ],
      "text/latex": [
       "\\begin{math}\n",
       "\\newcommand{\\Bold}[1]{\\mathbf{#1}}\\frac{3}{4} \\, \\sqrt{\\frac{4 \\, {\\phi_{1,r}^{BN}}^{2}}{M_{B} M_{N}} - \\frac{8 \\, {\\phi_{1,r}^{BN}} {\\phi_{1,ti}^{BN}}}{M_{B} M_{N}} + \\frac{4 \\, {\\phi_{1,ti}^{BN}}^{2}}{M_{B} M_{N}} + \\frac{9 \\, {\\phi_{2,r}^{BB}}^{2}}{M_{B}^{2}} - \\frac{18 \\, {\\phi_{2,r}^{BB}} {\\phi_{2,r}^{NN}}}{M_{B} M_{N}} + \\frac{9 \\, {\\phi_{2,r}^{NN}}^{2}}{M_{N}^{2}} + \\frac{18 \\, {\\phi_{2,r}^{BB}} {\\phi_{2,ti}^{BB}}}{M_{B}^{2}} - \\frac{18 \\, {\\phi_{2,r}^{NN}} {\\phi_{2,ti}^{BB}}}{M_{B} M_{N}} + \\frac{9 \\, {\\phi_{2,ti}^{BB}}^{2}}{M_{B}^{2}} - \\frac{18 \\, {\\phi_{2,r}^{BB}} {\\phi_{2,ti}^{NN}}}{M_{B} M_{N}} + \\frac{18 \\, {\\phi_{2,r}^{NN}} {\\phi_{2,ti}^{NN}}}{M_{N}^{2}} - \\frac{18 \\, {\\phi_{2,ti}^{BB}} {\\phi_{2,ti}^{NN}}}{M_{B} M_{N}} + \\frac{9 \\, {\\phi_{2,ti}^{NN}}^{2}}{M_{N}^{2}} + \\frac{8 \\, {\\phi_{1,r}^{BN}} {\\phi_{3,r}^{BN}}}{M_{B} M_{N}} - \\frac{8 \\, {\\phi_{1,ti}^{BN}} {\\phi_{3,r}^{BN}}}{M_{B} M_{N}} + \\frac{4 \\, {\\phi_{3,r}^{BN}}^{2}}{M_{B} M_{N}} - \\frac{8 \\, {\\phi_{1,r}^{BN}} {\\phi_{3,ti}^{BN}}}{M_{B} M_{N}} + \\frac{8 \\, {\\phi_{1,ti}^{BN}} {\\phi_{3,ti}^{BN}}}{M_{B} M_{N}} - \\frac{8 \\, {\\phi_{3,r}^{BN}} {\\phi_{3,ti}^{BN}}}{M_{B} M_{N}} + \\frac{4 \\, {\\phi_{3,ti}^{BN}}^{2}}{M_{B} M_{N}}} - \\frac{3 \\, {\\phi_{1,r}^{BN}}}{2 \\, \\sqrt{M_{B}} \\sqrt{M_{N}}} - \\frac{3 \\, {\\phi_{1,ti}^{BN}}}{2 \\, \\sqrt{M_{B}} \\sqrt{M_{N}}} - \\frac{9 \\, {\\phi_{2,r}^{BB}}}{4 \\, M_{B}} - \\frac{9 \\, {\\phi_{2,r}^{NN}}}{4 \\, M_{N}} - \\frac{9 \\, {\\phi_{2,ti}^{BB}}}{4 \\, M_{B}} - \\frac{9 \\, {\\phi_{2,ti}^{NN}}}{4 \\, M_{N}} - \\frac{3 \\, {\\phi_{3,r}^{BN}}}{2 \\, \\sqrt{M_{B}} \\sqrt{M_{N}}} - \\frac{3 \\, {\\phi_{3,ti}^{BN}}}{2 \\, \\sqrt{M_{B}} \\sqrt{M_{N}}} = {\\omega(K)_{LO}}^{2}\n",
       "\\end{math}"
      ],
      "text/plain": [
       "3/4*sqrt(4*phi1rBN^2/(M_B*M_N) - 8*phi1rBN*phi1tiBN/(M_B*M_N) + 4*phi1tiBN^2/(M_B*M_N) + 9*phi2rBB^2/M_B^2 - 18*phi2rBB*phi2rNN/(M_B*M_N) + 9*phi2rNN^2/M_N^2 + 18*phi2rBB*phi2tiBB/M_B^2 - 18*phi2rNN*phi2tiBB/(M_B*M_N) + 9*phi2tiBB^2/M_B^2 - 18*phi2rBB*phi2tiNN/(M_B*M_N) + 18*phi2rNN*phi2tiNN/M_N^2 - 18*phi2tiBB*phi2tiNN/(M_B*M_N) + 9*phi2tiNN^2/M_N^2 + 8*phi1rBN*phi3rBN/(M_B*M_N) - 8*phi1tiBN*phi3rBN/(M_B*M_N) + 4*phi3rBN^2/(M_B*M_N) - 8*phi1rBN*phi3tiBN/(M_B*M_N) + 8*phi1tiBN*phi3tiBN/(M_B*M_N) - 8*phi3rBN*phi3tiBN/(M_B*M_N) + 4*phi3tiBN^2/(M_B*M_N)) - 3/2*phi1rBN/(sqrt(M_B)*sqrt(M_N)) - 3/2*phi1tiBN/(sqrt(M_B)*sqrt(M_N)) - 9/4*phi2rBB/M_B - 9/4*phi2rNN/M_N - 9/4*phi2tiBB/M_B - 9/4*phi2tiNN/M_N - 3/2*phi3rBN/(sqrt(M_B)*sqrt(M_N)) - 3/2*phi3tiBN/(sqrt(M_B)*sqrt(M_N)) == omegaKLO^2"
      ]
     },
     "metadata": {},
     "output_type": "display_data"
    }
   ],
   "source": [
    "Eq_K_LA3ers = (Valors_propis_en_K3ers[0].expand() == omegaKLA^2)\n",
    "Eq_K_TO3ers = (Valors_propis_en_K3ers[1].expand() == omegaKTO^2)\n",
    "Eq_K_TA3ers = (Valors_propis_en_K3ers[2].expand() == omegaKTA^2)\n",
    "Eq_K_LO3ers = (Valors_propis_en_K3ers[3].expand() == omegaKLO^2)\n",
    "\n",
    "Eq_KTA_mes_KLO3ers=(Eq_K_TA3ers + Eq_K_LO3ers)\n",
    "Eq_KLA_mes_KTO3ers=(Eq_K_LA3ers + Eq_K_TO3ers)\n",
    "\n",
    "show(Eq_K_LA3ers)\n",
    "show(Eq_K_TO3ers)\n",
    "show(Eq_K_TA3ers)\n",
    "show(Eq_K_LO3ers)\n",
    "\n",
    "#Eq_KLO_menys_KTA_quadrat3ers=((Eq_K_LO3ers-Eq_K_TA3ers)**2).expand()\n",
    "#Eq_KTO_menys_KLA_quadrat3ers=((Eq_K_TO3ers-Eq_K_LA3ers)**2).expand()\n",
    "\n",
    "#Comprobem que sí són els valors propis:\n",
    "#show(Eq_K_LA3ers.subs(constants).expand())\n",
    "#show(Eq_K_TO3ers.subs(constants).expand())\n",
    "\n",
    "#show(Eq_KLA_mes_KTO3ers.expand())\n",
    "#show(Eq_KTA_mes_KLO3ers.expand())\n",
    "#show(Eq_KLO_menys_KTA_quadrat3ers)\n",
    "#show(Eq_KTO_menys_KLA_quadrat3ers)"
   ]
  },
  {
   "cell_type": "code",
   "execution_count": 44,
   "id": "turkish-amplifier",
   "metadata": {
    "tags": [
     "hide-input"
    ]
   },
   "outputs": [
    {
     "data": {
      "text/html": [
       "<html><script type=\"math/tex; mode=display\">\\newcommand{\\Bold}[1]{\\mathbf{#1}}\\left[{\\phi_{1,r}^{BN}} = 41511, {\\phi_{1,ti}^{BN}} = \\left(-4198041\\right), {\\phi_{2,r}^{BB}} = \\left(-876260\\right), {\\phi_{2,ti}^{BB}} = \\left(-2450096\\right), {\\phi_{2,r}^{NN}} = \\left(-864524\\right), {\\phi_{2,ti}^{NN}} = 1025800, {\\phi_{3,r}^{BN}} = \\left(-3935178\\right), {\\phi_{3,ti}^{BN}} = 304377\\right]</script></html>"
      ],
      "text/latex": [
       "\\begin{math}\n",
       "\\newcommand{\\Bold}[1]{\\mathbf{#1}}\\left[{\\phi_{1,r}^{BN}} = 41511, {\\phi_{1,ti}^{BN}} = \\left(-4198041\\right), {\\phi_{2,r}^{BB}} = \\left(-876260\\right), {\\phi_{2,ti}^{BB}} = \\left(-2450096\\right), {\\phi_{2,r}^{NN}} = \\left(-864524\\right), {\\phi_{2,ti}^{NN}} = 1025800, {\\phi_{3,r}^{BN}} = \\left(-3935178\\right), {\\phi_{3,ti}^{BN}} = 304377\\right]\n",
       "\\end{math}"
      ],
      "text/plain": [
       "[phi1rBN == 41511,\n",
       " phi1tiBN == -4198041,\n",
       " phi2rBB == -876260,\n",
       " phi2tiBB == -2450096,\n",
       " phi2rNN == -864524,\n",
       " phi2tiNN == 1025800,\n",
       " phi3rBN == -3935178,\n",
       " phi3tiBN == 304377]"
      ]
     },
     "execution_count": 44,
     "metadata": {},
     "output_type": "execute_result"
    }
   ],
   "source": [
    "valors_numerics_pla_emprats=[omegaGammaTO==omega_Gamma_TO,\\\n",
    "                             omegaMLO==omega_M_LO,\\\n",
    "                             omegaMTO==omega_M_TO,\\\n",
    "                             omegaMLA==omega_M_LA,\\\n",
    "                             omegaMTA==omega_M_TA,\\\n",
    "                             omegaKLO==omega_K_LO,\\\n",
    "                             omegaKTO==omega_K_TO,\\\n",
    "                             omegaKLA==omega_K_LA,\\\n",
    "                             omegaKTA==omega_K_TO,\\\n",
    "                             M_B==B.mass, M_N==N.mass \\\n",
    "                            ]\n",
    "Equacionspla3ers=[Eq_Gamma_TO3ers.subs(valors_numerics_pla_emprats),\n",
    "                  Eq_M_LO3ers.subs(valors_numerics_pla_emprats),\\\n",
    "                  Eq_M_TO3ers.subs(valors_numerics_pla_emprats),\\\n",
    "                  Eq_M_LA3ers.subs(valors_numerics_pla_emprats),\\\n",
    "                  Eq_M_TA3ers.subs(valors_numerics_pla_emprats),\\\n",
    "                  Eq_K_LO3ers.subs(valors_numerics_pla_emprats),\\\n",
    "                  Eq_K_TO3ers.subs(valors_numerics_pla_emprats),\\\n",
    "                  Eq_K_LA3ers.subs(valors_numerics_pla_emprats),\\\n",
    "                  Eq_K_TA3ers.subs(valors_numerics_pla_emprats)]\n",
    "solucionspla3ers=minimize(norm(vector((Equacionspla3ers))),[1.,1.,1.,1.,1.,1.,1.,1.])\n",
    "Solucionspla3ers=[phi1rBN==round(solucionspla3ers[0]),\\\n",
    "                  phi1tiBN==round(solucionspla3ers[1]),\\\n",
    "                  phi2rBB==round(solucionspla3ers[2]),\\\n",
    "                  phi2tiBB==round(solucionspla3ers[3]),\\\n",
    "                  phi2rNN==round(solucionspla3ers[4]),\\\n",
    "                  phi2tiNN==round(solucionspla3ers[5]),\\\n",
    "                  phi3rBN==round(solucionspla3ers[6]),\\\n",
    "                  phi3tiBN==round(solucionspla3ers[7])]\n",
    "                  \n",
    "Solucionspla3ers"
   ]
  },
  {
   "cell_type": "code",
   "execution_count": 45,
   "id": "packed-remark",
   "metadata": {
    "tags": [
     "hide-input"
    ]
   },
   "outputs": [],
   "source": [
    "#Freqüències de Gamma a M (i les guardem com un dataframe). Calculem 200 punts en este interval\n",
    "freq_planol_Gamma_a_M=real_part(sqrt(np.linalg.eigvals(\\\n",
    "     np.array([D3ers_xy.subs(Solucionspla3ers, a=1, q_x=x*pi, q_y=x*pi/sqrt(3),\\\n",
    "                    M_B=B.mass, M_N=N.mass).numpy(dtype='complex64') for x in arange(0,1,1./200)]))))\n",
    "\n",
    "DF_freq_planol_Gamma_a_M=pd.DataFrame(freq_planol_Gamma_a_M)\n",
    "\n",
    "#Freqüències de M a K (i les guardem com un dataframe). Calculem 100 punts en este interval\n",
    "freq_planol_M_a_K=real_part(sqrt(np.linalg.eigvals(\\\n",
    "     np.array([D3ers_xy.subs(Solucionspla3ers, a=1, q_x=pi*(1+x/3), q_y=pi/sqrt(3)*(1-x),\\\n",
    "                    M_B=B.mass, M_N=N.mass).numpy(dtype='complex64') for x in arange(0,1,1./100)]))))\n",
    "\n",
    "DF_freq_planol_M_a_K=pd.DataFrame(freq_planol_M_a_K)\n",
    "\n",
    "#Freqüències de K a Gamma (i les guardem com un dataframe). Calculem 124 punts en este interval\n",
    "\n",
    "freq_planol_K_a_Gamma=real_part(sqrt(np.linalg.eigvals(\\\n",
    "     np.array([D3ers_xy.subs(Solucionspla3ers, a=1, q_x=n(4*pi/3*(1-x)), q_y=0,\\\n",
    "                    M_B=B.mass, M_N=N.mass).numpy(dtype='complex64') for x in arange(0,1,1./224)]))))\n",
    "\n",
    "DF_freq_planol_K_a_Gamma=pd.DataFrame(freq_planol_K_a_Gamma)\n",
    "\n",
    "DF_freq_calculades_planol=pd.concat([DF_freq_planol_Gamma_a_M,DF_freq_planol_M_a_K,\\\n",
    "                                    DF_freq_planol_K_a_Gamma],ignore_index=True)\n",
    "DF_freq_calculades_planol\n",
    "DF_freq_calculades_planol.to_csv(\"freq_calculades_planol.dat\", sep='\\t', encoding='utf-8', header=False)"
   ]
  },
  {
   "cell_type": "code",
   "execution_count": 46,
   "id": "greenhouse-underground",
   "metadata": {
    "tags": [
     "hide-input"
    ]
   },
   "outputs": [
    {
     "data": {
      "image/png": "[encoded data removed]",
      "text/plain": [
       "Graphics object consisting of 24 graphics primitives"
      ]
     },
     "metadata": {
      "filenames": {
       "image/png": "/home/casimir/Documents/Fisica/TFG/TFG-Semiconductores_2D/Jupyter-Book/_build/jupyter_execute/formulacio_matriu_dinamica_90_0.png"
      }
     },
     "output_type": "display_data"
    }
   ],
   "source": [
    "dades_calculades_planol=loadtxt(\"freq_calculades_planol.dat\")\n",
    "show(\\\n",
    "points(zip(dades_calculades_perp_planol[:200,0], dades_calculades_perp_planol[:200,1]), color=\"blue\")+\\\n",
    "points(zip(dades_calculades_perp_planol[:200,0], dades_calculades_perp_planol[:200,2]), color=\"blue\")+\\\n",
    "points(zip(dades_calculades_perp_planol[200:300,0], dades_calculades_perp_planol[200:300,1]), color=\"blue\")+\\\n",
    "points(zip(dades_calculades_perp_planol[200:300,0], dades_calculades_perp_planol[200:300,2]), color=\"blue\")+\\\n",
    "points(zip(dades_calculades_perp_planol[300:524,0], dades_calculades_perp_planol[300:524,1]), color=\"blue\")+\\\n",
    "points(zip(dades_calculades_perp_planol[300:524,0], dades_calculades_perp_planol[300:524,2]), color=\"blue\")+\\\n",
    "points(zip(dades_calculades_planol[:200,0], dades_calculades_planol[:200,1]), color=\"red\")+\\\n",
    "points(zip(dades_calculades_planol[:200,0], dades_calculades_planol[:200,2]), color=\"red\")+\\\n",
    "points(zip(dades_calculades_planol[:200,0], dades_calculades_planol[:200,3]), color=\"red\")+\\\n",
    "points(zip(dades_calculades_planol[:200,0], dades_calculades_planol[:200,4]), color=\"red\")+\\\n",
    "points(zip(dades_calculades_planol[200:300,0], dades_calculades_planol[200:300,1]), color=\"red\")+\\\n",
    "points(zip(dades_calculades_planol[200:300,0], dades_calculades_planol[200:300,2]), color=\"red\")+\\\n",
    "points(zip(dades_calculades_planol[200:300,0], dades_calculades_planol[200:300,3]), color=\"red\")+\\\n",
    "points(zip(dades_calculades_planol[200:300,0], dades_calculades_planol[200:300,4]), color=\"red\")+\\\n",
    "points(zip(dades_calculades_planol[300:524,0], dades_calculades_planol[300:524,1]), color=\"red\")+\\\n",
    "points(zip(dades_calculades_planol[300:524,0], dades_calculades_planol[300:524,2]), color=\"red\")+\\\n",
    "points(zip(dades_calculades_planol[300:524,0], dades_calculades_planol[300:524,3]), color=\"red\")+\\\n",
    "points(zip(dades_calculades_planol[300:524,0], dades_calculades_planol[300:524,4]), color=\"red\")+\\\n",
    "points(zip(dades[:524,0], dades[:524,1]), color=\"black\") +\\\n",
    "points(zip(dades[524:1048,0], dades[524:1048,1]), color=\"black\") +\\\n",
    "points(zip(dades[1048:1572,0], dades[1048:1572,1]), color=\"black\") +\\\n",
    "points(zip(dades[1572:2096,0], dades[1572:2096,1]), color=\"black\") +\\\n",
    "points(zip(dades[2096:2620,0], dades[2096:2620,1]), color=\"black\") +\\\n",
    "points(zip(dades[2620:3144,0], dades[2620:3144,1]), color=\"black\")     \n",
    "     ,figsize=9) "
   ]
  },
  {
   "cell_type": "markdown",
   "id": "color-madagascar",
   "metadata": {},
   "source": [
    "### Fins 4ts veïns"
   ]
  },
  {
   "cell_type": "code",
   "execution_count": 47,
   "id": "accepted-validation",
   "metadata": {},
   "outputs": [
    {
     "data": {
      "text/html": [
       "<html><script type=\"math/tex; mode=display\">\\newcommand{\\Bold}[1]{\\mathbf{#1}}\\left[\\left[0, 0, 0, 0\\right], \\left[0, 0, 0, 0\\right]\\right]</script></html>"
      ],
      "text/latex": [
       "\\begin{math}\n",
       "\\newcommand{\\Bold}[1]{\\mathbf{#1}}\\left[\\left[0, 0, 0, 0\\right], \\left[0, 0, 0, 0\\right]\\right]\n",
       "\\end{math}"
      ],
      "text/plain": [
       "[[0, 0, 0, 0], [0, 0, 0, 0]]"
      ]
     },
     "execution_count": 47,
     "metadata": {},
     "output_type": "execute_result"
    }
   ],
   "source": [
    "D_Gamma4ts_xy=D4ts_xy.subs(q_x=0,q_y=0)\n",
    "Eq_Gamma_TO4ts=(D_Gamma4ts_xy.eigenvalues()[0]==omegaGammaTO**2)\n",
    "\n",
    "D_M4ts_xy=D4ts_xy.subs(q_x=pi/a,q_y=pi/(sqrt(3)*a))\n",
    "\n",
    "D_M4ts_xy_simplificada=D_M4ts_xy.subs(M_N=M_B)\n",
    "\n",
    "Valors_propis_M4ts=D_M4ts_xy_simplificada.eigenvalues()\n",
    "\n",
    "Valors_propis_en_M4ts=[M_B*Valors_propis_M4ts[i].subs(\n",
    "    phi1rBN=phi1rBN/sqrt(M_N*M_B), phi1tiBN=phi1tiBN/sqrt(M_N*M_B), \n",
    "    phi2rBB=phi2rBB/M_B, phi2tiBB=phi2tiBB/M_B,\n",
    "    phi2rNN=phi2rNN/M_N, phi2tiNN=phi2tiNN/M_N,\n",
    "    phi3rBN=phi3rBN/sqrt(M_N*M_B), phi3tiBN=phi3tiBN/sqrt(M_N*M_B),\n",
    "    phi4rBN=phi4rBN/sqrt(M_N*M_B), phi4tiBN=phi4tiBN/sqrt(M_N*M_B)) for i in range(4)]\n",
    "    \n",
    "\n",
    "Eq_M_TA4ts = (Valors_propis_en_M4ts[0].expand() == omegaMTA^2)\n",
    "Eq_M_LO4ts = (Valors_propis_en_M4ts[1].expand() == omegaMLO^2)\n",
    "Eq_M_LA4ts = (Valors_propis_en_M4ts[2].expand() == omegaMLA^2)\n",
    "Eq_M_TO4ts = (Valors_propis_en_M4ts[3].expand() == omegaMTO^2)\n",
    "\n",
    "D_K4ts_xy=D4ts_xy.subs(q_x=4*pi/(3*a),q_y=0)# phi4tiBN=-phi4rBN)\n",
    "D_K4ts_xy_simplificada=D_K4ts_xy.subs(M_N=M_B)\n",
    "Valors_propis_K4ts=D_K4ts_xy_simplificada.eigenvalues()\n",
    "\n",
    "Valors_propis_en_K4ts=[M_B*Valors_propis_K4ts[i].expand().subs(\n",
    "    phi1rBN=phi1rBN/sqrt(M_N*M_B), phi1tiBN=phi1tiBN/sqrt(M_N*M_B), \n",
    "    phi2rBB=phi2rBB/M_B, phi2tiBB=phi2tiBB/M_B,\n",
    "    phi2rNN=phi2rNN/M_N, phi2tiNN=phi2tiNN/M_N,\n",
    "    phi3rBN=phi3rBN/sqrt(M_N*M_B), phi3tiBN=phi3tiBN/sqrt(M_N*M_B),\n",
    "    phi4rBN=phi4rBN/sqrt(M_N*M_B), phi4tiBN=phi4tiBN/sqrt(M_N*M_B)) for i in range(4)]\n",
    "\n",
    "Eq_K_LA4ts = (Valors_propis_en_K4ts[0].expand() == omegaKLA^2)\n",
    "Eq_K_TO4ts = (Valors_propis_en_K4ts[1].expand() == omegaKTO^2)\n",
    "Eq_K_TA4ts = (Valors_propis_en_K4ts[2].expand() == omegaKTA^2)\n",
    "Eq_K_LO4ts = (Valors_propis_en_K4ts[3].expand() == omegaKLO^2)\n",
    "\n",
    "#Comprobem que sí són els valors propis:\n",
    "#[det(D_Gamma4ts_xy-Valors_propis_en_Gamma4ts[i]) for i in range(4)]\n",
    "[[det(D_M4ts_xy-Valors_propis_en_M4ts[i]) for i in range(4)],[det(D_K4ts_xy-Valors_propis_en_K4ts[i]) for i in range(4)]]"
   ]
  },
  {
   "cell_type": "code",
   "execution_count": 48,
   "id": "czech-cargo",
   "metadata": {
    "tags": [
     "hide-input"
    ]
   },
   "outputs": [
    {
     "data": {
      "text/html": [
       "<html><script type=\"math/tex; mode=display\">\\newcommand{\\Bold}[1]{\\mathbf{#1}}\\left[{\\phi_{1,r}^{BN}} = \\left(-5042763\\right), {\\phi_{1,ti}^{BN}} = \\left(-790366\\right), {\\phi_{2,r}^{BB}} = \\left(-1581776\\right), {\\phi_{2,ti}^{BB}} = \\left(-1536030\\right), {\\phi_{2,r}^{NN}} = \\left(-159002\\right), {\\phi_{2,ti}^{NN}} = 111760, {\\phi_{3,r}^{BN}} = 507887, {\\phi_{3,ti}^{BN}} = \\left(-461212\\right), {\\phi_{4,r}^{BN}} = \\left(-1384192\\right), {\\phi_{4,ti}^{BN}} = 383734\\right]</script></html>"
      ],
      "text/latex": [
       "\\begin{math}\n",
       "\\newcommand{\\Bold}[1]{\\mathbf{#1}}\\left[{\\phi_{1,r}^{BN}} = \\left(-5042763\\right), {\\phi_{1,ti}^{BN}} = \\left(-790366\\right), {\\phi_{2,r}^{BB}} = \\left(-1581776\\right), {\\phi_{2,ti}^{BB}} = \\left(-1536030\\right), {\\phi_{2,r}^{NN}} = \\left(-159002\\right), {\\phi_{2,ti}^{NN}} = 111760, {\\phi_{3,r}^{BN}} = 507887, {\\phi_{3,ti}^{BN}} = \\left(-461212\\right), {\\phi_{4,r}^{BN}} = \\left(-1384192\\right), {\\phi_{4,ti}^{BN}} = 383734\\right]\n",
       "\\end{math}"
      ],
      "text/plain": [
       "[phi1rBN == -5042763,\n",
       " phi1tiBN == -790366,\n",
       " phi2rBB == -1581776,\n",
       " phi2tiBB == -1536030,\n",
       " phi2rNN == -159002,\n",
       " phi2tiNN == 111760,\n",
       " phi3rBN == 507887,\n",
       " phi3tiBN == -461212,\n",
       " phi4rBN == -1384192,\n",
       " phi4tiBN == 383734]"
      ]
     },
     "execution_count": 48,
     "metadata": {},
     "output_type": "execute_result"
    }
   ],
   "source": [
    "valors_numerics_pla_emprats=[omegaGammaTO==omega_Gamma_TO,\\\n",
    "                             omegaMLO==omega_M_LO,\\\n",
    "                             omegaMTO==omega_M_TO,\\\n",
    "                             omegaMLA==omega_M_LA,\\\n",
    "                             omegaMTA==omega_M_TA,\\\n",
    "                             omegaKLO==omega_K_LO,\\\n",
    "                             omegaKTO==omega_K_TO,\\\n",
    "                             omegaKLA==omega_K_LA,\\\n",
    "                             omegaKTA==omega_K_TO,\\\n",
    "                             M_B==B.mass, M_N==N.mass \\\n",
    "                            ]\n",
    "Equacionspla4ts=[Eq_Gamma_TO4ts.subs(valors_numerics_pla_emprats),\n",
    "                  Eq_M_LO4ts.subs(valors_numerics_pla_emprats),\\\n",
    "                  Eq_M_TO4ts.subs(valors_numerics_pla_emprats),\\\n",
    "                  Eq_M_LA4ts.subs(valors_numerics_pla_emprats),\\\n",
    "                  Eq_M_TA4ts.subs(valors_numerics_pla_emprats),\\\n",
    "                  Eq_K_LO4ts.subs(valors_numerics_pla_emprats),\\\n",
    "                  Eq_K_TO4ts.subs(valors_numerics_pla_emprats),\\\n",
    "                  Eq_K_LA4ts.subs(valors_numerics_pla_emprats),\\\n",
    "                  Eq_K_TA4ts.subs(valors_numerics_pla_emprats)]\n",
    "solucionspla4ts=minimize(norm(vector((Equacionspla4ts))),[-5332900.,1.,1.,1.,1.,1.,1.,1.,1.,1.])\n",
    "Solucionspla4ts=[phi1rBN==round(solucionspla4ts[0]),\\\n",
    "                  phi1tiBN==round(solucionspla4ts[1]),\\\n",
    "                  phi2rBB==round(solucionspla4ts[2]),\\\n",
    "                  phi2tiBB==round(solucionspla4ts[3]),\\\n",
    "                  phi2rNN==round(solucionspla4ts[4]),\\\n",
    "                  phi2tiNN==round(solucionspla4ts[5]),\\\n",
    "                  phi3rBN==round(solucionspla4ts[6]),\\\n",
    "                  phi3tiBN==round(solucionspla4ts[7]),\\\n",
    "                  phi4rBN==round(solucionspla4ts[8]),\\\n",
    "                  phi4tiBN==round(solucionspla4ts[9])]\n",
    "                  \n",
    "Solucionspla4ts"
   ]
  },
  {
   "cell_type": "code",
   "execution_count": 49,
   "id": "normal-hartford",
   "metadata": {
    "tags": [
     "hide-input"
    ]
   },
   "outputs": [],
   "source": [
    "#Freqüències de Gamma a M (i les guardem com un dataframe). Calculem 200 punts en este interval\n",
    "freq_planol_Gamma_a_M4ts=real_part(sqrt(np.linalg.eigvals(\\\n",
    "     np.array([D4ts_xy.subs(Solucionspla4ts, a=1, q_x=x*pi, q_y=x*pi/sqrt(3),\\\n",
    "                    M_B=B.mass, M_N=N.mass).numpy(dtype='complex64') for x in arange(0,1,1./200)]))))\n",
    "\n",
    "DF_freq_planol_Gamma_a_M4ts=pd.DataFrame(freq_planol_Gamma_a_M4ts)\n",
    "#Freqüències de M a K (i les guardem com un dataframe). Calculem 100 punts en este interval\n",
    "freq_planol_M_a_K4ts=real_part(sqrt(np.linalg.eigvals(\\\n",
    "     np.array([D4ts_xy.subs(Solucionspla4ts, a=1, q_x=pi*(1+x/3), q_y=pi/sqrt(3)*(1-x),\\\n",
    "                    M_B=B.mass, M_N=N.mass).numpy(dtype='complex64') for x in arange(0,1,1./100)]))))\n",
    "\n",
    "DF_freq_planol_M_a_K4ts=pd.DataFrame(freq_planol_M_a_K4ts)\n",
    "\n",
    "#Freqüències de K a Gamma (i les guardem com un dataframe). Calculem 124 punts en este interval\n",
    "\n",
    "freq_planol_K_a_Gamma4ts=real_part(sqrt(np.linalg.eigvals(\\\n",
    "     np.array([D4ts_xy.subs(Solucionspla4ts, a=1, q_x=n(4*pi/3*(1-x)), q_y=0,\\\n",
    "                    M_B=B.mass, M_N=N.mass).numpy(dtype='complex64') for x in arange(0,1,1./224)]))))\n",
    "\n",
    "DF_freq_planol_K_a_Gamma4ts=pd.DataFrame(freq_planol_K_a_Gamma4ts)"
   ]
  },
  {
   "cell_type": "code",
   "execution_count": 50,
   "id": "mighty-cylinder",
   "metadata": {
    "tags": [
     "hide-input"
    ]
   },
   "outputs": [],
   "source": [
    "DF_freq_calculades_planol4ts=pd.concat([DF_freq_planol_Gamma_a_M4ts,DF_freq_planol_M_a_K4ts,\\\n",
    "                                    DF_freq_planol_K_a_Gamma4ts],ignore_index=True)\n",
    "DF_freq_calculades_planol4ts.to_csv(\"freq_calculades_planol4ts.dat\", sep='\\t', encoding='utf-8', header=False)"
   ]
  },
  {
   "cell_type": "code",
   "execution_count": 51,
   "id": "generous-ending",
   "metadata": {
    "tags": [
     "hide-input"
    ]
   },
   "outputs": [
    {
     "data": {
      "image/png": "[encoded data removed]",
      "text/plain": [
       "Graphics object consisting of 18 graphics primitives"
      ]
     },
     "metadata": {
      "filenames": {
       "image/png": "/home/casimir/Documents/Fisica/TFG/TFG-Semiconductores_2D/Jupyter-Book/_build/jupyter_execute/formulacio_matriu_dinamica_96_0.png"
      }
     },
     "output_type": "display_data"
    }
   ],
   "source": [
    "dades_calculades_planol4ts=loadtxt(\"freq_calculades_planol4ts.dat\")\n",
    "show(\\\n",
    "points(zip(dades_calculades_planol4ts[:200,0]/524*30, dades_calculades_planol4ts[:200,1]), color=\"red\")+\\\n",
    "points(zip(dades_calculades_planol4ts[:200,0]/524*30, dades_calculades_planol4ts[:200,2]), color=\"red\")+\\\n",
    "points(zip(dades_calculades_planol4ts[:200,0]/524*30, dades_calculades_planol4ts[:200,3]), color=\"red\")+\\\n",
    "points(zip(dades_calculades_planol4ts[:200,0]/524*30, dades_calculades_planol4ts[:200,4]), color=\"red\")+\\\n",
    "points(zip(dades_calculades_planol4ts[200:300,0]/524*30, dades_calculades_planol4ts[200:300,1]), color=\"blue\")+\\\n",
    "points(zip(dades_calculades_planol4ts[200:300,0]/524*30, dades_calculades_planol4ts[200:300,2]), color=\"blue\")+\\\n",
    "points(zip(dades_calculades_planol4ts[200:300,0]/524*30, dades_calculades_planol4ts[200:300,3]), color=\"blue\")+\\\n",
    "points(zip(dades_calculades_planol4ts[200:300,0]/524*30, dades_calculades_planol4ts[200:300,4]), color=\"blue\")+\\\n",
    "points(zip(dades_calculades_planol4ts[300:524,0]/524*30, dades_calculades_planol4ts[300:524,1]), color=\"green\")+\\\n",
    "points(zip(dades_calculades_planol4ts[300:524,0]/524*30, dades_calculades_planol4ts[300:524,2]), color=\"green\")+\\\n",
    "points(zip(dades_calculades_planol4ts[300:524,0]/524*30, dades_calculades_planol4ts[300:524,3]), color=\"green\")+\\\n",
    "points(zip(dades_calculades_planol4ts[300:524,0]/524*30, dades_calculades_planol4ts[300:524,4]), color=\"green\")+\\\n",
    "points(zip(dades[:524,0]/524*30, dades[:524,1]), color=\"black\") +\\\n",
    "points(zip(dades[524:1048,0]/524*30, dades[524:1048,1]), color=\"black\") +\\\n",
    "points(zip(dades[1048:1572,0]/524*30, dades[1048:1572,1]), color=\"black\") +\\\n",
    "points(zip(dades[1572:2096,0]/525*30, dades[1572:2096,1]), color=\"black\") +\\\n",
    "points(zip(dades[2096:2620,0]/525*30, dades[2096:2620,1]), color=\"black\") +\\\n",
    "points(zip(dades[2620:3144,0]/525*30, dades[2620:3144,1]), color=\"black\")     \n",
    "     ,figsize=9) "
   ]
  },
  {
   "cell_type": "raw",
   "id": "cosmetic-cycle",
   "metadata": {},
   "source": [
    "Eq_freq_K3ers=((Eq_K_LO3ers+Eq_K_TA3ers).rhs()==(Eq_K_TO3ers+Eq_K_LA3ers).rhs())\n",
    "Eq_freq_K3ers"
   ]
  },
  {
   "cell_type": "raw",
   "id": "subject-catalyst",
   "metadata": {},
   "source": [
    "Per poder calcular les constants de força necessitem que es complisca esta equació,"
   ]
  },
  {
   "cell_type": "raw",
   "id": "productive-bunch",
   "metadata": {},
   "source": [
    "omega_K_LO=1304\n",
    "#omega_K_TO=1204\n",
    "omega_K_LA=1080\n",
    "omega_K_TA=878\n",
    "\n",
    "omega_K_TO=sqrt(omega_K_LO**2+omega_K_TA**2-omega_K_LA**2)\n",
    "#show(EqKTO)"
   ]
  },
  {
   "cell_type": "markdown",
   "id": "unavailable-interference",
   "metadata": {},
   "source": [
    "{% bibliography %}"
   ]
  },
  {
   "cell_type": "code",
   "execution_count": null,
   "id": "horizontal-stone",
   "metadata": {},
   "outputs": [],
   "source": []
  }
 ],
 "metadata": {
  "jupytext": {
   "text_representation": {
    "extension": ".md",
    "format_name": "myst",
    "format_version": 0.13,
    "jupytext_version": "1.10.3"
   }
  },
  "kernelspec": {
   "display_name": "SageMath 9.2",
   "language": "sage",
   "name": "sagemath"
  },
  "language_info": {
   "codemirror_mode": {
    "name": "ipython",
    "version": 3
   },
   "file_extension": ".py",
   "mimetype": "text/x-python",
   "name": "python",
   "nbconvert_exporter": "python",
   "pygments_lexer": "ipython3",
   "version": "3.9.2"
  },
  "source_map": [
   14,
   18,
   24,
   29,
   35,
   57,
   65,
   71,
   75,
   82,
   90,
   105,
   114,
   126,
   130,
   134,
   150,
   205,
   209,
   257,
   452,
   460,
   480,
   484,
   488,
   492,
   502,
   506,
   510,
   514,
   517,
   521,
   525,
   555,
   559,
   563,
   567,
   580,
   585,
   592,
   597,
   601,
   606,
   611,
   616,
   621,
   634,
   639,
   650,
   654,
   668,
   674,
   680,
   691,
   702,
   713,
   722,
   742,
   746,
   750,
   754,
   761,
   765,
   800,
   804,
   822,
   837,
   848,
   859,
   870,
   879,
   897,
   901,
   906,
   928,
   932,
   940,
   946,
   950,
   957,
   963,
   968,
   995,
   1002,
   1026,
   1031,
   1058,
   1062,
   1091,
   1127,
   1158,
   1188,
   1192,
   1236,
   1274,
   1299,
   1307,
   1333,
   1338,
   1342,
   1350,
   1354
  ]
 },
 "nbformat": 4,
 "nbformat_minor": 5
}