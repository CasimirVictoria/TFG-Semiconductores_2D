{
 "cells": [
  {
   "cell_type": "markdown",
   "id": "final-integer",
   "metadata": {},
   "source": [
    "# Descripció del cristall de BN\n",
    "\n",
    "```{note}\n",
    "En este notebook va la major part del codi. De fet és on estan tots els càlculs.\n",
    "```"
   ]
  },
  {
   "cell_type": "code",
   "execution_count": 1,
   "id": "frozen-plymouth",
   "metadata": {},
   "outputs": [],
   "source": [
    "# Netejem totes les variables \n",
    "reset()"
   ]
  },
  {
   "cell_type": "code",
   "execution_count": 2,
   "id": "cloudy-uruguay",
   "metadata": {
    "tags": [
     "hide-input"
    ]
   },
   "outputs": [],
   "source": [
    "# Eixida per defecte en LaTeX. Nota: en firefox cambiar \"Math Renderer a Mathml\" per visualitzar millor tant la web com el notebook. \n",
    "%display latex\n",
    "\n",
    "# Importe les biblioteques i mètodes que empre al llarg de l'script\n",
    "from pylab import loadtxt\n",
    "import pandas as pd\n",
    "\n",
    "import numpy\n",
    "from numpy import arange\n",
    "#from myst_nb import glue\n",
    "\n",
    "# Defineisc algunes funcions que empraré més endavant\n",
    "def matriu_simplificada(matriu,m,n):\n",
    "    matsimp=matriu\n",
    "    for i in range(m):\n",
    "        for j in range(n):\n",
    "             matsimp[i,j]=matriu[i,j].full_simplify()\n",
    "    \n",
    "    return matsimp"
   ]
  },
  {
   "cell_type": "markdown",
   "id": "honest-marriage",
   "metadata": {},
   "source": [
    "Donat que el càlcul dels modes de vibració comença per establir la geomeria del cristall en equilibri, comprobem que el $BN$ monocapa es tracta d'un cristall bidimensional hexagonal de base diatómica la cel·la unitat del qual ve donada per (dades proporcionades):\n",
    "\n",
    "$$\n",
    "\\vec a_1=a(1,0);\\qquad\\vec a_2=a\\left(-\\frac{1}{2},\\frac{\\sqrt{3}}{2}\\right);\n",
    "$$"
   ]
  },
  {
   "cell_type": "code",
   "execution_count": 3,
   "id": "worldwide-singer",
   "metadata": {
    "tags": [
     "hide-input"
    ]
   },
   "outputs": [],
   "source": [
    "var('a', domain='positive')\n",
    "a_1=a*vector([1,0])\n",
    "a_2=a*vector([-1/2,sqrt(3)/2])"
   ]
  },
  {
   "cell_type": "markdown",
   "id": "expensive-guitar",
   "metadata": {},
   "source": [
    "Comprobem que efectivament els dos vectors base formen un angle de"
   ]
  },
  {
   "cell_type": "code",
   "execution_count": 4,
   "id": "dependent-plant",
   "metadata": {
    "tags": [
     "hide-input"
    ]
   },
   "outputs": [
    {
     "data": {
      "text/html": [
       "<html><script type=\"math/tex; mode=display\">\\newcommand{\\Bold}[1]{\\mathbf{#1}}\\frac{2}{3} \\, \\pi \\phantom{\\verb!x!}\\verb|radians|</script></html>"
      ],
      "text/latex": [
       "\\begin{math}\n",
       "\\newcommand{\\Bold}[1]{\\mathbf{#1}}\\frac{2}{3} \\, \\pi \\phantom{\\verb!x!}\\verb|radians|\n",
       "\\end{math}"
      ],
      "text/plain": [
       "2/3*pi ' radians'"
      ]
     },
     "metadata": {},
     "output_type": "display_data"
    }
   ],
   "source": [
    "angle=arccos(a_1*a_2/(norm(a_1)*norm(a_2)))\n",
    "#glue(\"angle_cela\", angle, display=False)\n",
    "show(angle, \" radians\")\n",
    "#In-line text; {glue:}`angle`"
   ]
  },
  {
   "cell_type": "markdown",
   "id": "exposed-degree",
   "metadata": {},
   "source": [
    "Numerem les cel·les unitat amb un índex vectorial $\\vec l=\\left( l_1, l_2\\right)$.\n",
    "\n",
    "\n",
    "Les posicions dels nucs són $\\vec R_{\\vec l}=l_1\\vec{a}_1+l_2\\vec{a}_2$<p>\n",
    "Visualitzem una regió de la xarxa hexagonal, amb els corresponents nucs (que no àtoms), així com la corresponent cel·la unitat,"
   ]
  },
  {
   "cell_type": "code",
   "execution_count": 5,
   "id": "literary-consortium",
   "metadata": {
    "tags": [
     "hide-input"
    ]
   },
   "outputs": [
    {
     "data": {
      "image/png": "[encoded data removed]",
      "text/plain": [
       "Graphics object consisting of 9 graphics primitives"
      ]
     },
     "metadata": {
      "filenames": {
       "image/png": "/home/casimir/Documents/Fisica/TFG/TFG-Semiconductores_2D/Jupyter-Book/_build/jupyter_execute/formulacio_matriu_dinamica_8_0.png"
      }
     },
     "output_type": "display_data"
    }
   ],
   "source": [
    "nucs=points([l_1*a_1/a+l_2*a_2/a for l_1 in range(-3, 4) for l_2 in range(-3,4)], \n",
    "             size=40, color=\"blue\", frame=False)\n",
    "\n",
    "show(nucs+\n",
    "    line([(0,0),(a_1/a)],color=\"red\")+\n",
    "     line([(0,0),(a_2/a)],color=\"red\")+\n",
    "     line([(a_1/a),(a_1/a+a_2/a)],color=\"red\")+\n",
    "     line([(a_2/a),(a_2/a+a_1/a)],color=\"red\")+\n",
    "     line([(a_2/a),(a_1/a+2*a_2/a)],linestyle=\"--\")+\n",
    "     line([(a_1/a+2*a_2/a),(2*a_1/a+2*a_2/a)],linestyle=\"--\")+\n",
    "     line([(2*a_1/a+2*a_2/a),(2*a_1/a+a_2/a)],linestyle=\"--\")+\n",
    "     line([(2*a_1/a+a_2/a),(a_1/a)],linestyle=\"--\"), figsize=4)"
   ]
  },
  {
   "cell_type": "markdown",
   "id": "developmental-width",
   "metadata": {},
   "source": [
    "Les posicions atòmiques d'equilibri en la cel·la unitat són (també proporcionades com a dades):\n",
    "\n",
    "$$\n",
    "\\vec R_B=\\frac{1}{3}\\vec{a_1}+2\\vec{a_2}\\qquad\n",
    "\\vec R_N=\\frac{2}{3}\\vec{a_1}+\\frac{1}{3}\\vec{a_2}\n",
    "$$"
   ]
  },
  {
   "cell_type": "code",
   "execution_count": 6,
   "id": "detected-parks",
   "metadata": {
    "tags": [
     "hide-input"
    ]
   },
   "outputs": [
    {
     "data": {
      "image/png": "[encoded data removed]",
      "text/plain": [
       "Graphics object consisting of 6 graphics primitives"
      ]
     },
     "metadata": {
      "filenames": {
       "image/png": "/home/casimir/Documents/Fisica/TFG/TFG-Semiconductores_2D/Jupyter-Book/_build/jupyter_execute/formulacio_matriu_dinamica_10_0.png"
      }
     },
     "output_type": "display_data"
    }
   ],
   "source": [
    "r_B=1/3*a_1+2/3*a_2; r_N=2/3*a_1+1/3*a_2\n",
    "show(arrow((0,0),(a_1/a),color=\"blue\")+\n",
    "      arrow((0,0),(a_2/a),color=\"red\")+\n",
    "      line([(a_1/a),(a_1/a+a_2/a)],linestyle=\"--\",color=\"red\")+\n",
    "      line([(a_2/a),(a_2/a+a_1/a)],linestyle=\"--\",color=\"red\")+\n",
    "      point(r_B/a, size=120,color=\"blue\")+\n",
    "      point(r_N/a, size=100,color=\"red\"), frame=False, figsize=4)"
   ]
  },
  {
   "cell_type": "markdown",
   "id": "several-distance",
   "metadata": {},
   "source": [
    "## Identificació dels veins segons la seua distància\n",
    "\n",
    "Per construir la matriu dinàmica necessitem com a pas previ classificar el átoms del cristall segons la seua distància als àtoms de la cel·la unitat, ja que els classificarem com primers, segons, tercers ... veïns segons aquesta distància i els assignarem un tensor de constants de forces que dependrá de a quina familia de veïns pertanyen."
   ]
  },
  {
   "cell_type": "code",
   "execution_count": 7,
   "id": "atmospheric-cleveland",
   "metadata": {
    "tags": [
     "hide-input"
    ]
   },
   "outputs": [
    {
     "data": {
      "image/png": "[encoded data removed]",
      "text/plain": [
       "Graphics object consisting of 2 graphics primitives"
      ]
     },
     "metadata": {
      "filenames": {
       "image/png": "/home/casimir/Documents/Fisica/TFG/TFG-Semiconductores_2D/Jupyter-Book/_build/jupyter_execute/formulacio_matriu_dinamica_12_0.png"
      }
     },
     "output_type": "display_data"
    }
   ],
   "source": [
    "\n",
    "#Posicins d'equilibri dels àtoms\n",
    "def RB(l_1,l_2):\n",
    "    return (l_1*a_1+l_2*a_2+r_B)\n",
    "\n",
    "def RN(l_1,l_2):\n",
    "    return (l_1*a_1+l_2*a_2+r_N)\n",
    "\n",
    "AtomosB=points([RB(l_1,l_2)/a for l_1 in range(-3, 4) for l_2 in range(-3,4)],size=20,color='blue')\n",
    "AtomosN=points([RN(l_1,l_2)/a for l_1 in range(-3, 4) for l_2 in range(-3,4)],size=20,color='red')\n",
    "\n",
    "show(AtomosB+AtomosN, figsize=4)"
   ]
  },
  {
   "cell_type": "code",
   "execution_count": 8,
   "id": "blank-lightning",
   "metadata": {
    "tags": [
     "hide-input",
     "output_scroll",
     "hide-output"
    ]
   },
   "outputs": [
    {
     "data": {
      "text/html": [
       "<div class=\"notruncate\">\n",
       "<table  class=\"table_form\">\n",
       "<tbody>\n",
       "<tr class =\"row-a\">\n",
       "<td><table border=\"1\" class=\"dataframe\">\n",
       "  <thead>\n",
       "    <tr style=\"text-align: right;\">\n",
       "      <th><script type=\"math/tex\">\\alpha\\prime</script></th>\n",
       "      <th><script type=\"math/tex\">\\alpha</script></th>\n",
       "      <th><script type=\"math/tex\">l_1</script></th>\n",
       "      <th><script type=\"math/tex\">l_2</script></th>\n",
       "      <th><script type=\"math/tex\">\\hat R</script></th>\n",
       "      <th>Distancia</th>\n",
       "    </tr>\n",
       "  </thead>\n",
       "  <tbody>\n",
       "    <tr>\n",
       "      <td>1</td>\n",
       "      <td>1</td>\n",
       "      <td>0</td>\n",
       "      <td>0</td>\n",
       "      <td>[0, 0]</td>\n",
       "      <td>0</td>\n",
       "    </tr>\n",
       "    <tr>\n",
       "      <td>2</td>\n",
       "      <td>2</td>\n",
       "      <td>0</td>\n",
       "      <td>0</td>\n",
       "      <td>[0, 0]</td>\n",
       "      <td>0</td>\n",
       "    </tr>\n",
       "    <tr>\n",
       "      <td>1</td>\n",
       "      <td>2</td>\n",
       "      <td>-1</td>\n",
       "      <td>0</td>\n",
       "      <td>[-3/2*sqrt(1/3), -1/2*sqrt(3)*sqrt(1/3)]</td>\n",
       "      <td>sqrt(1/3)</td>\n",
       "    </tr>\n",
       "    <tr>\n",
       "      <td>1</td>\n",
       "      <td>2</td>\n",
       "      <td>0</td>\n",
       "      <td>0</td>\n",
       "      <td>[3/2*sqrt(1/3), -1/2*sqrt(3)*sqrt(1/3)]</td>\n",
       "      <td>sqrt(1/3)</td>\n",
       "    </tr>\n",
       "    <tr>\n",
       "      <td>1</td>\n",
       "      <td>2</td>\n",
       "      <td>0</td>\n",
       "      <td>1</td>\n",
       "      <td>[0, sqrt(3)*sqrt(1/3)]</td>\n",
       "      <td>sqrt(1/3)</td>\n",
       "    </tr>\n",
       "    <tr>\n",
       "      <td>2</td>\n",
       "      <td>1</td>\n",
       "      <td>0</td>\n",
       "      <td>-1</td>\n",
       "      <td>[0, -sqrt(3)*sqrt(1/3)]</td>\n",
       "      <td>sqrt(1/3)</td>\n",
       "    </tr>\n",
       "    <tr>\n",
       "      <td>2</td>\n",
       "      <td>1</td>\n",
       "      <td>0</td>\n",
       "      <td>0</td>\n",
       "      <td>[-3/2*sqrt(1/3), 1/2*sqrt(3)*sqrt(1/3)]</td>\n",
       "      <td>sqrt(1/3)</td>\n",
       "    </tr>\n",
       "    <tr>\n",
       "      <td>2</td>\n",
       "      <td>1</td>\n",
       "      <td>1</td>\n",
       "      <td>0</td>\n",
       "      <td>[3/2*sqrt(1/3), 1/2*sqrt(3)*sqrt(1/3)]</td>\n",
       "      <td>sqrt(1/3)</td>\n",
       "    </tr>\n",
       "    <tr>\n",
       "      <td>1</td>\n",
       "      <td>1</td>\n",
       "      <td>-1</td>\n",
       "      <td>-1</td>\n",
       "      <td>[-1/2, -1/2*sqrt(3)]</td>\n",
       "      <td>1</td>\n",
       "    </tr>\n",
       "    <tr>\n",
       "      <td>1</td>\n",
       "      <td>1</td>\n",
       "      <td>-1</td>\n",
       "      <td>0</td>\n",
       "      <td>[-1, 0]</td>\n",
       "      <td>1</td>\n",
       "    </tr>\n",
       "    <tr>\n",
       "      <td>1</td>\n",
       "      <td>1</td>\n",
       "      <td>0</td>\n",
       "      <td>-1</td>\n",
       "      <td>[1/2, -1/2*sqrt(3)]</td>\n",
       "      <td>1</td>\n",
       "    </tr>\n",
       "    <tr>\n",
       "      <td>1</td>\n",
       "      <td>1</td>\n",
       "      <td>0</td>\n",
       "      <td>1</td>\n",
       "      <td>[-1/2, 1/2*sqrt(3)]</td>\n",
       "      <td>1</td>\n",
       "    </tr>\n",
       "    <tr>\n",
       "      <td>1</td>\n",
       "      <td>1</td>\n",
       "      <td>1</td>\n",
       "      <td>0</td>\n",
       "      <td>[1, 0]</td>\n",
       "      <td>1</td>\n",
       "    </tr>\n",
       "    <tr>\n",
       "      <td>1</td>\n",
       "      <td>1</td>\n",
       "      <td>1</td>\n",
       "      <td>1</td>\n",
       "      <td>[1/2, 1/2*sqrt(3)]</td>\n",
       "      <td>1</td>\n",
       "    </tr>\n",
       "    <tr>\n",
       "      <td>2</td>\n",
       "      <td>2</td>\n",
       "      <td>-1</td>\n",
       "      <td>-1</td>\n",
       "      <td>[-1/2, -1/2*sqrt(3)]</td>\n",
       "      <td>1</td>\n",
       "    </tr>\n",
       "    <tr>\n",
       "      <td>2</td>\n",
       "      <td>2</td>\n",
       "      <td>-1</td>\n",
       "      <td>0</td>\n",
       "      <td>[-1, 0]</td>\n",
       "      <td>1</td>\n",
       "    </tr>\n",
       "    <tr>\n",
       "      <td>2</td>\n",
       "      <td>2</td>\n",
       "      <td>0</td>\n",
       "      <td>-1</td>\n",
       "      <td>[1/2, -1/2*sqrt(3)]</td>\n",
       "      <td>1</td>\n",
       "    </tr>\n",
       "    <tr>\n",
       "      <td>2</td>\n",
       "      <td>2</td>\n",
       "      <td>0</td>\n",
       "      <td>1</td>\n",
       "      <td>[-1/2, 1/2*sqrt(3)]</td>\n",
       "      <td>1</td>\n",
       "    </tr>\n",
       "    <tr>\n",
       "      <td>2</td>\n",
       "      <td>2</td>\n",
       "      <td>1</td>\n",
       "      <td>0</td>\n",
       "      <td>[1, 0]</td>\n",
       "      <td>1</td>\n",
       "    </tr>\n",
       "    <tr>\n",
       "      <td>2</td>\n",
       "      <td>2</td>\n",
       "      <td>1</td>\n",
       "      <td>1</td>\n",
       "      <td>[1/2, 1/2*sqrt(3)]</td>\n",
       "      <td>1</td>\n",
       "    </tr>\n",
       "    <tr>\n",
       "      <td>1</td>\n",
       "      <td>2</td>\n",
       "      <td>-1</td>\n",
       "      <td>-1</td>\n",
       "      <td>[0, -sqrt(3)*sqrt(1/3)]</td>\n",
       "      <td>2*sqrt(1/3)</td>\n",
       "    </tr>\n",
       "    <tr>\n",
       "      <td>1</td>\n",
       "      <td>2</td>\n",
       "      <td>-1</td>\n",
       "      <td>1</td>\n",
       "      <td>[-3/2*sqrt(1/3), 1/2*sqrt(3)*sqrt(1/3)]</td>\n",
       "      <td>2*sqrt(1/3)</td>\n",
       "    </tr>\n",
       "    <tr>\n",
       "      <td>1</td>\n",
       "      <td>2</td>\n",
       "      <td>1</td>\n",
       "      <td>1</td>\n",
       "      <td>[3/2*sqrt(1/3), 1/2*sqrt(3)*sqrt(1/3)]</td>\n",
       "      <td>2*sqrt(1/3)</td>\n",
       "    </tr>\n",
       "    <tr>\n",
       "      <td>2</td>\n",
       "      <td>1</td>\n",
       "      <td>-1</td>\n",
       "      <td>-1</td>\n",
       "      <td>[-3/2*sqrt(1/3), -1/2*sqrt(3)*sqrt(1/3)]</td>\n",
       "      <td>2*sqrt(1/3)</td>\n",
       "    </tr>\n",
       "    <tr>\n",
       "      <td>2</td>\n",
       "      <td>1</td>\n",
       "      <td>1</td>\n",
       "      <td>-1</td>\n",
       "      <td>[3/2*sqrt(1/3), -1/2*sqrt(3)*sqrt(1/3)]</td>\n",
       "      <td>2*sqrt(1/3)</td>\n",
       "    </tr>\n",
       "    <tr>\n",
       "      <td>2</td>\n",
       "      <td>1</td>\n",
       "      <td>1</td>\n",
       "      <td>1</td>\n",
       "      <td>[0, sqrt(3)*sqrt(1/3)]</td>\n",
       "      <td>2*sqrt(1/3)</td>\n",
       "    </tr>\n",
       "    <tr>\n",
       "      <td>1</td>\n",
       "      <td>2</td>\n",
       "      <td>-2</td>\n",
       "      <td>-1</td>\n",
       "      <td>[-3/7*sqrt(7/3), -2/7*sqrt(3)*sqrt(7/3)]</td>\n",
       "      <td>sqrt(7/3)</td>\n",
       "    </tr>\n",
       "    <tr>\n",
       "      <td>1</td>\n",
       "      <td>2</td>\n",
       "      <td>-2</td>\n",
       "      <td>0</td>\n",
       "      <td>[-9/14*sqrt(7/3), -1/14*sqrt(3)*sqrt(7/3)]</td>\n",
       "      <td>sqrt(7/3)</td>\n",
       "    </tr>\n",
       "    <tr>\n",
       "      <td>1</td>\n",
       "      <td>2</td>\n",
       "      <td>0</td>\n",
       "      <td>-1</td>\n",
       "      <td>[3/7*sqrt(7/3), -2/7*sqrt(3)*sqrt(7/3)]</td>\n",
       "      <td>sqrt(7/3)</td>\n",
       "    </tr>\n",
       "    <tr>\n",
       "      <td>1</td>\n",
       "      <td>2</td>\n",
       "      <td>0</td>\n",
       "      <td>2</td>\n",
       "      <td>[-3/14*sqrt(7/3), 5/14*sqrt(3)*sqrt(7/3)]</td>\n",
       "      <td>sqrt(7/3)</td>\n",
       "    </tr>\n",
       "    <tr>\n",
       "      <td>1</td>\n",
       "      <td>2</td>\n",
       "      <td>1</td>\n",
       "      <td>0</td>\n",
       "      <td>[9/14*sqrt(7/3), -1/14*sqrt(3)*sqrt(7/3)]</td>\n",
       "      <td>sqrt(7/3)</td>\n",
       "    </tr>\n",
       "    <tr>\n",
       "      <td>1</td>\n",
       "      <td>2</td>\n",
       "      <td>1</td>\n",
       "      <td>2</td>\n",
       "      <td>[3/14*sqrt(7/3), 5/14*sqrt(3)*sqrt(7/3)]</td>\n",
       "      <td>sqrt(7/3)</td>\n",
       "    </tr>\n",
       "    <tr>\n",
       "      <td>2</td>\n",
       "      <td>1</td>\n",
       "      <td>-1</td>\n",
       "      <td>-2</td>\n",
       "      <td>[-3/14*sqrt(7/3), -5/14*sqrt(3)*sqrt(7/3)]</td>\n",
       "      <td>sqrt(7/3)</td>\n",
       "    </tr>\n",
       "    <tr>\n",
       "      <td>2</td>\n",
       "      <td>1</td>\n",
       "      <td>-1</td>\n",
       "      <td>0</td>\n",
       "      <td>[-9/14*sqrt(7/3), 1/14*sqrt(3)*sqrt(7/3)]</td>\n",
       "      <td>sqrt(7/3)</td>\n",
       "    </tr>\n",
       "    <tr>\n",
       "      <td>2</td>\n",
       "      <td>1</td>\n",
       "      <td>0</td>\n",
       "      <td>-2</td>\n",
       "      <td>[3/14*sqrt(7/3), -5/14*sqrt(3)*sqrt(7/3)]</td>\n",
       "      <td>sqrt(7/3)</td>\n",
       "    </tr>\n",
       "    <tr>\n",
       "      <td>2</td>\n",
       "      <td>1</td>\n",
       "      <td>0</td>\n",
       "      <td>1</td>\n",
       "      <td>[-3/7*sqrt(7/3), 2/7*sqrt(3)*sqrt(7/3)]</td>\n",
       "      <td>sqrt(7/3)</td>\n",
       "    </tr>\n",
       "    <tr>\n",
       "      <td>2</td>\n",
       "      <td>1</td>\n",
       "      <td>2</td>\n",
       "      <td>0</td>\n",
       "      <td>[9/14*sqrt(7/3), 1/14*sqrt(3)*sqrt(7/3)]</td>\n",
       "      <td>sqrt(7/3)</td>\n",
       "    </tr>\n",
       "    <tr>\n",
       "      <td>2</td>\n",
       "      <td>1</td>\n",
       "      <td>2</td>\n",
       "      <td>1</td>\n",
       "      <td>[3/7*sqrt(7/3), 2/7*sqrt(3)*sqrt(7/3)]</td>\n",
       "      <td>sqrt(7/3)</td>\n",
       "    </tr>\n",
       "    <tr>\n",
       "      <td>1</td>\n",
       "      <td>1</td>\n",
       "      <td>-2</td>\n",
       "      <td>-1</td>\n",
       "      <td>[-1/2*sqrt(3), -1/2]</td>\n",
       "      <td>sqrt(3)</td>\n",
       "    </tr>\n",
       "    <tr>\n",
       "      <td>1</td>\n",
       "      <td>1</td>\n",
       "      <td>-1</td>\n",
       "      <td>-2</td>\n",
       "      <td>[0, -1]</td>\n",
       "      <td>sqrt(3)</td>\n",
       "    </tr>\n",
       "    <tr>\n",
       "      <td>1</td>\n",
       "      <td>1</td>\n",
       "      <td>-1</td>\n",
       "      <td>1</td>\n",
       "      <td>[-1/2*sqrt(3), 1/2]</td>\n",
       "      <td>sqrt(3)</td>\n",
       "    </tr>\n",
       "    <tr>\n",
       "      <td>1</td>\n",
       "      <td>1</td>\n",
       "      <td>1</td>\n",
       "      <td>-1</td>\n",
       "      <td>[1/2*sqrt(3), -1/2]</td>\n",
       "      <td>sqrt(3)</td>\n",
       "    </tr>\n",
       "    <tr>\n",
       "      <td>1</td>\n",
       "      <td>1</td>\n",
       "      <td>1</td>\n",
       "      <td>2</td>\n",
       "      <td>[0, 1]</td>\n",
       "      <td>sqrt(3)</td>\n",
       "    </tr>\n",
       "    <tr>\n",
       "      <td>1</td>\n",
       "      <td>1</td>\n",
       "      <td>2</td>\n",
       "      <td>1</td>\n",
       "      <td>[1/2*sqrt(3), 1/2]</td>\n",
       "      <td>sqrt(3)</td>\n",
       "    </tr>\n",
       "    <tr>\n",
       "      <td>2</td>\n",
       "      <td>2</td>\n",
       "      <td>-2</td>\n",
       "      <td>-1</td>\n",
       "      <td>[-1/2*sqrt(3), -1/2]</td>\n",
       "      <td>sqrt(3)</td>\n",
       "    </tr>\n",
       "    <tr>\n",
       "      <td>2</td>\n",
       "      <td>2</td>\n",
       "      <td>-1</td>\n",
       "      <td>-2</td>\n",
       "      <td>[0, -1]</td>\n",
       "      <td>sqrt(3)</td>\n",
       "    </tr>\n",
       "    <tr>\n",
       "      <td>2</td>\n",
       "      <td>2</td>\n",
       "      <td>-1</td>\n",
       "      <td>1</td>\n",
       "      <td>[-1/2*sqrt(3), 1/2]</td>\n",
       "      <td>sqrt(3)</td>\n",
       "    </tr>\n",
       "    <tr>\n",
       "      <td>2</td>\n",
       "      <td>2</td>\n",
       "      <td>1</td>\n",
       "      <td>-1</td>\n",
       "      <td>[1/2*sqrt(3), -1/2]</td>\n",
       "      <td>sqrt(3)</td>\n",
       "    </tr>\n",
       "    <tr>\n",
       "      <td>2</td>\n",
       "      <td>2</td>\n",
       "      <td>1</td>\n",
       "      <td>2</td>\n",
       "      <td>[0, 1]</td>\n",
       "      <td>sqrt(3)</td>\n",
       "    </tr>\n",
       "    <tr>\n",
       "      <td>2</td>\n",
       "      <td>2</td>\n",
       "      <td>2</td>\n",
       "      <td>1</td>\n",
       "      <td>[1/2*sqrt(3), 1/2]</td>\n",
       "      <td>sqrt(3)</td>\n",
       "    </tr>\n",
       "    <tr>\n",
       "      <td>1</td>\n",
       "      <td>1</td>\n",
       "      <td>-2</td>\n",
       "      <td>-2</td>\n",
       "      <td>[-1/2, -1/2*sqrt(3)]</td>\n",
       "      <td>2</td>\n",
       "    </tr>\n",
       "    <tr>\n",
       "      <td>1</td>\n",
       "      <td>1</td>\n",
       "      <td>-2</td>\n",
       "      <td>0</td>\n",
       "      <td>[-1, 0]</td>\n",
       "      <td>2</td>\n",
       "    </tr>\n",
       "    <tr>\n",
       "      <td>1</td>\n",
       "      <td>1</td>\n",
       "      <td>0</td>\n",
       "      <td>-2</td>\n",
       "      <td>[1/2, -1/2*sqrt(3)]</td>\n",
       "      <td>2</td>\n",
       "    </tr>\n",
       "    <tr>\n",
       "      <td>1</td>\n",
       "      <td>1</td>\n",
       "      <td>0</td>\n",
       "      <td>2</td>\n",
       "      <td>[-1/2, 1/2*sqrt(3)]</td>\n",
       "      <td>2</td>\n",
       "    </tr>\n",
       "    <tr>\n",
       "      <td>1</td>\n",
       "      <td>1</td>\n",
       "      <td>2</td>\n",
       "      <td>0</td>\n",
       "      <td>[1, 0]</td>\n",
       "      <td>2</td>\n",
       "    </tr>\n",
       "    <tr>\n",
       "      <td>1</td>\n",
       "      <td>1</td>\n",
       "      <td>2</td>\n",
       "      <td>2</td>\n",
       "      <td>[1/2, 1/2*sqrt(3)]</td>\n",
       "      <td>2</td>\n",
       "    </tr>\n",
       "    <tr>\n",
       "      <td>2</td>\n",
       "      <td>2</td>\n",
       "      <td>-2</td>\n",
       "      <td>-2</td>\n",
       "      <td>[-1/2, -1/2*sqrt(3)]</td>\n",
       "      <td>2</td>\n",
       "    </tr>\n",
       "    <tr>\n",
       "      <td>2</td>\n",
       "      <td>2</td>\n",
       "      <td>-2</td>\n",
       "      <td>0</td>\n",
       "      <td>[-1, 0]</td>\n",
       "      <td>2</td>\n",
       "    </tr>\n",
       "    <tr>\n",
       "      <td>2</td>\n",
       "      <td>2</td>\n",
       "      <td>0</td>\n",
       "      <td>-2</td>\n",
       "      <td>[1/2, -1/2*sqrt(3)]</td>\n",
       "      <td>2</td>\n",
       "    </tr>\n",
       "    <tr>\n",
       "      <td>2</td>\n",
       "      <td>2</td>\n",
       "      <td>0</td>\n",
       "      <td>2</td>\n",
       "      <td>[-1/2, 1/2*sqrt(3)]</td>\n",
       "      <td>2</td>\n",
       "    </tr>\n",
       "    <tr>\n",
       "      <td>2</td>\n",
       "      <td>2</td>\n",
       "      <td>2</td>\n",
       "      <td>0</td>\n",
       "      <td>[1, 0]</td>\n",
       "      <td>2</td>\n",
       "    </tr>\n",
       "    <tr>\n",
       "      <td>2</td>\n",
       "      <td>2</td>\n",
       "      <td>2</td>\n",
       "      <td>2</td>\n",
       "      <td>[1/2, 1/2*sqrt(3)]</td>\n",
       "      <td>2</td>\n",
       "    </tr>\n",
       "    <tr>\n",
       "      <td>1</td>\n",
       "      <td>2</td>\n",
       "      <td>-2</td>\n",
       "      <td>-2</td>\n",
       "      <td>[-3/26*sqrt(13/3), -7/26*sqrt(13/3)*sqrt(3)]</td>\n",
       "      <td>sqrt(13/3)</td>\n",
       "    </tr>\n",
       "    <tr>\n",
       "      <td>1</td>\n",
       "      <td>2</td>\n",
       "      <td>-2</td>\n",
       "      <td>1</td>\n",
       "      <td>[-6/13*sqrt(13/3), 1/13*sqrt(13/3)*sqrt(3)]</td>\n",
       "      <td>sqrt(13/3)</td>\n",
       "    </tr>\n",
       "    <tr>\n",
       "      <td>1</td>\n",
       "      <td>2</td>\n",
       "      <td>-1</td>\n",
       "      <td>-2</td>\n",
       "      <td>[3/26*sqrt(13/3), -7/26*sqrt(13/3)*sqrt(3)]</td>\n",
       "      <td>sqrt(13/3)</td>\n",
       "    </tr>\n",
       "    <tr>\n",
       "      <td>1</td>\n",
       "      <td>2</td>\n",
       "      <td>-1</td>\n",
       "      <td>2</td>\n",
       "      <td>[-9/26*sqrt(13/3), 5/26*sqrt(13/3)*sqrt(3)]</td>\n",
       "      <td>sqrt(13/3)</td>\n",
       "    </tr>\n",
       "    <tr>\n",
       "      <td>1</td>\n",
       "      <td>2</td>\n",
       "      <td>2</td>\n",
       "      <td>1</td>\n",
       "      <td>[6/13*sqrt(13/3), 1/13*sqrt(13/3)*sqrt(3)]</td>\n",
       "      <td>sqrt(13/3)</td>\n",
       "    </tr>\n",
       "    <tr>\n",
       "      <td>1</td>\n",
       "      <td>2</td>\n",
       "      <td>2</td>\n",
       "      <td>2</td>\n",
       "      <td>[9/26*sqrt(13/3), 5/26*sqrt(13/3)*sqrt(3)]</td>\n",
       "      <td>sqrt(13/3)</td>\n",
       "    </tr>\n",
       "    <tr>\n",
       "      <td>2</td>\n",
       "      <td>1</td>\n",
       "      <td>-2</td>\n",
       "      <td>-2</td>\n",
       "      <td>[-9/26*sqrt(13/3), -5/26*sqrt(13/3)*sqrt(3)]</td>\n",
       "      <td>sqrt(13/3)</td>\n",
       "    </tr>\n",
       "    <tr>\n",
       "      <td>2</td>\n",
       "      <td>1</td>\n",
       "      <td>-2</td>\n",
       "      <td>-1</td>\n",
       "      <td>[-6/13*sqrt(13/3), -1/13*sqrt(13/3)*sqrt(3)]</td>\n",
       "      <td>sqrt(13/3)</td>\n",
       "    </tr>\n",
       "    <tr>\n",
       "      <td>2</td>\n",
       "      <td>1</td>\n",
       "      <td>1</td>\n",
       "      <td>-2</td>\n",
       "      <td>[9/26*sqrt(13/3), -5/26*sqrt(13/3)*sqrt(3)]</td>\n",
       "      <td>sqrt(13/3)</td>\n",
       "    </tr>\n",
       "    <tr>\n",
       "      <td>2</td>\n",
       "      <td>1</td>\n",
       "      <td>1</td>\n",
       "      <td>2</td>\n",
       "      <td>[-3/26*sqrt(13/3), 7/26*sqrt(13/3)*sqrt(3)]</td>\n",
       "      <td>sqrt(13/3)</td>\n",
       "    </tr>\n",
       "    <tr>\n",
       "      <td>2</td>\n",
       "      <td>1</td>\n",
       "      <td>2</td>\n",
       "      <td>-1</td>\n",
       "      <td>[6/13*sqrt(13/3), -1/13*sqrt(13/3)*sqrt(3)]</td>\n",
       "      <td>sqrt(13/3)</td>\n",
       "    </tr>\n",
       "    <tr>\n",
       "      <td>2</td>\n",
       "      <td>1</td>\n",
       "      <td>2</td>\n",
       "      <td>2</td>\n",
       "      <td>[3/26*sqrt(13/3), 7/26*sqrt(13/3)*sqrt(3)]</td>\n",
       "      <td>sqrt(13/3)</td>\n",
       "    </tr>\n",
       "    <tr>\n",
       "      <td>1</td>\n",
       "      <td>2</td>\n",
       "      <td>1</td>\n",
       "      <td>-1</td>\n",
       "      <td>[3/2*sqrt(1/3), -1/2*sqrt(3)*sqrt(1/3)]</td>\n",
       "      <td>4*sqrt(1/3)</td>\n",
       "    </tr>\n",
       "    <tr>\n",
       "      <td>2</td>\n",
       "      <td>1</td>\n",
       "      <td>-1</td>\n",
       "      <td>1</td>\n",
       "      <td>[-3/2*sqrt(1/3), 1/2*sqrt(3)*sqrt(1/3)]</td>\n",
       "      <td>4*sqrt(1/3)</td>\n",
       "    </tr>\n",
       "    <tr>\n",
       "      <td>1</td>\n",
       "      <td>2</td>\n",
       "      <td>0</td>\n",
       "      <td>-2</td>\n",
       "      <td>[9/38*sqrt(19/3), -7/38*sqrt(19/3)*sqrt(3)]</td>\n",
       "      <td>sqrt(19/3)</td>\n",
       "    </tr>\n",
       "    <tr>\n",
       "      <td>1</td>\n",
       "      <td>2</td>\n",
       "      <td>2</td>\n",
       "      <td>0</td>\n",
       "      <td>[15/38*sqrt(19/3), -1/38*sqrt(19/3)*sqrt(3)]</td>\n",
       "      <td>sqrt(19/3)</td>\n",
       "    </tr>\n",
       "    <tr>\n",
       "      <td>2</td>\n",
       "      <td>1</td>\n",
       "      <td>-2</td>\n",
       "      <td>0</td>\n",
       "      <td>[-15/38*sqrt(19/3), 1/38*sqrt(19/3)*sqrt(3)]</td>\n",
       "      <td>sqrt(19/3)</td>\n",
       "    </tr>\n",
       "    <tr>\n",
       "      <td>2</td>\n",
       "      <td>1</td>\n",
       "      <td>0</td>\n",
       "      <td>2</td>\n",
       "      <td>[-9/38*sqrt(19/3), 7/38*sqrt(19/3)*sqrt(3)]</td>\n",
       "      <td>sqrt(19/3)</td>\n",
       "    </tr>\n",
       "    <tr>\n",
       "      <td>1</td>\n",
       "      <td>1</td>\n",
       "      <td>-2</td>\n",
       "      <td>1</td>\n",
       "      <td>[-5/14*sqrt(7), 1/14*sqrt(7)*sqrt(3)]</td>\n",
       "      <td>sqrt(7)</td>\n",
       "    </tr>\n",
       "    <tr>\n",
       "      <td>1</td>\n",
       "      <td>1</td>\n",
       "      <td>-1</td>\n",
       "      <td>2</td>\n",
       "      <td>[-2/7*sqrt(7), 1/7*sqrt(7)*sqrt(3)]</td>\n",
       "      <td>sqrt(7)</td>\n",
       "    </tr>\n",
       "    <tr>\n",
       "      <td>1</td>\n",
       "      <td>1</td>\n",
       "      <td>1</td>\n",
       "      <td>-2</td>\n",
       "      <td>[2/7*sqrt(7), -1/7*sqrt(7)*sqrt(3)]</td>\n",
       "      <td>sqrt(7)</td>\n",
       "    </tr>\n",
       "    <tr>\n",
       "      <td>1</td>\n",
       "      <td>1</td>\n",
       "      <td>2</td>\n",
       "      <td>-1</td>\n",
       "      <td>[5/14*sqrt(7), -1/14*sqrt(7)*sqrt(3)]</td>\n",
       "      <td>sqrt(7)</td>\n",
       "    </tr>\n",
       "    <tr>\n",
       "      <td>2</td>\n",
       "      <td>2</td>\n",
       "      <td>-2</td>\n",
       "      <td>1</td>\n",
       "      <td>[-5/14*sqrt(7), 1/14*sqrt(7)*sqrt(3)]</td>\n",
       "      <td>sqrt(7)</td>\n",
       "    </tr>\n",
       "    <tr>\n",
       "      <td>2</td>\n",
       "      <td>2</td>\n",
       "      <td>-1</td>\n",
       "      <td>2</td>\n",
       "      <td>[-2/7*sqrt(7), 1/7*sqrt(7)*sqrt(3)]</td>\n",
       "      <td>sqrt(7)</td>\n",
       "    </tr>\n",
       "    <tr>\n",
       "      <td>2</td>\n",
       "      <td>2</td>\n",
       "      <td>1</td>\n",
       "      <td>-2</td>\n",
       "      <td>[2/7*sqrt(7), -1/7*sqrt(7)*sqrt(3)]</td>\n",
       "      <td>sqrt(7)</td>\n",
       "    </tr>\n",
       "    <tr>\n",
       "      <td>2</td>\n",
       "      <td>2</td>\n",
       "      <td>2</td>\n",
       "      <td>-1</td>\n",
       "      <td>[5/14*sqrt(7), -1/14*sqrt(7)*sqrt(3)]</td>\n",
       "      <td>sqrt(7)</td>\n",
       "    </tr>\n",
       "    <tr>\n",
       "      <td>1</td>\n",
       "      <td>2</td>\n",
       "      <td>-2</td>\n",
       "      <td>2</td>\n",
       "      <td>[-3/2*sqrt(1/3), 1/2*sqrt(3)*sqrt(1/3)]</td>\n",
       "      <td>5*sqrt(1/3)</td>\n",
       "    </tr>\n",
       "    <tr>\n",
       "      <td>2</td>\n",
       "      <td>1</td>\n",
       "      <td>2</td>\n",
       "      <td>-2</td>\n",
       "      <td>[3/2*sqrt(1/3), -1/2*sqrt(3)*sqrt(1/3)]</td>\n",
       "      <td>5*sqrt(1/3)</td>\n",
       "    </tr>\n",
       "    <tr>\n",
       "      <td>1</td>\n",
       "      <td>2</td>\n",
       "      <td>1</td>\n",
       "      <td>-2</td>\n",
       "      <td>[15/62*sqrt(31/3), -7/62*sqrt(31/3)*sqrt(3)]</td>\n",
       "      <td>sqrt(31/3)</td>\n",
       "    </tr>\n",
       "    <tr>\n",
       "      <td>1</td>\n",
       "      <td>2</td>\n",
       "      <td>2</td>\n",
       "      <td>-1</td>\n",
       "      <td>[9/31*sqrt(31/3), -2/31*sqrt(31/3)*sqrt(3)]</td>\n",
       "      <td>sqrt(31/3)</td>\n",
       "    </tr>\n",
       "    <tr>\n",
       "      <td>2</td>\n",
       "      <td>1</td>\n",
       "      <td>-2</td>\n",
       "      <td>1</td>\n",
       "      <td>[-9/31*sqrt(31/3), 2/31*sqrt(31/3)*sqrt(3)]</td>\n",
       "      <td>sqrt(31/3)</td>\n",
       "    </tr>\n",
       "    <tr>\n",
       "      <td>2</td>\n",
       "      <td>1</td>\n",
       "      <td>-1</td>\n",
       "      <td>2</td>\n",
       "      <td>[-15/62*sqrt(31/3), 7/62*sqrt(31/3)*sqrt(3)]</td>\n",
       "      <td>sqrt(31/3)</td>\n",
       "    </tr>\n",
       "    <tr>\n",
       "      <td>1</td>\n",
       "      <td>1</td>\n",
       "      <td>-2</td>\n",
       "      <td>2</td>\n",
       "      <td>[-1/2*sqrt(3), 1/2]</td>\n",
       "      <td>2*sqrt(3)</td>\n",
       "    </tr>\n",
       "    <tr>\n",
       "      <td>1</td>\n",
       "      <td>1</td>\n",
       "      <td>2</td>\n",
       "      <td>-2</td>\n",
       "      <td>[1/2*sqrt(3), -1/2]</td>\n",
       "      <td>2*sqrt(3)</td>\n",
       "    </tr>\n",
       "    <tr>\n",
       "      <td>2</td>\n",
       "      <td>2</td>\n",
       "      <td>-2</td>\n",
       "      <td>2</td>\n",
       "      <td>[-1/2*sqrt(3), 1/2]</td>\n",
       "      <td>2*sqrt(3)</td>\n",
       "    </tr>\n",
       "    <tr>\n",
       "      <td>2</td>\n",
       "      <td>2</td>\n",
       "      <td>2</td>\n",
       "      <td>-2</td>\n",
       "      <td>[1/2*sqrt(3), -1/2]</td>\n",
       "      <td>2*sqrt(3)</td>\n",
       "    </tr>\n",
       "    <tr>\n",
       "      <td>1</td>\n",
       "      <td>2</td>\n",
       "      <td>2</td>\n",
       "      <td>-2</td>\n",
       "      <td>[3/2*sqrt(1/3), -1/2*sqrt(3)*sqrt(1/3)]</td>\n",
       "      <td>7*sqrt(1/3)</td>\n",
       "    </tr>\n",
       "    <tr>\n",
       "      <td>2</td>\n",
       "      <td>1</td>\n",
       "      <td>-2</td>\n",
       "      <td>2</td>\n",
       "      <td>[-3/2*sqrt(1/3), 1/2*sqrt(3)*sqrt(1/3)]</td>\n",
       "      <td>7*sqrt(1/3)</td>\n",
       "    </tr>\n",
       "  </tbody>\n",
       "</table></td>\n",
       "</tr>\n",
       "</tbody>\n",
       "</table>\n",
       "</div>"
      ],
      "text/plain": [
       "  <   t   a   b   l   e       b   o   r   d   e   r   =   \"   1   \"       c   l   a   s   s   =   \"   d   a   t   a   f   r   a   m   e   \"   >   \n",
       "           <   t   h   e   a   d   >   \n",
       "                   <   t   r       s   t   y   l   e   =   \"   t   e   x   t   -   a   l   i   g   n   :       r   i   g   h   t   ;   \"   >   \n",
       "                           <   t   h   >   $   \\   a   l   p   h   a   \\   p   r   i   m   e   $   <   /   t   h   >   \n",
       "                           <   t   h   >   $   \\   a   l   p   h   a   $   <   /   t   h   >   \n",
       "                           <   t   h   >   $   l   _   1   $   <   /   t   h   >   \n",
       "                           <   t   h   >   $   l   _   2   $   <   /   t   h   >   \n",
       "                           <   t   h   >   $   \\   h   a   t       R   $   <   /   t   h   >   \n",
       "                           <   t   h   >   D   i   s   t   a   n   c   i   a   <   /   t   h   >   \n",
       "                   <   /   t   r   >   \n",
       "           <   /   t   h   e   a   d   >   \n",
       "           <   t   b   o   d   y   >   \n",
       "                   <   t   r   >   \n",
       "                           <   t   d   >   1   <   /   t   d   >   \n",
       "                           <   t   d   >   1   <   /   t   d   >   \n",
       "                           <   t   d   >   0   <   /   t   d   >   \n",
       "                           <   t   d   >   0   <   /   t   d   >   \n",
       "                           <   t   d   >   [   0   ,       0   ]   <   /   t   d   >   \n",
       "                           <   t   d   >   0   <   /   t   d   >   \n",
       "                   <   /   t   r   >   \n",
       "                   <   t   r   >   \n",
       "                           <   t   d   >   2   <   /   t   d   >   \n",
       "                           <   t   d   >   2   <   /   t   d   >   \n",
       "                           <   t   d   >   0   <   /   t   d   >   \n",
       "                           <   t   d   >   0   <   /   t   d   >   \n",
       "                           <   t   d   >   [   0   ,       0   ]   <   /   t   d   >   \n",
       "                           <   t   d   >   0   <   /   t   d   >   \n",
       "                   <   /   t   r   >   \n",
       "                   <   t   r   >   \n",
       "                           <   t   d   >   1   <   /   t   d   >   \n",
       "                           <   t   d   >   2   <   /   t   d   >   \n",
       "                           <   t   d   >   -   1   <   /   t   d   >   \n",
       "                           <   t   d   >   0   <   /   t   d   >   \n",
       "                           <   t   d   >   [   -   3   /   2   *   s   q   r   t   (   1   /   3   )   ,       -   1   /   2   *   s   q   r   t   (   3   )   *   s   q   r   t   (   1   /   3   )   ]   <   /   t   d   >   \n",
       "                           <   t   d   >   s   q   r   t   (   1   /   3   )   <   /   t   d   >   \n",
       "                   <   /   t   r   >   \n",
       "                   <   t   r   >   \n",
       "                           <   t   d   >   1   <   /   t   d   >   \n",
       "                           <   t   d   >   2   <   /   t   d   >   \n",
       "                           <   t   d   >   0   <   /   t   d   >   \n",
       "                           <   t   d   >   0   <   /   t   d   >   \n",
       "                           <   t   d   >   [   3   /   2   *   s   q   r   t   (   1   /   3   )   ,       -   1   /   2   *   s   q   r   t   (   3   )   *   s   q   r   t   (   1   /   3   )   ]   <   /   t   d   >   \n",
       "                           <   t   d   >   s   q   r   t   (   1   /   3   )   <   /   t   d   >   \n",
       "                   <   /   t   r   >   \n",
       "                   <   t   r   >   \n",
       "                           <   t   d   >   1   <   /   t   d   >   \n",
       "                           <   t   d   >   2   <   /   t   d   >   \n",
       "                           <   t   d   >   0   <   /   t   d   >   \n",
       "                           <   t   d   >   1   <   /   t   d   >   \n",
       "                           <   t   d   >   [   0   ,       s   q   r   t   (   3   )   *   s   q   r   t   (   1   /   3   )   ]   <   /   t   d   >   \n",
       "                           <   t   d   >   s   q   r   t   (   1   /   3   )   <   /   t   d   >   \n",
       "                   <   /   t   r   >   \n",
       "                   <   t   r   >   \n",
       "                           <   t   d   >   2   <   /   t   d   >   \n",
       "                           <   t   d   >   1   <   /   t   d   >   \n",
       "                           <   t   d   >   0   <   /   t   d   >   \n",
       "                           <   t   d   >   -   1   <   /   t   d   >   \n",
       "                           <   t   d   >   [   0   ,       -   s   q   r   t   (   3   )   *   s   q   r   t   (   1   /   3   )   ]   <   /   t   d   >   \n",
       "                           <   t   d   >   s   q   r   t   (   1   /   3   )   <   /   t   d   >   \n",
       "                   <   /   t   r   >   \n",
       "                   <   t   r   >   \n",
       "                           <   t   d   >   2   <   /   t   d   >   \n",
       "                           <   t   d   >   1   <   /   t   d   >   \n",
       "                           <   t   d   >   0   <   /   t   d   >   \n",
       "                           <   t   d   >   0   <   /   t   d   >   \n",
       "                           <   t   d   >   [   -   3   /   2   *   s   q   r   t   (   1   /   3   )   ,       1   /   2   *   s   q   r   t   (   3   )   *   s   q   r   t   (   1   /   3   )   ]   <   /   t   d   >   \n",
       "                           <   t   d   >   s   q   r   t   (   1   /   3   )   <   /   t   d   >   \n",
       "                   <   /   t   r   >   \n",
       "                   <   t   r   >   \n",
       "                           <   t   d   >   2   <   /   t   d   >   \n",
       "                           <   t   d   >   1   <   /   t   d   >   \n",
       "                           <   t   d   >   1   <   /   t   d   >   \n",
       "                           <   t   d   >   0   <   /   t   d   >   \n",
       "                           <   t   d   >   [   3   /   2   *   s   q   r   t   (   1   /   3   )   ,       1   /   2   *   s   q   r   t   (   3   )   *   s   q   r   t   (   1   /   3   )   ]   <   /   t   d   >   \n",
       "                           <   t   d   >   s   q   r   t   (   1   /   3   )   <   /   t   d   >   \n",
       "                   <   /   t   r   >   \n",
       "                   <   t   r   >   \n",
       "                           <   t   d   >   1   <   /   t   d   >   \n",
       "                           <   t   d   >   1   <   /   t   d   >   \n",
       "                           <   t   d   >   -   1   <   /   t   d   >   \n",
       "                           <   t   d   >   -   1   <   /   t   d   >   \n",
       "                           <   t   d   >   [   -   1   /   2   ,       -   1   /   2   *   s   q   r   t   (   3   )   ]   <   /   t   d   >   \n",
       "                           <   t   d   >   1   <   /   t   d   >   \n",
       "                   <   /   t   r   >   \n",
       "                   <   t   r   >   \n",
       "                           <   t   d   >   1   <   /   t   d   >   \n",
       "                           <   t   d   >   1   <   /   t   d   >   \n",
       "                           <   t   d   >   -   1   <   /   t   d   >   \n",
       "                           <   t   d   >   0   <   /   t   d   >   \n",
       "                           <   t   d   >   [   -   1   ,       0   ]   <   /   t   d   >   \n",
       "                           <   t   d   >   1   <   /   t   d   >   \n",
       "                   <   /   t   r   >   \n",
       "                   <   t   r   >   \n",
       "                           <   t   d   >   1   <   /   t   d   >   \n",
       "                           <   t   d   >   1   <   /   t   d   >   \n",
       "                           <   t   d   >   0   <   /   t   d   >   \n",
       "                           <   t   d   >   -   1   <   /   t   d   >   \n",
       "                           <   t   d   >   [   1   /   2   ,       -   1   /   2   *   s   q   r   t   (   3   )   ]   <   /   t   d   >   \n",
       "                           <   t   d   >   1   <   /   t   d   >   \n",
       "                   <   /   t   r   >   \n",
       "                   <   t   r   >   \n",
       "                           <   t   d   >   1   <   /   t   d   >   \n",
       "                           <   t   d   >   1   <   /   t   d   >   \n",
       "                           <   t   d   >   0   <   /   t   d   >   \n",
       "                           <   t   d   >   1   <   /   t   d   >   \n",
       "                           <   t   d   >   [   -   1   /   2   ,       1   /   2   *   s   q   r   t   (   3   )   ]   <   /   t   d   >   \n",
       "                           <   t   d   >   1   <   /   t   d   >   \n",
       "                   <   /   t   r   >   \n",
       "                   <   t   r   >   \n",
       "                           <   t   d   >   1   <   /   t   d   >   \n",
       "                           <   t   d   >   1   <   /   t   d   >   \n",
       "                           <   t   d   >   1   <   /   t   d   >   \n",
       "                           <   t   d   >   0   <   /   t   d   >   \n",
       "                           <   t   d   >   [   1   ,       0   ]   <   /   t   d   >   \n",
       "                           <   t   d   >   1   <   /   t   d   >   \n",
       "                   <   /   t   r   >   \n",
       "                   <   t   r   >   \n",
       "                           <   t   d   >   1   <   /   t   d   >   \n",
       "                           <   t   d   >   1   <   /   t   d   >   \n",
       "                           <   t   d   >   1   <   /   t   d   >   \n",
       "                           <   t   d   >   1   <   /   t   d   >   \n",
       "                           <   t   d   >   [   1   /   2   ,       1   /   2   *   s   q   r   t   (   3   )   ]   <   /   t   d   >   \n",
       "                           <   t   d   >   1   <   /   t   d   >   \n",
       "                   <   /   t   r   >   \n",
       "                   <   t   r   >   \n",
       "                           <   t   d   >   2   <   /   t   d   >   \n",
       "                           <   t   d   >   2   <   /   t   d   >   \n",
       "                           <   t   d   >   -   1   <   /   t   d   >   \n",
       "                           <   t   d   >   -   1   <   /   t   d   >   \n",
       "                           <   t   d   >   [   -   1   /   2   ,       -   1   /   2   *   s   q   r   t   (   3   )   ]   <   /   t   d   >   \n",
       "                           <   t   d   >   1   <   /   t   d   >   \n",
       "                   <   /   t   r   >   \n",
       "                   <   t   r   >   \n",
       "                           <   t   d   >   2   <   /   t   d   >   \n",
       "                           <   t   d   >   2   <   /   t   d   >   \n",
       "                           <   t   d   >   -   1   <   /   t   d   >   \n",
       "                           <   t   d   >   0   <   /   t   d   >   \n",
       "                           <   t   d   >   [   -   1   ,       0   ]   <   /   t   d   >   \n",
       "                           <   t   d   >   1   <   /   t   d   >   \n",
       "                   <   /   t   r   >   \n",
       "                   <   t   r   >   \n",
       "                           <   t   d   >   2   <   /   t   d   >   \n",
       "                           <   t   d   >   2   <   /   t   d   >   \n",
       "                           <   t   d   >   0   <   /   t   d   >   \n",
       "                           <   t   d   >   -   1   <   /   t   d   >   \n",
       "                           <   t   d   >   [   1   /   2   ,       -   1   /   2   *   s   q   r   t   (   3   )   ]   <   /   t   d   >   \n",
       "                           <   t   d   >   1   <   /   t   d   >   \n",
       "                   <   /   t   r   >   \n",
       "                   <   t   r   >   \n",
       "                           <   t   d   >   2   <   /   t   d   >   \n",
       "                           <   t   d   >   2   <   /   t   d   >   \n",
       "                           <   t   d   >   0   <   /   t   d   >   \n",
       "                           <   t   d   >   1   <   /   t   d   >   \n",
       "                           <   t   d   >   [   -   1   /   2   ,       1   /   2   *   s   q   r   t   (   3   )   ]   <   /   t   d   >   \n",
       "                           <   t   d   >   1   <   /   t   d   >   \n",
       "                   <   /   t   r   >   \n",
       "                   <   t   r   >   \n",
       "                           <   t   d   >   2   <   /   t   d   >   \n",
       "                           <   t   d   >   2   <   /   t   d   >   \n",
       "                           <   t   d   >   1   <   /   t   d   >   \n",
       "                           <   t   d   >   0   <   /   t   d   >   \n",
       "                           <   t   d   >   [   1   ,       0   ]   <   /   t   d   >   \n",
       "                           <   t   d   >   1   <   /   t   d   >   \n",
       "                   <   /   t   r   >   \n",
       "                   <   t   r   >   \n",
       "                           <   t   d   >   2   <   /   t   d   >   \n",
       "                           <   t   d   >   2   <   /   t   d   >   \n",
       "                           <   t   d   >   1   <   /   t   d   >   \n",
       "                           <   t   d   >   1   <   /   t   d   >   \n",
       "                           <   t   d   >   [   1   /   2   ,       1   /   2   *   s   q   r   t   (   3   )   ]   <   /   t   d   >   \n",
       "                           <   t   d   >   1   <   /   t   d   >   \n",
       "                   <   /   t   r   >   \n",
       "                   <   t   r   >   \n",
       "                           <   t   d   >   1   <   /   t   d   >   \n",
       "                           <   t   d   >   2   <   /   t   d   >   \n",
       "                           <   t   d   >   -   1   <   /   t   d   >   \n",
       "                           <   t   d   >   -   1   <   /   t   d   >   \n",
       "                           <   t   d   >   [   0   ,       -   s   q   r   t   (   3   )   *   s   q   r   t   (   1   /   3   )   ]   <   /   t   d   >   \n",
       "                           <   t   d   >   2   *   s   q   r   t   (   1   /   3   )   <   /   t   d   >   \n",
       "                   <   /   t   r   >   \n",
       "                   <   t   r   >   \n",
       "                           <   t   d   >   1   <   /   t   d   >   \n",
       "                           <   t   d   >   2   <   /   t   d   >   \n",
       "                           <   t   d   >   -   1   <   /   t   d   >   \n",
       "                           <   t   d   >   1   <   /   t   d   >   \n",
       "                           <   t   d   >   [   -   3   /   2   *   s   q   r   t   (   1   /   3   )   ,       1   /   2   *   s   q   r   t   (   3   )   *   s   q   r   t   (   1   /   3   )   ]   <   /   t   d   >   \n",
       "                           <   t   d   >   2   *   s   q   r   t   (   1   /   3   )   <   /   t   d   >   \n",
       "                   <   /   t   r   >   \n",
       "                   <   t   r   >   \n",
       "                           <   t   d   >   1   <   /   t   d   >   \n",
       "                           <   t   d   >   2   <   /   t   d   >   \n",
       "                           <   t   d   >   1   <   /   t   d   >   \n",
       "                           <   t   d   >   1   <   /   t   d   >   \n",
       "                           <   t   d   >   [   3   /   2   *   s   q   r   t   (   1   /   3   )   ,       1   /   2   *   s   q   r   t   (   3   )   *   s   q   r   t   (   1   /   3   )   ]   <   /   t   d   >   \n",
       "                           <   t   d   >   2   *   s   q   r   t   (   1   /   3   )   <   /   t   d   >   \n",
       "                   <   /   t   r   >   \n",
       "                   <   t   r   >   \n",
       "                           <   t   d   >   2   <   /   t   d   >   \n",
       "                           <   t   d   >   1   <   /   t   d   >   \n",
       "                           <   t   d   >   -   1   <   /   t   d   >   \n",
       "                           <   t   d   >   -   1   <   /   t   d   >   \n",
       "                           <   t   d   >   [   -   3   /   2   *   s   q   r   t   (   1   /   3   )   ,       -   1   /   2   *   s   q   r   t   (   3   )   *   s   q   r   t   (   1   /   3   )   ]   <   /   t   d   >   \n",
       "                           <   t   d   >   2   *   s   q   r   t   (   1   /   3   )   <   /   t   d   >   \n",
       "                   <   /   t   r   >   \n",
       "                   <   t   r   >   \n",
       "                           <   t   d   >   2   <   /   t   d   >   \n",
       "                           <   t   d   >   1   <   /   t   d   >   \n",
       "                           <   t   d   >   1   <   /   t   d   >   \n",
       "                           <   t   d   >   -   1   <   /   t   d   >   \n",
       "                           <   t   d   >   [   3   /   2   *   s   q   r   t   (   1   /   3   )   ,       -   1   /   2   *   s   q   r   t   (   3   )   *   s   q   r   t   (   1   /   3   )   ]   <   /   t   d   >   \n",
       "                           <   t   d   >   2   *   s   q   r   t   (   1   /   3   )   <   /   t   d   >   \n",
       "                   <   /   t   r   >   \n",
       "                   <   t   r   >   \n",
       "                           <   t   d   >   2   <   /   t   d   >   \n",
       "                           <   t   d   >   1   <   /   t   d   >   \n",
       "                           <   t   d   >   1   <   /   t   d   >   \n",
       "                           <   t   d   >   1   <   /   t   d   >   \n",
       "                           <   t   d   >   [   0   ,       s   q   r   t   (   3   )   *   s   q   r   t   (   1   /   3   )   ]   <   /   t   d   >   \n",
       "                           <   t   d   >   2   *   s   q   r   t   (   1   /   3   )   <   /   t   d   >   \n",
       "                   <   /   t   r   >   \n",
       "                   <   t   r   >   \n",
       "                           <   t   d   >   1   <   /   t   d   >   \n",
       "                           <   t   d   >   2   <   /   t   d   >   \n",
       "                           <   t   d   >   -   2   <   /   t   d   >   \n",
       "                           <   t   d   >   -   1   <   /   t   d   >   \n",
       "                           <   t   d   >   [   -   3   /   7   *   s   q   r   t   (   7   /   3   )   ,       -   2   /   7   *   s   q   r   t   (   3   )   *   s   q   r   t   (   7   /   3   )   ]   <   /   t   d   >   \n",
       "                           <   t   d   >   s   q   r   t   (   7   /   3   )   <   /   t   d   >   \n",
       "                   <   /   t   r   >   \n",
       "                   <   t   r   >   \n",
       "                           <   t   d   >   1   <   /   t   d   >   \n",
       "                           <   t   d   >   2   <   /   t   d   >   \n",
       "                           <   t   d   >   -   2   <   /   t   d   >   \n",
       "                           <   t   d   >   0   <   /   t   d   >   \n",
       "                           <   t   d   >   [   -   9   /   1   4   *   s   q   r   t   (   7   /   3   )   ,       -   1   /   1   4   *   s   q   r   t   (   3   )   *   s   q   r   t   (   7   /   3   )   ]   <   /   t   d   >   \n",
       "                           <   t   d   >   s   q   r   t   (   7   /   3   )   <   /   t   d   >   \n",
       "                   <   /   t   r   >   \n",
       "                   <   t   r   >   \n",
       "                           <   t   d   >   1   <   /   t   d   >   \n",
       "                           <   t   d   >   2   <   /   t   d   >   \n",
       "                           <   t   d   >   0   <   /   t   d   >   \n",
       "                           <   t   d   >   -   1   <   /   t   d   >   \n",
       "                           <   t   d   >   [   3   /   7   *   s   q   r   t   (   7   /   3   )   ,       -   2   /   7   *   s   q   r   t   (   3   )   *   s   q   r   t   (   7   /   3   )   ]   <   /   t   d   >   \n",
       "                           <   t   d   >   s   q   r   t   (   7   /   3   )   <   /   t   d   >   \n",
       "                   <   /   t   r   >   \n",
       "                   <   t   r   >   \n",
       "                           <   t   d   >   1   <   /   t   d   >   \n",
       "                           <   t   d   >   2   <   /   t   d   >   \n",
       "                           <   t   d   >   0   <   /   t   d   >   \n",
       "                           <   t   d   >   2   <   /   t   d   >   \n",
       "                           <   t   d   >   [   -   3   /   1   4   *   s   q   r   t   (   7   /   3   )   ,       5   /   1   4   *   s   q   r   t   (   3   )   *   s   q   r   t   (   7   /   3   )   ]   <   /   t   d   >   \n",
       "                           <   t   d   >   s   q   r   t   (   7   /   3   )   <   /   t   d   >   \n",
       "                   <   /   t   r   >   \n",
       "                   <   t   r   >   \n",
       "                           <   t   d   >   1   <   /   t   d   >   \n",
       "                           <   t   d   >   2   <   /   t   d   >   \n",
       "                           <   t   d   >   1   <   /   t   d   >   \n",
       "                           <   t   d   >   0   <   /   t   d   >   \n",
       "                           <   t   d   >   [   9   /   1   4   *   s   q   r   t   (   7   /   3   )   ,       -   1   /   1   4   *   s   q   r   t   (   3   )   *   s   q   r   t   (   7   /   3   )   ]   <   /   t   d   >   \n",
       "                           <   t   d   >   s   q   r   t   (   7   /   3   )   <   /   t   d   >   \n",
       "                   <   /   t   r   >   \n",
       "                   <   t   r   >   \n",
       "                           <   t   d   >   1   <   /   t   d   >   \n",
       "                           <   t   d   >   2   <   /   t   d   >   \n",
       "                           <   t   d   >   1   <   /   t   d   >   \n",
       "                           <   t   d   >   2   <   /   t   d   >   \n",
       "                           <   t   d   >   [   3   /   1   4   *   s   q   r   t   (   7   /   3   )   ,       5   /   1   4   *   s   q   r   t   (   3   )   *   s   q   r   t   (   7   /   3   )   ]   <   /   t   d   >   \n",
       "                           <   t   d   >   s   q   r   t   (   7   /   3   )   <   /   t   d   >   \n",
       "                   <   /   t   r   >   \n",
       "                   <   t   r   >   \n",
       "                           <   t   d   >   2   <   /   t   d   >   \n",
       "                           <   t   d   >   1   <   /   t   d   >   \n",
       "                           <   t   d   >   -   1   <   /   t   d   >   \n",
       "                           <   t   d   >   -   2   <   /   t   d   >   \n",
       "                           <   t   d   >   [   -   3   /   1   4   *   s   q   r   t   (   7   /   3   )   ,       -   5   /   1   4   *   s   q   r   t   (   3   )   *   s   q   r   t   (   7   /   3   )   ]   <   /   t   d   >   \n",
       "                           <   t   d   >   s   q   r   t   (   7   /   3   )   <   /   t   d   >   \n",
       "                   <   /   t   r   >   \n",
       "                   <   t   r   >   \n",
       "                           <   t   d   >   2   <   /   t   d   >   \n",
       "                           <   t   d   >   1   <   /   t   d   >   \n",
       "                           <   t   d   >   -   1   <   /   t   d   >   \n",
       "                           <   t   d   >   0   <   /   t   d   >   \n",
       "                           <   t   d   >   [   -   9   /   1   4   *   s   q   r   t   (   7   /   3   )   ,       1   /   1   4   *   s   q   r   t   (   3   )   *   s   q   r   t   (   7   /   3   )   ]   <   /   t   d   >   \n",
       "                           <   t   d   >   s   q   r   t   (   7   /   3   )   <   /   t   d   >   \n",
       "                   <   /   t   r   >   \n",
       "                   <   t   r   >   \n",
       "                           <   t   d   >   2   <   /   t   d   >   \n",
       "                           <   t   d   >   1   <   /   t   d   >   \n",
       "                           <   t   d   >   0   <   /   t   d   >   \n",
       "                           <   t   d   >   -   2   <   /   t   d   >   \n",
       "                           <   t   d   >   [   3   /   1   4   *   s   q   r   t   (   7   /   3   )   ,       -   5   /   1   4   *   s   q   r   t   (   3   )   *   s   q   r   t   (   7   /   3   )   ]   <   /   t   d   >   \n",
       "                           <   t   d   >   s   q   r   t   (   7   /   3   )   <   /   t   d   >   \n",
       "                   <   /   t   r   >   \n",
       "                   <   t   r   >   \n",
       "                           <   t   d   >   2   <   /   t   d   >   \n",
       "                           <   t   d   >   1   <   /   t   d   >   \n",
       "                           <   t   d   >   0   <   /   t   d   >   \n",
       "                           <   t   d   >   1   <   /   t   d   >   \n",
       "                           <   t   d   >   [   -   3   /   7   *   s   q   r   t   (   7   /   3   )   ,       2   /   7   *   s   q   r   t   (   3   )   *   s   q   r   t   (   7   /   3   )   ]   <   /   t   d   >   \n",
       "                           <   t   d   >   s   q   r   t   (   7   /   3   )   <   /   t   d   >   \n",
       "                   <   /   t   r   >   \n",
       "                   <   t   r   >   \n",
       "                           <   t   d   >   2   <   /   t   d   >   \n",
       "                           <   t   d   >   1   <   /   t   d   >   \n",
       "                           <   t   d   >   2   <   /   t   d   >   \n",
       "                           <   t   d   >   0   <   /   t   d   >   \n",
       "                           <   t   d   >   [   9   /   1   4   *   s   q   r   t   (   7   /   3   )   ,       1   /   1   4   *   s   q   r   t   (   3   )   *   s   q   r   t   (   7   /   3   )   ]   <   /   t   d   >   \n",
       "                           <   t   d   >   s   q   r   t   (   7   /   3   )   <   /   t   d   >   \n",
       "                   <   /   t   r   >   \n",
       "                   <   t   r   >   \n",
       "                           <   t   d   >   2   <   /   t   d   >   \n",
       "                           <   t   d   >   1   <   /   t   d   >   \n",
       "                           <   t   d   >   2   <   /   t   d   >   \n",
       "                           <   t   d   >   1   <   /   t   d   >   \n",
       "                           <   t   d   >   [   3   /   7   *   s   q   r   t   (   7   /   3   )   ,       2   /   7   *   s   q   r   t   (   3   )   *   s   q   r   t   (   7   /   3   )   ]   <   /   t   d   >   \n",
       "                           <   t   d   >   s   q   r   t   (   7   /   3   )   <   /   t   d   >   \n",
       "                   <   /   t   r   >   \n",
       "                   <   t   r   >   \n",
       "                           <   t   d   >   1   <   /   t   d   >   \n",
       "                           <   t   d   >   1   <   /   t   d   >   \n",
       "                           <   t   d   >   -   2   <   /   t   d   >   \n",
       "                           <   t   d   >   -   1   <   /   t   d   >   \n",
       "                           <   t   d   >   [   -   1   /   2   *   s   q   r   t   (   3   )   ,       -   1   /   2   ]   <   /   t   d   >   \n",
       "                           <   t   d   >   s   q   r   t   (   3   )   <   /   t   d   >   \n",
       "                   <   /   t   r   >   \n",
       "                   <   t   r   >   \n",
       "                           <   t   d   >   1   <   /   t   d   >   \n",
       "                           <   t   d   >   1   <   /   t   d   >   \n",
       "                           <   t   d   >   -   1   <   /   t   d   >   \n",
       "                           <   t   d   >   -   2   <   /   t   d   >   \n",
       "                           <   t   d   >   [   0   ,       -   1   ]   <   /   t   d   >   \n",
       "                           <   t   d   >   s   q   r   t   (   3   )   <   /   t   d   >   \n",
       "                   <   /   t   r   >   \n",
       "                   <   t   r   >   \n",
       "                           <   t   d   >   1   <   /   t   d   >   \n",
       "                           <   t   d   >   1   <   /   t   d   >   \n",
       "                           <   t   d   >   -   1   <   /   t   d   >   \n",
       "                           <   t   d   >   1   <   /   t   d   >   \n",
       "                           <   t   d   >   [   -   1   /   2   *   s   q   r   t   (   3   )   ,       1   /   2   ]   <   /   t   d   >   \n",
       "                           <   t   d   >   s   q   r   t   (   3   )   <   /   t   d   >   \n",
       "                   <   /   t   r   >   \n",
       "                   <   t   r   >   \n",
       "                           <   t   d   >   1   <   /   t   d   >   \n",
       "                           <   t   d   >   1   <   /   t   d   >   \n",
       "                           <   t   d   >   1   <   /   t   d   >   \n",
       "                           <   t   d   >   -   1   <   /   t   d   >   \n",
       "                           <   t   d   >   [   1   /   2   *   s   q   r   t   (   3   )   ,       -   1   /   2   ]   <   /   t   d   >   \n",
       "                           <   t   d   >   s   q   r   t   (   3   )   <   /   t   d   >   \n",
       "                   <   /   t   r   >   \n",
       "                   <   t   r   >   \n",
       "                           <   t   d   >   1   <   /   t   d   >   \n",
       "                           <   t   d   >   1   <   /   t   d   >   \n",
       "                           <   t   d   >   1   <   /   t   d   >   \n",
       "                           <   t   d   >   2   <   /   t   d   >   \n",
       "                           <   t   d   >   [   0   ,       1   ]   <   /   t   d   >   \n",
       "                           <   t   d   >   s   q   r   t   (   3   )   <   /   t   d   >   \n",
       "                   <   /   t   r   >   \n",
       "                   <   t   r   >   \n",
       "                           <   t   d   >   1   <   /   t   d   >   \n",
       "                           <   t   d   >   1   <   /   t   d   >   \n",
       "                           <   t   d   >   2   <   /   t   d   >   \n",
       "                           <   t   d   >   1   <   /   t   d   >   \n",
       "                           <   t   d   >   [   1   /   2   *   s   q   r   t   (   3   )   ,       1   /   2   ]   <   /   t   d   >   \n",
       "                           <   t   d   >   s   q   r   t   (   3   )   <   /   t   d   >   \n",
       "                   <   /   t   r   >   \n",
       "                   <   t   r   >   \n",
       "                           <   t   d   >   2   <   /   t   d   >   \n",
       "                           <   t   d   >   2   <   /   t   d   >   \n",
       "                           <   t   d   >   -   2   <   /   t   d   >   \n",
       "                           <   t   d   >   -   1   <   /   t   d   >   \n",
       "                           <   t   d   >   [   -   1   /   2   *   s   q   r   t   (   3   )   ,       -   1   /   2   ]   <   /   t   d   >   \n",
       "                           <   t   d   >   s   q   r   t   (   3   )   <   /   t   d   >   \n",
       "                   <   /   t   r   >   \n",
       "                   <   t   r   >   \n",
       "                           <   t   d   >   2   <   /   t   d   >   \n",
       "                           <   t   d   >   2   <   /   t   d   >   \n",
       "                           <   t   d   >   -   1   <   /   t   d   >   \n",
       "                           <   t   d   >   -   2   <   /   t   d   >   \n",
       "                           <   t   d   >   [   0   ,       -   1   ]   <   /   t   d   >   \n",
       "                           <   t   d   >   s   q   r   t   (   3   )   <   /   t   d   >   \n",
       "                   <   /   t   r   >   \n",
       "                   <   t   r   >   \n",
       "                           <   t   d   >   2   <   /   t   d   >   \n",
       "                           <   t   d   >   2   <   /   t   d   >   \n",
       "                           <   t   d   >   -   1   <   /   t   d   >   \n",
       "                           <   t   d   >   1   <   /   t   d   >   \n",
       "                           <   t   d   >   [   -   1   /   2   *   s   q   r   t   (   3   )   ,       1   /   2   ]   <   /   t   d   >   \n",
       "                           <   t   d   >   s   q   r   t   (   3   )   <   /   t   d   >   \n",
       "                   <   /   t   r   >   \n",
       "                   <   t   r   >   \n",
       "                           <   t   d   >   2   <   /   t   d   >   \n",
       "                           <   t   d   >   2   <   /   t   d   >   \n",
       "                           <   t   d   >   1   <   /   t   d   >   \n",
       "                           <   t   d   >   -   1   <   /   t   d   >   \n",
       "                           <   t   d   >   [   1   /   2   *   s   q   r   t   (   3   )   ,       -   1   /   2   ]   <   /   t   d   >   \n",
       "                           <   t   d   >   s   q   r   t   (   3   )   <   /   t   d   >   \n",
       "                   <   /   t   r   >   \n",
       "                   <   t   r   >   \n",
       "                           <   t   d   >   2   <   /   t   d   >   \n",
       "                           <   t   d   >   2   <   /   t   d   >   \n",
       "                           <   t   d   >   1   <   /   t   d   >   \n",
       "                           <   t   d   >   2   <   /   t   d   >   \n",
       "                           <   t   d   >   [   0   ,       1   ]   <   /   t   d   >   \n",
       "                           <   t   d   >   s   q   r   t   (   3   )   <   /   t   d   >   \n",
       "                   <   /   t   r   >   \n",
       "                   <   t   r   >   \n",
       "                           <   t   d   >   2   <   /   t   d   >   \n",
       "                           <   t   d   >   2   <   /   t   d   >   \n",
       "                           <   t   d   >   2   <   /   t   d   >   \n",
       "                           <   t   d   >   1   <   /   t   d   >   \n",
       "                           <   t   d   >   [   1   /   2   *   s   q   r   t   (   3   )   ,       1   /   2   ]   <   /   t   d   >   \n",
       "                           <   t   d   >   s   q   r   t   (   3   )   <   /   t   d   >   \n",
       "                   <   /   t   r   >   \n",
       "                   <   t   r   >   \n",
       "                           <   t   d   >   1   <   /   t   d   >   \n",
       "                           <   t   d   >   1   <   /   t   d   >   \n",
       "                           <   t   d   >   -   2   <   /   t   d   >   \n",
       "                           <   t   d   >   -   2   <   /   t   d   >   \n",
       "                           <   t   d   >   [   -   1   /   2   ,       -   1   /   2   *   s   q   r   t   (   3   )   ]   <   /   t   d   >   \n",
       "                           <   t   d   >   2   <   /   t   d   >   \n",
       "                   <   /   t   r   >   \n",
       "                   <   t   r   >   \n",
       "                           <   t   d   >   1   <   /   t   d   >   \n",
       "                           <   t   d   >   1   <   /   t   d   >   \n",
       "                           <   t   d   >   -   2   <   /   t   d   >   \n",
       "                           <   t   d   >   0   <   /   t   d   >   \n",
       "                           <   t   d   >   [   -   1   ,       0   ]   <   /   t   d   >   \n",
       "                           <   t   d   >   2   <   /   t   d   >   \n",
       "                   <   /   t   r   >   \n",
       "                   <   t   r   >   \n",
       "                           <   t   d   >   1   <   /   t   d   >   \n",
       "                           <   t   d   >   1   <   /   t   d   >   \n",
       "                           <   t   d   >   0   <   /   t   d   >   \n",
       "                           <   t   d   >   -   2   <   /   t   d   >   \n",
       "                           <   t   d   >   [   1   /   2   ,       -   1   /   2   *   s   q   r   t   (   3   )   ]   <   /   t   d   >   \n",
       "                           <   t   d   >   2   <   /   t   d   >   \n",
       "                   <   /   t   r   >   \n",
       "                   <   t   r   >   \n",
       "                           <   t   d   >   1   <   /   t   d   >   \n",
       "                           <   t   d   >   1   <   /   t   d   >   \n",
       "                           <   t   d   >   0   <   /   t   d   >   \n",
       "                           <   t   d   >   2   <   /   t   d   >   \n",
       "                           <   t   d   >   [   -   1   /   2   ,       1   /   2   *   s   q   r   t   (   3   )   ]   <   /   t   d   >   \n",
       "                           <   t   d   >   2   <   /   t   d   >   \n",
       "                   <   /   t   r   >   \n",
       "                   <   t   r   >   \n",
       "                           <   t   d   >   1   <   /   t   d   >   \n",
       "                           <   t   d   >   1   <   /   t   d   >   \n",
       "                           <   t   d   >   2   <   /   t   d   >   \n",
       "                           <   t   d   >   0   <   /   t   d   >   \n",
       "                           <   t   d   >   [   1   ,       0   ]   <   /   t   d   >   \n",
       "                           <   t   d   >   2   <   /   t   d   >   \n",
       "                   <   /   t   r   >   \n",
       "                   <   t   r   >   \n",
       "                           <   t   d   >   1   <   /   t   d   >   \n",
       "                           <   t   d   >   1   <   /   t   d   >   \n",
       "                           <   t   d   >   2   <   /   t   d   >   \n",
       "                           <   t   d   >   2   <   /   t   d   >   \n",
       "                           <   t   d   >   [   1   /   2   ,       1   /   2   *   s   q   r   t   (   3   )   ]   <   /   t   d   >   \n",
       "                           <   t   d   >   2   <   /   t   d   >   \n",
       "                   <   /   t   r   >   \n",
       "                   <   t   r   >   \n",
       "                           <   t   d   >   2   <   /   t   d   >   \n",
       "                           <   t   d   >   2   <   /   t   d   >   \n",
       "                           <   t   d   >   -   2   <   /   t   d   >   \n",
       "                           <   t   d   >   -   2   <   /   t   d   >   \n",
       "                           <   t   d   >   [   -   1   /   2   ,       -   1   /   2   *   s   q   r   t   (   3   )   ]   <   /   t   d   >   \n",
       "                           <   t   d   >   2   <   /   t   d   >   \n",
       "                   <   /   t   r   >   \n",
       "                   <   t   r   >   \n",
       "                           <   t   d   >   2   <   /   t   d   >   \n",
       "                           <   t   d   >   2   <   /   t   d   >   \n",
       "                           <   t   d   >   -   2   <   /   t   d   >   \n",
       "                           <   t   d   >   0   <   /   t   d   >   \n",
       "                           <   t   d   >   [   -   1   ,       0   ]   <   /   t   d   >   \n",
       "                           <   t   d   >   2   <   /   t   d   >   \n",
       "                   <   /   t   r   >   \n",
       "                   <   t   r   >   \n",
       "                           <   t   d   >   2   <   /   t   d   >   \n",
       "                           <   t   d   >   2   <   /   t   d   >   \n",
       "                           <   t   d   >   0   <   /   t   d   >   \n",
       "                           <   t   d   >   -   2   <   /   t   d   >   \n",
       "                           <   t   d   >   [   1   /   2   ,       -   1   /   2   *   s   q   r   t   (   3   )   ]   <   /   t   d   >   \n",
       "                           <   t   d   >   2   <   /   t   d   >   \n",
       "                   <   /   t   r   >   \n",
       "                   <   t   r   >   \n",
       "                           <   t   d   >   2   <   /   t   d   >   \n",
       "                           <   t   d   >   2   <   /   t   d   >   \n",
       "                           <   t   d   >   0   <   /   t   d   >   \n",
       "                           <   t   d   >   2   <   /   t   d   >   \n",
       "                           <   t   d   >   [   -   1   /   2   ,       1   /   2   *   s   q   r   t   (   3   )   ]   <   /   t   d   >   \n",
       "                           <   t   d   >   2   <   /   t   d   >   \n",
       "                   <   /   t   r   >   \n",
       "                   <   t   r   >   \n",
       "                           <   t   d   >   2   <   /   t   d   >   \n",
       "                           <   t   d   >   2   <   /   t   d   >   \n",
       "                           <   t   d   >   2   <   /   t   d   >   \n",
       "                           <   t   d   >   0   <   /   t   d   >   \n",
       "                           <   t   d   >   [   1   ,       0   ]   <   /   t   d   >   \n",
       "                           <   t   d   >   2   <   /   t   d   >   \n",
       "                   <   /   t   r   >   \n",
       "                   <   t   r   >   \n",
       "                           <   t   d   >   2   <   /   t   d   >   \n",
       "                           <   t   d   >   2   <   /   t   d   >   \n",
       "                           <   t   d   >   2   <   /   t   d   >   \n",
       "                           <   t   d   >   2   <   /   t   d   >   \n",
       "                           <   t   d   >   [   1   /   2   ,       1   /   2   *   s   q   r   t   (   3   )   ]   <   /   t   d   >   \n",
       "                           <   t   d   >   2   <   /   t   d   >   \n",
       "                   <   /   t   r   >   \n",
       "                   <   t   r   >   \n",
       "                           <   t   d   >   1   <   /   t   d   >   \n",
       "                           <   t   d   >   2   <   /   t   d   >   \n",
       "                           <   t   d   >   -   2   <   /   t   d   >   \n",
       "                           <   t   d   >   -   2   <   /   t   d   >   \n",
       "                           <   t   d   >   [   -   3   /   2   6   *   s   q   r   t   (   1   3   /   3   )   ,       -   7   /   2   6   *   s   q   r   t   (   1   3   /   3   )   *   s   q   r   t   (   3   )   ]   <   /   t   d   >   \n",
       "                           <   t   d   >   s   q   r   t   (   1   3   /   3   )   <   /   t   d   >   \n",
       "                   <   /   t   r   >   \n",
       "                   <   t   r   >   \n",
       "                           <   t   d   >   1   <   /   t   d   >   \n",
       "                           <   t   d   >   2   <   /   t   d   >   \n",
       "                           <   t   d   >   -   2   <   /   t   d   >   \n",
       "                           <   t   d   >   1   <   /   t   d   >   \n",
       "                           <   t   d   >   [   -   6   /   1   3   *   s   q   r   t   (   1   3   /   3   )   ,       1   /   1   3   *   s   q   r   t   (   1   3   /   3   )   *   s   q   r   t   (   3   )   ]   <   /   t   d   >   \n",
       "                           <   t   d   >   s   q   r   t   (   1   3   /   3   )   <   /   t   d   >   \n",
       "                   <   /   t   r   >   \n",
       "                   <   t   r   >   \n",
       "                           <   t   d   >   1   <   /   t   d   >   \n",
       "                           <   t   d   >   2   <   /   t   d   >   \n",
       "                           <   t   d   >   -   1   <   /   t   d   >   \n",
       "                           <   t   d   >   -   2   <   /   t   d   >   \n",
       "                           <   t   d   >   [   3   /   2   6   *   s   q   r   t   (   1   3   /   3   )   ,       -   7   /   2   6   *   s   q   r   t   (   1   3   /   3   )   *   s   q   r   t   (   3   )   ]   <   /   t   d   >   \n",
       "                           <   t   d   >   s   q   r   t   (   1   3   /   3   )   <   /   t   d   >   \n",
       "                   <   /   t   r   >   \n",
       "                   <   t   r   >   \n",
       "                           <   t   d   >   1   <   /   t   d   >   \n",
       "                           <   t   d   >   2   <   /   t   d   >   \n",
       "                           <   t   d   >   -   1   <   /   t   d   >   \n",
       "                           <   t   d   >   2   <   /   t   d   >   \n",
       "                           <   t   d   >   [   -   9   /   2   6   *   s   q   r   t   (   1   3   /   3   )   ,       5   /   2   6   *   s   q   r   t   (   1   3   /   3   )   *   s   q   r   t   (   3   )   ]   <   /   t   d   >   \n",
       "                           <   t   d   >   s   q   r   t   (   1   3   /   3   )   <   /   t   d   >   \n",
       "                   <   /   t   r   >   \n",
       "                   <   t   r   >   \n",
       "                           <   t   d   >   1   <   /   t   d   >   \n",
       "                           <   t   d   >   2   <   /   t   d   >   \n",
       "                           <   t   d   >   2   <   /   t   d   >   \n",
       "                           <   t   d   >   1   <   /   t   d   >   \n",
       "                           <   t   d   >   [   6   /   1   3   *   s   q   r   t   (   1   3   /   3   )   ,       1   /   1   3   *   s   q   r   t   (   1   3   /   3   )   *   s   q   r   t   (   3   )   ]   <   /   t   d   >   \n",
       "                           <   t   d   >   s   q   r   t   (   1   3   /   3   )   <   /   t   d   >   \n",
       "                   <   /   t   r   >   \n",
       "                   <   t   r   >   \n",
       "                           <   t   d   >   1   <   /   t   d   >   \n",
       "                           <   t   d   >   2   <   /   t   d   >   \n",
       "                           <   t   d   >   2   <   /   t   d   >   \n",
       "                           <   t   d   >   2   <   /   t   d   >   \n",
       "                           <   t   d   >   [   9   /   2   6   *   s   q   r   t   (   1   3   /   3   )   ,       5   /   2   6   *   s   q   r   t   (   1   3   /   3   )   *   s   q   r   t   (   3   )   ]   <   /   t   d   >   \n",
       "                           <   t   d   >   s   q   r   t   (   1   3   /   3   )   <   /   t   d   >   \n",
       "                   <   /   t   r   >   \n",
       "                   <   t   r   >   \n",
       "                           <   t   d   >   2   <   /   t   d   >   \n",
       "                           <   t   d   >   1   <   /   t   d   >   \n",
       "                           <   t   d   >   -   2   <   /   t   d   >   \n",
       "                           <   t   d   >   -   2   <   /   t   d   >   \n",
       "                           <   t   d   >   [   -   9   /   2   6   *   s   q   r   t   (   1   3   /   3   )   ,       -   5   /   2   6   *   s   q   r   t   (   1   3   /   3   )   *   s   q   r   t   (   3   )   ]   <   /   t   d   >   \n",
       "                           <   t   d   >   s   q   r   t   (   1   3   /   3   )   <   /   t   d   >   \n",
       "                   <   /   t   r   >   \n",
       "                   <   t   r   >   \n",
       "                           <   t   d   >   2   <   /   t   d   >   \n",
       "                           <   t   d   >   1   <   /   t   d   >   \n",
       "                           <   t   d   >   -   2   <   /   t   d   >   \n",
       "                           <   t   d   >   -   1   <   /   t   d   >   \n",
       "                           <   t   d   >   [   -   6   /   1   3   *   s   q   r   t   (   1   3   /   3   )   ,       -   1   /   1   3   *   s   q   r   t   (   1   3   /   3   )   *   s   q   r   t   (   3   )   ]   <   /   t   d   >   \n",
       "                           <   t   d   >   s   q   r   t   (   1   3   /   3   )   <   /   t   d   >   \n",
       "                   <   /   t   r   >   \n",
       "                   <   t   r   >   \n",
       "                           <   t   d   >   2   <   /   t   d   >   \n",
       "                           <   t   d   >   1   <   /   t   d   >   \n",
       "                           <   t   d   >   1   <   /   t   d   >   \n",
       "                           <   t   d   >   -   2   <   /   t   d   >   \n",
       "                           <   t   d   >   [   9   /   2   6   *   s   q   r   t   (   1   3   /   3   )   ,       -   5   /   2   6   *   s   q   r   t   (   1   3   /   3   )   *   s   q   r   t   (   3   )   ]   <   /   t   d   >   \n",
       "                           <   t   d   >   s   q   r   t   (   1   3   /   3   )   <   /   t   d   >   \n",
       "                   <   /   t   r   >   \n",
       "                   <   t   r   >   \n",
       "                           <   t   d   >   2   <   /   t   d   >   \n",
       "                           <   t   d   >   1   <   /   t   d   >   \n",
       "                           <   t   d   >   1   <   /   t   d   >   \n",
       "                           <   t   d   >   2   <   /   t   d   >   \n",
       "                           <   t   d   >   [   -   3   /   2   6   *   s   q   r   t   (   1   3   /   3   )   ,       7   /   2   6   *   s   q   r   t   (   1   3   /   3   )   *   s   q   r   t   (   3   )   ]   <   /   t   d   >   \n",
       "                           <   t   d   >   s   q   r   t   (   1   3   /   3   )   <   /   t   d   >   \n",
       "                   <   /   t   r   >   \n",
       "                   <   t   r   >   \n",
       "                           <   t   d   >   2   <   /   t   d   >   \n",
       "                           <   t   d   >   1   <   /   t   d   >   \n",
       "                           <   t   d   >   2   <   /   t   d   >   \n",
       "                           <   t   d   >   -   1   <   /   t   d   >   \n",
       "                           <   t   d   >   [   6   /   1   3   *   s   q   r   t   (   1   3   /   3   )   ,       -   1   /   1   3   *   s   q   r   t   (   1   3   /   3   )   *   s   q   r   t   (   3   )   ]   <   /   t   d   >   \n",
       "                           <   t   d   >   s   q   r   t   (   1   3   /   3   )   <   /   t   d   >   \n",
       "                   <   /   t   r   >   \n",
       "                   <   t   r   >   \n",
       "                           <   t   d   >   2   <   /   t   d   >   \n",
       "                           <   t   d   >   1   <   /   t   d   >   \n",
       "                           <   t   d   >   2   <   /   t   d   >   \n",
       "                           <   t   d   >   2   <   /   t   d   >   \n",
       "                           <   t   d   >   [   3   /   2   6   *   s   q   r   t   (   1   3   /   3   )   ,       7   /   2   6   *   s   q   r   t   (   1   3   /   3   )   *   s   q   r   t   (   3   )   ]   <   /   t   d   >   \n",
       "                           <   t   d   >   s   q   r   t   (   1   3   /   3   )   <   /   t   d   >   \n",
       "                   <   /   t   r   >   \n",
       "                   <   t   r   >   \n",
       "                           <   t   d   >   1   <   /   t   d   >   \n",
       "                           <   t   d   >   2   <   /   t   d   >   \n",
       "                           <   t   d   >   1   <   /   t   d   >   \n",
       "                           <   t   d   >   -   1   <   /   t   d   >   \n",
       "                           <   t   d   >   [   3   /   2   *   s   q   r   t   (   1   /   3   )   ,       -   1   /   2   *   s   q   r   t   (   3   )   *   s   q   r   t   (   1   /   3   )   ]   <   /   t   d   >   \n",
       "                           <   t   d   >   4   *   s   q   r   t   (   1   /   3   )   <   /   t   d   >   \n",
       "                   <   /   t   r   >   \n",
       "                   <   t   r   >   \n",
       "                           <   t   d   >   2   <   /   t   d   >   \n",
       "                           <   t   d   >   1   <   /   t   d   >   \n",
       "                           <   t   d   >   -   1   <   /   t   d   >   \n",
       "                           <   t   d   >   1   <   /   t   d   >   \n",
       "                           <   t   d   >   [   -   3   /   2   *   s   q   r   t   (   1   /   3   )   ,       1   /   2   *   s   q   r   t   (   3   )   *   s   q   r   t   (   1   /   3   )   ]   <   /   t   d   >   \n",
       "                           <   t   d   >   4   *   s   q   r   t   (   1   /   3   )   <   /   t   d   >   \n",
       "                   <   /   t   r   >   \n",
       "                   <   t   r   >   \n",
       "                           <   t   d   >   1   <   /   t   d   >   \n",
       "                           <   t   d   >   2   <   /   t   d   >   \n",
       "                           <   t   d   >   0   <   /   t   d   >   \n",
       "                           <   t   d   >   -   2   <   /   t   d   >   \n",
       "                           <   t   d   >   [   9   /   3   8   *   s   q   r   t   (   1   9   /   3   )   ,       -   7   /   3   8   *   s   q   r   t   (   1   9   /   3   )   *   s   q   r   t   (   3   )   ]   <   /   t   d   >   \n",
       "                           <   t   d   >   s   q   r   t   (   1   9   /   3   )   <   /   t   d   >   \n",
       "                   <   /   t   r   >   \n",
       "                   <   t   r   >   \n",
       "                           <   t   d   >   1   <   /   t   d   >   \n",
       "                           <   t   d   >   2   <   /   t   d   >   \n",
       "                           <   t   d   >   2   <   /   t   d   >   \n",
       "                           <   t   d   >   0   <   /   t   d   >   \n",
       "                           <   t   d   >   [   1   5   /   3   8   *   s   q   r   t   (   1   9   /   3   )   ,       -   1   /   3   8   *   s   q   r   t   (   1   9   /   3   )   *   s   q   r   t   (   3   )   ]   <   /   t   d   >   \n",
       "                           <   t   d   >   s   q   r   t   (   1   9   /   3   )   <   /   t   d   >   \n",
       "                   <   /   t   r   >   \n",
       "                   <   t   r   >   \n",
       "                           <   t   d   >   2   <   /   t   d   >   \n",
       "                           <   t   d   >   1   <   /   t   d   >   \n",
       "                           <   t   d   >   -   2   <   /   t   d   >   \n",
       "                           <   t   d   >   0   <   /   t   d   >   \n",
       "                           <   t   d   >   [   -   1   5   /   3   8   *   s   q   r   t   (   1   9   /   3   )   ,       1   /   3   8   *   s   q   r   t   (   1   9   /   3   )   *   s   q   r   t   (   3   )   ]   <   /   t   d   >   \n",
       "                           <   t   d   >   s   q   r   t   (   1   9   /   3   )   <   /   t   d   >   \n",
       "                   <   /   t   r   >   \n",
       "                   <   t   r   >   \n",
       "                           <   t   d   >   2   <   /   t   d   >   \n",
       "                           <   t   d   >   1   <   /   t   d   >   \n",
       "                           <   t   d   >   0   <   /   t   d   >   \n",
       "                           <   t   d   >   2   <   /   t   d   >   \n",
       "                           <   t   d   >   [   -   9   /   3   8   *   s   q   r   t   (   1   9   /   3   )   ,       7   /   3   8   *   s   q   r   t   (   1   9   /   3   )   *   s   q   r   t   (   3   )   ]   <   /   t   d   >   \n",
       "                           <   t   d   >   s   q   r   t   (   1   9   /   3   )   <   /   t   d   >   \n",
       "                   <   /   t   r   >   \n",
       "                   <   t   r   >   \n",
       "                           <   t   d   >   1   <   /   t   d   >   \n",
       "                           <   t   d   >   1   <   /   t   d   >   \n",
       "                           <   t   d   >   -   2   <   /   t   d   >   \n",
       "                           <   t   d   >   1   <   /   t   d   >   \n",
       "                           <   t   d   >   [   -   5   /   1   4   *   s   q   r   t   (   7   )   ,       1   /   1   4   *   s   q   r   t   (   7   )   *   s   q   r   t   (   3   )   ]   <   /   t   d   >   \n",
       "                           <   t   d   >   s   q   r   t   (   7   )   <   /   t   d   >   \n",
       "                   <   /   t   r   >   \n",
       "                   <   t   r   >   \n",
       "                           <   t   d   >   1   <   /   t   d   >   \n",
       "                           <   t   d   >   1   <   /   t   d   >   \n",
       "                           <   t   d   >   -   1   <   /   t   d   >   \n",
       "                           <   t   d   >   2   <   /   t   d   >   \n",
       "                           <   t   d   >   [   -   2   /   7   *   s   q   r   t   (   7   )   ,       1   /   7   *   s   q   r   t   (   7   )   *   s   q   r   t   (   3   )   ]   <   /   t   d   >   \n",
       "                           <   t   d   >   s   q   r   t   (   7   )   <   /   t   d   >   \n",
       "                   <   /   t   r   >   \n",
       "                   <   t   r   >   \n",
       "                           <   t   d   >   1   <   /   t   d   >   \n",
       "                           <   t   d   >   1   <   /   t   d   >   \n",
       "                           <   t   d   >   1   <   /   t   d   >   \n",
       "                           <   t   d   >   -   2   <   /   t   d   >   \n",
       "                           <   t   d   >   [   2   /   7   *   s   q   r   t   (   7   )   ,       -   1   /   7   *   s   q   r   t   (   7   )   *   s   q   r   t   (   3   )   ]   <   /   t   d   >   \n",
       "                           <   t   d   >   s   q   r   t   (   7   )   <   /   t   d   >   \n",
       "                   <   /   t   r   >   \n",
       "                   <   t   r   >   \n",
       "                           <   t   d   >   1   <   /   t   d   >   \n",
       "                           <   t   d   >   1   <   /   t   d   >   \n",
       "                           <   t   d   >   2   <   /   t   d   >   \n",
       "                           <   t   d   >   -   1   <   /   t   d   >   \n",
       "                           <   t   d   >   [   5   /   1   4   *   s   q   r   t   (   7   )   ,       -   1   /   1   4   *   s   q   r   t   (   7   )   *   s   q   r   t   (   3   )   ]   <   /   t   d   >   \n",
       "                           <   t   d   >   s   q   r   t   (   7   )   <   /   t   d   >   \n",
       "                   <   /   t   r   >   \n",
       "                   <   t   r   >   \n",
       "                           <   t   d   >   2   <   /   t   d   >   \n",
       "                           <   t   d   >   2   <   /   t   d   >   \n",
       "                           <   t   d   >   -   2   <   /   t   d   >   \n",
       "                           <   t   d   >   1   <   /   t   d   >   \n",
       "                           <   t   d   >   [   -   5   /   1   4   *   s   q   r   t   (   7   )   ,       1   /   1   4   *   s   q   r   t   (   7   )   *   s   q   r   t   (   3   )   ]   <   /   t   d   >   \n",
       "                           <   t   d   >   s   q   r   t   (   7   )   <   /   t   d   >   \n",
       "                   <   /   t   r   >   \n",
       "                   <   t   r   >   \n",
       "                           <   t   d   >   2   <   /   t   d   >   \n",
       "                           <   t   d   >   2   <   /   t   d   >   \n",
       "                           <   t   d   >   -   1   <   /   t   d   >   \n",
       "                           <   t   d   >   2   <   /   t   d   >   \n",
       "                           <   t   d   >   [   -   2   /   7   *   s   q   r   t   (   7   )   ,       1   /   7   *   s   q   r   t   (   7   )   *   s   q   r   t   (   3   )   ]   <   /   t   d   >   \n",
       "                           <   t   d   >   s   q   r   t   (   7   )   <   /   t   d   >   \n",
       "                   <   /   t   r   >   \n",
       "                   <   t   r   >   \n",
       "                           <   t   d   >   2   <   /   t   d   >   \n",
       "                           <   t   d   >   2   <   /   t   d   >   \n",
       "                           <   t   d   >   1   <   /   t   d   >   \n",
       "                           <   t   d   >   -   2   <   /   t   d   >   \n",
       "                           <   t   d   >   [   2   /   7   *   s   q   r   t   (   7   )   ,       -   1   /   7   *   s   q   r   t   (   7   )   *   s   q   r   t   (   3   )   ]   <   /   t   d   >   \n",
       "                           <   t   d   >   s   q   r   t   (   7   )   <   /   t   d   >   \n",
       "                   <   /   t   r   >   \n",
       "                   <   t   r   >   \n",
       "                           <   t   d   >   2   <   /   t   d   >   \n",
       "                           <   t   d   >   2   <   /   t   d   >   \n",
       "                           <   t   d   >   2   <   /   t   d   >   \n",
       "                           <   t   d   >   -   1   <   /   t   d   >   \n",
       "                           <   t   d   >   [   5   /   1   4   *   s   q   r   t   (   7   )   ,       -   1   /   1   4   *   s   q   r   t   (   7   )   *   s   q   r   t   (   3   )   ]   <   /   t   d   >   \n",
       "                           <   t   d   >   s   q   r   t   (   7   )   <   /   t   d   >   \n",
       "                   <   /   t   r   >   \n",
       "                   <   t   r   >   \n",
       "                           <   t   d   >   1   <   /   t   d   >   \n",
       "                           <   t   d   >   2   <   /   t   d   >   \n",
       "                           <   t   d   >   -   2   <   /   t   d   >   \n",
       "                           <   t   d   >   2   <   /   t   d   >   \n",
       "                           <   t   d   >   [   -   3   /   2   *   s   q   r   t   (   1   /   3   )   ,       1   /   2   *   s   q   r   t   (   3   )   *   s   q   r   t   (   1   /   3   )   ]   <   /   t   d   >   \n",
       "                           <   t   d   >   5   *   s   q   r   t   (   1   /   3   )   <   /   t   d   >   \n",
       "                   <   /   t   r   >   \n",
       "                   <   t   r   >   \n",
       "                           <   t   d   >   2   <   /   t   d   >   \n",
       "                           <   t   d   >   1   <   /   t   d   >   \n",
       "                           <   t   d   >   2   <   /   t   d   >   \n",
       "                           <   t   d   >   -   2   <   /   t   d   >   \n",
       "                           <   t   d   >   [   3   /   2   *   s   q   r   t   (   1   /   3   )   ,       -   1   /   2   *   s   q   r   t   (   3   )   *   s   q   r   t   (   1   /   3   )   ]   <   /   t   d   >   \n",
       "                           <   t   d   >   5   *   s   q   r   t   (   1   /   3   )   <   /   t   d   >   \n",
       "                   <   /   t   r   >   \n",
       "                   <   t   r   >   \n",
       "                           <   t   d   >   1   <   /   t   d   >   \n",
       "                           <   t   d   >   2   <   /   t   d   >   \n",
       "                           <   t   d   >   1   <   /   t   d   >   \n",
       "                           <   t   d   >   -   2   <   /   t   d   >   \n",
       "                           <   t   d   >   [   1   5   /   6   2   *   s   q   r   t   (   3   1   /   3   )   ,       -   7   /   6   2   *   s   q   r   t   (   3   1   /   3   )   *   s   q   r   t   (   3   )   ]   <   /   t   d   >   \n",
       "                           <   t   d   >   s   q   r   t   (   3   1   /   3   )   <   /   t   d   >   \n",
       "                   <   /   t   r   >   \n",
       "                   <   t   r   >   \n",
       "                           <   t   d   >   1   <   /   t   d   >   \n",
       "                           <   t   d   >   2   <   /   t   d   >   \n",
       "                           <   t   d   >   2   <   /   t   d   >   \n",
       "                           <   t   d   >   -   1   <   /   t   d   >   \n",
       "                           <   t   d   >   [   9   /   3   1   *   s   q   r   t   (   3   1   /   3   )   ,       -   2   /   3   1   *   s   q   r   t   (   3   1   /   3   )   *   s   q   r   t   (   3   )   ]   <   /   t   d   >   \n",
       "                           <   t   d   >   s   q   r   t   (   3   1   /   3   )   <   /   t   d   >   \n",
       "                   <   /   t   r   >   \n",
       "                   <   t   r   >   \n",
       "                           <   t   d   >   2   <   /   t   d   >   \n",
       "                           <   t   d   >   1   <   /   t   d   >   \n",
       "                           <   t   d   >   -   2   <   /   t   d   >   \n",
       "                           <   t   d   >   1   <   /   t   d   >   \n",
       "                           <   t   d   >   [   -   9   /   3   1   *   s   q   r   t   (   3   1   /   3   )   ,       2   /   3   1   *   s   q   r   t   (   3   1   /   3   )   *   s   q   r   t   (   3   )   ]   <   /   t   d   >   \n",
       "                           <   t   d   >   s   q   r   t   (   3   1   /   3   )   <   /   t   d   >   \n",
       "                   <   /   t   r   >   \n",
       "                   <   t   r   >   \n",
       "                           <   t   d   >   2   <   /   t   d   >   \n",
       "                           <   t   d   >   1   <   /   t   d   >   \n",
       "                           <   t   d   >   -   1   <   /   t   d   >   \n",
       "                           <   t   d   >   2   <   /   t   d   >   \n",
       "                           <   t   d   >   [   -   1   5   /   6   2   *   s   q   r   t   (   3   1   /   3   )   ,       7   /   6   2   *   s   q   r   t   (   3   1   /   3   )   *   s   q   r   t   (   3   )   ]   <   /   t   d   >   \n",
       "                           <   t   d   >   s   q   r   t   (   3   1   /   3   )   <   /   t   d   >   \n",
       "                   <   /   t   r   >   \n",
       "                   <   t   r   >   \n",
       "                           <   t   d   >   1   <   /   t   d   >   \n",
       "                           <   t   d   >   1   <   /   t   d   >   \n",
       "                           <   t   d   >   -   2   <   /   t   d   >   \n",
       "                           <   t   d   >   2   <   /   t   d   >   \n",
       "                           <   t   d   >   [   -   1   /   2   *   s   q   r   t   (   3   )   ,       1   /   2   ]   <   /   t   d   >   \n",
       "                           <   t   d   >   2   *   s   q   r   t   (   3   )   <   /   t   d   >   \n",
       "                   <   /   t   r   >   \n",
       "                   <   t   r   >   \n",
       "                           <   t   d   >   1   <   /   t   d   >   \n",
       "                           <   t   d   >   1   <   /   t   d   >   \n",
       "                           <   t   d   >   2   <   /   t   d   >   \n",
       "                           <   t   d   >   -   2   <   /   t   d   >   \n",
       "                           <   t   d   >   [   1   /   2   *   s   q   r   t   (   3   )   ,       -   1   /   2   ]   <   /   t   d   >   \n",
       "                           <   t   d   >   2   *   s   q   r   t   (   3   )   <   /   t   d   >   \n",
       "                   <   /   t   r   >   \n",
       "                   <   t   r   >   \n",
       "                           <   t   d   >   2   <   /   t   d   >   \n",
       "                           <   t   d   >   2   <   /   t   d   >   \n",
       "                           <   t   d   >   -   2   <   /   t   d   >   \n",
       "                           <   t   d   >   2   <   /   t   d   >   \n",
       "                           <   t   d   >   [   -   1   /   2   *   s   q   r   t   (   3   )   ,       1   /   2   ]   <   /   t   d   >   \n",
       "                           <   t   d   >   2   *   s   q   r   t   (   3   )   <   /   t   d   >   \n",
       "                   <   /   t   r   >   \n",
       "                   <   t   r   >   \n",
       "                           <   t   d   >   2   <   /   t   d   >   \n",
       "                           <   t   d   >   2   <   /   t   d   >   \n",
       "                           <   t   d   >   2   <   /   t   d   >   \n",
       "                           <   t   d   >   -   2   <   /   t   d   >   \n",
       "                           <   t   d   >   [   1   /   2   *   s   q   r   t   (   3   )   ,       -   1   /   2   ]   <   /   t   d   >   \n",
       "                           <   t   d   >   2   *   s   q   r   t   (   3   )   <   /   t   d   >   \n",
       "                   <   /   t   r   >   \n",
       "                   <   t   r   >   \n",
       "                           <   t   d   >   1   <   /   t   d   >   \n",
       "                           <   t   d   >   2   <   /   t   d   >   \n",
       "                           <   t   d   >   2   <   /   t   d   >   \n",
       "                           <   t   d   >   -   2   <   /   t   d   >   \n",
       "                           <   t   d   >   [   3   /   2   *   s   q   r   t   (   1   /   3   )   ,       -   1   /   2   *   s   q   r   t   (   3   )   *   s   q   r   t   (   1   /   3   )   ]   <   /   t   d   >   \n",
       "                           <   t   d   >   7   *   s   q   r   t   (   1   /   3   )   <   /   t   d   >   \n",
       "                   <   /   t   r   >   \n",
       "                   <   t   r   >   \n",
       "                           <   t   d   >   2   <   /   t   d   >   \n",
       "                           <   t   d   >   1   <   /   t   d   >   \n",
       "                           <   t   d   >   -   2   <   /   t   d   >   \n",
       "                           <   t   d   >   2   <   /   t   d   >   \n",
       "                           <   t   d   >   [   -   3   /   2   *   s   q   r   t   (   1   /   3   )   ,       1   /   2   *   s   q   r   t   (   3   )   *   s   q   r   t   (   1   /   3   )   ]   <   /   t   d   >   \n",
       "                           <   t   d   >   7   *   s   q   r   t   (   1   /   3   )   <   /   t   d   >   \n",
       "                   <   /   t   r   >   \n",
       "           <   /   t   b   o   d   y   >   \n",
       "   <   /   t   a   b   l   e   >"
      ]
     },
     "execution_count": 8,
     "metadata": {},
     "output_type": "execute_result"
    }
   ],
   "source": [
    "var('q_x, q_y',domain='positive'); q=vector([q_x,q_y])\n",
    "\n",
    "\n",
    "## Paràmetres de la xarxa, de la cel·la i del cristall\n",
    "\n",
    "## Vector R_l (vector de translació primitiu)\n",
    "def R_l(l_1,l_2):\n",
    "    return l_1*a_1+l_2*a_2\n",
    "\n",
    "## Vector de posición de los átomos del cristal (en equilibrio)\n",
    "def R_alpha_l(alpha,l_1,l_2):\n",
    "    if alpha == 1:\n",
    "        return l_1*a_1+l_2*a_2+r_B\n",
    "\n",
    "    elif alpha == 2:\n",
    "        return l_1*a_1+l_2*a_2+r_N\n",
    "\n",
    "    else:\n",
    "        print(\"Error, alpha solo puede ser 1 o 2 \")\n",
    "\n",
    "## Vector unitario que une uno de los átomo alphaprima con el átomo considerado alpha, l_1,l_2\n",
    "def R_hat(alphaprima,alpha,l_1,l_2):\n",
    "    if (R_alpha_l(alpha,l_1,l_2)-R_alpha_l(alphaprima,0,0)).norm()>0:\n",
    "        return (R_alpha_l(alpha,l_1,l_2)-R_alpha_l(alphaprima,0,0))/(R_alpha_l(alpha,l_1,l_2)\\\n",
    "                                                                 -R_alpha_l(alphaprima,0,0)).norm()\n",
    "    else:\n",
    "        return (R_alpha_l(alpha,l_1,l_2)-R_alpha_l(alphaprima,0,0))\n",
    "\n",
    "# Distancia entre el átomo alphaprime y su vecino alpha situado en la celdilla l_1,l_2\n",
    "def distancia(alphaprime,alpha,l_1,l_2):\n",
    "    return (R_alpha_l(alpha,l_1,l_2)-R_alpha_l(alphaprime,0,0)).norm()/a    \n",
    "\n",
    "def fase(l_1,l_2):\n",
    "    return exp(I*q*R_l(l_1,l_2))\n",
    "\n",
    "#Genero una lista con la distancia de cada átomo a los átomos de la celdilla unidad \n",
    "def valores_atomos(l_1, l_2):\n",
    "    return [(k, m, i, j, R_hat(k, m, i, j), distancia(k,m,i,j)) for k in [1,2] for m in [1,2]  \\\n",
    "      for i in range(-l_1,l_1+1) for j in range(-l_2,l_2+1)]\n",
    "\n",
    "## Construyo un DataFrame de pandas con la información necesaria para identificar a los primeros, segundos, ... vecinos, según su distancia a cada uno de los átomos de la celdilla unidad\n",
    "columnas = [r\"$\\alpha\\prime$\",r\"$\\alpha$\",r\"$l_1$\", r\"$l_2$\", r\"$\\hat R$\",'Distancia']\n",
    "\n",
    "def lista_atomos(l_1, l_2):\n",
    "    return pd.DataFrame(valores_atomos(l_1,l_2),columns=columnas).sort_values(['Distancia',r\"$\\alpha\\prime$\"], ascending=[True,True])\n",
    "\n",
    "## Mostramos el dataframe como una tabla\n",
    "#table(lista_atomos(2,2).to_html(index=False))\n",
    "table(lista_atomos(2,2).to_html(index=False))"
   ]
  },
  {
   "cell_type": "markdown",
   "id": "wrapped-acting",
   "metadata": {},
   "source": [
    "## Tensor de constants de forca i matriu dinàmica\n",
    "\n",
    "Una vegada descrit el nostre sistema físic anem a obtindre la matriu dinàmica d'aquest, ja que com hem vist els seus valors propis, $\\omega^2$, ens donen la freqüència de propagació de cadascun dels modes.\n",
    "\n",
    "Obtesses les possicions dels àtoms y classificats estos com primers, segons, etc. veïns, segons la distància al respectiu àtom de la cel·la $\\vec 0$, procedim a calcular la contribució a la matriu dinàmica de cadascun dels àtoms, per la qual cosa necessitem conèixer el tensor de constants de força que correspon a la interacció de cada àtom amb el seu n-èssim veí.\n",
    "\n",
    "La forma general del tensor de forces d'un $n$-èssim veí és de la forma  {% cite wirtz04_phonon_disper_graph_revis %} : \n",
    "\n",
    "\n",
    "\\begin{equation}\n",
    "C_n=\\begin{pmatrix}\n",
    "\\phi_n^1&\\xi_n &0\\\\\n",
    "-\\xi_n & \\phi_n^{ti} & 0 \\\\\n",
    "0 & 0 & \\phi_n^{to}\n",
    "\\end{pmatrix}\n",
    "\\label{eq:tensordeforces}\n",
    "\\end{equation}\n",
    "\n",
    "on el sistema de coordenadas s'elegeix de manera que $x$ és la coordenada longitudinal (en la línia que conecta els dos àtomos), $y$ la coordenada transversal en el planol i $z$ la coordenada perperndicular al planol. L'estructura diagonal a blocs de la matriu reflexa el fet que las vibracions interplanars y les de fora de plà (en la direcció $z$) estan completament desacoblades.\n",
    "\n",
    "\n",
    "\n",
    "Anem a supossar (per simplificar) que un desplaçament longitudinal (radial, que estarà contés en el planol del cristall) o transversal (tangencial, siga en el planol o perpendicular al planol) sols genera una força radial o transversal, es a dir, $\\xi_n=0$ tal y com es realitza en la referència cite Balkanski 2000. Esta aproximació es coneix com l'aproximació *4NNFC*, i es necessita considerar fins els cuarts veïns per donar compte dels resultats experimentals.\n",
    "\n",
    "Por tant, com primera aproximació anem a considerar que el tensor de constants de força d'un àtom classificat com $n$-èssim, situat en la direcció $\\hat x$ respecte del átom de la cel·la $\\vec 0$, té la forma diagonal:\n",
    "\n",
    "\\begin{equation}\n",
    "C_n=\\begin{pmatrix}\n",
    "\\phi_n^r& 0 &0\\\\\n",
    "0 & \\phi_n^{ti} & 0 \\\\\n",
    "0 & 0 & \\phi_n^{to}\n",
    "\\end{pmatrix}\n",
    "\\end{equation}\n",
    "\n",
    "i per tant el tensor de constants de força de cadascun dels $n$-èssims veïns reals l'obtenim rotant esta matriu:\n",
    "\\vspace{4cm}\n",
    "\n",
    "\n",
    "Un punt important és que quan considerem la interacció entre àtoms del mateix tipus (en el cas del BN és fácil discriminarlos, ja que són àtoms de distints elements els que conformen la base), tenim que considerar la contribució a la matriu dinámica de l'àtom que estem considerant de la cel·la $\\vec 0$. Esta contribució podem derivar-la de la condició d'estabilitat, \\cite{falkovsky08_symmet_const_phonon_disper_graph}\n",
    "\\cite{wirtz04_phonon_disper_graph_revis}\n",
    "\n",
    "Si es desplaca el cristall com un tot no canvia l'energía potencial, cosa que implica s'ha de complir:\n",
    " \n",
    "......\n",
    "\n",
    "\n",
    "Podem tindre en compte altres simetries del cristall per determinar certes propietats del tensor de forces o de la seua transformada de Fourier, la matriu dinàmica (certes relacions entre les components ...) però per ara sols tindrem en compte que la matriu dinàmica es una matri hermítica, i per tant els seus valors propis, $\\omega^2$ tenen que ser reals."
   ]
  },
  {
   "cell_type": "code",
   "execution_count": 9,
   "id": "hybrid-preference",
   "metadata": {
    "tags": [
     "hide-input"
    ]
   },
   "outputs": [],
   "source": [
    "#Angle que forma l'àtom considerat respecte a l'eix x\n",
    "\n",
    "def angulo(alphaprima,alpha,l_1,l_2):\n",
    "    if R_hat(alphaprima,alpha,l_1,l_2)[1] <0:\n",
    "        return -acos(R_hat(alphaprima,alpha,l_1,l_2)*vector([1,0]))\n",
    "    \n",
    "    else:\n",
    "        return acos(R_hat(alphaprima,alpha,l_1,l_2)*vector([1,0]))\n",
    "\n",
    "#Matriz unitaria de rotación para cambio de ejes coordenados (entorno al eje z)\n",
    "\n",
    "def U(theta):\n",
    "    return matrix([[cos(theta),sin(theta),0], [-sin(theta), cos(theta),0],[0,0,1]])\n",
    "\n",
    "#Matriz de fuerza para los primeros vecinos\n",
    "\n",
    "var('M_B,M_N', domain='positive')\n",
    "var('omega')\n",
    "\n",
    "phi1rBN=var('phi1rBN',latex_name='\\\\phi_{1,r}^{BN}',domain='real')\n",
    "phi1tiBN=var('phi1tiBN',latex_name='\\\\phi_{1,ti}^{BN}',domain='real')\n",
    "phi1toBN=var('phi1toBN',latex_name='\\\\phi_{1,to}^{BN}',domain='real')\n",
    "\n",
    "phi1rNB=phi1rBN; phi1tiNB=phi1tiBN; phi1toNB=phi1toBN\n",
    "\n",
    "\n",
    "Phi_10__BN=1/sqrt(M_B*M_N)*Matrix([[phi1rBN,0,0],[0,phi1tiBN,0],[0,0,phi1toBN]])\n",
    "Phi_10__NB=1/sqrt(M_N*M_B)*Matrix([[phi1rNB,0,0],[0,phi1tiNB,0],[0,0,phi1toNB]])\n",
    "\n",
    "\n",
    "def Phi_1l__BN(alphaprima,alpha,l_1,l_2):\n",
    "    return U(-angulo(alphaprima,alpha,l_1,l_2))*Phi_10__BN*\\\n",
    "           U(angulo(alphaprima,alpha,l_1,l_2))\n",
    "\n",
    "def Phi_1l__NB(alphaprima,alpha,l_1,l_2):\n",
    "    return U(-angulo(alphaprima,alpha,l_1,l_2))*Phi_10__NB*\\\n",
    "           U(angulo(alphaprima,alpha,l_1,l_2))\n",
    "\n",
    "def D_1l_BN(alphaprima,alpha,l_1,l_2):\n",
    "    return Phi_1l__BN(alphaprima,alpha,l_1,l_2)*fase(l_1,l_2)\n",
    "\n",
    "def D_1l_NB(alphaprima,alpha,l_1,l_2):\n",
    "    return Phi_1l__NB(alphaprima,alpha,l_1,l_2)*fase(l_1,l_2)\n",
    "\n",
    "# Matriz de fuerza para los segundos vecinos\n",
    "\n",
    "phi2rBB=var('phi2rBB',latex_name='\\\\phi_{2,r}^{BB}',domain='real')\n",
    "phi2tiBB=var('phi2tiBB',latex_name='\\\\phi_{2,ti}^{BB}',domain='real')\n",
    "phi2toBB=var('phi2toBB',latex_name='\\\\phi_{2,to}^{BB}',domain='real')\n",
    "\n",
    "phi2rNN=var('phi2rNN',latex_name='\\\\phi_{2,r}^{NN}',domain='real')\n",
    "phi2tiNN=var('phi2tiNN',latex_name='\\\\phi_{2,ti}^{NN}',domain='real')\n",
    "phi2toNN=var('phi2toNN',latex_name='\\\\phi_{2,to}^{NN}',domain='real')\n",
    "\n",
    "Phi_20__BB=1/M_B*Matrix([[phi2rBB,0,0],[0,phi2tiBB,0],[0,0,phi2toBB]])\n",
    "Phi_20__NN=1/M_N*Matrix([[phi2rNN,0,0],[0,phi2tiNN,0],[0,0,phi2toNN]])\n",
    "\n",
    "#A tener en cuenta: cuando consideramos el mismo tipo de átomos \n",
    "# (de la misma subred, no porque sean el mismmo elemento)\n",
    "\n",
    "def Phi_2l__BB(alphaprima,alpha,l_1,l_2):\n",
    "    return U(-angulo(alphaprima,alpha,l_1,l_2))*Phi_20__BB*\\\n",
    "           U(angulo(alphaprima,alpha,l_1,l_2))\n",
    "\n",
    "def Phi_2l__NN(alphaprima,alpha,l_1,l_2):\n",
    "    return U(-angulo(alphaprima,alpha,l_1,l_2))*Phi_20__NN*\\\n",
    "           U(angulo(alphaprima,alpha,l_1,l_2))\n",
    "\n",
    "def D_2l_BB(alphaprima,alpha,l_1,l_2):\n",
    "    return Phi_2l__BB(alphaprima,alpha,l_1,l_2)*fase(l_1,l_2)\n",
    "\n",
    "def D_2l_NN(alphaprima,alpha,l_1,l_2):\n",
    "    return Phi_2l__NN(alphaprima,alpha,l_1,l_2)*fase(l_1,l_2)\n",
    "\n",
    "\n",
    "#Matriz de fuerza para los terceros vecinos\n",
    "\n",
    "phi3rBN=var('phi3rBN',latex_name='\\\\phi_{3,r}^{BN}',domain='real')\n",
    "phi3tiBN=var('phi3tiBN',latex_name='\\\\phi_{3,ti}^{BN}',domain='real')\n",
    "phi3toBN=var('phi3toBN',latex_name='\\\\phi_{3,to}^{BN}',domain='real')\n",
    "phi3rNB,phi3tiNB,phi3toNB=phi3rBN,phi3tiBN,phi3toBN\n",
    "Phi_30__BN=1/sqrt(M_B*M_N)*Matrix([[phi3rBN,0,0],[0,phi3tiBN,0],[0,0,phi3toBN]])\n",
    "Phi_30__NB=1/sqrt(M_N*M_B)*Matrix([[phi3rNB,0,0],[0,phi3tiNB,0],[0,0,phi3toNB]])\n",
    "                   \n",
    "def Phi_3l__BN(alphaprima,alpha,l_1,l_2):\n",
    "    return U(-angulo(alphaprima,alpha,l_1,l_2))*Phi_30__BN*\\\n",
    "           U(angulo(alphaprima,alpha,l_1,l_2))\n",
    "\n",
    "def Phi_3l__NB(alphaprima,alpha,l_1,l_2):\n",
    "    return U(-angulo(alphaprima,alpha,l_1,l_2))*Phi_30__NB*\\\n",
    "           U(angulo(alphaprima,alpha,l_1,l_2))\n",
    "\n",
    "def D_3l_BN(alphaprima,alpha,l_1,l_2):\n",
    "    return Phi_3l__BN(alphaprima,alpha,l_1,l_2)*fase(l_1,l_2)\n",
    "\n",
    "def D_3l_NB(alphaprima,alpha,l_1,l_2):\n",
    "    return Phi_3l__NB(alphaprima,alpha,l_1,l_2)*fase(l_1,l_2)\n",
    "\n",
    "#Matriz de fuerza para los cuartos vecinos\n",
    "phi4rBN=var('phi4rBN',latex_name='\\\\phi_{4,r}^{BN}',domain='real')\n",
    "phi4tiBN=var('phi4tiBN',latex_name='\\\\phi_{4,ti}^{BN}',domain='real')\n",
    "phi4toBN=var('phi4toBN',latex_name='\\\\phi_{4,to}^{BN}',domain='real')\n",
    "phi4rNB,phi4tiNB,phi4toNB=phi4rBN,phi4tiBN,phi4toBN\n",
    "\n",
    "Phi_40__BN=1/sqrt(M_B*M_N)*Matrix([[phi4rBN,0,0],[0,phi4tiBN,0],[0,0,phi4toBN]])\n",
    "Phi_40__NB=1/sqrt(M_N*M_B)*Matrix([[phi4rNB,0,0],[0,phi4tiNB,0],[0,0,phi4toNB]])\n",
    "\n",
    "def Phi_4l__BN(alphaprima,alpha,l_1,l_2):\n",
    "    return U(-angulo(alphaprima,alpha,l_1,l_2))*Phi_40__BN*\\\n",
    "           U(angulo(alphaprima,alpha,l_1,l_2))\n",
    "\n",
    "def Phi_4l__NB(alphaprima,alpha,l_1,l_2):\n",
    "    return U(-angulo(alphaprima,alpha,l_1,l_2))*Phi_40__NB*\\\n",
    "           U(angulo(alphaprima,alpha,l_1,l_2))\n",
    "\n",
    "def D_4l_BN(alphaprima,alpha,l_1,l_2):\n",
    "    return Phi_4l__BN(alphaprima,alpha,l_1,l_2)*fase(l_1,l_2)\n",
    "\n",
    "def D_4l_NB(alphaprima,alpha,l_1,l_2):\n",
    "    return Phi_4l__NB(alphaprima,alpha,l_1,l_2)*fase(l_1,l_2)\n",
    "\n",
    "# Finalmente construimos la matriz dinámica \"a capas\"\n",
    "# Con la tabla de la celda de codigo anterior comprobamos que para considerar \n",
    "# hasta los cuartos vecinos es suficiente con l_1,l_2=2\n",
    "                   \n",
    "D1BN, D1NB, D2BB, D2NN, D3BN, D3NB, D4BN, D4NB = (matrix(3) for i in range(8))\n",
    "D01BN, D01NB, D02BB, D02NN, D03BN, D03NB, D04BN, D04NB= (matrix(3) for i in range(8))\n",
    "for k in [1,2]:\n",
    "    for m in [1,2]:\n",
    "         for i in range(-2,3):\n",
    "            for j in range(-2,4):\n",
    "                if (k==1) & bool( distancia(k,m,i,j) == sqrt(3)/3 ):\n",
    "                    D1BN += D_1l_BN(k,m,i,j)\n",
    "                    D01BN += Phi_1l__BN(k,m,i,j)\n",
    "\n",
    "                elif (k==2) & bool( distancia(k,m,i,j) == sqrt(3)/3 ):\n",
    "                    D1NB += D_1l_NB(k,m,i,j)\n",
    "                    D01NB += Phi_1l__NB(k,m,i,j)\n",
    "                 \n",
    "                elif (k==1) & bool( distancia(k,m,i,j) == 1):\n",
    "                    D2BB += D_2l_BB(k,m,i,j)\n",
    "                    D02BB += Phi_2l__BB(k,m,i,j)\n",
    "\n",
    "                elif (k==2) & bool( distancia(k,m,i,j) == 1):\n",
    "                    D2NN += D_2l_NN(k,m,i,j)\n",
    "                    D02NN += Phi_2l__NN(k,m,i,j)\n",
    "\n",
    "                elif (k==1) & bool( distancia(k,m,i,j) == 2*sqrt(3)/3 ):\n",
    "                    D3BN += D_3l_BN(k,m,i,j)\n",
    "                    D03BN += Phi_3l__BN(k,m,i,j)\n",
    "\n",
    "                elif (k==2) & bool( distancia(k,m,i,j) == 2*sqrt(3)/3 ):\n",
    "                    D3NB += D_3l_NB(k,m,i,j)\n",
    "                    D03NB += Phi_3l__NB(k,m,i,j)\n",
    "                    \n",
    "                elif (k==1) & bool( distancia(k,m,i,j) == sqrt(7/3)):\n",
    "                    D4BN += D_4l_BN(k,m,i,j)\n",
    "                    D04BN += Phi_4l__NB(k,m,i,j)\n",
    "\n",
    "                elif (k==2) & bool( distancia(k,m,i,j) == sqrt(7/3)):\n",
    "                    D4NB += D_4l_NB(k,m,i,j)\n",
    "                    D04NB += Phi_4l__NB(k,m,i,j)\n",
    "\n",
    "# Tenemos en cuenta la contribución a la matriz dinámica de los átomos situados en \n",
    "# la celdilla 0\n",
    "D2BB3ers=D2BB-D01BN-D02BB-D03BN\n",
    "D2NN3ers=D2NN-D01NB-D02NN-D03NB\n",
    "\n",
    "D2BB4ts=D2BB-D01BN-D02BB-D03BN-D04BN\n",
    "D2NN4ts=D2NN-D01NB-D02NN-D03NB-D04NB\n",
    "\n",
    "omegaGammaZA=var('omegaGammaZA',latex_name='\\\\omega(\\\\Gamma)_{ZA}',domain='positive')\n",
    "omegaGammaTA=var('omegaGammaTA',latex_name='\\\\omega(\\\\Gamma)_{TA}',domain='positive')\n",
    "omegaGammaLA=var('omegaGammaLA',latex_name='\\\\omega(\\\\Gamma)_{LA}',domain='positive')\n",
    "omegaGammaZO=var('omegaGammaZO',latex_name='\\\\omega(\\\\Gamma)_{ZO}',domain='positive')\n",
    "omegaGammaTO=var('omegaGammaTO',latex_name='\\\\omega(\\\\Gamma)_{TO}',domain='positive')\n",
    "omegaGammaLO=var('omegaGammaLO',latex_name='\\\\omega(\\\\Gamma)_{LO}',domain='positive')\n",
    "\n",
    "omegaMZA=var('omegaMZA',latex_name='\\\\omega(M)_{ZA}',domain='positive')\n",
    "omegaMTA=var('omegaMTA',latex_name='\\\\omega(M)_{TA}',domain='positive')\n",
    "omegaMLA=var('omegaMLA',latex_name='\\\\omega(M)_{LA}',domain='positive')\n",
    "omegaMZO=var('omegaMZO',latex_name='\\\\omega(M)_{ZO}',domain='positive')\n",
    "omegaMTO=var('omegaMTO',latex_name='\\\\omega(M)_{TO}',domain='positive')\n",
    "omegaMLO=var('omegaMLO',latex_name='\\\\omega(M)_{LO}',domain='positive')\n",
    "\n",
    "omegaKZA=var('omegaKZA',latex_name='\\\\omega(K)_{ZA}',domain='positive')\n",
    "omegaKTA=var('omegaKTA',latex_name='\\\\omega(K)_{TA}',domain='positive')\n",
    "omegaKLA=var('omegaKLA',latex_name='\\\\omega(K)_{LA}',domain='positive')\n",
    "omegaKZO=var('omegaKZO',latex_name='\\\\omega(K)_{ZO}',domain='positive')\n",
    "omegaKTO=var('omegaKTO',latex_name='\\\\omega(K)_{TO}',domain='positive')\n",
    "omegaKLO=var('omegaKLO',latex_name='\\\\omega(K)_{LO}',domain='positive')"
   ]
  },
  {
   "cell_type": "markdown",
   "id": "cleared-benefit",
   "metadata": {},
   "source": [
    "Tenim per tant que la matriu dinàmica serà una matriu $6x6$ hermítica. Però donat que les components en $z$ d'esta matriu es troben desacoblades podem tractar aquestes vibracions de manera independent.\n",
    "\n",
    "\n",
    "## Vibracions fora de pla \n",
    "Donat que les vibracions fora de pla són, per com hem construït la matriu dinàmica, independients de les interplanars, procedim a estudiar-les, de manera que treballarem primer amb una matriu $2\\times 2$, en compte de directament amb una matriu $6\\times 6$ (i quan estudiem les vibracions dins del pla treballarem amb una matriu $4\\times 4$"
   ]
  },
  {
   "cell_type": "code",
   "execution_count": 10,
   "id": "aggregate-amsterdam",
   "metadata": {
    "tags": [
     "hide-input"
    ]
   },
   "outputs": [],
   "source": [
    "D1BN_zz=D1BN[2,2]\n",
    "D1NB_zz=D1NB[2,2]\n",
    "\n",
    "D2BB3ers_zz=D2BB3ers[2,2]\n",
    "D2NN3ers_zz=D2NN3ers[2,2]\n",
    "\n",
    "D2BB4ts_zz=D2BB4ts[2,2]\n",
    "D2NN4ts_zz=D2NN4ts[2,2]\n",
    "\n",
    "D3BN_zz=D3BN[2,2]\n",
    "D3NB_zz=D3NB[2,2]\n",
    "D4BN_zz=D4BN[2,2]\n",
    "D4NB_zz=D4NB[2,2]\n",
    "\n",
    "D_zz3ers=Matrix([[D2BB3ers_zz,D1BN_zz+D3BN_zz],        [D1NB_zz+D3NB_zz,D2NN3ers_zz]])\n",
    "\n",
    "D_zz4ts=Matrix([[D2BB4ts_zz,D1BN_zz+D3BN_zz+D4BN_zz], [D1NB_zz+D3NB_zz+D4BN_zz,D2NN4ts_zz]])\n",
    "#Si considerem fins als 4ts veïns la constant de força phi4toBN té que ser nul.la perquè \n",
    "#un dels valors propis en Gamma s'anul.le: no fa falta considerar en este cas\n",
    "\n",
    "#\n",
    "\n",
    "#valors_propis_D_zz=D_zz.eigenvalues()\n",
    "#D_zz[0,0].simplify_full()"
   ]
  },
  {
   "cell_type": "markdown",
   "id": "continued-reform",
   "metadata": {},
   "source": [
    "### Primer considerem fins 3ers veïns"
   ]
  },
  {
   "cell_type": "markdown",
   "id": "french-thinking",
   "metadata": {},
   "source": [
    "#### Punt $\\Gamma$\n",
    "\n",
    "\n",
    "\n",
    "Per al punt $(k_x=0, k_y=0)$, la matriu que tenim és:"
   ]
  },
  {
   "cell_type": "code",
   "execution_count": 11,
   "id": "adopted-rabbit",
   "metadata": {
    "tags": [
     "hide-input"
    ]
   },
   "outputs": [
    {
     "data": {
      "text/html": [
       "<html><script type=\"math/tex; mode=display\">\\newcommand{\\Bold}[1]{\\mathbf{#1}}\\left(\\begin{array}{rr}\n",
       "-\\frac{3 \\, {\\phi_{1,to}^{BN}}}{\\sqrt{M_{B} M_{N}}} - \\frac{3 \\, {\\phi_{3,to}^{BN}}}{\\sqrt{M_{B} M_{N}}} & \\frac{3 \\, {\\phi_{1,to}^{BN}}}{\\sqrt{M_{B} M_{N}}} + \\frac{3 \\, {\\phi_{3,to}^{BN}}}{\\sqrt{M_{B} M_{N}}} \\\\\n",
       "\\frac{3 \\, {\\phi_{1,to}^{BN}}}{\\sqrt{M_{B} M_{N}}} + \\frac{3 \\, {\\phi_{3,to}^{BN}}}{\\sqrt{M_{B} M_{N}}} & -\\frac{3 \\, {\\phi_{1,to}^{BN}}}{\\sqrt{M_{B} M_{N}}} - \\frac{3 \\, {\\phi_{3,to}^{BN}}}{\\sqrt{M_{B} M_{N}}}\n",
       "\\end{array}\\right)</script></html>"
      ],
      "text/latex": [
       "\\begin{math}\n",
       "\\newcommand{\\Bold}[1]{\\mathbf{#1}}\\left(\\begin{array}{rr}\n",
       "-\\frac{3 \\, {\\phi_{1,to}^{BN}}}{\\sqrt{M_{B} M_{N}}} - \\frac{3 \\, {\\phi_{3,to}^{BN}}}{\\sqrt{M_{B} M_{N}}} & \\frac{3 \\, {\\phi_{1,to}^{BN}}}{\\sqrt{M_{B} M_{N}}} + \\frac{3 \\, {\\phi_{3,to}^{BN}}}{\\sqrt{M_{B} M_{N}}} \\\\\n",
       "\\frac{3 \\, {\\phi_{1,to}^{BN}}}{\\sqrt{M_{B} M_{N}}} + \\frac{3 \\, {\\phi_{3,to}^{BN}}}{\\sqrt{M_{B} M_{N}}} & -\\frac{3 \\, {\\phi_{1,to}^{BN}}}{\\sqrt{M_{B} M_{N}}} - \\frac{3 \\, {\\phi_{3,to}^{BN}}}{\\sqrt{M_{B} M_{N}}}\n",
       "\\end{array}\\right)\n",
       "\\end{math}"
      ],
      "text/plain": [
       "[-3*phi1toBN/sqrt(M_B*M_N) - 3*phi3toBN/sqrt(M_B*M_N)  3*phi1toBN/sqrt(M_B*M_N) + 3*phi3toBN/sqrt(M_B*M_N)]\n",
       "[ 3*phi1toBN/sqrt(M_B*M_N) + 3*phi3toBN/sqrt(M_B*M_N) -3*phi1toBN/sqrt(M_B*M_N) - 3*phi3toBN/sqrt(M_B*M_N)]"
      ]
     },
     "metadata": {},
     "output_type": "display_data"
    }
   ],
   "source": [
    "from periodictable import C, B, N, constants\n",
    "u=constants.atomic_mass_constant*10**3 #para que este en CGS (y las const. de fuerza en dyn)\n",
    "\n",
    "omega_Gamma_ZO=830 #cm-1\n",
    "omega_Gamma_ZA=0\n",
    "D_Gamma3ers_zz=D_zz3ers.subs(q_x=0,q_y=0) #,(M_B,B.mass*u),(M_N,N.mass*u)])\n",
    "show(D_Gamma3ers_zz)"
   ]
  },
  {
   "cell_type": "markdown",
   "id": "suitable-ethernet",
   "metadata": {},
   "source": [
    "amb autovalors:"
   ]
  },
  {
   "cell_type": "code",
   "execution_count": 12,
   "id": "plain-property",
   "metadata": {
    "tags": [
     "hide-input"
    ]
   },
   "outputs": [
    {
     "data": {
      "text/html": [
       "<html><script type=\"math/tex; mode=display\">\\newcommand{\\Bold}[1]{\\mathbf{#1}}\\left[-\\frac{6 \\, {\\left({\\phi_{1,to}^{BN}} + {\\phi_{3,to}^{BN}}\\right)}}{\\sqrt{M_{B} M_{N}}}, 0\\right]</script></html>"
      ],
      "text/latex": [
       "\\begin{math}\n",
       "\\newcommand{\\Bold}[1]{\\mathbf{#1}}\\left[-\\frac{6 \\, {\\left({\\phi_{1,to}^{BN}} + {\\phi_{3,to}^{BN}}\\right)}}{\\sqrt{M_{B} M_{N}}}, 0\\right]\n",
       "\\end{math}"
      ],
      "text/plain": [
       "[-6*(phi1toBN + phi3toBN)/sqrt(M_B*M_N), 0]"
      ]
     },
     "execution_count": 12,
     "metadata": {},
     "output_type": "execute_result"
    }
   ],
   "source": [
    "D_Gamma3ers_zz.eigenvalues()"
   ]
  },
  {
   "cell_type": "markdown",
   "id": "reserved-universe",
   "metadata": {},
   "source": [
    "De manera que al punt $\\Gamma$ trobem que s'ha de complir l'equació:"
   ]
  },
  {
   "cell_type": "code",
   "execution_count": 13,
   "id": "fifty-picnic",
   "metadata": {},
   "outputs": [
    {
     "data": {
      "text/html": [
       "<html><script type=\"math/tex; mode=display\">\\newcommand{\\Bold}[1]{\\mathbf{#1}}-\\frac{6 \\, {\\left({\\phi_{1,to}^{BN}} + {\\phi_{3,to}^{BN}}\\right)}}{\\sqrt{M_{B} M_{N}}} = {\\omega(\\Gamma)_{ZO}}^{2}</script></html>"
      ],
      "text/latex": [
       "\\begin{math}\n",
       "\\newcommand{\\Bold}[1]{\\mathbf{#1}}-\\frac{6 \\, {\\left({\\phi_{1,to}^{BN}} + {\\phi_{3,to}^{BN}}\\right)}}{\\sqrt{M_{B} M_{N}}} = {\\omega(\\Gamma)_{ZO}}^{2}\n",
       "\\end{math}"
      ],
      "text/plain": [
       "-6*(phi1toBN + phi3toBN)/sqrt(M_B*M_N) == omegaGammaZO^2"
      ]
     },
     "metadata": {},
     "output_type": "display_data"
    }
   ],
   "source": [
    "Eq_Gamma_ZO3ers=(D_Gamma3ers_zz.eigenvalues()[0]==omegaGammaZO**2)\n",
    "show(Eq_Gamma_ZO3ers)"
   ]
  },
  {
   "cell_type": "markdown",
   "id": "removed-little",
   "metadata": {},
   "source": [
    "#### Punt $M$\n",
    "\n",
    "Al punt $M$ $\\left(q_x=\\pi/a,q_y=\\pi/(\\sqrt 3 a\\right)$ els valors propis de la matriu dinàmica són:"
   ]
  },
  {
   "cell_type": "code",
   "execution_count": 14,
   "id": "excess-secondary",
   "metadata": {
    "tags": [
     "hide-input"
    ]
   },
   "outputs": [
    {
     "data": {
      "text/html": [
       "<html><script type=\"math/tex; mode=display\">\\newcommand{\\Bold}[1]{\\mathbf{#1}}-\\frac{3 \\, {\\left({\\phi_{1,to}^{BN}} + {\\phi_{3,to}^{BN}}\\right)}}{\\sqrt{M_{B} M_{N}}} - \\frac{4 \\, {\\phi_{2,to}^{BB}}}{M_{B}} - \\frac{4 \\, {\\phi_{2,to}^{NN}}}{M_{N}} - \\frac{\\sqrt{M_{B} M_{N} {\\left({\\phi_{1,to}^{BN}} - 3 \\, {\\phi_{3,to}^{BN}}\\right)}^{2} + 16 \\, {\\left(M_{N} {\\phi_{2,to}^{BB}} - M_{B} {\\phi_{2,to}^{NN}}\\right)}^{2}}}{M_{B} M_{N}} = {\\omega(M)_{ZA}}^{2}</script></html>"
      ],
      "text/latex": [
       "\\begin{math}\n",
       "\\newcommand{\\Bold}[1]{\\mathbf{#1}}-\\frac{3 \\, {\\left({\\phi_{1,to}^{BN}} + {\\phi_{3,to}^{BN}}\\right)}}{\\sqrt{M_{B} M_{N}}} - \\frac{4 \\, {\\phi_{2,to}^{BB}}}{M_{B}} - \\frac{4 \\, {\\phi_{2,to}^{NN}}}{M_{N}} - \\frac{\\sqrt{M_{B} M_{N} {\\left({\\phi_{1,to}^{BN}} - 3 \\, {\\phi_{3,to}^{BN}}\\right)}^{2} + 16 \\, {\\left(M_{N} {\\phi_{2,to}^{BB}} - M_{B} {\\phi_{2,to}^{NN}}\\right)}^{2}}}{M_{B} M_{N}} = {\\omega(M)_{ZA}}^{2}\n",
       "\\end{math}"
      ],
      "text/plain": [
       "-3*(phi1toBN + phi3toBN)/sqrt(M_B*M_N) - 4*phi2toBB/M_B - 4*phi2toNN/M_N - sqrt(M_B*M_N*(phi1toBN - 3*phi3toBN)^2 + 16*(M_N*phi2toBB - M_B*phi2toNN)^2)/(M_B*M_N) == omegaMZA^2"
      ]
     },
     "metadata": {},
     "output_type": "display_data"
    },
    {
     "data": {
      "text/html": [
       "<html><script type=\"math/tex; mode=display\">\\newcommand{\\Bold}[1]{\\mathbf{#1}}-\\frac{3 \\, {\\left({\\phi_{1,to}^{BN}} + {\\phi_{3,to}^{BN}}\\right)}}{\\sqrt{M_{B} M_{N}}} - \\frac{4 \\, {\\phi_{2,to}^{BB}}}{M_{B}} - \\frac{4 \\, {\\phi_{2,to}^{NN}}}{M_{N}} + \\frac{\\sqrt{M_{B} M_{N} {\\left({\\phi_{1,to}^{BN}} - 3 \\, {\\phi_{3,to}^{BN}}\\right)}^{2} + 16 \\, {\\left(M_{N} {\\phi_{2,to}^{BB}} - M_{B} {\\phi_{2,to}^{NN}}\\right)}^{2}}}{M_{B} M_{N}} = {\\omega(M)_{ZO}}^{2}</script></html>"
      ],
      "text/latex": [
       "\\begin{math}\n",
       "\\newcommand{\\Bold}[1]{\\mathbf{#1}}-\\frac{3 \\, {\\left({\\phi_{1,to}^{BN}} + {\\phi_{3,to}^{BN}}\\right)}}{\\sqrt{M_{B} M_{N}}} - \\frac{4 \\, {\\phi_{2,to}^{BB}}}{M_{B}} - \\frac{4 \\, {\\phi_{2,to}^{NN}}}{M_{N}} + \\frac{\\sqrt{M_{B} M_{N} {\\left({\\phi_{1,to}^{BN}} - 3 \\, {\\phi_{3,to}^{BN}}\\right)}^{2} + 16 \\, {\\left(M_{N} {\\phi_{2,to}^{BB}} - M_{B} {\\phi_{2,to}^{NN}}\\right)}^{2}}}{M_{B} M_{N}} = {\\omega(M)_{ZO}}^{2}\n",
       "\\end{math}"
      ],
      "text/plain": [
       "-3*(phi1toBN + phi3toBN)/sqrt(M_B*M_N) - 4*phi2toBB/M_B - 4*phi2toNN/M_N + sqrt(M_B*M_N*(phi1toBN - 3*phi3toBN)^2 + 16*(M_N*phi2toBB - M_B*phi2toNN)^2)/(M_B*M_N) == omegaMZO^2"
      ]
     },
     "metadata": {},
     "output_type": "display_data"
    }
   ],
   "source": [
    "omega_M_ZO=635 #cm-1\n",
    "omega_M_ZA=314\n",
    "\n",
    "D_M3ers_zz=D_zz3ers.subs(q_x=pi/a,q_y=pi/(sqrt(3)*a))\n",
    "\n",
    "# Podem simplificar un poc l'expressió obtessa per als valores propios al punto $M$ \n",
    "#(simplement reescribint l'argument de l'arrel quadrada)\n",
    "\n",
    "omegaM1quadrat3ers=-4*phi2toBB/M_B-4*phi2toNN/M_N-3/sqrt(M_B*M_N)*(phi1toBN+phi3toBN)\\\n",
    "   -sqrt(M_B*M_N*(phi1toBN-3*phi3toBN)^2+(4*(M_N*phi2toBB-M_B*phi2toNN))^2)/(M_B*M_N)\n",
    "\n",
    "if bool(D_M3ers_zz.eigenvalues()[0]==omegaM1quadrat3ers):\n",
    "    Eq_M_ZA3ers=(omegaM1quadrat3ers==omegaMZA**2)\n",
    "\n",
    "\n",
    "\n",
    "omegaM2quadrat3ers=-4*phi2toBB/M_B-4*phi2toNN/M_N-3/sqrt(M_B*M_N)*(phi1toBN+phi3toBN)\\\n",
    "   +sqrt(M_B*M_N*(phi1toBN-3*phi3toBN)^2+(4*(M_N*phi2toBB-M_B*phi2toNN))^2)/(M_B*M_N)\n",
    "\n",
    "if bool(D_M3ers_zz.eigenvalues()[1]==omegaM2quadrat3ers):\n",
    "    Eq_M_ZO3ers=(omegaM2quadrat3ers==omegaMZO**2)\n",
    "\n",
    "Eq_M_ZOmesZA3ers=(Eq_M_ZO3ers+Eq_M_ZA3ers).subs(Eq_Gamma_ZO3ers.solve(phi3toBN)[0]).expand()\n",
    "Eq_M_ZOmenysZA3ers_quadrat=((Eq_M_ZO3ers-Eq_M_ZA3ers)**2).subs(Eq_Gamma_ZO3ers.solve(phi3toBN)[0])\n",
    "\n",
    "show(Eq_M_ZA3ers)\n",
    "show(Eq_M_ZO3ers)"
   ]
  },
  {
   "cell_type": "markdown",
   "id": "choice-office",
   "metadata": {},
   "source": [
    "Notem que el segon valor propi és major que el primer (l'arrel quadrada és possitiva) i per tant correspon a la rama $ZO$, i el primer a $ZA$."
   ]
  },
  {
   "cell_type": "markdown",
   "id": "grave-weekly",
   "metadata": {},
   "source": [
    "#### Punt $K$ \n",
    "Per al punt ($k_x=4\\pi/(3 a)$, $k_y=0$) obtenim els autovalors:"
   ]
  },
  {
   "cell_type": "code",
   "execution_count": 15,
   "id": "progressive-slovenia",
   "metadata": {
    "tags": [
     "hide-input"
    ]
   },
   "outputs": [
    {
     "data": {
      "text/html": [
       "<html><script type=\"math/tex; mode=display\">\\newcommand{\\Bold}[1]{\\mathbf{#1}}\\frac{1}{2} \\, {\\omega(\\Gamma)_{ZO}}^{2} - \\frac{9 \\, {\\phi_{2,to}^{NN}}}{M_{N}} = {\\omega(K)_{ZA}}^{2}</script></html>"
      ],
      "text/latex": [
       "\\begin{math}\n",
       "\\newcommand{\\Bold}[1]{\\mathbf{#1}}\\frac{1}{2} \\, {\\omega(\\Gamma)_{ZO}}^{2} - \\frac{9 \\, {\\phi_{2,to}^{NN}}}{M_{N}} = {\\omega(K)_{ZA}}^{2}\n",
       "\\end{math}"
      ],
      "text/plain": [
       "1/2*omegaGammaZO^2 - 9*phi2toNN/M_N == omegaKZA^2"
      ]
     },
     "metadata": {},
     "output_type": "display_data"
    },
    {
     "data": {
      "text/html": [
       "<html><script type=\"math/tex; mode=display\">\\newcommand{\\Bold}[1]{\\mathbf{#1}}\\frac{1}{2} \\, {\\omega(\\Gamma)_{ZO}}^{2} - \\frac{9 \\, {\\phi_{2,to}^{BB}}}{M_{B}} = {\\omega(K)_{ZO}}^{2}</script></html>"
      ],
      "text/latex": [
       "\\begin{math}\n",
       "\\newcommand{\\Bold}[1]{\\mathbf{#1}}\\frac{1}{2} \\, {\\omega(\\Gamma)_{ZO}}^{2} - \\frac{9 \\, {\\phi_{2,to}^{BB}}}{M_{B}} = {\\omega(K)_{ZO}}^{2}\n",
       "\\end{math}"
      ],
      "text/plain": [
       "1/2*omegaGammaZO^2 - 9*phi2toBB/M_B == omegaKZO^2"
      ]
     },
     "metadata": {},
     "output_type": "display_data"
    }
   ],
   "source": [
    "omega_K_ZO=605 #cm-1\n",
    "omega_K_ZA=322\n",
    "D_K_zz3ers=D_zz3ers.subs(q_x=4*pi/(3*a),q_y=0)\n",
    "\n",
    "Eq_K_ZA3ers=(D_K_zz3ers.eigenvalues()[0]==omegaKZA**2).subs(Eq_Gamma_ZO3ers.solve(phi3toBN)[0]).expand()\n",
    "\n",
    "Eq_K_ZO3ers=(D_K_zz3ers.eigenvalues()[1]==omegaKZO**2).subs(Eq_Gamma_ZO3ers.solve(phi3toBN)[0]).expand()\n",
    "\n",
    "show(Eq_K_ZA3ers)\n",
    "show(Eq_K_ZO3ers)"
   ]
  },
  {
   "cell_type": "markdown",
   "id": "secure-columbia",
   "metadata": {},
   "source": [
    "Notem que en el cas del BN, a diferència del cas del grafè, obtenim 2 freqüenciès distintes al punt $K$ ja que la base està constituïda per dos àtoms d'elements distints (el segon terme d'ambdues equacions es diferent en este cas).\n",
    "Tenim que tindre en compte que en aquest cas no sabem a priori a quina rama correspon cada valor propi, segons l'elecció que realitzem obtindrem els valors de les constants $\\phi_{2,to}^{NN}$ i $\\phi_{2,to}^{BB}$ intercambiades."
   ]
  },
  {
   "cell_type": "markdown",
   "id": "controversial-pursuit",
   "metadata": {},
   "source": [
    "#### Constants de força\n",
    "<b>Passem a resoldre les equacions per obtindre les constants de força</b>:</p>\n",
    "Tenim més equacions que incògnites, i segons les ecuacions escollides obtenim valors diferents, ja que per una banda emprem equacions teòriques i per altra valos experimentals. El sistema d'equacions que obtenim el podem resoldre, en este cas, tant analítica com numèricament.</p>\n",
    "Segons les equacions que escollim per construir el sistema d'equacions amb el qual resoldre les constants de força obtenim diferents valors per estes constants."
   ]
  },
  {
   "cell_type": "code",
   "execution_count": 16,
   "id": "minor-titanium",
   "metadata": {},
   "outputs": [],
   "source": [
    "valors_numerics_emprats=[omegaGammaZO==omega_Gamma_ZO,omegaMZO==omega_M_ZO,omegaMZA==omega_M_ZA,\\\n",
    "                         omegaKZO==omega_K_ZO, omegaKZA==omega_K_ZA, M_B==B.mass, M_N==N.mass]"
   ]
  },
  {
   "cell_type": "markdown",
   "id": "similar-statement",
   "metadata": {},
   "source": [
    "Per exemple, una solució analítica que trobem és:"
   ]
  },
  {
   "cell_type": "code",
   "execution_count": 17,
   "id": "checked-stock",
   "metadata": {},
   "outputs": [
    {
     "data": {
      "text/html": [
       "<html><script type=\"math/tex; mode=display\">\\newcommand{\\Bold}[1]{\\mathbf{#1}}\\left[\\left({\\phi_{1,to}^{BN}}, \\verb|=|, -1361164\\right), \\left({\\phi_{2,to}^{BB}}, \\verb|=|, -25916\\right), \\left({\\phi_{2,to}^{NN}}, \\verb|=|, 374704\\right), \\left({\\phi_{3,to}^{BN}}, \\verb|=|, -51718\\right)\\right]</script></html>"
      ],
      "text/latex": [
       "\\begin{math}\n",
       "\\newcommand{\\Bold}[1]{\\mathbf{#1}}\\left[\\left({\\phi_{1,to}^{BN}}, \\verb|=|, -1361164\\right), \\left({\\phi_{2,to}^{BB}}, \\verb|=|, -25916\\right), \\left({\\phi_{2,to}^{NN}}, \\verb|=|, 374704\\right), \\left({\\phi_{3,to}^{BN}}, \\verb|=|, -51718\\right)\\right]\n",
       "\\end{math}"
      ],
      "text/plain": [
       "[(phi1toBN, '=', -1361164),\n",
       " (phi2toBB, '=', -25916),\n",
       " (phi2toNN, '=', 374704),\n",
       " (phi3toBN, '=', -51718)]"
      ]
     },
     "metadata": {},
     "output_type": "display_data"
    }
   ],
   "source": [
    "solucions_perp3ers= solve([Eq_Gamma_ZO3ers,Eq_M_ZOmenysZA3ers_quadrat,Eq_K_ZO3ers,Eq_K_ZA3ers],\\\n",
    "                          phi1toBN,phi2toBB,phi2toNN,phi3toBN,algorithm=\"sympy\")\n",
    "\n",
    "show([(key, '=', round(value.subs(valors_numerics_emprats))) for key,value in solucions_perp3ers[0].items()])"
   ]
  },
  {
   "cell_type": "markdown",
   "id": "efficient-peoples",
   "metadata": {},
   "source": [
    "Però si escollim un altre conjunt d'equacions (sols canviem una):"
   ]
  },
  {
   "cell_type": "code",
   "execution_count": 18,
   "id": "least-passage",
   "metadata": {},
   "outputs": [
    {
     "data": {
      "text/html": [
       "<html><script type=\"math/tex; mode=display\">\\newcommand{\\Bold}[1]{\\mathbf{#1}}\\left[\\left({\\phi_{1,to}^{BN}}, \\verb|=|, -777059\\right), \\left({\\phi_{2,to}^{BB}}, \\verb|=|, -25916\\right), \\left({\\phi_{2,to}^{NN}}, \\verb|=|, 374704\\right), \\left({\\phi_{3,to}^{BN}}, \\verb|=|, -635822\\right)\\right]</script></html>"
      ],
      "text/latex": [
       "\\begin{math}\n",
       "\\newcommand{\\Bold}[1]{\\mathbf{#1}}\\left[\\left({\\phi_{1,to}^{BN}}, \\verb|=|, -777059\\right), \\left({\\phi_{2,to}^{BB}}, \\verb|=|, -25916\\right), \\left({\\phi_{2,to}^{NN}}, \\verb|=|, 374704\\right), \\left({\\phi_{3,to}^{BN}}, \\verb|=|, -635822\\right)\\right]\n",
       "\\end{math}"
      ],
      "text/plain": [
       "[(phi1toBN, '=', -777059),\n",
       " (phi2toBB, '=', -25916),\n",
       " (phi2toNN, '=', 374704),\n",
       " (phi3toBN, '=', -635822)]"
      ]
     },
     "metadata": {},
     "output_type": "display_data"
    }
   ],
   "source": [
    "solucions_perp3ers= solve([Eq_Gamma_ZO3ers,Eq_M_ZA3ers,Eq_K_ZO3ers,Eq_K_ZA3ers],\\\n",
    "                          phi1toBN,phi2toBB,phi2toNN,phi3toBN,algorithm=\"sympy\")\n",
    "\n",
    "show([(key, '=', round(value.subs(valors_numerics_emprats))) for key,value in solucions_perp3ers[0].items()])"
   ]
  },
  {
   "cell_type": "markdown",
   "id": "considered-response",
   "metadata": {},
   "source": [
    "En compte d'analíticament, podem resoldre el sistema d'equacions numèricament (podríem fer ús de les funcions disponibles en *scipy.optimize*, pero sagemath ens proporciona el la funció minimize directament).\n",
    "El que faig es construir un vector les components del qual són les funcions que volem resoldre y minimitzar el seu mòdul:"
   ]
  },
  {
   "cell_type": "code",
   "execution_count": 19,
   "id": "liable-great",
   "metadata": {
    "tags": []
   },
   "outputs": [
    {
     "data": {
      "text/html": [
       "<html><script type=\"math/tex; mode=display\">\\newcommand{\\Bold}[1]{\\mathbf{#1}}\\left[{\\phi_{1,to}^{BN}} = \\left(-777059\\right), {\\phi_{2,to}^{BB}} = \\left(-25916\\right), {\\phi_{2,to}^{NN}} = 374704, {\\phi_{3,to}^{BN}} = \\left(-635822\\right)\\right]</script></html>"
      ],
      "text/latex": [
       "\\begin{math}\n",
       "\\newcommand{\\Bold}[1]{\\mathbf{#1}}\\left[{\\phi_{1,to}^{BN}} = \\left(-777059\\right), {\\phi_{2,to}^{BB}} = \\left(-25916\\right), {\\phi_{2,to}^{NN}} = 374704, {\\phi_{3,to}^{BN}} = \\left(-635822\\right)\\right]\n",
       "\\end{math}"
      ],
      "text/plain": [
       "[phi1toBN == -777059,\n",
       " phi2toBB == -25916,\n",
       " phi2toNN == 374704,\n",
       " phi3toBN == -635822]"
      ]
     },
     "execution_count": 19,
     "metadata": {},
     "output_type": "execute_result"
    }
   ],
   "source": [
    "Equacions3ers=[Eq_Gamma_ZO3ers.subs(valors_numerics_emprats),\\\n",
    "               Eq_M_ZA3ers.subs(valors_numerics_emprats),\\\n",
    "               Eq_K_ZO3ers.subs(valors_numerics_emprats),\\\n",
    "               Eq_K_ZA3ers.subs(valors_numerics_emprats)]\n",
    "\n",
    "solucions3ers=minimize(norm(vector((Equacions3ers))),[1.,1.,1.,1.])\n",
    "\n",
    "Solucions3ers=[phi1toBN==round(solucions3ers[0]), phi2toBB==round(solucions3ers[1]),\\\n",
    "               phi2toNN==round(solucions3ers[2]), phi3toBN==round(solucions3ers[3])]\n",
    "Solucions3ers"
   ]
  },
  {
   "cell_type": "markdown",
   "id": "synthetic-reform",
   "metadata": {},
   "source": [
    "Podem comprobar que obtenim la mateixa solució que si resolguem analíticament.\n",
    "Així mateix, si emprem un altre sistema d'equacions les solucions són diferents:"
   ]
  },
  {
   "cell_type": "code",
   "execution_count": 20,
   "id": "several-hundred",
   "metadata": {},
   "outputs": [
    {
     "data": {
      "text/html": [
       "<html><script type=\"math/tex; mode=display\">\\newcommand{\\Bold}[1]{\\mathbf{#1}}\\left[{\\phi_{1,to}^{BN}} = \\left(-739929\\right), {\\phi_{2,to}^{BB}} = \\left(-25916\\right), {\\phi_{2,to}^{NN}} = 374704, {\\phi_{3,to}^{BN}} = \\left(-672953\\right)\\right]</script></html>"
      ],
      "text/latex": [
       "\\begin{math}\n",
       "\\newcommand{\\Bold}[1]{\\mathbf{#1}}\\left[{\\phi_{1,to}^{BN}} = \\left(-739929\\right), {\\phi_{2,to}^{BB}} = \\left(-25916\\right), {\\phi_{2,to}^{NN}} = 374704, {\\phi_{3,to}^{BN}} = \\left(-672953\\right)\\right]\n",
       "\\end{math}"
      ],
      "text/plain": [
       "[phi1toBN == -739929,\n",
       " phi2toBB == -25916,\n",
       " phi2toNN == 374704,\n",
       " phi3toBN == -672953]"
      ]
     },
     "execution_count": 20,
     "metadata": {},
     "output_type": "execute_result"
    }
   ],
   "source": [
    "Equacions3ers=[Eq_Gamma_ZO3ers.subs(valors_numerics_emprats),\\\n",
    "               Eq_M_ZO3ers.subs(valors_numerics_emprats),\\\n",
    "               Eq_K_ZO3ers.subs(valors_numerics_emprats),\\\n",
    "               Eq_K_ZA3ers.subs(valors_numerics_emprats)]\n",
    "\n",
    "solucions3ers2=minimize(norm(vector((Equacions3ers))),[1.,1.,1.,1.])\n",
    "\n",
    "Solucions3ers2=[phi1toBN==round(solucions3ers2[0]), phi2toBB==round(solucions3ers2[1]),\\\n",
    "                phi2toNN==round(solucions3ers2[2]), phi3toBN==round(solucions3ers2[3])]\n",
    "Solucions3ers2"
   ]
  },
  {
   "cell_type": "markdown",
   "id": "empty-sauce",
   "metadata": {},
   "source": [
    "Realitzant diferents gràfiques podem comprobar que realment ajusta millor al conjunt de dades experimentals la primera solució que hem trobat, de manera que escollim com a conjunt de constants de força:"
   ]
  },
  {
   "cell_type": "code",
   "execution_count": 21,
   "id": "noticed-label",
   "metadata": {},
   "outputs": [
    {
     "data": {
      "text/html": [
       "<html><script type=\"math/tex; mode=display\">\\newcommand{\\Bold}[1]{\\mathbf{#1}}\\left[{\\phi_{1,to}^{BN}} = \\left(-1379394\\right), {\\phi_{2,to}^{BB}} = \\left(-25916\\right), {\\phi_{2,to}^{NN}} = 374704, {\\phi_{3,to}^{BN}} = \\left(-33488\\right)\\right]</script></html>"
      ],
      "text/latex": [
       "\\begin{math}\n",
       "\\newcommand{\\Bold}[1]{\\mathbf{#1}}\\left[{\\phi_{1,to}^{BN}} = \\left(-1379394\\right), {\\phi_{2,to}^{BB}} = \\left(-25916\\right), {\\phi_{2,to}^{NN}} = 374704, {\\phi_{3,to}^{BN}} = \\left(-33488\\right)\\right]\n",
       "\\end{math}"
      ],
      "text/plain": [
       "[phi1toBN == -1379394,\n",
       " phi2toBB == -25916,\n",
       " phi2toNN == 374704,\n",
       " phi3toBN == -33488]"
      ]
     },
     "execution_count": 21,
     "metadata": {},
     "output_type": "execute_result"
    }
   ],
   "source": [
    "Equacions3ers=[Eq_Gamma_ZO3ers.subs(valors_numerics_emprats),\\\n",
    "               Eq_M_ZO3ers.subs(valors_numerics_emprats),\\\n",
    "               Eq_K_ZO3ers.subs(valors_numerics_emprats),\\\n",
    "               Eq_K_ZA3ers.subs(valors_numerics_emprats)]\n",
    "\n",
    "solucions3ers=minimize(norm(vector((Equacions3ers))),[-1400000,1.,1.,1.])\n",
    "\n",
    "Solucions3ers=[phi1toBN==round(solucions3ers[0]), phi2toBB==round(solucions3ers[1]),\\\n",
    "                phi2toNN==round(solucions3ers[2]), phi3toBN==round(solucions3ers[3])]\n",
    "Solucions3ers"
   ]
  },
  {
   "cell_type": "code",
   "execution_count": 22,
   "id": "equivalent-behalf",
   "metadata": {
    "tags": [
     "hide-input"
    ]
   },
   "outputs": [],
   "source": [
    "dades=loadtxt(\"../Dades/freq.dat\")\n",
    "#data = pd.read_csv('../../Dades/freq.dat', header = None)\n",
    "#show(pd.DataFrame(dades))"
   ]
  },
  {
   "cell_type": "markdown",
   "id": "found-airplane",
   "metadata": {},
   "source": [
    "```{note}\n",
    "En compte calcular els valors i vectors propis analíticament, ara que tenim tots els valors numérics  per construir la matriu de dispersió en cada punt, és molt més eficient convertir les matrius de sagemath en arrays de numpy\n",
    "```"
   ]
  },
  {
   "cell_type": "code",
   "execution_count": 23,
   "id": "composed-peninsula",
   "metadata": {},
   "outputs": [],
   "source": [
    "ola=real_part(sqrt(numpy.linalg.eigvals(\\\n",
    "     numpy.array([D_zz3ers.subs(Solucions3ers, a=1, q_x=x*pi, q_y=x*pi/sqrt(3),M_B=B.mass, M_N=N.mass\\\n",
    "                               ).numpy(dtype='complex64') for x in arange(0,1,1./200)]))))\n",
    "#pd.DataFrame(ola)"
   ]
  },
  {
   "cell_type": "raw",
   "id": "continued-niger",
   "metadata": {},
   "source": [
    "real_part(sqrt(numpy.linalg.eigvals(\\\n",
    "     numpy.array([[D_zz3ers.subs(Solucions3ers, a=1, q_x=x*pi, q_y=x*pi/sqrt(3),M_B=B.mass, M_N=N.mass).numpy(dtype='complex64') for x in srange(0,1,0.1)],\\\n",
    "                  [D_zz3ers.subs(Solucions3ers, a=1, q_x=n(pi*(1+x/3)), q_y=n(pi/sqrt(3)*(1-x)),M_B=B.mass, M_N=N.mass).numpy(dtype='complex64') for x in srange(0,1,0.1)],\\\n",
    "                  [D_zz3ers.subs(Solucions3ers, a=1, q_x=n(pi*(1+x/3)), q_y=n(pi/sqrt(3)*(1-x)),M_B=B.mass, M_N=N.mass).numpy(dtype='complex64') for x in srange(0,1,0.1)],\\\n",
    "                  [D_zz3ers.subs(Solucions3ers, a=1, q_x=n(4*pi/3*(1-x)), q_y=0,M_B=B.mass, M_N=N.mass).numpy(dtype='complex64') for x in srange(0,1,0.1)],\\\n",
    "                  ]))))"
   ]
  },
  {
   "cell_type": "code",
   "execution_count": 24,
   "id": "human-liverpool",
   "metadata": {
    "class": "no-execute",
    "tags": [
     "hide-input"
    ]
   },
   "outputs": [
    {
     "data": {
      "image/png": "[encoded data removed]",
      "text/plain": [
       "Graphics object consisting of 11 graphics primitives"
      ]
     },
     "metadata": {
      "filenames": {
       "image/png": "/home/casimir/Documents/Fisica/TFG/TFG-Semiconductores_2D/Jupyter-Book/_build/jupyter_execute/formulacio_matriu_dinamica_47_0.png"
      }
     },
     "output_type": "display_data"
    }
   ],
   "source": [
    "sol_perp_num3ers=Solucions3ers\n",
    "show(\\\n",
    "list_plot(\n",
    "    [round(real_part(n(sqrt(D_zz3ers.subs(sol_perp_num3ers, M_B=B.mass, \\\n",
    "        M_N=N.mass, a=1, q_x=n(x*pi), q_y=n(x*pi/sqrt(3))).simplify_full().eigenvalues()[1])))) \\\n",
    "        for x in srange(0,1,0.1)] +\\\n",
    "    [round(real_part(n(sqrt(D_zz3ers.subs(sol_perp_num3ers, M_B=B.mass, \\\n",
    "        M_N=N.mass, a=1, q_x=n(pi*(1+x/3)), q_y=n(pi/sqrt(3)*(1-x))).simplify_full().eigenvalues()[1])))) \\\n",
    "        for x in srange(0,1,0.1)]+\\\n",
    "    [round(real_part(n(sqrt(D_zz3ers.subs(sol_perp_num3ers, M_B=B.mass, \\\n",
    "        M_N=N.mass, a=1, q_x=n(4*pi/3*(1-x)), q_y=0).simplify_full().eigenvalues()[1])))) \\\n",
    "        for x in srange(0,1,0.1)]) + \\\n",
    "list_plot(\n",
    "    [round(real_part(n(sqrt(D_zz3ers.subs(sol_perp_num3ers, M_B=B.mass, \\\n",
    "        M_N=N.mass, a=1, q_x=n(x*pi), q_y=n(x*pi/sqrt(3))).simplify_full().eigenvalues()[0])))) \\\n",
    "        for x in srange(0,1,0.1)]+\n",
    "    [round(real_part(n(sqrt(D_zz3ers.subs(sol_perp_num3ers, M_B=B.mass, \\\n",
    "        M_N=N.mass, a=1,q_x=n(pi*(1+x/3)), q_y=n(pi/sqrt(3)*(1-x))).simplify_full().eigenvalues()[0])))) \\\n",
    "        for x in srange(0,1,0.1)]+\\\n",
    "    [round(real_part(n(sqrt(D_zz3ers.subs(sol_perp_num3ers, M_B=B.mass, \\\n",
    "        M_N=N.mass, a=1, q_x=n(4*pi/3*(1-x)), q_y=0).simplify_full().eigenvalues()[0])))) \\\n",
    "        for x in srange(0,1,0.1)]) \\\n",
    "     +line([(10,0),(10,1600)], color=\"black\")+line([(20,0),(20,1600)], color=\"black\")\\\n",
    "     +line([(30,0),(30,1600)], color=\"black\", ticks=[[0.05,10,20,30], None], \\\n",
    "        tick_formatter = [[r'$\\Gamma$', '$M$', '$K$', r'$\\Gamma$'], None])+\\\n",
    "points(zip(dades[:524,0]/524*30, dades[:524,1]), color=\"black\") +\\\n",
    "points(zip(dades[524:1048,0]/524*30, dades[524:1048,1]), color=\"black\") +\\\n",
    "points(zip(dades[1048:1572,0]/524*30, dades[1048:1572,1]), color=\"black\") +\\\n",
    "points(zip(dades[1572:2096,0]/525*30, dades[1572:2096,1]), color=\"black\") +\\\n",
    "points(zip(dades[2096:2620,0]/525*30, dades[2096:2620,1]), color=\"black\") +\\\n",
    "points(zip(dades[2620:3144,0]/525*30, dades[2620:3144,1]), color=\"black\")     \n",
    "     ,figsize=9) "
   ]
  },
  {
   "cell_type": "markdown",
   "id": "phantom-philadelphia",
   "metadata": {},
   "source": [
    "### Fins 4ts veïns"
   ]
  },
  {
   "cell_type": "markdown",
   "id": "removable-integral",
   "metadata": {},
   "source": [
    "#### Punt $\\Gamma$"
   ]
  },
  {
   "cell_type": "code",
   "execution_count": 25,
   "id": "danish-masters",
   "metadata": {
    "tags": [
     "hide-input"
    ]
   },
   "outputs": [
    {
     "data": {
      "text/html": [
       "<html><script type=\"math/tex; mode=display\">\\newcommand{\\Bold}[1]{\\mathbf{#1}}-\\frac{6 \\, {\\left({\\phi_{1,to}^{BN}} + {\\phi_{3,to}^{BN}} + 2 \\, {\\phi_{4,to}^{BN}}\\right)}}{\\sqrt{M_{B} M_{N}}} = {\\omega(\\Gamma)_{ZO}}^{2}</script></html>"
      ],
      "text/latex": [
       "\\begin{math}\n",
       "\\newcommand{\\Bold}[1]{\\mathbf{#1}}-\\frac{6 \\, {\\left({\\phi_{1,to}^{BN}} + {\\phi_{3,to}^{BN}} + 2 \\, {\\phi_{4,to}^{BN}}\\right)}}{\\sqrt{M_{B} M_{N}}} = {\\omega(\\Gamma)_{ZO}}^{2}\n",
       "\\end{math}"
      ],
      "text/plain": [
       "-6*(phi1toBN + phi3toBN + 2*phi4toBN)/sqrt(M_B*M_N) == omegaGammaZO^2"
      ]
     },
     "metadata": {},
     "output_type": "display_data"
    }
   ],
   "source": [
    "D_Gamma4ts_zz=D_zz4ts.subs(q_x=0,q_y=0) #,(M_B,B.mass*u),(M_N,N.mass*u)])\n",
    "D_Gamma4ts_zz.eigenvalues()\n",
    "Eq_Gamma_ZO4ts=(D_Gamma4ts_zz.eigenvalues()[0]==omegaGammaZO**2)\n",
    "show(Eq_Gamma_ZO4ts)"
   ]
  },
  {
   "cell_type": "code",
   "execution_count": 26,
   "id": "diverse-donna",
   "metadata": {},
   "outputs": [
    {
     "data": {
      "text/html": [
       "<html><script type=\"math/tex; mode=display\">\\newcommand{\\Bold}[1]{\\mathbf{#1}}\\sqrt{\\left(1.0902764218292245 \\times 10^{-05}\\right) \\, {\\left| 14.0067 \\, {\\left({\\left({\\left({\\left(e^{\\left(\\frac{3}{2} i\\right)} + e^{\\left(\\frac{1}{2} i\\right)}\\right)} e^{\\left(2 i\\right)} - 6 \\, e^{\\left(3 i\\right)}\\right)} e^{\\left(\\frac{1}{4} i \\, \\sqrt{3} - \\frac{13}{4} i\\right)} + 1\\right)} e^{\\left(\\frac{1}{4} i \\, \\sqrt{3} - \\frac{11}{4} i\\right)} + e^{\\left(\\frac{3}{4} i \\, \\sqrt{3} - \\frac{11}{4} i\\right)} + e^{\\left(\\frac{3}{4} i \\, \\sqrt{3} - \\frac{13}{4} i\\right)} + e^{\\left(\\frac{1}{4} i \\, \\sqrt{3} - \\frac{13}{4} i\\right)}\\right)} {\\phi_{2,to}^{BB}} + 10.811 \\, {\\left({\\left({\\left({\\left(e^{\\left(\\frac{3}{2} i\\right)} + e^{\\left(\\frac{1}{2} i\\right)}\\right)} e^{\\left(2 i\\right)} - 6 \\, e^{\\left(3 i\\right)}\\right)} e^{\\left(\\frac{1}{4} i \\, \\sqrt{3} - \\frac{13}{4} i\\right)} + 1\\right)} e^{\\left(\\frac{1}{4} i \\, \\sqrt{3} - \\frac{11}{4} i\\right)} + e^{\\left(\\frac{3}{4} i \\, \\sqrt{3} - \\frac{11}{4} i\\right)} + e^{\\left(\\frac{3}{4} i \\, \\sqrt{3} - \\frac{13}{4} i\\right)} + e^{\\left(\\frac{1}{4} i \\, \\sqrt{3} - \\frac{13}{4} i\\right)}\\right)} {\\phi_{2,to}^{NN}} - 73.83326901336551 \\, {\\phi_{1,to}^{BN}} e^{\\left(\\frac{1}{2} i \\, \\sqrt{3} - 3 i\\right)} - 73.83326901336551 \\, {\\phi_{3,to}^{BN}} e^{\\left(\\frac{1}{2} i \\, \\sqrt{3} - 3 i\\right)} - 147.66653802673102 \\, {\\phi_{4,to}^{BN}} e^{\\left(\\frac{1}{2} i \\, \\sqrt{3} - 3 i\\right)} + \\sqrt{605.7057348 \\, {\\left({\\left({\\left(e^{\\left(\\frac{13}{2} i\\right)} + e^{\\left(6 i\\right)}\\right)} e^{\\left(\\frac{1}{2} i \\, \\sqrt{3} - 7 i\\right)} + e^{\\left(\\frac{1}{4} i \\, \\sqrt{3} - \\frac{3}{4} i\\right)}\\right)} e^{\\left(-\\frac{1}{4} i \\, \\sqrt{3} + \\frac{27}{4} i\\right)} + {\\left({\\left({\\left(e^{\\left(\\frac{3}{2} i\\right)} + e^{\\left(\\frac{1}{2} i\\right)}\\right)} e^{\\left(5 i\\right)} + 2 \\, e^{\\left(6 i\\right)}\\right)} e^{\\left(\\frac{5}{2} i \\, \\sqrt{3} - 23 i\\right)} + {\\left(e^{\\left(4 i\\right)} + e^{\\left(\\frac{7}{2} i\\right)}\\right)} e^{\\left(\\frac{9}{4} i \\, \\sqrt{3} - \\frac{83}{4} i\\right)}\\right)} e^{\\left(-\\frac{5}{2} i \\, \\sqrt{3} + 23 i\\right)}\\right)} {\\phi_{1,to}^{BN}}^{2} + 196.18764489 \\, {\\left(2 \\, {\\left({\\left({\\left({\\left(e^{\\left(\\frac{3}{2} i\\right)} + e^{\\left(\\frac{1}{2} i\\right)}\\right)} e^{\\left(2 i\\right)} - 6 \\, e^{\\left(3 i\\right)}\\right)} e^{\\left(\\frac{1}{2} i \\, \\sqrt{3} - 7 i\\right)} + e^{\\left(\\frac{1}{4} i \\, \\sqrt{3} - \\frac{15}{4} i\\right)}\\right)} e^{\\left(5 i \\, \\sqrt{3} - 22 i\\right)} + {\\left({\\left({\\left(e^{\\left(\\frac{3}{2} i\\right)} + e^{\\left(\\frac{1}{2} i\\right)}\\right)} e^{\\left(2 i\\right)} - 6 \\, e^{\\left(3 i\\right)}\\right)} e^{\\left(\\frac{1}{2} i \\, \\sqrt{3} - 7 i\\right)} + e^{\\left(\\frac{1}{4} i \\, \\sqrt{3} - \\frac{15}{4} i\\right)}\\right)} e^{\\left(5 i \\, \\sqrt{3} - \\frac{45}{2} i\\right)}\\right)} e^{\\left(-\\frac{21}{4} i \\, \\sqrt{3} + \\frac{129}{4} i\\right)} + {\\left({\\left({\\left({\\left(2 \\, {\\left({\\left(e^{\\left(\\frac{3}{2} i\\right)} + e^{\\left(\\frac{1}{2} i\\right)}\\right)} e^{\\left(2 i\\right)} - 6 \\, e^{\\left(3 i\\right)}\\right)} e^{\\left(\\frac{1}{2} i \\, \\sqrt{3} - \\frac{13}{2} i\\right)} + {\\left(2 \\, {\\left(e^{\\left(\\frac{3}{2} i\\right)} + e^{\\left(\\frac{1}{2} i\\right)}\\right)} e^{\\left(2 i\\right)} - {\\left({\\left(12 \\, e^{\\left(\\frac{3}{2} i\\right)} + 12 \\, e^{\\left(\\frac{1}{2} i\\right)} - 1\\right)} e^{\\left(5 i\\right)} - e^{\\left(7 i\\right)} - 38 \\, e^{\\left(6 i\\right)}\\right)} e^{\\left(\\frac{1}{4} i \\, \\sqrt{3} - \\frac{11}{4} i\\right)} - 12 \\, e^{\\left(3 i\\right)}\\right)} e^{\\left(\\frac{1}{2} i \\, \\sqrt{3} - 7 i\\right)} + 2 \\, e^{\\left(\\frac{1}{4} i \\, \\sqrt{3} - \\frac{15}{4} i\\right)}\\right)} e^{\\left(\\frac{1}{2} i \\, \\sqrt{3} - \\frac{13}{2} i\\right)} + e^{\\left(\\frac{3}{4} i \\, \\sqrt{3} - \\frac{39}{4} i\\right)}\\right)} e^{\\left(\\frac{1}{2} i \\, \\sqrt{3} - \\frac{11}{2} i\\right)} + e^{\\left(\\frac{5}{4} i \\, \\sqrt{3} - \\frac{65}{4} i\\right)}\\right)} e^{\\left(\\frac{17}{4} i \\, \\sqrt{3} - \\frac{79}{4} i\\right)} + e^{\\left(\\frac{13}{2} i \\, \\sqrt{3} - 35 i\\right)} + 2 \\, e^{\\left(\\frac{13}{2} i \\, \\sqrt{3} - \\frac{71}{2} i\\right)} + e^{\\left(\\frac{13}{2} i \\, \\sqrt{3} - 36 i\\right)} + 2 \\, e^{\\left(6 i \\, \\sqrt{3} - \\frac{71}{2} i\\right)} + 2 \\, e^{\\left(6 i \\, \\sqrt{3} - 36 i\\right)}\\right)} e^{\\left(-6 i \\, \\sqrt{3} + \\frac{83}{2} i\\right)}\\right)} {\\phi_{2,to}^{BB}}^{2} - 302.8528674 \\, {\\left(4 \\, {\\left({\\left({\\left({\\left(e^{\\left(\\frac{3}{2} i\\right)} + e^{\\left(\\frac{1}{2} i\\right)}\\right)} e^{\\left(5 i\\right)} - 6 \\, e^{\\left(6 i\\right)}\\right)} e^{\\left(i \\, \\sqrt{3} - 6 i\\right)} + e^{\\left(\\frac{3}{4} i \\, \\sqrt{3} + \\frac{1}{4} i\\right)}\\right)} e^{\\left(-\\frac{21}{4} i \\, \\sqrt{3} + \\frac{129}{4} i\\right)} + e^{\\left(-\\frac{9}{2} i \\, \\sqrt{3} + 32 i\\right)}\\right)} e^{\\left(\\frac{9}{2} i \\, \\sqrt{3} - \\frac{53}{2} i\\right)} + 4 \\, {\\left({\\left(e^{\\left(\\frac{3}{2} i\\right)} + e^{\\left(\\frac{1}{2} i\\right)}\\right)} e^{\\left(5 i\\right)} - 6 \\, e^{\\left(6 i\\right)}\\right)} e^{\\left(-\\frac{1}{4} i \\, \\sqrt{3} + \\frac{1}{4} i\\right)} - 2 \\, {\\left({\\left({\\left({\\left(e^{\\left(\\frac{3}{2} i\\right)} + e^{\\left(\\frac{1}{2} i\\right)}\\right)} e^{\\left(2 i\\right)} - 6 \\, e^{\\left(3 i\\right)}\\right)} e^{\\left(\\frac{1}{2} i \\, \\sqrt{3} - 7 i\\right)} + e^{\\left(\\frac{1}{4} i \\, \\sqrt{3} - \\frac{15}{4} i\\right)}\\right)} e^{\\left(5 i \\, \\sqrt{3} - 22 i\\right)} + {\\left({\\left({\\left(e^{\\left(\\frac{3}{2} i\\right)} + e^{\\left(\\frac{1}{2} i\\right)}\\right)} e^{\\left(2 i\\right)} - 6 \\, e^{\\left(3 i\\right)}\\right)} e^{\\left(\\frac{1}{2} i \\, \\sqrt{3} - 7 i\\right)} + e^{\\left(\\frac{1}{4} i \\, \\sqrt{3} - \\frac{15}{4} i\\right)}\\right)} e^{\\left(5 i \\, \\sqrt{3} - \\frac{45}{2} i\\right)} - 2 \\, {\\left({\\left({\\left(e^{\\left(\\frac{3}{2} i\\right)} + e^{\\left(\\frac{1}{2} i\\right)}\\right)} e^{\\left(5 i\\right)} - 6 \\, e^{\\left(6 i\\right)}\\right)} e^{\\left(\\frac{3}{4} i \\, \\sqrt{3} - \\frac{25}{4} i\\right)} + e^{\\left(\\frac{1}{2} i \\, \\sqrt{3}\\right)}\\right)} e^{\\left(\\frac{19}{4} i \\, \\sqrt{3} - \\frac{103}{4} i\\right)}\\right)} e^{\\left(-\\frac{21}{4} i \\, \\sqrt{3} + \\frac{129}{4} i\\right)} + {\\left(4 \\, {\\left({\\left(e^{\\left(\\frac{3}{2} i\\right)} + e^{\\left(\\frac{1}{2} i\\right)}\\right)} e^{\\left(3 i\\right)} - 6 \\, e^{\\left(4 i\\right)}\\right)} e^{\\left(\\frac{23}{4} i \\, \\sqrt{3} - \\frac{159}{4} i\\right)} - {\\left({\\left({\\left(2 \\, {\\left(e^{\\left(\\frac{3}{2} i\\right)} + e^{\\left(\\frac{1}{2} i\\right)}\\right)} e^{\\left(2 i\\right)} + {\\left({\\left(12 \\, e^{\\left(\\frac{3}{2} i\\right)} + 12 \\, e^{\\left(\\frac{1}{2} i\\right)} - 1\\right)} e^{\\left(5 i\\right)} - e^{\\left(7 i\\right)} - 38 \\, e^{\\left(6 i\\right)}\\right)} e^{\\left(\\frac{1}{4} i \\, \\sqrt{3} - \\frac{11}{4} i\\right)} - 12 \\, e^{\\left(3 i\\right)}\\right)} e^{\\left(\\frac{7}{4} i \\, \\sqrt{3} - \\frac{39}{4} i\\right)} + 2 \\, {\\left({\\left({\\left(e^{\\left(\\frac{3}{2} i\\right)} + e^{\\left(\\frac{1}{2} i\\right)}\\right)} e^{\\left(2 i\\right)} - 6 \\, e^{\\left(3 i\\right)}\\right)} e^{\\left(\\frac{1}{2} i \\, \\sqrt{3} - \\frac{13}{2} i\\right)} + e^{\\left(\\frac{1}{4} i \\, \\sqrt{3} - \\frac{15}{4} i\\right)}\\right)} e^{\\left(\\frac{5}{4} i \\, \\sqrt{3} - \\frac{11}{4} i\\right)}\\right)} e^{\\left(\\frac{1}{2} i \\, \\sqrt{3} - \\frac{13}{2} i\\right)} + e^{\\left(2 i \\, \\sqrt{3} - \\frac{25}{2} i\\right)}\\right)} e^{\\left(\\frac{7}{2} i \\, \\sqrt{3} - \\frac{45}{2} i\\right)} + e^{\\left(\\frac{13}{2} i \\, \\sqrt{3} - 35 i\\right)} + 2 \\, e^{\\left(\\frac{13}{2} i \\, \\sqrt{3} - \\frac{71}{2} i\\right)} + e^{\\left(\\frac{13}{2} i \\, \\sqrt{3} - 36 i\\right)} + 2 \\, e^{\\left(6 i \\, \\sqrt{3} - \\frac{71}{2} i\\right)} - 2 \\, e^{\\left(6 i \\, \\sqrt{3} - 36 i\\right)} + 2 \\, e^{\\left(\\frac{11}{2} i \\, \\sqrt{3} - 35 i\\right)} + 4 \\, e^{\\left(\\frac{11}{2} i \\, \\sqrt{3} - \\frac{71}{2} i\\right)} + e^{\\left(\\frac{11}{2} i \\, \\sqrt{3} - 36 i\\right)}\\right)} e^{\\left(-6 i \\, \\sqrt{3} + \\frac{83}{2} i\\right)}\\right)} {\\phi_{2,to}^{BB}} {\\phi_{2,to}^{NN}} + 116.877721 \\, {\\left(2 \\, {\\left({\\left({\\left({\\left(e^{\\left(\\frac{3}{2} i\\right)} + e^{\\left(\\frac{1}{2} i\\right)}\\right)} e^{\\left(2 i\\right)} - 6 \\, e^{\\left(3 i\\right)}\\right)} e^{\\left(\\frac{1}{2} i \\, \\sqrt{3} - 7 i\\right)} + e^{\\left(\\frac{1}{4} i \\, \\sqrt{3} - \\frac{15}{4} i\\right)}\\right)} e^{\\left(5 i \\, \\sqrt{3} - 22 i\\right)} + {\\left({\\left({\\left(e^{\\left(\\frac{3}{2} i\\right)} + e^{\\left(\\frac{1}{2} i\\right)}\\right)} e^{\\left(2 i\\right)} - 6 \\, e^{\\left(3 i\\right)}\\right)} e^{\\left(\\frac{1}{2} i \\, \\sqrt{3} - 7 i\\right)} + e^{\\left(\\frac{1}{4} i \\, \\sqrt{3} - \\frac{15}{4} i\\right)}\\right)} e^{\\left(5 i \\, \\sqrt{3} - \\frac{45}{2} i\\right)}\\right)} e^{\\left(-\\frac{21}{4} i \\, \\sqrt{3} + \\frac{129}{4} i\\right)} + {\\left({\\left({\\left({\\left(2 \\, {\\left({\\left(e^{\\left(\\frac{3}{2} i\\right)} + e^{\\left(\\frac{1}{2} i\\right)}\\right)} e^{\\left(2 i\\right)} - 6 \\, e^{\\left(3 i\\right)}\\right)} e^{\\left(\\frac{1}{2} i \\, \\sqrt{3} - \\frac{13}{2} i\\right)} + {\\left(2 \\, {\\left(e^{\\left(\\frac{3}{2} i\\right)} + e^{\\left(\\frac{1}{2} i\\right)}\\right)} e^{\\left(2 i\\right)} - {\\left({\\left(12 \\, e^{\\left(\\frac{3}{2} i\\right)} + 12 \\, e^{\\left(\\frac{1}{2} i\\right)} - 1\\right)} e^{\\left(5 i\\right)} - e^{\\left(7 i\\right)} - 38 \\, e^{\\left(6 i\\right)}\\right)} e^{\\left(\\frac{1}{4} i \\, \\sqrt{3} - \\frac{11}{4} i\\right)} - 12 \\, e^{\\left(3 i\\right)}\\right)} e^{\\left(\\frac{1}{2} i \\, \\sqrt{3} - 7 i\\right)} + 2 \\, e^{\\left(\\frac{1}{4} i \\, \\sqrt{3} - \\frac{15}{4} i\\right)}\\right)} e^{\\left(\\frac{1}{2} i \\, \\sqrt{3} - \\frac{13}{2} i\\right)} + e^{\\left(\\frac{3}{4} i \\, \\sqrt{3} - \\frac{39}{4} i\\right)}\\right)} e^{\\left(\\frac{1}{2} i \\, \\sqrt{3} - \\frac{11}{2} i\\right)} + e^{\\left(\\frac{5}{4} i \\, \\sqrt{3} - \\frac{65}{4} i\\right)}\\right)} e^{\\left(\\frac{17}{4} i \\, \\sqrt{3} - \\frac{79}{4} i\\right)} + e^{\\left(\\frac{13}{2} i \\, \\sqrt{3} - 35 i\\right)} + 2 \\, e^{\\left(\\frac{13}{2} i \\, \\sqrt{3} - \\frac{71}{2} i\\right)} + e^{\\left(\\frac{13}{2} i \\, \\sqrt{3} - 36 i\\right)} + 2 \\, e^{\\left(6 i \\, \\sqrt{3} - \\frac{71}{2} i\\right)} + 2 \\, e^{\\left(6 i \\, \\sqrt{3} - 36 i\\right)}\\right)} e^{\\left(-6 i \\, \\sqrt{3} + \\frac{83}{2} i\\right)}\\right)} {\\phi_{2,to}^{NN}}^{2} + 605.7057348 \\, {\\left({\\left({\\left(e^{\\left(\\frac{13}{2} i\\right)} + e^{\\left(6 i\\right)}\\right)} e^{\\left(i \\, \\sqrt{3} - 6 i\\right)} + e^{\\left(\\frac{3}{4} i \\, \\sqrt{3} + \\frac{1}{4} i\\right)}\\right)} e^{\\left(-\\frac{3}{4} i \\, \\sqrt{3} + \\frac{21}{4} i\\right)} + {\\left(e^{\\left(\\frac{3}{2} i \\, \\sqrt{3} - \\frac{17}{2} i\\right)} + e^{\\left(\\frac{3}{2} i \\, \\sqrt{3} - \\frac{19}{2} i\\right)}\\right)} e^{\\left(-\\frac{3}{2} i \\, \\sqrt{3} + 15 i\\right)} + {\\left({\\left(e^{\\left(4 i\\right)} + e^{\\left(\\frac{7}{2} i\\right)}\\right)} e^{\\left(5 i \\, \\sqrt{3} - 37 i\\right)} + {\\left({\\left(e^{\\left(\\frac{3}{2} i\\right)} + e^{\\left(\\frac{1}{2} i\\right)}\\right)} e^{\\left(3 i\\right)} + 2 \\, e^{\\left(4 i\\right)}\\right)} e^{\\left(5 i \\, \\sqrt{3} - 38 i\\right)} + e^{\\left(\\frac{19}{4} i \\, \\sqrt{3} - \\frac{135}{4} i\\right)}\\right)} e^{\\left(-\\frac{21}{4} i \\, \\sqrt{3} + \\frac{159}{4} i\\right)} + {\\left({\\left({\\left({\\left(e^{\\left(\\frac{3}{2} i\\right)} + e^{\\left(\\frac{1}{2} i\\right)}\\right)} e^{\\left(5 i\\right)} + 2 \\, e^{\\left(6 i\\right)}\\right)} e^{\\left(\\frac{3}{4} i \\, \\sqrt{3} - \\frac{25}{4} i\\right)} + e^{\\left(\\frac{1}{2} i \\, \\sqrt{3}\\right)}\\right)} e^{\\left(\\frac{11}{2} i \\, \\sqrt{3} - 35 i\\right)} + e^{\\left(\\frac{13}{2} i \\, \\sqrt{3} - \\frac{71}{2} i\\right)}\\right)} e^{\\left(-6 i \\, \\sqrt{3} + \\frac{83}{2} i\\right)}\\right)} {\\phi_{1,to}^{BN}} {\\phi_{3,to}^{BN}} + 605.7057348 \\, {\\left({\\left(e^{\\left(\\frac{5}{4} i \\, \\sqrt{3} - \\frac{35}{4} i\\right)} + e^{\\left(\\frac{5}{4} i \\, \\sqrt{3} - \\frac{39}{4} i\\right)}\\right)} e^{\\left(-\\frac{5}{4} i \\, \\sqrt{3} + \\frac{59}{4} i\\right)} + {\\left({\\left(e^{\\left(\\frac{5}{4} i \\, \\sqrt{3} - \\frac{35}{4} i\\right)} + 2 \\, e^{\\left(\\frac{5}{4} i \\, \\sqrt{3} - \\frac{39}{4} i\\right)}\\right)} e^{\\left(\\frac{19}{4} i \\, \\sqrt{3} - \\frac{103}{4} i\\right)} + e^{\\left(\\frac{13}{2} i \\, \\sqrt{3} - 35 i\\right)} + e^{\\left(\\frac{13}{2} i \\, \\sqrt{3} - 36 i\\right)} + e^{\\left(\\frac{11}{2} i \\, \\sqrt{3} - 35 i\\right)} + e^{\\left(\\frac{11}{2} i \\, \\sqrt{3} - 36 i\\right)}\\right)} e^{\\left(-6 i \\, \\sqrt{3} + \\frac{83}{2} i\\right)}\\right)} {\\phi_{3,to}^{BN}}^{2} + 605.7057348 \\, {\\left(2 \\, {\\left(e^{\\left(\\frac{13}{2} i\\right)} + e^{\\left(5 i\\right)}\\right)} e^{\\left(\\frac{1}{2} i \\, \\sqrt{3}\\right)} + 2 \\, {\\left(e^{\\left(\\frac{13}{2} i\\right)} + e^{\\left(5 i\\right)}\\right)} e^{\\left(-\\frac{1}{4} i \\, \\sqrt{3} + \\frac{1}{4} i\\right)} + 2 \\, {\\left({\\left(e^{\\left(\\frac{13}{2} i\\right)} + e^{\\left(5 i\\right)}\\right)} e^{\\left(i \\, \\sqrt{3} - 6 i\\right)} + e^{\\left(\\frac{3}{4} i \\, \\sqrt{3} + \\frac{1}{4} i\\right)}\\right)} e^{\\left(-\\frac{1}{2} i \\, \\sqrt{3} + \\frac{11}{2} i\\right)} + {\\left({\\left(e^{\\left(7 i\\right)} + 2 \\, e^{\\left(\\frac{11}{2} i\\right)} + e^{\\left(4 i\\right)}\\right)} e^{\\left(6 i \\, \\sqrt{3} - \\frac{83}{2} i\\right)} + 2 \\, {\\left(e^{\\left(\\frac{13}{2} i\\right)} + e^{\\left(5 i\\right)}\\right)} e^{\\left(\\frac{23}{4} i \\, \\sqrt{3} - \\frac{169}{4} i\\right)} + e^{\\left(7 i \\, \\sqrt{3} - \\frac{71}{2} i\\right)} + 2 \\, e^{\\left(7 i \\, \\sqrt{3} - 36 i\\right)} + 2 \\, e^{\\left(\\frac{25}{4} i \\, \\sqrt{3} - \\frac{141}{4} i\\right)} + 2 \\, e^{\\left(\\frac{25}{4} i \\, \\sqrt{3} - \\frac{145}{4} i\\right)} + 2 \\, e^{\\left(\\frac{25}{4} i \\, \\sqrt{3} - \\frac{147}{4} i\\right)} + e^{\\left(\\frac{11}{2} i \\, \\sqrt{3} - 35 i\\right)} + 2 \\, e^{\\left(\\frac{11}{2} i \\, \\sqrt{3} - 36 i\\right)} + e^{\\left(\\frac{11}{2} i \\, \\sqrt{3} - 37 i\\right)}\\right)} e^{\\left(-6 i \\, \\sqrt{3} + \\frac{83}{2} i\\right)} + e^{\\left(i \\, \\sqrt{3} + 5 i\\right)}\\right)} {\\phi_{4,to}^{BN}}^{2} + 4 \\, {\\left(151.4264337 \\, {\\left({\\left({\\left({\\left(e^{\\left(\\frac{13}{2} i\\right)} + e^{\\left(5 i\\right)}\\right)} e^{\\left(\\frac{1}{2} i \\, \\sqrt{3} - 7 i\\right)} + e^{\\left(\\frac{1}{4} i \\, \\sqrt{3} - \\frac{3}{4} i\\right)}\\right)} e^{\\left(-4 i \\, \\sqrt{3} + \\frac{51}{2} i\\right)} + e^{\\left(-\\frac{15}{4} i \\, \\sqrt{3} + \\frac{95}{4} i\\right)}\\right)} e^{\\left(\\frac{15}{4} i \\, \\sqrt{3} - \\frac{75}{4} i\\right)} + {\\left({\\left(e^{\\left(\\frac{3}{2} i\\right)} + e^{\\left(\\frac{1}{2} i\\right)}\\right)} e^{\\left(3 i\\right)} + 2 \\, e^{\\left(4 i\\right)}\\right)} e^{\\left(-\\frac{1}{4} i \\, \\sqrt{3} + \\frac{5}{4} i\\right)} + {\\left({\\left(2 \\, e^{\\left(\\frac{3}{2} i\\right)} + e^{\\left(\\frac{1}{2} i\\right)} + 1\\right)} e^{\\left(5 i\\right)} + 2 \\, e^{\\left(6 i\\right)}\\right)} e^{\\left(-\\frac{1}{4} i \\, \\sqrt{3} + \\frac{1}{4} i\\right)} + {\\left({\\left(2 \\, {\\left(e^{\\left(\\frac{3}{2} i\\right)} + 1\\right)} e^{\\left(5 i\\right)} + {\\left(e^{\\left(\\frac{3}{2} i\\right)} + e^{\\left(\\frac{1}{2} i\\right)}\\right)} e^{\\left(4 i\\right)} + e^{\\left(7 i\\right)} + e^{\\left(6 i\\right)}\\right)} e^{\\left(\\frac{21}{4} i \\, \\sqrt{3} - \\frac{149}{4} i\\right)} + e^{\\left(\\frac{19}{4} i \\, \\sqrt{3} - \\frac{123}{4} i\\right)}\\right)} e^{\\left(-\\frac{21}{4} i \\, \\sqrt{3} + \\frac{149}{4} i\\right)} + {\\left({\\left({\\left(e^{\\left(\\frac{3}{2} i\\right)} + e^{\\left(\\frac{1}{2} i\\right)}\\right)} e^{\\left(3 i\\right)} + 2 \\, e^{\\left(4 i\\right)}\\right)} e^{\\left(\\frac{13}{2} i \\, \\sqrt{3} - \\frac{79}{2} i\\right)} + {\\left({\\left({\\left(e^{\\left(\\frac{3}{2} i\\right)} + e^{\\left(\\frac{1}{2} i\\right)}\\right)} e^{\\left(5 i\\right)} + 2 \\, e^{\\left(6 i\\right)}\\right)} e^{\\left(\\frac{1}{2} i \\, \\sqrt{3} - 7 i\\right)} + e^{\\left(\\frac{1}{4} i \\, \\sqrt{3} - \\frac{3}{4} i\\right)}\\right)} e^{\\left(6 i \\, \\sqrt{3} - 35 i\\right)} + e^{\\left(\\frac{25}{4} i \\, \\sqrt{3} - \\frac{141}{4} i\\right)} + e^{\\left(\\frac{11}{2} i \\, \\sqrt{3} - 36 i\\right)}\\right)} e^{\\left(-6 i \\, \\sqrt{3} + \\frac{83}{2} i\\right)} + e^{\\left(\\frac{3}{4} i \\, \\sqrt{3} + \\frac{23}{4} i\\right)} + e^{\\left(\\frac{3}{4} i \\, \\sqrt{3} + \\frac{21}{4} i\\right)}\\right)} {\\phi_{1,to}^{BN}} + 151.4264337 \\, {\\left({\\left({\\left({\\left(e^{\\left(\\frac{13}{2} i\\right)} + e^{\\left(5 i\\right)}\\right)} e^{\\left(i \\, \\sqrt{3} - 6 i\\right)} + e^{\\left(\\frac{3}{4} i \\, \\sqrt{3} + \\frac{1}{4} i\\right)}\\right)} e^{\\left(-\\frac{15}{4} i \\, \\sqrt{3} + \\frac{91}{4} i\\right)} + e^{\\left(-3 i \\, \\sqrt{3} + 22 i\\right)}\\right)} e^{\\left(3 i \\, \\sqrt{3} - \\frac{35}{2} i\\right)} + 2 \\, {\\left({\\left(e^{\\left(\\frac{13}{2} i\\right)} + e^{\\left(5 i\\right)}\\right)} e^{\\left(\\frac{3}{4} i \\, \\sqrt{3} - \\frac{25}{4} i\\right)} + e^{\\left(\\frac{1}{2} i \\, \\sqrt{3}\\right)}\\right)} e^{\\left(-\\frac{1}{2} i \\, \\sqrt{3} + \\frac{13}{2} i\\right)} + {\\left({\\left({\\left(e^{\\left(\\frac{13}{2} i\\right)} + e^{\\left(5 i\\right)}\\right)} e^{\\left(\\frac{5}{2} i \\, \\sqrt{3} - 23 i\\right)} + e^{\\left(\\frac{9}{4} i \\, \\sqrt{3} - \\frac{71}{4} i\\right)}\\right)} e^{\\left(\\frac{5}{2} i \\, \\sqrt{3} - 16 i\\right)} + e^{\\left(\\frac{19}{4} i \\, \\sqrt{3} - \\frac{131}{4} i\\right)} + 2 \\, e^{\\left(\\frac{19}{4} i \\, \\sqrt{3} - \\frac{135}{4} i\\right)}\\right)} e^{\\left(-\\frac{21}{4} i \\, \\sqrt{3} + \\frac{159}{4} i\\right)} + {\\left({\\left(e^{\\left(\\frac{3}{2} i \\, \\sqrt{3} - \\frac{17}{2} i\\right)} + 2 \\, e^{\\left(\\frac{3}{2} i \\, \\sqrt{3} - \\frac{19}{2} i\\right)}\\right)} e^{\\left(\\frac{19}{4} i \\, \\sqrt{3} - \\frac{107}{4} i\\right)} + 2 \\, {\\left({\\left(e^{\\left(\\frac{13}{2} i\\right)} + e^{\\left(5 i\\right)}\\right)} e^{\\left(\\frac{9}{4} i \\, \\sqrt{3} - \\frac{93}{4} i\\right)} + e^{\\left(2 i \\, \\sqrt{3} - 18 i\\right)}\\right)} e^{\\left(\\frac{7}{2} i \\, \\sqrt{3} - \\frac{37}{2} i\\right)} + e^{\\left(\\frac{25}{4} i \\, \\sqrt{3} - \\frac{139}{4} i\\right)} + 2 \\, e^{\\left(\\frac{25}{4} i \\, \\sqrt{3} - \\frac{143}{4} i\\right)} + 2 \\, e^{\\left(6 i \\, \\sqrt{3} - 36 i\\right)}\\right)} e^{\\left(-6 i \\, \\sqrt{3} + \\frac{83}{2} i\\right)} + 2 \\, e^{\\left(\\frac{3}{4} i \\, \\sqrt{3} + \\frac{25}{4} i\\right)} + 2 \\, e^{\\left(\\frac{3}{4} i \\, \\sqrt{3} + \\frac{23}{4} i\\right)} + e^{\\left(\\frac{3}{4} i \\, \\sqrt{3} + \\frac{21}{4} i\\right)} + e^{\\left(\\frac{3}{4} i \\, \\sqrt{3} + \\frac{19}{4} i\\right)}\\right)} {\\phi_{3,to}^{BN}}\\right)} {\\phi_{4,to}^{BN}}} e^{\\left(\\frac{1}{2} i \\, \\sqrt{3} - 6 i\\right)} \\right|}^{2} + {\\left| \\left(2.8428030638862365 \\times 10^{-09}\\right) \\, {\\phi_{2,to}^{BB}} {\\left(16268869 \\, e^{\\left(\\frac{3}{10} i \\, \\sqrt{3} + \\frac{3}{10} i\\right)} + 16268869 \\, e^{\\left(\\frac{3}{10} i \\, \\sqrt{3} - \\frac{3}{10} i\\right)} + 16268869 \\, e^{\\left(-\\frac{3}{10} i \\, \\sqrt{3} + \\frac{3}{10} i\\right)} + 16268869 \\, e^{\\left(-\\frac{3}{10} i \\, \\sqrt{3} - \\frac{3}{10} i\\right)} - 70758660\\right)} + \\left(2.194203054514918 \\times 10^{-09}\\right) \\, {\\phi_{2,to}^{NN}} {\\left(16268869 \\, e^{\\left(\\frac{3}{10} i \\, \\sqrt{3} + \\frac{3}{10} i\\right)} + 16268869 \\, e^{\\left(\\frac{3}{10} i \\, \\sqrt{3} - \\frac{3}{10} i\\right)} + 16268869 \\, e^{\\left(-\\frac{3}{10} i \\, \\sqrt{3} + \\frac{3}{10} i\\right)} + 16268869 \\, e^{\\left(-\\frac{3}{10} i \\, \\sqrt{3} - \\frac{3}{10} i\\right)} - 70758660\\right)} - \\left(1.3449984558254618 \\times 10^{-30}\\right) \\, \\sqrt{4.4673499905421614 \\times 10^{42} \\, {\\left(529352197078322 \\, {\\left(e^{\\left(\\frac{21}{10} i \\, \\sqrt{3} + \\frac{9}{10} i\\right)} + e^{\\left(\\frac{3}{2} i \\, \\sqrt{3} + \\frac{3}{2} i\\right)} + e^{\\left(\\frac{3}{2} i \\, \\sqrt{3} + \\frac{9}{10} i\\right)}\\right)} e^{\\left(\\frac{9}{10} i \\, \\sqrt{3} + \\frac{3}{10} i\\right)} + 529352197078322 \\, {\\left(e^{\\left(\\frac{3}{2} i \\, \\sqrt{3} + \\frac{9}{10} i\\right)} + e^{\\left(\\frac{9}{10} i \\, \\sqrt{3} + \\frac{3}{2} i\\right)}\\right)} e^{\\left(\\frac{9}{10} i \\, \\sqrt{3} - \\frac{3}{10} i\\right)} + 264676098539161 \\, e^{\\left(3 i \\, \\sqrt{3} + \\frac{9}{5} i\\right)} + 264676098539161 \\, e^{\\left(3 i \\, \\sqrt{3} + \\frac{3}{5} i\\right)} - 2302326740311080 \\, e^{\\left(\\frac{27}{10} i \\, \\sqrt{3} + \\frac{3}{2} i\\right)} - 2302326740311080 \\, e^{\\left(\\frac{27}{10} i \\, \\sqrt{3} + \\frac{9}{10} i\\right)} + 5536140162073922 \\, e^{\\left(\\frac{12}{5} i \\, \\sqrt{3} + \\frac{6}{5} i\\right)} - 2302326740311080 \\, e^{\\left(\\frac{21}{10} i \\, \\sqrt{3} + \\frac{3}{2} i\\right)} - 2302326740311080 \\, e^{\\left(\\frac{21}{10} i \\, \\sqrt{3} + \\frac{9}{10} i\\right)} + 264676098539161 \\, e^{\\left(\\frac{9}{5} i \\, \\sqrt{3} + \\frac{9}{5} i\\right)} + 264676098539161 \\, e^{\\left(\\frac{9}{5} i \\, \\sqrt{3} + \\frac{3}{5} i\\right)}\\right)} {\\phi_{2,to}^{BB}}^{2} - 6.896202638416087 \\times 10^{42} \\, {\\left(264676098539161 \\, {\\left(4 \\, e^{\\left(\\frac{3}{5} i \\, \\sqrt{3}\\right)} - 1\\right)} e^{\\left(\\frac{9}{5} i \\, \\sqrt{3} + \\frac{3}{5} i\\right)} - 2302326740311080 \\, {\\left(2 \\, e^{\\left(\\frac{9}{5} i \\, \\sqrt{3}\\right)} + e^{\\left(\\frac{6}{5} i \\, \\sqrt{3}\\right)}\\right)} e^{\\left(\\frac{9}{10} i \\, \\sqrt{3} + \\frac{3}{2} i\\right)} - 529352197078322 \\, {\\left(e^{\\left(\\frac{21}{10} i \\, \\sqrt{3} + \\frac{9}{10} i\\right)} + e^{\\left(\\frac{3}{2} i \\, \\sqrt{3} + \\frac{3}{2} i\\right)} + e^{\\left(\\frac{3}{2} i \\, \\sqrt{3} + \\frac{9}{10} i\\right)}\\right)} e^{\\left(\\frac{9}{10} i \\, \\sqrt{3} + \\frac{3}{10} i\\right)} + 32537738 \\, {\\left(16268869 \\, {\\left(4 \\, e^{\\left(\\frac{3}{5} i \\, \\sqrt{3}\\right)} - 1\\right)} e^{\\left(\\frac{9}{10} i \\, \\sqrt{3} + \\frac{3}{2} i\\right)} - 70758660 \\, {\\left(2 \\, e^{\\left(\\frac{6}{5} i \\, \\sqrt{3}\\right)} + e^{\\left(\\frac{3}{5} i \\, \\sqrt{3}\\right)}\\right)} e^{\\left(\\frac{3}{5} i \\, \\sqrt{3} + \\frac{6}{5} i\\right)} - 16268869 \\, e^{\\left(\\frac{3}{2} i \\, \\sqrt{3} + \\frac{9}{10} i\\right)}\\right)} e^{\\left(\\frac{9}{10} i \\, \\sqrt{3} - \\frac{3}{10} i\\right)} + {\\left(264676098539161 \\, {\\left(4 \\, e^{\\left(\\frac{6}{5} i \\, \\sqrt{3}\\right)} - e^{\\left(\\frac{3}{5} i \\, \\sqrt{3}\\right)}\\right)} e^{\\left(\\frac{9}{10} i \\, \\sqrt{3} + \\frac{9}{10} i\\right)} + 4 \\, {\\left(264676098539161 \\, e^{\\left(\\frac{12}{5} i \\, \\sqrt{3}\\right)} + 1251696991248900 \\, e^{\\left(\\frac{9}{5} i \\, \\sqrt{3}\\right)}\\right)} e^{\\left(\\frac{3}{10} i \\, \\sqrt{3} + \\frac{3}{10} i\\right)}\\right)} e^{\\left(\\frac{3}{10} i \\, \\sqrt{3} + \\frac{9}{10} i\\right)} + 264676098539161 \\, e^{\\left(3 i \\, \\sqrt{3} + \\frac{9}{5} i\\right)} + 264676098539161 \\, e^{\\left(3 i \\, \\sqrt{3} + \\frac{3}{5} i\\right)} + 2302326740311080 \\, e^{\\left(\\frac{27}{10} i \\, \\sqrt{3} + \\frac{3}{2} i\\right)} + 2302326740311080 \\, e^{\\left(\\frac{27}{10} i \\, \\sqrt{3} + \\frac{9}{10} i\\right)} - 529352197078322 \\, e^{\\left(\\frac{12}{5} i \\, \\sqrt{3} + \\frac{6}{5} i\\right)} + 529352197078322 \\, e^{\\left(\\frac{9}{5} i \\, \\sqrt{3} + \\frac{9}{5} i\\right)} + 1058704394156644 \\, e^{\\left(\\frac{9}{5} i \\, \\sqrt{3} + \\frac{6}{5} i\\right)} + 529352197078322 \\, e^{\\left(\\frac{9}{5} i \\, \\sqrt{3} + \\frac{3}{5} i\\right)}\\right)} {\\phi_{2,to}^{BB}} {\\phi_{2,to}^{NN}} + 2.6613994275566806 \\times 10^{42} \\, {\\left(529352197078322 \\, {\\left(e^{\\left(\\frac{21}{10} i \\, \\sqrt{3} + \\frac{9}{10} i\\right)} + e^{\\left(\\frac{3}{2} i \\, \\sqrt{3} + \\frac{3}{2} i\\right)} + e^{\\left(\\frac{3}{2} i \\, \\sqrt{3} + \\frac{9}{10} i\\right)}\\right)} e^{\\left(\\frac{9}{10} i \\, \\sqrt{3} + \\frac{3}{10} i\\right)} + 529352197078322 \\, {\\left(e^{\\left(\\frac{3}{2} i \\, \\sqrt{3} + \\frac{9}{10} i\\right)} + e^{\\left(\\frac{9}{10} i \\, \\sqrt{3} + \\frac{3}{2} i\\right)}\\right)} e^{\\left(\\frac{9}{10} i \\, \\sqrt{3} - \\frac{3}{10} i\\right)} + 264676098539161 \\, e^{\\left(3 i \\, \\sqrt{3} + \\frac{9}{5} i\\right)} + 264676098539161 \\, e^{\\left(3 i \\, \\sqrt{3} + \\frac{3}{5} i\\right)} - 2302326740311080 \\, e^{\\left(\\frac{27}{10} i \\, \\sqrt{3} + \\frac{3}{2} i\\right)} - 2302326740311080 \\, e^{\\left(\\frac{27}{10} i \\, \\sqrt{3} + \\frac{9}{10} i\\right)} + 5536140162073922 \\, e^{\\left(\\frac{12}{5} i \\, \\sqrt{3} + \\frac{6}{5} i\\right)} - 2302326740311080 \\, e^{\\left(\\frac{21}{10} i \\, \\sqrt{3} + \\frac{3}{2} i\\right)} - 2302326740311080 \\, e^{\\left(\\frac{21}{10} i \\, \\sqrt{3} + \\frac{9}{10} i\\right)} + 264676098539161 \\, e^{\\left(\\frac{9}{5} i \\, \\sqrt{3} + \\frac{9}{5} i\\right)} + 264676098539161 \\, e^{\\left(\\frac{9}{5} i \\, \\sqrt{3} + \\frac{3}{5} i\\right)}\\right)} {\\phi_{2,to}^{NN}}^{2} + 151.4264337 \\, {\\left(1481820770396254552405003900768674814585967750400 \\, {\\left(59392292 \\, e^{\\left(\\frac{3}{10} i \\, \\sqrt{3} + \\frac{9}{10} i\\right)} + 16268869\\right)} e^{\\left(\\frac{12}{5} i \\, \\sqrt{3} + \\frac{3}{5} i\\right)} + 1481820770396254552405003900768674814585967750400 \\, {\\left(16268869 \\, e^{\\left(\\frac{3}{2} i \\, \\sqrt{3} + \\frac{21}{10} i\\right)} + 59392292 \\, e^{\\left(\\frac{6}{5} i \\, \\sqrt{3} + \\frac{6}{5} i\\right)}\\right)} e^{\\left(\\frac{9}{10} i \\, \\sqrt{3} - \\frac{3}{10} i\\right)} + 24107547995055743403730643406094569862098398569482297600 \\, {\\left(e^{\\left(\\frac{12}{5} i \\, \\sqrt{3}\\right)} + e^{\\left(\\frac{6}{5} i \\, \\sqrt{3}\\right)}\\right)} e^{\\left(\\frac{3}{5} i \\, \\sqrt{3} + \\frac{6}{5} i\\right)} + \\left(13612145527417822290296246143448228299559726009918100480 i + 44004365943519653041383646967796079520467827867169958400\\right) \\, e^{\\left(\\frac{27}{10} i \\, \\sqrt{3} + \\frac{3}{10} i\\right)} + 24107547995055743403730643406094569862098398569482297600 \\, e^{\\left(\\frac{12}{5} i \\, \\sqrt{3} + \\frac{9}{5} i\\right)} + 24107547995055743403730643406094569862098398569482297600 \\, e^{\\left(\\frac{12}{5} i \\, \\sqrt{3} + \\frac{3}{5} i\\right)} - \\left(13612145527417822290296246143448228299559726009918100480 i - 44004365943519653041383646967796079520467827867169958400\\right) \\, e^{\\left(\\frac{21}{10} i \\, \\sqrt{3} + \\frac{21}{10} i\\right)}\\right)} {\\phi_{1,to}^{BN}} {\\phi_{3,to}^{BN}} + 3.6505200181428765 \\times 10^{57} \\, {\\left({\\left(e^{\\left(\\frac{6}{5} i \\, \\sqrt{3} + \\frac{3}{5} i\\right)} + e^{\\left(\\frac{6}{5} i \\, \\sqrt{3} - \\frac{3}{5} i\\right)}\\right)} e^{\\left(\\frac{6}{5} i \\, \\sqrt{3} + \\frac{9}{5} i\\right)} + e^{\\left(\\frac{12}{5} i \\, \\sqrt{3}\\right)} + e^{\\left(3 i \\, \\sqrt{3} + \\frac{9}{5} i\\right)} + e^{\\left(3 i \\, \\sqrt{3} + \\frac{3}{5} i\\right)} + 2 \\, e^{\\left(\\frac{12}{5} i \\, \\sqrt{3} + \\frac{6}{5} i\\right)} + e^{\\left(\\frac{9}{5} i \\, \\sqrt{3} + \\frac{9}{5} i\\right)} + e^{\\left(\\frac{9}{5} i \\, \\sqrt{3} + \\frac{3}{5} i\\right)}\\right)} {\\phi_{3,to}^{BN}}^{2} - 151.4264337 \\, {\\left(415539213856218177315156889 \\, {\\left(\\left(50630300099480913855433173840 i - 74006104454759394240062356991\\right) \\, e^{\\left(\\frac{3}{5} i \\, \\sqrt{3}\\right)} - 137808293182159916937635078400 \\, e^{\\left(\\frac{6}{5} i \\, \\sqrt{3} - \\frac{3}{5} i\\right)} - 137808293182159916937635078400 \\, e^{\\left(\\frac{3}{10} i \\, \\sqrt{3} + \\frac{3}{10} i\\right)}\\right)} e^{\\left(\\frac{9}{5} i \\, \\sqrt{3} + \\frac{6}{5} i\\right)} - 24107547995055743403730643406094569862098398569482297600 \\, {\\left(e^{\\left(\\frac{6}{5} i\\right)} + 2\\right)} e^{\\left(\\frac{9}{5} i \\, \\sqrt{3} + \\frac{3}{5} i\\right)} - {\\left({\\left(24107547995055743403730643406094569862098398569482297600 \\, e^{\\left(\\frac{6}{5} i \\, \\sqrt{3}\\right)} - \\left(17714062941609988501634036303203988846099534234710607520 i - 57264749811781963131751976520032058441463555125815097600\\right) \\, e^{\\left(\\frac{3}{5} i \\, \\sqrt{3}\\right)}\\right)} e^{\\left(\\frac{9}{5} i \\, \\sqrt{3}\\right)} + 48215095990111486807461286812189139724196797138964595200 \\, e^{\\left(\\frac{21}{10} i \\, \\sqrt{3} + \\frac{3}{10} i\\right)}\\right)} e^{\\left(\\frac{3}{5} i \\, \\sqrt{3} + \\frac{6}{5} i\\right)} - 24107547995055743403730643406094569862098398569482297600 \\, e^{\\left(\\frac{18}{5} i \\, \\sqrt{3}\\right)} - 48215095990111486807461286812189139724196797138964595200 \\, e^{\\left(\\frac{18}{5} i \\, \\sqrt{3} + \\frac{3}{5} i\\right)} + 17714062941609988501634036303203988846099534234710607520 i \\, e^{\\left(3 i \\, \\sqrt{3} + \\frac{3}{5} i\\right)} - 48215095990111486807461286812189139724196797138964595200 \\, e^{\\left(\\frac{27}{10} i \\, \\sqrt{3} + \\frac{9}{10} i\\right)} - 48215095990111486807461286812189139724196797138964595200 \\, e^{\\left(\\frac{27}{10} i \\, \\sqrt{3} + \\frac{3}{10} i\\right)} - 48215095990111486807461286812189139724196797138964595200 \\, e^{\\left(\\frac{27}{10} i \\, \\sqrt{3} - \\frac{3}{10} i\\right)} + 17714062941609988501634036303203988846099534234710607520 i \\, e^{\\left(\\frac{21}{10} i \\, \\sqrt{3} + \\frac{3}{2} i\\right)} + \\left(17714062941609988501634036303203988846099534234710607520 i - 57264749811781963131751976520032058441463555125815097600\\right) \\, e^{\\left(\\frac{21}{10} i \\, \\sqrt{3} + \\frac{3}{10} i\\right)} - 24107547995055743403730643406094569862098398569482297600 \\, e^{\\left(\\frac{9}{5} i \\, \\sqrt{3} - \\frac{3}{5} i\\right)}\\right)} {\\phi_{4,to}^{BN}}^{2} + 151.4264337 \\, {\\phi_{1,to}^{BN}}^{2} {\\left(\\left(13612145527417822290296246143448228299559726009918100480 i + 44004365943519653041383646967796079520467827867169958400\\right) \\, e^{\\left(\\frac{27}{10} i \\, \\sqrt{3} + \\frac{9}{10} i\\right)} + 112116279882095066563970406520850556702944747929848911104 \\, e^{\\left(\\frac{12}{5} i \\, \\sqrt{3} + \\frac{6}{5} i\\right)} - \\left(13612145527417822290296246143448228299559726009918100480 i - 44004365943519653041383646967796079520467827867169958400\\right) \\, e^{\\left(\\frac{21}{10} i \\, \\sqrt{3} + \\frac{3}{2} i\\right)}\\right)} + {\\left(151.4264337 \\, {\\left(1481820770396254552405003900768674814585967750400 \\, {\\left(59392292 \\, e^{\\left(\\frac{3}{5} i \\, \\sqrt{3}\\right)} + 16268869 \\, e^{\\left(\\frac{3}{10} i \\, \\sqrt{3} + \\frac{3}{10} i\\right)}\\right)} e^{\\left(\\frac{12}{5} i \\, \\sqrt{3} + \\frac{6}{5} i\\right)} + 1488338352487935170483047540799779539427469097600 \\, {\\left(16197626 \\, e^{\\left(\\frac{12}{5} i \\, \\sqrt{3} + \\frac{6}{5} i\\right)} + 19237813 \\, e^{\\left(\\frac{9}{5} i \\, \\sqrt{3} + \\frac{6}{5} i\\right)}\\right)} e^{\\left(\\frac{9}{10} i \\, \\sqrt{3} - \\frac{3}{10} i\\right)} + {\\left(-\\left(32334109972072409803216534636135180666593559710018223680 i - 128634935305393646876130841018322188890700459763487456000\\right) \\, e^{\\left(\\frac{9}{5} i \\, \\sqrt{3}\\right)} + 116641106792930287648643282195608188261667433297247465600 \\, e^{\\left(\\frac{3}{2} i \\, \\sqrt{3} + \\frac{3}{10} i\\right)}\\right)} e^{\\left(\\frac{3}{5} i \\, \\sqrt{3} + \\frac{6}{5} i\\right)} + 24107547995055743403730643406094569862098398569482297600 \\, e^{\\left(\\frac{12}{5} i \\, \\sqrt{3}\\right)} + 24107547995055743403730643406094569862098398569482297600 \\, e^{\\left(\\frac{33}{10} i \\, \\sqrt{3} + \\frac{3}{10} i\\right)} + 88008731887039306082767293935592159040935655734339916800 \\, e^{\\left(3 i \\, \\sqrt{3} + \\frac{3}{5} i\\right)} - \\left(8857031470804994250817018151601994423049767117355303760 i - 24107547995055743403730643406094569862098398569482297600\\right) \\, e^{\\left(\\frac{27}{10} i \\, \\sqrt{3} + \\frac{9}{10} i\\right)} - 8857031470804994250817018151601994423049767117355303760 i \\, e^{\\left(\\frac{21}{10} i \\, \\sqrt{3} + \\frac{3}{2} i\\right)} + 88008731887039306082767293935592159040935655734339916800 \\, e^{\\left(\\frac{21}{10} i \\, \\sqrt{3} + \\frac{3}{10} i\\right)} + 24107547995055743403730643406094569862098398569482297600 \\, e^{\\left(\\frac{9}{5} i \\, \\sqrt{3} + \\frac{9}{5} i\\right)} + 24107547995055743403730643406094569862098398569482297600 \\, e^{\\left(\\frac{9}{5} i \\, \\sqrt{3} + \\frac{3}{5} i\\right)}\\right)} {\\phi_{1,to}^{BN}} + 151.4264337 \\, {\\left({\\left(24107547995055743403730643406094569862098398569482297600 \\, {\\left(e^{\\left(\\frac{6}{5} i\\right)} + 2\\right)} e^{\\left(\\frac{3}{5} i \\, \\sqrt{3}\\right)} + 48215095990111486807461286812189139724196797138964595200 \\, e^{\\left(\\frac{6}{5} i \\, \\sqrt{3} + \\frac{3}{5} i\\right)} + 24107547995055743403730643406094569862098398569482297600 \\, e^{\\left(\\frac{6}{5} i \\, \\sqrt{3} - \\frac{3}{5} i\\right)} + 48215095990111486807461286812189139724196797138964595200 \\, e^{\\left(\\frac{3}{10} i \\, \\sqrt{3} + \\frac{9}{10} i\\right)} - 17714062941609988501634036303203988846099534234710607520 i\\right)} e^{\\left(\\frac{21}{10} i \\, \\sqrt{3} + \\frac{9}{10} i\\right)} + 24107547995055743403730643406094569862098398569482297600 \\, {\\left(e^{\\left(\\frac{6}{5} i\\right)} + 3 \\, e^{\\left(\\frac{3}{5} i \\, \\sqrt{3} - \\frac{3}{5} i\\right)} + 1\\right)} e^{\\left(\\frac{9}{5} i \\, \\sqrt{3} + \\frac{6}{5} i\\right)} + 28632374905890981565875988260016029220731777562907548800 \\, {\\left(e^{\\left(\\frac{6}{5} i \\, \\sqrt{3} + \\frac{3}{5} i\\right)} + e^{\\left(\\frac{3}{5} i \\, \\sqrt{3} + \\frac{12}{5} i\\right)}\\right)} e^{\\left(\\frac{3}{2} i \\, \\sqrt{3} - \\frac{3}{10} i\\right)} + 2976676704975870340966095081599559078854938195200 \\, {\\left(19237813 \\, e^{\\left(\\frac{9}{5} i \\, \\sqrt{3}\\right)} + 16197626 \\, e^{\\left(\\frac{3}{2} i \\, \\sqrt{3} + \\frac{3}{10} i\\right)}\\right)} e^{\\left(\\frac{3}{10} i \\, \\sqrt{3} + \\frac{9}{10} i\\right)} + 48215095990111486807461286812189139724196797138964595200 \\, e^{\\left(\\frac{9}{5} i \\, \\sqrt{3}\\right)} + 48215095990111486807461286812189139724196797138964595200 \\, e^{\\left(\\frac{33}{10} i \\, \\sqrt{3} + \\frac{9}{10} i\\right)} + 24107547995055743403730643406094569862098398569482297600 \\, e^{\\left(\\frac{33}{10} i \\, \\sqrt{3} - \\frac{3}{10} i\\right)} - \\left(17714062941609988501634036303203988846099534234710607520 i - 81372297806837706535482619926126628303561953695297395200\\right) \\, e^{\\left(\\frac{27}{10} i \\, \\sqrt{3} + \\frac{3}{2} i\\right)} - \\left(8857031470804994250817018151601994423049767117355303760 i - 48215095990111486807461286812189139724196797138964595200\\right) \\, e^{\\left(\\frac{27}{10} i \\, \\sqrt{3} + \\frac{3}{10} i\\right)} + 24107547995055743403730643406094569862098398569482297600 \\, e^{\\left(\\frac{12}{5} i \\, \\sqrt{3} - \\frac{3}{5} i\\right)} - 8857031470804994250817018151601994423049767117355303760 i \\, e^{\\left(\\frac{21}{10} i \\, \\sqrt{3} + \\frac{21}{10} i\\right)}\\right)} {\\phi_{3,to}^{BN}}\\right)} {\\phi_{4,to}^{BN}}} e^{\\left(-\\frac{6}{5} i \\, \\sqrt{3} - \\frac{3}{5} i\\right)} - 0.24379253743649879 \\, {\\phi_{1,to}^{BN}} - 0.24379253743649879 \\, {\\phi_{3,to}^{BN}} - 0.48758507487299757 \\, {\\phi_{4,to}^{BN}} \\right|}^{2}}</script></html>"
      ],
      "text/latex": [
       "\\begin{math}\n",
       "\\newcommand{\\Bold}[1]{\\mathbf{#1}}\\sqrt{\\left(1.0902764218292245 \\times 10^{-05}\\right) \\, {\\left| 14.0067 \\, {\\left({\\left({\\left({\\left(e^{\\left(\\frac{3}{2} i\\right)} + e^{\\left(\\frac{1}{2} i\\right)}\\right)} e^{\\left(2 i\\right)} - 6 \\, e^{\\left(3 i\\right)}\\right)} e^{\\left(\\frac{1}{4} i \\, \\sqrt{3} - \\frac{13}{4} i\\right)} + 1\\right)} e^{\\left(\\frac{1}{4} i \\, \\sqrt{3} - \\frac{11}{4} i\\right)} + e^{\\left(\\frac{3}{4} i \\, \\sqrt{3} - \\frac{11}{4} i\\right)} + e^{\\left(\\frac{3}{4} i \\, \\sqrt{3} - \\frac{13}{4} i\\right)} + e^{\\left(\\frac{1}{4} i \\, \\sqrt{3} - \\frac{13}{4} i\\right)}\\right)} {\\phi_{2,to}^{BB}} + 10.811 \\, {\\left({\\left({\\left({\\left(e^{\\left(\\frac{3}{2} i\\right)} + e^{\\left(\\frac{1}{2} i\\right)}\\right)} e^{\\left(2 i\\right)} - 6 \\, e^{\\left(3 i\\right)}\\right)} e^{\\left(\\frac{1}{4} i \\, \\sqrt{3} - \\frac{13}{4} i\\right)} + 1\\right)} e^{\\left(\\frac{1}{4} i \\, \\sqrt{3} - \\frac{11}{4} i\\right)} + e^{\\left(\\frac{3}{4} i \\, \\sqrt{3} - \\frac{11}{4} i\\right)} + e^{\\left(\\frac{3}{4} i \\, \\sqrt{3} - \\frac{13}{4} i\\right)} + e^{\\left(\\frac{1}{4} i \\, \\sqrt{3} - \\frac{13}{4} i\\right)}\\right)} {\\phi_{2,to}^{NN}} - 73.83326901336551 \\, {\\phi_{1,to}^{BN}} e^{\\left(\\frac{1}{2} i \\, \\sqrt{3} - 3 i\\right)} - 73.83326901336551 \\, {\\phi_{3,to}^{BN}} e^{\\left(\\frac{1}{2} i \\, \\sqrt{3} - 3 i\\right)} - 147.66653802673102 \\, {\\phi_{4,to}^{BN}} e^{\\left(\\frac{1}{2} i \\, \\sqrt{3} - 3 i\\right)} + \\sqrt{605.7057348 \\, {\\left({\\left({\\left(e^{\\left(\\frac{13}{2} i\\right)} + e^{\\left(6 i\\right)}\\right)} e^{\\left(\\frac{1}{2} i \\, \\sqrt{3} - 7 i\\right)} + e^{\\left(\\frac{1}{4} i \\, \\sqrt{3} - \\frac{3}{4} i\\right)}\\right)} e^{\\left(-\\frac{1}{4} i \\, \\sqrt{3} + \\frac{27}{4} i\\right)} + {\\left({\\left({\\left(e^{\\left(\\frac{3}{2} i\\right)} + e^{\\left(\\frac{1}{2} i\\right)}\\right)} e^{\\left(5 i\\right)} + 2 \\, e^{\\left(6 i\\right)}\\right)} e^{\\left(\\frac{5}{2} i \\, \\sqrt{3} - 23 i\\right)} + {\\left(e^{\\left(4 i\\right)} + e^{\\left(\\frac{7}{2} i\\right)}\\right)} e^{\\left(\\frac{9}{4} i \\, \\sqrt{3} - \\frac{83}{4} i\\right)}\\right)} e^{\\left(-\\frac{5}{2} i \\, \\sqrt{3} + 23 i\\right)}\\right)} {\\phi_{1,to}^{BN}}^{2} + 196.18764489 \\, {\\left(2 \\, {\\left({\\left({\\left({\\left(e^{\\left(\\frac{3}{2} i\\right)} + e^{\\left(\\frac{1}{2} i\\right)}\\right)} e^{\\left(2 i\\right)} - 6 \\, e^{\\left(3 i\\right)}\\right)} e^{\\left(\\frac{1}{2} i \\, \\sqrt{3} - 7 i\\right)} + e^{\\left(\\frac{1}{4} i \\, \\sqrt{3} - \\frac{15}{4} i\\right)}\\right)} e^{\\left(5 i \\, \\sqrt{3} - 22 i\\right)} + {\\left({\\left({\\left(e^{\\left(\\frac{3}{2} i\\right)} + e^{\\left(\\frac{1}{2} i\\right)}\\right)} e^{\\left(2 i\\right)} - 6 \\, e^{\\left(3 i\\right)}\\right)} e^{\\left(\\frac{1}{2} i \\, \\sqrt{3} - 7 i\\right)} + e^{\\left(\\frac{1}{4} i \\, \\sqrt{3} - \\frac{15}{4} i\\right)}\\right)} e^{\\left(5 i \\, \\sqrt{3} - \\frac{45}{2} i\\right)}\\right)} e^{\\left(-\\frac{21}{4} i \\, \\sqrt{3} + \\frac{129}{4} i\\right)} + {\\left({\\left({\\left({\\left(2 \\, {\\left({\\left(e^{\\left(\\frac{3}{2} i\\right)} + e^{\\left(\\frac{1}{2} i\\right)}\\right)} e^{\\left(2 i\\right)} - 6 \\, e^{\\left(3 i\\right)}\\right)} e^{\\left(\\frac{1}{2} i \\, \\sqrt{3} - \\frac{13}{2} i\\right)} + {\\left(2 \\, {\\left(e^{\\left(\\frac{3}{2} i\\right)} + e^{\\left(\\frac{1}{2} i\\right)}\\right)} e^{\\left(2 i\\right)} - {\\left({\\left(12 \\, e^{\\left(\\frac{3}{2} i\\right)} + 12 \\, e^{\\left(\\frac{1}{2} i\\right)} - 1\\right)} e^{\\left(5 i\\right)} - e^{\\left(7 i\\right)} - 38 \\, e^{\\left(6 i\\right)}\\right)} e^{\\left(\\frac{1}{4} i \\, \\sqrt{3} - \\frac{11}{4} i\\right)} - 12 \\, e^{\\left(3 i\\right)}\\right)} e^{\\left(\\frac{1}{2} i \\, \\sqrt{3} - 7 i\\right)} + 2 \\, e^{\\left(\\frac{1}{4} i \\, \\sqrt{3} - \\frac{15}{4} i\\right)}\\right)} e^{\\left(\\frac{1}{2} i \\, \\sqrt{3} - \\frac{13}{2} i\\right)} + e^{\\left(\\frac{3}{4} i \\, \\sqrt{3} - \\frac{39}{4} i\\right)}\\right)} e^{\\left(\\frac{1}{2} i \\, \\sqrt{3} - \\frac{11}{2} i\\right)} + e^{\\left(\\frac{5}{4} i \\, \\sqrt{3} - \\frac{65}{4} i\\right)}\\right)} e^{\\left(\\frac{17}{4} i \\, \\sqrt{3} - \\frac{79}{4} i\\right)} + e^{\\left(\\frac{13}{2} i \\, \\sqrt{3} - 35 i\\right)} + 2 \\, e^{\\left(\\frac{13}{2} i \\, \\sqrt{3} - \\frac{71}{2} i\\right)} + e^{\\left(\\frac{13}{2} i \\, \\sqrt{3} - 36 i\\right)} + 2 \\, e^{\\left(6 i \\, \\sqrt{3} - \\frac{71}{2} i\\right)} + 2 \\, e^{\\left(6 i \\, \\sqrt{3} - 36 i\\right)}\\right)} e^{\\left(-6 i \\, \\sqrt{3} + \\frac{83}{2} i\\right)}\\right)} {\\phi_{2,to}^{BB}}^{2} - 302.8528674 \\, {\\left(4 \\, {\\left({\\left({\\left({\\left(e^{\\left(\\frac{3}{2} i\\right)} + e^{\\left(\\frac{1}{2} i\\right)}\\right)} e^{\\left(5 i\\right)} - 6 \\, e^{\\left(6 i\\right)}\\right)} e^{\\left(i \\, \\sqrt{3} - 6 i\\right)} + e^{\\left(\\frac{3}{4} i \\, \\sqrt{3} + \\frac{1}{4} i\\right)}\\right)} e^{\\left(-\\frac{21}{4} i \\, \\sqrt{3} + \\frac{129}{4} i\\right)} + e^{\\left(-\\frac{9}{2} i \\, \\sqrt{3} + 32 i\\right)}\\right)} e^{\\left(\\frac{9}{2} i \\, \\sqrt{3} - \\frac{53}{2} i\\right)} + 4 \\, {\\left({\\left(e^{\\left(\\frac{3}{2} i\\right)} + e^{\\left(\\frac{1}{2} i\\right)}\\right)} e^{\\left(5 i\\right)} - 6 \\, e^{\\left(6 i\\right)}\\right)} e^{\\left(-\\frac{1}{4} i \\, \\sqrt{3} + \\frac{1}{4} i\\right)} - 2 \\, {\\left({\\left({\\left({\\left(e^{\\left(\\frac{3}{2} i\\right)} + e^{\\left(\\frac{1}{2} i\\right)}\\right)} e^{\\left(2 i\\right)} - 6 \\, e^{\\left(3 i\\right)}\\right)} e^{\\left(\\frac{1}{2} i \\, \\sqrt{3} - 7 i\\right)} + e^{\\left(\\frac{1}{4} i \\, \\sqrt{3} - \\frac{15}{4} i\\right)}\\right)} e^{\\left(5 i \\, \\sqrt{3} - 22 i\\right)} + {\\left({\\left({\\left(e^{\\left(\\frac{3}{2} i\\right)} + e^{\\left(\\frac{1}{2} i\\right)}\\right)} e^{\\left(2 i\\right)} - 6 \\, e^{\\left(3 i\\right)}\\right)} e^{\\left(\\frac{1}{2} i \\, \\sqrt{3} - 7 i\\right)} + e^{\\left(\\frac{1}{4} i \\, \\sqrt{3} - \\frac{15}{4} i\\right)}\\right)} e^{\\left(5 i \\, \\sqrt{3} - \\frac{45}{2} i\\right)} - 2 \\, {\\left({\\left({\\left(e^{\\left(\\frac{3}{2} i\\right)} + e^{\\left(\\frac{1}{2} i\\right)}\\right)} e^{\\left(5 i\\right)} - 6 \\, e^{\\left(6 i\\right)}\\right)} e^{\\left(\\frac{3}{4} i \\, \\sqrt{3} - \\frac{25}{4} i\\right)} + e^{\\left(\\frac{1}{2} i \\, \\sqrt{3}\\right)}\\right)} e^{\\left(\\frac{19}{4} i \\, \\sqrt{3} - \\frac{103}{4} i\\right)}\\right)} e^{\\left(-\\frac{21}{4} i \\, \\sqrt{3} + \\frac{129}{4} i\\right)} + {\\left(4 \\, {\\left({\\left(e^{\\left(\\frac{3}{2} i\\right)} + e^{\\left(\\frac{1}{2} i\\right)}\\right)} e^{\\left(3 i\\right)} - 6 \\, e^{\\left(4 i\\right)}\\right)} e^{\\left(\\frac{23}{4} i \\, \\sqrt{3} - \\frac{159}{4} i\\right)} - {\\left({\\left({\\left(2 \\, {\\left(e^{\\left(\\frac{3}{2} i\\right)} + e^{\\left(\\frac{1}{2} i\\right)}\\right)} e^{\\left(2 i\\right)} + {\\left({\\left(12 \\, e^{\\left(\\frac{3}{2} i\\right)} + 12 \\, e^{\\left(\\frac{1}{2} i\\right)} - 1\\right)} e^{\\left(5 i\\right)} - e^{\\left(7 i\\right)} - 38 \\, e^{\\left(6 i\\right)}\\right)} e^{\\left(\\frac{1}{4} i \\, \\sqrt{3} - \\frac{11}{4} i\\right)} - 12 \\, e^{\\left(3 i\\right)}\\right)} e^{\\left(\\frac{7}{4} i \\, \\sqrt{3} - \\frac{39}{4} i\\right)} + 2 \\, {\\left({\\left({\\left(e^{\\left(\\frac{3}{2} i\\right)} + e^{\\left(\\frac{1}{2} i\\right)}\\right)} e^{\\left(2 i\\right)} - 6 \\, e^{\\left(3 i\\right)}\\right)} e^{\\left(\\frac{1}{2} i \\, \\sqrt{3} - \\frac{13}{2} i\\right)} + e^{\\left(\\frac{1}{4} i \\, \\sqrt{3} - \\frac{15}{4} i\\right)}\\right)} e^{\\left(\\frac{5}{4} i \\, \\sqrt{3} - \\frac{11}{4} i\\right)}\\right)} e^{\\left(\\frac{1}{2} i \\, \\sqrt{3} - \\frac{13}{2} i\\right)} + e^{\\left(2 i \\, \\sqrt{3} - \\frac{25}{2} i\\right)}\\right)} e^{\\left(\\frac{7}{2} i \\, \\sqrt{3} - \\frac{45}{2} i\\right)} + e^{\\left(\\frac{13}{2} i \\, \\sqrt{3} - 35 i\\right)} + 2 \\, e^{\\left(\\frac{13}{2} i \\, \\sqrt{3} - \\frac{71}{2} i\\right)} + e^{\\left(\\frac{13}{2} i \\, \\sqrt{3} - 36 i\\right)} + 2 \\, e^{\\left(6 i \\, \\sqrt{3} - \\frac{71}{2} i\\right)} - 2 \\, e^{\\left(6 i \\, \\sqrt{3} - 36 i\\right)} + 2 \\, e^{\\left(\\frac{11}{2} i \\, \\sqrt{3} - 35 i\\right)} + 4 \\, e^{\\left(\\frac{11}{2} i \\, \\sqrt{3} - \\frac{71}{2} i\\right)} + e^{\\left(\\frac{11}{2} i \\, \\sqrt{3} - 36 i\\right)}\\right)} e^{\\left(-6 i \\, \\sqrt{3} + \\frac{83}{2} i\\right)}\\right)} {\\phi_{2,to}^{BB}} {\\phi_{2,to}^{NN}} + 116.877721 \\, {\\left(2 \\, {\\left({\\left({\\left({\\left(e^{\\left(\\frac{3}{2} i\\right)} + e^{\\left(\\frac{1}{2} i\\right)}\\right)} e^{\\left(2 i\\right)} - 6 \\, e^{\\left(3 i\\right)}\\right)} e^{\\left(\\frac{1}{2} i \\, \\sqrt{3} - 7 i\\right)} + e^{\\left(\\frac{1}{4} i \\, \\sqrt{3} - \\frac{15}{4} i\\right)}\\right)} e^{\\left(5 i \\, \\sqrt{3} - 22 i\\right)} + {\\left({\\left({\\left(e^{\\left(\\frac{3}{2} i\\right)} + e^{\\left(\\frac{1}{2} i\\right)}\\right)} e^{\\left(2 i\\right)} - 6 \\, e^{\\left(3 i\\right)}\\right)} e^{\\left(\\frac{1}{2} i \\, \\sqrt{3} - 7 i\\right)} + e^{\\left(\\frac{1}{4} i \\, \\sqrt{3} - \\frac{15}{4} i\\right)}\\right)} e^{\\left(5 i \\, \\sqrt{3} - \\frac{45}{2} i\\right)}\\right)} e^{\\left(-\\frac{21}{4} i \\, \\sqrt{3} + \\frac{129}{4} i\\right)} + {\\left({\\left({\\left({\\left(2 \\, {\\left({\\left(e^{\\left(\\frac{3}{2} i\\right)} + e^{\\left(\\frac{1}{2} i\\right)}\\right)} e^{\\left(2 i\\right)} - 6 \\, e^{\\left(3 i\\right)}\\right)} e^{\\left(\\frac{1}{2} i \\, \\sqrt{3} - \\frac{13}{2} i\\right)} + {\\left(2 \\, {\\left(e^{\\left(\\frac{3}{2} i\\right)} + e^{\\left(\\frac{1}{2} i\\right)}\\right)} e^{\\left(2 i\\right)} - {\\left({\\left(12 \\, e^{\\left(\\frac{3}{2} i\\right)} + 12 \\, e^{\\left(\\frac{1}{2} i\\right)} - 1\\right)} e^{\\left(5 i\\right)} - e^{\\left(7 i\\right)} - 38 \\, e^{\\left(6 i\\right)}\\right)} e^{\\left(\\frac{1}{4} i \\, \\sqrt{3} - \\frac{11}{4} i\\right)} - 12 \\, e^{\\left(3 i\\right)}\\right)} e^{\\left(\\frac{1}{2} i \\, \\sqrt{3} - 7 i\\right)} + 2 \\, e^{\\left(\\frac{1}{4} i \\, \\sqrt{3} - \\frac{15}{4} i\\right)}\\right)} e^{\\left(\\frac{1}{2} i \\, \\sqrt{3} - \\frac{13}{2} i\\right)} + e^{\\left(\\frac{3}{4} i \\, \\sqrt{3} - \\frac{39}{4} i\\right)}\\right)} e^{\\left(\\frac{1}{2} i \\, \\sqrt{3} - \\frac{11}{2} i\\right)} + e^{\\left(\\frac{5}{4} i \\, \\sqrt{3} - \\frac{65}{4} i\\right)}\\right)} e^{\\left(\\frac{17}{4} i \\, \\sqrt{3} - \\frac{79}{4} i\\right)} + e^{\\left(\\frac{13}{2} i \\, \\sqrt{3} - 35 i\\right)} + 2 \\, e^{\\left(\\frac{13}{2} i \\, \\sqrt{3} - \\frac{71}{2} i\\right)} + e^{\\left(\\frac{13}{2} i \\, \\sqrt{3} - 36 i\\right)} + 2 \\, e^{\\left(6 i \\, \\sqrt{3} - \\frac{71}{2} i\\right)} + 2 \\, e^{\\left(6 i \\, \\sqrt{3} - 36 i\\right)}\\right)} e^{\\left(-6 i \\, \\sqrt{3} + \\frac{83}{2} i\\right)}\\right)} {\\phi_{2,to}^{NN}}^{2} + 605.7057348 \\, {\\left({\\left({\\left(e^{\\left(\\frac{13}{2} i\\right)} + e^{\\left(6 i\\right)}\\right)} e^{\\left(i \\, \\sqrt{3} - 6 i\\right)} + e^{\\left(\\frac{3}{4} i \\, \\sqrt{3} + \\frac{1}{4} i\\right)}\\right)} e^{\\left(-\\frac{3}{4} i \\, \\sqrt{3} + \\frac{21}{4} i\\right)} + {\\left(e^{\\left(\\frac{3}{2} i \\, \\sqrt{3} - \\frac{17}{2} i\\right)} + e^{\\left(\\frac{3}{2} i \\, \\sqrt{3} - \\frac{19}{2} i\\right)}\\right)} e^{\\left(-\\frac{3}{2} i \\, \\sqrt{3} + 15 i\\right)} + {\\left({\\left(e^{\\left(4 i\\right)} + e^{\\left(\\frac{7}{2} i\\right)}\\right)} e^{\\left(5 i \\, \\sqrt{3} - 37 i\\right)} + {\\left({\\left(e^{\\left(\\frac{3}{2} i\\right)} + e^{\\left(\\frac{1}{2} i\\right)}\\right)} e^{\\left(3 i\\right)} + 2 \\, e^{\\left(4 i\\right)}\\right)} e^{\\left(5 i \\, \\sqrt{3} - 38 i\\right)} + e^{\\left(\\frac{19}{4} i \\, \\sqrt{3} - \\frac{135}{4} i\\right)}\\right)} e^{\\left(-\\frac{21}{4} i \\, \\sqrt{3} + \\frac{159}{4} i\\right)} + {\\left({\\left({\\left({\\left(e^{\\left(\\frac{3}{2} i\\right)} + e^{\\left(\\frac{1}{2} i\\right)}\\right)} e^{\\left(5 i\\right)} + 2 \\, e^{\\left(6 i\\right)}\\right)} e^{\\left(\\frac{3}{4} i \\, \\sqrt{3} - \\frac{25}{4} i\\right)} + e^{\\left(\\frac{1}{2} i \\, \\sqrt{3}\\right)}\\right)} e^{\\left(\\frac{11}{2} i \\, \\sqrt{3} - 35 i\\right)} + e^{\\left(\\frac{13}{2} i \\, \\sqrt{3} - \\frac{71}{2} i\\right)}\\right)} e^{\\left(-6 i \\, \\sqrt{3} + \\frac{83}{2} i\\right)}\\right)} {\\phi_{1,to}^{BN}} {\\phi_{3,to}^{BN}} + 605.7057348 \\, {\\left({\\left(e^{\\left(\\frac{5}{4} i \\, \\sqrt{3} - \\frac{35}{4} i\\right)} + e^{\\left(\\frac{5}{4} i \\, \\sqrt{3} - \\frac{39}{4} i\\right)}\\right)} e^{\\left(-\\frac{5}{4} i \\, \\sqrt{3} + \\frac{59}{4} i\\right)} + {\\left({\\left(e^{\\left(\\frac{5}{4} i \\, \\sqrt{3} - \\frac{35}{4} i\\right)} + 2 \\, e^{\\left(\\frac{5}{4} i \\, \\sqrt{3} - \\frac{39}{4} i\\right)}\\right)} e^{\\left(\\frac{19}{4} i \\, \\sqrt{3} - \\frac{103}{4} i\\right)} + e^{\\left(\\frac{13}{2} i \\, \\sqrt{3} - 35 i\\right)} + e^{\\left(\\frac{13}{2} i \\, \\sqrt{3} - 36 i\\right)} + e^{\\left(\\frac{11}{2} i \\, \\sqrt{3} - 35 i\\right)} + e^{\\left(\\frac{11}{2} i \\, \\sqrt{3} - 36 i\\right)}\\right)} e^{\\left(-6 i \\, \\sqrt{3} + \\frac{83}{2} i\\right)}\\right)} {\\phi_{3,to}^{BN}}^{2} + 605.7057348 \\, {\\left(2 \\, {\\left(e^{\\left(\\frac{13}{2} i\\right)} + e^{\\left(5 i\\right)}\\right)} e^{\\left(\\frac{1}{2} i \\, \\sqrt{3}\\right)} + 2 \\, {\\left(e^{\\left(\\frac{13}{2} i\\right)} + e^{\\left(5 i\\right)}\\right)} e^{\\left(-\\frac{1}{4} i \\, \\sqrt{3} + \\frac{1}{4} i\\right)} + 2 \\, {\\left({\\left(e^{\\left(\\frac{13}{2} i\\right)} + e^{\\left(5 i\\right)}\\right)} e^{\\left(i \\, \\sqrt{3} - 6 i\\right)} + e^{\\left(\\frac{3}{4} i \\, \\sqrt{3} + \\frac{1}{4} i\\right)}\\right)} e^{\\left(-\\frac{1}{2} i \\, \\sqrt{3} + \\frac{11}{2} i\\right)} + {\\left({\\left(e^{\\left(7 i\\right)} + 2 \\, e^{\\left(\\frac{11}{2} i\\right)} + e^{\\left(4 i\\right)}\\right)} e^{\\left(6 i \\, \\sqrt{3} - \\frac{83}{2} i\\right)} + 2 \\, {\\left(e^{\\left(\\frac{13}{2} i\\right)} + e^{\\left(5 i\\right)}\\right)} e^{\\left(\\frac{23}{4} i \\, \\sqrt{3} - \\frac{169}{4} i\\right)} + e^{\\left(7 i \\, \\sqrt{3} - \\frac{71}{2} i\\right)} + 2 \\, e^{\\left(7 i \\, \\sqrt{3} - 36 i\\right)} + 2 \\, e^{\\left(\\frac{25}{4} i \\, \\sqrt{3} - \\frac{141}{4} i\\right)} + 2 \\, e^{\\left(\\frac{25}{4} i \\, \\sqrt{3} - \\frac{145}{4} i\\right)} + 2 \\, e^{\\left(\\frac{25}{4} i \\, \\sqrt{3} - \\frac{147}{4} i\\right)} + e^{\\left(\\frac{11}{2} i \\, \\sqrt{3} - 35 i\\right)} + 2 \\, e^{\\left(\\frac{11}{2} i \\, \\sqrt{3} - 36 i\\right)} + e^{\\left(\\frac{11}{2} i \\, \\sqrt{3} - 37 i\\right)}\\right)} e^{\\left(-6 i \\, \\sqrt{3} + \\frac{83}{2} i\\right)} + e^{\\left(i \\, \\sqrt{3} + 5 i\\right)}\\right)} {\\phi_{4,to}^{BN}}^{2} + 4 \\, {\\left(151.4264337 \\, {\\left({\\left({\\left({\\left(e^{\\left(\\frac{13}{2} i\\right)} + e^{\\left(5 i\\right)}\\right)} e^{\\left(\\frac{1}{2} i \\, \\sqrt{3} - 7 i\\right)} + e^{\\left(\\frac{1}{4} i \\, \\sqrt{3} - \\frac{3}{4} i\\right)}\\right)} e^{\\left(-4 i \\, \\sqrt{3} + \\frac{51}{2} i\\right)} + e^{\\left(-\\frac{15}{4} i \\, \\sqrt{3} + \\frac{95}{4} i\\right)}\\right)} e^{\\left(\\frac{15}{4} i \\, \\sqrt{3} - \\frac{75}{4} i\\right)} + {\\left({\\left(e^{\\left(\\frac{3}{2} i\\right)} + e^{\\left(\\frac{1}{2} i\\right)}\\right)} e^{\\left(3 i\\right)} + 2 \\, e^{\\left(4 i\\right)}\\right)} e^{\\left(-\\frac{1}{4} i \\, \\sqrt{3} + \\frac{5}{4} i\\right)} + {\\left({\\left(2 \\, e^{\\left(\\frac{3}{2} i\\right)} + e^{\\left(\\frac{1}{2} i\\right)} + 1\\right)} e^{\\left(5 i\\right)} + 2 \\, e^{\\left(6 i\\right)}\\right)} e^{\\left(-\\frac{1}{4} i \\, \\sqrt{3} + \\frac{1}{4} i\\right)} + {\\left({\\left(2 \\, {\\left(e^{\\left(\\frac{3}{2} i\\right)} + 1\\right)} e^{\\left(5 i\\right)} + {\\left(e^{\\left(\\frac{3}{2} i\\right)} + e^{\\left(\\frac{1}{2} i\\right)}\\right)} e^{\\left(4 i\\right)} + e^{\\left(7 i\\right)} + e^{\\left(6 i\\right)}\\right)} e^{\\left(\\frac{21}{4} i \\, \\sqrt{3} - \\frac{149}{4} i\\right)} + e^{\\left(\\frac{19}{4} i \\, \\sqrt{3} - \\frac{123}{4} i\\right)}\\right)} e^{\\left(-\\frac{21}{4} i \\, \\sqrt{3} + \\frac{149}{4} i\\right)} + {\\left({\\left({\\left(e^{\\left(\\frac{3}{2} i\\right)} + e^{\\left(\\frac{1}{2} i\\right)}\\right)} e^{\\left(3 i\\right)} + 2 \\, e^{\\left(4 i\\right)}\\right)} e^{\\left(\\frac{13}{2} i \\, \\sqrt{3} - \\frac{79}{2} i\\right)} + {\\left({\\left({\\left(e^{\\left(\\frac{3}{2} i\\right)} + e^{\\left(\\frac{1}{2} i\\right)}\\right)} e^{\\left(5 i\\right)} + 2 \\, e^{\\left(6 i\\right)}\\right)} e^{\\left(\\frac{1}{2} i \\, \\sqrt{3} - 7 i\\right)} + e^{\\left(\\frac{1}{4} i \\, \\sqrt{3} - \\frac{3}{4} i\\right)}\\right)} e^{\\left(6 i \\, \\sqrt{3} - 35 i\\right)} + e^{\\left(\\frac{25}{4} i \\, \\sqrt{3} - \\frac{141}{4} i\\right)} + e^{\\left(\\frac{11}{2} i \\, \\sqrt{3} - 36 i\\right)}\\right)} e^{\\left(-6 i \\, \\sqrt{3} + \\frac{83}{2} i\\right)} + e^{\\left(\\frac{3}{4} i \\, \\sqrt{3} + \\frac{23}{4} i\\right)} + e^{\\left(\\frac{3}{4} i \\, \\sqrt{3} + \\frac{21}{4} i\\right)}\\right)} {\\phi_{1,to}^{BN}} + 151.4264337 \\, {\\left({\\left({\\left({\\left(e^{\\left(\\frac{13}{2} i\\right)} + e^{\\left(5 i\\right)}\\right)} e^{\\left(i \\, \\sqrt{3} - 6 i\\right)} + e^{\\left(\\frac{3}{4} i \\, \\sqrt{3} + \\frac{1}{4} i\\right)}\\right)} e^{\\left(-\\frac{15}{4} i \\, \\sqrt{3} + \\frac{91}{4} i\\right)} + e^{\\left(-3 i \\, \\sqrt{3} + 22 i\\right)}\\right)} e^{\\left(3 i \\, \\sqrt{3} - \\frac{35}{2} i\\right)} + 2 \\, {\\left({\\left(e^{\\left(\\frac{13}{2} i\\right)} + e^{\\left(5 i\\right)}\\right)} e^{\\left(\\frac{3}{4} i \\, \\sqrt{3} - \\frac{25}{4} i\\right)} + e^{\\left(\\frac{1}{2} i \\, \\sqrt{3}\\right)}\\right)} e^{\\left(-\\frac{1}{2} i \\, \\sqrt{3} + \\frac{13}{2} i\\right)} + {\\left({\\left({\\left(e^{\\left(\\frac{13}{2} i\\right)} + e^{\\left(5 i\\right)}\\right)} e^{\\left(\\frac{5}{2} i \\, \\sqrt{3} - 23 i\\right)} + e^{\\left(\\frac{9}{4} i \\, \\sqrt{3} - \\frac{71}{4} i\\right)}\\right)} e^{\\left(\\frac{5}{2} i \\, \\sqrt{3} - 16 i\\right)} + e^{\\left(\\frac{19}{4} i \\, \\sqrt{3} - \\frac{131}{4} i\\right)} + 2 \\, e^{\\left(\\frac{19}{4} i \\, \\sqrt{3} - \\frac{135}{4} i\\right)}\\right)} e^{\\left(-\\frac{21}{4} i \\, \\sqrt{3} + \\frac{159}{4} i\\right)} + {\\left({\\left(e^{\\left(\\frac{3}{2} i \\, \\sqrt{3} - \\frac{17}{2} i\\right)} + 2 \\, e^{\\left(\\frac{3}{2} i \\, \\sqrt{3} - \\frac{19}{2} i\\right)}\\right)} e^{\\left(\\frac{19}{4} i \\, \\sqrt{3} - \\frac{107}{4} i\\right)} + 2 \\, {\\left({\\left(e^{\\left(\\frac{13}{2} i\\right)} + e^{\\left(5 i\\right)}\\right)} e^{\\left(\\frac{9}{4} i \\, \\sqrt{3} - \\frac{93}{4} i\\right)} + e^{\\left(2 i \\, \\sqrt{3} - 18 i\\right)}\\right)} e^{\\left(\\frac{7}{2} i \\, \\sqrt{3} - \\frac{37}{2} i\\right)} + e^{\\left(\\frac{25}{4} i \\, \\sqrt{3} - \\frac{139}{4} i\\right)} + 2 \\, e^{\\left(\\frac{25}{4} i \\, \\sqrt{3} - \\frac{143}{4} i\\right)} + 2 \\, e^{\\left(6 i \\, \\sqrt{3} - 36 i\\right)}\\right)} e^{\\left(-6 i \\, \\sqrt{3} + \\frac{83}{2} i\\right)} + 2 \\, e^{\\left(\\frac{3}{4} i \\, \\sqrt{3} + \\frac{25}{4} i\\right)} + 2 \\, e^{\\left(\\frac{3}{4} i \\, \\sqrt{3} + \\frac{23}{4} i\\right)} + e^{\\left(\\frac{3}{4} i \\, \\sqrt{3} + \\frac{21}{4} i\\right)} + e^{\\left(\\frac{3}{4} i \\, \\sqrt{3} + \\frac{19}{4} i\\right)}\\right)} {\\phi_{3,to}^{BN}}\\right)} {\\phi_{4,to}^{BN}}} e^{\\left(\\frac{1}{2} i \\, \\sqrt{3} - 6 i\\right)} \\right|}^{2} + {\\left| \\left(2.8428030638862365 \\times 10^{-09}\\right) \\, {\\phi_{2,to}^{BB}} {\\left(16268869 \\, e^{\\left(\\frac{3}{10} i \\, \\sqrt{3} + \\frac{3}{10} i\\right)} + 16268869 \\, e^{\\left(\\frac{3}{10} i \\, \\sqrt{3} - \\frac{3}{10} i\\right)} + 16268869 \\, e^{\\left(-\\frac{3}{10} i \\, \\sqrt{3} + \\frac{3}{10} i\\right)} + 16268869 \\, e^{\\left(-\\frac{3}{10} i \\, \\sqrt{3} - \\frac{3}{10} i\\right)} - 70758660\\right)} + \\left(2.194203054514918 \\times 10^{-09}\\right) \\, {\\phi_{2,to}^{NN}} {\\left(16268869 \\, e^{\\left(\\frac{3}{10} i \\, \\sqrt{3} + \\frac{3}{10} i\\right)} + 16268869 \\, e^{\\left(\\frac{3}{10} i \\, \\sqrt{3} - \\frac{3}{10} i\\right)} + 16268869 \\, e^{\\left(-\\frac{3}{10} i \\, \\sqrt{3} + \\frac{3}{10} i\\right)} + 16268869 \\, e^{\\left(-\\frac{3}{10} i \\, \\sqrt{3} - \\frac{3}{10} i\\right)} - 70758660\\right)} - \\left(1.3449984558254618 \\times 10^{-30}\\right) \\, \\sqrt{4.4673499905421614 \\times 10^{42} \\, {\\left(529352197078322 \\, {\\left(e^{\\left(\\frac{21}{10} i \\, \\sqrt{3} + \\frac{9}{10} i\\right)} + e^{\\left(\\frac{3}{2} i \\, \\sqrt{3} + \\frac{3}{2} i\\right)} + e^{\\left(\\frac{3}{2} i \\, \\sqrt{3} + \\frac{9}{10} i\\right)}\\right)} e^{\\left(\\frac{9}{10} i \\, \\sqrt{3} + \\frac{3}{10} i\\right)} + 529352197078322 \\, {\\left(e^{\\left(\\frac{3}{2} i \\, \\sqrt{3} + \\frac{9}{10} i\\right)} + e^{\\left(\\frac{9}{10} i \\, \\sqrt{3} + \\frac{3}{2} i\\right)}\\right)} e^{\\left(\\frac{9}{10} i \\, \\sqrt{3} - \\frac{3}{10} i\\right)} + 264676098539161 \\, e^{\\left(3 i \\, \\sqrt{3} + \\frac{9}{5} i\\right)} + 264676098539161 \\, e^{\\left(3 i \\, \\sqrt{3} + \\frac{3}{5} i\\right)} - 2302326740311080 \\, e^{\\left(\\frac{27}{10} i \\, \\sqrt{3} + \\frac{3}{2} i\\right)} - 2302326740311080 \\, e^{\\left(\\frac{27}{10} i \\, \\sqrt{3} + \\frac{9}{10} i\\right)} + 5536140162073922 \\, e^{\\left(\\frac{12}{5} i \\, \\sqrt{3} + \\frac{6}{5} i\\right)} - 2302326740311080 \\, e^{\\left(\\frac{21}{10} i \\, \\sqrt{3} + \\frac{3}{2} i\\right)} - 2302326740311080 \\, e^{\\left(\\frac{21}{10} i \\, \\sqrt{3} + \\frac{9}{10} i\\right)} + 264676098539161 \\, e^{\\left(\\frac{9}{5} i \\, \\sqrt{3} + \\frac{9}{5} i\\right)} + 264676098539161 \\, e^{\\left(\\frac{9}{5} i \\, \\sqrt{3} + \\frac{3}{5} i\\right)}\\right)} {\\phi_{2,to}^{BB}}^{2} - 6.896202638416087 \\times 10^{42} \\, {\\left(264676098539161 \\, {\\left(4 \\, e^{\\left(\\frac{3}{5} i \\, \\sqrt{3}\\right)} - 1\\right)} e^{\\left(\\frac{9}{5} i \\, \\sqrt{3} + \\frac{3}{5} i\\right)} - 2302326740311080 \\, {\\left(2 \\, e^{\\left(\\frac{9}{5} i \\, \\sqrt{3}\\right)} + e^{\\left(\\frac{6}{5} i \\, \\sqrt{3}\\right)}\\right)} e^{\\left(\\frac{9}{10} i \\, \\sqrt{3} + \\frac{3}{2} i\\right)} - 529352197078322 \\, {\\left(e^{\\left(\\frac{21}{10} i \\, \\sqrt{3} + \\frac{9}{10} i\\right)} + e^{\\left(\\frac{3}{2} i \\, \\sqrt{3} + \\frac{3}{2} i\\right)} + e^{\\left(\\frac{3}{2} i \\, \\sqrt{3} + \\frac{9}{10} i\\right)}\\right)} e^{\\left(\\frac{9}{10} i \\, \\sqrt{3} + \\frac{3}{10} i\\right)} + 32537738 \\, {\\left(16268869 \\, {\\left(4 \\, e^{\\left(\\frac{3}{5} i \\, \\sqrt{3}\\right)} - 1\\right)} e^{\\left(\\frac{9}{10} i \\, \\sqrt{3} + \\frac{3}{2} i\\right)} - 70758660 \\, {\\left(2 \\, e^{\\left(\\frac{6}{5} i \\, \\sqrt{3}\\right)} + e^{\\left(\\frac{3}{5} i \\, \\sqrt{3}\\right)}\\right)} e^{\\left(\\frac{3}{5} i \\, \\sqrt{3} + \\frac{6}{5} i\\right)} - 16268869 \\, e^{\\left(\\frac{3}{2} i \\, \\sqrt{3} + \\frac{9}{10} i\\right)}\\right)} e^{\\left(\\frac{9}{10} i \\, \\sqrt{3} - \\frac{3}{10} i\\right)} + {\\left(264676098539161 \\, {\\left(4 \\, e^{\\left(\\frac{6}{5} i \\, \\sqrt{3}\\right)} - e^{\\left(\\frac{3}{5} i \\, \\sqrt{3}\\right)}\\right)} e^{\\left(\\frac{9}{10} i \\, \\sqrt{3} + \\frac{9}{10} i\\right)} + 4 \\, {\\left(264676098539161 \\, e^{\\left(\\frac{12}{5} i \\, \\sqrt{3}\\right)} + 1251696991248900 \\, e^{\\left(\\frac{9}{5} i \\, \\sqrt{3}\\right)}\\right)} e^{\\left(\\frac{3}{10} i \\, \\sqrt{3} + \\frac{3}{10} i\\right)}\\right)} e^{\\left(\\frac{3}{10} i \\, \\sqrt{3} + \\frac{9}{10} i\\right)} + 264676098539161 \\, e^{\\left(3 i \\, \\sqrt{3} + \\frac{9}{5} i\\right)} + 264676098539161 \\, e^{\\left(3 i \\, \\sqrt{3} + \\frac{3}{5} i\\right)} + 2302326740311080 \\, e^{\\left(\\frac{27}{10} i \\, \\sqrt{3} + \\frac{3}{2} i\\right)} + 2302326740311080 \\, e^{\\left(\\frac{27}{10} i \\, \\sqrt{3} + \\frac{9}{10} i\\right)} - 529352197078322 \\, e^{\\left(\\frac{12}{5} i \\, \\sqrt{3} + \\frac{6}{5} i\\right)} + 529352197078322 \\, e^{\\left(\\frac{9}{5} i \\, \\sqrt{3} + \\frac{9}{5} i\\right)} + 1058704394156644 \\, e^{\\left(\\frac{9}{5} i \\, \\sqrt{3} + \\frac{6}{5} i\\right)} + 529352197078322 \\, e^{\\left(\\frac{9}{5} i \\, \\sqrt{3} + \\frac{3}{5} i\\right)}\\right)} {\\phi_{2,to}^{BB}} {\\phi_{2,to}^{NN}} + 2.6613994275566806 \\times 10^{42} \\, {\\left(529352197078322 \\, {\\left(e^{\\left(\\frac{21}{10} i \\, \\sqrt{3} + \\frac{9}{10} i\\right)} + e^{\\left(\\frac{3}{2} i \\, \\sqrt{3} + \\frac{3}{2} i\\right)} + e^{\\left(\\frac{3}{2} i \\, \\sqrt{3} + \\frac{9}{10} i\\right)}\\right)} e^{\\left(\\frac{9}{10} i \\, \\sqrt{3} + \\frac{3}{10} i\\right)} + 529352197078322 \\, {\\left(e^{\\left(\\frac{3}{2} i \\, \\sqrt{3} + \\frac{9}{10} i\\right)} + e^{\\left(\\frac{9}{10} i \\, \\sqrt{3} + \\frac{3}{2} i\\right)}\\right)} e^{\\left(\\frac{9}{10} i \\, \\sqrt{3} - \\frac{3}{10} i\\right)} + 264676098539161 \\, e^{\\left(3 i \\, \\sqrt{3} + \\frac{9}{5} i\\right)} + 264676098539161 \\, e^{\\left(3 i \\, \\sqrt{3} + \\frac{3}{5} i\\right)} - 2302326740311080 \\, e^{\\left(\\frac{27}{10} i \\, \\sqrt{3} + \\frac{3}{2} i\\right)} - 2302326740311080 \\, e^{\\left(\\frac{27}{10} i \\, \\sqrt{3} + \\frac{9}{10} i\\right)} + 5536140162073922 \\, e^{\\left(\\frac{12}{5} i \\, \\sqrt{3} + \\frac{6}{5} i\\right)} - 2302326740311080 \\, e^{\\left(\\frac{21}{10} i \\, \\sqrt{3} + \\frac{3}{2} i\\right)} - 2302326740311080 \\, e^{\\left(\\frac{21}{10} i \\, \\sqrt{3} + \\frac{9}{10} i\\right)} + 264676098539161 \\, e^{\\left(\\frac{9}{5} i \\, \\sqrt{3} + \\frac{9}{5} i\\right)} + 264676098539161 \\, e^{\\left(\\frac{9}{5} i \\, \\sqrt{3} + \\frac{3}{5} i\\right)}\\right)} {\\phi_{2,to}^{NN}}^{2} + 151.4264337 \\, {\\left(1481820770396254552405003900768674814585967750400 \\, {\\left(59392292 \\, e^{\\left(\\frac{3}{10} i \\, \\sqrt{3} + \\frac{9}{10} i\\right)} + 16268869\\right)} e^{\\left(\\frac{12}{5} i \\, \\sqrt{3} + \\frac{3}{5} i\\right)} + 1481820770396254552405003900768674814585967750400 \\, {\\left(16268869 \\, e^{\\left(\\frac{3}{2} i \\, \\sqrt{3} + \\frac{21}{10} i\\right)} + 59392292 \\, e^{\\left(\\frac{6}{5} i \\, \\sqrt{3} + \\frac{6}{5} i\\right)}\\right)} e^{\\left(\\frac{9}{10} i \\, \\sqrt{3} - \\frac{3}{10} i\\right)} + 24107547995055743403730643406094569862098398569482297600 \\, {\\left(e^{\\left(\\frac{12}{5} i \\, \\sqrt{3}\\right)} + e^{\\left(\\frac{6}{5} i \\, \\sqrt{3}\\right)}\\right)} e^{\\left(\\frac{3}{5} i \\, \\sqrt{3} + \\frac{6}{5} i\\right)} + \\left(13612145527417822290296246143448228299559726009918100480 i + 44004365943519653041383646967796079520467827867169958400\\right) \\, e^{\\left(\\frac{27}{10} i \\, \\sqrt{3} + \\frac{3}{10} i\\right)} + 24107547995055743403730643406094569862098398569482297600 \\, e^{\\left(\\frac{12}{5} i \\, \\sqrt{3} + \\frac{9}{5} i\\right)} + 24107547995055743403730643406094569862098398569482297600 \\, e^{\\left(\\frac{12}{5} i \\, \\sqrt{3} + \\frac{3}{5} i\\right)} - \\left(13612145527417822290296246143448228299559726009918100480 i - 44004365943519653041383646967796079520467827867169958400\\right) \\, e^{\\left(\\frac{21}{10} i \\, \\sqrt{3} + \\frac{21}{10} i\\right)}\\right)} {\\phi_{1,to}^{BN}} {\\phi_{3,to}^{BN}} + 3.6505200181428765 \\times 10^{57} \\, {\\left({\\left(e^{\\left(\\frac{6}{5} i \\, \\sqrt{3} + \\frac{3}{5} i\\right)} + e^{\\left(\\frac{6}{5} i \\, \\sqrt{3} - \\frac{3}{5} i\\right)}\\right)} e^{\\left(\\frac{6}{5} i \\, \\sqrt{3} + \\frac{9}{5} i\\right)} + e^{\\left(\\frac{12}{5} i \\, \\sqrt{3}\\right)} + e^{\\left(3 i \\, \\sqrt{3} + \\frac{9}{5} i\\right)} + e^{\\left(3 i \\, \\sqrt{3} + \\frac{3}{5} i\\right)} + 2 \\, e^{\\left(\\frac{12}{5} i \\, \\sqrt{3} + \\frac{6}{5} i\\right)} + e^{\\left(\\frac{9}{5} i \\, \\sqrt{3} + \\frac{9}{5} i\\right)} + e^{\\left(\\frac{9}{5} i \\, \\sqrt{3} + \\frac{3}{5} i\\right)}\\right)} {\\phi_{3,to}^{BN}}^{2} - 151.4264337 \\, {\\left(415539213856218177315156889 \\, {\\left(\\left(50630300099480913855433173840 i - 74006104454759394240062356991\\right) \\, e^{\\left(\\frac{3}{5} i \\, \\sqrt{3}\\right)} - 137808293182159916937635078400 \\, e^{\\left(\\frac{6}{5} i \\, \\sqrt{3} - \\frac{3}{5} i\\right)} - 137808293182159916937635078400 \\, e^{\\left(\\frac{3}{10} i \\, \\sqrt{3} + \\frac{3}{10} i\\right)}\\right)} e^{\\left(\\frac{9}{5} i \\, \\sqrt{3} + \\frac{6}{5} i\\right)} - 24107547995055743403730643406094569862098398569482297600 \\, {\\left(e^{\\left(\\frac{6}{5} i\\right)} + 2\\right)} e^{\\left(\\frac{9}{5} i \\, \\sqrt{3} + \\frac{3}{5} i\\right)} - {\\left({\\left(24107547995055743403730643406094569862098398569482297600 \\, e^{\\left(\\frac{6}{5} i \\, \\sqrt{3}\\right)} - \\left(17714062941609988501634036303203988846099534234710607520 i - 57264749811781963131751976520032058441463555125815097600\\right) \\, e^{\\left(\\frac{3}{5} i \\, \\sqrt{3}\\right)}\\right)} e^{\\left(\\frac{9}{5} i \\, \\sqrt{3}\\right)} + 48215095990111486807461286812189139724196797138964595200 \\, e^{\\left(\\frac{21}{10} i \\, \\sqrt{3} + \\frac{3}{10} i\\right)}\\right)} e^{\\left(\\frac{3}{5} i \\, \\sqrt{3} + \\frac{6}{5} i\\right)} - 24107547995055743403730643406094569862098398569482297600 \\, e^{\\left(\\frac{18}{5} i \\, \\sqrt{3}\\right)} - 48215095990111486807461286812189139724196797138964595200 \\, e^{\\left(\\frac{18}{5} i \\, \\sqrt{3} + \\frac{3}{5} i\\right)} + 17714062941609988501634036303203988846099534234710607520 i \\, e^{\\left(3 i \\, \\sqrt{3} + \\frac{3}{5} i\\right)} - 48215095990111486807461286812189139724196797138964595200 \\, e^{\\left(\\frac{27}{10} i \\, \\sqrt{3} + \\frac{9}{10} i\\right)} - 48215095990111486807461286812189139724196797138964595200 \\, e^{\\left(\\frac{27}{10} i \\, \\sqrt{3} + \\frac{3}{10} i\\right)} - 48215095990111486807461286812189139724196797138964595200 \\, e^{\\left(\\frac{27}{10} i \\, \\sqrt{3} - \\frac{3}{10} i\\right)} + 17714062941609988501634036303203988846099534234710607520 i \\, e^{\\left(\\frac{21}{10} i \\, \\sqrt{3} + \\frac{3}{2} i\\right)} + \\left(17714062941609988501634036303203988846099534234710607520 i - 57264749811781963131751976520032058441463555125815097600\\right) \\, e^{\\left(\\frac{21}{10} i \\, \\sqrt{3} + \\frac{3}{10} i\\right)} - 24107547995055743403730643406094569862098398569482297600 \\, e^{\\left(\\frac{9}{5} i \\, \\sqrt{3} - \\frac{3}{5} i\\right)}\\right)} {\\phi_{4,to}^{BN}}^{2} + 151.4264337 \\, {\\phi_{1,to}^{BN}}^{2} {\\left(\\left(13612145527417822290296246143448228299559726009918100480 i + 44004365943519653041383646967796079520467827867169958400\\right) \\, e^{\\left(\\frac{27}{10} i \\, \\sqrt{3} + \\frac{9}{10} i\\right)} + 112116279882095066563970406520850556702944747929848911104 \\, e^{\\left(\\frac{12}{5} i \\, \\sqrt{3} + \\frac{6}{5} i\\right)} - \\left(13612145527417822290296246143448228299559726009918100480 i - 44004365943519653041383646967796079520467827867169958400\\right) \\, e^{\\left(\\frac{21}{10} i \\, \\sqrt{3} + \\frac{3}{2} i\\right)}\\right)} + {\\left(151.4264337 \\, {\\left(1481820770396254552405003900768674814585967750400 \\, {\\left(59392292 \\, e^{\\left(\\frac{3}{5} i \\, \\sqrt{3}\\right)} + 16268869 \\, e^{\\left(\\frac{3}{10} i \\, \\sqrt{3} + \\frac{3}{10} i\\right)}\\right)} e^{\\left(\\frac{12}{5} i \\, \\sqrt{3} + \\frac{6}{5} i\\right)} + 1488338352487935170483047540799779539427469097600 \\, {\\left(16197626 \\, e^{\\left(\\frac{12}{5} i \\, \\sqrt{3} + \\frac{6}{5} i\\right)} + 19237813 \\, e^{\\left(\\frac{9}{5} i \\, \\sqrt{3} + \\frac{6}{5} i\\right)}\\right)} e^{\\left(\\frac{9}{10} i \\, \\sqrt{3} - \\frac{3}{10} i\\right)} + {\\left(-\\left(32334109972072409803216534636135180666593559710018223680 i - 128634935305393646876130841018322188890700459763487456000\\right) \\, e^{\\left(\\frac{9}{5} i \\, \\sqrt{3}\\right)} + 116641106792930287648643282195608188261667433297247465600 \\, e^{\\left(\\frac{3}{2} i \\, \\sqrt{3} + \\frac{3}{10} i\\right)}\\right)} e^{\\left(\\frac{3}{5} i \\, \\sqrt{3} + \\frac{6}{5} i\\right)} + 24107547995055743403730643406094569862098398569482297600 \\, e^{\\left(\\frac{12}{5} i \\, \\sqrt{3}\\right)} + 24107547995055743403730643406094569862098398569482297600 \\, e^{\\left(\\frac{33}{10} i \\, \\sqrt{3} + \\frac{3}{10} i\\right)} + 88008731887039306082767293935592159040935655734339916800 \\, e^{\\left(3 i \\, \\sqrt{3} + \\frac{3}{5} i\\right)} - \\left(8857031470804994250817018151601994423049767117355303760 i - 24107547995055743403730643406094569862098398569482297600\\right) \\, e^{\\left(\\frac{27}{10} i \\, \\sqrt{3} + \\frac{9}{10} i\\right)} - 8857031470804994250817018151601994423049767117355303760 i \\, e^{\\left(\\frac{21}{10} i \\, \\sqrt{3} + \\frac{3}{2} i\\right)} + 88008731887039306082767293935592159040935655734339916800 \\, e^{\\left(\\frac{21}{10} i \\, \\sqrt{3} + \\frac{3}{10} i\\right)} + 24107547995055743403730643406094569862098398569482297600 \\, e^{\\left(\\frac{9}{5} i \\, \\sqrt{3} + \\frac{9}{5} i\\right)} + 24107547995055743403730643406094569862098398569482297600 \\, e^{\\left(\\frac{9}{5} i \\, \\sqrt{3} + \\frac{3}{5} i\\right)}\\right)} {\\phi_{1,to}^{BN}} + 151.4264337 \\, {\\left({\\left(24107547995055743403730643406094569862098398569482297600 \\, {\\left(e^{\\left(\\frac{6}{5} i\\right)} + 2\\right)} e^{\\left(\\frac{3}{5} i \\, \\sqrt{3}\\right)} + 48215095990111486807461286812189139724196797138964595200 \\, e^{\\left(\\frac{6}{5} i \\, \\sqrt{3} + \\frac{3}{5} i\\right)} + 24107547995055743403730643406094569862098398569482297600 \\, e^{\\left(\\frac{6}{5} i \\, \\sqrt{3} - \\frac{3}{5} i\\right)} + 48215095990111486807461286812189139724196797138964595200 \\, e^{\\left(\\frac{3}{10} i \\, \\sqrt{3} + \\frac{9}{10} i\\right)} - 17714062941609988501634036303203988846099534234710607520 i\\right)} e^{\\left(\\frac{21}{10} i \\, \\sqrt{3} + \\frac{9}{10} i\\right)} + 24107547995055743403730643406094569862098398569482297600 \\, {\\left(e^{\\left(\\frac{6}{5} i\\right)} + 3 \\, e^{\\left(\\frac{3}{5} i \\, \\sqrt{3} - \\frac{3}{5} i\\right)} + 1\\right)} e^{\\left(\\frac{9}{5} i \\, \\sqrt{3} + \\frac{6}{5} i\\right)} + 28632374905890981565875988260016029220731777562907548800 \\, {\\left(e^{\\left(\\frac{6}{5} i \\, \\sqrt{3} + \\frac{3}{5} i\\right)} + e^{\\left(\\frac{3}{5} i \\, \\sqrt{3} + \\frac{12}{5} i\\right)}\\right)} e^{\\left(\\frac{3}{2} i \\, \\sqrt{3} - \\frac{3}{10} i\\right)} + 2976676704975870340966095081599559078854938195200 \\, {\\left(19237813 \\, e^{\\left(\\frac{9}{5} i \\, \\sqrt{3}\\right)} + 16197626 \\, e^{\\left(\\frac{3}{2} i \\, \\sqrt{3} + \\frac{3}{10} i\\right)}\\right)} e^{\\left(\\frac{3}{10} i \\, \\sqrt{3} + \\frac{9}{10} i\\right)} + 48215095990111486807461286812189139724196797138964595200 \\, e^{\\left(\\frac{9}{5} i \\, \\sqrt{3}\\right)} + 48215095990111486807461286812189139724196797138964595200 \\, e^{\\left(\\frac{33}{10} i \\, \\sqrt{3} + \\frac{9}{10} i\\right)} + 24107547995055743403730643406094569862098398569482297600 \\, e^{\\left(\\frac{33}{10} i \\, \\sqrt{3} - \\frac{3}{10} i\\right)} - \\left(17714062941609988501634036303203988846099534234710607520 i - 81372297806837706535482619926126628303561953695297395200\\right) \\, e^{\\left(\\frac{27}{10} i \\, \\sqrt{3} + \\frac{3}{2} i\\right)} - \\left(8857031470804994250817018151601994423049767117355303760 i - 48215095990111486807461286812189139724196797138964595200\\right) \\, e^{\\left(\\frac{27}{10} i \\, \\sqrt{3} + \\frac{3}{10} i\\right)} + 24107547995055743403730643406094569862098398569482297600 \\, e^{\\left(\\frac{12}{5} i \\, \\sqrt{3} - \\frac{3}{5} i\\right)} - 8857031470804994250817018151601994423049767117355303760 i \\, e^{\\left(\\frac{21}{10} i \\, \\sqrt{3} + \\frac{21}{10} i\\right)}\\right)} {\\phi_{3,to}^{BN}}\\right)} {\\phi_{4,to}^{BN}}} e^{\\left(-\\frac{6}{5} i \\, \\sqrt{3} - \\frac{3}{5} i\\right)} - 0.24379253743649879 \\, {\\phi_{1,to}^{BN}} - 0.24379253743649879 \\, {\\phi_{3,to}^{BN}} - 0.48758507487299757 \\, {\\phi_{4,to}^{BN}} \\right|}^{2}}\n",
       "\\end{math}"
      ],
      "text/plain": [
       "sqrt((1.0902764218292245e-05)*abs(14.0067*((((e^(3/2*I) + e^(1/2*I))*e^(2*I) - 6*e^(3*I))*e^(1/4*I*sqrt(3) - 13/4*I) + 1)*e^(1/4*I*sqrt(3) - 11/4*I) + e^(3/4*I*sqrt(3) - 11/4*I) + e^(3/4*I*sqrt(3) - 13/4*I) + e^(1/4*I*sqrt(3) - 13/4*I))*phi2toBB + 10.811*((((e^(3/2*I) + e^(1/2*I))*e^(2*I) - 6*e^(3*I))*e^(1/4*I*sqrt(3) - 13/4*I) + 1)*e^(1/4*I*sqrt(3) - 11/4*I) + e^(3/4*I*sqrt(3) - 11/4*I) + e^(3/4*I*sqrt(3) - 13/4*I) + e^(1/4*I*sqrt(3) - 13/4*I))*phi2toNN - 73.83326901336551*phi1toBN*e^(1/2*I*sqrt(3) - 3*I) - 73.83326901336551*phi3toBN*e^(1/2*I*sqrt(3) - 3*I) - 147.66653802673102*phi4toBN*e^(1/2*I*sqrt(3) - 3*I) + sqrt(605.7057348*(((e^(13/2*I) + e^(6*I))*e^(1/2*I*sqrt(3) - 7*I) + e^(1/4*I*sqrt(3) - 3/4*I))*e^(-1/4*I*sqrt(3) + 27/4*I) + (((e^(3/2*I) + e^(1/2*I))*e^(5*I) + 2*e^(6*I))*e^(5/2*I*sqrt(3) - 23*I) + (e^(4*I) + e^(7/2*I))*e^(9/4*I*sqrt(3) - 83/4*I))*e^(-5/2*I*sqrt(3) + 23*I))*phi1toBN^2 + 196.18764489*(2*((((e^(3/2*I) + e^(1/2*I))*e^(2*I) - 6*e^(3*I))*e^(1/2*I*sqrt(3) - 7*I) + e^(1/4*I*sqrt(3) - 15/4*I))*e^(5*I*sqrt(3) - 22*I) + (((e^(3/2*I) + e^(1/2*I))*e^(2*I) - 6*e^(3*I))*e^(1/2*I*sqrt(3) - 7*I) + e^(1/4*I*sqrt(3) - 15/4*I))*e^(5*I*sqrt(3) - 45/2*I))*e^(-21/4*I*sqrt(3) + 129/4*I) + ((((2*((e^(3/2*I) + e^(1/2*I))*e^(2*I) - 6*e^(3*I))*e^(1/2*I*sqrt(3) - 13/2*I) + (2*(e^(3/2*I) + e^(1/2*I))*e^(2*I) - ((12*e^(3/2*I) + 12*e^(1/2*I) - 1)*e^(5*I) - e^(7*I) - 38*e^(6*I))*e^(1/4*I*sqrt(3) - 11/4*I) - 12*e^(3*I))*e^(1/2*I*sqrt(3) - 7*I) + 2*e^(1/4*I*sqrt(3) - 15/4*I))*e^(1/2*I*sqrt(3) - 13/2*I) + e^(3/4*I*sqrt(3) - 39/4*I))*e^(1/2*I*sqrt(3) - 11/2*I) + e^(5/4*I*sqrt(3) - 65/4*I))*e^(17/4*I*sqrt(3) - 79/4*I) + e^(13/2*I*sqrt(3) - 35*I) + 2*e^(13/2*I*sqrt(3) - 71/2*I) + e^(13/2*I*sqrt(3) - 36*I) + 2*e^(6*I*sqrt(3) - 71/2*I) + 2*e^(6*I*sqrt(3) - 36*I))*e^(-6*I*sqrt(3) + 83/2*I))*phi2toBB^2 - 302.8528674*(4*((((e^(3/2*I) + e^(1/2*I))*e^(5*I) - 6*e^(6*I))*e^(I*sqrt(3) - 6*I) + e^(3/4*I*sqrt(3) + 1/4*I))*e^(-21/4*I*sqrt(3) + 129/4*I) + e^(-9/2*I*sqrt(3) + 32*I))*e^(9/2*I*sqrt(3) - 53/2*I) + 4*((e^(3/2*I) + e^(1/2*I))*e^(5*I) - 6*e^(6*I))*e^(-1/4*I*sqrt(3) + 1/4*I) - 2*((((e^(3/2*I) + e^(1/2*I))*e^(2*I) - 6*e^(3*I))*e^(1/2*I*sqrt(3) - 7*I) + e^(1/4*I*sqrt(3) - 15/4*I))*e^(5*I*sqrt(3) - 22*I) + (((e^(3/2*I) + e^(1/2*I))*e^(2*I) - 6*e^(3*I))*e^(1/2*I*sqrt(3) - 7*I) + e^(1/4*I*sqrt(3) - 15/4*I))*e^(5*I*sqrt(3) - 45/2*I) - 2*(((e^(3/2*I) + e^(1/2*I))*e^(5*I) - 6*e^(6*I))*e^(3/4*I*sqrt(3) - 25/4*I) + e^(1/2*I*sqrt(3)))*e^(19/4*I*sqrt(3) - 103/4*I))*e^(-21/4*I*sqrt(3) + 129/4*I) + (4*((e^(3/2*I) + e^(1/2*I))*e^(3*I) - 6*e^(4*I))*e^(23/4*I*sqrt(3) - 159/4*I) - (((2*(e^(3/2*I) + e^(1/2*I))*e^(2*I) + ((12*e^(3/2*I) + 12*e^(1/2*I) - 1)*e^(5*I) - e^(7*I) - 38*e^(6*I))*e^(1/4*I*sqrt(3) - 11/4*I) - 12*e^(3*I))*e^(7/4*I*sqrt(3) - 39/4*I) + 2*(((e^(3/2*I) + e^(1/2*I))*e^(2*I) - 6*e^(3*I))*e^(1/2*I*sqrt(3) - 13/2*I) + e^(1/4*I*sqrt(3) - 15/4*I))*e^(5/4*I*sqrt(3) - 11/4*I))*e^(1/2*I*sqrt(3) - 13/2*I) + e^(2*I*sqrt(3) - 25/2*I))*e^(7/2*I*sqrt(3) - 45/2*I) + e^(13/2*I*sqrt(3) - 35*I) + 2*e^(13/2*I*sqrt(3) - 71/2*I) + e^(13/2*I*sqrt(3) - 36*I) + 2*e^(6*I*sqrt(3) - 71/2*I) - 2*e^(6*I*sqrt(3) - 36*I) + 2*e^(11/2*I*sqrt(3) - 35*I) + 4*e^(11/2*I*sqrt(3) - 71/2*I) + e^(11/2*I*sqrt(3) - 36*I))*e^(-6*I*sqrt(3) + 83/2*I))*phi2toBB*phi2toNN + 116.877721*(2*((((e^(3/2*I) + e^(1/2*I))*e^(2*I) - 6*e^(3*I))*e^(1/2*I*sqrt(3) - 7*I) + e^(1/4*I*sqrt(3) - 15/4*I))*e^(5*I*sqrt(3) - 22*I) + (((e^(3/2*I) + e^(1/2*I))*e^(2*I) - 6*e^(3*I))*e^(1/2*I*sqrt(3) - 7*I) + e^(1/4*I*sqrt(3) - 15/4*I))*e^(5*I*sqrt(3) - 45/2*I))*e^(-21/4*I*sqrt(3) + 129/4*I) + ((((2*((e^(3/2*I) + e^(1/2*I))*e^(2*I) - 6*e^(3*I))*e^(1/2*I*sqrt(3) - 13/2*I) + (2*(e^(3/2*I) + e^(1/2*I))*e^(2*I) - ((12*e^(3/2*I) + 12*e^(1/2*I) - 1)*e^(5*I) - e^(7*I) - 38*e^(6*I))*e^(1/4*I*sqrt(3) - 11/4*I) - 12*e^(3*I))*e^(1/2*I*sqrt(3) - 7*I) + 2*e^(1/4*I*sqrt(3) - 15/4*I))*e^(1/2*I*sqrt(3) - 13/2*I) + e^(3/4*I*sqrt(3) - 39/4*I))*e^(1/2*I*sqrt(3) - 11/2*I) + e^(5/4*I*sqrt(3) - 65/4*I))*e^(17/4*I*sqrt(3) - 79/4*I) + e^(13/2*I*sqrt(3) - 35*I) + 2*e^(13/2*I*sqrt(3) - 71/2*I) + e^(13/2*I*sqrt(3) - 36*I) + 2*e^(6*I*sqrt(3) - 71/2*I) + 2*e^(6*I*sqrt(3) - 36*I))*e^(-6*I*sqrt(3) + 83/2*I))*phi2toNN^2 + 605.7057348*(((e^(13/2*I) + e^(6*I))*e^(I*sqrt(3) - 6*I) + e^(3/4*I*sqrt(3) + 1/4*I))*e^(-3/4*I*sqrt(3) + 21/4*I) + (e^(3/2*I*sqrt(3) - 17/2*I) + e^(3/2*I*sqrt(3) - 19/2*I))*e^(-3/2*I*sqrt(3) + 15*I) + ((e^(4*I) + e^(7/2*I))*e^(5*I*sqrt(3) - 37*I) + ((e^(3/2*I) + e^(1/2*I))*e^(3*I) + 2*e^(4*I))*e^(5*I*sqrt(3) - 38*I) + e^(19/4*I*sqrt(3) - 135/4*I))*e^(-21/4*I*sqrt(3) + 159/4*I) + ((((e^(3/2*I) + e^(1/2*I))*e^(5*I) + 2*e^(6*I))*e^(3/4*I*sqrt(3) - 25/4*I) + e^(1/2*I*sqrt(3)))*e^(11/2*I*sqrt(3) - 35*I) + e^(13/2*I*sqrt(3) - 71/2*I))*e^(-6*I*sqrt(3) + 83/2*I))*phi1toBN*phi3toBN + 605.7057348*((e^(5/4*I*sqrt(3) - 35/4*I) + e^(5/4*I*sqrt(3) - 39/4*I))*e^(-5/4*I*sqrt(3) + 59/4*I) + ((e^(5/4*I*sqrt(3) - 35/4*I) + 2*e^(5/4*I*sqrt(3) - 39/4*I))*e^(19/4*I*sqrt(3) - 103/4*I) + e^(13/2*I*sqrt(3) - 35*I) + e^(13/2*I*sqrt(3) - 36*I) + e^(11/2*I*sqrt(3) - 35*I) + e^(11/2*I*sqrt(3) - 36*I))*e^(-6*I*sqrt(3) + 83/2*I))*phi3toBN^2 + 605.7057348*(2*(e^(13/2*I) + e^(5*I))*e^(1/2*I*sqrt(3)) + 2*(e^(13/2*I) + e^(5*I))*e^(-1/4*I*sqrt(3) + 1/4*I) + 2*((e^(13/2*I) + e^(5*I))*e^(I*sqrt(3) - 6*I) + e^(3/4*I*sqrt(3) + 1/4*I))*e^(-1/2*I*sqrt(3) + 11/2*I) + ((e^(7*I) + 2*e^(11/2*I) + e^(4*I))*e^(6*I*sqrt(3) - 83/2*I) + 2*(e^(13/2*I) + e^(5*I))*e^(23/4*I*sqrt(3) - 169/4*I) + e^(7*I*sqrt(3) - 71/2*I) + 2*e^(7*I*sqrt(3) - 36*I) + 2*e^(25/4*I*sqrt(3) - 141/4*I) + 2*e^(25/4*I*sqrt(3) - 145/4*I) + 2*e^(25/4*I*sqrt(3) - 147/4*I) + e^(11/2*I*sqrt(3) - 35*I) + 2*e^(11/2*I*sqrt(3) - 36*I) + e^(11/2*I*sqrt(3) - 37*I))*e^(-6*I*sqrt(3) + 83/2*I) + e^(I*sqrt(3) + 5*I))*phi4toBN^2 + 4*(151.4264337*((((e^(13/2*I) + e^(5*I))*e^(1/2*I*sqrt(3) - 7*I) + e^(1/4*I*sqrt(3) - 3/4*I))*e^(-4*I*sqrt(3) + 51/2*I) + e^(-15/4*I*sqrt(3) + 95/4*I))*e^(15/4*I*sqrt(3) - 75/4*I) + ((e^(3/2*I) + e^(1/2*I))*e^(3*I) + 2*e^(4*I))*e^(-1/4*I*sqrt(3) + 5/4*I) + ((2*e^(3/2*I) + e^(1/2*I) + 1)*e^(5*I) + 2*e^(6*I))*e^(-1/4*I*sqrt(3) + 1/4*I) + ((2*(e^(3/2*I) + 1)*e^(5*I) + (e^(3/2*I) + e^(1/2*I))*e^(4*I) + e^(7*I) + e^(6*I))*e^(21/4*I*sqrt(3) - 149/4*I) + e^(19/4*I*sqrt(3) - 123/4*I))*e^(-21/4*I*sqrt(3) + 149/4*I) + (((e^(3/2*I) + e^(1/2*I))*e^(3*I) + 2*e^(4*I))*e^(13/2*I*sqrt(3) - 79/2*I) + (((e^(3/2*I) + e^(1/2*I))*e^(5*I) + 2*e^(6*I))*e^(1/2*I*sqrt(3) - 7*I) + e^(1/4*I*sqrt(3) - 3/4*I))*e^(6*I*sqrt(3) - 35*I) + e^(25/4*I*sqrt(3) - 141/4*I) + e^(11/2*I*sqrt(3) - 36*I))*e^(-6*I*sqrt(3) + 83/2*I) + e^(3/4*I*sqrt(3) + 23/4*I) + e^(3/4*I*sqrt(3) + 21/4*I))*phi1toBN + 151.4264337*((((e^(13/2*I) + e^(5*I))*e^(I*sqrt(3) - 6*I) + e^(3/4*I*sqrt(3) + 1/4*I))*e^(-15/4*I*sqrt(3) + 91/4*I) + e^(-3*I*sqrt(3) + 22*I))*e^(3*I*sqrt(3) - 35/2*I) + 2*((e^(13/2*I) + e^(5*I))*e^(3/4*I*sqrt(3) - 25/4*I) + e^(1/2*I*sqrt(3)))*e^(-1/2*I*sqrt(3) + 13/2*I) + (((e^(13/2*I) + e^(5*I))*e^(5/2*I*sqrt(3) - 23*I) + e^(9/4*I*sqrt(3) - 71/4*I))*e^(5/2*I*sqrt(3) - 16*I) + e^(19/4*I*sqrt(3) - 131/4*I) + 2*e^(19/4*I*sqrt(3) - 135/4*I))*e^(-21/4*I*sqrt(3) + 159/4*I) + ((e^(3/2*I*sqrt(3) - 17/2*I) + 2*e^(3/2*I*sqrt(3) - 19/2*I))*e^(19/4*I*sqrt(3) - 107/4*I) + 2*((e^(13/2*I) + e^(5*I))*e^(9/4*I*sqrt(3) - 93/4*I) + e^(2*I*sqrt(3) - 18*I))*e^(7/2*I*sqrt(3) - 37/2*I) + e^(25/4*I*sqrt(3) - 139/4*I) + 2*e^(25/4*I*sqrt(3) - 143/4*I) + 2*e^(6*I*sqrt(3) - 36*I))*e^(-6*I*sqrt(3) + 83/2*I) + 2*e^(3/4*I*sqrt(3) + 25/4*I) + 2*e^(3/4*I*sqrt(3) + 23/4*I) + e^(3/4*I*sqrt(3) + 21/4*I) + e^(3/4*I*sqrt(3) + 19/4*I))*phi3toBN)*phi4toBN)*e^(1/2*I*sqrt(3) - 6*I))^2 + abs((2.8428030638862365e-09)*phi2toBB*(16268869*e^(3/10*I*sqrt(3) + 3/10*I) + 16268869*e^(3/10*I*sqrt(3) - 3/10*I) + 16268869*e^(-3/10*I*sqrt(3) + 3/10*I) + 16268869*e^(-3/10*I*sqrt(3) - 3/10*I) - 70758660) + (2.194203054514918e-09)*phi2toNN*(16268869*e^(3/10*I*sqrt(3) + 3/10*I) + 16268869*e^(3/10*I*sqrt(3) - 3/10*I) + 16268869*e^(-3/10*I*sqrt(3) + 3/10*I) + 16268869*e^(-3/10*I*sqrt(3) - 3/10*I) - 70758660) - (1.3449984558254618e-30)*sqrt((4.4673499905421614e+42)*(529352197078322*(e^(21/10*I*sqrt(3) + 9/10*I) + e^(3/2*I*sqrt(3) + 3/2*I) + e^(3/2*I*sqrt(3) + 9/10*I))*e^(9/10*I*sqrt(3) + 3/10*I) + 529352197078322*(e^(3/2*I*sqrt(3) + 9/10*I) + e^(9/10*I*sqrt(3) + 3/2*I))*e^(9/10*I*sqrt(3) - 3/10*I) + 264676098539161*e^(3*I*sqrt(3) + 9/5*I) + 264676098539161*e^(3*I*sqrt(3) + 3/5*I) - 2302326740311080*e^(27/10*I*sqrt(3) + 3/2*I) - 2302326740311080*e^(27/10*I*sqrt(3) + 9/10*I) + 5536140162073922*e^(12/5*I*sqrt(3) + 6/5*I) - 2302326740311080*e^(21/10*I*sqrt(3) + 3/2*I) - 2302326740311080*e^(21/10*I*sqrt(3) + 9/10*I) + 264676098539161*e^(9/5*I*sqrt(3) + 9/5*I) + 264676098539161*e^(9/5*I*sqrt(3) + 3/5*I))*phi2toBB^2 - (6.896202638416087e+42)*(264676098539161*(4*e^(3/5*I*sqrt(3)) - 1)*e^(9/5*I*sqrt(3) + 3/5*I) - 2302326740311080*(2*e^(9/5*I*sqrt(3)) + e^(6/5*I*sqrt(3)))*e^(9/10*I*sqrt(3) + 3/2*I) - 529352197078322*(e^(21/10*I*sqrt(3) + 9/10*I) + e^(3/2*I*sqrt(3) + 3/2*I) + e^(3/2*I*sqrt(3) + 9/10*I))*e^(9/10*I*sqrt(3) + 3/10*I) + 32537738*(16268869*(4*e^(3/5*I*sqrt(3)) - 1)*e^(9/10*I*sqrt(3) + 3/2*I) - 70758660*(2*e^(6/5*I*sqrt(3)) + e^(3/5*I*sqrt(3)))*e^(3/5*I*sqrt(3) + 6/5*I) - 16268869*e^(3/2*I*sqrt(3) + 9/10*I))*e^(9/10*I*sqrt(3) - 3/10*I) + (264676098539161*(4*e^(6/5*I*sqrt(3)) - e^(3/5*I*sqrt(3)))*e^(9/10*I*sqrt(3) + 9/10*I) + 4*(264676098539161*e^(12/5*I*sqrt(3)) + 1251696991248900*e^(9/5*I*sqrt(3)))*e^(3/10*I*sqrt(3) + 3/10*I))*e^(3/10*I*sqrt(3) + 9/10*I) + 264676098539161*e^(3*I*sqrt(3) + 9/5*I) + 264676098539161*e^(3*I*sqrt(3) + 3/5*I) + 2302326740311080*e^(27/10*I*sqrt(3) + 3/2*I) + 2302326740311080*e^(27/10*I*sqrt(3) + 9/10*I) - 529352197078322*e^(12/5*I*sqrt(3) + 6/5*I) + 529352197078322*e^(9/5*I*sqrt(3) + 9/5*I) + 1058704394156644*e^(9/5*I*sqrt(3) + 6/5*I) + 529352197078322*e^(9/5*I*sqrt(3) + 3/5*I))*phi2toBB*phi2toNN + (2.6613994275566806e+42)*(529352197078322*(e^(21/10*I*sqrt(3) + 9/10*I) + e^(3/2*I*sqrt(3) + 3/2*I) + e^(3/2*I*sqrt(3) + 9/10*I))*e^(9/10*I*sqrt(3) + 3/10*I) + 529352197078322*(e^(3/2*I*sqrt(3) + 9/10*I) + e^(9/10*I*sqrt(3) + 3/2*I))*e^(9/10*I*sqrt(3) - 3/10*I) + 264676098539161*e^(3*I*sqrt(3) + 9/5*I) + 264676098539161*e^(3*I*sqrt(3) + 3/5*I) - 2302326740311080*e^(27/10*I*sqrt(3) + 3/2*I) - 2302326740311080*e^(27/10*I*sqrt(3) + 9/10*I) + 5536140162073922*e^(12/5*I*sqrt(3) + 6/5*I) - 2302326740311080*e^(21/10*I*sqrt(3) + 3/2*I) - 2302326740311080*e^(21/10*I*sqrt(3) + 9/10*I) + 264676098539161*e^(9/5*I*sqrt(3) + 9/5*I) + 264676098539161*e^(9/5*I*sqrt(3) + 3/5*I))*phi2toNN^2 + 151.4264337*(1481820770396254552405003900768674814585967750400*(59392292*e^(3/10*I*sqrt(3) + 9/10*I) + 16268869)*e^(12/5*I*sqrt(3) + 3/5*I) + 1481820770396254552405003900768674814585967750400*(16268869*e^(3/2*I*sqrt(3) + 21/10*I) + 59392292*e^(6/5*I*sqrt(3) + 6/5*I))*e^(9/10*I*sqrt(3) - 3/10*I) + 24107547995055743403730643406094569862098398569482297600*(e^(12/5*I*sqrt(3)) + e^(6/5*I*sqrt(3)))*e^(3/5*I*sqrt(3) + 6/5*I) + (13612145527417822290296246143448228299559726009918100480*I + 44004365943519653041383646967796079520467827867169958400)*e^(27/10*I*sqrt(3) + 3/10*I) + 24107547995055743403730643406094569862098398569482297600*e^(12/5*I*sqrt(3) + 9/5*I) + 24107547995055743403730643406094569862098398569482297600*e^(12/5*I*sqrt(3) + 3/5*I) - (13612145527417822290296246143448228299559726009918100480*I - 44004365943519653041383646967796079520467827867169958400)*e^(21/10*I*sqrt(3) + 21/10*I))*phi1toBN*phi3toBN + (3.6505200181428765e+57)*((e^(6/5*I*sqrt(3) + 3/5*I) + e^(6/5*I*sqrt(3) - 3/5*I))*e^(6/5*I*sqrt(3) + 9/5*I) + e^(12/5*I*sqrt(3)) + e^(3*I*sqrt(3) + 9/5*I) + e^(3*I*sqrt(3) + 3/5*I) + 2*e^(12/5*I*sqrt(3) + 6/5*I) + e^(9/5*I*sqrt(3) + 9/5*I) + e^(9/5*I*sqrt(3) + 3/5*I))*phi3toBN^2 - 151.4264337*(415539213856218177315156889*((50630300099480913855433173840*I - 74006104454759394240062356991)*e^(3/5*I*sqrt(3)) - 137808293182159916937635078400*e^(6/5*I*sqrt(3) - 3/5*I) - 137808293182159916937635078400*e^(3/10*I*sqrt(3) + 3/10*I))*e^(9/5*I*sqrt(3) + 6/5*I) - 24107547995055743403730643406094569862098398569482297600*(e^(6/5*I) + 2)*e^(9/5*I*sqrt(3) + 3/5*I) - ((24107547995055743403730643406094569862098398569482297600*e^(6/5*I*sqrt(3)) - (17714062941609988501634036303203988846099534234710607520*I - 57264749811781963131751976520032058441463555125815097600)*e^(3/5*I*sqrt(3)))*e^(9/5*I*sqrt(3)) + 48215095990111486807461286812189139724196797138964595200*e^(21/10*I*sqrt(3) + 3/10*I))*e^(3/5*I*sqrt(3) + 6/5*I) - 24107547995055743403730643406094569862098398569482297600*e^(18/5*I*sqrt(3)) - 48215095990111486807461286812189139724196797138964595200*e^(18/5*I*sqrt(3) + 3/5*I) + 17714062941609988501634036303203988846099534234710607520*I*e^(3*I*sqrt(3) + 3/5*I) - 48215095990111486807461286812189139724196797138964595200*e^(27/10*I*sqrt(3) + 9/10*I) - 48215095990111486807461286812189139724196797138964595200*e^(27/10*I*sqrt(3) + 3/10*I) - 48215095990111486807461286812189139724196797138964595200*e^(27/10*I*sqrt(3) - 3/10*I) + 17714062941609988501634036303203988846099534234710607520*I*e^(21/10*I*sqrt(3) + 3/2*I) + (17714062941609988501634036303203988846099534234710607520*I - 57264749811781963131751976520032058441463555125815097600)*e^(21/10*I*sqrt(3) + 3/10*I) - 24107547995055743403730643406094569862098398569482297600*e^(9/5*I*sqrt(3) - 3/5*I))*phi4toBN^2 + 151.4264337*phi1toBN^2*((13612145527417822290296246143448228299559726009918100480*I + 44004365943519653041383646967796079520467827867169958400)*e^(27/10*I*sqrt(3) + 9/10*I) + 112116279882095066563970406520850556702944747929848911104*e^(12/5*I*sqrt(3) + 6/5*I) - (13612145527417822290296246143448228299559726009918100480*I - 44004365943519653041383646967796079520467827867169958400)*e^(21/10*I*sqrt(3) + 3/2*I)) + (151.4264337*(1481820770396254552405003900768674814585967750400*(59392292*e^(3/5*I*sqrt(3)) + 16268869*e^(3/10*I*sqrt(3) + 3/10*I))*e^(12/5*I*sqrt(3) + 6/5*I) + 1488338352487935170483047540799779539427469097600*(16197626*e^(12/5*I*sqrt(3) + 6/5*I) + 19237813*e^(9/5*I*sqrt(3) + 6/5*I))*e^(9/10*I*sqrt(3) - 3/10*I) + (-(32334109972072409803216534636135180666593559710018223680*I - 128634935305393646876130841018322188890700459763487456000)*e^(9/5*I*sqrt(3)) + 116641106792930287648643282195608188261667433297247465600*e^(3/2*I*sqrt(3) + 3/10*I))*e^(3/5*I*sqrt(3) + 6/5*I) + 24107547995055743403730643406094569862098398569482297600*e^(12/5*I*sqrt(3)) + 24107547995055743403730643406094569862098398569482297600*e^(33/10*I*sqrt(3) + 3/10*I) + 88008731887039306082767293935592159040935655734339916800*e^(3*I*sqrt(3) + 3/5*I) - (8857031470804994250817018151601994423049767117355303760*I - 24107547995055743403730643406094569862098398569482297600)*e^(27/10*I*sqrt(3) + 9/10*I) - 8857031470804994250817018151601994423049767117355303760*I*e^(21/10*I*sqrt(3) + 3/2*I) + 88008731887039306082767293935592159040935655734339916800*e^(21/10*I*sqrt(3) + 3/10*I) + 24107547995055743403730643406094569862098398569482297600*e^(9/5*I*sqrt(3) + 9/5*I) + 24107547995055743403730643406094569862098398569482297600*e^(9/5*I*sqrt(3) + 3/5*I))*phi1toBN + 151.4264337*((24107547995055743403730643406094569862098398569482297600*(e^(6/5*I) + 2)*e^(3/5*I*sqrt(3)) + 48215095990111486807461286812189139724196797138964595200*e^(6/5*I*sqrt(3) + 3/5*I) + 24107547995055743403730643406094569862098398569482297600*e^(6/5*I*sqrt(3) - 3/5*I) + 48215095990111486807461286812189139724196797138964595200*e^(3/10*I*sqrt(3) + 9/10*I) - 17714062941609988501634036303203988846099534234710607520*I)*e^(21/10*I*sqrt(3) + 9/10*I) + 24107547995055743403730643406094569862098398569482297600*(e^(6/5*I) + 3*e^(3/5*I*sqrt(3) - 3/5*I) + 1)*e^(9/5*I*sqrt(3) + 6/5*I) + 28632374905890981565875988260016029220731777562907548800*(e^(6/5*I*sqrt(3) + 3/5*I) + e^(3/5*I*sqrt(3) + 12/5*I))*e^(3/2*I*sqrt(3) - 3/10*I) + 2976676704975870340966095081599559078854938195200*(19237813*e^(9/5*I*sqrt(3)) + 16197626*e^(3/2*I*sqrt(3) + 3/10*I))*e^(3/10*I*sqrt(3) + 9/10*I) + 48215095990111486807461286812189139724196797138964595200*e^(9/5*I*sqrt(3)) + 48215095990111486807461286812189139724196797138964595200*e^(33/10*I*sqrt(3) + 9/10*I) + 24107547995055743403730643406094569862098398569482297600*e^(33/10*I*sqrt(3) - 3/10*I) - (17714062941609988501634036303203988846099534234710607520*I - 81372297806837706535482619926126628303561953695297395200)*e^(27/10*I*sqrt(3) + 3/2*I) - (8857031470804994250817018151601994423049767117355303760*I - 48215095990111486807461286812189139724196797138964595200)*e^(27/10*I*sqrt(3) + 3/10*I) + 24107547995055743403730643406094569862098398569482297600*e^(12/5*I*sqrt(3) - 3/5*I) - 8857031470804994250817018151601994423049767117355303760*I*e^(21/10*I*sqrt(3) + 21/10*I))*phi3toBN)*phi4toBN)*e^(-6/5*I*sqrt(3) - 3/5*I) - 0.24379253743649879*phi1toBN - 0.24379253743649879*phi3toBN - 0.48758507487299757*phi4toBN)^2)"
      ]
     },
     "execution_count": 26,
     "metadata": {},
     "output_type": "execute_result"
    }
   ],
   "source": [
    "norm(vector([D_zz4ts.subs(q_x=0.6,q_y=0.6,a=1).eigenvalues()[0].subs(valors_numerics_emprats),D_zz4ts.subs(q_x=1/2,q_y=1/2,a=1).eigenvalues()[1].subs(valors_numerics_emprats)]))\n",
    "#minimize(norm(vector(Equacions3ers)),[1.,1.,1.,1.])"
   ]
  },
  {
   "cell_type": "markdown",
   "id": "acquired-zimbabwe",
   "metadata": {},
   "source": [
    "#### Punt $M$"
   ]
  },
  {
   "cell_type": "code",
   "execution_count": 27,
   "id": "basic-gates",
   "metadata": {},
   "outputs": [
    {
     "data": {
      "text/html": [
       "<html><script type=\"math/tex; mode=display\">\\newcommand{\\Bold}[1]{\\mathbf{#1}}-\\frac{3 \\, {\\left({\\phi_{1,to}^{BN}} + {\\phi_{3,to}^{BN}} + 2 \\, {\\phi_{4,to}^{BN}}\\right)}}{\\sqrt{M_{B} M_{N}}} - \\frac{4 \\, {\\phi_{2,to}^{BB}}}{M_{B}} - \\frac{4 \\, {\\phi_{2,to}^{NN}}}{M_{N}} - \\frac{\\sqrt{M_{B} M_{N} {\\left({\\phi_{1,to}^{BN}} - 3 \\, {\\phi_{3,to}^{BN}}\\right)}^{2} + 4 \\, M_{B} M_{N} {\\left({\\phi_{1,to}^{BN}} - 3 \\, {\\phi_{3,to}^{BN}} + {\\phi_{4,to}^{BN}}\\right)} {\\phi_{4,to}^{BN}} + 16 \\, {\\left(M_{N} {\\phi_{2,to}^{BB}} - M_{B} {\\phi_{2,to}^{NN}}\\right)}^{2}}}{M_{B} M_{N}} = {\\omega(M)_{ZA}}^{2}</script></html>"
      ],
      "text/latex": [
       "\\begin{math}\n",
       "\\newcommand{\\Bold}[1]{\\mathbf{#1}}-\\frac{3 \\, {\\left({\\phi_{1,to}^{BN}} + {\\phi_{3,to}^{BN}} + 2 \\, {\\phi_{4,to}^{BN}}\\right)}}{\\sqrt{M_{B} M_{N}}} - \\frac{4 \\, {\\phi_{2,to}^{BB}}}{M_{B}} - \\frac{4 \\, {\\phi_{2,to}^{NN}}}{M_{N}} - \\frac{\\sqrt{M_{B} M_{N} {\\left({\\phi_{1,to}^{BN}} - 3 \\, {\\phi_{3,to}^{BN}}\\right)}^{2} + 4 \\, M_{B} M_{N} {\\left({\\phi_{1,to}^{BN}} - 3 \\, {\\phi_{3,to}^{BN}} + {\\phi_{4,to}^{BN}}\\right)} {\\phi_{4,to}^{BN}} + 16 \\, {\\left(M_{N} {\\phi_{2,to}^{BB}} - M_{B} {\\phi_{2,to}^{NN}}\\right)}^{2}}}{M_{B} M_{N}} = {\\omega(M)_{ZA}}^{2}\n",
       "\\end{math}"
      ],
      "text/plain": [
       "-3*(phi1toBN + phi3toBN + 2*phi4toBN)/sqrt(M_B*M_N) - 4*phi2toBB/M_B - 4*phi2toNN/M_N - sqrt(M_B*M_N*(phi1toBN - 3*phi3toBN)^2 + 4*M_B*M_N*(phi1toBN - 3*phi3toBN + phi4toBN)*phi4toBN + 16*(M_N*phi2toBB - M_B*phi2toNN)^2)/(M_B*M_N) == omegaMZA^2"
      ]
     },
     "metadata": {},
     "output_type": "display_data"
    },
    {
     "data": {
      "text/html": [
       "<html><script type=\"math/tex; mode=display\">\\newcommand{\\Bold}[1]{\\mathbf{#1}}-\\frac{3 \\, {\\left({\\phi_{1,to}^{BN}} + {\\phi_{3,to}^{BN}} + 2 \\, {\\phi_{4,to}^{BN}}\\right)}}{\\sqrt{M_{B} M_{N}}} - \\frac{4 \\, {\\phi_{2,to}^{BB}}}{M_{B}} - \\frac{4 \\, {\\phi_{2,to}^{NN}}}{M_{N}} + \\frac{\\sqrt{M_{B} M_{N} {\\left({\\phi_{1,to}^{BN}} - 3 \\, {\\phi_{3,to}^{BN}}\\right)}^{2} + 4 \\, M_{B} M_{N} {\\left({\\phi_{1,to}^{BN}} - 3 \\, {\\phi_{3,to}^{BN}} + {\\phi_{4,to}^{BN}}\\right)} {\\phi_{4,to}^{BN}} + 16 \\, {\\left(M_{N} {\\phi_{2,to}^{BB}} - M_{B} {\\phi_{2,to}^{NN}}\\right)}^{2}}}{M_{B} M_{N}} = {\\omega(M)_{ZO}}^{2}</script></html>"
      ],
      "text/latex": [
       "\\begin{math}\n",
       "\\newcommand{\\Bold}[1]{\\mathbf{#1}}-\\frac{3 \\, {\\left({\\phi_{1,to}^{BN}} + {\\phi_{3,to}^{BN}} + 2 \\, {\\phi_{4,to}^{BN}}\\right)}}{\\sqrt{M_{B} M_{N}}} - \\frac{4 \\, {\\phi_{2,to}^{BB}}}{M_{B}} - \\frac{4 \\, {\\phi_{2,to}^{NN}}}{M_{N}} + \\frac{\\sqrt{M_{B} M_{N} {\\left({\\phi_{1,to}^{BN}} - 3 \\, {\\phi_{3,to}^{BN}}\\right)}^{2} + 4 \\, M_{B} M_{N} {\\left({\\phi_{1,to}^{BN}} - 3 \\, {\\phi_{3,to}^{BN}} + {\\phi_{4,to}^{BN}}\\right)} {\\phi_{4,to}^{BN}} + 16 \\, {\\left(M_{N} {\\phi_{2,to}^{BB}} - M_{B} {\\phi_{2,to}^{NN}}\\right)}^{2}}}{M_{B} M_{N}} = {\\omega(M)_{ZO}}^{2}\n",
       "\\end{math}"
      ],
      "text/plain": [
       "-3*(phi1toBN + phi3toBN + 2*phi4toBN)/sqrt(M_B*M_N) - 4*phi2toBB/M_B - 4*phi2toNN/M_N + sqrt(M_B*M_N*(phi1toBN - 3*phi3toBN)^2 + 4*M_B*M_N*(phi1toBN - 3*phi3toBN + phi4toBN)*phi4toBN + 16*(M_N*phi2toBB - M_B*phi2toNN)^2)/(M_B*M_N) == omegaMZO^2"
      ]
     },
     "metadata": {},
     "output_type": "display_data"
    }
   ],
   "source": [
    "D_M4ts_zz=D_zz4ts.subs(q_x=pi/a,q_y=pi/(sqrt(3)*a))\n",
    "\n",
    "# Podem simplificar un poc l'expressió obtessa per als valores propios al punto $M$ \n",
    "#(simplement reescribint l'argument de l'arrel quadrada)\n",
    "\n",
    "assume(sqrt(M_B*M_N*(phi1toBN-3*phi3toBN)^2+(4*(M_N*phi2toBB-M_B*phi2toNN))^2+\\\n",
    "         4*M_B*M_N*(phi1toBN-3*phi3toBN+phi4toBN)*phi4toBN)>0)\n",
    "\n",
    "omegaM1quadrat4ts=-4*phi2toBB/M_B-4*phi2toNN/M_N-3/sqrt(M_B*M_N)*(phi1toBN+phi3toBN+2*phi4toBN)\\\n",
    "   -sqrt(M_B*M_N*(phi1toBN-3*phi3toBN)^2+(4*(M_N*phi2toBB-M_B*phi2toNN))^2+\\\n",
    "         4*M_B*M_N*(phi1toBN-3*phi3toBN+phi4toBN)*phi4toBN)/(M_B*M_N)\n",
    "\n",
    "if bool(D_M4ts_zz.eigenvalues()[0]==omegaM1quadrat4ts):\n",
    "    Eq_M_ZA4ts=(omegaM1quadrat4ts==omegaMZA**2)\n",
    "\n",
    "\n",
    "\n",
    "omegaM2quadrat4ts=-4*phi2toBB/M_B-4*phi2toNN/M_N-3/sqrt(M_B*M_N)*(phi1toBN+phi3toBN+2*phi4toBN)\\\n",
    "   +sqrt(M_B*M_N*(phi1toBN-3*phi3toBN)^2+(4*(M_N*phi2toBB-M_B*phi2toNN))^2+\\\n",
    "         4*M_B*M_N*(phi1toBN-3*phi3toBN+phi4toBN)*phi4toBN)/(M_B*M_N)\n",
    "\n",
    "if bool(D_M4ts_zz.eigenvalues()[1]==omegaM2quadrat4ts):\n",
    "    Eq_M_ZO4ts=(omegaM2quadrat4ts==omegaMZO**2)\n",
    "    \n",
    "    \n",
    "show(Eq_M_ZA4ts)\n",
    "show(Eq_M_ZO4ts)\n",
    "\n",
    "#Eq_M_ZOmesZA4ts=(Eq_M_ZO4ts+Eq_M_ZA4ts).subs(Eq_Gamma_ZO4ts.solve(phi4toBN)[0]).expand()\n",
    "#show(Eq_M_ZOmesZA4ts)\n",
    "#Eq_M_ZOmenysZA4ts_quadrat=((Eq_M_ZO4ts-Eq_M_ZA4ts)**2).subs(Eq_Gamma_ZO4ts.solve(phi4toBN)[0]).expand()\n",
    "#show(Eq_M_ZOmenysZA4ts_quadrat)"
   ]
  },
  {
   "cell_type": "markdown",
   "id": "israeli-ivory",
   "metadata": {},
   "source": [
    "#### Punt $K$"
   ]
  },
  {
   "cell_type": "code",
   "execution_count": 28,
   "id": "liked-freedom",
   "metadata": {
    "tags": [
     "hide-input"
    ]
   },
   "outputs": [
    {
     "data": {
      "text/html": [
       "<html><script type=\"math/tex; mode=display\">\\newcommand{\\Bold}[1]{\\mathbf{#1}}-\\frac{3 \\, {\\phi_{1,to}^{BN}}}{\\sqrt{M_{B}} \\sqrt{M_{N}}} - \\frac{9 \\, {\\phi_{2,to}^{NN}}}{M_{N}} - \\frac{3 \\, {\\phi_{3,to}^{BN}}}{\\sqrt{M_{B}} \\sqrt{M_{N}}} - \\frac{6 \\, {\\phi_{4,to}^{BN}}}{\\sqrt{M_{B}} \\sqrt{M_{N}}} = {\\omega(K)_{ZA}}^{2}</script></html>"
      ],
      "text/latex": [
       "\\begin{math}\n",
       "\\newcommand{\\Bold}[1]{\\mathbf{#1}}-\\frac{3 \\, {\\phi_{1,to}^{BN}}}{\\sqrt{M_{B}} \\sqrt{M_{N}}} - \\frac{9 \\, {\\phi_{2,to}^{NN}}}{M_{N}} - \\frac{3 \\, {\\phi_{3,to}^{BN}}}{\\sqrt{M_{B}} \\sqrt{M_{N}}} - \\frac{6 \\, {\\phi_{4,to}^{BN}}}{\\sqrt{M_{B}} \\sqrt{M_{N}}} = {\\omega(K)_{ZA}}^{2}\n",
       "\\end{math}"
      ],
      "text/plain": [
       "-3*phi1toBN/(sqrt(M_B)*sqrt(M_N)) - 9*phi2toNN/M_N - 3*phi3toBN/(sqrt(M_B)*sqrt(M_N)) - 6*phi4toBN/(sqrt(M_B)*sqrt(M_N)) == omegaKZA^2"
      ]
     },
     "metadata": {},
     "output_type": "display_data"
    },
    {
     "data": {
      "text/html": [
       "<html><script type=\"math/tex; mode=display\">\\newcommand{\\Bold}[1]{\\mathbf{#1}}-\\frac{3 \\, {\\phi_{1,to}^{BN}}}{\\sqrt{M_{B}} \\sqrt{M_{N}}} - \\frac{9 \\, {\\phi_{2,to}^{BB}}}{M_{B}} - \\frac{3 \\, {\\phi_{3,to}^{BN}}}{\\sqrt{M_{B}} \\sqrt{M_{N}}} - \\frac{6 \\, {\\phi_{4,to}^{BN}}}{\\sqrt{M_{B}} \\sqrt{M_{N}}} = {\\omega(K)_{ZO}}^{2}</script></html>"
      ],
      "text/latex": [
       "\\begin{math}\n",
       "\\newcommand{\\Bold}[1]{\\mathbf{#1}}-\\frac{3 \\, {\\phi_{1,to}^{BN}}}{\\sqrt{M_{B}} \\sqrt{M_{N}}} - \\frac{9 \\, {\\phi_{2,to}^{BB}}}{M_{B}} - \\frac{3 \\, {\\phi_{3,to}^{BN}}}{\\sqrt{M_{B}} \\sqrt{M_{N}}} - \\frac{6 \\, {\\phi_{4,to}^{BN}}}{\\sqrt{M_{B}} \\sqrt{M_{N}}} = {\\omega(K)_{ZO}}^{2}\n",
       "\\end{math}"
      ],
      "text/plain": [
       "-3*phi1toBN/(sqrt(M_B)*sqrt(M_N)) - 9*phi2toBB/M_B - 3*phi3toBN/(sqrt(M_B)*sqrt(M_N)) - 6*phi4toBN/(sqrt(M_B)*sqrt(M_N)) == omegaKZO^2"
      ]
     },
     "metadata": {},
     "output_type": "display_data"
    }
   ],
   "source": [
    "omega_K_ZO=605 #cm-1\n",
    "omega_K_ZA=322\n",
    "D_K_zz4ts=D_zz4ts.subs(q_x=4*pi/(3*a),q_y=0)\n",
    "\n",
    "Eq_K_ZA4ts=(D_K_zz4ts.eigenvalues()[0]==omegaKZA**2).expand() #.subs(Eq_Gamma_ZO4ts.solve(phi4toBN)[0]).expand()\n",
    "Eq_K_ZO4ts=(D_K_zz4ts.eigenvalues()[1]==omegaKZO**2).expand() #.subs(Eq_Gamma_ZO4ts.solve(phi4toBN)[0]).expand()\n",
    "\n",
    "#Eq_K_ZOmesZA3ers=Eq_K_ZA3ers+Eq_K_ZO3ers\n",
    "\n",
    "#Eq_K_ZOmenysZA3ers=Eq_K_ZA3ers-Eq_K_ZO3ers\n",
    "\n",
    "show(Eq_K_ZA4ts)\n",
    "show(Eq_K_ZO4ts)"
   ]
  },
  {
   "cell_type": "markdown",
   "id": "dental-difference",
   "metadata": {
    "tags": []
   },
   "source": [
    "Si considerem fins a 4ts veïns no trobem una solució analítica, així que substituïm les variables conegudes pels seus valors numèrics:"
   ]
  },
  {
   "cell_type": "code",
   "execution_count": 29,
   "id": "turned-malta",
   "metadata": {},
   "outputs": [
    {
     "data": {
      "text/html": [
       "<html><script type=\"math/tex; mode=display\">\\newcommand{\\Bold}[1]{\\mathbf{#1}}\\left[{\\phi_{1,to}^{BN}} = \\left(-1392307\\right), {\\phi_{2,to}^{BB}} = \\left(-28078\\right), {\\phi_{2,to}^{NN}} = 371904, {\\phi_{3,to}^{BN}} = \\left(-51841\\right), {\\phi_{4,to}^{BN}} = 15387\\right]</script></html>"
      ],
      "text/latex": [
       "\\begin{math}\n",
       "\\newcommand{\\Bold}[1]{\\mathbf{#1}}\\left[{\\phi_{1,to}^{BN}} = \\left(-1392307\\right), {\\phi_{2,to}^{BB}} = \\left(-28078\\right), {\\phi_{2,to}^{NN}} = 371904, {\\phi_{3,to}^{BN}} = \\left(-51841\\right), {\\phi_{4,to}^{BN}} = 15387\\right]\n",
       "\\end{math}"
      ],
      "text/plain": [
       "[phi1toBN == -1392307,\n",
       " phi2toBB == -28078,\n",
       " phi2toNN == 371904,\n",
       " phi3toBN == -51841,\n",
       " phi4toBN == 15387]"
      ]
     },
     "execution_count": 29,
     "metadata": {},
     "output_type": "execute_result"
    }
   ],
   "source": [
    "Equacions4ts=[Eq_Gamma_ZO4ts.subs(valors_numerics_emprats),Eq_M_ZO4ts.subs(valors_numerics_emprats),Eq_M_ZA4ts.subs(valors_numerics_emprats),\\\n",
    "               Eq_K_ZO4ts.subs(valors_numerics_emprats),Eq_K_ZA4ts.subs(valors_numerics_emprats)]\n",
    "solucions4ts=minimize(norm(vector((Equacions4ts))),[-1400000.,1.,1.,1.,1.])\n",
    "Solucions4ts=[phi1toBN==round(solucions4ts[0]), phi2toBB==round(solucions4ts[1]),\\\n",
    "              phi2toNN==round(solucions4ts[2]), phi3toBN==round(solucions4ts[3]),\\\n",
    "              phi4toBN==round(solucions4ts[4])]\n",
    "Solucions4ts"
   ]
  },
  {
   "cell_type": "code",
   "execution_count": 30,
   "id": "after-national",
   "metadata": {
    "class": "no-execute",
    "tags": [
     "hide-input"
    ]
   },
   "outputs": [
    {
     "data": {
      "image/png": "[encoded data removed]",
      "text/plain": [
       "Graphics object consisting of 11 graphics primitives"
      ]
     },
     "metadata": {
      "filenames": {
       "image/png": "/home/casimir/Documents/Fisica/TFG/TFG-Semiconductores_2D/Jupyter-Book/_build/jupyter_execute/formulacio_matriu_dinamica_58_0.png"
      }
     },
     "output_type": "display_data"
    }
   ],
   "source": [
    "sol_perp_num4tsn=Solucions4ts\n",
    "show(\\\n",
    "list_plot(\n",
    "    [round(real_part(n(sqrt(D_zz4ts.subs(sol_perp_num4tsn, M_B=B.mass, \\\n",
    "        M_N=N.mass, a=1, q_x=n(x*pi), q_y=n(x*pi/sqrt(3))).simplify_full().eigenvalues()[1])))) \\\n",
    "        for x in srange(0,1,0.1)] +\\\n",
    "    [round(real_part(n(sqrt(D_zz4ts.subs(sol_perp_num4tsn, M_B=B.mass, \\\n",
    "        M_N=N.mass, a=1, q_x=n(pi*(1+x/3)), q_y=n(pi/sqrt(3)*(1-x))).simplify_full().eigenvalues()[1])))) \\\n",
    "        for x in srange(0,1,0.1)]+\\\n",
    "    [round(real_part(n(sqrt(D_zz4ts.subs(sol_perp_num4tsn, M_B=B.mass, \\\n",
    "        M_N=N.mass, a=1, q_x=n(4*pi/3*(1-x)), q_y=0).simplify_full().eigenvalues()[1])))) \\\n",
    "        for x in srange(0,1,0.1)]) + \\\n",
    "list_plot(\n",
    "    [round(real_part(n(sqrt(D_zz4ts.subs(sol_perp_num4tsn, M_B=B.mass, \\\n",
    "        M_N=N.mass, a=1, q_x=n(x*pi), q_y=n(x*pi/sqrt(3))).simplify_full().eigenvalues()[0])))) \\\n",
    "        for x in srange(0,1,0.1)]+\n",
    "    [round(real_part(n(sqrt(D_zz4ts.subs(sol_perp_num4tsn, M_B=B.mass, \\\n",
    "        M_N=N.mass, a=1,q_x=n(pi*(1+x/3)), q_y=n(pi/sqrt(3)*(1-x))).simplify_full().eigenvalues()[0])))) \\\n",
    "        for x in srange(0,1,0.1)]+\\\n",
    "    [round(real_part(n(sqrt(D_zz4ts.subs(sol_perp_num4tsn, M_B=B.mass, \\\n",
    "        M_N=N.mass, a=1, q_x=n(4*pi/3*(1-x)), q_y=0).simplify_full().eigenvalues()[0])))) \\\n",
    "        for x in srange(0,1,0.1)]) \\\n",
    "     +line([(10,0),(10,1600)], color=\"black\")+line([(20,0),(20,1600)], color=\"black\")\\\n",
    "     +line([(30,0),(30,1600)], color=\"black\", ticks=[[0.05,10,20,30], None], \\\n",
    "        tick_formatter = [[r'$\\Gamma$', '$M$', '$K$', r'$\\Gamma$'], None])+\\\n",
    "points(zip(dades[:524,0]/524*30, dades[:524,1]), color=\"black\") +\\\n",
    "points(zip(dades[524:1048,0]/524*30, dades[524:1048,1]), color=\"black\") +\\\n",
    "points(zip(dades[1048:1572,0]/524*30, dades[1048:1572,1]), color=\"black\") +\\\n",
    "points(zip(dades[1572:2096,0]/525*30, dades[1572:2096,1]), color=\"black\") +\\\n",
    "points(zip(dades[2096:2620,0]/525*30, dades[2096:2620,1]), color=\"black\") +\\\n",
    "points(zip(dades[2620:3144,0]/525*30, dades[2620:3144,1]), color=\"black\")     \n",
    "     ,figsize=9) "
   ]
  },
  {
   "cell_type": "markdown",
   "id": "sweet-texas",
   "metadata": {},
   "source": [
    "| Serie | Color  | Punt  | $\\omega$ |    Rama |\n",
    "|-------|--------|-------|----------|---------|\n",
    "|     1 | Roig   | $\\Gamma$ |       0    |  1 (ZA) |\n",
    "|     1 | Roig   | M     |        314    | 1 (ZA) |\n",
    "|     1 | Roig   | K     |       320     |1 (ZA) |\n",
    "|     2 | Marro  | $\\Gamma$ |       0    |2 (TA) |\n",
    "|     2 | Marro  | M     |           553 |2 (TA) |\n",
    "|     2 | Marro  | K     |           602 | 4 (ZO) |\n",
    "|     3 | Negre  | $\\Gamma$ |         4  | 3 (LA) |\n",
    "|     3 | Negre  | M     |           638 | 4 (ZO) |\n",
    "|     3 | Negre  | K     |           878 |     2(TA) |\n",
    "|     4 | Rosa   | $\\Gamma$ |        831 |  4 (ZO) |\n",
    "|     4 | Rosa   | M     |          1173 |       3 (LA) |\n",
    "|     4 | Rosa   | K     |          1080 |       3 (LA) |\n",
    "|     5 | B.clar | $\\Gamma$ |       1394 |       5 (TO) |\n",
    "|     5 | B.clar | M     |          1292 |       5 (TO)|\n",
    "|     5 | B.clar | K     |          1204 |       5 (TO)|\n",
    "|     6 | Blau   | $\\Gamma$ |       1394 |       6 (LO)|\n",
    "|     6 | Blau   | M     |          1320 |       6 (LO)|\n",
    "|     6 | Blau   | K     |          1304 |       6 (LO)|"
   ]
  },
  {
   "cell_type": "markdown",
   "id": "olive-hardware",
   "metadata": {},
   "source": [
    "## Vibracions al pla del cristall"
   ]
  },
  {
   "cell_type": "markdown",
   "id": "progressive-starter",
   "metadata": {},
   "source": [
    "Vibracions dins del pla del cristall\n",
    "En este cas tractem amb una matriu $4\\times 4$, i per tant tenim 4 valors propis ($\\omega^2$) en cada punt $q_x$, $q_y$, que corresponen a cuatre rames."
   ]
  },
  {
   "cell_type": "code",
   "execution_count": 31,
   "id": "informative-campaign",
   "metadata": {
    "tags": [
     "hide-input"
    ]
   },
   "outputs": [],
   "source": [
    "D1BN_xy=D1BN.matrix_from_rows_and_columns([0,1],[0,1])\n",
    "D1NB_xy=D1NB.matrix_from_rows_and_columns([0,1],[0,1])\n",
    "\n",
    "D2BB3ers_xy=D2BB3ers.matrix_from_rows_and_columns([0,1],[0,1])\n",
    "D2NN3ers_xy=D2NN3ers.matrix_from_rows_and_columns([0,1],[0,1])\n",
    "\n",
    "D2BB4ts_xy=D2BB4ts.matrix_from_rows_and_columns([0,1],[0,1])\n",
    "D2NN4ts_xy=D2NN4ts.matrix_from_rows_and_columns([0,1],[0,1])\n",
    "\n",
    "\n",
    "D3BN_xy=D3BN.matrix_from_rows_and_columns([0,1],[0,1])\n",
    "D3NB_xy=D3NB.matrix_from_rows_and_columns([0,1],[0,1])\n",
    "D4BN_xy=D4BN.matrix_from_rows_and_columns([0,1],[0,1])\n",
    "D4NB_xy=D4NB.matrix_from_rows_and_columns([0,1],[0,1])\n",
    "\n",
    "#D_xy=block_matrix([[D2BB_xy, D1BN_xy+D3BN_xy+D4BN_xy],[D1NB_xy+D3NB_xy+D4NB_xy, D2NN_xy]])\n",
    "D3ers_xy=block_matrix([[D2BB3ers_xy, D1BN_xy+D3BN_xy],[D1NB_xy+D3NB_xy, D2NN3ers_xy]])\n",
    "\n",
    "D4ts_xy=block_matrix([[D2BB4ts_xy, D1BN_xy+D3BN_xy+D4BN_xy],[D1NB_xy+D3NB_xy+D4NB_xy, D2NN4ts_xy]])"
   ]
  },
  {
   "cell_type": "markdown",
   "id": "civic-quick",
   "metadata": {},
   "source": [
    "### Considerem sols fins als 3ers veïns"
   ]
  },
  {
   "cell_type": "markdown",
   "id": "planned-franklin",
   "metadata": {},
   "source": [
    "#### Al punt $\\Gamma$\n",
    "\n",
    "Fins 3ers veïns\n",
    "\n",
    "Al punt $\\Gamma$ obtinc 2 valors propis, de multiplicitat $2$ cadascun:"
   ]
  },
  {
   "cell_type": "code",
   "execution_count": 32,
   "id": "interested-assessment",
   "metadata": {
    "tags": [
     "hide-input",
     "hide-output"
    ]
   },
   "outputs": [
    {
     "data": {
      "text/html": [
       "<html><script type=\"math/tex; mode=display\">\\newcommand{\\Bold}[1]{\\mathbf{#1}}\\left[-\\frac{3 \\, {\\left({\\phi_{1,r}^{BN}} + {\\phi_{1,ti}^{BN}} + {\\phi_{3,r}^{BN}} + {\\phi_{3,ti}^{BN}}\\right)}}{\\sqrt{M_{B} M_{N}}}, 0\\right]</script></html>"
      ],
      "text/latex": [
       "\\begin{math}\n",
       "\\newcommand{\\Bold}[1]{\\mathbf{#1}}\\left[-\\frac{3 \\, {\\left({\\phi_{1,r}^{BN}} + {\\phi_{1,ti}^{BN}} + {\\phi_{3,r}^{BN}} + {\\phi_{3,ti}^{BN}}\\right)}}{\\sqrt{M_{B} M_{N}}}, 0\\right]\n",
       "\\end{math}"
      ],
      "text/plain": [
       "[-3*(phi1rBN + phi1tiBN + phi3rBN + phi3tiBN)/sqrt(M_B*M_N), 0]"
      ]
     },
     "metadata": {},
     "output_type": "display_data"
    }
   ],
   "source": [
    "omega_Gamma_TO=1394\n",
    "D_Gamma3ers_xy=D3ers_xy.subs(q_x=0,q_y=0)\n",
    "\n",
    "show([D_Gamma3ers_xy.eigenvalues()[0], D_Gamma3ers_xy.eigenvalues()[2]])\n",
    " "
   ]
  },
  {
   "cell_type": "markdown",
   "id": "animal-speed",
   "metadata": {},
   "source": [
    "De manera que obtenim les següents equacions:"
   ]
  },
  {
   "cell_type": "code",
   "execution_count": 33,
   "id": "occasional-constitution",
   "metadata": {},
   "outputs": [
    {
     "data": {
      "text/html": [
       "<html><script type=\"math/tex; mode=display\">\\newcommand{\\Bold}[1]{\\mathbf{#1}}-\\frac{3 \\, {\\left({\\phi_{1,r}^{BN}} + {\\phi_{1,ti}^{BN}} + {\\phi_{3,r}^{BN}} + {\\phi_{3,ti}^{BN}}\\right)}}{\\sqrt{M_{B} M_{N}}} = {\\omega(\\Gamma)_{TO}}^{2}</script></html>"
      ],
      "text/latex": [
       "\\begin{math}\n",
       "\\newcommand{\\Bold}[1]{\\mathbf{#1}}-\\frac{3 \\, {\\left({\\phi_{1,r}^{BN}} + {\\phi_{1,ti}^{BN}} + {\\phi_{3,r}^{BN}} + {\\phi_{3,ti}^{BN}}\\right)}}{\\sqrt{M_{B} M_{N}}} = {\\omega(\\Gamma)_{TO}}^{2}\n",
       "\\end{math}"
      ],
      "text/plain": [
       "-3*(phi1rBN + phi1tiBN + phi3rBN + phi3tiBN)/sqrt(M_B*M_N) == omegaGammaTO^2"
      ]
     },
     "metadata": {},
     "output_type": "display_data"
    }
   ],
   "source": [
    "#Eq_Gamma_LA3ers=solve(D_Gamma_xy.eigenvalues()[2]==0,phi4tiBN)[0]\n",
    "#D_Gamma3ers_xy=D_xy.subs(q_x=0,q_y=0).subs(Eq_Gamma_LA)\n",
    "\n",
    "#show([D_Gamma_xy.eigenvalues()[0], D_Gamma_xy.eigenvalues()[2]])\n",
    "\n",
    "omega_Gamma_TO=1394\n",
    "Eq_Gamma_TO3ers=(D_Gamma3ers_xy.eigenvalues()[0]==omegaGammaTO**2)\n",
    "#show(Eq_Gamma_LA)\n",
    "show(Eq_Gamma_TO3ers)"
   ]
  },
  {
   "cell_type": "markdown",
   "id": "ancient-support",
   "metadata": {},
   "source": [
    "```{note}\n",
    "Per als punts $K$ i $M$, sagemath (mitjançant [maxima](https://maxima.sourceforge.io/)) no obté una expressió analítica però si supossem que els 2 àtoms de la base tenen la mateixa massa  ($M_N=M_B$) podem obtindre fàcilment els valors propis de la matriu original realitzant les substitucions pertinents als resultats obtessos\n",
    "```"
   ]
  },
  {
   "cell_type": "markdown",
   "id": "fatal-destruction",
   "metadata": {},
   "source": [
    "### Al punt $M$\n",
    "En ($q_x=\\pi/a,q_y=\\pi/(\\sqrt{3} a$)"
   ]
  },
  {
   "cell_type": "code",
   "execution_count": 34,
   "id": "afraid-renaissance",
   "metadata": {
    "tags": [
     "hide-input",
     "hide-output"
    ]
   },
   "outputs": [],
   "source": [
    "D_M3ers_xy=D3ers_xy.subs(q_x=pi/a,q_y=pi/(sqrt(3)*a))\n",
    "\n",
    "D_M3ers_xy_simplificada=D_M3ers_xy.subs(M_N=M_B)\n",
    "\n",
    "Valors_propis_M3ers=D_M3ers_xy_simplificada.eigenvalues()\n",
    "\n",
    "Valors_propis_en_M3ers=[M_B*Valors_propis_M3ers[i].subs(\n",
    "    phi1rBN=phi1rBN/sqrt(M_N*M_B), phi1tiBN=phi1tiBN/sqrt(M_N*M_B), \n",
    "    phi2rBB=phi2rBB/M_B, phi2tiBB=phi2tiBB/M_B,\n",
    "    phi2rNN=phi2rNN/M_N, phi2tiNN=phi2tiNN/M_N,\n",
    "    phi3rBN=phi3rBN/sqrt(M_N*M_B), phi3tiBN=phi3tiBN/sqrt(M_N*M_B),) for i in range(4)]\n",
    "    #phi4rBN=phi4rBN/sqrt(M_N*M_B), phi4tiBN=phi4tiBN/sqrt(M_N*M_B)\n",
    "\n",
    "omega_M_LO=1320\n",
    "omega_M_TO=1292\n",
    "\n",
    "omega_M_LA=1173\n",
    "omega_M_TA=553\n",
    "#Comprobem que sí són els valors propis:\n",
    "#[det(D_M_xy-Valors_propis_en_M[i]) for i in range(4)]\n",
    "\n",
    "\n",
    "#for i in range(4):\n",
    "#    show(Valors_propis_en_M3ers[i].expand())"
   ]
  },
  {
   "cell_type": "markdown",
   "id": "pleasant-powder",
   "metadata": {},
   "source": [
    "Obtenim  4 valors propis amb arrels quadrades amb molts termes, deduirem unes altres \n",
    "expressions a partir d'estes més sencilles i intentarem obtindre relacions entre els valors de les constants per a segons veïns d'elles.\n",
    "\n",
    "Podem observar que els valors propis en M 0 i 1 (així com 2 i 3) difereixen en una arrel quadrada (negativa i per tant amb valor propi corresponent menor per a 0 i 2).\n",
    "Per una altra banda els termes de fora de l'arrel sols difereixen en 2 i 3 respecte els de 1 i 2 que els termes $\\phi_{2,r}$ ($BB$ i $NN$) van multiplicats pel factor 3 en el cas de $2$ i $3$ mentre que en $0$ i $1$ son els termes $\\phi_{2,ti}$ els que van multiplicats per 3.\n",
    "\n",
    "Supossant que les constants de força radials són més grans que les transversals per assignar cada valor propi a cada rama, puc concloure que els dos primers valors propis corresponen al menor i al major respectivament. Els 3 i 4ts don intermijos, essent el 4t major que el tercer, per tant"
   ]
  },
  {
   "cell_type": "code",
   "execution_count": 35,
   "id": "lightweight-hygiene",
   "metadata": {},
   "outputs": [
    {
     "data": {
      "text/html": [
       "<html><script type=\"math/tex; mode=display\">\\newcommand{\\Bold}[1]{\\mathbf{#1}}\\frac{1}{2} \\, \\sqrt{\\frac{9 \\, {\\phi_{1,r}^{BN}}^{2}}{M_{B} M_{N}} - \\frac{6 \\, {\\phi_{1,r}^{BN}} {\\phi_{1,ti}^{BN}}}{M_{B} M_{N}} + \\frac{{\\phi_{1,ti}^{BN}}^{2}}{M_{B} M_{N}} + \\frac{4 \\, {\\phi_{2,r}^{BB}}^{2}}{M_{B}^{2}} - \\frac{8 \\, {\\phi_{2,r}^{BB}} {\\phi_{2,r}^{NN}}}{M_{B} M_{N}} + \\frac{4 \\, {\\phi_{2,r}^{NN}}^{2}}{M_{N}^{2}} + \\frac{24 \\, {\\phi_{2,r}^{BB}} {\\phi_{2,ti}^{BB}}}{M_{B}^{2}} - \\frac{24 \\, {\\phi_{2,r}^{NN}} {\\phi_{2,ti}^{BB}}}{M_{B} M_{N}} + \\frac{36 \\, {\\phi_{2,ti}^{BB}}^{2}}{M_{B}^{2}} - \\frac{24 \\, {\\phi_{2,r}^{BB}} {\\phi_{2,ti}^{NN}}}{M_{B} M_{N}} + \\frac{24 \\, {\\phi_{2,r}^{NN}} {\\phi_{2,ti}^{NN}}}{M_{N}^{2}} - \\frac{72 \\, {\\phi_{2,ti}^{BB}} {\\phi_{2,ti}^{NN}}}{M_{B} M_{N}} + \\frac{36 \\, {\\phi_{2,ti}^{NN}}^{2}}{M_{N}^{2}} - \\frac{18 \\, {\\phi_{1,r}^{BN}} {\\phi_{3,r}^{BN}}}{M_{B} M_{N}} + \\frac{6 \\, {\\phi_{1,ti}^{BN}} {\\phi_{3,r}^{BN}}}{M_{B} M_{N}} + \\frac{9 \\, {\\phi_{3,r}^{BN}}^{2}}{M_{B} M_{N}} - \\frac{18 \\, {\\phi_{1,r}^{BN}} {\\phi_{3,ti}^{BN}}}{M_{B} M_{N}} + \\frac{6 \\, {\\phi_{1,ti}^{BN}} {\\phi_{3,ti}^{BN}}}{M_{B} M_{N}} + \\frac{18 \\, {\\phi_{3,r}^{BN}} {\\phi_{3,ti}^{BN}}}{M_{B} M_{N}} + \\frac{9 \\, {\\phi_{3,ti}^{BN}}^{2}}{M_{B} M_{N}}} - \\frac{3 \\, {\\phi_{1,r}^{BN}}}{2 \\, \\sqrt{M_{B}} \\sqrt{M_{N}}} - \\frac{3 \\, {\\phi_{1,ti}^{BN}}}{2 \\, \\sqrt{M_{B}} \\sqrt{M_{N}}} - \\frac{{\\phi_{2,r}^{BB}}}{M_{B}} - \\frac{{\\phi_{2,r}^{NN}}}{M_{N}} - \\frac{3 \\, {\\phi_{2,ti}^{BB}}}{M_{B}} - \\frac{3 \\, {\\phi_{2,ti}^{NN}}}{M_{N}} - \\frac{3 \\, {\\phi_{3,r}^{BN}}}{2 \\, \\sqrt{M_{B}} \\sqrt{M_{N}}} - \\frac{3 \\, {\\phi_{3,ti}^{BN}}}{2 \\, \\sqrt{M_{B}} \\sqrt{M_{N}}} = {\\omega(M)_{LO}}^{2}</script></html>"
      ],
      "text/latex": [
       "\\begin{math}\n",
       "\\newcommand{\\Bold}[1]{\\mathbf{#1}}\\frac{1}{2} \\, \\sqrt{\\frac{9 \\, {\\phi_{1,r}^{BN}}^{2}}{M_{B} M_{N}} - \\frac{6 \\, {\\phi_{1,r}^{BN}} {\\phi_{1,ti}^{BN}}}{M_{B} M_{N}} + \\frac{{\\phi_{1,ti}^{BN}}^{2}}{M_{B} M_{N}} + \\frac{4 \\, {\\phi_{2,r}^{BB}}^{2}}{M_{B}^{2}} - \\frac{8 \\, {\\phi_{2,r}^{BB}} {\\phi_{2,r}^{NN}}}{M_{B} M_{N}} + \\frac{4 \\, {\\phi_{2,r}^{NN}}^{2}}{M_{N}^{2}} + \\frac{24 \\, {\\phi_{2,r}^{BB}} {\\phi_{2,ti}^{BB}}}{M_{B}^{2}} - \\frac{24 \\, {\\phi_{2,r}^{NN}} {\\phi_{2,ti}^{BB}}}{M_{B} M_{N}} + \\frac{36 \\, {\\phi_{2,ti}^{BB}}^{2}}{M_{B}^{2}} - \\frac{24 \\, {\\phi_{2,r}^{BB}} {\\phi_{2,ti}^{NN}}}{M_{B} M_{N}} + \\frac{24 \\, {\\phi_{2,r}^{NN}} {\\phi_{2,ti}^{NN}}}{M_{N}^{2}} - \\frac{72 \\, {\\phi_{2,ti}^{BB}} {\\phi_{2,ti}^{NN}}}{M_{B} M_{N}} + \\frac{36 \\, {\\phi_{2,ti}^{NN}}^{2}}{M_{N}^{2}} - \\frac{18 \\, {\\phi_{1,r}^{BN}} {\\phi_{3,r}^{BN}}}{M_{B} M_{N}} + \\frac{6 \\, {\\phi_{1,ti}^{BN}} {\\phi_{3,r}^{BN}}}{M_{B} M_{N}} + \\frac{9 \\, {\\phi_{3,r}^{BN}}^{2}}{M_{B} M_{N}} - \\frac{18 \\, {\\phi_{1,r}^{BN}} {\\phi_{3,ti}^{BN}}}{M_{B} M_{N}} + \\frac{6 \\, {\\phi_{1,ti}^{BN}} {\\phi_{3,ti}^{BN}}}{M_{B} M_{N}} + \\frac{18 \\, {\\phi_{3,r}^{BN}} {\\phi_{3,ti}^{BN}}}{M_{B} M_{N}} + \\frac{9 \\, {\\phi_{3,ti}^{BN}}^{2}}{M_{B} M_{N}}} - \\frac{3 \\, {\\phi_{1,r}^{BN}}}{2 \\, \\sqrt{M_{B}} \\sqrt{M_{N}}} - \\frac{3 \\, {\\phi_{1,ti}^{BN}}}{2 \\, \\sqrt{M_{B}} \\sqrt{M_{N}}} - \\frac{{\\phi_{2,r}^{BB}}}{M_{B}} - \\frac{{\\phi_{2,r}^{NN}}}{M_{N}} - \\frac{3 \\, {\\phi_{2,ti}^{BB}}}{M_{B}} - \\frac{3 \\, {\\phi_{2,ti}^{NN}}}{M_{N}} - \\frac{3 \\, {\\phi_{3,r}^{BN}}}{2 \\, \\sqrt{M_{B}} \\sqrt{M_{N}}} - \\frac{3 \\, {\\phi_{3,ti}^{BN}}}{2 \\, \\sqrt{M_{B}} \\sqrt{M_{N}}} = {\\omega(M)_{LO}}^{2}\n",
       "\\end{math}"
      ],
      "text/plain": [
       "1/2*sqrt(9*phi1rBN^2/(M_B*M_N) - 6*phi1rBN*phi1tiBN/(M_B*M_N) + phi1tiBN^2/(M_B*M_N) + 4*phi2rBB^2/M_B^2 - 8*phi2rBB*phi2rNN/(M_B*M_N) + 4*phi2rNN^2/M_N^2 + 24*phi2rBB*phi2tiBB/M_B^2 - 24*phi2rNN*phi2tiBB/(M_B*M_N) + 36*phi2tiBB^2/M_B^2 - 24*phi2rBB*phi2tiNN/(M_B*M_N) + 24*phi2rNN*phi2tiNN/M_N^2 - 72*phi2tiBB*phi2tiNN/(M_B*M_N) + 36*phi2tiNN^2/M_N^2 - 18*phi1rBN*phi3rBN/(M_B*M_N) + 6*phi1tiBN*phi3rBN/(M_B*M_N) + 9*phi3rBN^2/(M_B*M_N) - 18*phi1rBN*phi3tiBN/(M_B*M_N) + 6*phi1tiBN*phi3tiBN/(M_B*M_N) + 18*phi3rBN*phi3tiBN/(M_B*M_N) + 9*phi3tiBN^2/(M_B*M_N)) - 3/2*phi1rBN/(sqrt(M_B)*sqrt(M_N)) - 3/2*phi1tiBN/(sqrt(M_B)*sqrt(M_N)) - phi2rBB/M_B - phi2rNN/M_N - 3*phi2tiBB/M_B - 3*phi2tiNN/M_N - 3/2*phi3rBN/(sqrt(M_B)*sqrt(M_N)) - 3/2*phi3tiBN/(sqrt(M_B)*sqrt(M_N)) == omegaMLO^2"
      ]
     },
     "metadata": {},
     "output_type": "display_data"
    },
    {
     "data": {
      "text/html": [
       "<html><script type=\"math/tex; mode=display\">\\newcommand{\\Bold}[1]{\\mathbf{#1}}\\frac{1}{2} \\, \\sqrt{\\frac{{\\phi_{1,r}^{BN}}^{2}}{M_{B} M_{N}} - \\frac{6 \\, {\\phi_{1,r}^{BN}} {\\phi_{1,ti}^{BN}}}{M_{B} M_{N}} + \\frac{9 \\, {\\phi_{1,ti}^{BN}}^{2}}{M_{B} M_{N}} + \\frac{36 \\, {\\phi_{2,r}^{BB}}^{2}}{M_{B}^{2}} - \\frac{72 \\, {\\phi_{2,r}^{BB}} {\\phi_{2,r}^{NN}}}{M_{B} M_{N}} + \\frac{36 \\, {\\phi_{2,r}^{NN}}^{2}}{M_{N}^{2}} + \\frac{24 \\, {\\phi_{2,r}^{BB}} {\\phi_{2,ti}^{BB}}}{M_{B}^{2}} - \\frac{24 \\, {\\phi_{2,r}^{NN}} {\\phi_{2,ti}^{BB}}}{M_{B} M_{N}} + \\frac{4 \\, {\\phi_{2,ti}^{BB}}^{2}}{M_{B}^{2}} - \\frac{24 \\, {\\phi_{2,r}^{BB}} {\\phi_{2,ti}^{NN}}}{M_{B} M_{N}} + \\frac{24 \\, {\\phi_{2,r}^{NN}} {\\phi_{2,ti}^{NN}}}{M_{N}^{2}} - \\frac{8 \\, {\\phi_{2,ti}^{BB}} {\\phi_{2,ti}^{NN}}}{M_{B} M_{N}} + \\frac{4 \\, {\\phi_{2,ti}^{NN}}^{2}}{M_{N}^{2}} + \\frac{6 \\, {\\phi_{1,r}^{BN}} {\\phi_{3,r}^{BN}}}{M_{B} M_{N}} - \\frac{18 \\, {\\phi_{1,ti}^{BN}} {\\phi_{3,r}^{BN}}}{M_{B} M_{N}} + \\frac{9 \\, {\\phi_{3,r}^{BN}}^{2}}{M_{B} M_{N}} + \\frac{6 \\, {\\phi_{1,r}^{BN}} {\\phi_{3,ti}^{BN}}}{M_{B} M_{N}} - \\frac{18 \\, {\\phi_{1,ti}^{BN}} {\\phi_{3,ti}^{BN}}}{M_{B} M_{N}} + \\frac{18 \\, {\\phi_{3,r}^{BN}} {\\phi_{3,ti}^{BN}}}{M_{B} M_{N}} + \\frac{9 \\, {\\phi_{3,ti}^{BN}}^{2}}{M_{B} M_{N}}} - \\frac{3 \\, {\\phi_{1,r}^{BN}}}{2 \\, \\sqrt{M_{B}} \\sqrt{M_{N}}} - \\frac{3 \\, {\\phi_{1,ti}^{BN}}}{2 \\, \\sqrt{M_{B}} \\sqrt{M_{N}}} - \\frac{3 \\, {\\phi_{2,r}^{BB}}}{M_{B}} - \\frac{3 \\, {\\phi_{2,r}^{NN}}}{M_{N}} - \\frac{{\\phi_{2,ti}^{BB}}}{M_{B}} - \\frac{{\\phi_{2,ti}^{NN}}}{M_{N}} - \\frac{3 \\, {\\phi_{3,r}^{BN}}}{2 \\, \\sqrt{M_{B}} \\sqrt{M_{N}}} - \\frac{3 \\, {\\phi_{3,ti}^{BN}}}{2 \\, \\sqrt{M_{B}} \\sqrt{M_{N}}} = {\\omega(M)_{TO}}^{2}</script></html>"
      ],
      "text/latex": [
       "\\begin{math}\n",
       "\\newcommand{\\Bold}[1]{\\mathbf{#1}}\\frac{1}{2} \\, \\sqrt{\\frac{{\\phi_{1,r}^{BN}}^{2}}{M_{B} M_{N}} - \\frac{6 \\, {\\phi_{1,r}^{BN}} {\\phi_{1,ti}^{BN}}}{M_{B} M_{N}} + \\frac{9 \\, {\\phi_{1,ti}^{BN}}^{2}}{M_{B} M_{N}} + \\frac{36 \\, {\\phi_{2,r}^{BB}}^{2}}{M_{B}^{2}} - \\frac{72 \\, {\\phi_{2,r}^{BB}} {\\phi_{2,r}^{NN}}}{M_{B} M_{N}} + \\frac{36 \\, {\\phi_{2,r}^{NN}}^{2}}{M_{N}^{2}} + \\frac{24 \\, {\\phi_{2,r}^{BB}} {\\phi_{2,ti}^{BB}}}{M_{B}^{2}} - \\frac{24 \\, {\\phi_{2,r}^{NN}} {\\phi_{2,ti}^{BB}}}{M_{B} M_{N}} + \\frac{4 \\, {\\phi_{2,ti}^{BB}}^{2}}{M_{B}^{2}} - \\frac{24 \\, {\\phi_{2,r}^{BB}} {\\phi_{2,ti}^{NN}}}{M_{B} M_{N}} + \\frac{24 \\, {\\phi_{2,r}^{NN}} {\\phi_{2,ti}^{NN}}}{M_{N}^{2}} - \\frac{8 \\, {\\phi_{2,ti}^{BB}} {\\phi_{2,ti}^{NN}}}{M_{B} M_{N}} + \\frac{4 \\, {\\phi_{2,ti}^{NN}}^{2}}{M_{N}^{2}} + \\frac{6 \\, {\\phi_{1,r}^{BN}} {\\phi_{3,r}^{BN}}}{M_{B} M_{N}} - \\frac{18 \\, {\\phi_{1,ti}^{BN}} {\\phi_{3,r}^{BN}}}{M_{B} M_{N}} + \\frac{9 \\, {\\phi_{3,r}^{BN}}^{2}}{M_{B} M_{N}} + \\frac{6 \\, {\\phi_{1,r}^{BN}} {\\phi_{3,ti}^{BN}}}{M_{B} M_{N}} - \\frac{18 \\, {\\phi_{1,ti}^{BN}} {\\phi_{3,ti}^{BN}}}{M_{B} M_{N}} + \\frac{18 \\, {\\phi_{3,r}^{BN}} {\\phi_{3,ti}^{BN}}}{M_{B} M_{N}} + \\frac{9 \\, {\\phi_{3,ti}^{BN}}^{2}}{M_{B} M_{N}}} - \\frac{3 \\, {\\phi_{1,r}^{BN}}}{2 \\, \\sqrt{M_{B}} \\sqrt{M_{N}}} - \\frac{3 \\, {\\phi_{1,ti}^{BN}}}{2 \\, \\sqrt{M_{B}} \\sqrt{M_{N}}} - \\frac{3 \\, {\\phi_{2,r}^{BB}}}{M_{B}} - \\frac{3 \\, {\\phi_{2,r}^{NN}}}{M_{N}} - \\frac{{\\phi_{2,ti}^{BB}}}{M_{B}} - \\frac{{\\phi_{2,ti}^{NN}}}{M_{N}} - \\frac{3 \\, {\\phi_{3,r}^{BN}}}{2 \\, \\sqrt{M_{B}} \\sqrt{M_{N}}} - \\frac{3 \\, {\\phi_{3,ti}^{BN}}}{2 \\, \\sqrt{M_{B}} \\sqrt{M_{N}}} = {\\omega(M)_{TO}}^{2}\n",
       "\\end{math}"
      ],
      "text/plain": [
       "1/2*sqrt(phi1rBN^2/(M_B*M_N) - 6*phi1rBN*phi1tiBN/(M_B*M_N) + 9*phi1tiBN^2/(M_B*M_N) + 36*phi2rBB^2/M_B^2 - 72*phi2rBB*phi2rNN/(M_B*M_N) + 36*phi2rNN^2/M_N^2 + 24*phi2rBB*phi2tiBB/M_B^2 - 24*phi2rNN*phi2tiBB/(M_B*M_N) + 4*phi2tiBB^2/M_B^2 - 24*phi2rBB*phi2tiNN/(M_B*M_N) + 24*phi2rNN*phi2tiNN/M_N^2 - 8*phi2tiBB*phi2tiNN/(M_B*M_N) + 4*phi2tiNN^2/M_N^2 + 6*phi1rBN*phi3rBN/(M_B*M_N) - 18*phi1tiBN*phi3rBN/(M_B*M_N) + 9*phi3rBN^2/(M_B*M_N) + 6*phi1rBN*phi3tiBN/(M_B*M_N) - 18*phi1tiBN*phi3tiBN/(M_B*M_N) + 18*phi3rBN*phi3tiBN/(M_B*M_N) + 9*phi3tiBN^2/(M_B*M_N)) - 3/2*phi1rBN/(sqrt(M_B)*sqrt(M_N)) - 3/2*phi1tiBN/(sqrt(M_B)*sqrt(M_N)) - 3*phi2rBB/M_B - 3*phi2rNN/M_N - phi2tiBB/M_B - phi2tiNN/M_N - 3/2*phi3rBN/(sqrt(M_B)*sqrt(M_N)) - 3/2*phi3tiBN/(sqrt(M_B)*sqrt(M_N)) == omegaMTO^2"
      ]
     },
     "metadata": {},
     "output_type": "display_data"
    },
    {
     "data": {
      "text/html": [
       "<html><script type=\"math/tex; mode=display\">\\newcommand{\\Bold}[1]{\\mathbf{#1}}-\\frac{1}{2} \\, \\sqrt{\\frac{{\\phi_{1,r}^{BN}}^{2}}{M_{B} M_{N}} - \\frac{6 \\, {\\phi_{1,r}^{BN}} {\\phi_{1,ti}^{BN}}}{M_{B} M_{N}} + \\frac{9 \\, {\\phi_{1,ti}^{BN}}^{2}}{M_{B} M_{N}} + \\frac{36 \\, {\\phi_{2,r}^{BB}}^{2}}{M_{B}^{2}} - \\frac{72 \\, {\\phi_{2,r}^{BB}} {\\phi_{2,r}^{NN}}}{M_{B} M_{N}} + \\frac{36 \\, {\\phi_{2,r}^{NN}}^{2}}{M_{N}^{2}} + \\frac{24 \\, {\\phi_{2,r}^{BB}} {\\phi_{2,ti}^{BB}}}{M_{B}^{2}} - \\frac{24 \\, {\\phi_{2,r}^{NN}} {\\phi_{2,ti}^{BB}}}{M_{B} M_{N}} + \\frac{4 \\, {\\phi_{2,ti}^{BB}}^{2}}{M_{B}^{2}} - \\frac{24 \\, {\\phi_{2,r}^{BB}} {\\phi_{2,ti}^{NN}}}{M_{B} M_{N}} + \\frac{24 \\, {\\phi_{2,r}^{NN}} {\\phi_{2,ti}^{NN}}}{M_{N}^{2}} - \\frac{8 \\, {\\phi_{2,ti}^{BB}} {\\phi_{2,ti}^{NN}}}{M_{B} M_{N}} + \\frac{4 \\, {\\phi_{2,ti}^{NN}}^{2}}{M_{N}^{2}} + \\frac{6 \\, {\\phi_{1,r}^{BN}} {\\phi_{3,r}^{BN}}}{M_{B} M_{N}} - \\frac{18 \\, {\\phi_{1,ti}^{BN}} {\\phi_{3,r}^{BN}}}{M_{B} M_{N}} + \\frac{9 \\, {\\phi_{3,r}^{BN}}^{2}}{M_{B} M_{N}} + \\frac{6 \\, {\\phi_{1,r}^{BN}} {\\phi_{3,ti}^{BN}}}{M_{B} M_{N}} - \\frac{18 \\, {\\phi_{1,ti}^{BN}} {\\phi_{3,ti}^{BN}}}{M_{B} M_{N}} + \\frac{18 \\, {\\phi_{3,r}^{BN}} {\\phi_{3,ti}^{BN}}}{M_{B} M_{N}} + \\frac{9 \\, {\\phi_{3,ti}^{BN}}^{2}}{M_{B} M_{N}}} - \\frac{3 \\, {\\phi_{1,r}^{BN}}}{2 \\, \\sqrt{M_{B}} \\sqrt{M_{N}}} - \\frac{3 \\, {\\phi_{1,ti}^{BN}}}{2 \\, \\sqrt{M_{B}} \\sqrt{M_{N}}} - \\frac{3 \\, {\\phi_{2,r}^{BB}}}{M_{B}} - \\frac{3 \\, {\\phi_{2,r}^{NN}}}{M_{N}} - \\frac{{\\phi_{2,ti}^{BB}}}{M_{B}} - \\frac{{\\phi_{2,ti}^{NN}}}{M_{N}} - \\frac{3 \\, {\\phi_{3,r}^{BN}}}{2 \\, \\sqrt{M_{B}} \\sqrt{M_{N}}} - \\frac{3 \\, {\\phi_{3,ti}^{BN}}}{2 \\, \\sqrt{M_{B}} \\sqrt{M_{N}}} = {\\omega(M)_{LA}}^{2}</script></html>"
      ],
      "text/latex": [
       "\\begin{math}\n",
       "\\newcommand{\\Bold}[1]{\\mathbf{#1}}-\\frac{1}{2} \\, \\sqrt{\\frac{{\\phi_{1,r}^{BN}}^{2}}{M_{B} M_{N}} - \\frac{6 \\, {\\phi_{1,r}^{BN}} {\\phi_{1,ti}^{BN}}}{M_{B} M_{N}} + \\frac{9 \\, {\\phi_{1,ti}^{BN}}^{2}}{M_{B} M_{N}} + \\frac{36 \\, {\\phi_{2,r}^{BB}}^{2}}{M_{B}^{2}} - \\frac{72 \\, {\\phi_{2,r}^{BB}} {\\phi_{2,r}^{NN}}}{M_{B} M_{N}} + \\frac{36 \\, {\\phi_{2,r}^{NN}}^{2}}{M_{N}^{2}} + \\frac{24 \\, {\\phi_{2,r}^{BB}} {\\phi_{2,ti}^{BB}}}{M_{B}^{2}} - \\frac{24 \\, {\\phi_{2,r}^{NN}} {\\phi_{2,ti}^{BB}}}{M_{B} M_{N}} + \\frac{4 \\, {\\phi_{2,ti}^{BB}}^{2}}{M_{B}^{2}} - \\frac{24 \\, {\\phi_{2,r}^{BB}} {\\phi_{2,ti}^{NN}}}{M_{B} M_{N}} + \\frac{24 \\, {\\phi_{2,r}^{NN}} {\\phi_{2,ti}^{NN}}}{M_{N}^{2}} - \\frac{8 \\, {\\phi_{2,ti}^{BB}} {\\phi_{2,ti}^{NN}}}{M_{B} M_{N}} + \\frac{4 \\, {\\phi_{2,ti}^{NN}}^{2}}{M_{N}^{2}} + \\frac{6 \\, {\\phi_{1,r}^{BN}} {\\phi_{3,r}^{BN}}}{M_{B} M_{N}} - \\frac{18 \\, {\\phi_{1,ti}^{BN}} {\\phi_{3,r}^{BN}}}{M_{B} M_{N}} + \\frac{9 \\, {\\phi_{3,r}^{BN}}^{2}}{M_{B} M_{N}} + \\frac{6 \\, {\\phi_{1,r}^{BN}} {\\phi_{3,ti}^{BN}}}{M_{B} M_{N}} - \\frac{18 \\, {\\phi_{1,ti}^{BN}} {\\phi_{3,ti}^{BN}}}{M_{B} M_{N}} + \\frac{18 \\, {\\phi_{3,r}^{BN}} {\\phi_{3,ti}^{BN}}}{M_{B} M_{N}} + \\frac{9 \\, {\\phi_{3,ti}^{BN}}^{2}}{M_{B} M_{N}}} - \\frac{3 \\, {\\phi_{1,r}^{BN}}}{2 \\, \\sqrt{M_{B}} \\sqrt{M_{N}}} - \\frac{3 \\, {\\phi_{1,ti}^{BN}}}{2 \\, \\sqrt{M_{B}} \\sqrt{M_{N}}} - \\frac{3 \\, {\\phi_{2,r}^{BB}}}{M_{B}} - \\frac{3 \\, {\\phi_{2,r}^{NN}}}{M_{N}} - \\frac{{\\phi_{2,ti}^{BB}}}{M_{B}} - \\frac{{\\phi_{2,ti}^{NN}}}{M_{N}} - \\frac{3 \\, {\\phi_{3,r}^{BN}}}{2 \\, \\sqrt{M_{B}} \\sqrt{M_{N}}} - \\frac{3 \\, {\\phi_{3,ti}^{BN}}}{2 \\, \\sqrt{M_{B}} \\sqrt{M_{N}}} = {\\omega(M)_{LA}}^{2}\n",
       "\\end{math}"
      ],
      "text/plain": [
       "-1/2*sqrt(phi1rBN^2/(M_B*M_N) - 6*phi1rBN*phi1tiBN/(M_B*M_N) + 9*phi1tiBN^2/(M_B*M_N) + 36*phi2rBB^2/M_B^2 - 72*phi2rBB*phi2rNN/(M_B*M_N) + 36*phi2rNN^2/M_N^2 + 24*phi2rBB*phi2tiBB/M_B^2 - 24*phi2rNN*phi2tiBB/(M_B*M_N) + 4*phi2tiBB^2/M_B^2 - 24*phi2rBB*phi2tiNN/(M_B*M_N) + 24*phi2rNN*phi2tiNN/M_N^2 - 8*phi2tiBB*phi2tiNN/(M_B*M_N) + 4*phi2tiNN^2/M_N^2 + 6*phi1rBN*phi3rBN/(M_B*M_N) - 18*phi1tiBN*phi3rBN/(M_B*M_N) + 9*phi3rBN^2/(M_B*M_N) + 6*phi1rBN*phi3tiBN/(M_B*M_N) - 18*phi1tiBN*phi3tiBN/(M_B*M_N) + 18*phi3rBN*phi3tiBN/(M_B*M_N) + 9*phi3tiBN^2/(M_B*M_N)) - 3/2*phi1rBN/(sqrt(M_B)*sqrt(M_N)) - 3/2*phi1tiBN/(sqrt(M_B)*sqrt(M_N)) - 3*phi2rBB/M_B - 3*phi2rNN/M_N - phi2tiBB/M_B - phi2tiNN/M_N - 3/2*phi3rBN/(sqrt(M_B)*sqrt(M_N)) - 3/2*phi3tiBN/(sqrt(M_B)*sqrt(M_N)) == omegaMLA^2"
      ]
     },
     "metadata": {},
     "output_type": "display_data"
    },
    {
     "data": {
      "text/html": [
       "<html><script type=\"math/tex; mode=display\">\\newcommand{\\Bold}[1]{\\mathbf{#1}}-\\frac{1}{2} \\, \\sqrt{\\frac{9 \\, {\\phi_{1,r}^{BN}}^{2}}{M_{B} M_{N}} - \\frac{6 \\, {\\phi_{1,r}^{BN}} {\\phi_{1,ti}^{BN}}}{M_{B} M_{N}} + \\frac{{\\phi_{1,ti}^{BN}}^{2}}{M_{B} M_{N}} + \\frac{4 \\, {\\phi_{2,r}^{BB}}^{2}}{M_{B}^{2}} - \\frac{8 \\, {\\phi_{2,r}^{BB}} {\\phi_{2,r}^{NN}}}{M_{B} M_{N}} + \\frac{4 \\, {\\phi_{2,r}^{NN}}^{2}}{M_{N}^{2}} + \\frac{24 \\, {\\phi_{2,r}^{BB}} {\\phi_{2,ti}^{BB}}}{M_{B}^{2}} - \\frac{24 \\, {\\phi_{2,r}^{NN}} {\\phi_{2,ti}^{BB}}}{M_{B} M_{N}} + \\frac{36 \\, {\\phi_{2,ti}^{BB}}^{2}}{M_{B}^{2}} - \\frac{24 \\, {\\phi_{2,r}^{BB}} {\\phi_{2,ti}^{NN}}}{M_{B} M_{N}} + \\frac{24 \\, {\\phi_{2,r}^{NN}} {\\phi_{2,ti}^{NN}}}{M_{N}^{2}} - \\frac{72 \\, {\\phi_{2,ti}^{BB}} {\\phi_{2,ti}^{NN}}}{M_{B} M_{N}} + \\frac{36 \\, {\\phi_{2,ti}^{NN}}^{2}}{M_{N}^{2}} - \\frac{18 \\, {\\phi_{1,r}^{BN}} {\\phi_{3,r}^{BN}}}{M_{B} M_{N}} + \\frac{6 \\, {\\phi_{1,ti}^{BN}} {\\phi_{3,r}^{BN}}}{M_{B} M_{N}} + \\frac{9 \\, {\\phi_{3,r}^{BN}}^{2}}{M_{B} M_{N}} - \\frac{18 \\, {\\phi_{1,r}^{BN}} {\\phi_{3,ti}^{BN}}}{M_{B} M_{N}} + \\frac{6 \\, {\\phi_{1,ti}^{BN}} {\\phi_{3,ti}^{BN}}}{M_{B} M_{N}} + \\frac{18 \\, {\\phi_{3,r}^{BN}} {\\phi_{3,ti}^{BN}}}{M_{B} M_{N}} + \\frac{9 \\, {\\phi_{3,ti}^{BN}}^{2}}{M_{B} M_{N}}} - \\frac{3 \\, {\\phi_{1,r}^{BN}}}{2 \\, \\sqrt{M_{B}} \\sqrt{M_{N}}} - \\frac{3 \\, {\\phi_{1,ti}^{BN}}}{2 \\, \\sqrt{M_{B}} \\sqrt{M_{N}}} - \\frac{{\\phi_{2,r}^{BB}}}{M_{B}} - \\frac{{\\phi_{2,r}^{NN}}}{M_{N}} - \\frac{3 \\, {\\phi_{2,ti}^{BB}}}{M_{B}} - \\frac{3 \\, {\\phi_{2,ti}^{NN}}}{M_{N}} - \\frac{3 \\, {\\phi_{3,r}^{BN}}}{2 \\, \\sqrt{M_{B}} \\sqrt{M_{N}}} - \\frac{3 \\, {\\phi_{3,ti}^{BN}}}{2 \\, \\sqrt{M_{B}} \\sqrt{M_{N}}} = {\\omega(M)_{TA}}^{2}</script></html>"
      ],
      "text/latex": [
       "\\begin{math}\n",
       "\\newcommand{\\Bold}[1]{\\mathbf{#1}}-\\frac{1}{2} \\, \\sqrt{\\frac{9 \\, {\\phi_{1,r}^{BN}}^{2}}{M_{B} M_{N}} - \\frac{6 \\, {\\phi_{1,r}^{BN}} {\\phi_{1,ti}^{BN}}}{M_{B} M_{N}} + \\frac{{\\phi_{1,ti}^{BN}}^{2}}{M_{B} M_{N}} + \\frac{4 \\, {\\phi_{2,r}^{BB}}^{2}}{M_{B}^{2}} - \\frac{8 \\, {\\phi_{2,r}^{BB}} {\\phi_{2,r}^{NN}}}{M_{B} M_{N}} + \\frac{4 \\, {\\phi_{2,r}^{NN}}^{2}}{M_{N}^{2}} + \\frac{24 \\, {\\phi_{2,r}^{BB}} {\\phi_{2,ti}^{BB}}}{M_{B}^{2}} - \\frac{24 \\, {\\phi_{2,r}^{NN}} {\\phi_{2,ti}^{BB}}}{M_{B} M_{N}} + \\frac{36 \\, {\\phi_{2,ti}^{BB}}^{2}}{M_{B}^{2}} - \\frac{24 \\, {\\phi_{2,r}^{BB}} {\\phi_{2,ti}^{NN}}}{M_{B} M_{N}} + \\frac{24 \\, {\\phi_{2,r}^{NN}} {\\phi_{2,ti}^{NN}}}{M_{N}^{2}} - \\frac{72 \\, {\\phi_{2,ti}^{BB}} {\\phi_{2,ti}^{NN}}}{M_{B} M_{N}} + \\frac{36 \\, {\\phi_{2,ti}^{NN}}^{2}}{M_{N}^{2}} - \\frac{18 \\, {\\phi_{1,r}^{BN}} {\\phi_{3,r}^{BN}}}{M_{B} M_{N}} + \\frac{6 \\, {\\phi_{1,ti}^{BN}} {\\phi_{3,r}^{BN}}}{M_{B} M_{N}} + \\frac{9 \\, {\\phi_{3,r}^{BN}}^{2}}{M_{B} M_{N}} - \\frac{18 \\, {\\phi_{1,r}^{BN}} {\\phi_{3,ti}^{BN}}}{M_{B} M_{N}} + \\frac{6 \\, {\\phi_{1,ti}^{BN}} {\\phi_{3,ti}^{BN}}}{M_{B} M_{N}} + \\frac{18 \\, {\\phi_{3,r}^{BN}} {\\phi_{3,ti}^{BN}}}{M_{B} M_{N}} + \\frac{9 \\, {\\phi_{3,ti}^{BN}}^{2}}{M_{B} M_{N}}} - \\frac{3 \\, {\\phi_{1,r}^{BN}}}{2 \\, \\sqrt{M_{B}} \\sqrt{M_{N}}} - \\frac{3 \\, {\\phi_{1,ti}^{BN}}}{2 \\, \\sqrt{M_{B}} \\sqrt{M_{N}}} - \\frac{{\\phi_{2,r}^{BB}}}{M_{B}} - \\frac{{\\phi_{2,r}^{NN}}}{M_{N}} - \\frac{3 \\, {\\phi_{2,ti}^{BB}}}{M_{B}} - \\frac{3 \\, {\\phi_{2,ti}^{NN}}}{M_{N}} - \\frac{3 \\, {\\phi_{3,r}^{BN}}}{2 \\, \\sqrt{M_{B}} \\sqrt{M_{N}}} - \\frac{3 \\, {\\phi_{3,ti}^{BN}}}{2 \\, \\sqrt{M_{B}} \\sqrt{M_{N}}} = {\\omega(M)_{TA}}^{2}\n",
       "\\end{math}"
      ],
      "text/plain": [
       "-1/2*sqrt(9*phi1rBN^2/(M_B*M_N) - 6*phi1rBN*phi1tiBN/(M_B*M_N) + phi1tiBN^2/(M_B*M_N) + 4*phi2rBB^2/M_B^2 - 8*phi2rBB*phi2rNN/(M_B*M_N) + 4*phi2rNN^2/M_N^2 + 24*phi2rBB*phi2tiBB/M_B^2 - 24*phi2rNN*phi2tiBB/(M_B*M_N) + 36*phi2tiBB^2/M_B^2 - 24*phi2rBB*phi2tiNN/(M_B*M_N) + 24*phi2rNN*phi2tiNN/M_N^2 - 72*phi2tiBB*phi2tiNN/(M_B*M_N) + 36*phi2tiNN^2/M_N^2 - 18*phi1rBN*phi3rBN/(M_B*M_N) + 6*phi1tiBN*phi3rBN/(M_B*M_N) + 9*phi3rBN^2/(M_B*M_N) - 18*phi1rBN*phi3tiBN/(M_B*M_N) + 6*phi1tiBN*phi3tiBN/(M_B*M_N) + 18*phi3rBN*phi3tiBN/(M_B*M_N) + 9*phi3tiBN^2/(M_B*M_N)) - 3/2*phi1rBN/(sqrt(M_B)*sqrt(M_N)) - 3/2*phi1tiBN/(sqrt(M_B)*sqrt(M_N)) - phi2rBB/M_B - phi2rNN/M_N - 3*phi2tiBB/M_B - 3*phi2tiNN/M_N - 3/2*phi3rBN/(sqrt(M_B)*sqrt(M_N)) - 3/2*phi3tiBN/(sqrt(M_B)*sqrt(M_N)) == omegaMTA^2"
      ]
     },
     "metadata": {},
     "output_type": "display_data"
    }
   ],
   "source": [
    "Eq_M_TA3ers = (Valors_propis_en_M3ers[0].expand() == omegaMTA^2)\n",
    "Eq_M_LO3ers = (Valors_propis_en_M3ers[1].expand() == omegaMLO^2)\n",
    "Eq_M_LA3ers = (Valors_propis_en_M3ers[2].expand() == omegaMLA^2)\n",
    "Eq_M_TO3ers = (Valors_propis_en_M3ers[3].expand() == omegaMTO^2)\n",
    "\n",
    "\n",
    "#Eq_M_TA = (Valors_propis_en_M[0].subs(Eq_Gamma_LA).expand() == omegaMTA^2)\n",
    "#Eq_M_LO = (Valors_propis_en_M[1].subs(Eq_Gamma_LA).expand() == omegaMLO^2)\n",
    "#Eq_M_TO = (Valors_propis_en_M[2].subs(Eq_Gamma_LA).expand() == omegaMTO^2)\n",
    "#Eq_M_LA = (Valors_propis_en_M[3].subs(Eq_Gamma_LA).expand() == omegaMLA^2)\n",
    "\n",
    "show(Eq_M_LO3ers)\n",
    "show(Eq_M_TO3ers)\n",
    "show(Eq_M_LA3ers)\n",
    "show(Eq_M_TA3ers)\n",
    "#Eq_M_TA_mes_M_LO3ers=(Eq_M_TA3ers + Eq_M_LO3ers)\n",
    "#show(Eq_M_TA_mes_M_LO3ers)\n",
    "#Eq_M_LA_mes_M_TO3ers=(Eq_M_LA3ers + Eq_M_TO3ers)\n",
    "#show(Eq_M_LA_mes_M_TO3ers)\n",
    "#Eq_M_LO_menys_TA3ers_quadrat=((Eq_M_LO3ers-Eq_M_TA3ers)**2).expand()\n",
    "#show(Eq_M_LO_menys_TA3ers_quadrat)\n",
    "#Eq_M_TO_menys_LA3ers_quadrat=((Eq_M_TO3ers-Eq_M_LA3ers)**2).expand()\n",
    "#show(Eq_M_TO_menys_LA3ers_quadrat)\n",
    "#Fem notar que la suma de tots els valors propis en $M$ compleix l'equació:\n",
    "#(3*Eq_M_LA_mes_M_TO3ers-Eq_M_TA_mes_M_LO3ers).subs(solve(Eq_Gamma_TO3ers,phi3rBN)).expand()\n",
    "#(Eq_M_LA_mes_M_TO-3*Eq_M_TA_mes_M_LO).subs(solve(Eq_Gamma_TO,phi3rBN)).expand()"
   ]
  },
  {
   "cell_type": "markdown",
   "id": "brutal-fitting",
   "metadata": {},
   "source": [
    "### Al punt $K$ \n",
    "En $\\left(k_x=\\frac{4\\pi}{3a}, k_y=0\\right)$"
   ]
  },
  {
   "cell_type": "code",
   "execution_count": 36,
   "id": "little-contents",
   "metadata": {
    "tags": [
     "hide-input"
    ]
   },
   "outputs": [
    {
     "data": {
      "text/html": [
       "<html><script type=\"math/tex; mode=display\">\\newcommand{\\Bold}[1]{\\mathbf{#1}}-\\frac{3 \\, {\\phi_{1,r}^{BN}}}{2 \\, \\sqrt{M_{B}} \\sqrt{M_{N}}} - \\frac{3 \\, {\\phi_{1,ti}^{BN}}}{2 \\, \\sqrt{M_{B}} \\sqrt{M_{N}}} - \\frac{9 \\, {\\phi_{2,r}^{NN}}}{2 \\, M_{N}} - \\frac{9 \\, {\\phi_{2,ti}^{NN}}}{2 \\, M_{N}} - \\frac{3 \\, {\\phi_{3,r}^{BN}}}{2 \\, \\sqrt{M_{B}} \\sqrt{M_{N}}} - \\frac{3 \\, {\\phi_{3,ti}^{BN}}}{2 \\, \\sqrt{M_{B}} \\sqrt{M_{N}}}</script></html>"
      ],
      "text/latex": [
       "\\begin{math}\n",
       "\\newcommand{\\Bold}[1]{\\mathbf{#1}}-\\frac{3 \\, {\\phi_{1,r}^{BN}}}{2 \\, \\sqrt{M_{B}} \\sqrt{M_{N}}} - \\frac{3 \\, {\\phi_{1,ti}^{BN}}}{2 \\, \\sqrt{M_{B}} \\sqrt{M_{N}}} - \\frac{9 \\, {\\phi_{2,r}^{NN}}}{2 \\, M_{N}} - \\frac{9 \\, {\\phi_{2,ti}^{NN}}}{2 \\, M_{N}} - \\frac{3 \\, {\\phi_{3,r}^{BN}}}{2 \\, \\sqrt{M_{B}} \\sqrt{M_{N}}} - \\frac{3 \\, {\\phi_{3,ti}^{BN}}}{2 \\, \\sqrt{M_{B}} \\sqrt{M_{N}}}\n",
       "\\end{math}"
      ],
      "text/plain": [
       "-3/2*phi1rBN/(sqrt(M_B)*sqrt(M_N)) - 3/2*phi1tiBN/(sqrt(M_B)*sqrt(M_N)) - 9/2*phi2rNN/M_N - 9/2*phi2tiNN/M_N - 3/2*phi3rBN/(sqrt(M_B)*sqrt(M_N)) - 3/2*phi3tiBN/(sqrt(M_B)*sqrt(M_N))"
      ]
     },
     "metadata": {},
     "output_type": "display_data"
    },
    {
     "data": {
      "text/html": [
       "<html><script type=\"math/tex; mode=display\">\\newcommand{\\Bold}[1]{\\mathbf{#1}}-\\frac{3 \\, {\\phi_{1,r}^{BN}}}{2 \\, \\sqrt{M_{B}} \\sqrt{M_{N}}} - \\frac{3 \\, {\\phi_{1,ti}^{BN}}}{2 \\, \\sqrt{M_{B}} \\sqrt{M_{N}}} - \\frac{9 \\, {\\phi_{2,r}^{BB}}}{2 \\, M_{B}} - \\frac{9 \\, {\\phi_{2,ti}^{BB}}}{2 \\, M_{B}} - \\frac{3 \\, {\\phi_{3,r}^{BN}}}{2 \\, \\sqrt{M_{B}} \\sqrt{M_{N}}} - \\frac{3 \\, {\\phi_{3,ti}^{BN}}}{2 \\, \\sqrt{M_{B}} \\sqrt{M_{N}}}</script></html>"
      ],
      "text/latex": [
       "\\begin{math}\n",
       "\\newcommand{\\Bold}[1]{\\mathbf{#1}}-\\frac{3 \\, {\\phi_{1,r}^{BN}}}{2 \\, \\sqrt{M_{B}} \\sqrt{M_{N}}} - \\frac{3 \\, {\\phi_{1,ti}^{BN}}}{2 \\, \\sqrt{M_{B}} \\sqrt{M_{N}}} - \\frac{9 \\, {\\phi_{2,r}^{BB}}}{2 \\, M_{B}} - \\frac{9 \\, {\\phi_{2,ti}^{BB}}}{2 \\, M_{B}} - \\frac{3 \\, {\\phi_{3,r}^{BN}}}{2 \\, \\sqrt{M_{B}} \\sqrt{M_{N}}} - \\frac{3 \\, {\\phi_{3,ti}^{BN}}}{2 \\, \\sqrt{M_{B}} \\sqrt{M_{N}}}\n",
       "\\end{math}"
      ],
      "text/plain": [
       "-3/2*phi1rBN/(sqrt(M_B)*sqrt(M_N)) - 3/2*phi1tiBN/(sqrt(M_B)*sqrt(M_N)) - 9/2*phi2rBB/M_B - 9/2*phi2tiBB/M_B - 3/2*phi3rBN/(sqrt(M_B)*sqrt(M_N)) - 3/2*phi3tiBN/(sqrt(M_B)*sqrt(M_N))"
      ]
     },
     "metadata": {},
     "output_type": "display_data"
    },
    {
     "data": {
      "text/html": [
       "<html><script type=\"math/tex; mode=display\">\\newcommand{\\Bold}[1]{\\mathbf{#1}}-\\frac{3}{4} \\, \\sqrt{\\frac{4 \\, {\\phi_{1,r}^{BN}}^{2}}{M_{B} M_{N}} - \\frac{8 \\, {\\phi_{1,r}^{BN}} {\\phi_{1,ti}^{BN}}}{M_{B} M_{N}} + \\frac{4 \\, {\\phi_{1,ti}^{BN}}^{2}}{M_{B} M_{N}} + \\frac{9 \\, {\\phi_{2,r}^{BB}}^{2}}{M_{B}^{2}} - \\frac{18 \\, {\\phi_{2,r}^{BB}} {\\phi_{2,r}^{NN}}}{M_{B} M_{N}} + \\frac{9 \\, {\\phi_{2,r}^{NN}}^{2}}{M_{N}^{2}} + \\frac{18 \\, {\\phi_{2,r}^{BB}} {\\phi_{2,ti}^{BB}}}{M_{B}^{2}} - \\frac{18 \\, {\\phi_{2,r}^{NN}} {\\phi_{2,ti}^{BB}}}{M_{B} M_{N}} + \\frac{9 \\, {\\phi_{2,ti}^{BB}}^{2}}{M_{B}^{2}} - \\frac{18 \\, {\\phi_{2,r}^{BB}} {\\phi_{2,ti}^{NN}}}{M_{B} M_{N}} + \\frac{18 \\, {\\phi_{2,r}^{NN}} {\\phi_{2,ti}^{NN}}}{M_{N}^{2}} - \\frac{18 \\, {\\phi_{2,ti}^{BB}} {\\phi_{2,ti}^{NN}}}{M_{B} M_{N}} + \\frac{9 \\, {\\phi_{2,ti}^{NN}}^{2}}{M_{N}^{2}} + \\frac{8 \\, {\\phi_{1,r}^{BN}} {\\phi_{3,r}^{BN}}}{M_{B} M_{N}} - \\frac{8 \\, {\\phi_{1,ti}^{BN}} {\\phi_{3,r}^{BN}}}{M_{B} M_{N}} + \\frac{4 \\, {\\phi_{3,r}^{BN}}^{2}}{M_{B} M_{N}} - \\frac{8 \\, {\\phi_{1,r}^{BN}} {\\phi_{3,ti}^{BN}}}{M_{B} M_{N}} + \\frac{8 \\, {\\phi_{1,ti}^{BN}} {\\phi_{3,ti}^{BN}}}{M_{B} M_{N}} - \\frac{8 \\, {\\phi_{3,r}^{BN}} {\\phi_{3,ti}^{BN}}}{M_{B} M_{N}} + \\frac{4 \\, {\\phi_{3,ti}^{BN}}^{2}}{M_{B} M_{N}}} - \\frac{3 \\, {\\phi_{1,r}^{BN}}}{2 \\, \\sqrt{M_{B}} \\sqrt{M_{N}}} - \\frac{3 \\, {\\phi_{1,ti}^{BN}}}{2 \\, \\sqrt{M_{B}} \\sqrt{M_{N}}} - \\frac{9 \\, {\\phi_{2,r}^{BB}}}{4 \\, M_{B}} - \\frac{9 \\, {\\phi_{2,r}^{NN}}}{4 \\, M_{N}} - \\frac{9 \\, {\\phi_{2,ti}^{BB}}}{4 \\, M_{B}} - \\frac{9 \\, {\\phi_{2,ti}^{NN}}}{4 \\, M_{N}} - \\frac{3 \\, {\\phi_{3,r}^{BN}}}{2 \\, \\sqrt{M_{B}} \\sqrt{M_{N}}} - \\frac{3 \\, {\\phi_{3,ti}^{BN}}}{2 \\, \\sqrt{M_{B}} \\sqrt{M_{N}}}</script></html>"
      ],
      "text/latex": [
       "\\begin{math}\n",
       "\\newcommand{\\Bold}[1]{\\mathbf{#1}}-\\frac{3}{4} \\, \\sqrt{\\frac{4 \\, {\\phi_{1,r}^{BN}}^{2}}{M_{B} M_{N}} - \\frac{8 \\, {\\phi_{1,r}^{BN}} {\\phi_{1,ti}^{BN}}}{M_{B} M_{N}} + \\frac{4 \\, {\\phi_{1,ti}^{BN}}^{2}}{M_{B} M_{N}} + \\frac{9 \\, {\\phi_{2,r}^{BB}}^{2}}{M_{B}^{2}} - \\frac{18 \\, {\\phi_{2,r}^{BB}} {\\phi_{2,r}^{NN}}}{M_{B} M_{N}} + \\frac{9 \\, {\\phi_{2,r}^{NN}}^{2}}{M_{N}^{2}} + \\frac{18 \\, {\\phi_{2,r}^{BB}} {\\phi_{2,ti}^{BB}}}{M_{B}^{2}} - \\frac{18 \\, {\\phi_{2,r}^{NN}} {\\phi_{2,ti}^{BB}}}{M_{B} M_{N}} + \\frac{9 \\, {\\phi_{2,ti}^{BB}}^{2}}{M_{B}^{2}} - \\frac{18 \\, {\\phi_{2,r}^{BB}} {\\phi_{2,ti}^{NN}}}{M_{B} M_{N}} + \\frac{18 \\, {\\phi_{2,r}^{NN}} {\\phi_{2,ti}^{NN}}}{M_{N}^{2}} - \\frac{18 \\, {\\phi_{2,ti}^{BB}} {\\phi_{2,ti}^{NN}}}{M_{B} M_{N}} + \\frac{9 \\, {\\phi_{2,ti}^{NN}}^{2}}{M_{N}^{2}} + \\frac{8 \\, {\\phi_{1,r}^{BN}} {\\phi_{3,r}^{BN}}}{M_{B} M_{N}} - \\frac{8 \\, {\\phi_{1,ti}^{BN}} {\\phi_{3,r}^{BN}}}{M_{B} M_{N}} + \\frac{4 \\, {\\phi_{3,r}^{BN}}^{2}}{M_{B} M_{N}} - \\frac{8 \\, {\\phi_{1,r}^{BN}} {\\phi_{3,ti}^{BN}}}{M_{B} M_{N}} + \\frac{8 \\, {\\phi_{1,ti}^{BN}} {\\phi_{3,ti}^{BN}}}{M_{B} M_{N}} - \\frac{8 \\, {\\phi_{3,r}^{BN}} {\\phi_{3,ti}^{BN}}}{M_{B} M_{N}} + \\frac{4 \\, {\\phi_{3,ti}^{BN}}^{2}}{M_{B} M_{N}}} - \\frac{3 \\, {\\phi_{1,r}^{BN}}}{2 \\, \\sqrt{M_{B}} \\sqrt{M_{N}}} - \\frac{3 \\, {\\phi_{1,ti}^{BN}}}{2 \\, \\sqrt{M_{B}} \\sqrt{M_{N}}} - \\frac{9 \\, {\\phi_{2,r}^{BB}}}{4 \\, M_{B}} - \\frac{9 \\, {\\phi_{2,r}^{NN}}}{4 \\, M_{N}} - \\frac{9 \\, {\\phi_{2,ti}^{BB}}}{4 \\, M_{B}} - \\frac{9 \\, {\\phi_{2,ti}^{NN}}}{4 \\, M_{N}} - \\frac{3 \\, {\\phi_{3,r}^{BN}}}{2 \\, \\sqrt{M_{B}} \\sqrt{M_{N}}} - \\frac{3 \\, {\\phi_{3,ti}^{BN}}}{2 \\, \\sqrt{M_{B}} \\sqrt{M_{N}}}\n",
       "\\end{math}"
      ],
      "text/plain": [
       "-3/4*sqrt(4*phi1rBN^2/(M_B*M_N) - 8*phi1rBN*phi1tiBN/(M_B*M_N) + 4*phi1tiBN^2/(M_B*M_N) + 9*phi2rBB^2/M_B^2 - 18*phi2rBB*phi2rNN/(M_B*M_N) + 9*phi2rNN^2/M_N^2 + 18*phi2rBB*phi2tiBB/M_B^2 - 18*phi2rNN*phi2tiBB/(M_B*M_N) + 9*phi2tiBB^2/M_B^2 - 18*phi2rBB*phi2tiNN/(M_B*M_N) + 18*phi2rNN*phi2tiNN/M_N^2 - 18*phi2tiBB*phi2tiNN/(M_B*M_N) + 9*phi2tiNN^2/M_N^2 + 8*phi1rBN*phi3rBN/(M_B*M_N) - 8*phi1tiBN*phi3rBN/(M_B*M_N) + 4*phi3rBN^2/(M_B*M_N) - 8*phi1rBN*phi3tiBN/(M_B*M_N) + 8*phi1tiBN*phi3tiBN/(M_B*M_N) - 8*phi3rBN*phi3tiBN/(M_B*M_N) + 4*phi3tiBN^2/(M_B*M_N)) - 3/2*phi1rBN/(sqrt(M_B)*sqrt(M_N)) - 3/2*phi1tiBN/(sqrt(M_B)*sqrt(M_N)) - 9/4*phi2rBB/M_B - 9/4*phi2rNN/M_N - 9/4*phi2tiBB/M_B - 9/4*phi2tiNN/M_N - 3/2*phi3rBN/(sqrt(M_B)*sqrt(M_N)) - 3/2*phi3tiBN/(sqrt(M_B)*sqrt(M_N))"
      ]
     },
     "metadata": {},
     "output_type": "display_data"
    },
    {
     "data": {
      "text/html": [
       "<html><script type=\"math/tex; mode=display\">\\newcommand{\\Bold}[1]{\\mathbf{#1}}\\frac{3}{4} \\, \\sqrt{\\frac{4 \\, {\\phi_{1,r}^{BN}}^{2}}{M_{B} M_{N}} - \\frac{8 \\, {\\phi_{1,r}^{BN}} {\\phi_{1,ti}^{BN}}}{M_{B} M_{N}} + \\frac{4 \\, {\\phi_{1,ti}^{BN}}^{2}}{M_{B} M_{N}} + \\frac{9 \\, {\\phi_{2,r}^{BB}}^{2}}{M_{B}^{2}} - \\frac{18 \\, {\\phi_{2,r}^{BB}} {\\phi_{2,r}^{NN}}}{M_{B} M_{N}} + \\frac{9 \\, {\\phi_{2,r}^{NN}}^{2}}{M_{N}^{2}} + \\frac{18 \\, {\\phi_{2,r}^{BB}} {\\phi_{2,ti}^{BB}}}{M_{B}^{2}} - \\frac{18 \\, {\\phi_{2,r}^{NN}} {\\phi_{2,ti}^{BB}}}{M_{B} M_{N}} + \\frac{9 \\, {\\phi_{2,ti}^{BB}}^{2}}{M_{B}^{2}} - \\frac{18 \\, {\\phi_{2,r}^{BB}} {\\phi_{2,ti}^{NN}}}{M_{B} M_{N}} + \\frac{18 \\, {\\phi_{2,r}^{NN}} {\\phi_{2,ti}^{NN}}}{M_{N}^{2}} - \\frac{18 \\, {\\phi_{2,ti}^{BB}} {\\phi_{2,ti}^{NN}}}{M_{B} M_{N}} + \\frac{9 \\, {\\phi_{2,ti}^{NN}}^{2}}{M_{N}^{2}} + \\frac{8 \\, {\\phi_{1,r}^{BN}} {\\phi_{3,r}^{BN}}}{M_{B} M_{N}} - \\frac{8 \\, {\\phi_{1,ti}^{BN}} {\\phi_{3,r}^{BN}}}{M_{B} M_{N}} + \\frac{4 \\, {\\phi_{3,r}^{BN}}^{2}}{M_{B} M_{N}} - \\frac{8 \\, {\\phi_{1,r}^{BN}} {\\phi_{3,ti}^{BN}}}{M_{B} M_{N}} + \\frac{8 \\, {\\phi_{1,ti}^{BN}} {\\phi_{3,ti}^{BN}}}{M_{B} M_{N}} - \\frac{8 \\, {\\phi_{3,r}^{BN}} {\\phi_{3,ti}^{BN}}}{M_{B} M_{N}} + \\frac{4 \\, {\\phi_{3,ti}^{BN}}^{2}}{M_{B} M_{N}}} - \\frac{3 \\, {\\phi_{1,r}^{BN}}}{2 \\, \\sqrt{M_{B}} \\sqrt{M_{N}}} - \\frac{3 \\, {\\phi_{1,ti}^{BN}}}{2 \\, \\sqrt{M_{B}} \\sqrt{M_{N}}} - \\frac{9 \\, {\\phi_{2,r}^{BB}}}{4 \\, M_{B}} - \\frac{9 \\, {\\phi_{2,r}^{NN}}}{4 \\, M_{N}} - \\frac{9 \\, {\\phi_{2,ti}^{BB}}}{4 \\, M_{B}} - \\frac{9 \\, {\\phi_{2,ti}^{NN}}}{4 \\, M_{N}} - \\frac{3 \\, {\\phi_{3,r}^{BN}}}{2 \\, \\sqrt{M_{B}} \\sqrt{M_{N}}} - \\frac{3 \\, {\\phi_{3,ti}^{BN}}}{2 \\, \\sqrt{M_{B}} \\sqrt{M_{N}}}</script></html>"
      ],
      "text/latex": [
       "\\begin{math}\n",
       "\\newcommand{\\Bold}[1]{\\mathbf{#1}}\\frac{3}{4} \\, \\sqrt{\\frac{4 \\, {\\phi_{1,r}^{BN}}^{2}}{M_{B} M_{N}} - \\frac{8 \\, {\\phi_{1,r}^{BN}} {\\phi_{1,ti}^{BN}}}{M_{B} M_{N}} + \\frac{4 \\, {\\phi_{1,ti}^{BN}}^{2}}{M_{B} M_{N}} + \\frac{9 \\, {\\phi_{2,r}^{BB}}^{2}}{M_{B}^{2}} - \\frac{18 \\, {\\phi_{2,r}^{BB}} {\\phi_{2,r}^{NN}}}{M_{B} M_{N}} + \\frac{9 \\, {\\phi_{2,r}^{NN}}^{2}}{M_{N}^{2}} + \\frac{18 \\, {\\phi_{2,r}^{BB}} {\\phi_{2,ti}^{BB}}}{M_{B}^{2}} - \\frac{18 \\, {\\phi_{2,r}^{NN}} {\\phi_{2,ti}^{BB}}}{M_{B} M_{N}} + \\frac{9 \\, {\\phi_{2,ti}^{BB}}^{2}}{M_{B}^{2}} - \\frac{18 \\, {\\phi_{2,r}^{BB}} {\\phi_{2,ti}^{NN}}}{M_{B} M_{N}} + \\frac{18 \\, {\\phi_{2,r}^{NN}} {\\phi_{2,ti}^{NN}}}{M_{N}^{2}} - \\frac{18 \\, {\\phi_{2,ti}^{BB}} {\\phi_{2,ti}^{NN}}}{M_{B} M_{N}} + \\frac{9 \\, {\\phi_{2,ti}^{NN}}^{2}}{M_{N}^{2}} + \\frac{8 \\, {\\phi_{1,r}^{BN}} {\\phi_{3,r}^{BN}}}{M_{B} M_{N}} - \\frac{8 \\, {\\phi_{1,ti}^{BN}} {\\phi_{3,r}^{BN}}}{M_{B} M_{N}} + \\frac{4 \\, {\\phi_{3,r}^{BN}}^{2}}{M_{B} M_{N}} - \\frac{8 \\, {\\phi_{1,r}^{BN}} {\\phi_{3,ti}^{BN}}}{M_{B} M_{N}} + \\frac{8 \\, {\\phi_{1,ti}^{BN}} {\\phi_{3,ti}^{BN}}}{M_{B} M_{N}} - \\frac{8 \\, {\\phi_{3,r}^{BN}} {\\phi_{3,ti}^{BN}}}{M_{B} M_{N}} + \\frac{4 \\, {\\phi_{3,ti}^{BN}}^{2}}{M_{B} M_{N}}} - \\frac{3 \\, {\\phi_{1,r}^{BN}}}{2 \\, \\sqrt{M_{B}} \\sqrt{M_{N}}} - \\frac{3 \\, {\\phi_{1,ti}^{BN}}}{2 \\, \\sqrt{M_{B}} \\sqrt{M_{N}}} - \\frac{9 \\, {\\phi_{2,r}^{BB}}}{4 \\, M_{B}} - \\frac{9 \\, {\\phi_{2,r}^{NN}}}{4 \\, M_{N}} - \\frac{9 \\, {\\phi_{2,ti}^{BB}}}{4 \\, M_{B}} - \\frac{9 \\, {\\phi_{2,ti}^{NN}}}{4 \\, M_{N}} - \\frac{3 \\, {\\phi_{3,r}^{BN}}}{2 \\, \\sqrt{M_{B}} \\sqrt{M_{N}}} - \\frac{3 \\, {\\phi_{3,ti}^{BN}}}{2 \\, \\sqrt{M_{B}} \\sqrt{M_{N}}}\n",
       "\\end{math}"
      ],
      "text/plain": [
       "3/4*sqrt(4*phi1rBN^2/(M_B*M_N) - 8*phi1rBN*phi1tiBN/(M_B*M_N) + 4*phi1tiBN^2/(M_B*M_N) + 9*phi2rBB^2/M_B^2 - 18*phi2rBB*phi2rNN/(M_B*M_N) + 9*phi2rNN^2/M_N^2 + 18*phi2rBB*phi2tiBB/M_B^2 - 18*phi2rNN*phi2tiBB/(M_B*M_N) + 9*phi2tiBB^2/M_B^2 - 18*phi2rBB*phi2tiNN/(M_B*M_N) + 18*phi2rNN*phi2tiNN/M_N^2 - 18*phi2tiBB*phi2tiNN/(M_B*M_N) + 9*phi2tiNN^2/M_N^2 + 8*phi1rBN*phi3rBN/(M_B*M_N) - 8*phi1tiBN*phi3rBN/(M_B*M_N) + 4*phi3rBN^2/(M_B*M_N) - 8*phi1rBN*phi3tiBN/(M_B*M_N) + 8*phi1tiBN*phi3tiBN/(M_B*M_N) - 8*phi3rBN*phi3tiBN/(M_B*M_N) + 4*phi3tiBN^2/(M_B*M_N)) - 3/2*phi1rBN/(sqrt(M_B)*sqrt(M_N)) - 3/2*phi1tiBN/(sqrt(M_B)*sqrt(M_N)) - 9/4*phi2rBB/M_B - 9/4*phi2rNN/M_N - 9/4*phi2tiBB/M_B - 9/4*phi2tiNN/M_N - 3/2*phi3rBN/(sqrt(M_B)*sqrt(M_N)) - 3/2*phi3tiBN/(sqrt(M_B)*sqrt(M_N))"
      ]
     },
     "metadata": {},
     "output_type": "display_data"
    }
   ],
   "source": [
    "omega_K_LO=1304\n",
    "omega_K_LA=1080\n",
    "omega_K_TA=553\n",
    "\n",
    "omega_K_TO=sqrt(omega_K_LO**2+omega_K_TA**2-omega_K_LA)\n",
    "\n",
    "D_K3ers_xy=D3ers_xy.subs(q_x=4*pi/(3*a),q_y=0)# phi4tiBN=-phi4rBN)\n",
    "D_K3ers_xy_simplificada=D_K3ers_xy.subs(M_N=M_B)\n",
    "Valors_propis_K3ers=D_K3ers_xy_simplificada.eigenvalues()\n",
    "\n",
    "Valors_propis_en_K3ers=[M_B*Valors_propis_K3ers[i].expand().subs(\n",
    "    phi1rBN=phi1rBN/sqrt(M_N*M_B), phi1tiBN=phi1tiBN/sqrt(M_N*M_B), \n",
    "    phi2rBB=phi2rBB/M_B, phi2tiBB=phi2tiBB/M_B,\n",
    "    phi2rNN=phi2rNN/M_N, phi2tiNN=phi2tiNN/M_N,\n",
    "    phi3rBN=phi3rBN/sqrt(M_N*M_B), phi3tiBN=phi3tiBN/sqrt(M_N*M_B)) for i in range(4)]\n",
    "    #phi4rBN=phi4rBN/sqrt(M_N*M_B), phi4tiBN=phi4tiBN/sqrt(M_N*M_B)) for i in range(4)]\n",
    "\n",
    "#Comprobem que sí són els valors propis:\n",
    "#[det(D_K_xy-Valors_propis_en_K[i]) for i in range(4)]\n",
    "for i in range(4):\n",
    "    show(Valors_propis_en_K3ers[i].expand())"
   ]
  },
  {
   "cell_type": "markdown",
   "id": "hairy-glance",
   "metadata": {},
   "source": [
    "Emprant un argument anàleg a l'emprat per als valors propis en $M$ assignem cada valor propi a cadascuna de les rames, de manera que:"
   ]
  },
  {
   "cell_type": "code",
   "execution_count": 37,
   "id": "defined-basis",
   "metadata": {},
   "outputs": [
    {
     "data": {
      "text/html": [
       "<html><script type=\"math/tex; mode=display\">\\newcommand{\\Bold}[1]{\\mathbf{#1}}\\frac{1}{2} \\, {\\omega(\\Gamma)_{TO}}^{2} - \\frac{9 \\, {\\phi_{2,r}^{NN}}}{2 \\, M_{N}} - \\frac{9 \\, {\\phi_{2,ti}^{NN}}}{2 \\, M_{N}} = {\\omega(K)_{LA}}^{2}</script></html>"
      ],
      "text/latex": [
       "\\begin{math}\n",
       "\\newcommand{\\Bold}[1]{\\mathbf{#1}}\\frac{1}{2} \\, {\\omega(\\Gamma)_{TO}}^{2} - \\frac{9 \\, {\\phi_{2,r}^{NN}}}{2 \\, M_{N}} - \\frac{9 \\, {\\phi_{2,ti}^{NN}}}{2 \\, M_{N}} = {\\omega(K)_{LA}}^{2}\n",
       "\\end{math}"
      ],
      "text/plain": [
       "1/2*omegaGammaTO^2 - 9/2*phi2rNN/M_N - 9/2*phi2tiNN/M_N == omegaKLA^2"
      ]
     },
     "metadata": {},
     "output_type": "display_data"
    },
    {
     "data": {
      "text/html": [
       "<html><script type=\"math/tex; mode=display\">\\newcommand{\\Bold}[1]{\\mathbf{#1}}\\frac{1}{2} \\, {\\omega(\\Gamma)_{TO}}^{2} - \\frac{9 \\, {\\phi_{2,r}^{BB}}}{2 \\, M_{B}} - \\frac{9 \\, {\\phi_{2,ti}^{BB}}}{2 \\, M_{B}} = {\\omega(K)_{TO}}^{2}</script></html>"
      ],
      "text/latex": [
       "\\begin{math}\n",
       "\\newcommand{\\Bold}[1]{\\mathbf{#1}}\\frac{1}{2} \\, {\\omega(\\Gamma)_{TO}}^{2} - \\frac{9 \\, {\\phi_{2,r}^{BB}}}{2 \\, M_{B}} - \\frac{9 \\, {\\phi_{2,ti}^{BB}}}{2 \\, M_{B}} = {\\omega(K)_{TO}}^{2}\n",
       "\\end{math}"
      ],
      "text/plain": [
       "1/2*omegaGammaTO^2 - 9/2*phi2rBB/M_B - 9/2*phi2tiBB/M_B == omegaKTO^2"
      ]
     },
     "metadata": {},
     "output_type": "display_data"
    },
    {
     "data": {
      "text/html": [
       "<html><script type=\"math/tex; mode=display\">\\newcommand{\\Bold}[1]{\\mathbf{#1}}\\frac{1}{2} \\, {\\omega(\\Gamma)_{TO}}^{2} - \\frac{1}{4} \\, \\sqrt{4 \\, {\\omega(\\Gamma)_{TO}}^{4} + \\frac{48 \\, {\\omega(\\Gamma)_{TO}}^{2} {\\phi_{1,r}^{BN}}}{\\sqrt{M_{B}} \\sqrt{M_{N}}} + \\frac{48 \\, {\\omega(\\Gamma)_{TO}}^{2} {\\phi_{3,r}^{BN}}}{\\sqrt{M_{B}} \\sqrt{M_{N}}} + \\frac{144 \\, {\\phi_{1,r}^{BN}}^{2}}{M_{B} M_{N}} + \\frac{81 \\, {\\phi_{2,r}^{BB}}^{2}}{M_{B}^{2}} - \\frac{162 \\, {\\phi_{2,r}^{BB}} {\\phi_{2,r}^{NN}}}{M_{B} M_{N}} + \\frac{81 \\, {\\phi_{2,r}^{NN}}^{2}}{M_{N}^{2}} + \\frac{162 \\, {\\phi_{2,r}^{BB}} {\\phi_{2,ti}^{BB}}}{M_{B}^{2}} - \\frac{162 \\, {\\phi_{2,r}^{NN}} {\\phi_{2,ti}^{BB}}}{M_{B} M_{N}} + \\frac{81 \\, {\\phi_{2,ti}^{BB}}^{2}}{M_{B}^{2}} - \\frac{162 \\, {\\phi_{2,r}^{BB}} {\\phi_{2,ti}^{NN}}}{M_{B} M_{N}} + \\frac{162 \\, {\\phi_{2,r}^{NN}} {\\phi_{2,ti}^{NN}}}{M_{N}^{2}} - \\frac{162 \\, {\\phi_{2,ti}^{BB}} {\\phi_{2,ti}^{NN}}}{M_{B} M_{N}} + \\frac{81 \\, {\\phi_{2,ti}^{NN}}^{2}}{M_{N}^{2}} + \\frac{288 \\, {\\phi_{1,r}^{BN}} {\\phi_{3,r}^{BN}}}{M_{B} M_{N}} + \\frac{144 \\, {\\phi_{3,r}^{BN}}^{2}}{M_{B} M_{N}}} - \\frac{9 \\, {\\phi_{2,r}^{BB}}}{4 \\, M_{B}} - \\frac{9 \\, {\\phi_{2,r}^{NN}}}{4 \\, M_{N}} - \\frac{9 \\, {\\phi_{2,ti}^{BB}}}{4 \\, M_{B}} - \\frac{9 \\, {\\phi_{2,ti}^{NN}}}{4 \\, M_{N}} = {\\omega(K)_{TA}}^{2}</script></html>"
      ],
      "text/latex": [
       "\\begin{math}\n",
       "\\newcommand{\\Bold}[1]{\\mathbf{#1}}\\frac{1}{2} \\, {\\omega(\\Gamma)_{TO}}^{2} - \\frac{1}{4} \\, \\sqrt{4 \\, {\\omega(\\Gamma)_{TO}}^{4} + \\frac{48 \\, {\\omega(\\Gamma)_{TO}}^{2} {\\phi_{1,r}^{BN}}}{\\sqrt{M_{B}} \\sqrt{M_{N}}} + \\frac{48 \\, {\\omega(\\Gamma)_{TO}}^{2} {\\phi_{3,r}^{BN}}}{\\sqrt{M_{B}} \\sqrt{M_{N}}} + \\frac{144 \\, {\\phi_{1,r}^{BN}}^{2}}{M_{B} M_{N}} + \\frac{81 \\, {\\phi_{2,r}^{BB}}^{2}}{M_{B}^{2}} - \\frac{162 \\, {\\phi_{2,r}^{BB}} {\\phi_{2,r}^{NN}}}{M_{B} M_{N}} + \\frac{81 \\, {\\phi_{2,r}^{NN}}^{2}}{M_{N}^{2}} + \\frac{162 \\, {\\phi_{2,r}^{BB}} {\\phi_{2,ti}^{BB}}}{M_{B}^{2}} - \\frac{162 \\, {\\phi_{2,r}^{NN}} {\\phi_{2,ti}^{BB}}}{M_{B} M_{N}} + \\frac{81 \\, {\\phi_{2,ti}^{BB}}^{2}}{M_{B}^{2}} - \\frac{162 \\, {\\phi_{2,r}^{BB}} {\\phi_{2,ti}^{NN}}}{M_{B} M_{N}} + \\frac{162 \\, {\\phi_{2,r}^{NN}} {\\phi_{2,ti}^{NN}}}{M_{N}^{2}} - \\frac{162 \\, {\\phi_{2,ti}^{BB}} {\\phi_{2,ti}^{NN}}}{M_{B} M_{N}} + \\frac{81 \\, {\\phi_{2,ti}^{NN}}^{2}}{M_{N}^{2}} + \\frac{288 \\, {\\phi_{1,r}^{BN}} {\\phi_{3,r}^{BN}}}{M_{B} M_{N}} + \\frac{144 \\, {\\phi_{3,r}^{BN}}^{2}}{M_{B} M_{N}}} - \\frac{9 \\, {\\phi_{2,r}^{BB}}}{4 \\, M_{B}} - \\frac{9 \\, {\\phi_{2,r}^{NN}}}{4 \\, M_{N}} - \\frac{9 \\, {\\phi_{2,ti}^{BB}}}{4 \\, M_{B}} - \\frac{9 \\, {\\phi_{2,ti}^{NN}}}{4 \\, M_{N}} = {\\omega(K)_{TA}}^{2}\n",
       "\\end{math}"
      ],
      "text/plain": [
       "1/2*omegaGammaTO^2 - 1/4*sqrt(4*omegaGammaTO^4 + 48*omegaGammaTO^2*phi1rBN/(sqrt(M_B)*sqrt(M_N)) + 48*omegaGammaTO^2*phi3rBN/(sqrt(M_B)*sqrt(M_N)) + 144*phi1rBN^2/(M_B*M_N) + 81*phi2rBB^2/M_B^2 - 162*phi2rBB*phi2rNN/(M_B*M_N) + 81*phi2rNN^2/M_N^2 + 162*phi2rBB*phi2tiBB/M_B^2 - 162*phi2rNN*phi2tiBB/(M_B*M_N) + 81*phi2tiBB^2/M_B^2 - 162*phi2rBB*phi2tiNN/(M_B*M_N) + 162*phi2rNN*phi2tiNN/M_N^2 - 162*phi2tiBB*phi2tiNN/(M_B*M_N) + 81*phi2tiNN^2/M_N^2 + 288*phi1rBN*phi3rBN/(M_B*M_N) + 144*phi3rBN^2/(M_B*M_N)) - 9/4*phi2rBB/M_B - 9/4*phi2rNN/M_N - 9/4*phi2tiBB/M_B - 9/4*phi2tiNN/M_N == omegaKTA^2"
      ]
     },
     "metadata": {},
     "output_type": "display_data"
    },
    {
     "data": {
      "text/html": [
       "<html><script type=\"math/tex; mode=display\">\\newcommand{\\Bold}[1]{\\mathbf{#1}}\\frac{1}{2} \\, {\\omega(\\Gamma)_{TO}}^{2} + \\frac{1}{4} \\, \\sqrt{4 \\, {\\omega(\\Gamma)_{TO}}^{4} + \\frac{48 \\, {\\omega(\\Gamma)_{TO}}^{2} {\\phi_{1,r}^{BN}}}{\\sqrt{M_{B}} \\sqrt{M_{N}}} + \\frac{48 \\, {\\omega(\\Gamma)_{TO}}^{2} {\\phi_{3,r}^{BN}}}{\\sqrt{M_{B}} \\sqrt{M_{N}}} + \\frac{144 \\, {\\phi_{1,r}^{BN}}^{2}}{M_{B} M_{N}} + \\frac{81 \\, {\\phi_{2,r}^{BB}}^{2}}{M_{B}^{2}} - \\frac{162 \\, {\\phi_{2,r}^{BB}} {\\phi_{2,r}^{NN}}}{M_{B} M_{N}} + \\frac{81 \\, {\\phi_{2,r}^{NN}}^{2}}{M_{N}^{2}} + \\frac{162 \\, {\\phi_{2,r}^{BB}} {\\phi_{2,ti}^{BB}}}{M_{B}^{2}} - \\frac{162 \\, {\\phi_{2,r}^{NN}} {\\phi_{2,ti}^{BB}}}{M_{B} M_{N}} + \\frac{81 \\, {\\phi_{2,ti}^{BB}}^{2}}{M_{B}^{2}} - \\frac{162 \\, {\\phi_{2,r}^{BB}} {\\phi_{2,ti}^{NN}}}{M_{B} M_{N}} + \\frac{162 \\, {\\phi_{2,r}^{NN}} {\\phi_{2,ti}^{NN}}}{M_{N}^{2}} - \\frac{162 \\, {\\phi_{2,ti}^{BB}} {\\phi_{2,ti}^{NN}}}{M_{B} M_{N}} + \\frac{81 \\, {\\phi_{2,ti}^{NN}}^{2}}{M_{N}^{2}} + \\frac{288 \\, {\\phi_{1,r}^{BN}} {\\phi_{3,r}^{BN}}}{M_{B} M_{N}} + \\frac{144 \\, {\\phi_{3,r}^{BN}}^{2}}{M_{B} M_{N}}} - \\frac{9 \\, {\\phi_{2,r}^{BB}}}{4 \\, M_{B}} - \\frac{9 \\, {\\phi_{2,r}^{NN}}}{4 \\, M_{N}} - \\frac{9 \\, {\\phi_{2,ti}^{BB}}}{4 \\, M_{B}} - \\frac{9 \\, {\\phi_{2,ti}^{NN}}}{4 \\, M_{N}} = {\\omega(K)_{LO}}^{2}</script></html>"
      ],
      "text/latex": [
       "\\begin{math}\n",
       "\\newcommand{\\Bold}[1]{\\mathbf{#1}}\\frac{1}{2} \\, {\\omega(\\Gamma)_{TO}}^{2} + \\frac{1}{4} \\, \\sqrt{4 \\, {\\omega(\\Gamma)_{TO}}^{4} + \\frac{48 \\, {\\omega(\\Gamma)_{TO}}^{2} {\\phi_{1,r}^{BN}}}{\\sqrt{M_{B}} \\sqrt{M_{N}}} + \\frac{48 \\, {\\omega(\\Gamma)_{TO}}^{2} {\\phi_{3,r}^{BN}}}{\\sqrt{M_{B}} \\sqrt{M_{N}}} + \\frac{144 \\, {\\phi_{1,r}^{BN}}^{2}}{M_{B} M_{N}} + \\frac{81 \\, {\\phi_{2,r}^{BB}}^{2}}{M_{B}^{2}} - \\frac{162 \\, {\\phi_{2,r}^{BB}} {\\phi_{2,r}^{NN}}}{M_{B} M_{N}} + \\frac{81 \\, {\\phi_{2,r}^{NN}}^{2}}{M_{N}^{2}} + \\frac{162 \\, {\\phi_{2,r}^{BB}} {\\phi_{2,ti}^{BB}}}{M_{B}^{2}} - \\frac{162 \\, {\\phi_{2,r}^{NN}} {\\phi_{2,ti}^{BB}}}{M_{B} M_{N}} + \\frac{81 \\, {\\phi_{2,ti}^{BB}}^{2}}{M_{B}^{2}} - \\frac{162 \\, {\\phi_{2,r}^{BB}} {\\phi_{2,ti}^{NN}}}{M_{B} M_{N}} + \\frac{162 \\, {\\phi_{2,r}^{NN}} {\\phi_{2,ti}^{NN}}}{M_{N}^{2}} - \\frac{162 \\, {\\phi_{2,ti}^{BB}} {\\phi_{2,ti}^{NN}}}{M_{B} M_{N}} + \\frac{81 \\, {\\phi_{2,ti}^{NN}}^{2}}{M_{N}^{2}} + \\frac{288 \\, {\\phi_{1,r}^{BN}} {\\phi_{3,r}^{BN}}}{M_{B} M_{N}} + \\frac{144 \\, {\\phi_{3,r}^{BN}}^{2}}{M_{B} M_{N}}} - \\frac{9 \\, {\\phi_{2,r}^{BB}}}{4 \\, M_{B}} - \\frac{9 \\, {\\phi_{2,r}^{NN}}}{4 \\, M_{N}} - \\frac{9 \\, {\\phi_{2,ti}^{BB}}}{4 \\, M_{B}} - \\frac{9 \\, {\\phi_{2,ti}^{NN}}}{4 \\, M_{N}} = {\\omega(K)_{LO}}^{2}\n",
       "\\end{math}"
      ],
      "text/plain": [
       "1/2*omegaGammaTO^2 + 1/4*sqrt(4*omegaGammaTO^4 + 48*omegaGammaTO^2*phi1rBN/(sqrt(M_B)*sqrt(M_N)) + 48*omegaGammaTO^2*phi3rBN/(sqrt(M_B)*sqrt(M_N)) + 144*phi1rBN^2/(M_B*M_N) + 81*phi2rBB^2/M_B^2 - 162*phi2rBB*phi2rNN/(M_B*M_N) + 81*phi2rNN^2/M_N^2 + 162*phi2rBB*phi2tiBB/M_B^2 - 162*phi2rNN*phi2tiBB/(M_B*M_N) + 81*phi2tiBB^2/M_B^2 - 162*phi2rBB*phi2tiNN/(M_B*M_N) + 162*phi2rNN*phi2tiNN/M_N^2 - 162*phi2tiBB*phi2tiNN/(M_B*M_N) + 81*phi2tiNN^2/M_N^2 + 288*phi1rBN*phi3rBN/(M_B*M_N) + 144*phi3rBN^2/(M_B*M_N)) - 9/4*phi2rBB/M_B - 9/4*phi2rNN/M_N - 9/4*phi2tiBB/M_B - 9/4*phi2tiNN/M_N == omegaKLO^2"
      ]
     },
     "metadata": {},
     "output_type": "display_data"
    }
   ],
   "source": [
    "Eq_K_LA3ers = (Valors_propis_en_K3ers[0].subs(Eq_Gamma_TO3ers.solve(phi3tiBN)).expand() == omegaKLA^2)\n",
    "Eq_K_TO3ers = (Valors_propis_en_K3ers[1].subs(Eq_Gamma_TO3ers.solve(phi3tiBN)).expand() == omegaKTO^2)\n",
    "Eq_K_TA3ers = (Valors_propis_en_K3ers[2].subs(Eq_Gamma_TO3ers.solve(phi3tiBN)).expand() == omegaKTA^2)\n",
    "Eq_K_LO3ers = (Valors_propis_en_K3ers[3].subs(Eq_Gamma_TO3ers.solve(phi3tiBN)).expand() == omegaKLO^2)\n",
    "\n",
    "Eq_KTA_mes_KLO3ers=(Eq_K_TA3ers + Eq_K_LO3ers)\n",
    "Eq_KLA_mes_KTO3ers=(Eq_K_LA3ers + Eq_K_TO3ers)\n",
    "\n",
    "show(Eq_K_LA3ers)\n",
    "show(Eq_K_TO3ers)\n",
    "show(Eq_K_TA3ers)\n",
    "show(Eq_K_LO3ers)\n",
    "\n",
    "Eq_KLO_menys_KTA_quadrat3ers=((Eq_K_LO3ers-Eq_K_TA3ers)**2).expand()\n",
    "Eq_KTO_menys_KLA_quadrat3ers=((Eq_K_TO3ers-Eq_K_LA3ers)**2).expand()\n",
    "#show(Eq_K_LA3ers.subs(constants).expand())\n",
    "#show(Eq_K_TO3ers.subs(constants).expand())\n",
    "\n",
    "#show(Eq_KLA_mes_KTO3ers.expand())\n",
    "#show(Eq_KTA_mes_KLO3ers.expand())\n",
    "#show(Eq_KLO_menys_KTA_quadrat3ers)\n",
    "#show(Eq_KTO_menys_KLA_quadrat3ers)"
   ]
  },
  {
   "cell_type": "code",
   "execution_count": 38,
   "id": "average-spice",
   "metadata": {},
   "outputs": [
    {
     "data": {
      "text/html": [
       "<html><script type=\"math/tex; mode=display\">\\newcommand{\\Bold}[1]{\\mathbf{#1}}\\left[{\\phi_{1,r}^{BN}} = 571942, {\\phi_{1,ti}^{BN}} = \\left(-4145416\\right), {\\phi_{2,r}^{BB}} = \\left(-1054848\\right), {\\phi_{2,ti}^{BB}} = \\left(-2346249\\right), {\\phi_{2,r}^{NN}} = \\left(-784388\\right), {\\phi_{2,ti}^{NN}} = 794454, {\\phi_{3,r}^{BN}} = \\left(-4557368\\right), {\\phi_{3,ti}^{BN}} = 1226866\\right]</script></html>"
      ],
      "text/latex": [
       "\\begin{math}\n",
       "\\newcommand{\\Bold}[1]{\\mathbf{#1}}\\left[{\\phi_{1,r}^{BN}} = 571942, {\\phi_{1,ti}^{BN}} = \\left(-4145416\\right), {\\phi_{2,r}^{BB}} = \\left(-1054848\\right), {\\phi_{2,ti}^{BB}} = \\left(-2346249\\right), {\\phi_{2,r}^{NN}} = \\left(-784388\\right), {\\phi_{2,ti}^{NN}} = 794454, {\\phi_{3,r}^{BN}} = \\left(-4557368\\right), {\\phi_{3,ti}^{BN}} = 1226866\\right]\n",
       "\\end{math}"
      ],
      "text/plain": [
       "[phi1rBN == 571942,\n",
       " phi1tiBN == -4145416,\n",
       " phi2rBB == -1054848,\n",
       " phi2tiBB == -2346249,\n",
       " phi2rNN == -784388,\n",
       " phi2tiNN == 794454,\n",
       " phi3rBN == -4557368,\n",
       " phi3tiBN == 1226866]"
      ]
     },
     "execution_count": 38,
     "metadata": {},
     "output_type": "execute_result"
    }
   ],
   "source": [
    "valors_numerics_pla_emprats=[omegaGammaTO==omega_Gamma_TO,\\\n",
    "                             omegaMLO==omega_M_LO,\\\n",
    "                             omegaMTO==omega_M_TO,\\\n",
    "                             omegaMLA==omega_M_LA,\\\n",
    "                             omegaMTA==omega_M_TA,\\\n",
    "                             omegaKLO==omega_K_LO,\\\n",
    "                             omegaKTO==omega_K_TO,\\\n",
    "                             omegaKLA==omega_K_LA,\\\n",
    "                             omegaKTA==omega_K_TO,\\\n",
    "                             M_B==B.mass, M_N==N.mass \\\n",
    "                            ]\n",
    "Equacionspla3ers=[Eq_Gamma_TO3ers.subs(valors_numerics_pla_emprats),\n",
    "                  Eq_M_LO3ers.subs(valors_numerics_pla_emprats),\\\n",
    "                  Eq_M_TO3ers.subs(valors_numerics_pla_emprats),\\\n",
    "                  Eq_M_LA3ers.subs(valors_numerics_pla_emprats),\\\n",
    "                  Eq_M_TA3ers.subs(valors_numerics_pla_emprats),\\\n",
    "                  Eq_K_LO3ers.subs(valors_numerics_pla_emprats),\\\n",
    "                  Eq_K_TO3ers.subs(valors_numerics_pla_emprats),\\\n",
    "                  Eq_K_LA3ers.subs(valors_numerics_pla_emprats),\\\n",
    "                  Eq_K_TA3ers.subs(valors_numerics_pla_emprats)]\n",
    "solucionspla3ers=minimize(norm(vector((Equacionspla3ers))),[1.,1.,1.,1.,1.,1.,1.,1.])\n",
    "Solucionspla3ers=[phi1rBN==round(solucionspla3ers[0]),\\\n",
    "                  phi1tiBN==round(solucionspla3ers[1]),\\\n",
    "                  phi2rBB==round(solucionspla3ers[2]),\\\n",
    "                  phi2tiBB==round(solucionspla3ers[3]),\\\n",
    "                  phi2rNN==round(solucionspla3ers[4]),\\\n",
    "                  phi2tiNN==round(solucionspla3ers[5]),\\\n",
    "                  phi3rBN==round(solucionspla3ers[6]),\\\n",
    "                  phi3tiBN==round(solucionspla3ers[7])]\n",
    "                  \n",
    "Solucionspla3ers"
   ]
  },
  {
   "cell_type": "code",
   "execution_count": 39,
   "id": "tracked-defensive",
   "metadata": {},
   "outputs": [
    {
     "data": {
      "text/html": [
       "<html><script type=\"math/tex; mode=display\">\\newcommand{\\Bold}[1]{\\mathbf{#1}}\\verb|[1597.7416|\\phantom{\\verb!x!}\\verb|+0.j|\\phantom{\\verb!x!}\\verb|1370.9395|\\phantom{\\verb!x!}\\verb|+0.j|\\phantom{\\verb!xx!}\\verb|631.928|\\phantom{\\verb!xx!}\\verb|-0.j|\\phantom{\\verb!x!}\\verb|1022.59863+0.j]|</script></html>"
      ],
      "text/latex": [
       "\\begin{math}\n",
       "\\newcommand{\\Bold}[1]{\\mathbf{#1}}\\verb|[1597.7416|\\phantom{\\verb!x!}\\verb|+0.j|\\phantom{\\verb!x!}\\verb|1370.9395|\\phantom{\\verb!x!}\\verb|+0.j|\\phantom{\\verb!xx!}\\verb|631.928|\\phantom{\\verb!xx!}\\verb|-0.j|\\phantom{\\verb!x!}\\verb|1022.59863+0.j]|\n",
       "\\end{math}"
      ],
      "text/plain": [
       "array([1597.7416 +0.j, 1370.9395 +0.j,  631.928  -0.j, 1022.59863+0.j],\n",
       "      dtype=complex64)"
      ]
     },
     "execution_count": 39,
     "metadata": {},
     "output_type": "execute_result"
    }
   ],
   "source": [
    "u,v=numpy.linalg.eig(D3ers_xy.subs(Solucionspla3ers, M_B=B.mass, M_N=N.mass, a=1, q_x=n(pi), q_y=n(pi/sqrt(3))).numpy(dtype='complex64'))\n",
    "sqrt(round(u))"
   ]
  },
  {
   "cell_type": "code",
   "execution_count": 40,
   "id": "analyzed-hormone",
   "metadata": {},
   "outputs": [
    {
     "data": {
      "text/html": [
       "<html><script type=\"math/tex; mode=display\">\\newcommand{\\Bold}[1]{\\mathbf{#1}}\\begin{array}{l}\n",
       "\\verb|[[-0.4745159|\\phantom{\\verb!x!}\\verb|-2.4558632e-17j|\\phantom{\\verb!xx!}\\verb|0.85640186+0.0000000e+00j|\\\\\n",
       "\\phantom{\\verb!xxx!}\\verb|0.15759018+5.1120665e-17j|\\phantom{\\verb!xx!}\\verb|0.12874727-1.1101456e-17j]|\\\\\n",
       "\\phantom{\\verb!x!}\\verb|[|\\phantom{\\verb!x!}\\verb|0.82188565+0.0000000e+00j|\\phantom{\\verb!xx!}\\verb|0.49444383-3.5242047e-17j|\\\\\n",
       "\\phantom{\\verb!xx!}\\verb|-0.2729542|\\phantom{\\verb!x!}\\verb|-3.6953675e-17j|\\phantom{\\verb!xx!}\\verb|0.07433227+8.0911052e-18j]|\\\\\n",
       "\\phantom{\\verb!x!}\\verb|[-0.15759018+5.0740205e-17j|\\phantom{\\verb!x!}\\verb|-0.12874727-1.1516696e-17j|\\\\\n",
       "\\phantom{\\verb!xx!}\\verb|-0.47451591+2.5669597e-17j|\\phantom{\\verb!xx!}\\verb|0.85640186+0.0000000e+00j]|\\\\\n",
       "\\phantom{\\verb!x!}\\verb|[|\\phantom{\\verb!x!}\\verb|0.2729542|\\phantom{\\verb!x!}\\verb|-3.7386353e-17j|\\phantom{\\verb!x!}\\verb|-0.07433228+8.6619161e-18j|\\\\\n",
       "\\phantom{\\verb!xxx!}\\verb|0.82188565+0.0000000e+00j|\\phantom{\\verb!xx!}\\verb|0.49444386+3.6229211e-17j]]|\n",
       "\\end{array}</script></html>"
      ],
      "text/latex": [
       "\\begin{math}\n",
       "\\newcommand{\\Bold}[1]{\\mathbf{#1}}\\begin{array}{l}\n",
       "\\verb|[[-0.4745159|\\phantom{\\verb!x!}\\verb|-2.4558632e-17j|\\phantom{\\verb!xx!}\\verb|0.85640186+0.0000000e+00j|\\\\\n",
       "\\phantom{\\verb!xxx!}\\verb|0.15759018+5.1120665e-17j|\\phantom{\\verb!xx!}\\verb|0.12874727-1.1101456e-17j]|\\\\\n",
       "\\phantom{\\verb!x!}\\verb|[|\\phantom{\\verb!x!}\\verb|0.82188565+0.0000000e+00j|\\phantom{\\verb!xx!}\\verb|0.49444383-3.5242047e-17j|\\\\\n",
       "\\phantom{\\verb!xx!}\\verb|-0.2729542|\\phantom{\\verb!x!}\\verb|-3.6953675e-17j|\\phantom{\\verb!xx!}\\verb|0.07433227+8.0911052e-18j]|\\\\\n",
       "\\phantom{\\verb!x!}\\verb|[-0.15759018+5.0740205e-17j|\\phantom{\\verb!x!}\\verb|-0.12874727-1.1516696e-17j|\\\\\n",
       "\\phantom{\\verb!xx!}\\verb|-0.47451591+2.5669597e-17j|\\phantom{\\verb!xx!}\\verb|0.85640186+0.0000000e+00j]|\\\\\n",
       "\\phantom{\\verb!x!}\\verb|[|\\phantom{\\verb!x!}\\verb|0.2729542|\\phantom{\\verb!x!}\\verb|-3.7386353e-17j|\\phantom{\\verb!x!}\\verb|-0.07433228+8.6619161e-18j|\\\\\n",
       "\\phantom{\\verb!xxx!}\\verb|0.82188565+0.0000000e+00j|\\phantom{\\verb!xx!}\\verb|0.49444386+3.6229211e-17j]]|\n",
       "\\end{array}\n",
       "\\end{math}"
      ],
      "text/plain": [
       "array([[-0.4745159 -2.4558632e-17j,  0.85640186+0.0000000e+00j,\n",
       "         0.15759018+5.1120665e-17j,  0.12874727-1.1101456e-17j],\n",
       "       [ 0.82188565+0.0000000e+00j,  0.49444383-3.5242047e-17j,\n",
       "        -0.2729542 -3.6953675e-17j,  0.07433227+8.0911052e-18j],\n",
       "       [-0.15759018+5.0740205e-17j, -0.12874727-1.1516696e-17j,\n",
       "        -0.47451591+2.5669597e-17j,  0.85640186+0.0000000e+00j],\n",
       "       [ 0.2729542 -3.7386353e-17j, -0.07433228+8.6619161e-18j,\n",
       "         0.82188565+0.0000000e+00j,  0.49444386+3.6229211e-17j]],\n",
       "      dtype=complex64)"
      ]
     },
     "execution_count": 40,
     "metadata": {},
     "output_type": "execute_result"
    }
   ],
   "source": [
    "v"
   ]
  },
  {
   "cell_type": "code",
   "execution_count": 41,
   "id": "systematic-needle",
   "metadata": {},
   "outputs": [],
   "source": [
    "#[D3ers_xy.subs(Solucionspla3ers, M_B=B.mass, M_N=N.mass, a=1).numpy() for (q_x=0.0, q_y=0)]"
   ]
  },
  {
   "cell_type": "raw",
   "id": "sixth-finnish",
   "metadata": {},
   "source": [
    "D_Gamma4ts_xy=D4ts_xy.subs(q_x=0,q_y=0)\n",
    "\n",
    "show(D_Gamma4ts_xy.eigenvalues())\n",
    " \n",
    "Eq_Gamma_TO4ts=(D_Gamma4ts_xy.eigenvalues()[0]==omegaGammaTO**2)\n",
    "\n",
    "show(Eq_Gamma_TO4ts)"
   ]
  },
  {
   "cell_type": "raw",
   "id": "artistic-paradise",
   "metadata": {},
   "source": [
    "sol_perp_num4tsn=Solucionspla3ers\n",
    "show(\\\n",
    "list_plot(\n",
    "    [round(real_part(n(sqrt(D3ers_xy.subs(sol_perp_num4tsn, M_B=B.mass, \\\n",
    "        M_N=N.mass, a=1, q_x=n(x*pi), q_y=n(x*pi/sqrt(3))).simplify_full().eigenvalues()[1])))) \\\n",
    "        for x in srange(0,1,0.1)] +\\\n",
    "    [round(real_part(n(sqrt(D3ers_xy.subs(sol_perp_num4tsn, M_B=B.mass, \\\n",
    "        M_N=N.mass, a=1, q_x=n(pi*(1+x/3)), q_y=n(pi/sqrt(3)*(1-x))).simplify_full().eigenvalues()[1])))) \\\n",
    "        for x in srange(0,1,0.1)]+\\\n",
    "    [round(real_part(n(sqrt(D3ers_xy.subs(sol_perp_num4tsn, M_B=B.mass, \\\n",
    "        M_N=N.mass, a=1, q_x=n(4*pi/3*(1-x)), q_y=0).simplify_full().eigenvalues()[1])))) \\\n",
    "        for x in srange(0,1,0.1)]) + \\\n",
    "list_plot(\n",
    "    [round(real_part(n(sqrt(D3ers_xy.subs(sol_perp_num4tsn, M_B=B.mass, \\\n",
    "        M_N=N.mass, a=1, q_x=n(x*pi), q_y=n(x*pi/sqrt(3))).simplify_full().eigenvalues()[0])))) \\\n",
    "        for x in srange(0,1,0.1)]+\n",
    "    [round(real_part(n(sqrt(D3ers_xy.subs(sol_perp_num4tsn, M_B=B.mass, \\\n",
    "        M_N=N.mass, a=1,q_x=n(pi*(1+x/3)), q_y=n(pi/sqrt(3)*(1-x))).simplify_full().eigenvalues()[0])))) \\\n",
    "        for x in srange(0,1,0.1)]+\\\n",
    "    [round(real_part(n(sqrt(D3ers_xy.subs(sol_perp_num4tsn, M_B=B.mass, \\\n",
    "        M_N=N.mass, a=1, q_x=n(4*pi/3*(1-x)), q_y=0).simplify_full().eigenvalues()[0])))) \\\n",
    "        for x in srange(0,1,0.1)]) \\\n",
    "     +line([(10,0),(10,1600)], color=\"black\")+line([(20,0),(20,1600)], color=\"black\")\\\n",
    "     +line([(30,0),(30,1600)], color=\"black\", ticks=[[0.05,10,20,30], None], \\\n",
    "        tick_formatter = [[r'$\\Gamma$', '$M$', '$K$', r'$\\Gamma$'], None])+\\\n",
    "points(zip(dades[:524,0]/524*30, dades[:524,1]), color=\"black\") +\\\n",
    "points(zip(dades[524:1048,0]/524*30, dades[524:1048,1]), color=\"black\") +\\\n",
    "points(zip(dades[1048:1572,0]/524*30, dades[1048:1572,1]), color=\"black\") +\\\n",
    "points(zip(dades[1572:2096,0]/525*30, dades[1572:2096,1]), color=\"black\") +\\\n",
    "points(zip(dades[2096:2620,0]/525*30, dades[2096:2620,1]), color=\"black\") +\\\n",
    "points(zip(dades[2620:3144,0]/525*30, dades[2620:3144,1]), color=\"black\")     \n",
    "     ,figsize=9) "
   ]
  },
  {
   "cell_type": "raw",
   "id": "amended-alert",
   "metadata": {},
   "source": [
    "show(real_part(sqrt(n(D3ers_xy.subs(Solucionspla3ers,M_B=B.mass, M_N=N.mass,a=1,q_x=0.0,q_y=0.0).eigenvalues()[3]))))\n",
    "show(real_part(sqrt(n(D3ers_xy.subs(Solucionspla3ers,M_B=B.mass, M_N=N.mass,a=1,q_x=pi,q_y=pi/sqrt(3)).eigenvalues()[3]))))"
   ]
  },
  {
   "cell_type": "raw",
   "id": "informational-chuck",
   "metadata": {},
   "source": [
    "solve([Eq_Gamma_TO3ers,Eq_K_LA3ers, Eq_K_TO3ers, Eq_KLO_menys_KTA_quadrat3ers,Eq_M_TA_mes_M_LO3ers,Eq_M_LA_mes_M_TO3ers], \\\n",
    "      [phi1rBN, phi1tiBN, phi2rBB, phi2rNN, phi2tiBB,phi3tiBN], algorithm=\"sympy\")"
   ]
  },
  {
   "cell_type": "raw",
   "id": "dynamic-johnson",
   "metadata": {
    "tags": []
   },
   "source": [
    "#solve([Eq_Gamma_TO,Eq_K_LA,Eq_K_TO,Eq_M_TA_mes_M_LO, Eq_M_LA, Eq_M_TO],\\\n",
    "#                      phi3rBN,phi2tiBB,phi2tiNN,phi2rNN,phi2rBB)\n",
    "substitucions_enplanol=\\\n",
    "[omegaGammaTO==omega_Gamma_TO, omegaMLO==omega_M_LO, omegaMTO==omega_M_TO, omegaMLA==omega_M_LA, omegaMTA==omega_M_TA,\\\n",
    " omegaKLO==omega_K_LO, omegaKTO==omega_K_TO, omegaKLA==omega_K_LA, omegaKTA==omega_K_TA,M_B==B.mass, M_N==N.mass]\n",
    "\n",
    "\n",
    "solve([Eq_Gamma_TO3ers.subs(substitucions_enplanol),\\\n",
    "     Eq_M_LO3ers.subs(substitucions_enplanol),\n",
    "     Eq_K_LO3ers.subs(substitucions_enplanol),\\\n",
    "     Eq_K_LA3ers.subs(substitucions_enplanol),\\\n",
    "     Eq_K_TO3ers.subs(substitucions_enplanol),\\\n",
    "     Eq_K_TA3ers.subs(substitucions_enplanol)],\\\n",
    "      [phi1rBN, phi1tiBN, phi2rBB, phi2rNN, phi2tiBB,phi2tiNN], algorithm=\"sympy\")\n",
    "\n",
    "\n",
    "#sol_perp_num3ersn=[(solucions_perp3ersn[0][j].lhs()==round(solucions_perp3ersn[0][j].expand().rhs(),2)\\\n",
    "#                   ) for j in range(4)] #en [1][j] tenim l'altre conjunt de solucions, pero no ajusten bé\n",
    "\n",
    "#for i in range(4): \n",
    "#    show(sol_perp_num3ersn[i])\n",
    "\n",
    "\n",
    "#solucions_in3ersn=\\\n",
    "#solve([Eq_Gamma_TO3ers,Eq_K_LA3ers, Eq_K_TO3ers,Eq_M_TA_mes_M_LO3ers],\\\n",
    "#               phi3tiBN,phi2tiBB,phi2tiNN,phi2rNN)\n",
    "#for i in range(5):\n",
    "#    show(constants[0][i].expand())\n",
    "    \n",
    "#phi2tiNN_fun_phi2rBB=constants[0][0]\n",
    "#phi2tiBB_fun_phi2rBB=constants[0][1]\n",
    "#phi2rNN_fun_phi2rBB=constants[0][2]\n",
    "#phi3tiBN_fun_3phis=constants[0][3]"
   ]
  },
  {
   "cell_type": "raw",
   "id": "referenced-theorem",
   "metadata": {},
   "source": [
    "solve([Eq_K_LA3ers.subs(substitucions_enplanol),\\\n",
    "       Eq_K_TO3ers.subs(substitucions_enplanol),\\\n",
    "       Eq_KLO_menys_KTA_quadrat3ers.subs(substitucions_enplanol),\\\n",
    "       (3*Eq_M_LA_mes_M_TO3ers-Eq_M_TA_mes_M_LO3ers).subs(substitucions_enplanol)],\\\n",
    "       [phi2tiBB,phi2tiNN,phi3rBN,phi3tiBN], algorithm=\"maxima\")"
   ]
  },
  {
   "cell_type": "raw",
   "id": "civil-school",
   "metadata": {
    "tags": []
   },
   "source": [
    "#((Eq_K_LO3ers.subs(constants).expand()-Eq_K_TA3ers.subs(constants).expand())**2).solve(phi3rBN)[0]\n",
    "#show(((Eq_M_LO3ers-Eq_M_TA3ers)**2).subs(constants[0]).expand().solve(phi2rBB)[0])\n",
    "assume(omegaMLO^2-omegaMTA^2>0)\n",
    "show(Eq_M_LO3ers.subs(constants[0]).expand().solve(phi1rBN))"
   ]
  },
  {
   "cell_type": "raw",
   "id": "hungarian-consequence",
   "metadata": {},
   "source": [
    "((Eq_K_TA-Eq_K_LO)**2).subs(constants).expand()"
   ]
  },
  {
   "cell_type": "raw",
   "id": "requested-canberra",
   "metadata": {},
   "source": [
    "((Eq_M_LO-Eq_M_TA)**2).subs(constants).expand()"
   ]
  },
  {
   "cell_type": "raw",
   "id": "scheduled-cornell",
   "metadata": {},
   "source": [
    "((Eq_M_TO-Eq_M_LA)**2).subs(constants).expand()"
   ]
  },
  {
   "cell_type": "raw",
   "id": "horizontal-failing",
   "metadata": {},
   "source": [
    "(((Eq_M_LO-Eq_M_TA)**2).subs(constants).expand())-\\\n",
    "(((Eq_M_TO-Eq_M_LA)**2).subs(constants).expand())"
   ]
  },
  {
   "cell_type": "raw",
   "id": "grave-services",
   "metadata": {},
   "source": [
    "constants=solve([Eq_Gamma_TO,Eq_M_LA,Eq_M_TA,Eq_K_TO],\\\n",
    "                phi3rBN,phi2rNN,phi2tiNN,phi2tiBB)\n",
    "for i in range(4):\n",
    "    show(constants[0][i].expand())"
   ]
  },
  {
   "cell_type": "raw",
   "id": "dental-mumbai",
   "metadata": {},
   "source": [
    "Observem que els valors propis compleixen l'equació:"
   ]
  },
  {
   "cell_type": "raw",
   "id": "least-burke",
   "metadata": {},
   "source": [
    "Eq_freq_K3ers=((Eq_K_LO3ers+Eq_K_TA3ers).rhs()==(Eq_K_TO3ers+Eq_K_LA3ers).rhs())\n",
    "Eq_freq_K3ers"
   ]
  },
  {
   "cell_type": "raw",
   "id": "alive-blair",
   "metadata": {},
   "source": [
    "Per poder calcular les constants de força necessitem que es complisca esta equació,"
   ]
  },
  {
   "cell_type": "raw",
   "id": "adult-token",
   "metadata": {},
   "source": [
    "omega_K_LO=1304\n",
    "#omega_K_TO=1204\n",
    "omega_K_LA=1080\n",
    "omega_K_TA=878\n",
    "\n",
    "omega_K_TO=sqrt(omega_K_LO**2+omega_K_TA**2-omega_K_LA**2)\n",
    "#show(EqKTO)"
   ]
  },
  {
   "cell_type": "raw",
   "id": "alpha-imperial",
   "metadata": {},
   "source": [
    "assume((-9*omegaMTA^2)-9*omegaMLO^2-18*omegaMLA^2\\\n",
    "                           +16*omegaKTO^2+16*omegaKLA^2\\\n",
    "                            +2*omegaGammaTO^2 >0)\n",
    "#freq_num=[omegaGammaTO==omega_Gamma_TO,\\\n",
    "#    omegaMLO==omega_M_LO, omegaMTO==omega_M_TO, omegaMLA==omega_M_LA, omegaMTA==omega_M_TA,\\\n",
    "#    omegaKLO==omega_K_LO, omegaKTO==omega_K_TO, omegaKLA==omega_K_LA, omegaKTA==omega_K_TA]\n",
    "#show(freq_num)\n",
    "simplificacions=solve([Eq_Gamma_TO,\\\n",
    "                       Eq_Gamma_LA,\\\n",
    "                       Eq_M_TA_mes_M_LO,\\\n",
    "                       Eq_M_LA_mes_M_TO],\\\n",
    "                       #Eq_KLA_mes_KTO,\\\n",
    "                       #Eq_K_TA,\\\n",
    "                       #Eq_M_LO,\\\n",
    "                       #Eq_KTA_mes_KLO]\\\n",
    "                       #Eq_M_TO],\\\n",
    "                       # Eq_M_TA,\\\n",
    "                       # Eq_M_LA],\n",
    "   phi3tiBN,phi2tiBB,phi2tiNN, phi4tiBN)\n",
    "#simplificacions=solve([Eq_Gamma_TO,Eq_K_LA,Eq_K_TO,Eq_M_TA_mes_M_LO, Eq_M_LA, Eq_M_TO],\\\n",
    "#                      phi3rBN,phi2tiBB,phi2tiNN,phi2rNN,phi2rBB)\n",
    "simplificacions    \n",
    "#for i in range(4):\n",
    "#    show(simplificacions[0][i].expand())\n",
    "\n",
    "    \n",
    "#Eq_M_TA_mes_M_LO"
   ]
  },
  {
   "cell_type": "raw",
   "id": "animated-insurance",
   "metadata": {},
   "source": [
    "#assume((-9*omegaMTA^2)-9*omegaMLO^2-18*omegaMLA^2\\\n",
    "#                           +16*omegaKTO^2+16*omegaKLA^2\\\n",
    "#                            +2*omegaGammaTO^2 >0)\n",
    "freq_num=[omegaGammaTO==omega_Gamma_TO,\\\n",
    "    omegaMLO==omega_M_LO, omegaMTO==omega_M_TO, omegaMLA==omega_M_LA, omegaMTA==omega_M_TA,\\\n",
    "    omegaKLO==omega_K_LO, omegaKTO==omega_K_TO, omegaKLA==omega_K_LA, omegaKTA==omega_K_TA]\n",
    "#show(freq_num)\n",
    "#simplificacions=solve([Eq_Gamma_TO.subs(freq_num),\\\n",
    "#                       Eq_Gamma_LA.subs(freq_num),\\\n",
    "#                       Eq_K_LO.subs(freq_num),\\\n",
    "#                       Eq_K_TO.subs(freq_num),\\\n",
    "#                       Eq_K_LA.subs(freq_num),\\\n",
    "#                       Eq_K_TA.subs(freq_num),\\\n",
    "#                       Eq_M_LO.subs(freq_num),\\\n",
    "#                       Eq_M_TO.subs(freq_num),\\\n",
    "#                       Eq_M_TA.subs(freq_num),\\ \n",
    "#                       Eq_M_LA.subs(freq_num)],\n",
    "#   phi1rBN,phi3tiBN,phi2rBB,phi2tiBB,phi2rNN,phi2tiNN,phi3rBN,phi3tiBN,phi4rBN,phi4tiBN)\n",
    "simplificacions=solve([Eq_Gamma_TO3ers,Eq_K_LA3ers,Eq_K_TO3ers,Eq_M_TA_mes_M_LO3ers, Eq_M_LA3ers, Eq_M_TO3ers],\\\n",
    "                      phi3rBN,phi2tiBB,phi2tiNN,phi2rNN,phi2rBB)\n",
    "simplificacions    \n",
    "#for i in range(4):\n",
    "#    show(simplificacions[0][i].expand())\n",
    "\n",
    "    \n",
    "#Eq_M_TA_mes_M_LO"
   ]
  },
  {
   "cell_type": "raw",
   "id": "roman-puppy",
   "metadata": {},
   "source": [
    "(-9*omega_M_TA^2)-9*omega_M_LO^2-18*omega_M_LA^2\\\n",
    "                           +16*omega_K_TO^2+16*omega_K_LA^2\\\n",
    "                            +2*omega_Gamma_TO^2\n",
    "#Eq_M_LA.subs(simplificacions[0]).expand().solve(phi2rBB)"
   ]
  },
  {
   "cell_type": "raw",
   "id": "arabic-disease",
   "metadata": {},
   "source": [
    "show(Eq_K_TO+Eq_K_LA)\n",
    "#show(Eq_K_LO+Eq_K_TA)\n",
    "#show(Eq_K_LO-Eq_K_TA)"
   ]
  },
  {
   "cell_type": "raw",
   "id": "unexpected-fields",
   "metadata": {},
   "source": [
    "Eq_K_LO"
   ]
  },
  {
   "cell_type": "raw",
   "id": "documented-priority",
   "metadata": {},
   "source": [
    "Eq_K_TA"
   ]
  },
  {
   "cell_type": "raw",
   "id": "artistic-stanford",
   "metadata": {},
   "source": [
    "show(solve([Eq_K_LO],phi2tiNN)[0])\n",
    "show(solve([Eq_K_TA],phi2tiBB)[0])\n",
    "show(solve(Eq10,phi2tiNN)[0])\n",
    "show(solve(Eq11,phi2rBB)[0])"
   ]
  },
  {
   "cell_type": "raw",
   "id": "musical-scotland",
   "metadata": {},
   "source": [
    "show(solve(Eq10,phi2tiNN)[0])Eq25=Eq13+Eq12\n",
    "Eq26=Eq13-Eq12\n",
    "show(Eq8)\n",
    "show(Eq9)\n",
    "show(Eq25)\n",
    "show(Eq26)"
   ]
  },
  {
   "cell_type": "raw",
   "id": "automated-thinking",
   "metadata": {},
   "source": [
    "Eq_K_TO_mes_K_LA=Eq_K_TO+Eq_K_LA\n",
    "show(Eq_K_TO_mes_K_LA)"
   ]
  },
  {
   "cell_type": "raw",
   "id": "suitable-printer",
   "metadata": {},
   "source": [
    "Eq_K_LO_mes_K_TA=Eq_K_LO+Eq_K_TA"
   ]
  },
  {
   "cell_type": "raw",
   "id": "charged-crowd",
   "metadata": {},
   "source": [
    "(Eq25+Eq26).solve(phi2tiBB)"
   ]
  },
  {
   "cell_type": "raw",
   "id": "pending-cartoon",
   "metadata": {},
   "source": [
    "Eq14=(Eq_K_TO+Eq_K_LA).expand()\n",
    "show(Eq14)"
   ]
  },
  {
   "cell_type": "raw",
   "id": "distinct-german",
   "metadata": {},
   "source": [
    "solve([Eq_M_LA_mes_,Eq13,Eq14,Eq_freq_K],phi3rBN,phi3tiBN,phi2rBB,phi2rNN)"
   ]
  },
  {
   "cell_type": "raw",
   "id": "generous-lawsuit",
   "metadata": {},
   "source": [
    "bool((Eq_K_LO+Eq_K_TA).expand().lhs()==(Eq_K_TO+Eq_K_LA).expand().lhs())"
   ]
  },
  {
   "cell_type": "raw",
   "id": "cardiovascular-georgia",
   "metadata": {
    "tags": [
     "hide-input"
    ]
   },
   "source": [
    "#Eq_K_5i6=(D_K_xy_0.eigenvalues()[2]==omega_K_2**2)\n",
    "#Eq_K_3=(D_K_xy_0.eigenvalues()[1]==omega_K_3**2)\n",
    "#Eq_K_2=(D_K_xy_0.eigenvalues()[0]==omega_K_2**2)\n",
    "#Eq8=solve((solve(Eq_K_5i6,phi3rBN)[0].subs(M_B=B.mass,M_N=N.mass).rhs()-solve(Eq_Gamma_5i6,\n",
    "#    phi3rBN)[0].subs(M_B=B.mass,M_N=N.mass).rhs()==0),phi2rBB)[0].subs(M_B=B.mass,M_N=N.mass)\n",
    "#show(Eq8)\n",
    "#solve((Eq_K_3+Eq_K_2).expand().subs(Eq7,M_B=B.mass), phi2rBB)"
   ]
  },
  {
   "cell_type": "raw",
   "id": "mighty-physiology",
   "metadata": {
    "tags": [
     "hide-input"
    ]
   },
   "source": [
    "#(Valors_propis_de_K[0].expand()+Valors_propis_de_K[1]).expand()"
   ]
  },
  {
   "cell_type": "raw",
   "id": "statewide-artwork",
   "metadata": {
    "tags": [
     "hide-input"
    ]
   },
   "source": [
    "#(Valors_propis_de_K[2].expand()+Valors_propis_de_K[3]).expand()"
   ]
  },
  {
   "cell_type": "raw",
   "id": "smart-valve",
   "metadata": {
    "tags": [
     "hide-input"
    ]
   },
   "source": [
    "#(Valors_propis_de_K[0]-Valors_propis_de_K[1]).expand()"
   ]
  },
  {
   "cell_type": "raw",
   "id": "checked-contemporary",
   "metadata": {
    "tags": [
     "hide-input"
    ]
   },
   "source": [
    "#(Valors_propis_de_M[0]+Valors_propis_de_M[1]).expand()- (\n",
    "#    Valors_propis_de_M[2]+Valors_propis_de_M[3]).expand() + 8/9*((Valors_propis_de_K[0]-Valors_propis_de_K[1]).expand())"
   ]
  },
  {
   "cell_type": "raw",
   "id": "provincial-marriage",
   "metadata": {
    "tags": [
     "hide-input"
    ]
   },
   "source": [
    "solve([Eq_Gamma_TO,Eq8,Eq9,Eq10,Eq11,Eq12],\n",
    "      phi1rBN,phi1tiBN,phi2rBB,phi2rNN,phi2tiNN,phi2tiBB)"
   ]
  },
  {
   "cell_type": "markdown",
   "id": "large-louisville",
   "metadata": {},
   "source": [
    "{% bibliography %}"
   ]
  },
  {
   "cell_type": "code",
   "execution_count": null,
   "id": "sporting-impossible",
   "metadata": {},
   "outputs": [],
   "source": []
  }
 ],
 "metadata": {
  "jupytext": {
   "text_representation": {
    "extension": ".md",
    "format_name": "myst",
    "format_version": 0.13,
    "jupytext_version": "1.10.3"
   }
  },
  "kernelspec": {
   "display_name": "SageMath 9.2",
   "language": "sage",
   "name": "sagemath"
  },
  "language_info": {
   "codemirror_mode": {
    "name": "ipython",
    "version": 3
   },
   "file_extension": ".py",
   "mimetype": "text/x-python",
   "name": "python",
   "nbconvert_exporter": "python",
   "pygments_lexer": "ipython3",
   "version": "3.9.2"
  },
  "source_map": [
   12,
   20,
   25,
   47,
   55,
   61,
   65,
   72,
   80,
   95,
   104,
   114,
   120,
   137,
   189,
   239,
   433,
   441,
   468,
   472,
   480,
   490,
   494,
   498,
   502,
   505,
   511,
   541,
   545,
   550,
   563,
   568,
   575,
   578,
   582,
   587,
   591,
   596,
   601,
   614,
   619,
   630,
   634,
   647,
   653,
   659,
   666,
   675,
   711,
   715,
   719,
   728,
   731,
   735,
   768,
   772,
   790,
   794,
   804,
   840,
   863,
   867,
   872,
   894,
   898,
   906,
   914,
   918,
   928,
   934,
   939,
   966,
   976,
   1003,
   1008,
   1032,
   1036,
   1061,
   1095,
   1100,
   1104,
   1108,
   1118,
   1153,
   1158,
   1163,
   1201,
   1209,
   1218,
   1222,
   1226,
   1230,
   1235,
   1242,
   1246,
   1251,
   1255,
   1265,
   1295,
   1324,
   1331,
   1337,
   1341,
   1345,
   1352,
   1361,
   1366,
   1370,
   1374,
   1379,
   1383,
   1387,
   1399,
   1405,
   1411,
   1417,
   1424,
   1429,
   1433
  ]
 },
 "nbformat": 4,
 "nbformat_minor": 5
}